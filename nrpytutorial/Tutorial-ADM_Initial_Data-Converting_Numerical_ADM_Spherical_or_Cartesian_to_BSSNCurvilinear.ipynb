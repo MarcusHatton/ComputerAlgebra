{
 "cells": [
  {
   "cell_type": "markdown",
   "metadata": {},
   "source": [
    "# Converting *Numerical* ADM Initial Data in the Spherical or Cartesian Basis to BSSN Initial Data in the Desired Curvilinear Basis\n",
    "## Author: Zach Etienne\n",
    "### Formatting improvements courtesy Brandon Clark\n",
    "\n",
    "[comment]: <> (Abstract: TODO)\n",
    "\n",
    "### This module is meant for use only with initial data that can be represented numerically in ADM form, either in the Spherical or Cartesian basis. I.e., the ADM variables are given $\\left\\{\\gamma_{ij}, K_{ij}, \\alpha, \\beta^i\\right\\}$ *numerically* as functions of $(r,\\theta,\\phi)$ or $(x,y,z)$; e.g., through an initial data solver. If instead the ADM initial data are provided as exact (algebraic) functions of $(r,\\theta,\\phi)$ or $(x,y,z)$, then is is better to use [the Exact-ADM-Spherical/Cartesian-to-BSSNCurvilinear module](Tutorial-ADM_Initial_Data-Converting_Exact_ADM_Spherical_or_Cartesian_to_BSSNCurvilinear.ipynb) instead.\n",
    "\n",
    "**Notebook Status:** <font color='orange'><b> Self-Validated </b></font>\n",
    "\n",
    "**Validation Notes:** This tutorial notebook has been confirmed to be self-consistent with its corresponding NRPy+ module, as documented [below](#code_validation). **Additional validation tests may have been performed, but are as yet, undocumented. (TODO)**\n",
    "\n",
    "### NRPy+ Source Code for this module: [BSSN/ADM_Numerical_Spherical_or_Cartesian_to_BSSNCurvilinearID.py](../edit/BSSN/ADM_Numerical_Spherical_or_Cartesian_to_BSSNCurvilinearID.py)\n",
    "\n",
    "\n",
    "\n",
    "## Introduction:\n",
    "Given the ADM variables:\n",
    "\n",
    "$$\\left\\{\\gamma_{ij}, K_{ij}, \\alpha, \\beta^i, B^i\\right\\}$$\n",
    "\n",
    "in the Spherical or Cartesian basis, and as functions of $(r,\\theta,\\phi)$ or $(x,y,z)$, respectively, this module documents their conversion to the BSSN variables\n",
    "\n",
    "$$\\left\\{\\bar{\\gamma}_{i j},\\bar{A}_{i j},\\phi, K, \\bar{\\Lambda}^{i}, \\alpha, \\beta^i, B^i\\right\\},$$ \n",
    "\n",
    "in the desired curvilinear basis (given by `reference_metric::CoordSystem`). Then it rescales the resulting BSSNCurvilinear variables (as defined in [the BSSN Curvilinear tutorial](Tutorial-BSSNCurvilinear.ipynb)) into the form needed for BSSNCurvilinear evolutions:\n",
    "\n",
    "$$\\left\\{h_{i j},a_{i j},\\phi, K, \\lambda^{i}, \\alpha, \\mathcal{V}^i, \\mathcal{B}^i\\right\\}.$$ \n",
    "\n",
    "We will use as our core example in this module UIUC initial data, which are ([as documented in their NRPy+ initial data module](Tutorial-ADM_Initial_Data-UIUC_BlackHole.ipynb)) given in terms of ADM variables in Spherical coordinates."
   ]
  },
  {
   "cell_type": "markdown",
   "metadata": {},
   "source": [
    "<a id='toc'></a>\n",
    "\n",
    "# Table of Contents\n",
    "$$\\label{toc}$$ \n",
    "\n",
    "This notebook is organized as follows\n",
    "\n",
    "1. [Step 1](#initializenrpy): Initialize core Python/NRPy+ modules\n",
    "1. [Step 2](#cylindrical): Desired output BSSN Curvilinear coordinate system set to Cylindrical, as a proof-of-principle\n",
    "1. [Step 3](#admxx0xx1xx2): Make ADM variables functions of ${\\rm xx0},{\\rm xx1},{\\rm xx2}$ instead of functions of Cartesian or Spherical coordinates\n",
    "1. [Step 4](#adm_jacobian): Applying Jacobian transformations to get in the correct `xx0,xx1,xx2` basis\n",
    "1. [Step 5](#adm2bssn): Call functions within [`BSSN.BSSN_in_terms_of_ADM`](../edit/BSSN/BSSN_in_terms_of_ADM.py) ([**tutorial**](Tutorial-BSSN_in_terms_of_ADM.ipynb)) to perform the ADM-to-BSSN conversion for all BSSN quantities *except* $\\lambda^i$\n",
    "1. [Step 6](#adm2bssn_c): Output all ADM-to-BSSN expressions to a C function \n",
    "    1. [Step 6.a](#driver): Output the driver function for the above C function\n",
    "1. [Step 7](#lambda): Compute $\\bar{\\Lambda}^i$ from finite-difference derivatives of rescaled metric quantities\n",
    "1. [Step 8](#code_validation): Code Validation against `BSSN.ADM_Numerical_Spherical_or_Cartesian_to_BSSNCurvilinear` NRPy+ module\n",
    "1. [Step 9](#latex_pdf_output): Output this notebook to $\\LaTeX$-formatted PDF file"
   ]
  },
  {
   "cell_type": "markdown",
   "metadata": {},
   "source": [
    "<a id='initializenrpy'></a>\n",
    "\n",
    "# Step 1: Initialize core Python/NRPy+ modules \\[Back to [top](#toc)\\]\n",
    "$$\\label{initializenrpy}$$"
   ]
  },
  {
   "cell_type": "code",
   "execution_count": 1,
   "metadata": {
    "execution": {
     "iopub.execute_input": "2021-03-07T17:06:01.842692Z",
     "iopub.status.busy": "2021-03-07T17:06:01.841894Z",
     "iopub.status.idle": "2021-03-07T17:06:02.167348Z",
     "shell.execute_reply": "2021-03-07T17:06:02.167854Z"
    }
   },
   "outputs": [],
   "source": [
    "# Step 1: Initialize core Python/NRPy+ modules\n",
    "from outputC import outCfunction,outputC,lhrh # NRPy+: Core C code output module\n",
    "import NRPy_param_funcs as par    # NRPy+: Parameter interface\n",
    "import sympy as sp                # SymPy: The Python computer algebra package upon which NRPy+ depends\n",
    "import finite_difference as fin   # NRPy+: Finite difference C code generation module\n",
    "import grid as gri                # NRPy+: Functions having to do with numerical grids\n",
    "import indexedexp as ixp          # NRPy+: Symbolic indexed expression (e.g., tensors, vectors, etc.) support\n",
    "import reference_metric as rfm    # NRPy+: Reference metric support\n",
    "import BSSN.BSSN_quantities as Bq # NRPy+: Computes useful BSSN quantities; e.g., gammabarUU & GammabarUDD needed below\n",
    "import cmdline_helper as cmd      # NRPy+: Multi-platform Python command-line interface\n",
    "import os, shutil, sys            # Standard Python modules for multiplatform OS-level functions\n",
    "\n",
    "# Step 1.a: Create output directory for C codes generated by this tutorial:\n",
    "Ccodesdir = os.path.join(\"numerical_ADM_to_BSSN_Ccodes/\")\n",
    "# First remove C code output directory if it exists\n",
    "# Courtesy https://stackoverflow.com/questions/303200/how-do-i-remove-delete-a-folder-that-is-not-empty\n",
    "# !rm -r ScalarWaveCurvilinear_Playground_Ccodes\n",
    "shutil.rmtree(Ccodesdir, ignore_errors=True)\n",
    "# Then create a fresh directory\n",
    "cmd.mkdir(Ccodesdir)\n",
    "\n",
    "# Step 1.b: Create output directory for C codes generated by the corresponding NRPy+ Python module,\n",
    "#           BSSN.ADM_Numerical_Spherical_or_Cartesian_to_BSSNCurvilinear\n",
    "PyModCcodesdir = os.path.join(\"numerical_ADM_to_BSSN_Ccodes/PyMod/\")\n",
    "# First remove C code output directory if it exists\n",
    "# Courtesy https://stackoverflow.com/questions/303200/how-do-i-remove-delete-a-folder-that-is-not-empty\n",
    "# !rm -r ScalarWaveCurvilinear_Playground_Ccodes\n",
    "shutil.rmtree(PyModCcodesdir, ignore_errors=True)\n",
    "# Then create a fresh directory\n",
    "cmd.mkdir(PyModCcodesdir)"
   ]
  },
  {
   "cell_type": "markdown",
   "metadata": {},
   "source": [
    "<a id='cylindrical'></a>\n",
    "\n",
    "# Step 2: Desired output BSSN Curvilinear coordinate system set to Cylindrical, as a proof-of-principle \\[Back to [top](#toc)\\]\n",
    "$$\\label{cylindrical}$$"
   ]
  },
  {
   "cell_type": "code",
   "execution_count": 2,
   "metadata": {
    "execution": {
     "iopub.execute_input": "2021-03-07T17:06:02.176535Z",
     "iopub.status.busy": "2021-03-07T17:06:02.175893Z",
     "iopub.status.idle": "2021-03-07T17:06:02.461718Z",
     "shell.execute_reply": "2021-03-07T17:06:02.462277Z"
    }
   },
   "outputs": [],
   "source": [
    "# Step 2: Desired output BSSN Curvilinear coordinate system set to Cylindrical, as a proof-of-principle\n",
    "\n",
    "# The ADM & BSSN formalisms only work in 3D; they are 3+1 decompositions of Einstein's equations.\n",
    "#    To implement axisymmetry or spherical symmetry, simply set all spatial derivatives in\n",
    "#    the relevant angular directions to zero; DO NOT SET DIM TO ANYTHING BUT 3.\n",
    "\n",
    "# Set spatial dimension (must be 3 for BSSN)\n",
    "DIM = 3\n",
    "\n",
    "# Set the desired *output* coordinate system to Cylindrical:\n",
    "par.set_parval_from_str(\"reference_metric::CoordSystem\",\"Cylindrical\")\n",
    "rfm.reference_metric()\n",
    "\n",
    "# Set function input parameters to consistent defaults.\n",
    "ADM_input_function_name = \"ID_ADM_SphorCart\"\n",
    "pointer_to_ID_inputs = False"
   ]
  },
  {
   "cell_type": "markdown",
   "metadata": {},
   "source": [
    "<a id='admxx0xx1xx2'></a>\n",
    "\n",
    "# Step 3: Make ADM variables functions of ${\\rm xx0},{\\rm xx1},{\\rm xx2}$ instead of functions of Cartesian or Spherical coordinates \\[Back to [top](#toc)\\]\n",
    "$$\\label{admxx0xx1xx2}$$\n",
    "\n",
    "ADM variables are given as functions of $(r,\\theta,\\phi)$ or $(x,y,z)$. We convert them to functions of `(xx0,xx1,xx2)` using SymPy's `subs()` function."
   ]
  },
  {
   "cell_type": "code",
   "execution_count": 3,
   "metadata": {
    "execution": {
     "iopub.execute_input": "2021-03-07T17:06:02.470552Z",
     "iopub.status.busy": "2021-03-07T17:06:02.469863Z",
     "iopub.status.idle": "2021-03-07T17:06:02.472566Z",
     "shell.execute_reply": "2021-03-07T17:06:02.471938Z"
    }
   },
   "outputs": [],
   "source": [
    "# Step 1: All input quantities are in terms of r,th,ph or x,y,z. We want them in terms\n",
    "#         of xx0,xx1,xx2, so here we call sympify_integers__replace_rthph() to replace\n",
    "#         r,th,ph or x,y,z, respectively, with the appropriate functions of xx0,xx1,xx2\n",
    "#         as defined for this particular reference metric in reference_metric.py's\n",
    "#         xxSph[] or xx_to_Cart[], respectively:\n",
    "\n",
    "# Define the input variables:\n",
    "gammaSphorCartDD = ixp.declarerank2(\"gammaSphorCartDD\",\"sym01\")\n",
    "KSphorCartDD     = ixp.declarerank2(\"KSphorCartDD\",\"sym01\")\n",
    "alphaSphorCart = sp.symbols(\"alphaSphorCart\")\n",
    "betaSphorCartU = ixp.declarerank1(\"betaSphorCartU\")\n",
    "BSphorCartU    = ixp.declarerank1(\"BSphorCartU\")\n",
    "\n",
    "# UIUC Black Hole initial data are given in Spherical coordinates.\n",
    "CoordType_in = \"Spherical\"\n",
    "\n",
    "# Make sure that rfm.reference_metric() has been called.\n",
    "#    We'll need the variables it defines throughout this module.\n",
    "if rfm.have_already_called_reference_metric_function == False:\n",
    "    print(\"Error. Called Convert_Spherical_ADM_to_BSSN_curvilinear() without\")\n",
    "    print(\"       first setting up reference metric, by calling rfm.reference_metric().\")\n",
    "    sys.exit(1)\n",
    "\n",
    "r_th_ph_or_Cart_xyz_oID_xx = []\n",
    "if CoordType_in == \"Spherical\":\n",
    "    r_th_ph_or_Cart_xyz_oID_xx = rfm.xxSph\n",
    "elif CoordType_in == \"Cartesian\":\n",
    "    r_th_ph_or_Cart_xyz_oID_xx = rfm.xx_to_Cart\n",
    "else:\n",
    "    print(\"Error: Can only convert ADM Cartesian or Spherical initial data to BSSN Curvilinear coords.\")\n",
    "    sys.exit(1)"
   ]
  },
  {
   "cell_type": "markdown",
   "metadata": {},
   "source": [
    "<a id='adm_jacobian'></a>\n",
    "\n",
    "# Step 4:  Applying Jacobian transformations to get in the correct `xx0,xx1,xx2` basis \\[Back to [top](#toc)\\]\n",
    "$$\\label{adm_jacobian}$$\n",
    "\n",
    "\n",
    "The following discussion holds for either Spherical or Cartesian input data, so for simplicity let's just assume the data are given in Spherical coordinates.\n",
    "\n",
    "All ADM tensors and vectors are in the Spherical coordinate basis $x^i_{\\rm Sph} = (r,\\theta,\\phi)$, but we need them in the curvilinear coordinate basis $x^i_{\\rm rfm}=$`(xx0,xx1,xx2)` set by the `\"reference_metric::CoordSystem\"` variable. Empirically speaking, it is far easier to write `(x(xx0,xx1,xx2),y(xx0,xx1,xx2),z(xx0,xx1,xx2))` than the inverse, so we will compute the Jacobian matrix\n",
    "\n",
    "$$\n",
    "{\\rm Jac\\_dUSph\\_dDrfmUD[i][j]} = \\frac{\\partial x^i_{\\rm Sph}}{\\partial x^j_{\\rm rfm}},\n",
    "$$\n",
    "\n",
    "via exact differentiation (courtesy SymPy), and the inverse Jacobian\n",
    "$$\n",
    "{\\rm Jac\\_dUrfm\\_dDSphUD[i][j]} = \\frac{\\partial x^i_{\\rm rfm}}{\\partial x^j_{\\rm Sph}},\n",
    "$$\n",
    "\n",
    "using NRPy+'s `generic_matrix_inverter3x3()` function. In terms of these, the transformation of BSSN tensors from Spherical to `\"reference_metric::CoordSystem\"` coordinates may be written:\n",
    "\n",
    "\\begin{align}\n",
    "\\beta^i_{\\rm rfm} &= \\frac{\\partial x^i_{\\rm rfm}}{\\partial x^\\ell_{\\rm Sph}} \\beta^\\ell_{\\rm Sph}\\\\\n",
    "B^i_{\\rm rfm} &= \\frac{\\partial x^i_{\\rm rfm}}{\\partial x^\\ell_{\\rm Sph}} B^\\ell_{\\rm Sph}\\\\\n",
    "\\gamma^{\\rm rfm}_{ij} &= \n",
    "\\frac{\\partial x^\\ell_{\\rm Sph}}{\\partial x^i_{\\rm rfm}}\n",
    "\\frac{\\partial x^m_{\\rm Sph}}{\\partial x^j_{\\rm rfm}} \\gamma^{\\rm Sph}_{\\ell m}\\\\\n",
    "K^{\\rm rfm}_{ij} &= \n",
    "\\frac{\\partial x^\\ell_{\\rm Sph}}{\\partial x^i_{\\rm rfm}}\n",
    "\\frac{\\partial x^m_{\\rm Sph}}{\\partial x^j_{\\rm rfm}} K^{\\rm Sph}_{\\ell m}\n",
    "\\end{align}"
   ]
  },
  {
   "cell_type": "code",
   "execution_count": 4,
   "metadata": {
    "execution": {
     "iopub.execute_input": "2021-03-07T17:06:02.527026Z",
     "iopub.status.busy": "2021-03-07T17:06:02.511846Z",
     "iopub.status.idle": "2021-03-07T17:06:02.530321Z",
     "shell.execute_reply": "2021-03-07T17:06:02.529664Z"
    }
   },
   "outputs": [],
   "source": [
    "# Step 4: All ADM initial data quantities are now functions of xx0,xx1,xx2, but\n",
    "#         they are still in the Spherical or Cartesian basis. We can now directly apply\n",
    "#         Jacobian transformations to get them in the correct xx0,xx1,xx2 basis:\n",
    "\n",
    "# Next apply Jacobian transformations to convert into the (xx0,xx1,xx2) basis\n",
    "\n",
    "# alpha is a scalar, so no Jacobian transformation is necessary.\n",
    "alpha = alphaSphorCart\n",
    "\n",
    "Jac_dUSphorCart_dDrfmUD = ixp.zerorank2()\n",
    "for i in range(DIM):\n",
    "    for j in range(DIM):\n",
    "        Jac_dUSphorCart_dDrfmUD[i][j] = sp.diff(r_th_ph_or_Cart_xyz_oID_xx[i],rfm.xx[j])\n",
    "\n",
    "Jac_dUrfm_dDSphorCartUD, dummyDET = ixp.generic_matrix_inverter3x3(Jac_dUSphorCart_dDrfmUD)\n",
    "\n",
    "betaU   = ixp.zerorank1()\n",
    "BU      = ixp.zerorank1()\n",
    "gammaDD = ixp.zerorank2()\n",
    "KDD     = ixp.zerorank2()\n",
    "for i in range(DIM):\n",
    "    for j in range(DIM):\n",
    "        betaU[i] += Jac_dUrfm_dDSphorCartUD[i][j] * betaSphorCartU[j]\n",
    "        BU[i]    += Jac_dUrfm_dDSphorCartUD[i][j] * BSphorCartU[j]\n",
    "        for k in range(DIM):\n",
    "            for l in range(DIM):\n",
    "                gammaDD[i][j] += Jac_dUSphorCart_dDrfmUD[k][i]*Jac_dUSphorCart_dDrfmUD[l][j] * gammaSphorCartDD[k][l]\n",
    "                KDD[i][j]     += Jac_dUSphorCart_dDrfmUD[k][i]*Jac_dUSphorCart_dDrfmUD[l][j] *     KSphorCartDD[k][l]"
   ]
  },
  {
   "cell_type": "markdown",
   "metadata": {},
   "source": [
    "<a id='adm2bssn'></a>\n",
    "\n",
    "# Step 5: Call functions within [`BSSN.BSSN_in_terms_of_ADM`](../edit/BSSN/BSSN_in_terms_of_ADM.py) ([**tutorial**](Tutorial-BSSN_in_terms_of_ADM.ipynb)) to perform the ADM-to-BSSN conversion for all BSSN quantities *except* $\\lambda^i$ \\[Back to [top](#toc)\\]\n",
    "$$\\label{adm2bssn}$$\n",
    "\n",
    "All ADM quantities were input into this function in the Spherical or Cartesian basis, as functions of $r,\\theta,\\phi$ or $x,y,z$, respectively. In [Step 3](#admxx0xx1xx2) and [Step 4](#adm_jacobian) above, we converted them to the `xx0,xx1,xx2` basis, and as functions of `xx0,xx1,xx2`. Here we convert ADM quantities in the `xx0,xx1,xx2` (a.k.a. \"rfm\") basis to their BSSN Curvilinear counterparts, in the same basis. **Note that we withold computation of the BSSN $\\lambda^i$ quantities until [a later section of this notebook](#lambda), as they must be evaluated using finite differences.**"
   ]
  },
  {
   "cell_type": "code",
   "execution_count": 5,
   "metadata": {
    "execution": {
     "iopub.execute_input": "2021-03-07T17:06:02.571438Z",
     "iopub.status.busy": "2021-03-07T17:06:02.535557Z",
     "iopub.status.idle": "2021-03-07T17:06:03.667086Z",
     "shell.execute_reply": "2021-03-07T17:06:03.666529Z"
    }
   },
   "outputs": [],
   "source": [
    "# Step 5: Now that we have all ADM quantities in the desired\n",
    "#         basis, we next perform ADM-to-BSSN conversion:\n",
    "\n",
    "import BSSN.BSSN_in_terms_of_ADM as BitoA\n",
    "BitoA.gammabarDD_hDD( gammaDD)\n",
    "BitoA.trK_AbarDD_aDD( gammaDD,KDD)\n",
    "BitoA.cf_from_gammaDD(gammaDD)\n",
    "BitoA.betU_vetU(      betaU,BU)\n",
    "hDD     = BitoA.hDD\n",
    "trK     = BitoA.trK\n",
    "aDD     = BitoA.aDD\n",
    "cf      = BitoA.cf\n",
    "vetU    = BitoA.vetU\n",
    "betU    = BitoA.betU"
   ]
  },
  {
   "cell_type": "markdown",
   "metadata": {},
   "source": [
    "<a id='adm2bssn_c'></a>\n",
    "\n",
    "# Step 6: Output all ADM-to-BSSN expressions to a C function \\[Back to [top](#toc)\\]\n",
    "$$\\label{adm2bssn_c}$$\n",
    "\n",
    "This function must first call the `ID_ADM_SphorCart()` defined above. Using these Spherical or Cartesian data, it sets up all quantities needed for BSSNCurvilinear initial data, *except* $\\lambda^i$, which must be computed from numerical data using finite-difference derivatives."
   ]
  },
  {
   "cell_type": "code",
   "execution_count": 6,
   "metadata": {
    "execution": {
     "iopub.execute_input": "2021-03-07T17:06:03.678291Z",
     "iopub.status.busy": "2021-03-07T17:06:03.677531Z",
     "iopub.status.idle": "2021-03-07T17:06:04.081103Z",
     "shell.execute_reply": "2021-03-07T17:06:04.081629Z"
    }
   },
   "outputs": [
    {
     "name": "stdout",
     "output_type": "stream",
     "text": [
      "Output C function ID_ADM_xx0xx1xx2_to_BSSN_xx0xx1xx2__ALL_BUT_LAMBDAs() to file numerical_ADM_to_BSSN_Ccodes/ID_ADM_xx0xx1xx2_to_BSSN_xx0xx1xx2__ALL_BUT_LAMBDAs.h\n"
     ]
    }
   ],
   "source": [
    "# Step 6: Output all ADM-to-BSSN expressions to a C function\n",
    "ID_inputs_param = \"ID_inputs other_inputs,\"\n",
    "if pointer_to_ID_inputs == True:\n",
    "    ID_inputs_param = \"ID_inputs *other_inputs,\"\n",
    "\n",
    "desc=\"Write BSSN variables in terms of ADM variables at a given point xx0,xx1,xx2\"\n",
    "name=\"ID_ADM_xx0xx1xx2_to_BSSN_xx0xx1xx2__ALL_BUT_LAMBDAs\"\n",
    "params = \"const REAL xx0xx1xx2[3],\"+ID_inputs_param+\"\"\"\n",
    "                    REAL *hDD00,REAL *hDD01,REAL *hDD02,REAL *hDD11,REAL *hDD12,REAL *hDD22,\n",
    "                    REAL *aDD00,REAL *aDD01,REAL *aDD02,REAL *aDD11,REAL *aDD12,REAL *aDD22,\n",
    "                    REAL *trK,\n",
    "                    REAL *vetU0,REAL *vetU1,REAL *vetU2,\n",
    "                    REAL *betU0,REAL *betU1,REAL *betU2,\n",
    "                    REAL *alpha,  REAL *cf\"\"\"\n",
    "outCparams = \"preindent=1,outCverbose=False,includebraces=False\"\n",
    "outCfunction(\n",
    "    outfile  = os.path.join(Ccodesdir,name+\".h\"), desc=desc, name=name, params=params,\n",
    "    body     =\"\"\"\n",
    "      REAL gammaSphorCartDD00,gammaSphorCartDD01,gammaSphorCartDD02,\n",
    "           gammaSphorCartDD11,gammaSphorCartDD12,gammaSphorCartDD22;\n",
    "      REAL KSphorCartDD00,KSphorCartDD01,KSphorCartDD02,\n",
    "           KSphorCartDD11,KSphorCartDD12,KSphorCartDD22;\n",
    "      REAL alphaSphorCart,betaSphorCartU0,betaSphorCartU1,betaSphorCartU2;\n",
    "      REAL BSphorCartU0,BSphorCartU1,BSphorCartU2;\n",
    "      const REAL xx0 = xx0xx1xx2[0];\n",
    "      const REAL xx1 = xx0xx1xx2[1];\n",
    "      const REAL xx2 = xx0xx1xx2[2];\n",
    "      REAL xyz_or_rthph[3];\\n\"\"\"+\n",
    "    outputC(r_th_ph_or_Cart_xyz_oID_xx[0:3],[\"xyz_or_rthph[0]\",\"xyz_or_rthph[1]\",\"xyz_or_rthph[2]\"],\"returnstring\",\n",
    "            outCparams+\",CSE_enable=False\")+\"      \"+ADM_input_function_name+\"\"\"(xyz_or_rthph, other_inputs,\n",
    "                       &gammaSphorCartDD00,&gammaSphorCartDD01,&gammaSphorCartDD02,\n",
    "                       &gammaSphorCartDD11,&gammaSphorCartDD12,&gammaSphorCartDD22,\n",
    "                       &KSphorCartDD00,&KSphorCartDD01,&KSphorCartDD02,\n",
    "                       &KSphorCartDD11,&KSphorCartDD12,&KSphorCartDD22,\n",
    "                       &alphaSphorCart,&betaSphorCartU0,&betaSphorCartU1,&betaSphorCartU2,\n",
    "                       &BSphorCartU0,&BSphorCartU1,&BSphorCartU2);\n",
    "      // Next compute all rescaled BSSN curvilinear quantities:\\n\"\"\"+\n",
    "    outputC([hDD[0][0],hDD[0][1],hDD[0][2],hDD[1][1],hDD[1][2],hDD[2][2],\n",
    "         aDD[0][0],aDD[0][1],aDD[0][2],aDD[1][1],aDD[1][2],aDD[2][2],\n",
    "         trK,  vetU[0],vetU[1],vetU[2],  betU[0],betU[1],betU[2],\n",
    "         alpha, cf],\n",
    "        [\"*hDD00\",\"*hDD01\",\"*hDD02\",\"*hDD11\",\"*hDD12\",\"*hDD22\",\n",
    "         \"*aDD00\",\"*aDD01\",\"*aDD02\",\"*aDD11\",\"*aDD12\",\"*aDD22\",\n",
    "         \"*trK\",  \"*vetU0\",\"*vetU1\",\"*vetU2\",  \"*betU0\",\"*betU1\",\"*betU2\",\n",
    "         \"*alpha\",\"*cf\"],\"returnstring\",params=outCparams),\n",
    "    opts = \"DisableCparameters\")"
   ]
  },
  {
   "cell_type": "markdown",
   "metadata": {},
   "source": [
    "<a id='driver'></a>\n",
    "\n",
    "## Step 6.a: Output the driver function for the above C function \\[Back to [top](#toc)\\]\n",
    "$$\\label{driver}$$\n",
    "\n",
    "We output the driver function for the above C function:\n",
    "`ID_ADM_xx0xx1xx2_to_BSSN_xx0xx1xx2__ALL_BUT_LAMBDAs()`"
   ]
  },
  {
   "cell_type": "code",
   "execution_count": 7,
   "metadata": {
    "execution": {
     "iopub.execute_input": "2021-03-07T17:06:04.087627Z",
     "iopub.status.busy": "2021-03-07T17:06:04.086976Z",
     "iopub.status.idle": "2021-03-07T17:06:04.089671Z",
     "shell.execute_reply": "2021-03-07T17:06:04.090202Z"
    }
   },
   "outputs": [
    {
     "name": "stdout",
     "output_type": "stream",
     "text": [
      "Output C function ID_BSSN__ALL_BUT_LAMBDAs() to file numerical_ADM_to_BSSN_Ccodes/ID_BSSN__ALL_BUT_LAMBDAs.h\n"
     ]
    }
   ],
   "source": [
    "# Step 6.a: Output the driver function for the above C function\n",
    "\n",
    "# Next write ID_BSSN__ALL_BUT_LAMBDAs(), the driver\n",
    "#   function for ID_ADM_xx0xx1xx2_to_BSSN_xx0xx1xx2__ALL_BUT_LAMBDAs():\n",
    "desc=\"\"\"Driver function for ID_ADM_xx0xx1xx2_to_BSSN_xx0xx1xx2__ALL_BUT_LAMBDAs(),\n",
    "which writes BSSN variables in terms of ADM variables at a given point xx0,xx1,xx2\"\"\"\n",
    "name=\"ID_BSSN__ALL_BUT_LAMBDAs\"\n",
    "params = \"const int Nxx_plus_2NGHOSTS[3],REAL *xx[3],\"+ID_inputs_param+\"REAL *in_gfs\"\n",
    "outCfunction(\n",
    "    outfile  = os.path.join(Ccodesdir,name+\".h\"), desc=desc, name=name, params=params,\n",
    "    body     =\"\"\"\n",
    "const int idx = IDX3(i0,i1,i2);\n",
    "const REAL xx0xx1xx2[3] = {xx0,xx1,xx2};\n",
    "ID_ADM_xx0xx1xx2_to_BSSN_xx0xx1xx2__ALL_BUT_LAMBDAs(xx0xx1xx2,other_inputs,\n",
    "                    &in_gfs[IDX4pt(HDD00GF,idx)],&in_gfs[IDX4pt(HDD01GF,idx)],&in_gfs[IDX4pt(HDD02GF,idx)],\n",
    "                    &in_gfs[IDX4pt(HDD11GF,idx)],&in_gfs[IDX4pt(HDD12GF,idx)],&in_gfs[IDX4pt(HDD22GF,idx)],\n",
    "                    &in_gfs[IDX4pt(ADD00GF,idx)],&in_gfs[IDX4pt(ADD01GF,idx)],&in_gfs[IDX4pt(ADD02GF,idx)],\n",
    "                    &in_gfs[IDX4pt(ADD11GF,idx)],&in_gfs[IDX4pt(ADD12GF,idx)],&in_gfs[IDX4pt(ADD22GF,idx)],\n",
    "                    &in_gfs[IDX4pt(TRKGF,idx)],\n",
    "                    &in_gfs[IDX4pt(VETU0GF,idx)],&in_gfs[IDX4pt(VETU1GF,idx)],&in_gfs[IDX4pt(VETU2GF,idx)],\n",
    "                    &in_gfs[IDX4pt(BETU0GF,idx)],&in_gfs[IDX4pt(BETU1GF,idx)],&in_gfs[IDX4pt(BETU2GF,idx)],\n",
    "                    &in_gfs[IDX4pt(ALPHAGF,idx)],&in_gfs[IDX4pt(CFGF,idx)]);\n",
    "\"\"\",\n",
    "    loopopts = \"AllPoints,Read_xxs,oldloops\",opts = \"DisableCparameters\")"
   ]
  },
  {
   "cell_type": "markdown",
   "metadata": {},
   "source": [
    "<a id='lambda'></a>\n",
    "\n",
    "# Step 7: Compute $\\bar{\\Lambda}^i$ from finite-difference derivatives of rescaled metric quantities \\[Back to [top](#toc)\\]\n",
    "$$\\label{lambda}$$\n",
    "\n",
    "We compute $\\bar{\\Lambda}^i$ (Eqs. 4 and 5 of [Baumgarte *et al.*](https://arxiv.org/pdf/1211.6632.pdf)), from finite-difference derivatives of rescaled metric quantities $h_{ij}$:\n",
    "\n",
    "$$\n",
    "\\bar{\\Lambda}^i = \\bar{\\gamma}^{jk}\\left(\\bar{\\Gamma}^i_{jk} - \\hat{\\Gamma}^i_{jk}\\right).\n",
    "$$\n",
    "\n",
    "The [reference_metric.py](../edit/reference_metric.py) module provides us with analytic expressions for $\\hat{\\Gamma}^i_{jk}$, so here we need only compute finite-difference expressions for $\\bar{\\Gamma}^i_{jk}$, based on the values for $h_{ij}$ provided in the initial data. Once $\\bar{\\Lambda}^i$ has been computed, we apply the usual rescaling procedure:\n",
    "$$\n",
    "\\lambda^i = \\bar{\\Lambda}^i/\\text{ReU[i]},\n",
    "$$\n",
    "and then output the result to a C file using the NRPy+ finite-difference C output routine."
   ]
  },
  {
   "cell_type": "code",
   "execution_count": 8,
   "metadata": {
    "execution": {
     "iopub.execute_input": "2021-03-07T17:06:04.128973Z",
     "iopub.status.busy": "2021-03-07T17:06:04.123559Z",
     "iopub.status.idle": "2021-03-07T17:06:04.822293Z",
     "shell.execute_reply": "2021-03-07T17:06:04.822739Z"
    }
   },
   "outputs": [
    {
     "name": "stdout",
     "output_type": "stream",
     "text": [
      "Output C function ID_BSSN_lambdas() to file numerical_ADM_to_BSSN_Ccodes/ID_BSSN_lambdas.h\n"
     ]
    }
   ],
   "source": [
    "# Step 7: Compute $\\bar{\\Lambda}^i$ from finite-difference derivatives of rescaled metric quantities\n",
    "\n",
    "# We will need all BSSN gridfunctions to be defined, as well as\n",
    "#     expressions for gammabarDD_dD in terms of exact derivatives of\n",
    "#     the rescaling matrix and finite-difference derivatives of\n",
    "#     hDD's. This functionality is provided by BSSN.BSSN_unrescaled_and_barred_vars,\n",
    "#     which we call here to overwrite above definitions of gammabarDD,gammabarUU, etc.\n",
    "Bq.gammabar__inverse_and_derivs() # Provides gammabarUU and GammabarUDD\n",
    "gammabarUU    = Bq.gammabarUU\n",
    "GammabarUDD   = Bq.GammabarUDD\n",
    "\n",
    "# Next evaluate \\bar{\\Lambda}^i, based on GammabarUDD above and GammahatUDD\n",
    "#       (from the reference metric):\n",
    "LambdabarU = ixp.zerorank1()\n",
    "for i in range(DIM):\n",
    "    for j in range(DIM):\n",
    "        for k in range(DIM):\n",
    "            LambdabarU[i] += gammabarUU[j][k] * (GammabarUDD[i][j][k] - rfm.GammahatUDD[i][j][k])\n",
    "\n",
    "# Finally apply rescaling:\n",
    "# lambda^i = Lambdabar^i/\\text{ReU[i]}\n",
    "lambdaU = ixp.zerorank1()\n",
    "for i in range(DIM):\n",
    "    lambdaU[i] = LambdabarU[i] / rfm.ReU[i]\n",
    "\n",
    "outCparams = \"preindent=1,outCfileaccess=a,outCverbose=False,includebraces=False\"\n",
    "lambdaU_expressions = [lhrh(lhs=gri.gfaccess(\"in_gfs\",\"lambdaU0\"),rhs=lambdaU[0]),\n",
    "                       lhrh(lhs=gri.gfaccess(\"in_gfs\",\"lambdaU1\"),rhs=lambdaU[1]),\n",
    "                       lhrh(lhs=gri.gfaccess(\"in_gfs\",\"lambdaU2\"),rhs=lambdaU[2])]\n",
    "desc=\"Output lambdaU[i] for BSSN, built using finite-difference derivatives.\"\n",
    "name=\"ID_BSSN_lambdas\"\n",
    "params = \"const int Nxx[3],const int Nxx_plus_2NGHOSTS[3],REAL *xx[3],const REAL dxx[3],REAL *in_gfs\"\n",
    "outCfunction(\n",
    "    outfile  = os.path.join(Ccodesdir,name+\".h\"), desc=desc, name=name, params=params,\n",
    "    preloop  = \"\"\"\n",
    "const REAL invdx0 = 1.0/dxx[0];\n",
    "const REAL invdx1 = 1.0/dxx[1];\n",
    "const REAL invdx2 = 1.0/dxx[2];\n",
    "\"\"\",\n",
    "    body     = fin.FD_outputC(\"returnstring\",lambdaU_expressions, outCparams),\n",
    "    loopopts = \"InteriorPoints,Read_xxs,oldloops\",opts = \"DisableCparameters\")"
   ]
  },
  {
   "cell_type": "markdown",
   "metadata": {},
   "source": [
    "<a id='code_validation'></a>\n",
    "\n",
    "# Step 8: Code Validation against  `BSSN.ADM_Numerical_Spherical_or_Cartesian_to_BSSNCurvilinear` NRPy+ module \\[Back to [top](#toc)\\]\n",
    "$$\\label{code_validation}$$\n",
    "\n",
    "Here, as a code validation check, we verify agreement in the C codes for converting \"numerical\" UIUCBlackHole initial data (in Spherical coordinates/basis) to BSSN Curvilinear data in Cylindrical coordinates/basis between\n",
    "1. this tutorial and \n",
    "2. the NRPy+ [BSSN.ADM_Numerical_Spherical_or_Cartesian_to_BSSNCurvilinear](../edit/BSSN/ADM_Numerical_Spherical_or_Cartesian_to_BSSNCurvilinear.py) module.\n",
    "\n",
    "By default, we analyze these expressions in Cylindrical coordinates, though other coordinate systems may be chosen."
   ]
  },
  {
   "cell_type": "code",
   "execution_count": 9,
   "metadata": {
    "execution": {
     "iopub.execute_input": "2021-03-07T17:06:04.854546Z",
     "iopub.status.busy": "2021-03-07T17:06:04.828944Z",
     "iopub.status.idle": "2021-03-07T17:06:05.909998Z",
     "shell.execute_reply": "2021-03-07T17:06:05.909451Z"
    }
   },
   "outputs": [
    {
     "name": "stdout",
     "output_type": "stream",
     "text": [
      "Output C function ID_BSSN_lambdas() to file numerical_ADM_to_BSSN_Ccodes/PyMod/ID_BSSN_lambdas.h\n",
      "Output C function ID_ADM_xx0xx1xx2_to_BSSN_xx0xx1xx2__ALL_BUT_LAMBDAs() to file numerical_ADM_to_BSSN_Ccodes/PyMod/ID_ADM_xx0xx1xx2_to_BSSN_xx0xx1xx2__ALL_BUT_LAMBDAs.h\n",
      "Output C function ID_BSSN__ALL_BUT_LAMBDAs() to file numerical_ADM_to_BSSN_Ccodes/PyMod/ID_BSSN__ALL_BUT_LAMBDAs.h\n",
      "\n",
      "\n",
      " ### BEGIN VALIDATION TESTS\n",
      "Validation test PASSED on file: ID_BSSN_lambdas.h\n",
      "Validation test PASSED on file: ID_BSSN__ALL_BUT_LAMBDAs.h\n",
      "Validation test PASSED on file: ID_ADM_xx0xx1xx2_to_BSSN_xx0xx1xx2__ALL_BUT_LAMBDAs.h\n"
     ]
    }
   ],
   "source": [
    "# Reset the gridfunctions list;\n",
    "#  in Convert_Spherical_or_Cartesian_ADM_to_BSSN_curvilinear()\n",
    "#  below, BSSN_RHSs is called\n",
    "#          tutorial. This line of code enables us to run\n",
    "#          Convert_Spherical_or_Cartesian_ADM_to_BSSN_curvilinear()\n",
    "#          without resetting the running Python kernel.\n",
    "gri.glb_gridfcs_list = []\n",
    "\n",
    "import BSSN.ADM_Numerical_Spherical_or_Cartesian_to_BSSNCurvilinear as AtoBnum\n",
    "AtoBnum.Convert_Spherical_or_Cartesian_ADM_to_BSSN_curvilinear(\"Spherical\",ADM_input_function_name,\n",
    "                                                               Ccodesdir=PyModCcodesdir)\n",
    "\n",
    "print(\"\\n\\n ### BEGIN VALIDATION TESTS\")\n",
    "import filecmp\n",
    "for file in [\"ID_BSSN_lambdas.h\",\"ID_BSSN__ALL_BUT_LAMBDAs.h\",\n",
    "             \"ID_ADM_xx0xx1xx2_to_BSSN_xx0xx1xx2__ALL_BUT_LAMBDAs.h\"]:\n",
    "    if filecmp.cmp(os.path.join(Ccodesdir,file),\n",
    "                   os.path.join(PyModCcodesdir,file)) == False:\n",
    "        print(\"VALIDATION TEST FAILED ON file: \"+file+\".\")\n",
    "        sys.exit(1)\n",
    "    else:\n",
    "        print(\"Validation test PASSED on file: \"+file)"
   ]
  },
  {
   "cell_type": "markdown",
   "metadata": {},
   "source": [
    "<a id='latex_pdf_output'></a>\n",
    "\n",
    "# Step 9: Output this notebook to $\\LaTeX$-formatted PDF file \\[Back to [top](#toc)\\]\n",
    "$$\\label{latex_pdf_output}$$\n",
    "\n",
    "Once the following code finishes running, the generated PDF may be found at the following location within the directory you have the NRPy+ tutorial saved:\n",
    "[Tutorial-ADM_Initial_Data-Converting_Numerical_ADM_Spherical_or_Cartesian_to_BSSNCurvilinear.pdf](Tutorial-ADM_Initial_Data-Converting_Numerical_ADM_Spherical_or_Cartesian_to_BSSNCurvilinear.pdf)"
   ]
  },
  {
   "cell_type": "code",
   "execution_count": 10,
   "metadata": {
    "execution": {
     "iopub.execute_input": "2021-03-07T17:06:05.916835Z",
     "iopub.status.busy": "2021-03-07T17:06:05.914038Z",
     "iopub.status.idle": "2021-03-07T17:06:09.387723Z",
     "shell.execute_reply": "2021-03-07T17:06:09.388501Z"
    }
   },
   "outputs": [
    {
     "name": "stdout",
     "output_type": "stream",
     "text": [
      "Created Tutorial-ADM_Initial_Data-\n",
      "    Converting_Numerical_ADM_Spherical_or_Cartesian_to_BSSNCurvilinear.tex,\n",
      "    and compiled LaTeX file to PDF file Tutorial-ADM_Initial_Data-\n",
      "    Converting_Numerical_ADM_Spherical_or_Cartesian_to_BSSNCurvilinear.pdf\n"
     ]
    }
   ],
   "source": [
    "import cmdline_helper as cmd    # NRPy+: Multi-platform Python command-line interface\n",
    "cmd.output_Jupyter_notebook_to_LaTeXed_PDF(\"Tutorial-ADM_Initial_Data-Converting_Numerical_ADM_Spherical_or_Cartesian_to_BSSNCurvilinear\")"
   ]
  }
 ],
 "metadata": {
  "kernelspec": {
   "display_name": "Python 3",
   "language": "python",
   "name": "python3"
  },
  "language_info": {
   "codemirror_mode": {
    "name": "ipython",
    "version": 3
   },
   "file_extension": ".py",
   "mimetype": "text/x-python",
   "name": "python",
   "nbconvert_exporter": "python",
   "pygments_lexer": "ipython3",
   "version": "3.8.2"
  }
 },
 "nbformat": 4,
 "nbformat_minor": 2
}
