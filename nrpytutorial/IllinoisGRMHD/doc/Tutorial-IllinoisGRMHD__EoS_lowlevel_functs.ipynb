{
 "cells": [
  {
   "cell_type": "markdown",
   "metadata": {},
   "source": [
    "<script async src=\"https://www.googletagmanager.com/gtag/js?id=UA-59152712-8\"></script>\n",
    "<script>\n",
    "  window.dataLayer = window.dataLayer || [];\n",
    "  function gtag(){dataLayer.push(arguments);}\n",
    "  gtag('js', new Date());\n",
    "\n",
    "  gtag('config', 'UA-59152712-8');\n",
    "</script>\n",
    "\n",
    "# Testing Piecewise Polytropic EOS\n",
    "## Author: Leo Werneck"
   ]
  },
  {
   "cell_type": "markdown",
   "metadata": {},
   "source": [
    "<a id='toc'></a>\n",
    "\n",
    "# Table of Contents\n",
    "$$\\label{toc}$$\n",
    "\n",
    "This module is organized as follows\n",
    "\n",
    "1. [Step 1](#introduction): **Introduction**\n",
    "1. [Step 2](#plugging_in_values): **Plugging in some values**\n",
    "1. [Step 3](#p_cold): **Taking a look at $P_{\\rm cold}$**\n",
    "    1. [Step 3.a](#p_cold__computing): *A function to evaluate $P_{\\rm cold}$ based on `IllinoisGRMHD`*\n",
    "    1. [Step 3.b](#p_cold__plotting): *Plotting $P_{\\rm cold}\\left(\\rho\\right)$*\n",
    "1. [Step 4](#eps_cold): **Taking a look at $\\epsilon_{\\rm cold}$**\n",
    "    1. [Step 4.a](#eps_cold__computing): *A function to evaluate $\\epsilon_{\\rm cold}$ based on `IllinoisGRMHD`*\n",
    "    1. [Step 4.b](#eps_cold__plotting): *Plotting $\\epsilon_{\\rm cold}\\left(\\rho\\right)$*\n",
    "1. [Step 5](#ppeos__c_code): **The piecewise polytrope EOS C code**\n",
    "    1. [Step 5.a](#ppeos__c_code__prelim): *Preliminary treatment of the input*\n",
    "        1. [Step 5.a.i](#ppeos__c_code__prelim__computing_ktab): Determining $\\left\\{K_{1},K_{2},\\ldots,K_{\\rm neos}\\right\\}$\n",
    "        1. [Step 5.a.ii](#ppeos__c_code__prelim__computing_eps_integ_consts): Determining $\\left\\{C_{0},C_{1},C_{2},\\ldots,C_{\\rm neos}\\right\\}$\n",
    "    1. [Step 5.b](#ppeos__c_code__eos_struct_setup) *Setting up the `eos_struct`*\n",
    "    1. [Step 5.c](#ppeos__c_code__find_polytropic_k_and_gamma_index) *The `find_polytropic_K_and_Gamma_index()` function*\n",
    "    1. [Step 5.d](#ppeos__c_code__compute_P_cold__eps_cold__dPcold_drho__eps_th__h__Gamma_cold): *The new `compute_P_cold__eps_cold__dPcold_drho__eps_th__h__Gamma_cold()` function*\n",
    "1. [Step n](#latex_pdf_output): **Output this notebook to $\\LaTeX$-formatted PDF file**"
   ]
  },
  {
   "cell_type": "markdown",
   "metadata": {},
   "source": [
    "<a id='introduction'></a>\n",
    "\n",
    "# Step 1: Introduction \\[Back to [top](#toc)\\]\n",
    "$$\\label{introduction}$$\n",
    "\n",
    "We will test here a few piecewise polytrope (PP) equation of state (EOS) relations. The main reference we will be following is [J.C. Read *et al.* (2008)](https://arxiv.org/pdf/0812.2163.pdf), but we will also try out [the approach of `Whisky`, presented in Takami *et al.* (2014)](https://arxiv.org/pdf/1412.3240v2.pdf)\n",
    "\n",
    "First we will start with the original one implemented by IllinoisGRMHD:\n",
    "\n",
    "$$\n",
    "\\boxed{\n",
    "P_{\\rm cold} =\n",
    "\\left\\{\n",
    "\\begin{matrix}\n",
    "K_{0}\\rho^{\\Gamma_{0}} & , & \\rho \\leq \\rho_{0}\\\\\n",
    "K_{1}\\rho^{\\Gamma_{1}} & , & \\rho_{0} \\leq \\rho \\leq \\rho_{1}\\\\\n",
    "\\vdots &  & \\vdots\\\\\n",
    "K_{j}\\rho^{\\Gamma_{j}} & , & \\rho_{j-1} \\leq \\rho \\leq \\rho_{j}\\\\\n",
    "\\vdots &  & \\vdots\\\\\n",
    "K_{N-1}\\rho^{\\Gamma_{N-1}} & , & \\rho_{N-2} \\leq \\rho \\leq \\rho_{N-1}\\\\\n",
    "K_{N}\\rho^{\\Gamma_{N}} & , & \\rho \\geq \\rho_{N-1}\n",
    "\\end{matrix}\n",
    "\\right.\n",
    "}\\ .\n",
    "$$\n",
    "\n",
    "Notice that we have the following sets of variables:\n",
    "\n",
    "$$\n",
    "\\left\\{\\underbrace{\\rho_{0},\\rho_{1},\\ldots,\\rho_{N-1}}_{N\\ {\\rm values}}\\right\\}\\ ;\\\n",
    "\\left\\{\\underbrace{K_{0},K_{1},\\ldots,K_{N}}_{N+1\\ {\\rm values}}\\right\\}\\ ;\\\n",
    "\\left\\{\\underbrace{\\Gamma_{0},\\Gamma_{1},\\ldots,\\Gamma_{N}}_{N+1\\ {\\rm values}}\\right\\}\\ .\n",
    "$$\n",
    "\n",
    "Also, notice that $K_{0}$ and the entire sets $\\left\\{\\rho_{0},\\rho_{1},\\ldots,\\rho_{N-1}\\right\\}$ and $\\left\\{\\Gamma_{0},\\Gamma_{1},\\ldots,\\Gamma_{N}\\right\\}$ must be specified by the user. The values of $\\left\\{K_{1},\\ldots,K_{N}\\right\\}$, on the other hand, are determined by imposing that $P_{\\rm cold}$ be continuous, i.e.\n",
    "\n",
    "$$\n",
    "P_{\\rm cold}\\left(\\rho_{0}\\right) = K_{0}\\rho_{0}^{\\Gamma_{0}} = K_{1}\\rho_{0}^{\\Gamma_{1}} \\implies\n",
    "\\boxed{K_{1} = K_{0}\\rho_{0}^{\\Gamma_{0}-\\Gamma_{1}}}\\ .\n",
    "$$\n",
    "\n",
    "Analogously,\n",
    "\n",
    "$$\n",
    "\\boxed{K_{j} = K_{j-1}\\rho_{j-1}^{\\Gamma_{j-1}-\\Gamma_{j}}\\ ,\\ j\\in\\left[1,N\\right]}\\ .\n",
    "$$"
   ]
  },
  {
   "cell_type": "markdown",
   "metadata": {},
   "source": [
    "<a id='plugging_in_values'></a>\n",
    "\n",
    "# Step 2: Plugging in some values \\[Back to [top](#toc)\\]\n",
    "$$\\label{plugging_in_values}$$\n",
    "\n",
    "Just so that we work with realistic values (i.e. values actually used by researchers), we will implement a simple check using the values from [Table II in J.C. Read *et al.* (2008)](https://arxiv.org/pdf/0812.2163.pdf):\n",
    "\n",
    "| $\\rho_{i}$ | $\\Gamma_{i}$ | $K_{\\rm expected}$ |\n",
    "|------------|--------------|--------------------|\n",
    "|2.44034e+07 |   1.58425    |    6.80110e-09     |\n",
    "|3.78358e+11 |   1.28733    |    1.06186e-06     |\n",
    "|2.62780e+12 |   0.62223    |    5.32697e+01     |\n",
    "|     $-$    |   1.35692    |    3.99874e-08     |"
   ]
  },
  {
   "cell_type": "code",
   "execution_count": 1,
   "metadata": {
    "execution": {
     "iopub.execute_input": "2021-05-17T23:43:05.097985Z",
     "iopub.status.busy": "2021-05-17T23:43:05.097085Z",
     "iopub.status.idle": "2021-05-17T23:43:05.246891Z",
     "shell.execute_reply": "2021-05-17T23:43:05.247383Z"
    }
   },
   "outputs": [
    {
     "name": "stdout",
     "output_type": "stream",
     "text": [
      "K_ppoly_tab[1] = 1.0618444833278535e-06 | K_expected[1] = 1.06186e-06 | Diff = 1.5516672146434653e-11\n",
      "K_ppoly_tab[2] = 53.2750845839615 | K_expected[2] = 53.2697 | Diff = 0.005384583961500766\n",
      "K_ppoly_tab[3] = 3.999206917243191e-08 | K_expected[3] = 3.99874e-08 | Diff = 4.669172431909315e-12\n"
     ]
    }
   ],
   "source": [
    "# Determining K_{i} i != 0\n",
    "# We start by setting up all the values of rho_{i}, Gamma_{i}, and K_{0}\n",
    "import numpy as np\n",
    "rho_ppoly_tab   = [2.44034e+07,3.78358e+11,2.62780e+12]\n",
    "Gamma_ppoly_tab = [1.58425,1.28733,0.62223,1.35692]\n",
    "K_ppoly_tab     = [6.80110e-09,0,0,0]\n",
    "K_expected = [6.80110e-09,1.06186e-06,5.32697e+01,3.99874e-08]\n",
    "NEOS = len(rho_ppoly_tab)+1\n",
    "\n",
    "for j in range(1,NEOS):\n",
    "    K_ppoly_tab[j] = K_ppoly_tab[j-1] * rho_ppoly_tab[j-1]**(Gamma_ppoly_tab[j-1] - Gamma_ppoly_tab[j])\n",
    "    print(\"K_ppoly_tab[\"+str(j)+\"] = \"+str(K_ppoly_tab[j])+\\\n",
    "          \" | K_expected[\"+str(j)+\"] = \"+str(K_expected[j])+\\\n",
    "          \" | Diff = \"+str(np.fabs(K_ppoly_tab[j] - K_expected[j])))"
   ]
  },
  {
   "cell_type": "markdown",
   "metadata": {},
   "source": [
    "<a id='p_cold'></a>\n",
    "\n",
    "# Step 3: Taking a look at $P_{\\rm cold}$ \\[Back to [top](#toc)\\]\n",
    "$$\\label{p_cold}$$\n",
    "\n",
    "<a id='p_cold__computing'></a>\n",
    "\n",
    "## Step 3.a: A function to evaluate $P_{\\rm cold}$ based on `IllinoisGRMHD` \\[Back to [top](#toc)\\]\n",
    "$$\\label{p_cold__computing}$$\n",
    "\n",
    "The results above look reasonable to the expected ones. Let us then see what the plot of $P_{\\rm cold}\\times\\rho$ looks like. For the case of our specific example, which has $N_{\\rm EOS}=4$ (where $N_{\\rm EOS}$ stands for the number of polytropic EOSs used), we have\n",
    "\n",
    "$$\n",
    "\\boxed{\n",
    "P_{\\rm cold} =\n",
    "\\left\\{\n",
    "\\begin{matrix}\n",
    "K_{0}\\rho^{\\Gamma_{0}} & , & \\rho \\leq \\rho_{0}\\\\\n",
    "K_{1}\\rho^{\\Gamma_{1}} & , & \\rho_{0} \\leq \\rho \\leq \\rho_{1}\\\\\n",
    "K_{2}\\rho^{\\Gamma_{2}} & , & \\rho_{1} \\leq \\rho \\leq \\rho_{2}\\\\\n",
    "K_{3}\\rho^{\\Gamma_{3}} & , & \\rho \\geq \\rho_{2}\n",
    "\\end{matrix}\n",
    "\\right.\n",
    "}\\ .\n",
    "$$"
   ]
  },
  {
   "cell_type": "code",
   "execution_count": 2,
   "metadata": {
    "execution": {
     "iopub.execute_input": "2021-05-17T23:43:05.252941Z",
     "iopub.status.busy": "2021-05-17T23:43:05.252228Z",
     "iopub.status.idle": "2021-05-17T23:43:05.254115Z",
     "shell.execute_reply": "2021-05-17T23:43:05.254589Z"
    }
   },
   "outputs": [],
   "source": [
    "# Set the pressure through the polytropic EOS: P_cold = K * rho^{Gamma}\n",
    "def P_cold(rho,rho_ppoly_tab,Gamma_ppoly_tab,K_ppoly_tab,NEOS):\n",
    "    if rho < rho_ppoly_tab[0] or NEOS==1:\n",
    "        return K_ppoly_tab[0] * rho**Gamma_ppoly_tab[0]\n",
    "\n",
    "    if NEOS > 2:\n",
    "        for j in range(1,NEOS-1):\n",
    "            if rho_ppoly_tab[j-1] <= rho and rho < rho_ppoly_tab[j]:\n",
    "                return K_ppoly_tab[j] * rho**Gamma_ppoly_tab[j]\n",
    "\n",
    "    if rho >= rho_ppoly_tab[NEOS-2]:\n",
    "        return K_ppoly_tab[NEOS-1] * rho**Gamma_ppoly_tab[NEOS-1]"
   ]
  },
  {
   "cell_type": "markdown",
   "metadata": {},
   "source": [
    "<a id='p_cold__plotting'></a>\n",
    "\n",
    "## Step 3.b: Plotting $P_{\\rm cold}\\left(\\rho\\right)$ \\[Back to [top](#toc)\\]\n",
    "$$\\label{p_cold__plotting}$$\n",
    "\n",
    "To create a reasonably interesting plot, which will also test all regions of our piecewise polytrope EOS, let us plot $P_{\\rm cold}\\left(\\rho\\right)$ with $\\rho\\in\\left[\\frac{\\rho_{0}}{10},10\\rho_{2}\\right]$.\n",
    "\n",
    "**Remember**: We *don't* expect $P_{\\rm cold}$ to be *smooth*, but we *do* expect it to be *continuous* (by construction)."
   ]
  },
  {
   "cell_type": "code",
   "execution_count": 3,
   "metadata": {
    "execution": {
     "iopub.execute_input": "2021-05-17T23:43:05.264933Z",
     "iopub.status.busy": "2021-05-17T23:43:05.264135Z",
     "iopub.status.idle": "2021-05-17T23:43:06.146120Z",
     "shell.execute_reply": "2021-05-17T23:43:06.146722Z"
    }
   },
   "outputs": [
    {
     "data": {
      "text/plain": [
       "[<matplotlib.lines.Line2D at 0x11a990b80>]"
      ]
     },
     "execution_count": 1,
     "metadata": {},
     "output_type": "execute_result"
    },
    {
     "data": {
      "image/png": "[encoded data removed]",
      "text/plain": [
       "<Figure size 720x288 with 2 Axes>"
      ]
     },
     "metadata": {
      "needs_background": "light"
     },
     "output_type": "display_data"
    }
   ],
   "source": [
    "# Set rho in [rho_ppoly_tab[0]/10,rho_ppoly_tab[2]*10]\n",
    "rho_for_plot = np.linspace(rho_ppoly_tab[0]/10,rho_ppoly_tab[NEOS-2]*10,1000)\n",
    "\n",
    "# Set P_{cold}(rho)\n",
    "P_for_plot   = np.linspace(0,0,1000)\n",
    "for i in range(len(P_for_plot)):\n",
    "    P_for_plot[i] = P_cold(rho_for_plot[i],rho_ppoly_tab,Gamma_ppoly_tab,K_ppoly_tab,NEOS)\n",
    "\n",
    "# Plot P_{cold}(rho) x rho\n",
    "import matplotlib.pyplot as plt\n",
    "f = plt.figure(figsize=(10,4))\n",
    "ax1 = f.add_subplot(121)\n",
    "ax1.set_title(r\"Plot #1: $P_{\\rm cold}\\times\\rho_{b}$\",fontsize='16')\n",
    "ax1.set_xlabel(r\"$\\rho_{b}$\",fontsize='14')\n",
    "ax1.set_ylabel(r\"$P_{\\rm cold}$\",fontsize='14')\n",
    "ax1.grid()\n",
    "ax1.plot(rho_for_plot,P_for_plot)\n",
    "\n",
    "ax2 = f.add_subplot(122)\n",
    "ax2.set_title(r\"Plot #2: $\\log_{10}\\left(P_{\\rm cold}\\right)\\times\\log_{10}\\left(\\rho_{b}\\right)$\",fontsize='16')\n",
    "ax2.set_xlabel(r\"$\\log_{10}\\left(\\rho_{b}\\right)$\",fontsize='14')\n",
    "ax2.set_ylabel(r\"$\\log_{10}\\left(P_{\\rm cold}\\right)$\",fontsize='14')\n",
    "ax2.grid()\n",
    "ax2.plot(np.log10(rho_for_plot),np.log10(P_for_plot))"
   ]
  },
  {
   "cell_type": "markdown",
   "metadata": {},
   "source": [
    "<a id='eps_cold'></a>\n",
    "\n",
    "# Step 4: Taking a look at $\\epsilon_{\\rm cold}$ \\[Back to [top](#toc)\\]\n",
    "$$\\label{eps_cold}$$\n",
    "\n",
    "$\\epsilon_{\\rm cold}$ is determined via\n",
    "\n",
    "$$\n",
    "\\epsilon_{\\rm cold} = \\int d\\rho\\, \\frac{P_{\\rm cold}}{\\rho^{2}} \\ ,\n",
    "$$\n",
    "\n",
    "for some integration constant $C$. **Notation alert**: in the literature, the integration constants $C_{j}$ below are usually called $\\epsilon_{j}$. We will keep them as $C_{j}$ for a clearer exposition.\n",
    "\n",
    "In the case of a piecewise polytropic EOS, we then must have\n",
    "\n",
    "$$\n",
    "\\boxed{\n",
    "\\epsilon_{\\rm cold} = \n",
    "\\left\\{\n",
    "\\begin{matrix}\n",
    "\\frac{K_{0}\\rho^{\\Gamma_{0}-1}}{\\Gamma_{0}-1} + C_{0} & , & \\rho \\leq \\rho_{0}\\\\\n",
    "\\frac{K_{1}\\rho^{\\Gamma_{1}-1}}{\\Gamma_{1}-1} + C_{1} & , & \\rho_{0} \\leq \\rho \\leq \\rho_{1}\\\\\n",
    "\\vdots &  & \\vdots\\\\\n",
    "\\frac{K_{j}\\rho^{\\Gamma_{j}-1}}{\\Gamma_{j}-1} + C_{j} & , & \\rho_{j-1} \\leq \\rho \\leq \\rho_{j}\\\\\n",
    "\\vdots &  & \\vdots\\\\\n",
    "\\frac{K_{N-1}\\rho^{\\Gamma_{N-1}-1}}{\\Gamma_{N-1}-1} + C_{N-1} & , & \\rho_{N-2} \\leq \\rho \\leq \\rho_{N-1}\\\\\n",
    "\\frac{K_{N}\\rho^{\\Gamma_{N}-1}}{\\Gamma_{N}-1} + C_{N} & , & \\rho \\geq \\rho_{N-1}\n",
    "\\end{matrix}\n",
    "\\right.\n",
    "}\\ .\n",
    "$$\n",
    "\n",
    "We fix $C_{0}$ by demanding that $\\epsilon_{\\rm cold}\\left(\\rho=0\\right) = 0$. Then, continuity of $\\epsilon_{\\rm cold}$ imposes that\n",
    "\n",
    "$$\n",
    "\\frac{K_{0}\\rho_{0}^{\\Gamma_{0}-1}}{\\Gamma_{0}-1} = \\frac{K_{1}\\rho_{0}^{\\Gamma_{1}-1}}{\\Gamma_{1}-1} + C_{1}\\implies \\boxed{C_{1} = \\frac{K_{0}\\rho_{0}^{\\Gamma_{0}-1}}{\\Gamma_{0}-1} - \\frac{K_{1}\\rho_{0}^{\\Gamma_{1}-1}}{\\Gamma_{1}-1}}\\ ,\n",
    "$$\n",
    "\n",
    "for $C_{1}$ and\n",
    "\n",
    "$$\n",
    "\\boxed{C_{j} = C_{j-1} + \\frac{K_{j-1}\\rho_{j-1}^{\\Gamma_{j-1}-1}}{\\Gamma_{j-1}-1} - \\frac{K_{j}\\rho_{j-1}^{\\Gamma_{j}-1}}{\\Gamma_{j}-1}\\ ,\\ j\\geq1}\\ ,\n",
    "$$\n",
    "\n",
    "generically.\n",
    "\n",
    "<a id='eps_cold__computing'></a>\n",
    "\n",
    "## Step 4.a: *A function to evaluate $\\epsilon_{\\rm cold}$ based on `IllinoisGRMHD`* \\[Back to [top](#toc)\\]\n",
    "$$\\label{eps_cold__computing}$$\n",
    "\n",
    "We continue with our previous values of the piecewise polytrope EOS, for which we will have\n",
    "\n",
    "$$\n",
    "\\boxed{\n",
    "\\epsilon_{\\rm cold} = \n",
    "\\left\\{\n",
    "\\begin{matrix}\n",
    "\\frac{K_{0}\\rho^{\\Gamma_{0}-1}}{\\Gamma_{0}-1} & , & \\rho \\leq \\rho_{0}\\\\\n",
    "\\frac{K_{1}\\rho^{\\Gamma_{1}-1}}{\\Gamma_{1}-1} + C_{1} & , & \\rho_{0} \\leq \\rho \\leq \\rho_{1}\\\\\n",
    "\\frac{K_{2}\\rho^{\\Gamma_{2}-1}}{\\Gamma_{2}-1} + C_{2} & , & \\rho_{1} \\leq \\rho \\leq \\rho_{2}\\\\\n",
    "\\frac{K_{3}\\rho^{\\Gamma_{3}-1}}{\\Gamma_{3}-1} + C_{3} & , & \\rho \\geq \\rho_{2}\n",
    "\\end{matrix}\n",
    "\\right.\n",
    "}\\ ,\n",
    "$$\n",
    "\n",
    "remembering that the integration constants are set via\n",
    "\n",
    "$$\n",
    "\\boxed{\n",
    "C_{j} =\n",
    "\\left\\{\n",
    "\\begin{matrix}\n",
    "0 & , & {\\rm if}\\ j=0\\\\\n",
    "C_{j-1} + \\frac{K_{j-1}\\rho_{j-1}^{\\Gamma_{j-1}-1}}{\\Gamma_{j-1}-1} - \\frac{K_{j}\\rho_{j-1}^{\\Gamma_{j}-1}}{\\Gamma_{j}-1} & , & {\\rm otherwise}\n",
    "\\end{matrix}\n",
    "\\right.\n",
    "}\\ .\n",
    "$$"
   ]
  },
  {
   "cell_type": "code",
   "execution_count": 4,
   "metadata": {
    "execution": {
     "iopub.execute_input": "2021-05-17T23:43:06.155386Z",
     "iopub.status.busy": "2021-05-17T23:43:06.154479Z",
     "iopub.status.idle": "2021-05-17T23:43:06.156515Z",
     "shell.execute_reply": "2021-05-17T23:43:06.156958Z"
    }
   },
   "outputs": [],
   "source": [
    "# Setting eps_cold\n",
    "def eps_cold__integration_constants(rho_ppoly_tab,Gamma_ppoly_tab,K_ppoly_tab,NEOS):\n",
    "    if NEOS == 1:\n",
    "        eps_integ_consts[0] = 0\n",
    "        return eps_integ_consts\n",
    "\n",
    "    eps_integ_consts = [0 for i in range(NEOS)]\n",
    "    for j in range(1,NEOS):\n",
    "        aux_jm1 = K_ppoly_tab[j-1] * rho_ppoly_tab[j-1]**(Gamma_ppoly_tab[j-1]-1) / (Gamma_ppoly_tab[j-1]-1)\n",
    "        aux_jp0 = K_ppoly_tab[j+0] * rho_ppoly_tab[j-1]**(Gamma_ppoly_tab[j+0]-1) / (Gamma_ppoly_tab[j+0]-1)\n",
    "        eps_integ_consts[j] = eps_integ_consts[j-1] + aux_jm1 - aux_jp0\n",
    "\n",
    "    return eps_integ_consts\n",
    "\n",
    "def eps_cold(rho,rho_ppoly_tab,Gamma_ppoly_tab,K_ppoly_tab,NEOS):\n",
    "    if rho < rho_ppoly_tab[0] or NEOS==1:\n",
    "        return K_ppoly_tab[0] * rho**(Gamma_ppoly_tab[0]-1) / (Gamma_ppoly_tab[0]-1)\n",
    "\n",
    "    # Compute C_{j}\n",
    "    eps_integ_consts = eps_cold__integration_constants(rho_ppoly_tab,Gamma_ppoly_tab,K_ppoly_tab,NEOS)\n",
    "\n",
    "    # Compute eps_cold for rho >= rho_{0}\n",
    "    if NEOS>2:\n",
    "        for j in range(1,NEOS-1):\n",
    "            if rho >= rho_ppoly_tab[j-1] and rho < rho_ppoly_tab[j]:\n",
    "                return eps_integ_consts[j] + K_ppoly_tab[j] * rho**(Gamma_ppoly_tab[j]-1) / (Gamma_ppoly_tab[j]-1)\n",
    "\n",
    "    if rho >= rho_ppoly_tab[NEOS-2]:\n",
    "        return eps_integ_consts[NEOS-1] + K_ppoly_tab[NEOS-1] * rho**(Gamma_ppoly_tab[NEOS-1]-1) / (Gamma_ppoly_tab[NEOS-1]-1)"
   ]
  },
  {
   "cell_type": "markdown",
   "metadata": {},
   "source": [
    "<a id='eps_cold__plotting'></a>\n",
    "\n",
    "## Step 4.b: Plotting $\\epsilon_{\\rm cold}$ \\[Back to [top](#toc)\\]\n",
    "$$\\label{eps_cold__plotting}$$\n",
    "\n",
    "To create a reasonably interesting plot, which will also test all regions of our piecewise polytrope EOS, let us plot $\\epsilon_{\\rm cold}\\left(\\rho\\right)$ with $\\rho\\in\\left[\\frac{\\rho_{0}}{10},10\\rho_{2}\\right]$.\n",
    "\n",
    "**Remember**: We *don't* expect $\\epsilon_{\\rm cold}$ to be *smooth*, but we *do* expect it to be *continuous* (by construction)."
   ]
  },
  {
   "cell_type": "code",
   "execution_count": 5,
   "metadata": {
    "execution": {
     "iopub.execute_input": "2021-05-17T23:43:06.204126Z",
     "iopub.status.busy": "2021-05-17T23:43:06.186570Z",
     "iopub.status.idle": "2021-05-17T23:43:06.576031Z",
     "shell.execute_reply": "2021-05-17T23:43:06.576831Z"
    }
   },
   "outputs": [
    {
     "data": {
      "text/plain": [
       "[<matplotlib.lines.Line2D at 0x11abf42e0>]"
      ]
     },
     "execution_count": 1,
     "metadata": {},
     "output_type": "execute_result"
    },
    {
     "data": {
      "image/png": "[encoded data removed]",
      "text/plain": [
       "<Figure size 864x288 with 2 Axes>"
      ]
     },
     "metadata": {
      "needs_background": "light"
     },
     "output_type": "display_data"
    }
   ],
   "source": [
    "# Set rho in [rho_ppoly_tab[0]/10,rho_ppoly_tab[2]*10]\n",
    "rho_for_plot = np.linspace(rho_ppoly_tab[0]/10,rho_ppoly_tab[NEOS-2]*10,1000)\n",
    "\n",
    "# Set P_{cold}(rho)\n",
    "eps_for_plot = np.linspace(0,0,1000)\n",
    "for i in range(len(eps_for_plot)):\n",
    "    eps_for_plot[i] = eps_cold(rho_for_plot[i],rho_ppoly_tab,Gamma_ppoly_tab,K_ppoly_tab,NEOS)\n",
    "\n",
    "# Plot P_{cold}(rho) x rho\n",
    "import matplotlib.pyplot as plt\n",
    "f = plt.figure(figsize=(12,4))\n",
    "ax1 = f.add_subplot(121)\n",
    "ax1.set_title(r\"Plot #1: $\\varepsilon_{\\rm cold}\\times\\rho_{b}$\",fontsize='16')\n",
    "ax1.set_xlabel(r\"$\\rho_{b}$\",fontsize='14')\n",
    "ax1.set_ylabel(r\"$\\varepsilon_{\\rm cold}$\",fontsize='14')\n",
    "ax1.grid()\n",
    "ax1.plot(rho_for_plot,eps_for_plot)\n",
    "\n",
    "ax2 = f.add_subplot(122)\n",
    "ax2.set_title(r\"Plot #2: $\\log_{10}\\left(\\varepsilon_{\\rm cold}\\right)\\times\\log_{10}\\left(\\rho_{b}\\right)$\",fontsize='16')\n",
    "ax2.set_xlabel(r\"$\\log_{10}\\left(\\rho_{b}\\right)$\",fontsize='14')\n",
    "ax2.set_ylabel(r\"$\\log_{10}\\left(\\varepsilon_{\\rm cold}\\right)$\",fontsize='14')\n",
    "ax2.grid()\n",
    "ax2.plot(np.log10(rho_for_plot),np.log10(eps_for_plot))"
   ]
  },
  {
   "cell_type": "markdown",
   "metadata": {},
   "source": [
    "<a id='ppeos__c_code'></a>\n",
    "\n",
    "# Step 5: The piecewise polytrope EOS C code \\[Back to [top](#toc)\\]\n",
    "$$\\label{ppeos__c_code}$$\n",
    "\n",
    "Now we will begin implementing a C code to handle all the topics we discussed here.\n",
    "\n",
    "<a id='ppeos__c_code__prelim'></a>\n",
    "\n",
    "## Step 5.a: Preliminary treatment of the input \\[Back to [top](#toc)\\]\n",
    "$$\\label{ppeos__c_code__prelim}$$\n",
    "\n",
    "Here we assume that we get as input the following values:\n",
    "\n",
    "1. neos: the number of polytropic EOSs we will be handling (equivalent to $N+1$ in the discussion above)\n",
    "1. rho_ppoly_tab: an array containing the values $\\left\\{\\rho_{0},\\rho_{1},\\ldots,\\rho_{{\\rm neos}-1}\\right\\}$. Notice that for both neos=1 and neos=2, the size of this array is $1$.\n",
    "1. K_ppoly_tab: an array of size neos containing only the value of $K_{0}$ in the entry K_ppoly_tab[0].\n",
    "1. Gamma_ppoly_tab: an array of size neos containing the values $\\left\\{\\Gamma_{0},\\Gamma_{1},\\ldots,\\Gamma_{N}\\right\\}$."
   ]
  },
  {
   "cell_type": "code",
   "execution_count": 6,
   "metadata": {
    "execution": {
     "iopub.execute_input": "2021-05-17T23:43:06.582124Z",
     "iopub.status.busy": "2021-05-17T23:43:06.581486Z",
     "iopub.status.idle": "2021-05-17T23:43:06.583600Z",
     "shell.execute_reply": "2021-05-17T23:43:06.584019Z"
    }
   },
   "outputs": [],
   "source": [
    "import os,sys\n",
    "IGM_src_dir = os.path.join(\"..\",\"src\")\n",
    "Piecewise_Polytrope_EOS__C = os.path.join(IGM_src_dir,\"IllinoisGRMHD_EoS_lowlevel_functs.C\")"
   ]
  },
  {
   "cell_type": "code",
   "execution_count": 7,
   "metadata": {
    "execution": {
     "iopub.execute_input": "2021-05-17T23:43:06.588988Z",
     "iopub.status.busy": "2021-05-17T23:43:06.588240Z",
     "iopub.status.idle": "2021-05-17T23:43:06.591371Z",
     "shell.execute_reply": "2021-05-17T23:43:06.591812Z"
    }
   },
   "outputs": [
    {
     "name": "stdout",
     "output_type": "stream",
     "text": [
      "Writing ../src/IllinoisGRMHD_EoS_lowlevel_functs.C\n"
     ]
    }
   ],
   "source": [
    "%%writefile $Piecewise_Polytrope_EOS__C\n",
    "#ifndef ILLINOISGRMHD_EOS_FUNCTS_C_\n",
    "#define ILLINOISGRMHD_EOS_FUNCTS_C_\n",
    "/* Function    : setup_K_ppoly_tab__and__eps_integ_consts()\n",
    " * Authors     : Leo Werneck\n",
    " * Description : For a given set of EOS inputs, determine\n",
    " *               values of K_ppoly_tab that will result in a\n",
    " *               everywhere continuous P_cold function.\n",
    " * Dependencies: none\n",
    " *\n",
    " * Inputs      : eos             - a struct containing the following\n",
    " *                                 relevant quantities:\n",
    " *             : neos            - number of polytropic EOSs used\n",
    " *             : rho_ppoly_tab   - array of rho values that determine\n",
    " *                                 the polytropic EOS to be used.\n",
    " *             : Gamma_ppoly_tab - array of Gamma_cold values to be\n",
    " *                                 used in each polytropic EOS.\n",
    " *             : K_ppoly_tab     - array of K_ppoly_tab values to be used\n",
    " *                                 in each polytropic EOS. Only K_ppoly_tab[0]\n",
    " *                                 is known prior to the function call\n",
    " *             : eps_integ_const - array of C_{j} values, which are the\n",
    " *                                 integration constants that arrise when\n",
    " *                                 determining eps_{cold} for a piecewise\n",
    " *                                 polytropic EOS. This array should be\n",
    " *                                 uninitialized or contain absurd values\n",
    " *                                 prior to this function call.\n",
    " *\n",
    " * Outputs     : K_ppoly_tab     - fully populated array of K_ppoly_tab\n",
    " *                                 to be used in each polytropic EOS.\n",
    " *             : eps_integ_const - fully populated array of C_{j}'s,\n",
    " *                                 used to compute eps_cold for\n",
    " *                                 a piecewise polytropic EOS.\n",
    " */\n",
    "static void setup_K_ppoly_tab__and__eps_integ_consts(eos_struct &eos){"
   ]
  },
  {
   "cell_type": "markdown",
   "metadata": {},
   "source": [
    "<a id='ppeos__c_code__prelim__computing_ktab'></a>\n",
    "\n",
    "### Step 5.a.i: Determining $\\left\\{K_{1},K_{2},\\ldots,K_{\\rm neos}\\right\\}$ \\[Back to [top](#toc)\\]\n",
    "$$\\label{ppeos__c_code__prelim__computing_ktab}$$\n",
    "\n",
    "We start by computing the values $\\left\\{K_{1},K_{2},\\ldots,K_{\\rm neos}\\right\\}$ from the input values. Remember that the values of $K_{j}$ are obtained by demanding that the $P_{\\rm cold}$ function be everywhere continuous, resulting in the relation (see [the discussion above for the details](#introduction))\n",
    "\n",
    "$$\n",
    "\\boxed{K_{j} = K_{j-1}\\rho_{j-1}^{\\Gamma_{j-1}-\\Gamma_{j}}\\ ,\\ j\\in\\left[1,N\\right]}\\ .\n",
    "$$\n",
    "\n",
    "**Implementation note**: Because the case neos=1 is handled first, the attentive reader will notice that we already set $C_{0}=0$ below, *before* discussing its implementation. For more on that, please refer to the [next subsection, where we discuss determining $\\left\\{C_{0},C_{1},C_{2},\\ldots,C_{\\rm neos}\\right\\}$](#ppeos__c_code__prelim__computing_eps_integ_consts)."
   ]
  },
  {
   "cell_type": "code",
   "execution_count": 8,
   "metadata": {
    "execution": {
     "iopub.execute_input": "2021-05-17T23:43:06.597151Z",
     "iopub.status.busy": "2021-05-17T23:43:06.596332Z",
     "iopub.status.idle": "2021-05-17T23:43:06.599453Z",
     "shell.execute_reply": "2021-05-17T23:43:06.599874Z"
    }
   },
   "outputs": [
    {
     "name": "stdout",
     "output_type": "stream",
     "text": [
      "Appending to ../src/IllinoisGRMHD_EoS_lowlevel_functs.C\n"
     ]
    }
   ],
   "source": [
    "%%writefile -a $Piecewise_Polytrope_EOS__C\n",
    "\n",
    "  /* When neos = 1, we will only need the value K_ppoly_tab[0] and eps_integ_const[0].\n",
    "   * Since our only polytropic EOS is given by\n",
    "   *  -----------------------------------\n",
    "   * | P_{0} = K_{0} * rho ^ (Gamma_{0}) | ,\n",
    "   *  -----------------------------------\n",
    "   * and, therefore,\n",
    "   *  ---------------------------------------------------------------\n",
    "   * | eps_{0} = K_{0} * rho ^ (Gamma_{0}-1) / (Gamma_{0}-1) + C_{0} | ,\n",
    "   *  ---------------------------------------------------------------\n",
    "   * we only need to set up K_{0} := K_ppoly_tab[0] and C_{0} := eps_integ_const[0].\n",
    "   * K_{0} is a user input, so we need to do nothing. C_{0}, on the other hand,\n",
    "   * is fixed by demanding that eps(rho) -> 0 as rho -> 0. Thus, C_{0} = 0.\n",
    "   */\n",
    "  eos.eps_integ_const[0] = 0.0;\n",
    "  if(eos.neos==1) return;\n",
    "\n",
    "  /********************\n",
    "   * Setting up K_{j} *\n",
    "   ********************/\n",
    "  /* When neos > 1, we have the following structure\n",
    "   *\n",
    "   *           /      K_{0} * rho^(Gamma_{0})      ,                 rho <  rho_{0}\n",
    "   *           |      K_{1} * rho^(Gamma_{1})      ,      rho_{0} <= rho <  rho_{1}\n",
    "   *           |              ...\n",
    "   * P(rho) = <       K_{j} * rho^(Gamma_{j})      ,    rho_{j-1} <= rho <  rho_{j}\n",
    "   *           |              ...\n",
    "   *           | K_{neos-2} * rho^(Gamma_{neos-2}) , rho_{neos-3} <= rho <  rho_{neos-2}\n",
    "   *           \\ K_{neos-1} * rho^(Gamma_{neos-1}) ,                 rho >= rho_{neos-2}\n",
    "   *\n",
    "   * Imposing that P(rho) be everywhere continuous, we have\n",
    "   *  -------------------------------------------------\n",
    "   * | K_{j} = K_{j-1} * rho^(Gamma_{j-1} - Gamma_{j}) |\n",
    "   *  -------------------------------------------------\n",
    "   */\n",
    "  for(int j=1; j<eos.neos; j++){\n",
    "    // Set a useful auxiliary variable to keep things more compact:\n",
    "    // First, (Gamma_{j-1} - Gamma_{j}):\n",
    "    CCTK_REAL Gamma_diff = eos.Gamma_ppoly_tab[j-1] - eos.Gamma_ppoly_tab[j];\n",
    "\n",
    "    // Implement the boxed equation above, using our auxiliary variable:\n",
    "    eos.K_ppoly_tab[j] = eos.K_ppoly_tab[j-1] * pow(eos.rho_ppoly_tab[j-1],Gamma_diff);\n",
    "  }\n",
    "\n"
   ]
  },
  {
   "cell_type": "markdown",
   "metadata": {},
   "source": [
    "<a id='ppeos__c_code__prelim__computing_eps_integ_consts'></a>\n",
    "\n",
    "### Step 5.a.ii: Determining $\\left\\{C_{0},C_{1},C_{2},\\ldots,C_{\\rm neos}\\right\\}$ \\[Back to [top](#toc)\\]\n",
    "$$\\label{ppeos__c_code__prelim__computing_eps_integ_consts}$$\n",
    "\n",
    "We now focus our attention to the computation of $\\left\\{C_{0},C_{1},C_{2},\\ldots,C_{\\rm neos}\\right\\}$, which are the integration constants that emerge when computing $\\epsilon_{\\rm cold}$ for a piecewise polytrope EOS (see [the discussion above for the details](#eps_cold)). Here we set them so that $\\epsilon_{\\rm cold}$ is also everywhere continuous, i.e.\n",
    "\n",
    "$$\n",
    "\\boxed{\n",
    "C_{j} =\n",
    "\\left\\{\n",
    "\\begin{matrix}\n",
    "0 & , & {\\rm if}\\ j=0\\\\\n",
    "C_{j-1} + \\frac{K_{j-1}\\rho_{j-1}^{\\Gamma_{j-1}-1}}{\\Gamma_{j-1}-1} - \\frac{K_{j}\\rho_{j-1}^{\\Gamma_{j}-1}}{\\Gamma_{j}-1} & , & {\\rm otherwise}\n",
    "\\end{matrix}\n",
    "\\right.\n",
    "}\\ .\n",
    "$$"
   ]
  },
  {
   "cell_type": "code",
   "execution_count": 9,
   "metadata": {
    "execution": {
     "iopub.execute_input": "2021-05-17T23:43:06.604403Z",
     "iopub.status.busy": "2021-05-17T23:43:06.603643Z",
     "iopub.status.idle": "2021-05-17T23:43:06.606487Z",
     "shell.execute_reply": "2021-05-17T23:43:06.606906Z"
    }
   },
   "outputs": [
    {
     "name": "stdout",
     "output_type": "stream",
     "text": [
      "Appending to ../src/IllinoisGRMHD_EoS_lowlevel_functs.C\n"
     ]
    }
   ],
   "source": [
    "%%writefile -a $Piecewise_Polytrope_EOS__C\n",
    "\n",
    "  /********************\n",
    "   * Setting up C_{j} *\n",
    "   ********************/\n",
    "  /* When neos > 1, we have the following structure (let neos->N):\n",
    "   *\n",
    "   *             /      K_{0}*rho^(Gamma_{0}-1)/(Gamma_{0}-1)  + C_{0},                rho <  rho_{0}\n",
    "   *             |      K_{1}*rho^(Gamma_{1}-1)/(Gamma_{1}-1)  + C_{1},     rho_{0} <= rho <  rho_{1}\n",
    "   *             |                     ...\n",
    "   * eps(rho) = <       K_{j}*rho^(Gamma_{j}-1)/(Gamma_{j}-1)  + C_{j},   rho_{j-1} <= rho <  rho_{j}\n",
    "   *             |                     ...\n",
    "   *             | K_{N-2}*rho^(Gamma_{N-2}-1)/(Gamma_{N-2}-1) + C_{N-2}, rho_{N-3} <= rho <  rho_{N-2}\n",
    "   *             \\ K_{N-1}*rho^(Gamma_{N-1}-1)/(Gamma_{N-1}-1) + C_{N-1},              rho >= rho_{N-2}\n",
    "   *\n",
    "   * Imposing that eps_{cold}(rho) be everywhere continuous, we have\n",
    "   *  ---------------------------------------------------------------\n",
    "   * | C_{j} = C_{j-1}                                               |\n",
    "   * |       + ( K_{j-1}*rho_{j-1}^(Gamma_{j-1}-1) )/(Gamma_{j-1}-1) |\n",
    "   * |       - ( K_{j+0}*rho_{j-1}^(Gamma_{j+0}-1) )/(Gamma_{j+0}-1) |\n",
    "   *  ---------------------------------------------------------------\n",
    "   */\n",
    "  for(int j=1; j<eos.neos; j++){\n",
    "    // Set a few useful auxiliary variables to keep things more compact:\n",
    "    // First, (Gamma_{j-1}-1):\n",
    "    CCTK_REAL Gammajm1m1 = eos.Gamma_ppoly_tab[j-1] - 1.0;\n",
    "\n",
    "    // Then, (Gamma_{j+0}-1):\n",
    "    CCTK_REAL Gammajp0m1 = eos.Gamma_ppoly_tab[j+0] - 1.0;\n",
    "\n",
    "    // Next, ( K_{j-1}*rho_{j-1}^(Gamma_{j-1}-1) )/(Gamma_{j-1}-1):\n",
    "    CCTK_REAL aux_epsm1  = eos.K_ppoly_tab[j-1]*pow(eos.rho_ppoly_tab[j-1],Gammajm1m1)/Gammajm1m1;\n",
    "\n",
    "    // Finally, ( K_{j+0}*rho_{j+0}^(Gamma_{j+0}-1) )/(Gamma_{j+0}-1):\n",
    "    CCTK_REAL aux_epsp0  = eos.K_ppoly_tab[j+0]*pow(eos.rho_ppoly_tab[j-1],Gammajp0m1)/Gammajp0m1;\n",
    "\n",
    "    // Implement the boxed equation above, using our auxiliary variables:\n",
    "    eos.eps_integ_const[j] = eos.eps_integ_const[j-1] + aux_epsm1 - aux_epsp0;\n",
    "  }\n",
    "}\n",
    "\n"
   ]
  },
  {
   "cell_type": "markdown",
   "metadata": {},
   "source": [
    "<a id='ppeos__c_code__eos_struct_setup'></a>\n",
    "\n",
    "## Step 5.b: Setting up the `eos_struct` \\[Back to [top](#toc)\\]\n",
    "$$\\label{ppeos__c_code__eos_struct_setup}$$\n",
    "\n",
    "We will now set up the `eos_struct` from input. The `eos_struct` declaration can be found inside the `IllinoisGRMHD_headers.h` source file, but we will repeat it here for the sake of the reader:\n",
    "\n",
    "```c\n",
    "#define MAX_EOS_PARAMS 10\n",
    "struct eos_struct {\n",
    "  int neos;\n",
    "  CCTK_REAL rho_ppoly_tab[MAX_EOS_PARAMS-1];\n",
    "  CCTK_REAL eps_integ_const[MAX_EOS_PARAMS],K_ppoly_tab[MAX_EOS_PARAMS],Gamma_ppoly_tab[MAX_EOS_PARAMS];\n",
    "  CCTK_REAL Gamma_th;\n",
    "};\n",
    "```"
   ]
  },
  {
   "cell_type": "code",
   "execution_count": 10,
   "metadata": {
    "execution": {
     "iopub.execute_input": "2021-05-17T23:43:06.611781Z",
     "iopub.status.busy": "2021-05-17T23:43:06.610859Z",
     "iopub.status.idle": "2021-05-17T23:43:06.614259Z",
     "shell.execute_reply": "2021-05-17T23:43:06.614963Z"
    }
   },
   "outputs": [
    {
     "name": "stdout",
     "output_type": "stream",
     "text": [
      "Appending to ../src/IllinoisGRMHD_EoS_lowlevel_functs.C\n"
     ]
    }
   ],
   "source": [
    "%%writefile -a $Piecewise_Polytrope_EOS__C\n",
    "\n",
    "/* Function    : initialize_EOS_struct_from_input()\n",
    " * Authors     : Leo Werneck\n",
    " * Description : Initialize the eos struct from user\n",
    " *               input\n",
    " * Dependencies: setup_K_ppoly_tab__and__eps_integ_consts()\n",
    " *             : cctk_parameters.h (FIXME)\n",
    " *\n",
    " * Inputs      : eos             - a struct containing the following\n",
    " *                                 relevant quantities:\n",
    " *             : neos            - number of polytropic EOSs used\n",
    " *             : rho_ppoly_tab   - array of rho values that determine\n",
    " *                                 the polytropic EOS to be used.\n",
    " *             : Gamma_ppoly_tab - array of Gamma_cold values to be\n",
    " *                                 used in each polytropic EOS.\n",
    " *             : K_ppoly_tab     - array of K_ppoly_tab values to be used\n",
    " *                                 in each polytropic EOS.\n",
    " *             : eps_integ_const - array of C_{j} values, which are the\n",
    " *                                 integration constants that arrise when\n",
    " *                                 determining eps_{cold} for a piecewise\n",
    " *                                 polytropic EOS.\n",
    " *\n",
    " * Outputs     : eos             - fully initialized EOS struct\n",
    " */\n",
    "static void initialize_EOS_struct_from_input(eos_struct &eos){\n",
    "    /* We start by setting up the eos_struct\n",
    "     * with the inputs given by the user at\n",
    "     * the start of the simulation. Keep in\n",
    "     * mind that these parameters are found\n",
    "     * in the \"cctk_parameters.h\" header file.\n",
    "     *        ^^^^^^^FIXME^^^^^^^\n",
    "     */\n",
    "\n",
    "    // Initialize: neos, {rho_{j}}, {K_{0}}, and {Gamma_{j}}\n",
    "#ifndef ENABLE_STANDALONE_IGM_C2P_SOLVER\n",
    "    DECLARE_CCTK_PARAMETERS;\n",
    "#endif\n",
    "\n",
    "    eos.neos = neos;\n",
    "    eos.K_ppoly_tab[0] = K_ppoly_tab0;\n",
    "    for(int j=0; j<=neos-2; j++) eos.rho_ppoly_tab[j]   = rho_ppoly_tab_in[j];\n",
    "    for(int j=0; j<=neos-1; j++) eos.Gamma_ppoly_tab[j] = Gamma_ppoly_tab_in[j];\n",
    "\n",
    "    // Initialize {K_{j}}, j>=1, and {eps_integ_const_{j}}\n",
    "    setup_K_ppoly_tab__and__eps_integ_consts(eos);\n",
    "}\n",
    "\n"
   ]
  },
  {
   "cell_type": "markdown",
   "metadata": {},
   "source": [
    "<a id='ppeos__c_code__find_polytropic_k_and_gamma_index'></a>\n",
    "\n",
    "## Step 5.c: The `find_polytropic_K_and_Gamma_index()` function \\[Back to [top](#toc)\\]\n",
    "$$\\label{ppeos__c_code__find_polytropic_k_and_gamma_index}$$"
   ]
  },
  {
   "cell_type": "code",
   "execution_count": 11,
   "metadata": {
    "execution": {
     "iopub.execute_input": "2021-05-17T23:43:06.619676Z",
     "iopub.status.busy": "2021-05-17T23:43:06.618884Z",
     "iopub.status.idle": "2021-05-17T23:43:06.621776Z",
     "shell.execute_reply": "2021-05-17T23:43:06.622187Z"
    }
   },
   "outputs": [
    {
     "name": "stdout",
     "output_type": "stream",
     "text": [
      "Appending to ../src/IllinoisGRMHD_EoS_lowlevel_functs.C\n"
     ]
    }
   ],
   "source": [
    "%%writefile -a $Piecewise_Polytrope_EOS__C\n",
    "\n",
    "/* Function    : find_polytropic_K_and_Gamma_index()\n",
    " * Authors     : Leo Werneck & Zach Etienne\n",
    " * Description : For a given value of rho, find the\n",
    " *               appropriate values of Gamma_ppoly_tab\n",
    " *               and K_ppoly_tab by determining the appropriate\n",
    " *               index\n",
    " * Dependencies: initialize_EOS_struct_from_input()\n",
    " *             : cctk_parameters.h (FIXME)\n",
    " *\n",
    " * Inputs      : eos           - a struct containing the following\n",
    " *                               relevant quantities:\n",
    " *             : neos          - number of polytropic EOSs used\n",
    " *             : rho_ppoly_tab - array of rho values that determine\n",
    " *\n",
    " * Outputs     : index         - the appropriate index for the K_ppoly_tab\n",
    " *                               and Gamma_ppoly_tab array\n",
    " */\n",
    "static inline int find_polytropic_K_and_Gamma_index(eos_struct eos, CCTK_REAL rho_in) {\n",
    "\n",
    "   /* We want to find the appropriate polytropic EOS for the\n",
    "    * input value rho_in. Remember that:\n",
    "    *\n",
    "    * if rho < rho_{0}:                P_{0} , index: 0\n",
    "    * if rho >= rho_{0} but < rho_{1}: P_{1} , index: 1\n",
    "    * if rho >= rho_{1} but < rho_{2}: P_{2} , index: 2\n",
    "    *                      ...\n",
    "    * if rho >= rho_{j-1} but < rho_{j}: P_{j} , index: j\n",
    "    *\n",
    "    * Then, a simple way of determining the index is through\n",
    "    * the formula:\n",
    "    *  ---------------------------------------------------------------------------\n",
    "    * | index = (rho >= rho_{0}) + (rho >= rho_{1}) + ... + (rho >= rho_{neos-2}) |\n",
    "    *  ---------------------------------------------------------------------------\n",
    "    */\n",
    "    if(eos.neos == 1) return 0;\n",
    "\n",
    "    int polytropic_index = 0;\n",
    "    for(int j=0; j<=eos.neos-2; j++) polytropic_index += (rho_in >= eos.rho_ppoly_tab[j]);\n",
    "\n",
    "    return polytropic_index;\n",
    "}\n",
    "\n"
   ]
  },
  {
   "cell_type": "code",
   "execution_count": 12,
   "metadata": {
    "execution": {
     "iopub.execute_input": "2021-05-17T23:43:06.626947Z",
     "iopub.status.busy": "2021-05-17T23:43:06.626080Z",
     "iopub.status.idle": "2021-05-17T23:43:06.630053Z",
     "shell.execute_reply": "2021-05-17T23:43:06.629606Z"
    }
   },
   "outputs": [
    {
     "name": "stdout",
     "output_type": "stream",
     "text": [
      "Appending to ../src/IllinoisGRMHD_EoS_lowlevel_functs.C\n"
     ]
    }
   ],
   "source": [
    "%%writefile -a $Piecewise_Polytrope_EOS__C\n",
    "\n",
    "/* Function    : compute_P_cold__eps_cold()\n",
    " * Authors     : Leo Werneck\n",
    " * Description : Computes P_cold and eps_cold.\n",
    " * Dependencies: initialize_EOS_struct_from_input()\n",
    " *             : find_polytropic_K_and_Gamma_index()\n",
    " *\n",
    " * Inputs      : P_cold           - cold pressure\n",
    " *             : eps_cold         - cold specific internal energy\n",
    " *             : eos              - a struct containing the following\n",
    " *                                  relevant quantities:\n",
    " *             : neos             - number of polytropic EOSs used\n",
    " *             : rho_ppoly_tab         - array of rho values that determine\n",
    " *                                  the polytropic EOS to be used.\n",
    " *             : Gamma_ppoly_tab       - array of Gamma_cold values to be\n",
    " *                                  used in each polytropic EOS.\n",
    " *             : K_ppoly_tab           - array of K_ppoly_tab values to be used\n",
    " *                                  in each polytropic EOS.\n",
    " *             : eps_integ_const  - array of C_{j} values, which are the\n",
    " *                                  integration constants that arrise when\n",
    " *                                  determining eps_{cold} for a piecewise\n",
    " *                                  polytropic EOS.\n",
    " *\n",
    " * Outputs     : P_cold           - cold pressure (supports SPEOS and PPEOS)\n",
    " *             : eps_cold         - cold specific internal energy (supports SPEOS and PPEOS)\n",
    " *             : polytropic_index - polytropic index used for P_cold and eps_cold\n",
    " *\n",
    " *             SPEOS: Single-Polytrope Equation of State\n",
    " *             PPEOS: Piecewise Polytrope Equation of State\n",
    " */\n",
    "static inline void compute_P_cold__eps_cold(eos_struct eos, CCTK_REAL rho_in,\n",
    "                                            CCTK_REAL &P_cold,CCTK_REAL &eps_cold) {\n",
    "  // This code handles equations of state of the form defined\n",
    "  // in Eqs 13-16 in http://arxiv.org/pdf/0802.0200.pdf\n",
    "  if(rho_in==0) {\n",
    "    P_cold   = 0.0;\n",
    "    eps_cold = 0.0;\n",
    "    return;\n",
    "  }\n",
    "\n",
    "  /*  --------------------------------------------------\n",
    "   * | Single and Piecewise Polytropic EOS modification |\n",
    "   *  --------------------------------------------------\n",
    "   *\n",
    "   * We now begin our modifications to this function so that\n",
    "   * it supports both single and piecewise polytropic equations\n",
    "   * of state.\n",
    "   *\n",
    "   * The modifications below currently assume that the user\n",
    "   * has called the recently added function\n",
    "   *\n",
    "   * - initialize_EOS_struct_from_input()\n",
    "   *\n",
    "   * *before* this function is called. We can add some feature\n",
    "   * to check this automatically as well, but we'll keep that as\n",
    "   * a TODO/FIXME for now.\n",
    "   */\n",
    "\n",
    "  /* First, we compute the pressure, which in the case of a\n",
    "   * piecewise polytropic EOS is given by\n",
    "   *\n",
    "   *           /   P_{1}      /    K_{1} * rho^(Gamma_{1})       ,      rho_{0} <= rho < rho_{1}\n",
    "   *           |    ...       |            ...\n",
    "   * P(rho) = <    P_{j}   = <     K_{j} * rho^(Gamma_{j})       ,    rho_{j-1} <= rho < rho_{j}\n",
    "   *           |    ...       |            ...\n",
    "   *           \\ P_{neos-2}   \\ K_{neos-2} * rho^(Gamma_{neos-2}), rho_{neos-3} <= rho < rho_{neos-2}\n",
    "   *\n",
    "   * The index j is determined by the find_polytropic_K_and_Gamma_index() function.\n",
    "   */\n",
    "  // Set up useful auxiliary variables\n",
    "  int polytropic_index      = find_polytropic_K_and_Gamma_index(eos,rho_in);\n",
    "  CCTK_REAL K_ppoly_tab     = eos.K_ppoly_tab[polytropic_index];\n",
    "  CCTK_REAL Gamma_ppoly_tab = eos.Gamma_ppoly_tab[polytropic_index];\n",
    "  CCTK_REAL eps_integ_const = eos.eps_integ_const[polytropic_index];\n",
    "\n",
    "  // Then compute P_{cold}\n",
    "  P_cold = K_ppoly_tab*pow(rho_in,Gamma_ppoly_tab);\n",
    "\n",
    "  /* Then we compute the cold component of the specific internal energy,\n",
    "   * which in the case of a piecewise polytropic EOS is given by (neos -> N)\n",
    "   *\n",
    "   *             /   P_{1}/(rho*(Gamma_{1}-1))   + C_{1}  ,   rho_{0} <= rho < rho_{1}\n",
    "   *             |                     ...\n",
    "   * eps(rho) = <    P_{j}/(rho*(Gamma_{j}-1))   + C_{j}  , rho_{j-1} <= rho < rho_{j}\n",
    "   *             |                     ...\n",
    "   *             \\ P_{N-2}/(rho*(Gamma_{N-2}-1)) + C_{N-2}, rho_{N-3} <= rho < rho_{N-2}\n",
    "   */\n",
    "  eps_cold = P_cold/(rho_in*(Gamma_ppoly_tab-1.0)) + eps_integ_const;\n",
    "\n",
    "}\n",
    "\n"
   ]
  },
  {
   "cell_type": "markdown",
   "metadata": {},
   "source": [
    "<a id='ppeos__c_code__compute_P_cold__eps_cold__dPcold_drho__eps_th__h__Gamma_cold'></a>\n",
    "\n",
    "## Step 5.d: The new `compute_P_cold__eps_cold__dPcold_drho__eps_th__h__Gamma_cold()` function \\[Back to [top](#toc)\\]\n",
    "$$\\label{ppeos__c_code__compute_P_cold__eps_cold__dPcold_drho__eps_th__h__Gamma_cold}$$\n",
    "\n",
    "We now write down the updated version of the `compute_P_cold__eps_cold__dPcold_drho__eps_th__h__Gamma_cold()` function, which is found in the `inlined_functions.C` source file of `IllinoisGRMHD`, and documented in the [`IllinoisGRMHD`'s inlined functions NRPy+ tutorial module](Tutorial-IllinoisGRMHD__inlined_functions.ipynb)."
   ]
  },
  {
   "cell_type": "code",
   "execution_count": 13,
   "metadata": {
    "execution": {
     "iopub.execute_input": "2021-05-17T23:43:06.634785Z",
     "iopub.status.busy": "2021-05-17T23:43:06.634017Z",
     "iopub.status.idle": "2021-05-17T23:43:06.636824Z",
     "shell.execute_reply": "2021-05-17T23:43:06.637230Z"
    }
   },
   "outputs": [
    {
     "name": "stdout",
     "output_type": "stream",
     "text": [
      "Appending to ../src/IllinoisGRMHD_EoS_lowlevel_functs.C\n"
     ]
    }
   ],
   "source": [
    "%%writefile -a $Piecewise_Polytrope_EOS__C\n",
    "\n",
    "/* Function    : compute_P_cold__eps_cold__dPcold_drho__eps_th__h__Gamma_cold()\n",
    " * Authors     : Leo Werneck & Zach Etienne\n",
    " * Description : Compute basic quantities related to\n",
    " *             : the EOS, namely: P_cold, eps_cold,\n",
    " *             : dPcold/drho, eps_th, h, and Gamma_cold\n",
    " * Dependencies: initialize_EOS_struct_from_input()\n",
    " *\n",
    " * Inputs      : U               - array containing primitives {rho,P,v^{i},B^i}\n",
    " *             : P_cold          - cold pressure\n",
    " *             : eps_cold        - cold specific internal energy\n",
    " *             : dPcold_drho     - derivative of P_cold\n",
    " *             : eps_th          - thermal specific internal energy\n",
    " *             : h               - enthalpy\n",
    " *             : Gamma_cold      - cold polytropic Gamma\n",
    " *             : eos             - a struct containing the following\n",
    " *                                 relevant quantities:\n",
    " *             : neos            - number of polytropic EOSs used\n",
    " *             : rho_ppoly_tab   - array of rho values that determine\n",
    " *                                 the polytropic EOS to be used.\n",
    " *             : Gamma_ppoly_tab - array of Gamma_cold values to be\n",
    " *                                 used in each polytropic EOS.\n",
    " *             : K_ppoly_tab     - array of K_ppoly_tab values to be used\n",
    " *                                 in each polytropic EOS.\n",
    " *             : eps_integ_const - array of C_{j} values, which are the\n",
    " *                                 integration constants that arrise when\n",
    " *                                 determining eps_{cold} for a piecewise\n",
    " *                                 polytropic EOS.\n",
    " *\n",
    " * Outputs     : P_cold          - cold pressure (supports SPEOS and PPEOS)\n",
    " *             : eps_cold        - cold specific internal energy (supports SPEOS and PPEOS)\n",
    " *             : dPcold_drho     - derivative of P_cold (supports SPEOS and PPEOS)\n",
    " *             : eps_th          - thermal specific internal energy (supports SPEOS and PPEOS)\n",
    " *             : h               - enthalpy (supports SPEOS and PPEOS)\n",
    " *             : Gamma_cold      - cold polytropic Gamma (supports SPEOS and PPEOS)\n",
    " *\n",
    " *             SPEOS: Single-Polytrope Equation of State\n",
    " *             PPEOS: Piecewise Polytrope Equation of State\n",
    " */\n",
    "static inline void compute_P_cold__eps_cold__dPcold_drho__eps_th__h__Gamma_cold(CCTK_REAL *U, eos_struct &eos, CCTK_REAL Gamma_th,\n",
    "                                                                         CCTK_REAL &P_cold,CCTK_REAL &eps_cold,CCTK_REAL &dPcold_drho,CCTK_REAL &eps_th,CCTK_REAL &h,\n",
    "                                                                         CCTK_REAL &Gamma_cold) {\n",
    "  // This code handles equations of state of the form defined\n",
    "  // in Eqs 13-16 in http://arxiv.org/pdf/0802.0200.pdf\n",
    "\n",
    "  if(U[RHOB]==0) {\n",
    "    P_cold      = 0.0;\n",
    "    eps_cold    = 0.0;\n",
    "    dPcold_drho = 0.0;\n",
    "    eps_th      = 0.0;\n",
    "    h           = 0.0;\n",
    "    Gamma_cold  = eos.Gamma_ppoly_tab[0];\n",
    "    return;\n",
    "  }\n",
    "\n",
    "  int polytropic_index = find_polytropic_K_and_Gamma_index(eos, U[RHOB]);\n",
    "  compute_P_cold__eps_cold(eos,U[RHOB], P_cold,eps_cold);\n",
    "  CCTK_REAL Gamma_ppoly_tab = eos.Gamma_ppoly_tab[polytropic_index];\n",
    "\n",
    "  // Set auxiliary variable rho_b^{-1}\n",
    "  CCTK_REAL U_RHOB_inv = 1.0/U[RHOB];\n",
    "\n",
    "  // Next compute dP/drho = Gamma * P / rho\n",
    "  dPcold_drho = Gamma_ppoly_tab*P_cold*U_RHOB_inv;\n",
    "\n",
    "  // Then we compute eps_th, h, and set Gamma_cold = Gamma_ppoly_tab[j].\n",
    "  eps_th = (U[PRESSURE] - P_cold)/(Gamma_th-1.0)*U_RHOB_inv;\n",
    "  h = 1.0 + eps_cold + eps_th + U[PRESSURE]*U_RHOB_inv;\n",
    "  Gamma_cold = Gamma_ppoly_tab;\n",
    "\n",
    "}\n",
    "\n"
   ]
  },
  {
   "cell_type": "markdown",
   "metadata": {},
   "source": [
    "<a id='ppeos__c_code__print_eos_table'></a>\n",
    "\n",
    "## Step 5.e: The `print_EOS_table()` function \\[Back to [top](#toc)\\]\n",
    "$$\\label{ppeos__c_code__print_eos_table}$$\n",
    "\n",
    "This function, which is called for diagnostic purposes and for user convenience, prints out the most relevant EOS table components to the user at the *beginning* of the run. Notice that the function call happens only once, in the [`driver_conserv_to_prims.C`](Tutorial-IllinoisGRMHD__the_conservative_to_primitive_algorithm.ipynb) file."
   ]
  },
  {
   "cell_type": "code",
   "execution_count": 14,
   "metadata": {
    "execution": {
     "iopub.execute_input": "2021-05-17T23:43:06.641481Z",
     "iopub.status.busy": "2021-05-17T23:43:06.640728Z",
     "iopub.status.idle": "2021-05-17T23:43:06.643385Z",
     "shell.execute_reply": "2021-05-17T23:43:06.643809Z"
    }
   },
   "outputs": [
    {
     "name": "stdout",
     "output_type": "stream",
     "text": [
      "Appending to ../src/IllinoisGRMHD_EoS_lowlevel_functs.C\n"
     ]
    }
   ],
   "source": [
    "%%writefile -a $Piecewise_Polytrope_EOS__C\n",
    "\n",
    "/* Function    : print_EOS_table()\n",
    " * Authors     : Leo Werneck\n",
    " * Description : Prints out the EOS table, for diagnostic purposes\n",
    " *\n",
    " * Dependencies: initialize_EOS_struct_from_input()\n",
    " *\n",
    " * Inputs      : eos             - a struct containing the following\n",
    " *                                 relevant quantities:\n",
    " *             : neos            - number of polytropic EOSs used\n",
    " *             : rho_ppoly_tab   - array of rho values that determine\n",
    " *                                 the polytropic EOS to be used.\n",
    " *             : Gamma_ppoly_tab - array of Gamma_cold values to be\n",
    " *                                 used in each polytropic EOS.\n",
    " *\n",
    " * Outputs     : CCTK_VInfo string with the EOS table used by IllinoisGRMHD\n",
    " */\n",
    "static inline void print_EOS_table( eos_struct eos ) {\n",
    "\n",
    "  /* Start by printint a header t the table */\n",
    "#ifndef ENABLE_STANDALONE_IGM_C2P_SOLVER\n",
    "  CCTK_VInfo(CCTK_THORNSTRING,\"\\n\"\n",
    "#else\n",
    "  printf(\"\\n\"\n",
    "#endif\n",
    "\".--------------------------------------------.\\n\"\n",
    "\"|    Piecewise Polytropic EOS Parameters     |\\n\"\n",
    "\".--------------------------------------------.\");\n",
    "\n",
    "  /* Adjust the maximum index of rhob to\n",
    "   * allow for single polytropes as well\n",
    "   */\n",
    "  int max_rho_index;\n",
    "  if( eos.neos==1 ) {\n",
    "    max_rho_index = 0;\n",
    "  }\n",
    "  else {\n",
    "    max_rho_index = eos.neos-1;\n",
    "  }\n",
    "\n",
    "  /* Print out rho_pppoly_tab */\n",
    "  for(int jj=0; jj<max_rho_index; jj++) {\n",
    "    if(jj==0) {\n",
    "  printf(\n",
    "\"|              rho_ppoly_tab[j]              |\\n\"\n",
    "\".--------------------------------------------.\\n\");\n",
    "    }\n",
    "    printf(\"|  rho_ppoly_tab[%d] = %.15e  |\\n\",jj,eos.rho_ppoly_tab[jj]);\n",
    "    if(jj == max_rho_index-1) {\n",
    "      printf(\".--------------------------------------------.\\n\");\n",
    "    }\n",
    "  }\n",
    "\n",
    "  /* Print out Gamma_ppoly_tab */\n",
    "  printf(\"|             Gamma_ppoly_tab[j]             |\\n\"\n",
    "         \".--------------------------------------------.\\n\");\n",
    "  for(int jj=0; jj<=eos.neos-1; jj++) {\n",
    "    printf(\"| Gamma_ppoly_tab[%d] = %.15e |\\n\",jj,eos.Gamma_ppoly_tab[jj]);\n",
    "    if(jj == eos.neos-1) {\n",
    "      printf(\".--------------------------------------------.\\n\");\n",
    "    }\n",
    "  }\n",
    "\n",
    "  /* Print out K_ppoly_tab */\n",
    "  printf(\"|               K_ppoly_tab[j]               |\\n\"\n",
    "         \".--------------------------------------------.\\n\");\n",
    "  for(int jj=0; jj<=eos.neos-1; jj++) {\n",
    "    printf(\"|   K_ppoly_tab[%d] = %.15e   |\\n\",jj,eos.K_ppoly_tab[jj]);\n",
    "    if(jj == eos.neos-1) {\n",
    "      printf(\".--------------------------------------------.\\n\\n\");\n",
    "    }\n",
    "  }\n",
    "}\n",
    "\n",
    "#endif // ILLINOISGRMHD_EOS_FUNCTS_C_"
   ]
  },
  {
   "cell_type": "markdown",
   "metadata": {},
   "source": [
    "<a id='latex_pdf_output'></a>\n",
    "\n",
    "# Step n: Output this notebook to $\\LaTeX$-formatted PDF file \\[Back to [top](#toc)\\]\n",
    "$$\\label{latex_pdf_output}$$\n",
    "\n",
    "The following code cell converts this Jupyter notebook into a proper, clickable $\\LaTeX$-formatted PDF file. After the cell is successfully run, the generated PDF may be found in the root NRPy+ tutorial directory, with filename\n",
    "[Tutorial-IllinoisGRMHD__piecewise_polytrope_tests.pdf](Tutorial-IllinoisGRMHD__piecewise_polytrope_tests.pdf) (Note that clicking on this link may not work; you may need to open the PDF file through another means)."
   ]
  },
  {
   "cell_type": "code",
   "execution_count": 15,
   "metadata": {
    "execution": {
     "iopub.execute_input": "2021-05-17T23:43:06.648564Z",
     "iopub.status.busy": "2021-05-17T23:43:06.647948Z",
     "iopub.status.idle": "2021-05-17T23:43:06.771062Z",
     "shell.execute_reply": "2021-05-17T23:43:06.771834Z"
    }
   },
   "outputs": [
    {
     "name": "stdout",
     "output_type": "stream",
     "text": [
      "zsh:1: no matches found: Tut*.out\r\n"
     ]
    }
   ],
   "source": [
    "import os\n",
    "nrpy_dir_path = os.path.join(\"..\",\"..\")\n",
    "latex_nrpy_style_path = os.path.join(nrpy_dir_path,\"latex_nrpy_style.tplx\")\n",
    "#!jupyter nbconvert --to latex --template $latex_nrpy_style_path --log-level='WARN' Tutorial-IllinoisGRMHD__Piecewise_Polytrope_EOS.ipynb\n",
    "#!pdflatex -interaction=batchmode Tutorial-IllinoisGRMHD__Piecewise_Polytrope_EOS.tex\n",
    "#!pdflatex -interaction=batchmode Tutorial-IllinoisGRMHD__Piecewise_Polytrope_EOS.tex\n",
    "#!pdflatex -interaction=batchmode Tutorial-IllinoisGRMHD__Piecewise_Polytrope_EOS.tex\n",
    "!rm -f Tut*.out Tut*.aux Tut*.log"
   ]
  }
 ],
 "metadata": {
  "kernelspec": {
   "display_name": "Python 3",
   "language": "python",
   "name": "python3"
  },
  "language_info": {
   "codemirror_mode": {
    "name": "ipython",
    "version": 3
   },
   "file_extension": ".py",
   "mimetype": "text/x-python",
   "name": "python",
   "nbconvert_exporter": "python",
   "pygments_lexer": "ipython3",
   "version": "3.9.5"
  }
 },
 "nbformat": 4,
 "nbformat_minor": 2
}
