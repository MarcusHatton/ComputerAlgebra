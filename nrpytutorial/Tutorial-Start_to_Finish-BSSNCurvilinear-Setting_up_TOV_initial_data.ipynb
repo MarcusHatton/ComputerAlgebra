{
 "cells": [
  {
   "cell_type": "markdown",
   "metadata": {},
   "source": [
    "<script async src=\"https://www.googletagmanager.com/gtag/js?id=UA-59152712-8\"></script>\n",
    "<script>\n",
    "  window.dataLayer = window.dataLayer || [];\n",
    "  function gtag(){dataLayer.push(arguments);}\n",
    "  gtag('js', new Date());\n",
    "\n",
    "  gtag('config', 'UA-59152712-8');\n",
    "</script>\n",
    "\n",
    "# Start-to-Finish Example: Setting up Polytropic [TOV](https://en.wikipedia.org/wiki/Tolman%E2%80%93Oppenheimer%E2%80%93Volkoff_equation) Initial Data, in Curvilinear Coordinates\n",
    "\n",
    "## Authors: Zach Etienne, Phil Chang, and Leo Werneck\n",
    "### Formatting improvements courtesy Brandon Clark\n",
    "\n",
    "## This module sets up initial data for a TOV star in *spherical, isotropic coordinates*, using the *Numerical* ADM Spherical to BSSN Curvilinear initial data module (numerical = BSSN $\\lambda^i$'s are computed using finite-difference derivatives instead of exact expressions).\n",
    "\n",
    "**Notebook Status:** <font color='green'><b> Validated </b></font>\n",
    "\n",
    "**Validation Notes:** This module has been validated to exhibit convergence to zero of the Hamiltonian constraint violation at the expected order to the exact solution (see [plots](#convergence) at bottom). Note that convergence at the surface of the star will be lower order due to the sharp drop to zero in $T^{\\mu\\nu}$.</font>\n",
    "\n",
    "### NRPy+ Source Code for this module: \n",
    "\n",
    "* [TOV/TOV_Solver.py](../edit/TOV/TOV_Solver.py); ([**NRPy+ Tutorial module reviewing mathematical formulation and equations solved**](Tutorial-ADM_Initial_Data-TOV.ipynb)); ([**start-to-finish NRPy+ Tutorial module demonstrating that initial data satisfy Hamiltonian constraint**](Tutorial-Start_to_Finish-BSSNCurvilinear-Setting_up_TOV_initial_data.ipynb)): Tolman-Oppenheimer-Volkoff (TOV) initial data; defines all ADM variables and nonzero $T^{\\mu\\nu}$ components in Spherical basis.\n",
    "* [BSSN/ADM_Numerical_Spherical_or_Cartesian_to_BSSNCurvilinear.py](../edit/BSSN/ADM_Numerical_Spherical_or_Cartesian_to_BSSNCurvilinear.py); [\\[**tutorial**\\]](Tutorial-ADM_Initial_Data-Converting_Numerical_ADM_Spherical_or_Cartesian_to_BSSNCurvilinear.ipynb): *Numerical* Spherical ADM$\\to$Curvilinear BSSN converter function\n",
    "* [BSSN/BSSN_constraints.py](../edit/BSSN/BSSN_constraints.py); [\\[**tutorial**\\]](Tutorial-BSSN_constraints.ipynb): Hamiltonian constraint in BSSN curvilinear basis/coordinates\n",
    "\n",
    "## Introduction:\n",
    "Here we use NRPy+ to set up initial data for a [simple polytrope TOV star](https://en.wikipedia.org/wiki/Tolman%E2%80%93Oppenheimer%E2%80%93Volkoff_equation).\n",
    "\n",
    "The entire algorithm is outlined as follows, with links to the relevant NRPy+ tutorial notebooks listed at each step:\n",
    "\n",
    "1. Allocate memory for gridfunctions, including temporary storage for the Method of Lines time integration [(**NRPy+ tutorial on NRPy+ Method of Lines algorithm**)](Tutorial-Method_of_Lines-C_Code_Generation.ipynb).\n",
    "1. Set gridfunction values to initial data \n",
    "    * [**NRPy+ tutorial on TOV initial data**](Tutorial-ADM_Initial_Data-TOV.ipynb)\n",
    "    * [**NRPy+ tutorial on validating TOV initial data**](Tutorial-Start_to_Finish-BSSNCurvilinear-Setting_up_TOV_initial_data.ipynb).\n",
    "1. Evaluate the Hamiltonian constraint violation\n",
    "    * [**NRPy+ tutorial on BSSN constraints**](Tutorial-BSSN_constraints.ipynb)\n",
    "1. Repeat above steps at two numerical resolutions to confirm convergence of Hamiltonian constraint violation to zero."
   ]
  },
  {
   "cell_type": "markdown",
   "metadata": {},
   "source": [
    "<a id='toc'></a>\n",
    "\n",
    "# Table of Contents\n",
    "$$\\label{toc}$$\n",
    "\n",
    "This notebook is organized as follows\n",
    "\n",
    "1. [Step 1](#initializenrpy): Set core NRPy+ parameters for numerical grids and reference metric\n",
    "1. [Step 2](#adm_id_tov): Set up ADM initial data for polytropic TOV Star\n",
    "    1. [Step 2.a](#tov_interp): Interpolating the TOV data file as needed\n",
    "    1. [Step 2.b](#source): Compute source terms $S_{ij}$, $S_{i}$, $S$, and $\\rho$\n",
    "    1. [Step 2.c](#jacobian): Jacobian transformation on the ADM/BSSN source terms\n",
    "    1. [Step 2.d](#tensor): Rescale tensorial quantities\n",
    "1. [Step 3](#adm_id_spacetime): Convert ADM spacetime quantity initial data from Spherical to BSSN Curvilinear coordinates\n",
    "1. [Step 4](#validate): Validating that the TOV initial data satisfy the Hamiltonian constraint\n",
    "    1. [Step 4.a](#ham_const_output): Output the Hamiltonian Constraint\n",
    "    1. [Step 4.b](#apply_bcs): Apply singular, curvilinear coordinate boundary conditions\n",
    "    1. [Step 4.c](#enforce3metric): Enforce conformal 3-metric $\\det{\\bar{\\gamma}_{ij}}=\\det{\\hat{\\gamma}_{ij}}$ \n",
    "1. [Step 5](#mainc): `TOV_Playground.c`: The Main C Code\n",
    "1. [Step 6](#plot): Plotting the single-neutron-star initial data\n",
    "1. [Step 7](#convergence): Validation: Convergence of numerical errors (Hamiltonian constraint violation) to zero\n",
    "1. [Step 8](#latex_pdf_output): Output this notebook to $\\LaTeX$-formatted PDF file"
   ]
  },
  {
   "cell_type": "markdown",
   "metadata": {},
   "source": [
    "<a id='initalizenrpy'></a>\n",
    "\n",
    "# Step 1: Set core NRPy+ parameters for numerical grids and reference metric \\[Back to [top](#toc)\\]\n",
    "$$\\label{initializenrpy}$$\n"
   ]
  },
  {
   "cell_type": "code",
   "execution_count": 1,
   "metadata": {
    "execution": {
     "iopub.execute_input": "2021-03-07T17:27:11.556972Z",
     "iopub.status.busy": "2021-03-07T17:27:11.556062Z",
     "iopub.status.idle": "2021-03-07T17:27:12.308830Z",
     "shell.execute_reply": "2021-03-07T17:27:12.308115Z"
    }
   },
   "outputs": [],
   "source": [
    "# Step P1: Import needed NRPy+ core modules:\n",
    "from outputC import lhrh,outCfunction,outputC  # NRPy+: Core C code output module\n",
    "import NRPy_param_funcs as par   # NRPy+: Parameter interface\n",
    "import sympy as sp               # SymPy: The Python computer algebra package upon which NRPy+ depends\n",
    "import finite_difference as fin  # NRPy+: Finite difference C code generation module\n",
    "import grid as gri               # NRPy+: Functions having to do with numerical grids\n",
    "import indexedexp as ixp         # NRPy+: Symbolic indexed expression (e.g., tensors, vectors, etc.) support\n",
    "import reference_metric as rfm   # NRPy+: Reference metric support\n",
    "import cmdline_helper as cmd     # NRPy+: Multi-platform Python command-line interface\n",
    "import shutil, os, sys           # Standard Python modules for multiplatform OS-level functions\n",
    "\n",
    "# Step P2: Create C code output directory:\n",
    "Ccodesdir = os.path.join(\"TOVID_Ccodes/\")\n",
    "# First remove C code output directory if it exists\n",
    "# Courtesy https://stackoverflow.com/questions/303200/how-do-i-remove-delete-a-folder-that-is-not-empty\n",
    "# !rm -r ScalarWaveCurvilinear_Playground_Ccodes\n",
    "shutil.rmtree(Ccodesdir, ignore_errors=True)\n",
    "# Then create a fresh directory\n",
    "cmd.mkdir(Ccodesdir)\n",
    "\n",
    "# Step P3: Create executable output directory:\n",
    "outdir = os.path.join(Ccodesdir,\"output/\")\n",
    "cmd.mkdir(outdir)\n",
    "\n",
    "# Step 1: Set the spatial dimension parameter\n",
    "#         to three this time, and then read\n",
    "#         the parameter as DIM.\n",
    "par.set_parval_from_str(\"grid::DIM\",3)\n",
    "DIM = par.parval_from_str(\"grid::DIM\")\n",
    "\n",
    "# Step 2: Set some core parameters, including CoordSystem MoL timestepping algorithm,\n",
    "#                                 FD order, floating point precision, and CFL factor:\n",
    "# Choices are: Spherical, SinhSpherical, SinhSphericalv2, Cylindrical, SinhCylindrical,\n",
    "#              SymTP, SinhSymTP\n",
    "CoordSystem     = \"Spherical\"\n",
    "\n",
    "# Step 2.a: Set defaults for Coordinate system parameters.\n",
    "#           These are perhaps the most commonly adjusted parameters,\n",
    "#           so we enable modifications at this high level.\n",
    "\n",
    "# domain_size     = 7.5 # SET BELOW BASED ON TOV STELLAR RADIUS\n",
    "\n",
    "# sinh_width sets the default value for:\n",
    "#   * SinhSpherical's params.SINHW\n",
    "#   * SinhCylindrical's params.SINHW{RHO,Z}\n",
    "#   * SinhSymTP's params.SINHWAA\n",
    "sinh_width      = 0.4 # If Sinh* coordinates chosen\n",
    "\n",
    "# sinhv2_const_dr sets the default value for:\n",
    "#   * SinhSphericalv2's params.const_dr\n",
    "#   * SinhCylindricalv2's params.const_d{rho,z}\n",
    "sinhv2_const_dr = 0.05# If Sinh*v2 coordinates chosen\n",
    "\n",
    "# SymTP_bScale sets the default value for:\n",
    "#   * SinhSymTP's params.bScale\n",
    "SymTP_bScale    = 0.5 # If SymTP chosen\n",
    "\n",
    "# Step 2.b: Set the order of spatial finite difference derivatives;\n",
    "#           and the core data type.\n",
    "FD_order  = 4        # Finite difference order: even numbers only, starting with 2. 12 is generally unstable\n",
    "REAL      = \"double\" # Best to use double here.\n",
    "\n",
    "# Step 3: Set the coordinate system for the numerical grid\n",
    "par.set_parval_from_str(\"reference_metric::CoordSystem\",CoordSystem)\n",
    "rfm.reference_metric() # Create ReU, ReDD needed for rescaling B-L initial data, generating BSSN RHSs, etc.\n",
    "\n",
    "# Step 4: Set the finite differencing order to FD_order (set above).\n",
    "par.set_parval_from_str(\"finite_difference::FD_CENTDERIVS_ORDER\", FD_order)\n",
    "\n",
    "# Step 5: Set the direction=2 (phi) axis to be the symmetry axis; i.e.,\n",
    "#         axis \"2\", corresponding to the i2 direction.\n",
    "#         This sets all spatial derivatives in the phi direction to zero.\n",
    "par.set_parval_from_str(\"indexedexp::symmetry_axes\",\"2\")\n",
    "\n",
    "# Step 6: The MoLtimestepping interface is only used for memory allocation/deallocation\n",
    "import MoLtimestepping.C_Code_Generation as MoL\n",
    "from MoLtimestepping.RK_Butcher_Table_Dictionary import Butcher_dict\n",
    "RK_method = \"Euler\" # DOES NOT MATTER; Again MoL interface is only used for memory alloc/dealloc.\n",
    "RK_order  = Butcher_dict[RK_method][1]\n",
    "cmd.mkdir(os.path.join(Ccodesdir,\"MoLtimestepping/\"))\n",
    "MoL.MoL_C_Code_Generation(RK_method, RHS_string      = \"\", post_RHS_string = \"\",\n",
    "    outdir = os.path.join(Ccodesdir,\"MoLtimestepping/\"))\n",
    "\n",
    "# Step 7: Polytropic EOS setup\n",
    "# For EOS_type, choose either \"SimplePolytrope\" or \"PiecewisePolytrope\"\n",
    "EOS_type = \"SimplePolytrope\"\n",
    "# If \"PiecewisePolytrope\" is chosen as EOS_type, you\n",
    "#   must also choose the name of the EOS, which can\n",
    "#   be any of the following:\n",
    "# 'PAL6', 'SLy', 'APR1', 'APR2', 'APR3', 'APR4',\n",
    "# 'FPS', 'WFF1', 'WFF2', 'WFF3', 'BBB2', 'BPAL12',\n",
    "# 'ENG', 'MPA1', 'MS1', 'MS2', 'MS1b', 'PS', 'GS1',\n",
    "# 'GS2', 'BGN1H1', 'GNH3', 'H1', 'H2', 'H3', 'H4',\n",
    "# 'H5', 'H6', 'H7', 'PCL2', 'ALF1', 'ALF2', 'ALF3',\n",
    "# 'ALF4'\n",
    "EOS_name = 'SLy' # <-- IGNORED IF EOS_type is not PiecewisePolytrope."
   ]
  },
  {
   "cell_type": "markdown",
   "metadata": {},
   "source": [
    "<a id='adm_id_tov'></a>\n",
    "\n",
    "# Step 2: Set up ADM initial data for polytropic TOV Star \\[Back to [top](#toc)\\]\n",
    "$$\\label{adm_id_tov}$$\n",
    "\n",
    "As documented [in the TOV Initial Data NRPy+ Tutorial Module](Tutorial-TOV_Initial_Data.ipynb) ([older version here](Tutorial-GRMHD_UnitConversion.ipynb)), we will now set up TOV initial data, storing the densely-sampled result to file (***Courtesy Phil Chang***).\n",
    "\n",
    "The TOV solver uses an ODE integration routine provided by scipy, so we first make sure that scipy is installed:"
   ]
  },
  {
   "cell_type": "code",
   "execution_count": 2,
   "metadata": {
    "execution": {
     "iopub.execute_input": "2021-03-07T17:27:12.314111Z",
     "iopub.status.busy": "2021-03-07T17:27:12.313153Z",
     "iopub.status.idle": "2021-03-07T17:27:13.367388Z",
     "shell.execute_reply": "2021-03-07T17:27:13.368227Z"
    },
    "scrolled": true
   },
   "outputs": [],
   "source": [
    "!pip install scipy > /dev/null"
   ]
  },
  {
   "cell_type": "markdown",
   "metadata": {},
   "source": [
    "Next we call the [`TOV.TOV_Solver()` function](../edit/TOV/TOV_Solver.py) ([NRPy+ Tutorial module](Tutorial-ADM_Initial_Data-TOV.ipynb)) to set up the initial data, using the default parameters for initial data. This function outputs the solution to a file named \"outputTOVpolytrope.txt\"."
   ]
  },
  {
   "cell_type": "code",
   "execution_count": 3,
   "metadata": {
    "execution": {
     "iopub.execute_input": "2021-03-07T17:27:13.384270Z",
     "iopub.status.busy": "2021-03-07T17:27:13.383592Z",
     "iopub.status.idle": "2021-03-07T17:27:13.745188Z",
     "shell.execute_reply": "2021-03-07T17:27:13.745799Z"
    }
   },
   "outputs": [
    {
     "name": "stdout",
     "output_type": "stream",
     "text": [
      "1256 1256 1256 1256 1256 1256\n",
      "Just generated a TOV star with\n",
      "* M        = 1.405030336771405e-01 ,\n",
      "* R_Schw   = 9.566044579232513e-01 ,\n",
      "* R_iso    = 8.100085557410308e-01 ,\n",
      "* M/R_Schw = 1.468768334847266e-01 \n",
      "\n"
     ]
    }
   ],
   "source": [
    "##########################\n",
    "# Polytropic EOS example #\n",
    "##########################\n",
    "import TOV.Polytropic_EOSs as ppeos\n",
    "\n",
    "if EOS_type == \"SimplePolytrope\":\n",
    "    # Set neos = 1 (single polytrope)\n",
    "    neos = 1\n",
    "\n",
    "    # Set rho_poly_tab (not needed for a single polytrope)\n",
    "    rho_poly_tab = []\n",
    "\n",
    "    # Set Gamma_poly_tab\n",
    "    Gamma_poly_tab = [2.0]\n",
    "\n",
    "    # Set K_poly_tab0\n",
    "    K_poly_tab0 = 1. # ZACH NOTES: CHANGED FROM 100.\n",
    "\n",
    "    # Set the eos quantities\n",
    "    eos = ppeos.set_up_EOS_parameters__complete_set_of_input_variables(neos,rho_poly_tab,Gamma_poly_tab,K_poly_tab0)\n",
    "    rho_baryon_central = 0.129285\n",
    "elif EOS_type == \"PiecewisePolytrope\":\n",
    "    eos = ppeos.set_up_EOS_parameters__Read_et_al_input_variables(EOS_name)\n",
    "    rho_baryon_central=2.0\n",
    "else:\n",
    "    print(\"\"\"Error: unknown EOS_type. Valid types are 'SimplePolytrope' and 'PiecewisePolytrope' \"\"\")\n",
    "    sys.exit(1)\n",
    "\n",
    "import TOV.TOV_Solver as TOV\n",
    "M_TOV, R_Schw_TOV, R_iso_TOV = TOV.TOV_Solver(eos,\n",
    "                                              outfile=\"outputTOVpolytrope.txt\",\n",
    "                                              rho_baryon_central=rho_baryon_central,\n",
    "                                              return_M_RSchw_and_Riso = True,\n",
    "                                              verbose = True)\n",
    "\n",
    "# domain_size sets the default value for:\n",
    "#   * Spherical's params.RMAX\n",
    "#   * SinhSpherical*'s params.AMAX\n",
    "#   * Cartesians*'s -params.{x,y,z}min & .{x,y,z}max\n",
    "#   * Cylindrical's -params.ZMIN & .{Z,RHO}MAX\n",
    "#   * SinhCylindrical's params.AMPL{RHO,Z}\n",
    "#   * *SymTP's params.AMAX\n",
    "domain_size = 2.0 * R_iso_TOV"
   ]
  },
  {
   "cell_type": "markdown",
   "metadata": {},
   "source": [
    "<a id='tov_interp'></a>\n",
    "\n",
    "## Step 2.a: Interpolate the TOV data file as needed to set up ADM spacetime quantities in spherical basis (for input into the `Converting_Numerical_ADM_Spherical_or_Cartesian_to_BSSNCurvilinear` module) and $T^{\\mu\\nu}$ in the chosen reference metric basis \\[Back to [top](#toc)\\]\n",
    "$$\\label{tov_interp}$$\n",
    "\n",
    "The TOV data file just written stored $\\left(r,\\rho(r),P(r),M(r),e^{\\nu(r)}\\right)$, where $\\rho(r)$ is the total mass-energy density (cf. $\\rho_{\\text{baryonic}}$).\n",
    "\n",
    "**METRIC DATA IN TERMS OF ADM QUANTITIES**\n",
    "\n",
    "The [TOV line element](https://en.wikipedia.org/wiki/Tolman%E2%80%93Oppenheimer%E2%80%93Volkoff_equation) in *Schwarzschild coordinates* is written (in the $-+++$ form):\n",
    "$$\n",
    "ds^2 = - c^2 e^\\nu dt^2 + \\left(1 - \\frac{2GM}{rc^2}\\right)^{-1} dr^2 + r^2 d\\Omega^2.\n",
    "$$\n",
    "\n",
    "In *isotropic coordinates* with $G=c=1$ (i.e., the coordinate system we'd prefer to use), the ($-+++$ form) line element is written:\n",
    "$$\n",
    "ds^2 = - e^{\\nu} dt^2 + e^{4\\phi} \\left(d\\bar{r}^2 + \\bar{r}^2 d\\Omega^2\\right),\n",
    "$$\n",
    "where $\\phi$ here is the *conformal factor*.\n",
    "\n",
    "The ADM 3+1 line element for this diagonal metric in isotropic spherical coordinates is given by:\n",
    "$$\n",
    "ds^2 = (-\\alpha^2 + \\beta_k \\beta^k) dt^2 + \\gamma_{\\bar{r}\\bar{r}} d\\bar{r}^2 + \\gamma_{\\theta\\theta} d\\theta^2+ \\gamma_{\\phi\\phi} d\\phi^2,\n",
    "$$\n",
    "\n",
    "from which we can immediately read off the ADM quantities:\n",
    "\\begin{align}\n",
    "\\alpha &= e^{\\nu(\\bar{r})/2} \\\\\n",
    "\\beta^k &= 0 \\\\\n",
    "\\gamma_{\\bar{r}\\bar{r}} &= e^{4\\phi}\\\\\n",
    "\\gamma_{\\theta\\theta} &= e^{4\\phi} \\bar{r}^2 \\\\\n",
    "\\gamma_{\\phi\\phi} &= e^{4\\phi} \\bar{r}^2 \\sin^2 \\theta \\\\\n",
    "\\end{align}\n",
    "\n",
    "**STRESS-ENERGY TENSOR $T^{\\mu\\nu}$**\n",
    "\n",
    "We will also need the stress-energy tensor $T^{\\mu\\nu}$. [As discussed here](https://en.wikipedia.org/wiki/Tolman%E2%80%93Oppenheimer%E2%80%93Volkoff_equation), the stress-energy tensor is diagonal:\n",
    "\n",
    "\\begin{align}\n",
    "T^t_t &= -\\rho \\\\\n",
    "T^i_j &= P \\delta^i_j \\\\\n",
    "\\text{All other components of }T^\\mu_\\nu &= 0.\n",
    "\\end{align}\n",
    "\n",
    "Since $\\beta^i=0$ the inverse metric expression simplifies to (Eq. 4.49 in [Gourgoulhon](https://arxiv.org/pdf/gr-qc/0703035.pdf)):\n",
    "$$\n",
    "g^{\\mu\\nu} = \\begin{pmatrix} \n",
    "-\\frac{1}{\\alpha^2} & \\frac{\\beta^i}{\\alpha^2} \\\\\n",
    "\\frac{\\beta^i}{\\alpha^2} & \\gamma^{ij} - \\frac{\\beta^i\\beta^j}{\\alpha^2}\n",
    "\\end{pmatrix} =\n",
    "\\begin{pmatrix} \n",
    "-\\frac{1}{\\alpha^2} & 0 \\\\\n",
    "0 & \\gamma^{ij}\n",
    "\\end{pmatrix},\n",
    "$$\n",
    "\n",
    "and since the 3-metric is diagonal we get\n",
    "\n",
    "\\begin{align}\n",
    "\\gamma^{\\bar{r}\\bar{r}} &= e^{-4\\phi}\\\\\n",
    "\\gamma^{\\theta\\theta} &= e^{-4\\phi}\\frac{1}{\\bar{r}^2} \\\\\n",
    "\\gamma^{\\phi\\phi} &= e^{-4\\phi}\\frac{1}{\\bar{r}^2 \\sin^2 \\theta}.\n",
    "\\end{align}\n",
    "\n",
    "Thus raising $T^\\mu_\\nu$ yields a diagonal $T^{\\mu\\nu}$\n",
    "\n",
    "\\begin{align}\n",
    "T^{tt} &= -g^{tt} \\rho = \\frac{1}{\\alpha^2} \\rho = e^{-\\nu(\\bar{r})} \\rho \\\\\n",
    "T^{\\bar{r}\\bar{r}} &= g^{\\bar{r}\\bar{r}} P = \\frac{1}{e^{4 \\phi}} P \\\\\n",
    "T^{\\theta\\theta} &= g^{\\theta\\theta} P = \\frac{1}{e^{4 \\phi}\\bar{r}^2} P\\\\\n",
    "T^{\\phi\\phi} &= g^{\\phi\\phi} P = \\frac{1}{e^{4\\phi}\\bar{r}^2 \\sin^2 \\theta} P \n",
    "\\end{align}"
   ]
  },
  {
   "cell_type": "code",
   "execution_count": 4,
   "metadata": {
    "execution": {
     "iopub.execute_input": "2021-03-07T17:27:13.761784Z",
     "iopub.status.busy": "2021-03-07T17:27:13.760866Z",
     "iopub.status.idle": "2021-03-07T17:27:13.763327Z",
     "shell.execute_reply": "2021-03-07T17:27:13.763891Z"
    }
   },
   "outputs": [],
   "source": [
    "thismodule = \"TOVID\"\n",
    "rbar,theta,rho,P,expnu,exp4phi = par.Cparameters(\"REAL\",thismodule,\n",
    "                                                 [\"rbar\",\"theta\",\"rho\",\"P\",\"expnu\",\"exp4phi\"],1e300)\n",
    "IDalpha = sp.sqrt(expnu)\n",
    "gammaSphDD = ixp.zerorank2(DIM=3)\n",
    "gammaSphDD[0][0] = exp4phi\n",
    "gammaSphDD[1][1] = exp4phi*rbar**2\n",
    "gammaSphDD[2][2] = exp4phi*rbar**2*sp.sin(theta)**2\n",
    "\n",
    "T4SphUU = ixp.zerorank2(DIM=4)\n",
    "T4SphUU[0][0] = rho/expnu\n",
    "T4SphUU[1][1] = P/exp4phi\n",
    "T4SphUU[2][2] = P/(exp4phi*rbar**2)\n",
    "T4SphUU[3][3] = P/(exp4phi*rbar**2*sp.sin(theta)**2)"
   ]
  },
  {
   "cell_type": "code",
   "execution_count": 5,
   "metadata": {
    "execution": {
     "iopub.execute_input": "2021-03-07T17:27:13.773688Z",
     "iopub.status.busy": "2021-03-07T17:27:13.772953Z",
     "iopub.status.idle": "2021-03-07T17:27:13.795143Z",
     "shell.execute_reply": "2021-03-07T17:27:13.795654Z"
    }
   },
   "outputs": [
    {
     "name": "stdout",
     "output_type": "stream",
     "text": [
      "Output C function ID_TOV_ADM_quantities() to file TOVID_Ccodes/ID_TOV_ADM_quantities.h\n"
     ]
    }
   ],
   "source": [
    "expr_list = [IDalpha]\n",
    "name_list = [\"*alpha\"]\n",
    "for i in range(3):\n",
    "    for j in range(i,3):\n",
    "        expr_list.append(gammaSphDD[i][j])\n",
    "        name_list.append(\"*gammaDD\"+str(i)+str(j))\n",
    "\n",
    "desc = \"\"\"This function takes as input either (x,y,z) or (r,th,ph) and outputs\n",
    "all ADM quantities in the Cartesian or Spherical basis, respectively.\"\"\"\n",
    "name = \"ID_TOV_ADM_quantities\"\n",
    "outCparams = \"preindent=1,outCverbose=False,includebraces=False\"\n",
    "\n",
    "outCfunction(\n",
    "    outfile=os.path.join(Ccodesdir, name + \".h\"), desc=desc, name=name,\n",
    "    params=\"\"\"  const REAL xyz_or_rthph[3],\n",
    "\n",
    "                const ID_inputs other_inputs,\n",
    "\n",
    "                REAL *gammaDD00,REAL *gammaDD01,REAL *gammaDD02,REAL *gammaDD11,REAL *gammaDD12,REAL *gammaDD22,\n",
    "                REAL *KDD00,REAL *KDD01,REAL *KDD02,REAL *KDD11,REAL *KDD12,REAL *KDD22,\n",
    "                REAL *alpha,\n",
    "                REAL *betaU0,REAL *betaU1,REAL *betaU2,\n",
    "                REAL *BU0,REAL *BU1,REAL *BU2\"\"\",\n",
    "    body=\"\"\"\n",
    "      // Set trivial metric quantities:\n",
    "      *KDD00 = *KDD01 = *KDD02 = 0.0;\n",
    "      /**/     *KDD11 = *KDD12 = 0.0;\n",
    "      /**/              *KDD22 = 0.0;\n",
    "      *betaU0 = *betaU1 = *betaU2 = 0.0;\n",
    "      *BU0 = *BU1 = *BU2 = 0.0;\n",
    "\n",
    "      // Next set gamma_{ij} in spherical basis\n",
    "      const REAL rbar  = xyz_or_rthph[0];\n",
    "      const REAL theta = xyz_or_rthph[1];\n",
    "      const REAL phi   = xyz_or_rthph[2];\n",
    "\n",
    "      REAL rho,rho_baryon,P,M,expnu,exp4phi;\n",
    "      TOV_interpolate_1D(rbar,other_inputs.Rbar,other_inputs.Rbar_idx,other_inputs.interp_stencil_size,\n",
    "                         other_inputs.numlines_in_file,\n",
    "                         other_inputs.r_Schw_arr,other_inputs.rho_arr,other_inputs.rho_baryon_arr,other_inputs.P_arr,other_inputs.M_arr,\n",
    "                         other_inputs.expnu_arr,other_inputs.exp4phi_arr,other_inputs.rbar_arr,\n",
    "                         &rho,&rho_baryon,&P,&M,&expnu,&exp4phi);\\n\"\"\"+\n",
    "    outputC(expr_list,name_list, \"returnstring\",outCparams),\n",
    "    opts=\"DisableCparameters\")"
   ]
  },
  {
   "cell_type": "markdown",
   "metadata": {},
   "source": [
    "As all input quantities are functions of $r$, we will simply read the solution from file and interpolate it to the values of $r$ needed by the initial data.\n",
    "\n",
    "1. First we define functions `ID_TOV_ADM_quantities()` and `ID_TOV_TUPMUNU()` that call the [1D TOV interpolator function](../edit/TOV/tov_interp.h) to evaluate the ADM spacetime quantities and $T^{\\mu\\nu}$, respectively, at any given point $(r,\\theta,\\phi)$ in the Spherical basis. All quantities are defined as above.\n",
    "1. Next we will construct the BSSN/ADM source terms $\\{S_{ij},S_{i},S,\\rho\\}$ in the Spherical basis\n",
    "1. Then we will perform the Jacobian transformation on $\\{S_{ij},S_{i},S,\\rho\\}$ to the desired `(xx0,xx1,xx2)` basis\n",
    "1. Next we call the *Numerical* Spherical ADM$\\to$Curvilinear BSSN converter function to conver the above ADM quantities to the rescaled BSSN quantities in the desired curvilinear coordinate system: [BSSN/ADM_Numerical_Spherical_or_Cartesian_to_BSSNCurvilinear.py](../edit/BSSN/ADM_Numerical_Spherical_or_Cartesian_to_BSSNCurvilinear.py); [\\[**tutorial**\\]](Tutorial-ADM_Initial_Data-Converting_Numerical_ADM_Spherical_or_Cartesian_to_BSSNCurvilinear.ipynb).\n",
    "\n",
    "$$\n",
    "{\\rm Jac\\_dUSph\\_dDrfmUD[mu][nu]} = \\frac{\\partial x^\\mu_{\\rm Sph}}{\\partial x^\\nu_{\\rm rfm}},\n",
    "$$\n",
    "\n",
    "via exact differentiation (courtesy SymPy), and the inverse Jacobian\n",
    "$$\n",
    "{\\rm Jac\\_dUrfm\\_dDSphUD[mu][nu]} = \\frac{\\partial x^\\mu_{\\rm rfm}}{\\partial x^\\nu_{\\rm Sph}},\n",
    "$$\n",
    "\n",
    "using NRPy+'s `generic_matrix_inverter3x3()` function. In terms of these, the transformation of BSSN tensors from Spherical to `\"reference_metric::CoordSystem\"` coordinates may be written:\n",
    "\n",
    "$$\n",
    "T^{\\mu\\nu}_{\\rm rfm} = \n",
    "\\frac{\\partial x^\\mu_{\\rm rfm}}{\\partial x^\\delta_{\\rm Sph}}\n",
    "\\frac{\\partial x^\\nu_{\\rm rfm}}{\\partial x^\\sigma_{\\rm Sph}} T^{\\delta\\sigma}_{\\rm Sph}\n",
    "$$"
   ]
  },
  {
   "cell_type": "code",
   "execution_count": 6,
   "metadata": {
    "execution": {
     "iopub.execute_input": "2021-03-07T17:27:13.835014Z",
     "iopub.status.busy": "2021-03-07T17:27:13.834103Z",
     "iopub.status.idle": "2021-03-07T17:27:13.836999Z",
     "shell.execute_reply": "2021-03-07T17:27:13.837473Z"
    }
   },
   "outputs": [
    {
     "name": "stdout",
     "output_type": "stream",
     "text": [
      "Output C function ID_TOV_TUPMUNU_xx0xx1xx2() to file TOVID_Ccodes/ID_TOV_TUPMUNU_xx0xx1xx2.h\n"
     ]
    }
   ],
   "source": [
    "r_th_ph_or_Cart_xyz_oID_xx = []\n",
    "CoordType_in = \"Spherical\"\n",
    "if CoordType_in == \"Spherical\":\n",
    "    r_th_ph_or_Cart_xyz_oID_xx = rfm.xxSph\n",
    "elif CoordType_in == \"Cartesian\":\n",
    "    r_th_ph_or_Cart_xyz_oID_xx = rfm.xx_to_Cart\n",
    "else:\n",
    "    print(\"Error: Can only convert ADM Cartesian or Spherical initial data to BSSN Curvilinear coords.\")\n",
    "    exit(1)\n",
    "\n",
    "# Next apply Jacobian transformations to convert into the (xx0,xx1,xx2) basis\n",
    "\n",
    "# rho and S are scalar, so no Jacobian transformations are necessary.\n",
    "\n",
    "Jac4_dUSphorCart_dDrfmUD = ixp.zerorank2(DIM=4)\n",
    "Jac4_dUSphorCart_dDrfmUD[0][0] = sp.sympify(1)\n",
    "for i in range(DIM):\n",
    "    for j in range(DIM):\n",
    "        Jac4_dUSphorCart_dDrfmUD[i+1][j+1] = sp.diff(r_th_ph_or_Cart_xyz_oID_xx[i],rfm.xx[j])\n",
    "\n",
    "Jac4_dUrfm_dDSphorCartUD, dummyDET = ixp.generic_matrix_inverter4x4(Jac4_dUSphorCart_dDrfmUD)\n",
    "\n",
    "# Perform Jacobian operations on T^{mu nu} and gamma_{ij}\n",
    "T4UU = ixp.register_gridfunctions_for_single_rank2(\"AUXEVOL\",\"T4UU\",\"sym01\",DIM=4)\n",
    "\n",
    "IDT4UU = ixp.zerorank2(DIM=4)\n",
    "for mu in range(4):\n",
    "    for nu in range(4):\n",
    "        for delta in range(4):\n",
    "            for sigma in range(4):\n",
    "                IDT4UU[mu][nu] += \\\n",
    "                     Jac4_dUrfm_dDSphorCartUD[mu][delta]*Jac4_dUrfm_dDSphorCartUD[nu][sigma]*T4SphUU[delta][sigma]\n",
    "\n",
    "lhrh_list = []\n",
    "for mu in range(4):\n",
    "    for nu in range(mu,4):\n",
    "        lhrh_list.append(lhrh(lhs=gri.gfaccess(\"auxevol_gfs\",\"T4UU\"+str(mu)+str(nu)),rhs=IDT4UU[mu][nu]))\n",
    "\n",
    "desc = \"\"\"This function takes as input either (x,y,z) or (r,th,ph) and outputs\n",
    "all ADM quantities in the Cartesian or Spherical basis, respectively.\"\"\"\n",
    "name = \"ID_TOV_TUPMUNU_xx0xx1xx2\"\n",
    "outCparams = \"preindent=1,outCverbose=False,includebraces=False\"\n",
    "outCfunction(\n",
    "    outfile=os.path.join(Ccodesdir, name + \".h\"), desc=desc, name=name,\n",
    "    params=\"\"\"const paramstruct *restrict params,REAL *restrict xx[3],\n",
    "              const ID_inputs other_inputs,REAL *restrict auxevol_gfs\"\"\",\n",
    "    body=outputC([rfm.xxSph[0],rfm.xxSph[1],rfm.xxSph[2]],\n",
    "                 [\"const REAL rbar\",\"const REAL theta\",\"const REAL ph\"],\"returnstring\",\n",
    "                 \"CSE_enable=False,includebraces=False\")+\"\"\"\n",
    "      REAL rho,rho_baryon,P,M,expnu,exp4phi;\n",
    "      TOV_interpolate_1D(rbar,other_inputs.Rbar,other_inputs.Rbar_idx,other_inputs.interp_stencil_size,\n",
    "                         other_inputs.numlines_in_file,\n",
    "                         other_inputs.r_Schw_arr,other_inputs.rho_arr,other_inputs.rho_baryon_arr,other_inputs.P_arr,other_inputs.M_arr,\n",
    "                         other_inputs.expnu_arr,other_inputs.exp4phi_arr,other_inputs.rbar_arr,\n",
    "                         &rho,&rho_baryon,&P,&M,&expnu,&exp4phi);\\n\"\"\"+\n",
    "    fin.FD_outputC(\"returnstring\",lhrh_list,params=\"outCverbose=False,includebraces=False\").replace(\"IDX4\",\"IDX4S\"),\n",
    "    loopopts=\"AllPoints,Read_xxs\")"
   ]
  },
  {
   "cell_type": "markdown",
   "metadata": {},
   "source": [
    "<a id='adm_id_spacetime'></a>\n",
    "\n",
    "# Step 3: Convert ADM initial data to BSSN-in-curvilinear coordinates \\[Back to [top](#toc)\\]\n",
    "$$\\label{adm_id_spacetime}$$\n",
    "\n",
    "This is an automated process, taken care of by [`BSSN.ADM_Numerical_Spherical_or_Cartesian_to_BSSNCurvilinear`](../edit/BSSN.ADM_Numerical_Spherical_or_Cartesian_to_BSSNCurvilinear.py), and documented [in this tutorial notebook](Tutorial-ADM_Initial_Data-Converting_Numerical_ADM_Spherical_or_Cartesian_to_BSSNCurvilinear.ipynb)."
   ]
  },
  {
   "cell_type": "code",
   "execution_count": 7,
   "metadata": {
    "execution": {
     "iopub.execute_input": "2021-03-07T17:27:13.841974Z",
     "iopub.status.busy": "2021-03-07T17:27:13.841315Z",
     "iopub.status.idle": "2021-03-07T17:27:14.778513Z",
     "shell.execute_reply": "2021-03-07T17:27:14.777861Z"
    }
   },
   "outputs": [
    {
     "name": "stdout",
     "output_type": "stream",
     "text": [
      "Output C function ID_BSSN_lambdas() to file TOVID_Ccodes/ID_BSSN_lambdas.h\n",
      "Output C function ID_ADM_xx0xx1xx2_to_BSSN_xx0xx1xx2__ALL_BUT_LAMBDAs() to file TOVID_Ccodes/ID_ADM_xx0xx1xx2_to_BSSN_xx0xx1xx2__ALL_BUT_LAMBDAs.h\n",
      "Output C function ID_BSSN__ALL_BUT_LAMBDAs() to file TOVID_Ccodes/ID_BSSN__ALL_BUT_LAMBDAs.h\n"
     ]
    }
   ],
   "source": [
    "import BSSN.ADM_Numerical_Spherical_or_Cartesian_to_BSSNCurvilinear as AtoBnum\n",
    "AtoBnum.Convert_Spherical_or_Cartesian_ADM_to_BSSN_curvilinear(\"Spherical\",\"ID_TOV_ADM_quantities\",\n",
    "                                                               Ccodesdir=Ccodesdir,loopopts=\"\")"
   ]
  },
  {
   "cell_type": "markdown",
   "metadata": {},
   "source": [
    "<a id='validate'></a>\n",
    "\n",
    "# Step 4: Validating that the TOV initial data satisfy the Hamiltonian constraint \\[Back to [top](#toc)\\]\n",
    "$$\\label{validate}$$\n",
    "\n",
    "We will validate that the TOV initial data satisfy the Hamiltonian constraint, modulo numerical finite differencing error"
   ]
  },
  {
   "cell_type": "markdown",
   "metadata": {},
   "source": [
    "<a id='ham_const_output'></a>\n",
    "\n",
    "## Step 4.a: Output the Hamiltonian constraint \\[Back to [top](#toc)\\]\n",
    "$$\\label{ham_const_output}$$\n",
    "\n",
    "First output the Hamiltonian constraint [as documented in the corresponding NRPy+ tutorial notebook](Tutorial-BSSN_constraints.ipynb)"
   ]
  },
  {
   "cell_type": "code",
   "execution_count": 8,
   "metadata": {
    "execution": {
     "iopub.execute_input": "2021-03-07T17:27:14.787756Z",
     "iopub.status.busy": "2021-03-07T17:27:14.786761Z",
     "iopub.status.idle": "2021-03-07T17:28:06.273148Z",
     "shell.execute_reply": "2021-03-07T17:28:06.273626Z"
    }
   },
   "outputs": [
    {
     "name": "stdout",
     "output_type": "stream",
     "text": [
      "Output C function Hamiltonian_constraint() to file TOVID_Ccodes/Hamiltonian_constraint.h\n"
     ]
    }
   ],
   "source": [
    "# Enable rfm_precompute infrastructure, which results in\n",
    "#   BSSN RHSs that are free of transcendental functions,\n",
    "#   even in curvilinear coordinates, so long as\n",
    "#   ConformalFactor is set to \"W\" (default).\n",
    "cmd.mkdir(os.path.join(Ccodesdir,\"rfm_files/\"))\n",
    "par.set_parval_from_str(\"reference_metric::enable_rfm_precompute\",\"True\")\n",
    "par.set_parval_from_str(\"reference_metric::rfm_precompute_Ccode_outdir\",os.path.join(Ccodesdir,\"rfm_files/\"))\n",
    "\n",
    "import BSSN.Enforce_Detgammabar_Constraint as EGC\n",
    "enforce_detg_constraint_symb_expressions = EGC.Enforce_Detgammabar_Constraint_symb_expressions()\n",
    "\n",
    "\n",
    "# Now register the Hamiltonian as a gridfunction.\n",
    "H = gri.register_gridfunctions(\"AUX\",\"H\")\n",
    "# Then define the Hamiltonian constraint and output the optimized C code.\n",
    "import BSSN.BSSN_constraints as bssncon\n",
    "import BSSN.BSSN_stress_energy_source_terms as Bsest\n",
    "bssncon.BSSN_constraints(add_T4UUmunu_source_terms=False)\n",
    "Bsest.BSSN_source_terms_for_BSSN_constraints(T4UU)\n",
    "bssncon.H += Bsest.sourceterm_H\n",
    "\n",
    "# Now that we are finished with all the rfm hatted\n",
    "#           quantities in generic precomputed functional\n",
    "#           form, let's restore them to their closed-\n",
    "#           form expressions.\n",
    "par.set_parval_from_str(\"reference_metric::enable_rfm_precompute\",\"False\") # Reset to False to disable rfm_precompute.\n",
    "rfm.ref_metric__hatted_quantities()\n",
    "\n",
    "desc=\"Evaluate the Hamiltonian constraint\"\n",
    "name=\"Hamiltonian_constraint\"\n",
    "outCfunction(\n",
    "    outfile  = os.path.join(Ccodesdir,name+\".h\"), desc=desc, name=name,\n",
    "    params   = \"\"\"rfm_struct *restrict rfmstruct,const paramstruct *restrict params,\n",
    "                  REAL *restrict in_gfs, REAL *restrict auxevol_gfs, REAL *restrict aux_gfs\"\"\",\n",
    "    body     = fin.FD_outputC(\"returnstring\",lhrh(lhs=gri.gfaccess(\"aux_gfs\", \"H\"), rhs=bssncon.H),\n",
    "                              params=\"outCverbose=False\").replace(\"IDX4\",\"IDX4S\"),\n",
    "    loopopts = \"InteriorPoints,Enable_rfm_precompute\")"
   ]
  },
  {
   "cell_type": "markdown",
   "metadata": {},
   "source": [
    "<a id='bc_functs'></a>\n",
    "\n",
    "## Step 4.b: Set up boundary condition functions for chosen singular, curvilinear coordinate system \\[Back to [top](#toc)\\]\n",
    "$$\\label{bc_functs}$$\n",
    "\n",
    "Next apply singular, curvilinear coordinate boundary conditions [as documented in the corresponding NRPy+ tutorial notebook](Tutorial-Start_to_Finish-Curvilinear_BCs.ipynb)"
   ]
  },
  {
   "cell_type": "code",
   "execution_count": 9,
   "metadata": {
    "execution": {
     "iopub.execute_input": "2021-03-07T17:28:06.278268Z",
     "iopub.status.busy": "2021-03-07T17:28:06.277537Z",
     "iopub.status.idle": "2021-03-07T17:28:06.535565Z",
     "shell.execute_reply": "2021-03-07T17:28:06.536089Z"
    },
    "scrolled": true
   },
   "outputs": [
    {
     "name": "stdout",
     "output_type": "stream",
     "text": [
      "Wrote to file \"TOVID_Ccodes/boundary_conditions/parity_conditions_symbolic_dot_products.h\"\n",
      "Evolved parity: ( aDD00:4, aDD01:5, aDD02:6, aDD11:7, aDD12:8, aDD22:9,\n",
      "    alpha:0, betU0:1, betU1:2, betU2:3, cf:0, hDD00:4, hDD01:5, hDD02:6,\n",
      "    hDD11:7, hDD12:8, hDD22:9, lambdaU0:1, lambdaU1:2, lambdaU2:3, trK:0,\n",
      "    vetU0:1, vetU1:2, vetU2:3 )\n",
      "Auxiliary parity: ( H:0 )\n",
      "AuxEvol parity: ( T4UU00:0, T4UU01:1, T4UU02:2, T4UU03:3, T4UU11:4,\n",
      "    T4UU12:5, T4UU13:6, T4UU22:7, T4UU23:8, T4UU33:9 )\n",
      "Wrote to file \"TOVID_Ccodes/boundary_conditions/EigenCoord_Cart_to_xx.h\"\n"
     ]
    }
   ],
   "source": [
    "import CurviBoundaryConditions.CurviBoundaryConditions as cbcs\n",
    "cbcs.Set_up_CurviBoundaryConditions(os.path.join(Ccodesdir,\"boundary_conditions/\"),Cparamspath=os.path.join(\"../\"))"
   ]
  },
  {
   "cell_type": "markdown",
   "metadata": {},
   "source": [
    "<a id='enforce3metric'></a>\n",
    "\n",
    "## Step 4.c: Enforce conformal 3-metric $\\det{\\bar{\\gamma}_{ij}}=\\det{\\hat{\\gamma}_{ij}}$ constraint \\[Back to [top](#toc)\\]\n",
    "$$\\label{enforce3metric}$$\n",
    "\n",
    "Then enforce conformal 3-metric $\\det{\\bar{\\gamma}_{ij}}=\\det{\\hat{\\gamma}_{ij}}$ constraint (Eq. 53 of [Ruchlin, Etienne, and Baumgarte (2018)](https://arxiv.org/abs/1712.07658)), as [documented in the corresponding NRPy+ tutorial notebook](Tutorial-BSSN-Enforcing_Determinant_gammabar_equals_gammahat_Constraint.ipynb)\n",
    "\n",
    "Applying curvilinear boundary conditions should affect the initial data at the outer boundary, and will in general cause the $\\det{\\bar{\\gamma}_{ij}}=\\det{\\hat{\\gamma}_{ij}}$ constraint to be violated there. Thus after we apply these boundary conditions, we must always call the routine for enforcing the $\\det{\\bar{\\gamma}_{ij}}=\\det{\\hat{\\gamma}_{ij}}$ constraint:"
   ]
  },
  {
   "cell_type": "code",
   "execution_count": 10,
   "metadata": {
    "execution": {
     "iopub.execute_input": "2021-03-07T17:28:06.609929Z",
     "iopub.status.busy": "2021-03-07T17:28:06.574361Z",
     "iopub.status.idle": "2021-03-07T17:28:06.661441Z",
     "shell.execute_reply": "2021-03-07T17:28:06.661942Z"
    },
    "scrolled": true
   },
   "outputs": [
    {
     "name": "stdout",
     "output_type": "stream",
     "text": [
      "Output C function enforce_detgammabar_constraint() to file TOVID_Ccodes/enforce_detgammabar_constraint.h\n"
     ]
    }
   ],
   "source": [
    "# Set up the C function for the det(gammahat) = det(gammabar)\n",
    "EGC.output_Enforce_Detgammabar_Constraint_Ccode(Ccodesdir,\n",
    "                                                exprs=enforce_detg_constraint_symb_expressions)"
   ]
  },
  {
   "cell_type": "markdown",
   "metadata": {},
   "source": [
    "<a id='cparams_rfm_and_domainsize'></a>\n",
    "\n",
    "## Step 4.d: Output C codes needed for declaring and setting Cparameters; also set `free_parameters.h` \\[Back to [top](#toc)\\]\n",
    "$$\\label{cparams_rfm_and_domainsize}$$\n",
    "\n",
    "Based on declared NRPy+ Cparameters, first we generate `declare_Cparameters_struct.h`, `set_Cparameters_default.h`, and `set_Cparameters[-SIMD].h`.\n",
    "\n",
    "Then we output `free_parameters.h`, which sets initial data parameters, as well as grid domain & reference metric parameters, applying `domain_size` and `sinh_width`/`SymTP_bScale` (if applicable) as set above"
   ]
  },
  {
   "cell_type": "code",
   "execution_count": 11,
   "metadata": {
    "execution": {
     "iopub.execute_input": "2021-03-07T17:28:06.668259Z",
     "iopub.status.busy": "2021-03-07T17:28:06.667533Z",
     "iopub.status.idle": "2021-03-07T17:28:06.804048Z",
     "shell.execute_reply": "2021-03-07T17:28:06.803463Z"
    }
   },
   "outputs": [],
   "source": [
    "# Step 3.d.i: Generate declare_Cparameters_struct.h, set_Cparameters_default.h, and set_Cparameters[-SIMD].h\n",
    "par.generate_Cparameters_Ccodes(os.path.join(Ccodesdir))\n",
    "\n",
    "# Step 3.d.ii: Set free_parameters.h\n",
    "# Output to $Ccodesdir/free_parameters.h reference metric parameters based on generic\n",
    "#    domain_size,sinh_width,sinhv2_const_dr,SymTP_bScale,\n",
    "#    parameters set above.\n",
    "rfm.out_default_free_parameters_for_rfm(os.path.join(Ccodesdir,\"free_parameters.h\"),\n",
    "                                        domain_size,sinh_width,sinhv2_const_dr,SymTP_bScale)\n",
    "\n",
    "# Step 3.d.iii: Generate set_Nxx_dxx_invdx_params__and__xx.h:\n",
    "rfm.set_Nxx_dxx_invdx_params__and__xx_h(Ccodesdir)\n",
    "\n",
    "# Step 3.d.iv: Generate xx_to_Cart.h, which contains xx_to_Cart() for\n",
    "#               (the mapping from xx->Cartesian) for the chosen\n",
    "#               CoordSystem:\n",
    "rfm.xx_to_Cart_h(\"xx_to_Cart\",\"./set_Cparameters.h\",os.path.join(Ccodesdir,\"xx_to_Cart.h\"))\n",
    "\n",
    "# Step 3.d.v: Generate declare_Cparameters_struct.h, set_Cparameters_default.h, and set_Cparameters[-SIMD].h\n",
    "par.generate_Cparameters_Ccodes(os.path.join(Ccodesdir))"
   ]
  },
  {
   "cell_type": "markdown",
   "metadata": {},
   "source": [
    "<a id='mainc'></a>\n",
    "\n",
    "# Step 5: `TOV_Playground.c`: The Main C Code \\[Back to [top](#toc)\\]\n",
    "$$\\label{mainc}$$\n"
   ]
  },
  {
   "cell_type": "code",
   "execution_count": 12,
   "metadata": {
    "execution": {
     "iopub.execute_input": "2021-03-07T17:28:06.809968Z",
     "iopub.status.busy": "2021-03-07T17:28:06.809176Z",
     "iopub.status.idle": "2021-03-07T17:28:06.811995Z",
     "shell.execute_reply": "2021-03-07T17:28:06.811458Z"
    }
   },
   "outputs": [],
   "source": [
    "# Part P0: Define REAL, set the number of ghost cells NGHOSTS (from NRPy+'s FD_CENTDERIVS_ORDER)\n",
    "\n",
    "with open(os.path.join(Ccodesdir,\"TOV_Playground_REAL__NGHOSTS.h\"), \"w\") as file:\n",
    "    file.write(\"\"\"\n",
    "// Part P0.a: Set the number of ghost cells, from NRPy+'s FD_CENTDERIVS_ORDER\n",
    "#define NGHOSTS \"\"\"+str(int(FD_order/2)+1)+\"\"\"\n",
    "// Part P0.b: Set the numerical precision (REAL) to double, ensuring all floating point\n",
    "//            numbers are stored to at least ~16 significant digits\n",
    "#define REAL \"\"\"+REAL+\"\"\"\n",
    "// Part P0.c: Set TOV stellar parameters\n",
    "#define TOV_Mass  \"\"\"+str(M_TOV)+\"\"\"\n",
    "#define TOV_Riso  \"\"\"+str(R_iso_TOV)+\"\\n\")"
   ]
  },
  {
   "cell_type": "code",
   "execution_count": 13,
   "metadata": {
    "execution": {
     "iopub.execute_input": "2021-03-07T17:28:06.821273Z",
     "iopub.status.busy": "2021-03-07T17:28:06.819724Z",
     "iopub.status.idle": "2021-03-07T17:28:06.824036Z",
     "shell.execute_reply": "2021-03-07T17:28:06.824730Z"
    }
   },
   "outputs": [
    {
     "name": "stdout",
     "output_type": "stream",
     "text": [
      "Writing TOVID_Ccodes//TOV_Playground.c\n"
     ]
    }
   ],
   "source": [
    "%%writefile $Ccodesdir/TOV_Playground.c\n",
    "\n",
    "// Step P0: Define REAL and NGHOSTS. This header is generated by NRPy+.\n",
    "#include \"TOV_Playground_REAL__NGHOSTS.h\"\n",
    "\n",
    "#include \"rfm_files/rfm_struct__declare.h\"\n",
    "\n",
    "#include \"declare_Cparameters_struct.h\"\n",
    "\n",
    "// Step P1: Import needed header files\n",
    "#include \"stdio.h\"\n",
    "#include \"stdlib.h\"\n",
    "#include \"math.h\"\n",
    "#ifndef M_PI\n",
    "#define M_PI 3.141592653589793238462643383279502884L\n",
    "#endif\n",
    "#ifndef M_SQRT1_2\n",
    "#define M_SQRT1_2 0.707106781186547524400844362104849039L\n",
    "#endif\n",
    "\n",
    "// Step P2: Declare the IDX4S(gf,i,j,k) macro, which enables us to store 4-dimensions of\n",
    "//           data in a 1D array. In this case, consecutive values of \"i\"\n",
    "//           (all other indices held to a fixed value) are consecutive in memory, where\n",
    "//           consecutive values of \"j\" (fixing all other indices) are separated by\n",
    "//           Nxx_plus_2NGHOSTS0 elements in memory. Similarly, consecutive values of\n",
    "//           \"k\" are separated by Nxx_plus_2NGHOSTS0*Nxx_plus_2NGHOSTS1 in memory, etc.\n",
    "#define IDX4S(g,i,j,k) \\\n",
    "( (i) + Nxx_plus_2NGHOSTS0 * ( (j) + Nxx_plus_2NGHOSTS1 * ( (k) + Nxx_plus_2NGHOSTS2 * (g) ) ) )\n",
    "#define IDX4ptS(g,idx) ( (idx) + (Nxx_plus_2NGHOSTS0*Nxx_plus_2NGHOSTS1*Nxx_plus_2NGHOSTS2) * (g) )\n",
    "#define IDX3S(i,j,k) ( (i) + Nxx_plus_2NGHOSTS0 * ( (j) + Nxx_plus_2NGHOSTS1 * ( (k) ) ) )\n",
    "#define LOOP_REGION(i0min,i0max, i1min,i1max, i2min,i2max) \\\n",
    "  for(int i2=i2min;i2<i2max;i2++) for(int i1=i1min;i1<i1max;i1++) for(int i0=i0min;i0<i0max;i0++)\n",
    "#define LOOP_ALL_GFS_GPS(ii) _Pragma(\"omp parallel for\") \\\n",
    "  for(int (ii)=0;(ii)<Nxx_plus_2NGHOSTS_tot*NUM_EVOL_GFS;(ii)++)\n",
    "\n",
    "// Step P3: Set UUGF and VVGF macros, as well as xx_to_Cart()\n",
    "#include \"boundary_conditions/gridfunction_defines.h\"\n",
    "\n",
    "// Step P4: Set xx_to_Cart(const paramstruct *restrict params,\n",
    "//                     REAL *restrict xx[3],\n",
    "//                     const int i0,const int i1,const int i2,\n",
    "//                     REAL xCart[3]),\n",
    "//           which maps xx->Cartesian via\n",
    "//    {xx[0][i0],xx[1][i1],xx[2][i2]}->{xCart[0],xCart[1],xCart[2]}\n",
    "#include \"xx_to_Cart.h\"\n",
    "\n",
    "// Step P5: Defines set_Nxx_dxx_invdx_params__and__xx(const int EigenCoord, const int Nxx[3],\n",
    "//                                       paramstruct *restrict params, REAL *restrict xx[3]),\n",
    "//          which sets params Nxx,Nxx_plus_2NGHOSTS,dxx,invdx, and xx[] for\n",
    "//          the chosen Eigen-CoordSystem if EigenCoord==1, or\n",
    "//          CoordSystem if EigenCoord==0.\n",
    "#include \"set_Nxx_dxx_invdx_params__and__xx.h\"\n",
    "\n",
    "// Step P6: Include basic functions needed to impose curvilinear\n",
    "//          parity and boundary conditions.\n",
    "#include \"boundary_conditions/CurviBC_include_Cfunctions.h\"\n",
    "\n",
    "// Step P8: Include function for enforcing detgammabar constraint.\n",
    "#include \"enforce_detgammabar_constraint.h\"\n",
    "\n",
    "// Step P4: Declare initial data input struct:\n",
    "//          stores data from initial data solver,\n",
    "//          so they can be put on the numerical grid.\n",
    "typedef struct __ID_inputs {\n",
    "    REAL Rbar;\n",
    "    int Rbar_idx;\n",
    "    int interp_stencil_size;\n",
    "    int numlines_in_file;\n",
    "    REAL *r_Schw_arr,*rho_arr,*rho_baryon_arr,*P_arr,*M_arr,*expnu_arr,*exp4phi_arr,*rbar_arr;\n",
    "} ID_inputs;\n",
    "\n",
    "// Part P11: Declare all functions for setting up TOV initial data.\n",
    "/* Routines to interpolate the TOV solution and convert to ADM & T^{munu}: */\n",
    "#include \"../TOV/tov_interp.h\"\n",
    "#include \"ID_TOV_ADM_quantities.h\"\n",
    "#include \"ID_TOV_TUPMUNU_xx0xx1xx2.h\"\n",
    "\n",
    "/* Next perform the basis conversion and compute all needed BSSN quantities */\n",
    "#include \"ID_ADM_xx0xx1xx2_to_BSSN_xx0xx1xx2__ALL_BUT_LAMBDAs.h\"\n",
    "#include \"ID_BSSN__ALL_BUT_LAMBDAs.h\"\n",
    "#include \"ID_BSSN_lambdas.h\"\n",
    "\n",
    "// Step P10: Declare function necessary for setting up the initial data.\n",
    "// Step P10.a: Define BSSN_ID() for BrillLindquist initial data\n",
    "\n",
    "// Step P10.b: Set the generic driver function for setting up BSSN initial data\n",
    "void initial_data(const paramstruct *restrict params,const bc_struct *restrict bcstruct,\n",
    "                  const rfm_struct *restrict rfmstruct,\n",
    "                  REAL *restrict xx[3], REAL *restrict auxevol_gfs, REAL *restrict in_gfs) {\n",
    "#include \"set_Cparameters.h\"\n",
    "        // Step 1: Set up TOV initial data\n",
    "    // Step 1.a: Read TOV initial data from data file\n",
    "    // Open the data file:\n",
    "    char filename[100];\n",
    "    sprintf(filename,\"./outputTOVpolytrope.txt\");\n",
    "    FILE *in1Dpolytrope = fopen(filename, \"r\");\n",
    "    if (in1Dpolytrope == NULL) {\n",
    "        fprintf(stderr,\"ERROR: could not open file %s\\n\",filename);\n",
    "        exit(1);\n",
    "    }\n",
    "    // Count the number of lines in the data file:\n",
    "    int numlines_in_file = count_num_lines_in_file(in1Dpolytrope);\n",
    "    // Allocate space for all data arrays:\n",
    "    REAL *r_Schw_arr     = (REAL *)malloc(sizeof(REAL)*numlines_in_file);\n",
    "    REAL *rho_arr        = (REAL *)malloc(sizeof(REAL)*numlines_in_file);\n",
    "    REAL *rho_baryon_arr = (REAL *)malloc(sizeof(REAL)*numlines_in_file);\n",
    "    REAL *P_arr          = (REAL *)malloc(sizeof(REAL)*numlines_in_file);\n",
    "    REAL *M_arr          = (REAL *)malloc(sizeof(REAL)*numlines_in_file);\n",
    "    REAL *expnu_arr      = (REAL *)malloc(sizeof(REAL)*numlines_in_file);\n",
    "    REAL *exp4phi_arr    = (REAL *)malloc(sizeof(REAL)*numlines_in_file);\n",
    "    REAL *rbar_arr       = (REAL *)malloc(sizeof(REAL)*numlines_in_file);\n",
    "\n",
    "    // Read from the data file, filling in arrays\n",
    "    // read_datafile__set_arrays() may be found in TOV/tov_interp.h\n",
    "    if(read_datafile__set_arrays(in1Dpolytrope, r_Schw_arr,rho_arr,rho_baryon_arr,P_arr,M_arr,expnu_arr,exp4phi_arr,rbar_arr) == 1) {\n",
    "        fprintf(stderr,\"ERROR WHEN READING FILE %s!\\n\",filename);\n",
    "        exit(1);\n",
    "    }\n",
    "    fclose(in1Dpolytrope);\n",
    "    REAL Rbar = -100;\n",
    "    int Rbar_idx = -100;\n",
    "    for(int i=1;i<numlines_in_file;i++) {\n",
    "        if(rho_arr[i-1]>0 && rho_arr[i]==0) { Rbar = rbar_arr[i-1]; Rbar_idx = i-1; }\n",
    "    }\n",
    "    if(Rbar<0) {\n",
    "        fprintf(stderr,\"Error: could not find rbar=Rbar from data file.\\n\");\n",
    "        exit(1);\n",
    "    }\n",
    "\n",
    "    ID_inputs TOV_in;\n",
    "    TOV_in.Rbar = Rbar;\n",
    "    TOV_in.Rbar_idx = Rbar_idx;\n",
    "\n",
    "    const int interp_stencil_size = 12;\n",
    "    TOV_in.interp_stencil_size = interp_stencil_size;\n",
    "    TOV_in.numlines_in_file = numlines_in_file;\n",
    "\n",
    "    TOV_in.r_Schw_arr     = r_Schw_arr;\n",
    "    TOV_in.rho_arr        = rho_arr;\n",
    "    TOV_in.rho_baryon_arr = rho_baryon_arr;\n",
    "    TOV_in.P_arr          = P_arr;\n",
    "    TOV_in.M_arr          = M_arr;\n",
    "    TOV_in.expnu_arr      = expnu_arr;\n",
    "    TOV_in.exp4phi_arr    = exp4phi_arr;\n",
    "    TOV_in.rbar_arr       = rbar_arr;\n",
    "    /* END TOV INPUT ROUTINE */\n",
    "\n",
    "\n",
    "    // Step 1.b: Interpolate data from data file to set BSSN gridfunctions\n",
    "    ID_BSSN__ALL_BUT_LAMBDAs(params,xx,TOV_in, in_gfs);\n",
    "    apply_bcs_curvilinear(params, bcstruct, NUM_EVOL_GFS, evol_gf_parity, in_gfs);\n",
    "    enforce_detgammabar_constraint(rfmstruct, params,                   in_gfs);\n",
    "    ID_BSSN_lambdas(params, xx, in_gfs);\n",
    "    apply_bcs_curvilinear(params, bcstruct, NUM_EVOL_GFS, evol_gf_parity, in_gfs);\n",
    "    enforce_detgammabar_constraint(rfmstruct, params,                   in_gfs);\n",
    "\n",
    "    ID_TOV_TUPMUNU_xx0xx1xx2(params,xx,TOV_in,auxevol_gfs);\n",
    "\n",
    "    free(rbar_arr);\n",
    "    free(rho_arr);\n",
    "    free(rho_baryon_arr);\n",
    "    free(P_arr);\n",
    "    free(M_arr);\n",
    "    free(expnu_arr);\n",
    "}\n",
    "\n",
    "// Step P11: Declare function for evaluating Hamiltonian constraint (diagnostic)\n",
    "#include \"Hamiltonian_constraint.h\"\n",
    "\n",
    "// main() function:\n",
    "// Step 0: Read command-line input, set up grid structure, allocate memory for gridfunctions, set up coordinates\n",
    "// Step 1: Set up initial data to an exact solution\n",
    "// Step 2: Start the timer, for keeping track of how fast the simulation is progressing.\n",
    "// Step 3: Integrate the initial data forward in time using the chosen RK-like Method of\n",
    "//         Lines timestepping algorithm, and output periodic simulation diagnostics\n",
    "// Step 3.a: Output 2D data file periodically, for visualization\n",
    "// Step 3.b: Step forward one timestep (t -> t+dt) in time using\n",
    "//           chosen RK-like MoL timestepping algorithm\n",
    "// Step 3.c: If t=t_final, output conformal factor & Hamiltonian\n",
    "//           constraint violation to 2D data file\n",
    "// Step 3.d: Progress indicator printing to stderr\n",
    "// Step 4: Free all allocated memory\n",
    "int main(int argc, const char *argv[]) {\n",
    "    paramstruct params;\n",
    "#include \"set_Cparameters_default.h\"\n",
    "\n",
    "    // Step 0a: Read command-line input, error out if nonconformant\n",
    "    if((argc != 4) || atoi(argv[1]) < NGHOSTS || atoi(argv[2]) < NGHOSTS || atoi(argv[3]) < 2 /* FIXME; allow for axisymmetric sims */) {\n",
    "        fprintf(stderr,\"Error: Expected three command-line arguments: ./BrillLindquist_Playground Nx0 Nx1 Nx2,\\n\");\n",
    "        fprintf(stderr,\"where Nx[0,1,2] is the number of grid points in the 0, 1, and 2 directions.\\n\");\n",
    "        fprintf(stderr,\"Nx[] MUST BE larger than NGHOSTS (= %d)\\n\",NGHOSTS);\n",
    "        exit(1);\n",
    "    }\n",
    "    // Step 0b: Set up numerical grid structure, first in space...\n",
    "    const int Nxx[3] = { atoi(argv[1]), atoi(argv[2]), atoi(argv[3]) };\n",
    "    if(Nxx[0]%2 != 0 || Nxx[1]%2 != 0 || Nxx[2]%2 != 0) {\n",
    "        fprintf(stderr,\"Error: Cannot guarantee a proper cell-centered grid if number of grid cells not set to even number.\\n\");\n",
    "        fprintf(stderr,\"       For example, in case of angular directions, proper symmetry zones will not exist.\\n\");\n",
    "        exit(1);\n",
    "    }\n",
    "\n",
    "    // Step 0c: Set free parameters, overwriting Cparameters defaults\n",
    "    //          by hand or with command-line input, as desired.\n",
    "#include \"free_parameters.h\"\n",
    "\n",
    "   // Step 0d: Uniform coordinate grids are stored to *xx[3]\n",
    "    REAL *xx[3];\n",
    "    // Step 0d.i: Set bcstruct\n",
    "    bc_struct bcstruct;\n",
    "    {\n",
    "        int EigenCoord = 1;\n",
    "        // Step 0d.ii: Call set_Nxx_dxx_invdx_params__and__xx(), which sets\n",
    "        //             params Nxx,Nxx_plus_2NGHOSTS,dxx,invdx, and xx[] for the\n",
    "        //             chosen Eigen-CoordSystem.\n",
    "        set_Nxx_dxx_invdx_params__and__xx(EigenCoord, Nxx, &params, xx);\n",
    "        // Step 0d.iii: Set Nxx_plus_2NGHOSTS_tot\n",
    "#include \"set_Cparameters-nopointer.h\"\n",
    "        const int Nxx_plus_2NGHOSTS_tot = Nxx_plus_2NGHOSTS0*Nxx_plus_2NGHOSTS1*Nxx_plus_2NGHOSTS2;\n",
    "        // Step 0e: Find ghostzone mappings; set up bcstruct\n",
    "#include \"boundary_conditions/driver_bcstruct.h\"\n",
    "        // Step 0e.i: Free allocated space for xx[][] array\n",
    "        for(int i=0;i<3;i++) free(xx[i]);\n",
    "    }\n",
    "\n",
    "    // Step 0f: Call set_Nxx_dxx_invdx_params__and__xx(), which sets\n",
    "    //          params Nxx,Nxx_plus_2NGHOSTS,dxx,invdx, and xx[] for the\n",
    "    //          chosen (non-Eigen) CoordSystem.\n",
    "    int EigenCoord = 0;\n",
    "    set_Nxx_dxx_invdx_params__and__xx(EigenCoord, Nxx, &params, xx);\n",
    "\n",
    "    // Step 0g: Set all C parameters \"blah\" for params.blah, including\n",
    "    //          Nxx_plus_2NGHOSTS0 = params.Nxx_plus_2NGHOSTS0, etc.\n",
    "#include \"set_Cparameters-nopointer.h\"\n",
    "    const int Nxx_plus_2NGHOSTS_tot = Nxx_plus_2NGHOSTS0*Nxx_plus_2NGHOSTS1*Nxx_plus_2NGHOSTS2;\n",
    "\n",
    "    // Step 0j: Error out if the number of auxiliary gridfunctions outnumber evolved gridfunctions.\n",
    "    //              This is a limitation of the RK method. You are always welcome to declare & allocate\n",
    "    //              additional gridfunctions by hand.\n",
    "    if(NUM_AUX_GFS > NUM_EVOL_GFS) {\n",
    "        fprintf(stderr,\"Error: NUM_AUX_GFS > NUM_EVOL_GFS. Either reduce the number of auxiliary gridfunctions,\\n\");\n",
    "        fprintf(stderr,\"       or allocate (malloc) by hand storage for *diagnostic_output_gfs. \\n\");\n",
    "        exit(1);\n",
    "    }\n",
    "\n",
    "    // Step 0k: Allocate memory for gridfunctions\n",
    "#include \"MoLtimestepping/RK_Allocate_Memory.h\"\n",
    "    REAL *restrict auxevol_gfs = (REAL *)malloc(sizeof(REAL) * NUM_AUXEVOL_GFS * Nxx_plus_2NGHOSTS_tot);\n",
    "\n",
    "    // Step 0l: Set up precomputed reference metric arrays\n",
    "    // Step 0l.i: Allocate space for precomputed reference metric arrays.\n",
    "#include \"rfm_files/rfm_struct__malloc.h\"\n",
    "\n",
    "    // Step 0l.ii: Define precomputed reference metric arrays.\n",
    "    {\n",
    "    #include \"set_Cparameters-nopointer.h\"\n",
    "    #include \"rfm_files/rfm_struct__define.h\"\n",
    "    }\n",
    "\n",
    "    // Step 1: Set up initial data to an exact solution\n",
    "    initial_data(&params,&bcstruct, &rfmstruct, xx, auxevol_gfs, y_n_gfs);\n",
    "\n",
    "    // Step 1b: Apply boundary conditions, as initial data\n",
    "    //          are sometimes ill-defined in ghost zones.\n",
    "    //          E.g., spherical initial data might not be\n",
    "    //          properly defined at points where r=-1.\n",
    "    apply_bcs_curvilinear(&params, &bcstruct, NUM_EVOL_GFS,evol_gf_parity, y_n_gfs);\n",
    "    enforce_detgammabar_constraint(&rfmstruct, &params, y_n_gfs);\n",
    "\n",
    "    // Evaluate Hamiltonian constraint violation\n",
    "    Hamiltonian_constraint(&rfmstruct, &params, y_n_gfs,auxevol_gfs, diagnostic_output_gfs);\n",
    "    char filename[100];\n",
    "    sprintf(filename,\"out%d.txt\",Nxx[0]);\n",
    "    FILE *out2D = fopen(filename, \"w\");\n",
    "    LOOP_REGION(NGHOSTS,Nxx_plus_2NGHOSTS0-NGHOSTS,\n",
    "                NGHOSTS,Nxx_plus_2NGHOSTS1-NGHOSTS,\n",
    "                NGHOSTS,Nxx_plus_2NGHOSTS2-NGHOSTS) {\n",
    "        REAL xx0 = xx[0][i0];\n",
    "        REAL xx1 = xx[1][i1];\n",
    "        REAL xx2 = xx[2][i2];\n",
    "        REAL xCart[3];\n",
    "        xx_to_Cart(&params,xx,i0,i1,i2,xCart);\n",
    "        int idx = IDX3S(i0,i1,i2);\n",
    "        fprintf(out2D,\"%e %e %e %e\\n\",xCart[1]/TOV_Mass,xCart[2]/TOV_Mass, y_n_gfs[IDX4ptS(CFGF,idx)],\n",
    "                log10(fabs(diagnostic_output_gfs[IDX4ptS(HGF,idx)])));\n",
    "    }\n",
    "    fclose(out2D);\n",
    "\n",
    "    // Step 4: Free all allocated memory\n",
    "#include \"rfm_files/rfm_struct__freemem.h\"\n",
    "#include \"boundary_conditions/bcstruct_freemem.h\"\n",
    "#include \"MoLtimestepping/RK_Free_Memory.h\"\n",
    "    free(auxevol_gfs);\n",
    "    for(int i=0;i<3;i++) free(xx[i]);\n",
    "\n",
    "    return 0;\n",
    "}"
   ]
  },
  {
   "cell_type": "code",
   "execution_count": 14,
   "metadata": {
    "execution": {
     "iopub.execute_input": "2021-03-07T17:28:06.832897Z",
     "iopub.status.busy": "2021-03-07T17:28:06.829323Z",
     "iopub.status.idle": "2021-03-07T17:28:10.527872Z",
     "shell.execute_reply": "2021-03-07T17:28:10.528466Z"
    }
   },
   "outputs": [
    {
     "name": "stdout",
     "output_type": "stream",
     "text": [
      "Compiling executable...\n",
      "(EXEC): Executing `gcc -Ofast -fopenmp -march=native -funroll-loops TOVID_Ccodes/TOV_Playground.c -o TOV_Playground -lm`...\n",
      "(BENCH): Finished executing in 3.4261927604675293 seconds.\n",
      "Finished compilation.\n",
      "(EXEC): Executing `taskset -c 0,1 ./TOV_Playground 96 96 2`...\n",
      "(BENCH): Finished executing in 0.22012090682983398 seconds.\n"
     ]
    }
   ],
   "source": [
    "import cmdline_helper as cmd\n",
    "cmd.C_compile(os.path.join(Ccodesdir,\"TOV_Playground.c\"), \"TOV_Playground\")\n",
    "cmd.delete_existing_files(\"out96.txt\")\n",
    "cmd.Execute(\"TOV_Playground\", \"96 96 2\", \"out96.txt\")"
   ]
  },
  {
   "cell_type": "markdown",
   "metadata": {},
   "source": [
    "<a id='plot'></a>\n",
    "\n",
    "# Step 6: Plotting the single-neutron-star initial data \\[Back to [top](#toc)\\]\n",
    "$$\\label{plot}$$\n",
    "\n",
    "Here we plot the conformal factor of these initial data on a 2D grid, such that darker colors imply stronger gravitational fields. Hence, we see the single neutron star centered at the origin: $x/M=y/M=z/M=0$, where $M$ is an arbitrary mass scale (conventionally the [ADM mass](https://en.wikipedia.org/w/index.php?title=ADM_formalism&oldid=846335453) is chosen), and our formulation of Einstein's equations adopt $G=c=1$ [geometrized units](https://en.wikipedia.org/w/index.php?title=Geometrized_unit_system&oldid=861682626)."
   ]
  },
  {
   "cell_type": "code",
   "execution_count": 15,
   "metadata": {
    "execution": {
     "iopub.execute_input": "2021-03-07T17:28:10.541592Z",
     "iopub.status.busy": "2021-03-07T17:28:10.540946Z",
     "iopub.status.idle": "2021-03-07T17:28:11.841691Z",
     "shell.execute_reply": "2021-03-07T17:28:11.842167Z"
    }
   },
   "outputs": [
    {
     "data": {
      "image/png": "[encoded data removed]",
      "text/plain": [
       "<IPython.core.display.Image object>"
      ]
     },
     "execution_count": 1,
     "metadata": {},
     "output_type": "execute_result"
    },
    {
     "data": {
      "image/png": "[encoded data removed]",
      "text/plain": [
       "<Figure size 432x288 with 2 Axes>"
      ]
     },
     "metadata": {
      "needs_background": "light"
     },
     "output_type": "display_data"
    }
   ],
   "source": [
    "import numpy as np\n",
    "from scipy.interpolate import griddata\n",
    "from pylab import savefig\n",
    "import matplotlib.pyplot as plt\n",
    "import matplotlib.cm as cm\n",
    "from IPython.display import Image\n",
    "\n",
    "x96,y96,valuesCF96,valuesHam96 = np.loadtxt('out96.txt').T #Transposed for easier unpacking\n",
    "\n",
    "bounds = 7.5\n",
    "pl_xmin = -bounds\n",
    "pl_xmax = +bounds\n",
    "pl_ymin = -bounds\n",
    "pl_ymax = +bounds\n",
    "\n",
    "grid_x, grid_y = np.mgrid[pl_xmin:pl_xmax:100j, pl_ymin:pl_ymax:100j]\n",
    "points96 = np.zeros((len(x96), 2))\n",
    "for i in range(len(x96)):\n",
    "    points96[i][0] = x96[i]\n",
    "    points96[i][1] = y96[i]\n",
    "\n",
    "grid96 = griddata(points96, valuesCF96, (grid_x, grid_y), method='nearest')\n",
    "grid96cub = griddata(points96, valuesCF96, (grid_x, grid_y), method='cubic')\n",
    "\n",
    "plt.clf()\n",
    "plt.title(\"Neutron Star: log10( max(1e-6,Energy Density) )\")\n",
    "plt.xlabel(\"x/M\")\n",
    "plt.ylabel(\"y/M\")\n",
    "\n",
    "# fig, ax = plt.subplots()\n",
    "# ax.plot(grid96cub.T, extent=(pl_xmin,pl_xmax, pl_ymin,pl_ymax))\n",
    "# plt.close(fig)\n",
    "fig96cf = plt.imshow(grid96.T, extent=(pl_xmin,pl_xmax, pl_ymin,pl_ymax))\n",
    "cb = plt.colorbar(fig96cf)\n",
    "savefig(\"BHB.png\")\n",
    "from IPython.display import Image\n",
    "Image(\"BHB.png\")\n",
    "# #           interpolation='nearest', cmap=cm.gist_rainbow)"
   ]
  },
  {
   "cell_type": "markdown",
   "metadata": {},
   "source": [
    "<a id='convergence'></a>\n",
    "\n",
    "# Step 7: Validation: Convergence of numerical errors (Hamiltonian constraint violation) to zero \\[Back to [top](#toc)\\]\n",
    "$$\\label{convergence}$$\n",
    "\n",
    "The equations behind these initial data solve Einstein's equations exactly, at a single instant in time. One reflection of this solution is that the Hamiltonian constraint violation should be exactly zero in the initial data. \n",
    "\n",
    "However, when evaluated on numerical grids, the Hamiltonian constraint violation will *not* generally evaluate to zero due to the associated numerical derivatives not being exact. However, these numerical derivatives (finite difference derivatives in this case) should *converge* to the exact derivatives as the density of numerical sampling points approaches infinity.\n",
    "\n",
    "In this case, all of our finite difference derivatives agree with the exact solution, with an error term that drops with the uniform gridspacing to the fourth power: $\\left(\\Delta x^i\\right)^4$. \n",
    "\n",
    "Here, as in the [Start-to-Finish Scalar Wave (Cartesian grids) NRPy+ tutorial](Tutorial-Start_to_Finish-ScalarWave.ipynb) and the [Start-to-Finish Scalar Wave (curvilinear grids) NRPy+ tutorial](Tutorial-Start_to_Finish-ScalarWaveCurvilinear.ipynb) we confirm this convergence.\n",
    "\n",
    "First, let's take a look at what the numerical error looks like on the x-y plane at a given numerical resolution, plotting $\\log_{10}|H|$, where $H$ is the Hamiltonian constraint violation:"
   ]
  },
  {
   "cell_type": "code",
   "execution_count": 16,
   "metadata": {
    "execution": {
     "iopub.execute_input": "2021-03-07T17:28:11.848104Z",
     "iopub.status.busy": "2021-03-07T17:28:11.847449Z",
     "iopub.status.idle": "2021-03-07T17:28:12.483999Z",
     "shell.execute_reply": "2021-03-07T17:28:12.484504Z"
    }
   },
   "outputs": [
    {
     "data": {
      "image/png": "[encoded data removed]",
      "text/plain": [
       "<Figure size 432x288 with 2 Axes>"
      ]
     },
     "metadata": {
      "needs_background": "light"
     },
     "output_type": "display_data"
    }
   ],
   "source": [
    "grid96 = griddata(points96, valuesHam96, (grid_x, grid_y), method='nearest')\n",
    "grid96cub = griddata(points96, valuesHam96, (grid_x, grid_y), method='cubic')\n",
    "\n",
    "# fig, ax = plt.subplots()\n",
    "\n",
    "plt.clf()\n",
    "plt.title(\"96^3 Numerical Err.: log_{10}|Ham|\")\n",
    "plt.xlabel(\"x/M\")\n",
    "plt.ylabel(\"y/M\")\n",
    "\n",
    "fig96cub = plt.imshow(grid96cub.T, extent=(pl_xmin,pl_xmax, pl_ymin,pl_ymax))\n",
    "cb = plt.colorbar(fig96cub)"
   ]
  },
  {
   "cell_type": "markdown",
   "metadata": {},
   "source": [
    "Next, we set up the same initial data but on a lower-resolution, $48\\times 8\\times 2$ grid (axisymmetric in the $\\phi$ direction). Since the constraint violation (numerical error associated with the fourth-order-accurate, finite-difference derivatives) should converge to zero with the uniform gridspacing to the fourth power: $\\left(\\Delta x^i\\right)^4$, we expect the constraint violation will increase (relative to the $96\\times 16\\times 2$ grid) by a factor of $\\left(96/48\\right)^4$. Here we demonstrate that indeed this order of convergence is observed as expected, *except* at the star's surface where the stress-energy tensor $T^{\\mu\\nu}$ sharply drops to zero."
   ]
  },
  {
   "cell_type": "code",
   "execution_count": 17,
   "metadata": {
    "execution": {
     "iopub.execute_input": "2021-03-07T17:28:12.498962Z",
     "iopub.status.busy": "2021-03-07T17:28:12.498286Z",
     "iopub.status.idle": "2021-03-07T17:28:13.157334Z",
     "shell.execute_reply": "2021-03-07T17:28:13.157818Z"
    },
    "scrolled": false
   },
   "outputs": [
    {
     "name": "stdout",
     "output_type": "stream",
     "text": [
      "(EXEC): Executing `taskset -c 0,1 ./TOV_Playground 48 48 2`...\n",
      "(BENCH): Finished executing in 0.22007393836975098 seconds.\n"
     ]
    },
    {
     "data": {
      "text/plain": [
       "<Figure size 432x288 with 0 Axes>"
      ]
     },
     "metadata": {},
     "output_type": "display_data"
    },
    {
     "data": {
      "image/png": "[encoded data removed]",
      "text/plain": [
       "<Figure size 432x288 with 1 Axes>"
      ]
     },
     "metadata": {
      "needs_background": "light"
     },
     "output_type": "display_data"
    }
   ],
   "source": [
    "# Now rerun TOV_Playground with twice lower resolution.\n",
    "cmd.delete_existing_files(\"out48.txt\")\n",
    "cmd.Execute(\"TOV_Playground\", \"48 48 2\", \"out48.txt\")\n",
    "\n",
    "x48,y48,valuesCF48,valuesHam48 = np.loadtxt('out48.txt').T #Transposed for easier unpacking\n",
    "points48 = np.zeros((len(x48), 2))\n",
    "for i in range(len(x48)):\n",
    "    points48[i][0] = x48[i]\n",
    "    points48[i][1] = y48[i]\n",
    "\n",
    "grid48 = griddata(points48, valuesHam48, (grid_x, grid_y), method='cubic')\n",
    "\n",
    "griddiff_48_minus_96 = np.zeros((100,100))\n",
    "griddiff_48_minus_96_1darray = np.zeros(100*100)\n",
    "gridx_1darray_yeq0 = np.zeros(100)\n",
    "grid48_1darray_yeq0 = np.zeros(100)\n",
    "grid96_1darray_yeq0 = np.zeros(100)\n",
    "count = 0\n",
    "outarray = []\n",
    "for i in range(100):\n",
    "    for j in range(100):\n",
    "        griddiff_48_minus_96[i][j] = grid48[i][j] - grid96[i][j]\n",
    "        griddiff_48_minus_96_1darray[count] = griddiff_48_minus_96[i][j]\n",
    "        if j==49:\n",
    "            gridx_1darray_yeq0[i] = grid_x[i][j]\n",
    "            grid48_1darray_yeq0[i] = grid48[i][j] + np.log10((48./96.)**4)\n",
    "            grid96_1darray_yeq0[i] = grid96[i][j]\n",
    "        count = count + 1\n",
    "\n",
    "plt.clf()\n",
    "fig, ax = plt.subplots()\n",
    "plt.title(\"Plot Demonstrating 4th-order Convergence\")\n",
    "plt.xlabel(\"x/M\")\n",
    "plt.ylabel(\"log10(Relative error)\")\n",
    "\n",
    "ax.plot(gridx_1darray_yeq0, grid96_1darray_yeq0, 'k-', label='Nr=96')\n",
    "ax.plot(gridx_1darray_yeq0, grid48_1darray_yeq0, 'k--', label='Nr=48, mult by (48/96)^4')\n",
    "ax.set_ylim([-12.5,1.5])\n",
    "\n",
    "legend = ax.legend(loc='lower right', shadow=True, fontsize='x-large')\n",
    "legend.get_frame().set_facecolor('C1')\n",
    "plt.show()"
   ]
  },
  {
   "cell_type": "markdown",
   "metadata": {},
   "source": [
    "<a id='latex_pdf_output'></a>\n",
    "\n",
    "# Step 8: Output this notebook to $\\LaTeX$-formatted PDF file \\[Back to [top](#toc)\\]\n",
    "$$\\label{latex_pdf_output}$$\n",
    "\n",
    "The following code cell converts this Jupyter notebook into a proper, clickable $\\LaTeX$-formatted PDF file. After the cell is successfully run, the generated PDF may be found in the root NRPy+ tutorial directory, with filename\n",
    "[Tutorial-Start_to_Finish-BSSNCurvilinear-Setting_up_TOV_initial_data.pdf](Tutorial-Start_to_Finish-BSSNCurvilinear-Setting_up_TOV_initial_data.pdf) (Note that clicking on this link may not work; you may need to open the PDF file through another means.)"
   ]
  },
  {
   "cell_type": "code",
   "execution_count": 18,
   "metadata": {
    "execution": {
     "iopub.execute_input": "2021-03-07T17:28:13.166927Z",
     "iopub.status.busy": "2021-03-07T17:28:13.162063Z",
     "iopub.status.idle": "2021-03-07T17:28:18.286719Z",
     "shell.execute_reply": "2021-03-07T17:28:18.287592Z"
    },
    "scrolled": true
   },
   "outputs": [
    {
     "name": "stdout",
     "output_type": "stream",
     "text": [
      "Created Tutorial-Start_to_Finish-BSSNCurvilinear-\n",
      "    Setting_up_TOV_initial_data.tex, and compiled LaTeX file to PDF file\n",
      "    Tutorial-Start_to_Finish-BSSNCurvilinear-\n",
      "    Setting_up_TOV_initial_data.pdf\n"
     ]
    }
   ],
   "source": [
    "import cmdline_helper as cmd    # NRPy+: Multi-platform Python command-line interface\n",
    "cmd.output_Jupyter_notebook_to_LaTeXed_PDF(\"Tutorial-Start_to_Finish-BSSNCurvilinear-Setting_up_TOV_initial_data\")"
   ]
  }
 ],
 "metadata": {
  "kernelspec": {
   "display_name": "Python 3",
   "language": "python",
   "name": "python3"
  },
  "language_info": {
   "codemirror_mode": {
    "name": "ipython",
    "version": 3
   },
   "file_extension": ".py",
   "mimetype": "text/x-python",
   "name": "python",
   "nbconvert_exporter": "python",
   "pygments_lexer": "ipython3",
   "version": "3.8.2"
  }
 },
 "nbformat": 4,
 "nbformat_minor": 2
}
