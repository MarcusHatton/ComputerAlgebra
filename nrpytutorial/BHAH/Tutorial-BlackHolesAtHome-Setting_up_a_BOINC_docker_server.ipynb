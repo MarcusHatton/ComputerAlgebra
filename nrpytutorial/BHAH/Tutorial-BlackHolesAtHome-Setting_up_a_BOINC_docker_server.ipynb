{
 "cells": [
  {
   "cell_type": "markdown",
   "metadata": {},
   "source": [
    "<script async src=\"https://www.googletagmanager.com/gtag/js?id=UA-59152712-8\"></script>\n",
    "<script>\n",
    "  window.dataLayer = window.dataLayer || [];\n",
    "  function gtag(){dataLayer.push(arguments);}\n",
    "  gtag('js', new Date());\n",
    "\n",
    "  gtag('config', 'UA-59152712-8');\n",
    "</script>\n",
    "\n",
    "# BlackHoles@Home Tutorial:  Setting up a BOINC Docker server\n",
    "\n",
    "## Author: Leo Werneck\n",
    "\n",
    "## This tutorial notebook demonstrates how to start a simple BOINC server using Docker\n",
    "\n",
    "## Based on the [guide by Marius Millea](https://github.com/marius311/boinc-server-docker/blob/master/docs/cookbook.md)\n",
    "\n",
    "### The BlackHoles@Home project\n",
    "\n",
    "The [BlackHoles@Home](http://blackholesathome.net/) project allows users to volunteer CPU time so a large number of binary black holes simulations can be performed. The objective is to create a large catalog of [gravitational waveforms](https://en.wikipedia.org/wiki/Gravitational_wave), which can be used by observatories such as [LIGO](https://www.ligo.org), [VIRGO](https://www.virgo-gw.eu), and, in the future, [LISA](https://lisa.nasa.gov) in order to infer what was the source of a detected gravitational wave.\n",
    "\n",
    "BlackHoles@Home is destined to run on the [BOINC](https://boinc.berkeley.edu) infrastructure (alongside [Einstein@Home](https://einsteinathome.org/) and [many other great projects](https://boinc.berkeley.edu/projects.php)), enabling anyone with a computer to contribute to the construction of the largest numerical relativity gravitational wave catalogs ever produced.\n",
    "\n",
    "### Software Prerequisites\n",
    "\n",
    "The following software must be installed in order for this tutorial notebook to work correctly.\n",
    "\n",
    "* [git](https://git-scm.com)\n",
    "* Docker\n",
    "    * [For Linux](https://docs.docker.com/engine/install/)\n",
    "    * [For Mac](https://docs.docker.com/docker-for-mac/install/#download-docker-for-)\n",
    "    * [For Windows](https://docs.docker.com/docker-for-windows/install/)\n",
    "* [Docker-Compose](https://docs.docker.com/compose/install/)\n",
    "\n",
    "### Summary:\n",
    "\n",
    "If using Linux, run `$: dockerd` before running the following commands. If using Mac/Windows, start the Docker application/executable first.\n",
    "\n",
    "```bash\n",
    "$: git clone https://github.com/marius311/boinc-server-docker.git\n",
    "$: cd boinc-server-docker\n",
    "$: docker-compose pull\n",
    "$: docker-compose up -d\n",
    "```\n",
    "\n",
    "The server webpage should then be displayed in the address [http://127.0.0.1/boincserver/](http://127.0.0.1/boincserver/). If not, you can try the following fix:\n",
    "\n",
    "```bash\n",
    "$: cd boinc-server-docker\n",
    "$: docker-compose exec apache bash\n",
    "$: ln -s /home/boincadm/project/boincserver.httpd.conf /etc/apache2/conf-enabled/boincserver.httpd.conf\n",
    "$: /etc/init.d/apache2 reload\n",
    "$: exit\n",
    "```\n",
    "\n",
    "To stop running the server, run\n",
    "\n",
    "```bash\n",
    "$: docker-compose down\n",
    "```"
   ]
  },
  {
   "cell_type": "markdown",
   "metadata": {},
   "source": [
    "<a id='toc'></a>\n",
    "\n",
    "# Table of Contents\n",
    "$$\\label{toc}$$\n",
    "\n",
    "This module lays out the basic steps needed to setup a simple BOINC server on your local machine. It is meant to help you get familiarity with Docker, Docker-Compose, and BOINC servers. This tutorial is organized as follows:\n",
    "\n",
    "0. [Step 0](#introduction): Introduction\n",
    "1. [Step 1](#boinc_server_docker): Clone the [boinc-server-docker repository](https://github.com/marius311/boinc-server-docker)\n",
    "1. [Step 2](#sync_with_boinc): Syncronize with BOINC\n",
    "1. [Step 3](#starting_the_server): Starting the server\n",
    "1. [Step 4](#the_server_webpage): The server webpage\n",
    "1. [Step 5](#shutting_down_the_server): Shutting down the server\n",
    "1. [Step 6](#latex_pdf_output): Output this notebook to $\\LaTeX$-formatted PDF file"
   ]
  },
  {
   "cell_type": "markdown",
   "metadata": {},
   "source": [
    "<a id='introduction'></a>\n",
    "\n",
    "# Step 0: Introduction \\[Back to [top](#toc)\\]\n",
    "$$\\label{introduction}$$\n",
    "\n",
    "If you are able to run all the cells in this tutorial notebook without any errors, then you will have:\n",
    "\n",
    "1. Successfully downloaded the boinc-server-docker repository\n",
    "1. Successfully synchronized your local files with the BOINC servers\n",
    "1. Successfully started a local BOINC server\n",
    "1. Successfully stopped a local BOINC server\n",
    "\n",
    "This means that running all the cells can be useful as a first check, ensuring that everything is working correctly. However, if want to actually interact with some of the server features, such as a server terminal window or viewing the server's webpage, then you will have to wait until you are done doing so before executing the cell that stops the server."
   ]
  },
  {
   "cell_type": "markdown",
   "metadata": {},
   "source": [
    "<a id='boinc_server_docker'></a>\n",
    "\n",
    "# Step 1: Clone the boinc-server-docker repository \\[Back to [top](#toc)\\]\n",
    "$$\\label{boinc_server_docker}$$\n",
    "\n",
    "Here we simply clone [Marius Millea's boinc-server-docker repository](https://github.com/marius311/boinc-server-docker)."
   ]
  },
  {
   "cell_type": "code",
   "execution_count": null,
   "metadata": {},
   "outputs": [],
   "source": [
    "# Step 1: Clone the boinc-server-docker repository\n",
    "# Step 1.a: Import required Python modules\n",
    "import os,sys\n",
    "\n",
    "# Step 1.b: Add NRPy's root directory to the sys.path()\n",
    "sys.path.append(\"..\")\n",
    "\n",
    "# Step 1.c: Load NRPy+'s command line helper module\n",
    "import cmdline_helper as cmd\n",
    "\n",
    "# Step 1.d: Set target path\n",
    "current_dir = os.getcwd()\n",
    "target_dir  = os.path.join(current_dir,\"boinc-server-docker\")\n",
    "\n",
    "# Step 1.e: Use git to download the repository, if it hasn't been downloaded already\n",
    "if( os.path.isdir(target_dir)==False ):\n",
    "    # Step 1.e.i: Download the repository\n",
    "    check = os.system(\"git clone https://github.com/marius311/boinc-server-docker.git\")\n",
    "    # Step 1.e.ii: Check everything is okay\n",
    "    if check == 0:\n",
    "        print(\"Successfully cloned boinc-server-docker repository to \"+target_dir)\n",
    "    else:\n",
    "        print(\"ERROR! Could not clone boinc-server-dorcker repository. Error code: \",check)\n",
    "else:\n",
    "    # Step 1.e.iii: No need to download\n",
    "    print(\"Found boinc-server-docker at \"+target_dir)"
   ]
  },
  {
   "cell_type": "markdown",
   "metadata": {},
   "source": [
    "<a id='sync_with_boinc'></a>\n",
    "\n",
    "# Step 2: Synchronize with BOINC \\[Back to [top](#toc)\\]\n",
    "$$\\label{sync_with_boinc}$$\n",
    "\n",
    "We now get the latest version of the server from BOINC. In order for this step to be correctly executed, the Docker daemon must be running. This means running the command\n",
    "\n",
    "```bash\n",
    "$: dockerd\n",
    "```\n",
    "\n",
    "in a Linux terminal window *before* executing the following cell. If using Mac/Windows, then open the Docker application/executable first.\n",
    "\n",
    "<font color='red'>**WARNING:**</font> If this is the first time you are running the commands below, it may take a while for the following cell to run."
   ]
  },
  {
   "cell_type": "code",
   "execution_count": null,
   "metadata": {},
   "outputs": [],
   "source": [
    "# Step 2: Synchronize with BOINC\n",
    "check = os.system(\"cd \"+target_dir+\" && docker-compose pull && cd \"+current_dir)\n",
    "\n",
    "if( check == 0 ):\n",
    "    print(\"Successfully synchronized with BOINC servers\")\n",
    "else:\n",
    "    print(\"ERROR! Could not synchronize with BOINC servers. Error code: \",check)\n",
    "    sys.exit()"
   ]
  },
  {
   "cell_type": "markdown",
   "metadata": {},
   "source": [
    "<a id='starting_the_server'></a>\n",
    "\n",
    "# Step 3: Starting the server \\[Back to [top](#toc)\\]\n",
    "$$\\label{starting_the_server}$$\n",
    "\n",
    "Now we are ready to start the server.\n",
    "\n",
    "<font color='red'>**WARNING:**</font> If this is the first time you are running the commands below, it may take a while for the following cell to run."
   ]
  },
  {
   "cell_type": "code",
   "execution_count": null,
   "metadata": {},
   "outputs": [],
   "source": [
    "# Step 3: Starting the server\n",
    "check = os.system(\"cd \"+target_dir+\" && docker-compose up -d && cd \"+current_dir)\n",
    "\n",
    "if( check == 0 ):\n",
    "    print(\"Successfully started our local BOINC server!\")\n",
    "else:\n",
    "    print(\"ERROR! Could not start our local BOINC server. Error code: \",check)\n",
    "    sys.exit()"
   ]
  },
  {
   "cell_type": "markdown",
   "metadata": {},
   "source": [
    "<a id='the_server_webpage'></a>\n",
    "\n",
    "# Step 4: The server webpage \\[Back to [top](#toc)\\]\n",
    "$$\\label{the_server_webpage}$$\n",
    "\n",
    "We can now test whether our server is indeed running by visiting its webpage. Since we have not specified any specific URL, the server webpage is set to the default address [http://127.0.0.1/boincserver/](http://127.0.0.1/boincserver/).\n",
    "\n",
    "<font color='blue'>**NOTE:**</font> If the webpage is not displayed correctly when accessing the link above, then you can try performing the following fix using a terminal window:\n",
    "\n",
    "```bash\n",
    "cd boinc-server-docker\n",
    "docker-compose exec apache bash\n",
    "ln -s /home/boincadm/project/boincserver.httpd.conf /etc/apache2/conf-enabled/boincserver.httpd.conf\n",
    "/etc/init.d/apache2 reload\n",
    "exit\n",
    "```"
   ]
  },
  {
   "cell_type": "markdown",
   "metadata": {},
   "source": [
    "<a id='stopping_the_server'></a>\n",
    "\n",
    "# Step 5: Stopping the server \\[Back to [top](#toc)\\]\n",
    "$$\\label{stopping_the_server}$$\n",
    "\n",
    "To stop the server, run the following command:\n",
    "\n",
    "```bash\n",
    "docker-compose down\n",
    "```"
   ]
  },
  {
   "cell_type": "code",
   "execution_count": null,
   "metadata": {},
   "outputs": [],
   "source": [
    "# Step 5: Stopping the server\n",
    "check = os.system(\"cd \"+target_dir+\" && docker-compose down && cd \"+current_dir)\n",
    "\n",
    "if( check == 0 ):\n",
    "    print(\"Successfully stopped our local BOINC server!\")\n",
    "else:\n",
    "    print(\"ERROR! Could not stop our local BOINC server. Error code: \",check)\n",
    "    sys.exit()"
   ]
  },
  {
   "cell_type": "markdown",
   "metadata": {},
   "source": [
    "<a id='latex_pdf_output'></a>\n",
    "\n",
    "# Step 5: Output this notebook to $\\LaTeX$-formatted PDF file \\[Back to [top](#toc)\\]\n",
    "$$\\label{latex_pdf_output}$$\n",
    "\n",
    "The following code cell converts this Jupyter notebook into a proper, clickable $\\LaTeX$-formatted PDF file. After the cell is successfully run, the generated PDF may be found in the root NRPy+ tutorial directory, with filename\n",
    "[Tutorial-BlackHolesAtHome-Setting_up_a_BOINC_docker_server.pdf](Tutorial-BlackHolesAtHome-Setting_up_a_BOINC_docker_server.pdf) (Note that clicking on this link may not work; you may need to open the PDF file through another means.)"
   ]
  },
  {
   "cell_type": "code",
   "execution_count": null,
   "metadata": {
    "execution": {
     "iopub.execute_input": "2021-03-07T17:21:21.309338Z",
     "iopub.status.busy": "2021-03-07T17:21:21.308582Z",
     "iopub.status.idle": "2021-03-07T17:21:24.791779Z",
     "shell.execute_reply": "2021-03-07T17:21:24.792580Z"
    },
    "scrolled": true
   },
   "outputs": [],
   "source": [
    "!cp ../latex_nrpy_style.tplx .\n",
    "cmd.output_Jupyter_notebook_to_LaTeXed_PDF(\"Tutorial-BlackHolesAtHome-Setting_up_a_BOINC_docker_server\")\n",
    "!rm -f latex_nrpy_style.tplx"
   ]
  }
 ],
 "metadata": {
  "kernelspec": {
   "display_name": "Python 3",
   "language": "python",
   "name": "python3"
  },
  "language_info": {
   "codemirror_mode": {
    "name": "ipython",
    "version": 3
   },
   "file_extension": ".py",
   "mimetype": "text/x-python",
   "name": "python",
   "nbconvert_exporter": "python",
   "pygments_lexer": "ipython3",
   "version": "3.9.2"
  }
 },
 "nbformat": 4,
 "nbformat_minor": 2
}
