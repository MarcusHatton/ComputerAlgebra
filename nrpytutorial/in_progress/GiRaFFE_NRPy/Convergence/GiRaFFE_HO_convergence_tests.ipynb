{
 "cells": [
  {
   "cell_type": "markdown",
   "metadata": {},
   "source": [
    "## Convergence testing for $\\text{GiRaFFE_HO}$\n",
    "\n",
    "After importing core Python modules, we will read in the data output by GiRaFFE."
   ]
  },
  {
   "cell_type": "code",
   "execution_count": 1,
   "metadata": {},
   "outputs": [],
   "source": [
    "import numpy as np\n",
    "import matplotlib.pyplot as plt\n",
    "\n",
    "Data_for_dx = np.loadtxt(\"BU2.xo2.asc\")\n",
    "Data_for_dxo2 = np.loadtxt(\"BU2.xo4.asc\")"
   ]
  },
  {
   "cell_type": "markdown",
   "metadata": {},
   "source": [
    "Now, both the outer boundary and the singularity can introduce errors into the simulation. We will neglect those areas by excluding the regions $r>40$ and $r<10$"
   ]
  },
  {
   "cell_type": "code",
   "execution_count": 2,
   "metadata": {},
   "outputs": [],
   "source": [
    "rmin = 10\n",
    "rmax = 35\n",
    "\n",
    "M = len(Data_for_dx)\n",
    "i = 0\n",
    "while i<M:\n",
    "    x = Data_for_dx[i,5]\n",
    "    y = Data_for_dx[i,6]\n",
    "    z = Data_for_dx[i,7]\n",
    "    r = np.sqrt(x*x+y*y+z*z)\n",
    "    if r<rmin or r>rmax:\n",
    "        Data_for_dx = np.delete(Data_for_dx,i,axis=0)\n",
    "        M -= 1\n",
    "        i -= 1\n",
    "    i += 1\n",
    "    \n",
    "M = len(Data_for_dxo2)\n",
    "i = 0\n",
    "while i<M:\n",
    "    x = Data_for_dxo2[i,5]\n",
    "    y = Data_for_dxo2[i,6]\n",
    "    z = Data_for_dxo2[i,7]\n",
    "    r = np.sqrt(x*x+y*y+z*z)\n",
    "    if r<rmin or r>rmax:\n",
    "        Data_for_dxo2 = np.delete(Data_for_dxo2,i,axis=0)\n",
    "        M -= 1\n",
    "        i -= 1\n",
    "    i += 1"
   ]
  },
  {
   "cell_type": "markdown",
   "metadata": {},
   "source": [
    "The Exact Wald solution is a stationary solution to Einstein's and Maxwell's equations, so we will treat the initial data as the exact solution, comparing it to data at the 16$^{\\rm th}$ timestep, corresponding to $t \\approx 0.52 M$. The output files are currently formatted such that the first half of lines correspond to initial data, and the second half to final data."
   ]
  },
  {
   "cell_type": "code",
   "execution_count": 3,
   "metadata": {},
   "outputs": [],
   "source": [
    "N_rows = len(Data_for_dx[:,0])\n",
    "Init_x = Data_for_dx[0:N_rows/2,5]\n",
    "Init_BU2 = Data_for_dx[0:N_rows/2,8]\n",
    "Final_x = Data_for_dx[N_rows/2:N_rows,5]\n",
    "Final_BU2 = Data_for_dx[N_rows/2:N_rows,8]\n",
    "\n",
    "N_rows = len(Data_for_dxo2[:,0])\n",
    "Init_xo2 = Data_for_dxo2[0:N_rows/2,5]\n",
    "Init_BU2o2 = Data_for_dxo2[0:N_rows/2,8]\n",
    "Final_xo2 = Data_for_dxo2[N_rows/2:N_rows,5]\n",
    "Final_BU2o2 = Data_for_dxo2[N_rows/2:N_rows,8]\n"
   ]
  },
  {
   "cell_type": "markdown",
   "metadata": {},
   "source": [
    "As usual, we expect the relative error of these quantities to decrease as $2^N$. Here, $N$ should be 6, corresponding to FD order."
   ]
  },
  {
   "cell_type": "code",
   "execution_count": 4,
   "metadata": {},
   "outputs": [
    {
     "data": {
      "text/plain": [
       "<matplotlib.legend.Legend at 0x5586e6756db0>"
      ]
     },
     "execution_count": 4,
     "metadata": {},
     "output_type": "execute_result"
    },
    {
     "data": {
      "image/png": "[encoded data removed]",
      "text/plain": [
       "<Figure size 432x288 with 1 Axes>"
      ]
     },
     "metadata": {
      "needs_background": "light"
     },
     "output_type": "display_data"
    }
   ],
   "source": [
    "Erel = np.abs(2*(Final_BU2-Init_BU2)/(Final_BU2+Init_BU2))\n",
    "Erelo2 = np.abs(2*(Final_BU2o2-Init_BU2o2)/(Final_BU2o2+Init_BU2o2))\n",
    "\n",
    "predicted_order = 0\n",
    "\n",
    "Erel_plot = plt.plot(Init_x,Erel,'o',label=\"Low Res\")\n",
    "Erel_plot_o2 = plt.plot(Init_xo2,Erelo2*2**predicted_order,'o',label=\"High Res\")\n",
    "plt.ylabel(\"$E_{rel}$\",fontsize=\"xx-large\")\n",
    "plt.xlabel(\"x\",fontsize=\"xx-large\")\n",
    "plt.legend()"
   ]
  },
  {
   "cell_type": "code",
   "execution_count": null,
   "metadata": {},
   "outputs": [],
   "source": []
  }
 ],
 "metadata": {
  "kernelspec": {
   "display_name": "Python 2",
   "language": "python",
   "name": "python2"
  },
  "language_info": {
   "codemirror_mode": {
    "name": "ipython",
    "version": 2
   },
   "file_extension": ".py",
   "mimetype": "text/x-python",
   "name": "python",
   "nbconvert_exporter": "python",
   "pygments_lexer": "ipython2",
   "version": "2.7.13"
  }
 },
 "nbformat": 4,
 "nbformat_minor": 2
}
