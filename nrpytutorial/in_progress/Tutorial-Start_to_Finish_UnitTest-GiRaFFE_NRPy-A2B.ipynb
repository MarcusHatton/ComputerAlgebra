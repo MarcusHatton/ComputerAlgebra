{
 "cells": [
  {
   "cell_type": "markdown",
   "metadata": {},
   "source": [
    "<script async src=\"https://www.googletagmanager.com/gtag/js?id=UA-59152712-8\"></script>\n",
    "<script>\n",
    "  window.dataLayer = window.dataLayer || [];\n",
    "  function gtag(){dataLayer.push(arguments);}\n",
    "  gtag('js', new Date());\n",
    "\n",
    "  gtag('config', 'UA-59152712-8');\n",
    "</script>\n",
    "\n",
    "# Start-to-Finish Example: Unit Testing `GiRaFFE_NRPy`: $A_k$ to $B^i$\n",
    "\n",
    "## Author: Patrick Nelson\n",
    "\n",
    "## This module Validates the A-to-B routine for `GiRaFFE`.\n",
    "\n",
    "**Notebook Status:** <font color='green'><b>Validated</b></font>\n",
    "\n",
    "**Validation Notes:** This module will validate the routines in [Tutorial-GiRaFFE_NRPy-A2B](Tutorial-GiRaFFE_NRPy-A2B.ipynb).\n",
    "\n",
    "### NRPy+ Source Code for this module: \n",
    "* [GiRaFFE_NRPy/GiRaFFE_NRPy_A2B.py](../../edit/in_progress/GiRaFFE_NRPy/GiRaFFE_NRPy_A2B.py) [\\[**tutorial**\\]](Tutorial-GiRaFFE_NRPy-A2B.ipynb) Generates the driver to compute the magnetic field from the vector potential in arbitrary spactimes.\n",
    "\n",
    "## Introduction:\n",
    "\n",
    "This notebook validates our A-to-B solver for use in `GiRaFFE_NRPy`. Because the original `GiRaFFE` used staggered grids and we do not, we can not trivially do a direct comparison to the old code. Instead, we will compare the numerical results with the expected analytic results. \n",
    "\n",
    "It is, in general, good coding practice to unit test functions individually to verify that they produce the expected and intended output. Here, we expect our functions to produce the correct curl operator in an arbitrary spacetime. To that end, we will choose functions that are easy to differentiate, but lack the symmetries that would trivialize the finite-difference algorithm. Higher-order polynomials are one such type of function. \n",
    "\n",
    "When this notebook is run, if `Use_Gaussian_Data` is `True`, the difference between the approximate and exact magnetic field will be output to text files that can be found in the same directory as this notebook. These will be read in in [Step 3](#convergence), and used there to confirm second order convergence of the algorithm. Otherwise, is `Use_Gaussian_Data` is `False`, polynomial data will be used and the significant digits of agreement between the approximate and exact magnetic field will be printed to the screen right after the code is run [here](#compile_run).\n"
   ]
  },
  {
   "cell_type": "markdown",
   "metadata": {},
   "source": [
    "<a id='toc'></a>\n",
    "\n",
    "# Table of Contents\n",
    "$$\\label{toc}$$\n",
    "\n",
    "This notebook is organized as follows\n",
    "\n",
    "1. [Step 1](#setup): Set up core functions and parameters for unit testing the A2B algorithm\n",
    "    1. [Step 1.a](#polynomial) Polynomial vector potential\n",
    "    1. [Step 1.b](#gaussian) Gaussian vector potential\n",
    "    1. [Step 1.c](#magnetic) The magnetic field $B^i$\n",
    "    1. [Step 1.d](#vector_potential) The vector potential $A_k$\n",
    "    1. [Step 1.e](#free_parameters) Set free parameters in the code\n",
    "1. [Step 2](#mainc): `A2B_unit_test.c`: The Main C Code\n",
    "    1. [Step 2.a](#compile_run): Compile and run the code\n",
    "1. [Step 3](#convergence): Code validation: Verify that relative error in numerical solution converges to zero at the expected order\n",
    "1. [Step 4](#latex_pdf_output): Output this notebook to $\\LaTeX$-formatted PDF file"
   ]
  },
  {
   "cell_type": "markdown",
   "metadata": {},
   "source": [
    "<a id='setup'></a>\n",
    "\n",
    "# Step 1: Set up core functions and parameters for unit testing the A2B algorithm \\[Back to [top](#toc)\\]\n",
    "\n",
    "$$\\label{setup}$$\n",
    "\n",
    "We'll start by appending the relevant paths to `sys.path` so that we can access sympy modules in other places. Then, we'll import NRPy+ core functionality and set up a directory in which to carry out our test. We must also set the desired finite differencing order."
   ]
  },
  {
   "cell_type": "code",
   "execution_count": 1,
   "metadata": {
    "execution": {
     "iopub.execute_input": "2020-12-17T02:16:54.781882Z",
     "iopub.status.busy": "2020-12-17T02:16:54.781286Z",
     "iopub.status.idle": "2020-12-17T02:16:54.971060Z",
     "shell.execute_reply": "2020-12-17T02:16:54.970515Z"
    }
   },
   "outputs": [],
   "source": [
    "import os, sys, shutil     # Standard Python modules for multiplatform OS-level functions\n",
    "# First, we'll add the parent directory to the list of directories Python will check for modules.\n",
    "nrpy_dir_path = os.path.join(\"..\")\n",
    "if nrpy_dir_path not in sys.path:\n",
    "    sys.path.append(nrpy_dir_path)\n",
    "\n",
    "from outputC import outCfunction, lhrh # NRPy+: Core C code output module\n",
    "import sympy as sp               # SymPy: The Python computer algebra package upon which NRPy+ depends\n",
    "import finite_difference as fin  # NRPy+: Finite difference C code generation module\n",
    "import NRPy_param_funcs as par   # NRPy+: Parameter interface\n",
    "import grid as gri               # NRPy+: Functions having to do with numerical grids\n",
    "import indexedexp as ixp         # NRPy+: Symbolic indexed expression (e.g., tensors, vectors, etc.) support\n",
    "import reference_metric as rfm   # NRPy+: Reference metric support\n",
    "import cmdline_helper as cmd     # NRPy+: Multi-platform Python command-line interface\n",
    "\n",
    "Ccodesdir = \"Start-to-Finish-UnitTests/A2B_UnitTest/\"\n",
    "\n",
    "# First remove C code output directory if it exists\n",
    "# Courtesy https://stackoverflow.com/questions/303200/how-do-i-remove-delete-a-folder-that-is-not-empty\n",
    "shutil.rmtree(Ccodesdir, ignore_errors=True)\n",
    "# Then create a fresh directory\n",
    "cmd.mkdir(Ccodesdir)\n",
    "\n",
    "outdir = os.path.join(Ccodesdir,\"output/\")\n",
    "cmd.mkdir(outdir)\n",
    "\n",
    "thismodule = \"Start_to_Finish_UnitTest-GiRaFFE_NRPy-A2B\"\n",
    "\n",
    "# Set the finite-differencing order to 2\n",
    "par.set_parval_from_str(\"finite_difference::FD_CENTDERIVS_ORDER\", 2)\n",
    "\n",
    "Use_Gaussian_Data = True\n",
    "\n",
    "a,b,c,d,e,f,g,h,l,m,n,o,p,q,r,s,t,u = par.Cparameters(\"REAL\",thismodule,[\"a\",\"b\",\"c\",\"d\",\"e\",\"f\",\"g\",\"h\",\"l\",\"m\",\"n\",\"o\",\"p\",\"q\",\"r\",\"s\",\"t\",\"u\"],1e300)\n",
    "\n",
    "gammaDD = ixp.register_gridfunctions_for_single_rank2(\"AUXEVOL\",\"gammaDD\",\"sym01\")\n",
    "AD = ixp.register_gridfunctions_for_single_rank1(\"EVOL\",\"AD\")\n",
    "BU = ixp.register_gridfunctions_for_single_rank1(\"AUXEVOL\",\"BU\")\n"
   ]
  },
  {
   "cell_type": "markdown",
   "metadata": {},
   "source": [
    "<a id='polynomial'></a>\n",
    "\n",
    "## Step 1.a: Polynomial vector potential \\[Back to [top](#toc)\\]\n",
    "\n",
    "$$\\label{polynomial}$$\n",
    "\n",
    "We will start with the simplest case - testing the second-order solver. In second-order finite-differencing, we use a three-point stencil that can exactly differentiate polynomials up to quadratic. So, we will use cubic functions three variables. For instance,\n",
    "\n",
    "\\begin{align}\n",
    "A_x &= ax^3 + by^3 + cz^3 + dy^2 + ez^2 + f \\\\\n",
    "A_y &= gx^3 + hy^3 + lz^3 + mx^2 + nz^2 + p \\\\\n",
    "A_z &= px^3 + qy^3 + rz^3 + sx^2 + ty^2 + u. \\\\\n",
    "\\end{align}\n",
    "\n",
    "It will be much simpler to let NRPy+ handle most of this work. So, we will import the core functionality of NRPy+, build the expressions, and then output them using `outputC()`."
   ]
  },
  {
   "cell_type": "code",
   "execution_count": 2,
   "metadata": {
    "execution": {
     "iopub.execute_input": "2020-12-17T02:16:54.975707Z",
     "iopub.status.busy": "2020-12-17T02:16:54.975188Z",
     "iopub.status.idle": "2020-12-17T02:16:54.977320Z",
     "shell.execute_reply": "2020-12-17T02:16:54.976799Z"
    }
   },
   "outputs": [],
   "source": [
    "if not Use_Gaussian_Data:\n",
    "    is_gaussian = par.Cparameters(\"int\",thismodule,\"is_gaussian\",0)\n",
    "\n",
    "    par.set_parval_from_str(\"reference_metric::CoordSystem\",\"Cartesian\")\n",
    "    rfm.reference_metric()\n",
    "    x = rfm.xx_to_Cart[0]\n",
    "    y = rfm.xx_to_Cart[1]\n",
    "    z = rfm.xx_to_Cart[2]\n",
    "\n",
    "    AD[0] = a*x**3 + b*y**3 + c*z**3 + d*y**2 + e*z**2 + f\n",
    "    AD[1] = g*x**3 + h*y**3 + l*z**3 + m*x**2 + n*z**2 + o\n",
    "    AD[2] = p*x**3 + q*y**3 + r*z**3 + s*x**2 + t*y**2 + u\n"
   ]
  },
  {
   "cell_type": "markdown",
   "metadata": {},
   "source": [
    "<a id='gaussian'></a>\n",
    "\n",
    "## Step 1.b: Gaussian vector potential \\[Back to [top](#toc)\\]\n",
    "\n",
    "$$\\label{gaussian}$$\n",
    "\n",
    "Alternatively, we might want to use different functions for the vector potential. Here, we'll give some 3D Gaussians:\n",
    "\\begin{align}\n",
    "A_x &= a e^{-((x-b)^2+(y-c)^2+(z-d)^2)} \\\\\n",
    "A_y &= f e^{-((x-g)^2+(y-h)^2+(z-l)^2)} \\\\\n",
    "A_z &= m e^{-((x-n)^2+(y-o)^2+(z-p)^2)}, \\\\\n",
    "\\end{align}\n",
    "where $e$ is the natural number."
   ]
  },
  {
   "cell_type": "code",
   "execution_count": 3,
   "metadata": {
    "execution": {
     "iopub.execute_input": "2020-12-17T02:16:54.985220Z",
     "iopub.status.busy": "2020-12-17T02:16:54.984808Z",
     "iopub.status.idle": "2020-12-17T02:16:55.036211Z",
     "shell.execute_reply": "2020-12-17T02:16:55.035860Z"
    }
   },
   "outputs": [],
   "source": [
    "if Use_Gaussian_Data:\n",
    "    is_gaussian = par.Cparameters(\"int\",thismodule,\"is_gaussian\",1)\n",
    "\n",
    "    par.set_parval_from_str(\"reference_metric::CoordSystem\",\"Cartesian\")\n",
    "    rfm.reference_metric()\n",
    "    x = rfm.xx_to_Cart[0]\n",
    "    y = rfm.xx_to_Cart[1]\n",
    "    z = rfm.xx_to_Cart[2]\n",
    "\n",
    "    AD[0] = a * sp.exp(-((x-b)**2 + (y-c)**2 + (z-d)**2))\n",
    "    AD[1] = f * sp.exp(-((x-g)**2 + (y-h)**2 + (z-l)**2))\n",
    "    AD[2] = m * sp.exp(-((x-n)**2 + (y-o)**2 + (z-p)**2))"
   ]
  },
  {
   "cell_type": "markdown",
   "metadata": {},
   "source": [
    "<a id='magnetic'></a>\n",
    "\n",
    "## Step 1.c: The magnetic field $B^i$ \\[Back to [top](#toc)\\]\n",
    "$$\\label{magnetic}$$\n",
    "\n",
    "Next, we'll let NRPy+ compute derivatives analytically according to $$B^i = \\frac{[ijk]}{\\sqrt{\\gamma}} \\partial_j A_k.$$ Then we can carry out two separate tests to verify the numerical derivatives. First, we will verify that when we let the cubic terms be zero, the two calculations of $B^i$ agree to roundoff error. Second, we will verify that when we set the cubic terms, our error is dominated by trunction error that converges to zero at the expected rate. \n",
    "\n",
    "We will need a sample metric $\\gamma_{ij}$ for $\\sqrt{\\gamma}$. We will thus write a function with the following arbitrary equations. \n",
    "\\begin{align}\n",
    "\\gamma_{xx} &= ax^3 + by^3 + cz^3 + dy^2 + ez^2 + 1 \\\\\n",
    "\\gamma_{yy} &= gx^3 + hy^3 + lz^3 + mx^2 + nz^2 + 1 \\\\\n",
    "\\gamma_{zz} &= px^3 + qy^3 + rz^3 + sx^2 + ty^2 + 1. \\\\\n",
    "\\gamma_{xy} &= \\frac{1}{10} \\exp\\left(-\\left((x-b)^2+(y-c)^2+(z-d)^2\\right)\\right) \\\\\n",
    "\\gamma_{xz} &= \\frac{1}{10} \\exp\\left(-\\left((x-g)^2+(y-h)^2+(z-l)^2\\right)\\right) \\\\\n",
    "\\gamma_{yz} &= \\frac{1}{10} \\exp\\left(-\\left((x-n)^2+(y-o)^2+(z-p)^2\\right)\\right), \\\\\n",
    "\\end{align}\n"
   ]
  },
  {
   "cell_type": "code",
   "execution_count": 4,
   "metadata": {
    "execution": {
     "iopub.execute_input": "2020-12-17T02:16:55.057140Z",
     "iopub.status.busy": "2020-12-17T02:16:55.052932Z",
     "iopub.status.idle": "2020-12-17T02:16:55.171891Z",
     "shell.execute_reply": "2020-12-17T02:16:55.172338Z"
    }
   },
   "outputs": [
    {
     "name": "stdout",
     "output_type": "stream",
     "text": [
      "Output C function calculate_metric_gfs() to file Start-to-Finish-UnitTests/A2B_UnitTest/calculate_metric_gfs.h\n"
     ]
    }
   ],
   "source": [
    "par.set_parval_from_str(\"reference_metric::CoordSystem\",\"Cartesian\")\n",
    "rfm.reference_metric()\n",
    "x = rfm.xx_to_Cart[0]\n",
    "y = rfm.xx_to_Cart[1]\n",
    "z = rfm.xx_to_Cart[2]\n",
    "\n",
    "gammaDD[0][0] = a*x**3 + b*y**3 + c*z**3 + d*y**2 + e*z**2 + sp.sympify(1)\n",
    "gammaDD[1][1] = g*x**3 + h*y**3 + l*z**3 + m*x**2 + n*z**2 + sp.sympify(1)\n",
    "gammaDD[2][2] = p*x**3 + q*y**3 + r*z**3 + s*x**2 + t*y**2 + sp.sympify(1)\n",
    "gammaDD[0][1] = sp.Rational(1,10) * sp.exp(-((x-b)**2 + (y-c)**2 + (z-d)**2))\n",
    "gammaDD[0][2] = sp.Rational(1,10) * sp.exp(-((x-g)**2 + (y-h)**2 + (z-l)**2))\n",
    "gammaDD[1][2] = sp.Rational(1,10) * sp.exp(-((x-n)**2 + (y-o)**2 + (z-p)**2))\n",
    "\n",
    "import GRHD.equations as gh\n",
    "gh.compute_sqrtgammaDET(gammaDD)\n",
    "\n",
    "LeviCivitaUUU = ixp.LeviCivitaTensorUUU_dim3_rank3(gh.sqrtgammaDET)\n",
    "\n",
    "B_analyticU = ixp.register_gridfunctions_for_single_rank1(\"AUXEVOL\",\"B_analyticU\")\n",
    "for i in range(3):\n",
    "    B_analyticU[i] = 0\n",
    "    for j in range(3):\n",
    "        for k in range(3):\n",
    "            B_analyticU[i] += LeviCivitaUUU[i][j][k] * sp.diff(AD[k],rfm.xx_to_Cart[j])\n",
    "\n",
    "metric_gfs_to_print = [\\\n",
    "                       lhrh(lhs=gri.gfaccess(\"aux_gfs\",\"gammaDD00\"),rhs=gammaDD[0][0]),\\\n",
    "                       lhrh(lhs=gri.gfaccess(\"aux_gfs\",\"gammaDD01\"),rhs=gammaDD[0][1]),\\\n",
    "                       lhrh(lhs=gri.gfaccess(\"aux_gfs\",\"gammaDD02\"),rhs=gammaDD[0][2]),\\\n",
    "                       lhrh(lhs=gri.gfaccess(\"aux_gfs\",\"gammaDD11\"),rhs=gammaDD[1][1]),\\\n",
    "                       lhrh(lhs=gri.gfaccess(\"aux_gfs\",\"gammaDD12\"),rhs=gammaDD[1][2]),\\\n",
    "                       lhrh(lhs=gri.gfaccess(\"aux_gfs\",\"gammaDD22\"),rhs=gammaDD[2][2]),\\\n",
    "                      ]\n",
    "\n",
    "desc = \"Calculate the metric gridfunctions\"\n",
    "name = \"calculate_metric_gfs\"\n",
    "outCfunction(\n",
    "    outfile  = os.path.join(Ccodesdir,name+\".h\"), desc=desc, name=name,\n",
    "    params   =\"const paramstruct *restrict params,REAL *restrict xx[3],REAL *restrict auxevol_gfs\",\n",
    "    body     = fin.FD_outputC(\"returnstring\",metric_gfs_to_print,params=\"outCverbose=False\").replace(\"IDX4\",\"IDX4S\"),\n",
    "    loopopts=\"AllPoints,Read_xxs\")\n"
   ]
  },
  {
   "cell_type": "markdown",
   "metadata": {},
   "source": [
    "We also should write a function that will use the analytic formulae for $B^i$. "
   ]
  },
  {
   "cell_type": "code",
   "execution_count": 5,
   "metadata": {
    "execution": {
     "iopub.execute_input": "2020-12-17T02:16:55.209679Z",
     "iopub.status.busy": "2020-12-17T02:16:55.194509Z",
     "iopub.status.idle": "2020-12-17T02:16:55.280378Z",
     "shell.execute_reply": "2020-12-17T02:16:55.279850Z"
    }
   },
   "outputs": [
    {
     "name": "stdout",
     "output_type": "stream",
     "text": [
      "Output C function calculate_exact_BU() to file Start-to-Finish-UnitTests/A2B_UnitTest/calculate_exact_BU.h\n"
     ]
    }
   ],
   "source": [
    "B_analyticU_to_print = [\\\n",
    "                           lhrh(lhs=gri.gfaccess(\"out_gfs\",\"B_analyticU0\"),rhs=B_analyticU[0]),\\\n",
    "                           lhrh(lhs=gri.gfaccess(\"out_gfs\",\"B_analyticU1\"),rhs=B_analyticU[1]),\\\n",
    "                           lhrh(lhs=gri.gfaccess(\"out_gfs\",\"B_analyticU2\"),rhs=B_analyticU[2]),\\\n",
    "                          ]\n",
    "\n",
    "desc = \"Calculate the exact magnetic field\"\n",
    "name = \"calculate_exact_BU\"\n",
    "outCfunction(\n",
    "    outfile  = os.path.join(Ccodesdir,name+\".h\"), desc=desc, name=name,\n",
    "    params   =\"const paramstruct *restrict params,REAL *restrict xx[3],REAL *restrict auxevol_gfs\",\n",
    "    body     = fin.FD_outputC(\"returnstring\",B_analyticU_to_print,params=\"outCverbose=False\").replace(\"IDX4\",\"IDX4S\"),\n",
    "    loopopts=\"AllPoints,Read_xxs\")\n"
   ]
  },
  {
   "cell_type": "markdown",
   "metadata": {},
   "source": [
    "<a id='vector_potential'></a>\n",
    "\n",
    "## Step 1.d: The vector potential $A_k$ \\[Back to [top](#toc)\\]\n",
    "$$\\label{vector_potential}$$\n",
    "\n",
    "We'll now write a function to set the vector potential $A_k$. This simply uses NRPy+ to generate most of the code from the expressions we wrote at the beginning. Then, we'll need to call the function from the module `GiRaFFE_NRPy_A2B` to generate the code we need. Also, we will declare the parameters for the vector potential functions."
   ]
  },
  {
   "cell_type": "code",
   "execution_count": 6,
   "metadata": {
    "execution": {
     "iopub.execute_input": "2020-12-17T02:16:55.308610Z",
     "iopub.status.busy": "2020-12-17T02:16:55.308194Z",
     "iopub.status.idle": "2020-12-17T02:16:55.399095Z",
     "shell.execute_reply": "2020-12-17T02:16:55.398580Z"
    }
   },
   "outputs": [
    {
     "name": "stdout",
     "output_type": "stream",
     "text": [
      "Output C function calculate_AD() to file Start-to-Finish-UnitTests/A2B_UnitTest/calculate_AD.h\n"
     ]
    }
   ],
   "source": [
    "AD_to_print = [\\\n",
    "               lhrh(lhs=gri.gfaccess(\"out_gfs\",\"AD0\"),rhs=AD[0]),\\\n",
    "               lhrh(lhs=gri.gfaccess(\"out_gfs\",\"AD1\"),rhs=AD[1]),\\\n",
    "               lhrh(lhs=gri.gfaccess(\"out_gfs\",\"AD2\"),rhs=AD[2]),\\\n",
    "              ]\n",
    "\n",
    "desc = \"Calculate the vector potential\"\n",
    "name = \"calculate_AD\"\n",
    "outCfunction(\n",
    "    outfile  = os.path.join(Ccodesdir,name+\".h\"), desc=desc, name=name,\n",
    "    params   =\"const paramstruct *restrict params,REAL *restrict xx[3],REAL *restrict out_gfs\",\n",
    "    body     = fin.FD_outputC(\"returnstring\",AD_to_print,params=\"outCverbose=False\").replace(\"IDX4\",\"IDX4S\"),\n",
    "    loopopts=\"AllPoints,Read_xxs\")\n",
    "\n",
    "# cmd.mkdir(os.path.join(out_dir))\n",
    "import GiRaFFE_NRPy.GiRaFFE_NRPy_A2B as A2B\n",
    "# We'll generate these into the A2B subdirectory since that's where the functions\n",
    "# we're testing expect them to be.\n",
    "AD = ixp.declarerank1(\"AD\") # Make sure these aren't analytic expressions\n",
    "gammaDD = ixp.declarerank2(\"gammaDD\",\"sym01\")\n",
    "A2B.GiRaFFE_NRPy_A2B(os.path.join(Ccodesdir,\"A2B\"),gammaDD,AD,BU)\n"
   ]
  },
  {
   "cell_type": "markdown",
   "metadata": {},
   "source": [
    "<a id='free_parameters'></a>\n",
    "\n",
    "## Step 1.e: Set free parameters in the code \\[Back to [top](#toc)\\]\n",
    "$$\\label{free_parameters}$$\n",
    "\n",
    "We also need to create the files that interact with NRPy's C parameter interface. "
   ]
  },
  {
   "cell_type": "code",
   "execution_count": 7,
   "metadata": {
    "execution": {
     "iopub.execute_input": "2020-12-17T02:16:55.402267Z",
     "iopub.status.busy": "2020-12-17T02:16:55.401744Z",
     "iopub.status.idle": "2020-12-17T02:16:55.404647Z",
     "shell.execute_reply": "2020-12-17T02:16:55.404129Z"
    }
   },
   "outputs": [],
   "source": [
    "# Step 3.d.i: Generate declare_Cparameters_struct.h, set_Cparameters_default.h, and set_Cparameters[-SIMD].h\n",
    "# par.generate_Cparameters_Ccodes(os.path.join(out_dir))\n",
    "\n",
    "# Step 3.d.ii: Set free_parameters.h\n",
    "with open(os.path.join(Ccodesdir,\"free_parameters.h\"),\"w\") as file:\n",
    "    file.write(\"\"\"\n",
    "// Override parameter defaults with values based on command line arguments and NGHOSTS.\n",
    "// We'll use this grid. It has one point and one ghost zone.\n",
    "params.Nxx0 = atoi(argv[1]);\n",
    "params.Nxx1 = atoi(argv[2]);\n",
    "params.Nxx2 = atoi(argv[3]);\n",
    "params.Nxx_plus_2NGHOSTS0 = params.Nxx0 + 2*NGHOSTS;\n",
    "params.Nxx_plus_2NGHOSTS1 = params.Nxx1 + 2*NGHOSTS;\n",
    "params.Nxx_plus_2NGHOSTS2 = params.Nxx2 + 2*NGHOSTS;\n",
    "// Step 0d: Set up space and time coordinates\n",
    "// Step 0d.i: Declare \\Delta x^i=dxx{0,1,2} and invdxx{0,1,2}, as well as xxmin[3] and xxmax[3]:\n",
    "const REAL xxmin[3] = {-0.01,-0.01,-0.01};\n",
    "const REAL xxmax[3] = { 0.01, 0.01, 0.01};\n",
    "\n",
    "params.dxx0 = (xxmax[0] - xxmin[0]) / ((REAL)params.Nxx_plus_2NGHOSTS0-1.0);\n",
    "params.dxx1 = (xxmax[1] - xxmin[1]) / ((REAL)params.Nxx_plus_2NGHOSTS1-1.0);\n",
    "params.dxx2 = (xxmax[2] - xxmin[2]) / ((REAL)params.Nxx_plus_2NGHOSTS2-1.0);\n",
    "printf(\"dxx0,dxx1,dxx2 = %.5e,%.5e,%.5e\\\\n\",params.dxx0,params.dxx1,params.dxx2);\n",
    "params.invdx0 = 1.0 / params.dxx0;\n",
    "params.invdx1 = 1.0 / params.dxx1;\n",
    "params.invdx2 = 1.0 / params.dxx2;\n",
    "\\n\"\"\")\n",
    "\n",
    "# Generates declare_Cparameters_struct.h, set_Cparameters_default.h, and set_Cparameters[-SIMD].h\n",
    "par.generate_Cparameters_Ccodes(os.path.join(Ccodesdir))"
   ]
  },
  {
   "cell_type": "markdown",
   "metadata": {},
   "source": [
    "<a id='mainc'></a>\n",
    "\n",
    "# Step 2: `A2B_unit_test.c`: The Main C Code \\[Back to [top](#toc)\\]\n",
    "$$\\label{mainc}$$\n",
    "\n",
    "Now that we have our vector potential and analytic magnetic field to compare against, we will start writing our unit test. We'll also import common C functionality, define `REAL`, the number of ghost zones, and the faces, and set the standard macros for NRPy+ style memory access. Once we are done with preliminaries and defining data on our grid, we will compare the output from `calculate_exact_BU()` against `driver_A_to_B` to confirm that our error converges to zero."
   ]
  },
  {
   "cell_type": "code",
   "execution_count": 8,
   "metadata": {
    "execution": {
     "iopub.execute_input": "2020-12-17T02:16:55.407999Z",
     "iopub.status.busy": "2020-12-17T02:16:55.407596Z",
     "iopub.status.idle": "2020-12-17T02:16:55.410380Z",
     "shell.execute_reply": "2020-12-17T02:16:55.409999Z"
    }
   },
   "outputs": [
    {
     "name": "stdout",
     "output_type": "stream",
     "text": [
      "Writing Start-to-Finish-UnitTests/A2B_UnitTest//A2B_unit_test.c\n"
     ]
    }
   ],
   "source": [
    "%%writefile $Ccodesdir/A2B_unit_test.c\n",
    "\n",
    "// These are common packages that we are likely to need.\n",
    "#include \"stdio.h\"\n",
    "#include \"stdlib.h\"\n",
    "#include \"math.h\"\n",
    "#include \"string.h\" // Needed for strncmp, etc.\n",
    "#include \"stdint.h\" // Needed for Windows GCC 6.x compatibility\n",
    "#include <time.h>   // Needed to set a random seed.\n",
    "\n",
    "#define REAL double\n",
    "#include \"declare_Cparameters_struct.h\"\n",
    "\n",
    "const int MAXFACE = -1;\n",
    "const int NUL     = +0;\n",
    "const int MINFACE = +1;\n",
    "const int NGHOSTS = 3;\n",
    "const int NGHOSTS_A2B = 3;\n",
    "\n",
    "REAL a,b,c,d,e,f,g,h,l,m,n,o,p,q,r,s,t,u;\n",
    "\n",
    "// Standard NRPy+ memory access:\n",
    "#define IDX4S(g,i,j,k) \\\n",
    "( (i) + Nxx_plus_2NGHOSTS0 * ( (j) + Nxx_plus_2NGHOSTS1 * ( (k) + Nxx_plus_2NGHOSTS2 * (g) ) ) )\n"
   ]
  },
  {
   "cell_type": "markdown",
   "metadata": {},
   "source": [
    "We'll now define the gridfunction names."
   ]
  },
  {
   "cell_type": "code",
   "execution_count": 9,
   "metadata": {
    "execution": {
     "iopub.execute_input": "2020-12-17T02:16:55.413197Z",
     "iopub.status.busy": "2020-12-17T02:16:55.412792Z",
     "iopub.status.idle": "2020-12-17T02:16:55.415433Z",
     "shell.execute_reply": "2020-12-17T02:16:55.415024Z"
    }
   },
   "outputs": [
    {
     "name": "stdout",
     "output_type": "stream",
     "text": [
      "Appending to Start-to-Finish-UnitTests/A2B_UnitTest//A2B_unit_test.c\n"
     ]
    }
   ],
   "source": [
    "%%writefile -a $Ccodesdir/A2B_unit_test.c\n",
    "\n",
    "// Let's also #define the NRPy+ gridfunctions\n",
    "#define AD0GF 0\n",
    "#define AD1GF 1\n",
    "#define AD2GF 2\n",
    "#define NUM_EVOL_GFS 3\n",
    "\n",
    "#define GAMMADD00GF 0\n",
    "#define GAMMADD01GF 1\n",
    "#define GAMMADD02GF 2\n",
    "#define GAMMADD11GF 3\n",
    "#define GAMMADD12GF 4\n",
    "#define GAMMADD22GF 5\n",
    "#define B_ANALYTICU0GF 6\n",
    "#define B_ANALYTICU1GF 7\n",
    "#define B_ANALYTICU2GF 8\n",
    "#define BU0GF 9\n",
    "#define BU1GF 10\n",
    "#define BU2GF 11\n",
    "#define NUM_AUXEVOL_GFS 12\n"
   ]
  },
  {
   "cell_type": "markdown",
   "metadata": {},
   "source": [
    "Now, we'll handle the different A2B codes. There are several things to do here. First, we'll add `#include`s to the C code so that we have access to the functions we want to test, as generated above. We will choose to do this in the subfolder `A2B` relative to this tutorial.\n"
   ]
  },
  {
   "cell_type": "code",
   "execution_count": 10,
   "metadata": {
    "execution": {
     "iopub.execute_input": "2020-12-17T02:16:55.418133Z",
     "iopub.status.busy": "2020-12-17T02:16:55.417732Z",
     "iopub.status.idle": "2020-12-17T02:16:55.420010Z",
     "shell.execute_reply": "2020-12-17T02:16:55.419603Z"
    }
   },
   "outputs": [
    {
     "name": "stdout",
     "output_type": "stream",
     "text": [
      "Appending to Start-to-Finish-UnitTests/A2B_UnitTest//A2B_unit_test.c\n"
     ]
    }
   ],
   "source": [
    "%%writefile -a $Ccodesdir/A2B_unit_test.c\n",
    "\n",
    "#include \"A2B/driver_AtoB.h\" // This file contains both functions we need.\n",
    "\n",
    "#include \"calculate_exact_BU.h\"\n",
    "#include \"calculate_AD.h\"\n",
    "\n",
    "#include \"calculate_metric_gfs.h\"\n"
   ]
  },
  {
   "cell_type": "markdown",
   "metadata": {},
   "source": [
    "Now, we'll write the main method. First, we'll set up the grid. In this test, we cannot use only one point. As we are testing a three-point stencil, we can get away with a minimal $3 \\times 3 \\times 3$ grid. Then, we'll write the A fields. After that, we'll calculate the magnetic field two ways."
   ]
  },
  {
   "cell_type": "code",
   "execution_count": 11,
   "metadata": {
    "execution": {
     "iopub.execute_input": "2020-12-17T02:16:55.423541Z",
     "iopub.status.busy": "2020-12-17T02:16:55.423103Z",
     "iopub.status.idle": "2020-12-17T02:16:55.425707Z",
     "shell.execute_reply": "2020-12-17T02:16:55.425298Z"
    }
   },
   "outputs": [
    {
     "name": "stdout",
     "output_type": "stream",
     "text": [
      "Appending to Start-to-Finish-UnitTests/A2B_UnitTest//A2B_unit_test.c\n"
     ]
    }
   ],
   "source": [
    "%%writefile -a $Ccodesdir/A2B_unit_test.c\n",
    "\n",
    "int main(int argc, const char *argv[]) {\n",
    "    paramstruct params;\n",
    "#include \"set_Cparameters_default.h\"\n",
    "\n",
    "    // Let the last argument be the test we're doing. 1 = coarser grid, 0 = finer grid.\n",
    "    int do_quadratic_test = atoi(argv[4]);\n",
    "\n",
    "    // Step 0c: Set free parameters, overwriting Cparameters defaults\n",
    "    //          by hand or with command-line input, as desired.\n",
    "#include \"free_parameters.h\"\n",
    "#include \"set_Cparameters-nopointer.h\"\n",
    "\n",
    "    // We'll define our grid slightly different from how we normally would. We let our outermost\n",
    "    // ghostzones coincide with xxmin and xxmax instead of the interior of the grid. This means\n",
    "    // that the ghostzone points will have identical positions so we can do convergence tests of them.    // Step 0d.ii: Set up uniform coordinate grids\n",
    "    REAL *xx[3];\n",
    "    xx[0] = (REAL *)malloc(sizeof(REAL)*Nxx_plus_2NGHOSTS0);\n",
    "    xx[1] = (REAL *)malloc(sizeof(REAL)*Nxx_plus_2NGHOSTS1);\n",
    "    xx[2] = (REAL *)malloc(sizeof(REAL)*Nxx_plus_2NGHOSTS2);\n",
    "    for(int j=0;j<Nxx_plus_2NGHOSTS0;j++) xx[0][j] = xxmin[0] + ((REAL)(j))*dxx0;\n",
    "    for(int j=0;j<Nxx_plus_2NGHOSTS1;j++) xx[1][j] = xxmin[1] + ((REAL)(j))*dxx1;\n",
    "    for(int j=0;j<Nxx_plus_2NGHOSTS2;j++) xx[2][j] = xxmin[2] + ((REAL)(j))*dxx2;\n",
    "\n",
    "    //for(int j=0;j<Nxx_plus_2NGHOSTS0;j++) printf(\"x[%d] = %.5e\\n\",j,xx[0][j]);\n",
    "\n",
    "    //for(int i=0;i<Nxx_plus_2NGHOSTS0;i++) printf(\"xx[0][%d] = %.15e\\\\n\",i,xx[0][i]);\n",
    "\n",
    "    // This is the array to which we'll write the NRPy+ variables.\n",
    "    REAL *auxevol_gfs  = (REAL *)malloc(sizeof(REAL) * NUM_AUXEVOL_GFS * Nxx_plus_2NGHOSTS2 * Nxx_plus_2NGHOSTS1 * Nxx_plus_2NGHOSTS0);\n",
    "    REAL *evol_gfs  = (REAL *)malloc(sizeof(REAL) * NUM_EVOL_GFS * Nxx_plus_2NGHOSTS2 * Nxx_plus_2NGHOSTS1 * Nxx_plus_2NGHOSTS0);\n",
    "    for(int i=0;i<Nxx_plus_2NGHOSTS0;i++) for(int j=0;j<Nxx_plus_2NGHOSTS1;j++) for(int k=0;k<Nxx_plus_2NGHOSTS1;k++) {\n",
    "        auxevol_gfs[IDX4S(BU0GF,i,j,k)] = 0.0;\n",
    "        auxevol_gfs[IDX4S(BU1GF,i,j,k)] = 0.0;\n",
    "        auxevol_gfs[IDX4S(BU2GF,i,j,k)] = 0.0;\n",
    "    }\n",
    "\n",
    "    // We now want to set up the vector potential. First, we must set the coefficients.\n",
    "    if(is_gaussian) {\n",
    "        // Gaussian coefficients:\n",
    "        // Magnitudes:\n",
    "        a = (double)(rand()%20)/5.0;\n",
    "        f = (double)(rand()%20)/5.0;\n",
    "        m = (double)(rand()%20)/5.0;\n",
    "        // Offsets:\n",
    "        b = (double)(rand()%10-5)/1000.0;\n",
    "        c = (double)(rand()%10-5)/1000.0;\n",
    "        d = (double)(rand()%10-5)/1000.0;\n",
    "        g = (double)(rand()%10-5)/1000.0;\n",
    "        h = (double)(rand()%10-5)/1000.0;\n",
    "        l = (double)(rand()%10-5)/1000.0;\n",
    "        n = (double)(rand()%10-5)/1000.0;\n",
    "        o = (double)(rand()%10-5)/1000.0;\n",
    "        p = (double)(rand()%10-5)/1000.0;\n",
    "        /*printf(\"Offsets: b,c,d = %f,%f,%f\\n\",b,c,d);\n",
    "        printf(\"Offsets: g,h,l = %f,%f,%f\\n\",g,h,l);\n",
    "        printf(\"Offsets: n,o,p = %f,%f,%f\\n\",n,o,p);*/\n",
    "        // First, calculate the test data on our grid:\n",
    "    }\n",
    "    else {\n",
    "        // Polynomial coefficients\n",
    "        // We will use random integers between -10 and 10. For the first test, we let the\n",
    "        // Cubic coefficients remain zero. Those are a,b,c,g,h,l,p,q, and r.\n",
    "\n",
    "        d = (double)(rand()%20-10);\n",
    "        e = (double)(rand()%20-10);\n",
    "        f = (double)(rand()%20-10);\n",
    "        m = (double)(rand()%20-10);\n",
    "        n = (double)(rand()%20-10);\n",
    "        o = (double)(rand()%20-10);\n",
    "        s = (double)(rand()%20-10);\n",
    "        t = (double)(rand()%20-10);\n",
    "        u = (double)(rand()%20-10);\n",
    "    }\n",
    "    calculate_metric_gfs(&params,xx,auxevol_gfs);\n",
    "\n",
    "    if(do_quadratic_test && !is_gaussian) {\n",
    "        calculate_AD(&params,xx,evol_gfs);\n",
    "\n",
    "        // We'll also calculate the exact solution for B^i\n",
    "        calculate_exact_BU(&params,xx,auxevol_gfs);\n",
    "\n",
    "        // And now for the numerical derivatives:\n",
    "        driver_A_to_B(&params,evol_gfs,auxevol_gfs);\n",
    "\n",
    "        printf(\"This test uses quadratic vector potentials, so the magnetic fields should agree to roundoff error.\\n\");\n",
    "        printf(\"Below, each row represents one point. Each column represents a component of the magnetic field.\\n\");\n",
    "        printf(\"Shown is the number of Significant Digits of Agreement, at least 13 is good, higher is better:\\n\\n\");\n",
    "        for(int i2=0;i2<Nxx_plus_2NGHOSTS2;i2++) for(int i1=0;i1<Nxx_plus_2NGHOSTS1;i1++) for(int i0=0;i0<Nxx_plus_2NGHOSTS0;i0++) {\n",
    "            printf(\"i0,i1,i2=%d,%d,%d; SDA: %.3f, %.3f, %.3f\\n\",i0,i1,i2,\n",
    "                   1.0-log10(2.0*fabs(auxevol_gfs[IDX4S(B_ANALYTICU0GF,i0,i1,i2)]-auxevol_gfs[IDX4S(BU0GF,i0,i1,i2)])/(fabs(auxevol_gfs[IDX4S(B_ANALYTICU0GF,i0,i1,i2)])+fabs(auxevol_gfs[IDX4S(BU0GF,i0,i1,i2)])+1.e-15)),\n",
    "                   1.0-log10(2.0*fabs(auxevol_gfs[IDX4S(B_ANALYTICU1GF,i0,i1,i2)]-auxevol_gfs[IDX4S(BU1GF,i0,i1,i2)])/(fabs(auxevol_gfs[IDX4S(B_ANALYTICU1GF,i0,i1,i2)])+fabs(auxevol_gfs[IDX4S(BU1GF,i0,i1,i2)])+1.e-15)),\n",
    "                   1.0-log10(2.0*fabs(auxevol_gfs[IDX4S(B_ANALYTICU2GF,i0,i1,i2)]-auxevol_gfs[IDX4S(BU2GF,i0,i1,i2)])/(fabs(auxevol_gfs[IDX4S(B_ANALYTICU2GF,i0,i1,i2)])+fabs(auxevol_gfs[IDX4S(BU2GF,i0,i1,i2)])+1.e-15))\n",
    "                  );\n",
    "            /*printf(\"%.3f, %.3f, %.3f\\n\",\n",
    "                   auxevol_gfs[IDX4S(BU0GF,i0,i1,i2)],\n",
    "                   auxevol_gfs[IDX4S(BU1GF,i0,i1,i2)],\n",
    "                   auxevol_gfs[IDX4S(BU2GF,i0,i1,i2)]\n",
    "                  );*/\n",
    "        }\n",
    "    }\n",
    "\n",
    "    if(!is_gaussian) {\n",
    "        // Now, we'll set the cubic coefficients:\n",
    "        a = (double)(rand()%20-10);\n",
    "        b = (double)(rand()%20-10);\n",
    "        c = (double)(rand()%20-10);\n",
    "        g = (double)(rand()%20-10);\n",
    "        h = (double)(rand()%20-10);\n",
    "        l = (double)(rand()%20-10);\n",
    "        p = (double)(rand()%20-10);\n",
    "        q = (double)(rand()%20-10);\n",
    "        r = (double)(rand()%20-10);\n",
    "        // First, calculate the test data on our grid:\n",
    "        calculate_metric_gfs(&params,xx,auxevol_gfs);\n",
    "    }\n",
    "\n",
    "    // And recalculate on our initial grid:\n",
    "    calculate_AD(&params,xx,evol_gfs);\n",
    "\n",
    "    // We'll also calculate the exact solution for B^i\n",
    "    calculate_exact_BU(&params,xx,auxevol_gfs);\n",
    "\n",
    "    // And now for the numerical derivatives:\n",
    "    driver_A_to_B(&params,evol_gfs,auxevol_gfs);\n",
    "\n",
    "    char filename[100];\n",
    "    sprintf(filename,\"out%d-numer.txt\",Nxx0);\n",
    "    FILE *out2D = fopen(filename, \"w\");\n",
    "    for(int i2=0;i2<Nxx_plus_2NGHOSTS2;i2++) for(int i1=0;i1<Nxx_plus_2NGHOSTS1;i1++) for(int i0=0;i0<Nxx_plus_2NGHOSTS0;i0++) {\n",
    "        // We print the difference between approximate and exact numbers.\n",
    "        fprintf(out2D,\"%.16e\\t%.16e\\t%.16e %e %e %e\\n\",\n",
    "                auxevol_gfs[IDX4S(B_ANALYTICU0GF,i0,i1,i2)]-auxevol_gfs[IDX4S(BU0GF,i0,i1,i2)],\n",
    "                auxevol_gfs[IDX4S(B_ANALYTICU1GF,i0,i1,i2)]-auxevol_gfs[IDX4S(BU1GF,i0,i1,i2)],\n",
    "                auxevol_gfs[IDX4S(B_ANALYTICU2GF,i0,i1,i2)]-auxevol_gfs[IDX4S(BU2GF,i0,i1,i2)],\n",
    "                xx[0][i0],xx[1][i1],xx[2][i2]\n",
    "                );\n",
    "    }\n",
    "fclose(out2D);\n",
    "}\n"
   ]
  },
  {
   "cell_type": "markdown",
   "metadata": {},
   "source": [
    "<a id='compile_run'></a>\n",
    "\n",
    "## Step 2.a: Compile and run the code \\[Back to [top](#toc)\\]\n",
    "$$\\label{compile_run}$$\n",
    "\n",
    "Now that we have our file, we can compile it and run the executable."
   ]
  },
  {
   "cell_type": "code",
   "execution_count": 12,
   "metadata": {
    "execution": {
     "iopub.execute_input": "2020-12-17T02:16:55.431985Z",
     "iopub.status.busy": "2020-12-17T02:16:55.431578Z",
     "iopub.status.idle": "2020-12-17T02:16:56.282616Z",
     "shell.execute_reply": "2020-12-17T02:16:56.282059Z"
    },
    "scrolled": false
   },
   "outputs": [
    {
     "name": "stdout",
     "output_type": "stream",
     "text": [
      "Now compiling, should take ~2 seconds...\n",
      "\n",
      "Compiling executable...\n",
      "(EXEC): Executing `gcc -Ofast -fopenmp -march=native -funroll-loops Start-to-Finish-UnitTests/A2B_UnitTest/A2B_unit_test.c -o Start-to-Finish-UnitTests/A2B_UnitTest/output/A2B_unit_test -lm`...\n",
      "(BENCH): Finished executing in 0.6097359657287598 seconds.\n",
      "Finished compilation.\n",
      "Finished in 0.6173965930938721 seconds.\n",
      "\n",
      "\n",
      "Now running...\n",
      "\n",
      "(EXEC): Executing `taskset -c 0,1,2,3,4,5 ./A2B_unit_test 1 1 1 1`...\n",
      "(BENCH): Finished executing in 0.21168088912963867 seconds.\n",
      "(EXEC): Executing `taskset -c 0,1,2,3,4,5 ./A2B_unit_test 7 7 7 1`...\n",
      "(BENCH): Finished executing in 0.20528268814086914 seconds.\n",
      "Finished in 0.4351034164428711 seconds.\n",
      "\n",
      "\n"
     ]
    }
   ],
   "source": [
    "import time\n",
    "\n",
    "print(\"Now compiling, should take ~2 seconds...\\n\")\n",
    "start = time.time()\n",
    "cmd.C_compile(os.path.join(Ccodesdir,\"A2B_unit_test.c\"), os.path.join(outdir,\"A2B_unit_test\"))\n",
    "end = time.time()\n",
    "print(\"Finished in \"+str(end-start)+\" seconds.\\n\\n\")\n",
    "\n",
    "# Change to output directory\n",
    "os.chdir(outdir)\n",
    "\n",
    "print(\"Now running...\\n\")\n",
    "start = time.time()\n",
    "cmd.Execute(os.path.join(\"A2B_unit_test\"),\"1 1 1 1\")\n",
    "if Use_Gaussian_Data:\n",
    "    # To do a convergence test, we'll also need a second grid with twice the resolution.\n",
    "    cmd.Execute(os.path.join(\"A2B_unit_test\"),\"7 7 7 1\")\n",
    "end = time.time()\n",
    "print(\"Finished in \"+str(end-start)+\" seconds.\\n\\n\")\n"
   ]
  },
  {
   "cell_type": "markdown",
   "metadata": {},
   "source": [
    "<a id='convergence'></a>\n",
    "\n",
    "# Step 3: Code validation: Verify that relative error in numerical solution converges to zero at the expected order \\[Back to [top](#toc)\\]\n",
    "\n",
    "$$\\label{convergence}$$\n",
    "\n",
    "Now that we have shown that when we use a quadratic vector potential, we get roundoff-level agreement (which is to be expected, since the finite-differencing used approximates the underlying function with a quadratic), we will use do a convergence test to show that when we can't exactly model the function, the truncation error dominates and converges to zero at the expected rate. For this, we use cubic functions for the vector potential. In the code above, we output the difference beteween the numeric and exact magnetic fields at the overlapping, non-edge, non-vertex points of two separate grids. Here, we import that data and calculate the convergence in the usual way, \n",
    "$$\n",
    "k = \\log_2 \\left( \\frac{F - F_1}{F - F_2} \\right),\n",
    "$$\n",
    "where $k$ is the convergence order, $F$ is the exact solution, $F_1$ is the approximate solution on the coarser grid with resolution $\\Delta x$, and $F_2$ is the approximate solution on the finer grid with resolution $\\Delta x/2$.\n",
    "\n",
    "Here, we will calculate the convergence of the L2 Norm over the points in each region: \n",
    "$$\n",
    "| B^i_{\\rm approx} - B^i_{\\rm exact}| = \\sqrt{\\frac{1}{N} \\sum_{ijk} \\left( B^i_{\\rm approx} - B^i_{\\rm exact} \\right)^2}\n",
    "$$"
   ]
  },
  {
   "cell_type": "code",
   "execution_count": 13,
   "metadata": {
    "execution": {
     "iopub.execute_input": "2020-12-17T02:16:56.298754Z",
     "iopub.status.busy": "2020-12-17T02:16:56.289966Z",
     "iopub.status.idle": "2020-12-17T02:16:56.523007Z",
     "shell.execute_reply": "2020-12-17T02:16:56.522584Z"
    }
   },
   "outputs": [
    {
     "name": "stdout",
     "output_type": "stream",
     "text": [
      "Face | Res  |  L2 norm  | Conv. Order\n",
      " Int | Dx   | 0.0000005 | -- \n",
      " --  | Dx/2 | 0.0000001 | 1.90520\n",
      " -x  | Dx   | 0.0000008 | -- \n",
      " --  | Dx/2 | 0.0000002 | 2.08857\n",
      " +x  | Dx   | 0.0000008 | -- \n",
      " --  | Dx/2 | 0.0000002 | 2.08857\n",
      " -y  | Dx   | 0.0000008 | -- \n",
      " --  | Dx/2 | 0.0000002 | 1.64224\n",
      " +y  | Dx   | 0.0000016 | -- \n",
      " --  | Dx/2 | 0.0000004 | 1.87830\n",
      " -z  | Dx   | 0.0000010 | -- \n",
      " --  | Dx/2 | 0.0000002 | 2.09971\n",
      " +z  | Dx   | 0.0000008 | -- \n",
      " --  | Dx/2 | 0.0000002 | 1.99483\n"
     ]
    }
   ],
   "source": [
    "import numpy as np\n",
    "import matplotlib.pyplot as plt\n",
    "\n",
    "Data1 = np.loadtxt(\"out1-numer.txt\")\n",
    "Data2 = np.loadtxt(\"out7-numer.txt\")\n",
    "\"A\"\n",
    "\n",
    "# print(\"Convergence test: All should be approximately 2\\n\")\n",
    "# convergence = np.log(np.divide(np.abs(Data1),np.abs(Data2)))/np.log(2)\n",
    "# for i in range(len(convergence[:,0])):\n",
    "#    print(convergence[i,:])\n",
    "\n",
    "def IDX4(i,j,k,Nxx_plus_2NGHOSTS0,Nxx_plus_2NGHOSTS1,Nxx_plus_2NGHOSTS2):\n",
    "    return (i) + Nxx_plus_2NGHOSTS0 * ( (j) + Nxx_plus_2NGHOSTS1 * ( (k) + Nxx_plus_2NGHOSTS2 * (0) ) )\n",
    "comp = 0 # 0->Bx, 1->By, 2->Bz\n",
    "\n",
    "# First, let's do this over the interior\n",
    "N = 7 # This is the number of total gridpoints\n",
    "nface = 0 # This is the number of points we are taking the norm of.\n",
    "nint = 0 # This is the number of points we are taking the norm of.\n",
    "L2_1 = 0\n",
    "L2_1_xm = 0 # We declare one L2 norm for each face.\n",
    "L2_1_xp = 0\n",
    "L2_1_ym = 0\n",
    "L2_1_yp = 0\n",
    "L2_1_zm = 0\n",
    "L2_1_zp = 0\n",
    "for k in range(N):\n",
    "    for j in range(N):\n",
    "        for i in range(N):\n",
    "            if i==0:\n",
    "                L2_1_xm += Data1[IDX4(i,j,k,N,N,N),comp]**2\n",
    "                nface += 1\n",
    "            if i==N-1:\n",
    "                L2_1_xp += Data1[IDX4(i,j,k,N,N,N),comp]**2\n",
    "            if j==0:\n",
    "                L2_1_ym += Data1[IDX4(i,j,k,N,N,N),comp]**2\n",
    "            if j==N-1:\n",
    "                L2_1_yp += Data1[IDX4(i,j,k,N,N,N),comp]**2\n",
    "            if k==0:\n",
    "                L2_1_zm += Data1[IDX4(i,j,k,N,N,N),comp]**2\n",
    "            if k==N-1:\n",
    "                L2_1_zp += Data1[IDX4(i,j,k,N,N,N),comp]**2\n",
    "            if not (i%(N-1)==0 or j%(N-1)==0 or k%(N-1)==0):\n",
    "                L2_1 += Data1[IDX4(i,j,k,N,N,N),comp]**2\n",
    "                nint += 1\n",
    "\n",
    "L2_1 = np.sqrt(L2_1/(nint))\n",
    "L2_1_xm = np.sqrt(L2_1_xm/(nface))\n",
    "L2_1_xp = np.sqrt(L2_1_xp/(nface))\n",
    "L2_1_ym = np.sqrt(L2_1_ym/(nface))\n",
    "L2_1_yp = np.sqrt(L2_1_yp/(nface))\n",
    "L2_1_zm = np.sqrt(L2_1_zm/(nface))\n",
    "L2_1_zp = np.sqrt(L2_1_zp/(nface))\n",
    "\n",
    "N = 13 # This is the number of total gridpoints\n",
    "nface = 0 # This is the number of points we are taking the norm of.\n",
    "nint = 0 # This is the number of points we are taking the norm of.\n",
    "L2_2 = 0\n",
    "L2_2_xm = 0\n",
    "L2_2_xp = 0\n",
    "L2_2_ym = 0\n",
    "L2_2_yp = 0\n",
    "L2_2_zm = 0\n",
    "L2_2_zp = 0\n",
    "for k in range(N):\n",
    "    for j in range(N):\n",
    "        for i in range(N):\n",
    "            if i==0:\n",
    "                L2_2_xm += Data2[IDX4(i,j,k,N,N,N),comp]**2\n",
    "                nface += 1\n",
    "            if i==N-1:\n",
    "                L2_2_xp += Data2[IDX4(i,j,k,N,N,N),comp]**2\n",
    "            if j==0:\n",
    "                L2_2_ym += Data2[IDX4(i,j,k,N,N,N),comp]**2\n",
    "            if j==N-1:\n",
    "                L2_2_yp += Data2[IDX4(i,j,k,N,N,N),comp]**2\n",
    "            if k==0:\n",
    "                L2_2_zm += Data2[IDX4(i,j,k,N,N,N),comp]**2\n",
    "            if k==N-1:\n",
    "                L2_2_zp += Data2[IDX4(i,j,k,N,N,N),comp]**2\n",
    "            if not (i%(N-1)==0 or j%(N-1)==0 or k%(N-1)==0):\n",
    "                L2_2 += Data2[IDX4(i,j,k,N,N,N),comp]**2\n",
    "                nint += 1\n",
    "\n",
    "L2_2 = np.sqrt(L2_2/(nint))\n",
    "L2_2_xm = np.sqrt(L2_2_xm/(nface))\n",
    "L2_2_xp = np.sqrt(L2_2_xp/(nface))\n",
    "L2_2_ym = np.sqrt(L2_2_ym/(nface))\n",
    "L2_2_yp = np.sqrt(L2_2_yp/(nface))\n",
    "L2_2_zm = np.sqrt(L2_2_zm/(nface))\n",
    "L2_2_zp = np.sqrt(L2_2_zp/(nface))\n",
    "\n",
    "def conv_order(low,high):\n",
    "    order = np.log2(low/high)\n",
    "    if order < 1.6:\n",
    "        sys.exit(1)\n",
    "    return order\n",
    "\n",
    "print(\"Face | Res  |  L2 norm  | Conv. Order\")\n",
    "print(\" Int | Dx   | \" + \"{:.7f}\".format(L2_1) + \" | -- \")\n",
    "print(\" --  | Dx/2 | \" + \"{:.7f}\".format(L2_2) + \" | \" + \"{:.5f}\".format(conv_order(L2_1,L2_2)))\n",
    "print(\" -x  | Dx   | \" + \"{:.7f}\".format(L2_1_xm) + \" | -- \")\n",
    "print(\" --  | Dx/2 | \" + \"{:.7f}\".format(L2_2_xm) + \" | \" + \"{:.5f}\".format(conv_order(L2_1_xm,L2_2_xm)))\n",
    "print(\" +x  | Dx   | \" + \"{:.7f}\".format(L2_1_xp) + \" | -- \")\n",
    "print(\" --  | Dx/2 | \" + \"{:.7f}\".format(L2_2_xp) + \" | \" + \"{:.5f}\".format(conv_order(L2_1_xp,L2_2_xp)))\n",
    "print(\" -y  | Dx   | \" + \"{:.7f}\".format(L2_1_ym) + \" | -- \")\n",
    "print(\" --  | Dx/2 | \" + \"{:.7f}\".format(L2_2_ym) + \" | \" + \"{:.5f}\".format(conv_order(L2_1_ym,L2_2_ym)))\n",
    "print(\" +y  | Dx   | \" + \"{:.7f}\".format(L2_1_yp) + \" | -- \")\n",
    "print(\" --  | Dx/2 | \" + \"{:.7f}\".format(L2_2_yp) + \" | \" + \"{:.5f}\".format(conv_order(L2_1_yp,L2_2_yp)))\n",
    "print(\" -z  | Dx   | \" + \"{:.7f}\".format(L2_1_zm) + \" | -- \")\n",
    "print(\" --  | Dx/2 | \" + \"{:.7f}\".format(L2_2_zm) + \" | \" + \"{:.5f}\".format(conv_order(L2_1_zm,L2_2_zm)))\n",
    "print(\" +z  | Dx   | \" + \"{:.7f}\".format(L2_1_zp) + \" | -- \")\n",
    "print(\" --  | Dx/2 | \" + \"{:.7f}\".format(L2_2_zp) + \" | \" + \"{:.5f}\".format(conv_order(L2_1_zp,L2_2_zp)))\n"
   ]
  },
  {
   "cell_type": "markdown",
   "metadata": {},
   "source": [
    "<a id='latex_pdf_output'></a>\n",
    "\n",
    "# Step 4: Output this notebook to $\\LaTeX$-formatted PDF file \\[Back to [top](#toc)\\]\n",
    "\n",
    "$$\\label{latex_pdf_output}$$\n",
    "\n",
    "The following code cell converts this Jupyter notebook into a proper, clickable $\\LaTeX$-formatted PDF file. After the cell is successfully run, the generated PDF may be found in the root NRPy+ tutorial directory, with filename\n",
    "[Tutorial-Start_to_Finish_UnitTest-GiRaFFE_NRPy-A2B.pdf](Tutorial-Start_to_Finish_UnitTest-GiRaFFE_NRPy-A2B.pdf) (Note that clicking on this link may not work; you may need to open the PDF file through another means.)"
   ]
  },
  {
   "cell_type": "code",
   "execution_count": 14,
   "metadata": {
    "execution": {
     "iopub.execute_input": "2020-12-17T02:16:56.527340Z",
     "iopub.status.busy": "2020-12-17T02:16:56.525149Z",
     "iopub.status.idle": "2020-12-17T02:16:59.584744Z",
     "shell.execute_reply": "2020-12-17T02:16:59.585172Z"
    }
   },
   "outputs": [
    {
     "name": "stdout",
     "output_type": "stream",
     "text": [
      "Created Tutorial-Start_to_Finish_UnitTest-GiRaFFE_NRPy-A2B.tex, and\n",
      "    compiled LaTeX file to PDF file Tutorial-Start_to_Finish_UnitTest-\n",
      "    GiRaFFE_NRPy-A2B.pdf\n"
     ]
    }
   ],
   "source": [
    "import cmdline_helper as cmd    # NRPy+: Multi-platform Python command-line interface\n",
    "\n",
    "# Change to NRPy directory\n",
    "os.chdir(\"../../../\")\n",
    "\n",
    "cmd.output_Jupyter_notebook_to_LaTeXed_PDF(\"Tutorial-Start_to_Finish_UnitTest-GiRaFFE_NRPy-A2B\",location_of_template_file=os.path.join(\"..\"))"
   ]
  }
 ],
 "metadata": {
  "kernelspec": {
   "display_name": "Python 3",
   "language": "python",
   "name": "python3"
  },
  "language_info": {
   "codemirror_mode": {
    "name": "ipython",
    "version": 3
   },
   "file_extension": ".py",
   "mimetype": "text/x-python",
   "name": "python",
   "nbconvert_exporter": "python",
   "pygments_lexer": "ipython3",
   "version": "3.8.5"
  }
 },
 "nbformat": 4,
 "nbformat_minor": 2
}
