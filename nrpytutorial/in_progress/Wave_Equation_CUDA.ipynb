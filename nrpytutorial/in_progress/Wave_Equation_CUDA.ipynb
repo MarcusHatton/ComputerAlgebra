{
  "nbformat": 4,
  "nbformat_minor": 0,
  "metadata": {
    "colab": {
      "name": "Wave Equation CUDA.ipynb",
      "provenance": [],
      "collapsed_sections": []
    },
    "kernelspec": {
      "name": "python3",
      "display_name": "Python 3"
    },
    "accelerator": "GPU"
  },
  "cells": [
    {
      "cell_type": "code",
      "metadata": {
        "colab": {
          "base_uri": "https://localhost:8080/"
        },
        "id": "hpLebf_3EZ5I",
        "outputId": "490ea252-bbe9-4c36-d900-9292e7506991"
      },
      "source": [
        "!pip install git+git://github.com/andreinechaev/nvcc4jupyter.git;"
      ],
      "execution_count": null,
      "outputs": [
        {
          "output_type": "stream",
          "text": [
            "Collecting git+git://github.com/andreinechaev/nvcc4jupyter.git\n",
            "  Cloning git://github.com/andreinechaev/nvcc4jupyter.git to /tmp/pip-req-build-m56h1q1s\n",
            "  Running command git clone -q git://github.com/andreinechaev/nvcc4jupyter.git /tmp/pip-req-build-m56h1q1s\n",
            "Building wheels for collected packages: NVCCPlugin\n",
            "  Building wheel for NVCCPlugin (setup.py) ... \u001b[?25l\u001b[?25hdone\n",
            "  Created wheel for NVCCPlugin: filename=NVCCPlugin-0.0.2-cp36-none-any.whl size=4308 sha256=92ba0d28f56cdf8c8e5c76839dbd54be70679388d833368ade716a18eb7f0827\n",
            "  Stored in directory: /tmp/pip-ephem-wheel-cache-yyoxm4t4/wheels/10/c2/05/ca241da37bff77d60d31a9174f988109c61ba989e4d4650516\n",
            "Successfully built NVCCPlugin\n",
            "Installing collected packages: NVCCPlugin\n",
            "Successfully installed NVCCPlugin-0.0.2\n"
          ],
          "name": "stdout"
        }
      ]
    },
    {
      "cell_type": "code",
      "metadata": {
        "colab": {
          "base_uri": "https://localhost:8080/"
        },
        "id": "fjdN1YqtEcwo",
        "outputId": "13513287-60b8-4898-e7f8-595d38672dad"
      },
      "source": [
        "%load_ext nvcc_plugin;"
      ],
      "execution_count": null,
      "outputs": [
        {
          "output_type": "stream",
          "text": [
            "created output directory at /content/src\n",
            "Out bin /content/result.out\n"
          ],
          "name": "stdout"
        }
      ]
    },
    {
      "cell_type": "code",
      "metadata": {
        "colab": {
          "base_uri": "https://localhost:8080/"
        },
        "id": "TsIoh4CjEhUj",
        "outputId": "cb95699b-a1e4-414b-a10c-281e2599692d"
      },
      "source": [
        "%%cu\n",
        "\n",
        "#include <stdio.h>\n",
        "#include <stdlib.h>\n",
        "#include <math.h>\n",
        "\n",
        "#define u(n, k) u[n*Nx + k]\n",
        "\n",
        "typedef struct {\n",
        "    double a;\n",
        "    double b;\n",
        "} tuple;\n",
        "\n",
        "__host__ static double* range(double start, double stop, double step) {\n",
        "    int size = (stop - start)/step + 1;\n",
        "    double* x; // Allocate Device Memory\n",
        "    cudaMallocManaged(&x, sizeof(double) * size);\n",
        "    if (x) { // Allocation Check\n",
        "        for (int i = 0; i < size; i++)\n",
        "            x[i] = start + i*step;\n",
        "    } return x;\n",
        "}\n",
        "\n",
        "__device__ static double f(double x) {\n",
        "    double x0 = 25; // Gaussian Pulse Center\n",
        "    return exp(-0.1*(x - x0)*(x - x0));\n",
        "}\n",
        "\n",
        "__device__ static double g(double x) {\n",
        "    return 0; // split with half amplitude\n",
        "\n",
        "    // double x0 = 25; // Gaussian Pulse Center\n",
        "    // return  0.2*(x - x0)*f(x); // propogate right\n",
        "    // return -0.2*(x - x0)*f(x); // propogate left\n",
        "}\n",
        "\n",
        "__global__ // CUDA Kernel Function\n",
        "static void solvepde(double u[], double x[]) {\n",
        "    tuple tspan, xspan;\n",
        "    tspan.a = 0, tspan.b = 50;\n",
        "    xspan.a = 0, xspan.b = 100;\n",
        "    double ht = 0.2, hx = 0.2;\n",
        "\n",
        "    int Nt = (tspan.b - tspan.a)/ht + 1;\n",
        "    int Nx = (xspan.b - xspan.a)/hx + 1;\n",
        "    double c = ht/hx;\n",
        "\n",
        "    for (int k = 0; k < Nx; k++)\n",
        "        u(0, k) = f(x[k]);\n",
        "    u(0, 0) = u(0, Nx - 1) = 0;\n",
        "    u(1, 0) = u(1, Nx - 1) = 0;\n",
        "    for (int k = 1; k < (Nx - 1); k++)\n",
        "        u(1, k) = 0.5*(c*c)*f(x[k + 1]) + (1 - c*c)*f(x[k]) + 0.5*(c*c)*f(x[k - 1]) + ht*g(x[k]);\n",
        "\n",
        "    for (int n = 2; n < Nt; n++) {\n",
        "        for (int k = 1; k < (Nx - 1); k++) {\n",
        "            u(2, k) = (c*c)*u(1, k + 1) + 2*(1 - c*c)*u(1, k) + (c*c)*u(1, k - 1) - u(0, k);\n",
        "        }\n",
        "        u(2, 0) = u(2, Nx - 1) = 0;\n",
        "        for (int k = 0; k < Nx; k++)\n",
        "            u(0, k) = u(1, k), u(1, k) = u(2, k), u(2, k) = 0;\n",
        "    }\n",
        "}\n",
        "\n",
        "int main() {\n",
        "    double* x = range(0, 100, 0.2);\n",
        "    int Nx = (100)/0.2 + 1;\n",
        "\n",
        "    double* u; // Allocate Unified Memory\n",
        "    cudaMallocManaged(&u, sizeof(double) * 3*Nx);\n",
        "\n",
        "    solvepde<<<1, 1>>>(u, x);\n",
        "\n",
        "    cudaDeviceSynchronize();\n",
        "\n",
        "    FILE *file = fopen(\"wavefunc_CUDA.txt\", \"wb\");\n",
        "    for (int k = 0; k < Nx; k++)\n",
        "        fprintf(file, \"%lf %0.15f\\n\", x[k], u(1, k));\n",
        "    fclose(file);\n",
        "\n",
        "    cudaFree(u); cudaFree(x);\n",
        "\n",
        "    printf(\"Finished!\");\n",
        "\n",
        "    return 0;\n",
        "}\n"
      ],
      "execution_count": null,
      "outputs": [
        {
          "output_type": "stream",
          "text": [
            "Finished!\n"
          ],
          "name": "stdout"
        }
      ]
    },
    {
      "cell_type": "code",
      "metadata": {
        "colab": {
          "base_uri": "https://localhost:8080/"
        },
        "id": "54XOnWePTn-v",
        "outputId": "4823603f-4b87-4f63-8588-52a8b6b6d4d6"
      },
      "source": [
        "%%cu \n",
        "\n",
        "#include <stdio.h>\n",
        "#include <stdlib.h>\n",
        "#include <math.h>\n",
        "\n",
        "#define u(n, k) u[n*Nx + k]\n",
        "\n",
        "typedef struct {\n",
        "    double a;\n",
        "    double b;\n",
        "} tuple;\n",
        "\n",
        "__host__ static double* range(double start, double stop, double step) {\n",
        "    int size = (stop - start)/step + 1;\n",
        "    double* x; // Allocate Device Memory\n",
        "    cudaMallocManaged(&x, sizeof(double) * size);\n",
        "    if (x) { // Allocation Check\n",
        "        for (int i = 0; i < size; i++)\n",
        "            x[i] = start + i*step;\n",
        "    } return x;\n",
        "}\n",
        "\n",
        "__device__ static double f(double x) {\n",
        "    double x0 = 25; // Gaussian Pulse Center\n",
        "    return exp(-0.1*(x - x0)*(x - x0));\n",
        "}\n",
        "\n",
        "__device__ static double g(double x) {\n",
        "    return 0; // split with half amplitude\n",
        "\n",
        "    // double x0 = 25; // Gaussian Pulse Center\n",
        "    // return  0.2*(x - x0)*f(x); // propogate right\n",
        "    // return -0.2*(x - x0)*f(x); // propogate left\n",
        "}\n",
        "\n",
        "__global__ // CUDA Kernel Function\n",
        "static void solvepde(double u[], double x[]) {\n",
        "    tuple tspan, xspan;\n",
        "    tspan.a = 0, tspan.b = 50;\n",
        "    xspan.a = 0, xspan.b = 100;\n",
        "    double ht = 0.2, hx = 0.2;\n",
        "\n",
        "    int Nt = (tspan.b - tspan.a)/ht + 1;\n",
        "    int Nx = (xspan.b - xspan.a)/hx + 1;\n",
        "    double c = ht/hx;\n",
        "\n",
        "    int index = threadIdx.x;\n",
        "    int stride = blockDim.x;\n",
        "\n",
        "    for (int k = 0; k < Nx; k++)\n",
        "        u(0, k) = f(x[k]);\n",
        "    u(0, 0) = u(0, Nx - 1) = 0;\n",
        "    u(1, 0) = u(1, Nx - 1) = 0;\n",
        "    for (int k = 1; k < (Nx - 1); k++)\n",
        "        u(1, k) = 0.5*(c*c)*f(x[k + 1]) + (1 - c*c)*f(x[k]) + 0.5*(c*c)*f(x[k - 1]) + ht*g(x[k]);\n",
        "\n",
        "    for (int n = 2; n < Nt; n++) {\n",
        "        for (int k = index; k < (Nx - 1); k += stride) {\n",
        "            u(2, k) = (c*c)*u(1, k + 1) + 2*(1 - c*c)*u(1, k) + (c*c)*u(1, k - 1) - u(0, k);\n",
        "        }\n",
        "        u(2, 0) = u(2, Nx - 1) = 0;\n",
        "        for (int k = 0; k < Nx; k++)\n",
        "            u(0, k) = u(1, k), u(1, k) = u(2, k), u(2, k) = 0;\n",
        "    }\n",
        "}\n",
        "\n",
        "int main() {\n",
        "    double* x = range(0, 100, 0.2);\n",
        "    int Nx = (100)/0.2 + 1;\n",
        "\n",
        "    double* u; // Allocate Unified Memory\n",
        "    cudaMallocManaged(&u, sizeof(double) * 3*Nx);\n",
        "\n",
        "    solvepde<<<1, 64>>>(u, x);\n",
        "\n",
        "    cudaDeviceSynchronize();\n",
        "\n",
        "    FILE *file = fopen(\"wavefunc_CUDA.txt\", \"wb\");\n",
        "    for (int k = 0; k < Nx; k++)\n",
        "        fprintf(file, \"%lf %0.15f\\n\", x[k], u(1, k));\n",
        "    fclose(file);\n",
        "\n",
        "    cudaFree(u); cudaFree(x);\n",
        "\n",
        "    printf(\"Finished!\");\n",
        "\n",
        "    return 0;\n",
        "}\n"
      ],
      "execution_count": null,
      "outputs": [
        {
          "output_type": "stream",
          "text": [
            "Finished!\n"
          ],
          "name": "stdout"
        }
      ]
    },
    {
      "cell_type": "code",
      "metadata": {
        "colab": {
          "base_uri": "https://localhost:8080/",
          "height": 265
        },
        "id": "aCcwBTSKItqq",
        "outputId": "f0c1604d-d1ac-4059-e428-4d494c13f899"
      },
      "source": [
        "from matplotlib import pyplot as plt\n",
        "from numpy import loadtxt\n",
        "import sys\n",
        "\n",
        "data = loadtxt('wavefunc_CUDA.txt')\n",
        "name = sys.argv[1].split('.')[0]\n",
        "x, y = data[:, 0], data[:, 1]\n",
        "plt.plot(x, y);"
      ],
      "execution_count": null,
      "outputs": [
        {
          "output_type": "display_data",
          "data": {
            "image/png": "[encoded data removed]",
            "text/plain": [
              "<Figure size 432x288 with 1 Axes>"
            ]
          },
          "metadata": {
            "tags": [],
            "needs_background": "light"
          }
        }
      ]
    },
    {
      "cell_type": "code",
      "metadata": {
        "colab": {
          "base_uri": "https://localhost:8080/"
        },
        "id": "zGpEOxeXMeoK",
        "outputId": "fed032fd-14f5-4f52-9118-e244e37f9b3e"
      },
      "source": [
        "# !cat /proc/cpuinfo\n",
        "!lspci"
      ],
      "execution_count": null,
      "outputs": [
        {
          "output_type": "stream",
          "text": [
            "/bin/bash: lspci: command not found\n"
          ],
          "name": "stdout"
        }
      ]
    }
  ]
}