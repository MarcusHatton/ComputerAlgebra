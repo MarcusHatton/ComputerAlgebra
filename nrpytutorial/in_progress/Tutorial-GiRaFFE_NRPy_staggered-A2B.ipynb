{
 "cells": [
  {
   "cell_type": "markdown",
   "metadata": {},
   "source": [
    "<script async src=\"https://www.googletagmanager.com/gtag/js?id=UA-59152712-8\"></script>\n",
    "<script>\n",
    "  window.dataLayer = window.dataLayer || [];\n",
    "  function gtag(){dataLayer.push(arguments);}\n",
    "  gtag('js', new Date());\n",
    "\n",
    "  gtag('config', 'UA-59152712-8');\n",
    "</script>\n",
    "\n",
    "# `GiRaFFE_NRPy_staggered`: A-to-B code\n",
    "\n",
    "## Author: Patrick Nelson\n",
    "\n",
    "**Notebook Status:** <font color='green'><b>Validated</b></font>\n",
    "\n",
    "**Validation Notes:** This code is a port from the old `GiRaFFE`\n",
    "\n",
    "### NRPy+ Source Code for this module:\n",
    "* [GiRaFFE_NRPy/GiRaFFE_NRPy_staggered_A2B.py](../../edit/in_progress/GiRaFFE_NRPy/GiRaFFE_NRPy_staggered_A2B.py)\n",
    "\n",
    "## Introduction:\n",
    "\n",
    "This notebook presents an alternate algorithm for computing the magnetic field from the vector potential in a staggered prescription. It is a direct port of the old `GiRaFFE` implementation.\n",
    "\n",
    "We will need to compute $B^i$ everywhere in order to evolve $\\tilde{S}_i$. However, $B^i = \\epsilon^{ijk} \\partial_j A_k$ requires derivatives of $A_i$, so getting $B^i$ in the ghostzones (and not just on the interior) will require some additional work. In the staggered prescription, this is accomplished with a simple copy boundary condition at the ghost zones where $i$, $j$, or $k=0$. Due to the staggered nature of the grids, the other ghost zone requires no such treatment. "
   ]
  },
  {
   "cell_type": "markdown",
   "metadata": {},
   "source": [
    "<a id='toc'></a>\n",
    "\n",
    "# Table of Contents\n",
    "$$\\label{toc}$$\n",
    "\n",
    "This notebook is organized as follows\n",
    "\n",
    "0. [Step 1](#prelim): Preliminaries\n",
    "1. [Step 2](#code): Write the C code\n",
    "    1. [Step 2.a](#simple_loop): Define a simple loop macro\n",
    "    1. [Step 2.b](#function_definition): Write the function definition\n",
    "    1. [Step 2.c](#metric_determinant): Find the metric determinant\n",
    "    1. [Step 2.d](#indices): Set indices and apply copy boundary conditions\n",
    "    1. [Step 2.e](#staggered): Compute the staggered magnetic field\n",
    "    1. [Step 2.f](#centered): Compute the centered magnetic field\n",
    "1. [Step 3](#code_validation): Code Validation\n",
    "1. [Step 4](#latex_pdf_output): Output this notebook to $\\LaTeX$-formatted PDF file"
   ]
  },
  {
   "cell_type": "markdown",
   "metadata": {},
   "source": [
    "<a id='prelim'></a>\n",
    "\n",
    "# Step 1: Preliminaries \\[Back to [top](#toc)\\]\n",
    "$$\\label{prelim}$$\n",
    "\n",
    "This first block of code just sets up a subdirectory within `GiRaFFE_standalone_Ccodes/` to which we will write the C code."
   ]
  },
  {
   "cell_type": "code",
   "execution_count": 1,
   "metadata": {},
   "outputs": [],
   "source": [
    "# Step 0: Add NRPy's directory to the path\n",
    "# https://stackoverflow.com/questions/16780014/import-file-from-parent-directory\n",
    "import os,sys\n",
    "nrpy_dir_path = os.path.join(\"..\")\n",
    "if nrpy_dir_path not in sys.path:\n",
    "    sys.path.append(nrpy_dir_path)\n",
    "\n",
    "import cmdline_helper as cmd     # NRPy+: Multi-platform Python command-line interface\n",
    "Ccodesdir = \"GiRaFFE_standalone_Ccodes/A2B\"\n",
    "cmd.mkdir(os.path.join(Ccodesdir))"
   ]
  },
  {
   "cell_type": "markdown",
   "metadata": {},
   "source": [
    "<a id='code'></a>\n",
    "\n",
    "# Step 2: Write the C code \\[Back to [top](#toc)\\]\n",
    "$$\\label{code}$$\n",
    "\n",
    "<a id='simple_loop'></a>\n",
    "\n",
    "## Step 2.a: Define a simple loop macro \\[Back to [top](#toc)\\]\n",
    "$$\\label{simple_loop}$$\n",
    "\n",
    "We first define a simple loop macro that loops over the entire grid."
   ]
  },
  {
   "cell_type": "code",
   "execution_count": 2,
   "metadata": {},
   "outputs": [
    {
     "name": "stdout",
     "output_type": "stream",
     "text": [
      "Overwriting GiRaFFE_standalone_Ccodes/A2B/compute_B_and_Bstagger_from_A.h\n"
     ]
    }
   ],
   "source": [
    "%%writefile $Ccodesdir/compute_B_and_Bstagger_from_A.h\n",
    "#define LOOP_DEFINE_SIMPLE                      \\\n",
    "  _Pragma(\"omp parallel for\")                   \\\n",
    "  for(int k=0;k<Nxx_plus_2NGHOSTS2;k++)                \\\n",
    "    for(int j=0;j<Nxx_plus_2NGHOSTS1;j++)              \\\n",
    "      for(int i=0;i<Nxx_plus_2NGHOSTS0;i++)\n"
   ]
  },
  {
   "cell_type": "markdown",
   "metadata": {},
   "source": [
    "<a id='function_definition'></a>\n",
    "\n",
    "## Step 2.b: Write the function definition \\[Back to [top](#toc)\\]\n",
    "$$\\label{function_definition}$$\n",
    "\n",
    "Here, we give our function definition. We pass our parameter construct, which contains needed quantities like the grid parameters, as well as the three metric, since we need its determinant for the curl in curved spacetime. Naturally, we also pass the vector potential (which we will differentiate) and the magnetic field (our output). Note that we are storing two different versions of the magnetic field. `Bx`, `By`, and `Bz` sample the magnetic field at cell centers, while `Bx_stagger`, `By_stagger`, and `Bz_stagger` sample the field at cell faces (e.g., $B^x$ is stored at $i+1/2, j, k$).\n",
    "\n",
    "Finally, we also declare variables from the paramstruct in the normal way with the `#include` directive. (If you're reading this code and can't figure out where a variable is set, check here!)"
   ]
  },
  {
   "cell_type": "code",
   "execution_count": 3,
   "metadata": {},
   "outputs": [
    {
     "name": "stdout",
     "output_type": "stream",
     "text": [
      "Appending to GiRaFFE_standalone_Ccodes/A2B/compute_B_and_Bstagger_from_A.h\n"
     ]
    }
   ],
   "source": [
    "%%writefile -a $Ccodesdir/compute_B_and_Bstagger_from_A.h\n",
    "\n",
    "void GiRaFFE_compute_B_and_Bstagger_from_A(const paramstruct *params,\n",
    "                                           const REAL *gxx, const REAL *gxy, const REAL *gxz, const REAL *gyy, const REAL *gyz,const REAL *gzz,\n",
    "                                           REAL *psi3_bssn, const REAL *Ax, const REAL *Ay, const REAL *Az,\n",
    "                                           REAL *Bx, REAL *By, REAL *Bz, REAL *Bx_stagger, REAL *By_stagger, REAL *Bz_stagger) {\n",
    "#include \"../set_Cparameters.h\"\n"
   ]
  },
  {
   "cell_type": "markdown",
   "metadata": {},
   "source": [
    "<a id='metric_determinant'></a>\n",
    "\n",
    "## Step 2.c: Find the metric determinant \\[Back to [top](#toc)\\]\n",
    "$$\\label{metric_determinant}$$\n",
    "\n",
    "In this first loop, we will compute the fourth root of the metric determinant at the cell centers, and temporarily store it in `psi3_bssn`. We do this because, while we will ultimately want the square root of the metric determinant, we will use the geometric mean to compute its value between grid points. (The geometric mean of $x$ and $y$ is $\\sqrt{xy}$.)"
   ]
  },
  {
   "cell_type": "code",
   "execution_count": 4,
   "metadata": {},
   "outputs": [
    {
     "name": "stdout",
     "output_type": "stream",
     "text": [
      "Appending to GiRaFFE_standalone_Ccodes/A2B/compute_B_and_Bstagger_from_A.h\n"
     ]
    }
   ],
   "source": [
    "%%writefile -a $Ccodesdir/compute_B_and_Bstagger_from_A.h\n",
    "\n",
    "  LOOP_DEFINE_SIMPLE {\n",
    "    const int index=IDX3S(i,j,k);\n",
    "    psi3_bssn[index] = sqrt(sqrt( gxx[index]*gyy[index]*gzz[index]\n",
    "                               -  gxx[index]*gyz[index]*gyz[index]\n",
    "                               +2*gxy[index]*gxz[index]*gyz[index]\n",
    "                               -  gyy[index]*gxz[index]*gxz[index]\n",
    "                               -  gzz[index]*gxy[index]*gxy[index]));\n",
    "  }\n"
   ]
  },
  {
   "cell_type": "markdown",
   "metadata": {},
   "source": [
    "<a id='indices'></a>\n",
    "\n",
    "## Step 2.d: Set indices and apply copy boundary conditions \\[Back to [top](#toc)\\]\n",
    "$$\\label{indices}$$\n",
    "\n",
    "Next, we will define the indices that we care about for a given point $i,j,k$ where we will find the magnetic field. For the derivatives we're taking, these happen to be $i$, $i-1$, $j$, $j-1$, $k$, and $k-1$. Here, we also implement our copy boundary condition. Note that in C, `(i!=0)` will evaluate to `0` only if `i = 0`, and `1` otherwise. So, for any nonzero `i`, $i$ and $i+1$ will be exactly what one would expect. However, for `i=0`, we will store `shiftedim1=0` and `shiftedi=1` just as we do for `i=1` (hence 'copy'), preventing us from trying to access out-of-bounds memory, which would be bad. (Note that our loop bounds will prevent us from running into other such out-of-bounds problems, and that all of this applies exactly the same for $j$ and $k$.)\n",
    "\n",
    "We will also declare variables to store the indices we will need later; `actual_index` is where we will store the calculated magnetic field. We will set it now, since it will not change. We also invert $\\psi^3 = \\sqrt{\\sqrt{\\gamma}}$."
   ]
  },
  {
   "cell_type": "code",
   "execution_count": 5,
   "metadata": {},
   "outputs": [
    {
     "name": "stdout",
     "output_type": "stream",
     "text": [
      "Appending to GiRaFFE_standalone_Ccodes/A2B/compute_B_and_Bstagger_from_A.h\n"
     ]
    }
   ],
   "source": [
    "%%writefile -a $Ccodesdir/compute_B_and_Bstagger_from_A.h\n",
    "\n",
    "  LOOP_DEFINE_SIMPLE {\n",
    "    // Look Mom, no if() statements!\n",
    "    const int shiftedim1 = (i-1)*(i!=0); // This way, i=0 yields shiftedim1=0 and shiftedi=1, used below for our COPY boundary condition.\n",
    "    const int shiftedi   = shiftedim1+1;\n",
    "\n",
    "    const int shiftedjm1 = (j-1)*(j!=0);\n",
    "    const int shiftedj   = shiftedjm1+1;\n",
    "\n",
    "    const int shiftedkm1 = (k-1)*(k!=0);\n",
    "    const int shiftedk   = shiftedkm1+1;\n",
    "\n",
    "    int index,indexim1,indexjm1,indexkm1;\n",
    "\n",
    "    const int actual_index = IDX3S(i,j,k);\n",
    "\n",
    "    const REAL Psim3 = 1.0/psi3_bssn[actual_index];\n"
   ]
  },
  {
   "cell_type": "markdown",
   "metadata": {},
   "source": [
    "<a id='staggered'></a>\n",
    "\n",
    "## Step 2.e: Compute the staggered magnetic field \\[Back to [top](#toc)\\]\n",
    "$$\\label{staggered}$$\n",
    "\n",
    "We will compute the staggered magnetic field first, starting with $B^x = \\partial_y A_z - \\partial_z A_y$. Now,\n",
    "* `Ax(i,j,k)` is actually $A_x(i,j+1/2,k+1/2)$,\n",
    "* `Ay(i,j,k)` is actually $A_y(i+1/2,j,k+1/2)$, and \n",
    "* `Az(i,j,k)` is actually $A_z(i+1/2,j+1/2,k)$.\n",
    "\n",
    "Likewise, \n",
    "* `Bx(i,j,k)` is actually $B^x(i+1/2,j,k)$,\n",
    "* `By(i,j,k)` is actually $B^y(i,j+1/2,k)$, and \n",
    "* `Bz(i,j,k)` is actually $B^z(i,j,k+1/2)$.\n",
    "\n",
    "So, $\\partial_z A_y\\ {\\rm at}\\ (i+1/2,j,k)$ is actually `Ay(i,j,k) - Ay(i,j,k-1)]/dZ`, and so forth. "
   ]
  },
  {
   "cell_type": "code",
   "execution_count": 6,
   "metadata": {},
   "outputs": [
    {
     "name": "stdout",
     "output_type": "stream",
     "text": [
      "Appending to GiRaFFE_standalone_Ccodes/A2B/compute_B_and_Bstagger_from_A.h\n"
     ]
    }
   ],
   "source": [
    "%%writefile -a $Ccodesdir/compute_B_and_Bstagger_from_A.h\n",
    "\n",
    "    // For the lower boundaries, the following applies a \"copy\"\n",
    "    //    boundary condition on Bi_stagger where needed.\n",
    "    //    E.g., Bx_stagger(i,jmin,k) = Bx_stagger(i,jmin+1,k)\n",
    "    //    We find the copy BC works better than extrapolation.\n",
    "    // For the upper boundaries, we do the following copy:\n",
    "    //    E.g., Psi(imax+1,j,k)=Psi(imax,j,k)\n",
    "    /**************/\n",
    "    /* Bx_stagger */\n",
    "    /**************/\n",
    "\n",
    "    index    = IDX3S(i,shiftedj,shiftedk);\n",
    "    indexjm1 = IDX3S(i,shiftedjm1,shiftedk);\n",
    "    indexkm1 = IDX3S(i,shiftedj,shiftedkm1);\n",
    "    // Set Bx_stagger = \\partial_y A_z - partial_z A_y\n",
    "    // \"Grid\" Ax(i,j,k) is actually Ax(i,j+1/2,k+1/2)\n",
    "    // \"Grid\" Ay(i,j,k) is actually Ay(i+1/2,j,k+1/2)\n",
    "    // \"Grid\" Az(i,j,k) is actually Ay(i+1/2,j+1/2,k)\n",
    "    // Therefore, the 2nd order derivative \\partial_z A_y at (i+1/2,j,k) is:\n",
    "    //          [\"Grid\" Ay(i,j,k) - \"Grid\" Ay(i,j,k-1)]/dZ\n",
    "    Bx_stagger[actual_index] = (Az[index]-Az[indexjm1])*invdx1 - (Ay[index]-Ay[indexkm1])*invdx2;\n"
   ]
  },
  {
   "cell_type": "markdown",
   "metadata": {},
   "source": [
    "Now, we must divide by $\\psi^6 = \\sqrt{\\gamma}$. However, this quantity has been calculated at cell centers; we will find it on the cell face by taking the geometric mean. For instance, for $B^x$, this involves the points at $i$ and $i+1$. We again use a copy boundary condition, but on the faces where $i,j,k$ take their maximum value. If `i+1` exceeds the allowed values, it is set to the maximum allowed value (due to our loop bounds, this is only ever a distance of one point)."
   ]
  },
  {
   "cell_type": "code",
   "execution_count": 7,
   "metadata": {},
   "outputs": [
    {
     "name": "stdout",
     "output_type": "stream",
     "text": [
      "Appending to GiRaFFE_standalone_Ccodes/A2B/compute_B_and_Bstagger_from_A.h\n"
     ]
    }
   ],
   "source": [
    "%%writefile -a $Ccodesdir/compute_B_and_Bstagger_from_A.h\n",
    "\n",
    "    // Now multiply Bx_stagger by 1/sqrt(gamma(i+1/2,j,k)]) = 1/sqrt(1/2 [gamma + gamma_ip1]) = exp(-6 x 1/2 [phi + phi_ip1] )\n",
    "    const int imax_minus_i = (Nxx_plus_2NGHOSTS0-1)-i;\n",
    "    const int indexip1jk = IDX3S(i + ( (imax_minus_i > 0) - (0 > imax_minus_i) ),j,k);\n",
    "    Bx_stagger[actual_index] *= Psim3/psi3_bssn[indexip1jk];\n"
   ]
  },
  {
   "cell_type": "markdown",
   "metadata": {},
   "source": [
    "We repeat the above steps, except we now are setting $B^y = \\partial_z A_x - \\partial_x A_z$"
   ]
  },
  {
   "cell_type": "code",
   "execution_count": 8,
   "metadata": {},
   "outputs": [
    {
     "name": "stdout",
     "output_type": "stream",
     "text": [
      "Appending to GiRaFFE_standalone_Ccodes/A2B/compute_B_and_Bstagger_from_A.h\n"
     ]
    }
   ],
   "source": [
    "%%writefile -a $Ccodesdir/compute_B_and_Bstagger_from_A.h\n",
    "\n",
    "    /**************/\n",
    "    /* By_stagger */\n",
    "    /**************/\n",
    "\n",
    "    index    = IDX3S(shiftedi,j,shiftedk);\n",
    "    indexim1 = IDX3S(shiftedim1,j,shiftedk);\n",
    "    indexkm1 = IDX3S(shiftedi,j,shiftedkm1);\n",
    "    // Set By_stagger = \\partial_z A_x - \\partial_x A_z\n",
    "    By_stagger[actual_index] = (Ax[index]-Ax[indexkm1])*invdx2 - (Az[index]-Az[indexim1])*invdx0;\n",
    "\n",
    "    // Now multiply By_stagger by 1/sqrt(gamma(i,j+1/2,k)]) = 1/sqrt(1/2 [gamma + gamma_jp1]) = exp(-6 x 1/2 [phi + phi_jp1] )\n",
    "    const int jmax_minus_j = (Nxx_plus_2NGHOSTS1-1)-j;\n",
    "    const int indexijp1k = IDX3S(i,j + ( (jmax_minus_j > 0) - (0 > jmax_minus_j) ),k);\n",
    "    By_stagger[actual_index] *= Psim3/psi3_bssn[indexijp1k];\n"
   ]
  },
  {
   "cell_type": "markdown",
   "metadata": {},
   "source": [
    "We repeat the above steps, except we now are setting $B^z = \\partial_x A_y - \\partial_y A_x$"
   ]
  },
  {
   "cell_type": "code",
   "execution_count": 9,
   "metadata": {},
   "outputs": [
    {
     "name": "stdout",
     "output_type": "stream",
     "text": [
      "Appending to GiRaFFE_standalone_Ccodes/A2B/compute_B_and_Bstagger_from_A.h\n"
     ]
    }
   ],
   "source": [
    "%%writefile -a $Ccodesdir/compute_B_and_Bstagger_from_A.h\n",
    "\n",
    "    /**************/\n",
    "    /* Bz_stagger */\n",
    "    /**************/\n",
    "\n",
    "    index    = IDX3S(shiftedi,shiftedj,k);\n",
    "    indexim1 = IDX3S(shiftedim1,shiftedj,k);\n",
    "    indexjm1 = IDX3S(shiftedi,shiftedjm1,k);\n",
    "    // Set Bz_stagger = \\partial_x A_y - \\partial_y A_x\n",
    "    Bz_stagger[actual_index] = (Ay[index]-Ay[indexim1])*invdx0 - (Ax[index]-Ax[indexjm1])*invdx1;\n",
    "\n",
    "    // Now multiply Bz_stagger by 1/sqrt(gamma(i,j,k+1/2)]) = 1/sqrt(1/2 [gamma + gamma_kp1]) = exp(-6 x 1/2 [phi + phi_kp1] )\n",
    "    const int kmax_minus_k = (Nxx_plus_2NGHOSTS2-1)-k;\n",
    "    const int indexijkp1 = IDX3S(i,j,k + ( (kmax_minus_k > 0) - (0 > kmax_minus_k) ));\n",
    "    Bz_stagger[actual_index] *= Psim3/psi3_bssn[indexijkp1];\n",
    "\n",
    "  }\n"
   ]
  },
  {
   "cell_type": "markdown",
   "metadata": {},
   "source": [
    "<a id='centered'></a>\n",
    "\n",
    "## Step 2.f: Compute the centered magnetic field \\[Back to [top](#toc)\\]\n",
    "$$\\label{centered}$$\n",
    "\n",
    "We now address the magnetic field as sampled at cell centers. We start in much the same way as above: we start our simple loop over all points, and declare our $i,j,k$ and $i-1$, $j-1$, and $k-1$ as before, with the same copy boundary condition."
   ]
  },
  {
   "cell_type": "code",
   "execution_count": 10,
   "metadata": {},
   "outputs": [
    {
     "name": "stdout",
     "output_type": "stream",
     "text": [
      "Appending to GiRaFFE_standalone_Ccodes/A2B/compute_B_and_Bstagger_from_A.h\n"
     ]
    }
   ],
   "source": [
    "%%writefile -a $Ccodesdir/compute_B_and_Bstagger_from_A.h\n",
    "\n",
    "  LOOP_DEFINE_SIMPLE {\n",
    "    // Look Mom, no if() statements!\n",
    "    const int shiftedim1 = (i-1)*(i!=0); // This way, i=0 yields shiftedim1=0 and shiftedi=1, used below for our COPY boundary condition.\n",
    "    const int shiftedi   = shiftedim1+1;\n",
    "\n",
    "    const int shiftedjm1 = (j-1)*(j!=0);\n",
    "    const int shiftedj   = shiftedjm1+1;\n",
    "\n",
    "    const int shiftedkm1 = (k-1)*(k!=0);\n",
    "    const int shiftedk   = shiftedkm1+1;\n",
    "\n",
    "    int index,indexim1,indexjm1,indexkm1;\n",
    "\n",
    "    const int actual_index = IDX3S(i,j,k);\n"
   ]
  },
  {
   "cell_type": "markdown",
   "metadata": {},
   "source": [
    "We now perform a basic interpolation (the most basic--a simple arithmetic mean of two quantities) to find the cell-centered magnetic field. Taking $B^x$ as an example, which has been calculated at $(i+1/2,j,k)$ for grid values `i,j,k`, we find its value at the cell center by averaging the values at $(i-1/2,j,k)$ and $(i+1/2,j,k)$, which are represented by `i-1,j,k` and `i,j,k`, respectively. $B^y$ and $B^z$ follow similarly."
   ]
  },
  {
   "cell_type": "code",
   "execution_count": 11,
   "metadata": {},
   "outputs": [
    {
     "name": "stdout",
     "output_type": "stream",
     "text": [
      "Appending to GiRaFFE_standalone_Ccodes/A2B/compute_B_and_Bstagger_from_A.h\n"
     ]
    }
   ],
   "source": [
    "%%writefile -a $Ccodesdir/compute_B_and_Bstagger_from_A.h\n",
    "\n",
    "    // For the lower boundaries, the following applies a \"copy\"\n",
    "    //    boundary condition on Bi and Bi_stagger where needed.\n",
    "    //    E.g., Bx(imin,j,k) = Bx(imin+1,j,k)\n",
    "    //    We find the copy BC works better than extrapolation.\n",
    "    /******/\n",
    "    /* Bx */\n",
    "    /******/\n",
    "    index = IDX3S(shiftedi,j,k);\n",
    "    indexim1 = IDX3S(shiftedim1,j,k);\n",
    "    // Set Bx = 0.5 ( Bx_stagger + Bx_stagger_im1 )\n",
    "    // \"Grid\" Bx_stagger(i,j,k) is actually Bx_stagger(i+1/2,j,k)\n",
    "    Bx[actual_index] = 0.5 * ( Bx_stagger[index] + Bx_stagger[indexim1] );\n",
    "\n",
    "    /******/\n",
    "    /* By */\n",
    "    /******/\n",
    "    index = IDX3S(i,shiftedj,k);\n",
    "    indexjm1 = IDX3S(i,shiftedjm1,k);\n",
    "    // Set By = 0.5 ( By_stagger + By_stagger_im1 )\n",
    "    // \"Grid\" By_stagger(i,j,k) is actually By_stagger(i,j+1/2,k)\n",
    "    By[actual_index] = 0.5 * ( By_stagger[index] + By_stagger[indexjm1] );\n",
    "\n",
    "    /******/\n",
    "    /* Bz */\n",
    "    /******/\n",
    "    index = IDX3S(i,j,shiftedk);\n",
    "    indexkm1 = IDX3S(i,j,shiftedkm1);\n",
    "    // Set Bz = 0.5 ( Bz_stagger + Bz_stagger_im1 )\n",
    "    // \"Grid\" Bz_stagger(i,j,k) is actually Bz_stagger(i,j+1/2,k)\n",
    "    Bz[actual_index] = 0.5 * ( Bz_stagger[index] + Bz_stagger[indexkm1] );\n",
    "  }\n",
    "}"
   ]
  },
  {
   "cell_type": "markdown",
   "metadata": {},
   "source": [
    "<a id='code_validation'></a>\n",
    "\n",
    "# Step 3: Code Validation \\[Back to [top](#toc)\\]\n",
    "$$\\label{code_validation}$$\n",
    "\n",
    "To validate the code in this tutorial we check for agreement between the files\n",
    "\n",
    "1. that were written in this tutorial and\n",
    "1. those that are generated by the python module\n"
   ]
  },
  {
   "cell_type": "code",
   "execution_count": 12,
   "metadata": {},
   "outputs": [
    {
     "name": "stdout",
     "output_type": "stream",
     "text": [
      "Printing difference between original C code and this code...\n",
      "Checking file compute_B_and_Bstagger_from_A.h\n",
      "No difference. TEST PASSED!\n"
     ]
    }
   ],
   "source": [
    "# Define the directory that we wish to validate against:\n",
    "valdir = \"GiRaFFE_NRPy/GiRaFFE_Ccode_library/A2B/\"\n",
    "\n",
    "import GiRaFFE_NRPy.GiRaFFE_NRPy_staggered_A2B as A2B\n",
    "A2B.GiRaFFE_NRPy_A2B(valdir)\n",
    "\n",
    "import difflib\n",
    "import sys\n",
    "\n",
    "print(\"Printing difference between original C code and this code...\")\n",
    "# Open the files to compare\n",
    "files = [\"compute_B_and_Bstagger_from_A.h\"]\n",
    "\n",
    "for file in files:\n",
    "    print(\"Checking file \" + file)\n",
    "    with open(os.path.join(valdir,file)) as file1, open(os.path.join(Ccodesdir,file)) as file2:\n",
    "        # Read the lines of each file\n",
    "        file1_lines = file1.readlines()\n",
    "        file2_lines = file2.readlines()\n",
    "        num_diffs = 0\n",
    "        for line in difflib.unified_diff(file1_lines, file2_lines, fromfile=os.path.join(valdir+file), tofile=os.path.join(Ccodesdir+file)):\n",
    "            sys.stdout.writelines(line)\n",
    "            num_diffs = num_diffs + 1\n",
    "        if num_diffs == 0:\n",
    "            print(\"No difference. TEST PASSED!\")\n",
    "        else:\n",
    "            print(\"ERROR: Disagreement found with .py file. See differences above.\")\n",
    "            sys.exit(1)"
   ]
  },
  {
   "cell_type": "markdown",
   "metadata": {},
   "source": [
    "<a id='latex_pdf_output'></a>\n",
    "\n",
    "# Step 4: Output this notebook to $\\LaTeX$-formatted PDF file \\[Back to [top](#toc)\\]\n",
    "$$\\label{latex_pdf_output}$$\n",
    "\n",
    "The following code cell converts this Jupyter notebook into a proper, clickable $\\LaTeX$-formatted PDF file. After the cell is successfully run, the generated PDF may be found in the root NRPy+ tutorial directory, with filename\n",
    "[Tutorial-GiRaFFE_NRPy_staggered-A2B.pdf](Tutorial-GiRaFFE_NRPy_staggered-A2B.pdf) (Note that clicking on this link may not work; you may need to open the PDF file through another means.)"
   ]
  },
  {
   "cell_type": "code",
   "execution_count": 13,
   "metadata": {},
   "outputs": [
    {
     "name": "stdout",
     "output_type": "stream",
     "text": [
      "Created Tutorial-GiRaFFE_NRPy_staggered-A2B.tex, and compiled LaTeX file to\n",
      "    PDF file Tutorial-GiRaFFE_NRPy_staggered-A2B.pdf\n"
     ]
    }
   ],
   "source": [
    "import cmdline_helper as cmd    # NRPy+: Multi-platform Python command-line interface\n",
    "cmd.output_Jupyter_notebook_to_LaTeXed_PDF(\"Tutorial-GiRaFFE_NRPy_staggered-A2B\",location_of_template_file=os.path.join(\"..\"))"
   ]
  }
 ],
 "metadata": {
  "kernelspec": {
   "display_name": "Python 3",
   "language": "python",
   "name": "python3"
  },
  "language_info": {
   "codemirror_mode": {
    "name": "ipython",
    "version": 3
   },
   "file_extension": ".py",
   "mimetype": "text/x-python",
   "name": "python",
   "nbconvert_exporter": "python",
   "pygments_lexer": "ipython3",
   "version": "3.8.5"
  }
 },
 "nbformat": 4,
 "nbformat_minor": 2
}
