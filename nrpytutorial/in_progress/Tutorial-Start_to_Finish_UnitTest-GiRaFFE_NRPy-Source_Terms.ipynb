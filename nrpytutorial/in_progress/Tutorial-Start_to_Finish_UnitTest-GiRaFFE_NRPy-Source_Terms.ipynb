{
 "cells": [
  {
   "cell_type": "markdown",
   "metadata": {},
   "source": [
    "<script async src=\"https://www.googletagmanager.com/gtag/js?id=UA-59152712-8\"></script>\n",
    "<script>\n",
    "  window.dataLayer = window.dataLayer || [];\n",
    "  function gtag(){dataLayer.push(arguments);}\n",
    "  gtag('js', new Date());\n",
    "\n",
    "  gtag('config', 'UA-59152712-8');\n",
    "</script>\n",
    "\n",
    "# Start-to-Finish Example: Unit Testing `GiRaFFE_NRPy`: $\\tilde{S}_i$ source term, $A_i$ gauge term, and $\\psi^6 \\Phi$\n",
    "\n",
    "## Author: Patrick Nelson\n",
    "\n",
    "## This module Validates the `Stilde_source_A_gauge_Phi_rhs` routine for `GiRaFFE`.\n",
    "\n",
    "**Notebook Status:** <font color='green'><b>Validated</b></font>\n",
    "\n",
    "**Validation Notes:** This module validates the routines for the source terms in [Tutorial-GRHD_Equations-Cartesian](Tutorial-GRHD_Equations-Cartesian.ipynb) and [Tutorial-GRFFE_Equations-Cartesian](Tutorial-GRFFE_Equations-Cartesian.ipynb).\n",
    "\n",
    "### NRPy+ Source Code for this module: \n",
    "* [GRHD/equations.py](../../edit/GRHD/equations.py) [\\[**tutorial**\\]](../Tutorial-GRHD_Equations-Cartesian.ipynb) Generates the source term for the Poynting flux evolution equation.\n",
    "* [GRFFE/equations.py](../../edit/GRFFE/equations.py) [\\[**tutorial**\\]](../Tutorial-GRFFE_Equations-Cartesian.ipynb) Generates the source terms for the induction equation for the vector potential and the evolution equation for $\\Phi$.\n",
    "\n",
    "## Introduction:\n",
    "\n",
    "This notebook validates the code that will add simpler terms to the RHSs of our evolved, conservative variables in `GiRaFFE_NRPy`. These terms require only basic finite-differencing for their derivatives, so the code to generate them is far simpler.\n",
    "\n",
    "It is, in general, good coding practice to unit test functions individually to verify that they produce the expected and intended output. We will generate test data with arbitrarily-chosen analytic functions and calculate gridfunctions at the cell centers on a small numeric grid. We will then run the algorithms to compute the RHS terms numerically along with similar algorithms to compute them analytically, for comparison. We will then compare the data output by both routines to show convergence. \n",
    "\n",
    "When this notebook is run, the difference between the approximate and exact right-hand sides will be output to text files that can be found in the same directory as this notebook. These will be read in in [Step 3](#convergence), and used there to confirm second order convergence of the algorithm. "
   ]
  },
  {
   "cell_type": "markdown",
   "metadata": {},
   "source": [
    "<a id='toc'></a>\n",
    "\n",
    "# Table of Contents\n",
    "$$\\label{toc}$$\n",
    "\n",
    "This notebook is organized as follows\n",
    "\n",
    "1. [Step 1](#setup): Set up core functions and parameters for unit testing the algorithm\n",
    "    1. [Step 1.a](#metric_expressions) Write expressions for the metric gridfunctions\n",
    "    1. [Step 1.b](#mhd_expressions) Write expressions for the magnetohydrodynamic gridfunctions\n",
    "    1. [Step 1.c](#ccodekernels) Generate C functions to calculate the gridfunctions\n",
    "    1. [Step 1.d](#analytic_comparison) Generate C code to analytically calculate RHSs\n",
    "    1. [Step 1.e](#functions_to_test) Generate C code to numerically calculate RHSs\n",
    "    1. [Step 1.f](#free_parameters) Set free parameters in the code and generate other functions\n",
    "1. [Step 2](#mainc): `Stilde_source_A_gauge_Phi_rhs_unit_test.c`: The Main C Code\n",
    "    1. [Step 2.a](#compile_run): Compile and run the code\n",
    "1. [Step 3](#convergence): Code validation: Verify that relative error in numerical solution converges to zero at the expected order\n",
    "1. [Step 4](#latex_pdf_output): Output this notebook to $\\LaTeX$-formatted PDF file"
   ]
  },
  {
   "cell_type": "markdown",
   "metadata": {},
   "source": [
    "<a id='setup'></a>\n",
    "\n",
    "# Step 1: Set up core functions and parameters for unit testing the algorithm \\[Back to [top](#toc)\\]\n",
    "$$\\label{setup}$$\n",
    "\n",
    "We'll start by appending the relevant paths to `sys.path` so that we can access sympy modules in other places. Then, we'll import NRPy+ core functionality and set up a directory in which to carry out our test. "
   ]
  },
  {
   "cell_type": "code",
   "execution_count": 1,
   "metadata": {
    "execution": {
     "iopub.execute_input": "2020-12-17T02:17:30.669558Z",
     "iopub.status.busy": "2020-12-17T02:17:30.666842Z",
     "iopub.status.idle": "2020-12-17T02:17:30.891124Z",
     "shell.execute_reply": "2020-12-17T02:17:30.890573Z"
    }
   },
   "outputs": [],
   "source": [
    "import shutil, os, sys           # Standard Python modules for multiplatform OS-level functions\n",
    "# First, we'll add the parent directory to the list of directories Python will check for modules.\n",
    "nrpy_dir_path = os.path.join(\"..\")\n",
    "if nrpy_dir_path not in sys.path:\n",
    "    sys.path.append(nrpy_dir_path)\n",
    "nrpy_dir_path = os.path.join(\"..\",\"..\")\n",
    "if nrpy_dir_path not in sys.path:\n",
    "    sys.path.append(nrpy_dir_path)\n",
    "\n",
    "from outputC import outCfunction, outputC, lhrh # NRPy+: Core C code output module\n",
    "import sympy as sp               # SymPy: The Python computer algebra package upon which NRPy+ depends\n",
    "import finite_difference as fin  # NRPy+: Finite difference C code generation module\n",
    "import NRPy_param_funcs as par   # NRPy+: Parameter interface\n",
    "import grid as gri               # NRPy+: Functions having to do with numerical grids\n",
    "import loop as lp                # NRPy+: Generate C code loops\n",
    "import indexedexp as ixp         # NRPy+: Symbolic indexed expression (e.g., tensors, vectors, etc.) support\n",
    "import reference_metric as rfm   # NRPy+: Reference metric support\n",
    "import cmdline_helper as cmd     # NRPy+: Multi-platform Python command-line interface\n",
    "\n",
    "out_dir = \"Validation/\"\n",
    "cmd.mkdir(out_dir)\n",
    "subdir = \"source_terms\"\n",
    "cmd.mkdir(os.path.join(out_dir,subdir))\n",
    "\n",
    "thismodule = \"Start_to_Finish_UnitTest-GiRaFFE_NRPy-Source_Terms\"\n",
    "\n",
    "# Set the finite-differencing order to 2\n",
    "par.set_parval_from_str(\"finite_difference::FD_CENTDERIVS_ORDER\", 2)\n",
    "\n",
    "CoordSystem = \"Cartesian\"\n",
    "\n",
    "par.set_parval_from_str(\"reference_metric::CoordSystem\",CoordSystem)\n",
    "rfm.reference_metric() # Create ReU, ReDD needed for rescaling B-L initial data, generating BSSN RHSs, etc.\n",
    "\n",
    "# Default Kreiss-Oliger dissipation strength\n",
    "default_KO_strength = 0.1\n",
    "diss_strength = par.Cparameters(\"REAL\", thismodule, \"diss_strength\", default_KO_strength)"
   ]
  },
  {
   "cell_type": "markdown",
   "metadata": {},
   "source": [
    "<a id='metric_expressions'></a>\n",
    "\n",
    "## Step 1.a: Write expressions for the metric gridfunctions \\[Back to [top](#toc)\\]\n",
    "$$\\label{metric_expressions}$$\n",
    "\n",
    "Now, we'll choose some functions with arbitrary forms to generate test data. We'll need to set ten gridfunctions, so expressions are being pulled from several previously written unit tests.\n",
    "\n",
    "\\begin{align}\n",
    "\\gamma_{xx} &= 1+0.1\\left(a \\exp\\left(-\\left((x-b)^2+(y-c)^2+(z-d)^2\\right)\\right)\\right) \\\\\n",
    "\\gamma_{yy} &= 1+0.1\\left(f \\exp\\left(-\\left((x-g)^2+(y-h)^2+(z-l)^2\\right)\\right)\\right) \\\\\n",
    "\\gamma_{zz} &= 1+0.1\\left(m \\exp\\left(-\\left((x-n)^2+(y-o)^2+(z-p)^2\\right)\\right)\\right), \\\\\n",
    "\\gamma_{xy} &= 0.1\\left(ax^3 + by^3 + cz^3 + dy^2 + ez^2 + f\\right) \\\\\n",
    "\\gamma_{xz} &= 0.1\\left(gx^3 + hy^3 + lz^3 + mx^2 + nz^2 + p\\right) \\\\\n",
    "\\gamma_{yz} &= 0.1\\left(px^3 + qy^3 + rz^3 + sx^2 + ty^2 + u\\right). \\\\\n",
    "\\beta^x &= \\arctan(ax + by + cz) \\\\\n",
    "\\beta^y &= \\arctan(bx + cy + az) \\\\\n",
    "\\beta^z &= \\arctan(cx + ay + bz) \\\\\n",
    "\\alpha &= 1 - \\frac{1}{2+x^2+y^2+z^2} \\\\\n",
    "\\end{align}\n"
   ]
  },
  {
   "cell_type": "code",
   "execution_count": 2,
   "metadata": {
    "execution": {
     "iopub.execute_input": "2020-12-17T02:17:30.915117Z",
     "iopub.status.busy": "2020-12-17T02:17:30.914570Z",
     "iopub.status.idle": "2020-12-17T02:17:30.946811Z",
     "shell.execute_reply": "2020-12-17T02:17:30.946363Z"
    }
   },
   "outputs": [],
   "source": [
    "a,b,c,d,e,f,g,h,l,m,n,o,p,q,r,s,t,u = par.Cparameters(\"REAL\",thismodule,[\"a\",\"b\",\"c\",\"d\",\"e\",\"f\",\"g\",\"h\",\"l\",\"m\",\"n\",\"o\",\"p\",\"q\",\"r\",\"s\",\"t\",\"u\"],1e300)\n",
    "M_PI  = par.Cparameters(\"#define\",thismodule,[\"M_PI\"], \"\")\n",
    "\n",
    "gammaDD = ixp.register_gridfunctions_for_single_rank2(\"AUXEVOL\",\"gammaDD\",\"sym01\",DIM=3)\n",
    "betaU = ixp.register_gridfunctions_for_single_rank1(\"AUXEVOL\",\"betaU\",DIM=3)\n",
    "alpha = gri.register_gridfunctions(\"AUXEVOL\",\"alpha\")\n",
    "\n",
    "par.set_parval_from_str(\"reference_metric::CoordSystem\",\"Cartesian\")\n",
    "rfm.reference_metric()\n",
    "x = rfm.xx_to_Cart[0]\n",
    "y = rfm.xx_to_Cart[1]\n",
    "z = rfm.xx_to_Cart[2]\n",
    "\n",
    "gammaDD[0][0] = 1.0 + 0.1*(a * sp.exp(-((x-b)**2 + (y-c)**2 + (z-d)**2)))\n",
    "gammaDD[1][1] = 1.0 + 0.1*(f * sp.exp(-((x-g)**2 + (y-h)**2 + (z-l)**2)))\n",
    "gammaDD[2][2] = 1.0 + 0.1*(m * sp.exp(-((x-n)**2 + (y-o)**2 + (z-p)**2)))\n",
    "gammaDD[0][1] = gammaDD[1][0] = 0.1*(a*x**3 + b*y**3 + c*z**3 + d*y**2 + e*z**2 + f)\n",
    "gammaDD[0][2] = gammaDD[2][0] = 0.1*(g*x**3 + h*y**3 + l*z**3 + m*x**2 + n*z**2 + o)\n",
    "gammaDD[1][2] = gammaDD[2][1] = 0.1*(p*x**3 + q*y**3 + r*z**3 + s*x**2 + t*y**2 + u)\n",
    "\n",
    "betaU[0] = sp.atan(a*x + b*y + c*z)\n",
    "betaU[1] = sp.atan(b*x + c*y + a*z)\n",
    "betaU[2] = sp.atan(c*x + a*y + b*z)\n",
    "\n",
    "alpha = sp.sympify(1) - sp.sympify(1) / (sp.sympify(2) + x**2 + y**2 + z**2)"
   ]
  },
  {
   "cell_type": "markdown",
   "metadata": {},
   "source": [
    "<a id='mhd_expressions'></a>\n",
    "\n",
    "## Step 1.b: Write expressions for the magnetohydrodynamic gridfunctions \\[Back to [top](#toc)\\]\n",
    "$$\\label{mhd_expressions}$$\n",
    "\n",
    "We will also pick arbitrary analytic forms for the vector potential and Valencia three-velocity here. \n",
    "\\begin{align}\n",
    "A_x &= \\exp(ey+fz) \\\\\n",
    "A_y &= \\exp(fz+dx) \\\\\n",
    "A_z &= \\exp(dx+ey) \\\\\n",
    "\\bar{v}^x &= \\frac{2}{\\pi} \\arctan(ax + by + cz) \\\\\n",
    "\\bar{v}^y &= \\frac{2}{\\pi} \\arctan(bx + cy + az) \\\\\n",
    "\\bar{v}^z &= \\frac{2}{\\pi} \\arctan(cx + ay + bz) \\\\\n",
    "\\end{align}\n",
    "\n",
    "We compute the magnetic field from the vector potential analytically as $B^i = \\epsilon^{ijk} A_{k,j}$. Additionally, we let the scalar potential $\\sqrt{\\gamma} \\Phi$ be defined as $\\sqrt{\\gamma} \\left(1+x^2+y^2+z^2\\right)$, where $\\gamma$ is the determinant of the three metric $\\gamma_{ij}$"
   ]
  },
  {
   "cell_type": "code",
   "execution_count": 3,
   "metadata": {
    "execution": {
     "iopub.execute_input": "2020-12-17T02:17:30.994343Z",
     "iopub.status.busy": "2020-12-17T02:17:30.968915Z",
     "iopub.status.idle": "2020-12-17T02:17:31.010903Z",
     "shell.execute_reply": "2020-12-17T02:17:31.010405Z"
    }
   },
   "outputs": [],
   "source": [
    "AD = ixp.register_gridfunctions_for_single_rank1(\"EVOL\",\"AD\")\n",
    "BU = ixp.register_gridfunctions_for_single_rank1(\"AUXEVOL\",\"BU\")\n",
    "ValenciavU = ixp.register_gridfunctions_for_single_rank1(\"AUXEVOL\",\"ValenciavU\")\n",
    "\n",
    "gammaUU,gammadet = ixp.symm_matrix_inverter3x3(gammaDD)\n",
    "\n",
    "AD[0] = sp.exp(e*y+f*z)\n",
    "AD[1] = sp.exp(f*z+d*x)\n",
    "AD[2] = sp.exp(d*x+e*y)\n",
    "ValenciavU[0] = (sp.sympify(2)/M_PI) * sp.atan(d*x + e*y + f*z)\n",
    "ValenciavU[1] = (sp.sympify(2)/M_PI) * sp.atan(e*x + f*y + d*z)\n",
    "ValenciavU[2] = (sp.sympify(2)/M_PI) * sp.atan(f*x + d*y + e*z)\n",
    "\n",
    "LeviCivitaUUU = ixp.LeviCivitaTensorUUU_dim3_rank3(sp.sqrt(gammadet))\n",
    "\n",
    "BU = ixp.zerorank1() # BU is already registered as a gridfunction, but we need to zero its values and declare it in this scope.\n",
    "\n",
    "for i in range(3):\n",
    "    for j in range(3):\n",
    "        for k in range(3):\n",
    "            BU[i] += LeviCivitaUUU[i][j][k] * sp.diff(AD[k],rfm.xx_to_Cart[j])\n",
    "\n",
    "psi6Phi = gri.register_gridfunctions(\"EVOL\",\"psi6Phi\")\n",
    "psi6Phi = gammadet * (1+x*x+y*y+z*z)"
   ]
  },
  {
   "cell_type": "markdown",
   "metadata": {},
   "source": [
    "<a id='ccodekernels'></a>\n",
    "\n",
    "## Step 1.c: Generate C functions to calculate the gridfunctions \\[Back to [top](#toc)\\]\n",
    "$$\\label{ccodekernels}$$\n",
    "\n",
    "We now use NRPy+'s `outCfunction()` to generate the functions that will calculate our sample data on numerical grids."
   ]
  },
  {
   "cell_type": "code",
   "execution_count": 4,
   "metadata": {
    "execution": {
     "iopub.execute_input": "2020-12-17T02:17:31.064014Z",
     "iopub.status.busy": "2020-12-17T02:17:31.038229Z",
     "iopub.status.idle": "2020-12-17T02:17:31.327363Z",
     "shell.execute_reply": "2020-12-17T02:17:31.326890Z"
    },
    "scrolled": true
   },
   "outputs": [
    {
     "name": "stdout",
     "output_type": "stream",
     "text": [
      "Output C function calculate_metric_gfs() to file Validation/calculate_metric_gfs.h\n",
      "Output C function calculate_BU_AD_psi6Phi() to file Validation/calculate_BU_AD_psi6Phi.h\n",
      "Output C function calculate_ValenciavU() to file Validation/calculate_ValenciavU.h\n"
     ]
    }
   ],
   "source": [
    "metric_gfs_to_print = [\n",
    "                       lhrh(lhs=gri.gfaccess(\"auxevol_gfs\",\"gammaDD00\"),rhs=gammaDD[0][0]),\n",
    "                       lhrh(lhs=gri.gfaccess(\"auxevol_gfs\",\"gammaDD01\"),rhs=gammaDD[0][1]),\n",
    "                       lhrh(lhs=gri.gfaccess(\"auxevol_gfs\",\"gammaDD02\"),rhs=gammaDD[0][2]),\n",
    "                       lhrh(lhs=gri.gfaccess(\"auxevol_gfs\",\"gammaDD11\"),rhs=gammaDD[1][1]),\n",
    "                       lhrh(lhs=gri.gfaccess(\"auxevol_gfs\",\"gammaDD12\"),rhs=gammaDD[1][2]),\n",
    "                       lhrh(lhs=gri.gfaccess(\"auxevol_gfs\",\"gammaDD22\"),rhs=gammaDD[2][2]),\n",
    "                       lhrh(lhs=gri.gfaccess(\"auxevol_gfs\",\"betaU0\"),rhs=betaU[0]),\n",
    "                       lhrh(lhs=gri.gfaccess(\"auxevol_gfs\",\"betaU1\"),rhs=betaU[1]),\n",
    "                       lhrh(lhs=gri.gfaccess(\"auxevol_gfs\",\"betaU2\"),rhs=betaU[2]),\n",
    "                       lhrh(lhs=gri.gfaccess(\"auxevol_gfs\",\"alpha\"),rhs=alpha),\n",
    "                      ]\n",
    "desc = \"Calculate the metric gridfunctions\"\n",
    "name = \"calculate_metric_gfs\"\n",
    "outCfunction(\n",
    "    outfile  = os.path.join(out_dir,name+\".h\"), desc=desc, name=name,\n",
    "    params   =\"const paramstruct *restrict params,REAL *restrict xx[3],REAL *restrict auxevol_gfs\",\n",
    "    body     = fin.FD_outputC(\"returnstring\",metric_gfs_to_print,params=\"outCverbose=False,CSE_sorting=none\").replace(\"IDX4\",\"IDX4S\"),\n",
    "    loopopts =\"AllPoints,Read_xxs\")\n",
    "\n",
    "EM_to_print = [\n",
    "               lhrh(lhs=gri.gfaccess(\"auxevol_gfs\",\"BU0\"),rhs=BU[0]),\n",
    "               lhrh(lhs=gri.gfaccess(\"auxevol_gfs\",\"BU1\"),rhs=BU[1]),\n",
    "               lhrh(lhs=gri.gfaccess(\"auxevol_gfs\",\"BU2\"),rhs=BU[2]),\n",
    "               lhrh(lhs=gri.gfaccess(\"out_gfs\",\"AD0\"),rhs=AD[0]),\n",
    "               lhrh(lhs=gri.gfaccess(\"out_gfs\",\"AD1\"),rhs=AD[1]),\n",
    "               lhrh(lhs=gri.gfaccess(\"out_gfs\",\"AD2\"),rhs=AD[2]),\n",
    "               lhrh(lhs=gri.gfaccess(\"out_gfs\",\"psi6Phi\"),rhs=psi6Phi),\n",
    "              ]\n",
    "\n",
    "desc = \"Calculate sample magnetic field and potential data\"\n",
    "name = \"calculate_BU_AD_psi6Phi\"\n",
    "outCfunction(\n",
    "    outfile  = os.path.join(out_dir,name+\".h\"), desc=desc, name=name,\n",
    "    params   =\"const paramstruct *params,REAL *xx[3],REAL *auxevol_gfs,REAL *out_gfs\",\n",
    "    body     = fin.FD_outputC(\"returnstring\",EM_to_print,params=\"outCverbose=False,CSE_sorting=none\").replace(\"IDX4\",\"IDX4S\"),\n",
    "    loopopts =\"AllPoints,Read_xxs\")\n",
    "\n",
    "ValenciavU_to_print = [\n",
    "                       lhrh(lhs=gri.gfaccess(\"auxevol_gfs\",\"ValenciavU0\"),rhs=ValenciavU[0]),\n",
    "                       lhrh(lhs=gri.gfaccess(\"auxevol_gfs\",\"ValenciavU1\"),rhs=ValenciavU[1]),\n",
    "                       lhrh(lhs=gri.gfaccess(\"auxevol_gfs\",\"ValenciavU2\"),rhs=ValenciavU[2]),\n",
    "                      ]\n",
    "\n",
    "desc = \"Calculate sample velocity data\"\n",
    "name = \"calculate_ValenciavU\"\n",
    "outCfunction(\n",
    "    outfile  = os.path.join(out_dir,name+\".h\"), desc=desc, name=name,\n",
    "    params   =\"const paramstruct *params,REAL *xx[3],REAL *auxevol_gfs\",\n",
    "    body     = fin.FD_outputC(\"returnstring\",ValenciavU_to_print,params=\"outCverbose=False,CSE_sorting=none\").replace(\"IDX4\",\"IDX4S\"),\n",
    "    loopopts =\"AllPoints,Read_xxs\")\n"
   ]
  },
  {
   "cell_type": "markdown",
   "metadata": {},
   "source": [
    "<a id='analytic_comparison'></a>\n",
    "\n",
    "## Step 1.d: Generate C code to analytically calculate RHSs \\[Back to [top](#toc)\\]\n",
    "$$\\label{analytic_comparison}$$\n",
    "\n",
    "In order to do a unit test, we have to have some expected value against which to compare. In this case, we'll calculate the expected output of our functions using the analytic forms of the gridfunction defined above. The first step to doing this will be to analytically compute the derivatives that we will need. For the $\\partial_t \\tilde{S}_i$ source term, this will just be the metric derivatives. "
   ]
  },
  {
   "cell_type": "code",
   "execution_count": 5,
   "metadata": {
    "execution": {
     "iopub.execute_input": "2020-12-17T02:17:31.365134Z",
     "iopub.status.busy": "2020-12-17T02:17:31.339810Z",
     "iopub.status.idle": "2020-12-17T02:17:31.526245Z",
     "shell.execute_reply": "2020-12-17T02:17:31.525769Z"
    }
   },
   "outputs": [],
   "source": [
    "gammaDD_dD = ixp.zerorank3()\n",
    "for i in range(3):\n",
    "    for j in range(3):\n",
    "        for k in range(3):\n",
    "            gammaDD_dD[i][j][k] = sp.diff(gammaDD[i][j],rfm.xx_to_Cart[k])\n",
    "\n",
    "betaU_dD = ixp.zerorank2()\n",
    "for i in range(3):\n",
    "    for j in range(3):\n",
    "        betaU_dD[i][j] = sp.diff(betaU[i],rfm.xx_to_Cart[j])\n",
    "\n",
    "alpha_dD = ixp.zerorank1()\n",
    "for i in range(3):\n",
    "    alpha_dD[i] = sp.diff(alpha,rfm.xx_to_Cart[i])\n",
    "\n",
    "import GRHD.equations as GRHD\n",
    "import GRFFE.equations as GRFFE\n",
    "TINYDOUBLE = par.Cparameters(\"REAL\",thismodule,\"TINYDOUBLE\",1e-100)\n",
    "\n",
    "GRHD.u4U_in_terms_of_ValenciavU__rescale_ValenciavU_by_applying_speed_limit(alpha,betaU,gammaDD, ValenciavU)\n",
    "\n",
    "# Next sqrt(gamma)\n",
    "GRHD.compute_sqrtgammaDET(gammaDD)\n",
    "\n",
    "# Then compute g4DD_zerotimederiv_dD\n",
    "GRHD.compute_g4DD_zerotimederiv_dD(gammaDD,betaU,alpha, gammaDD_dD,betaU_dD,alpha_dD)\n",
    "# small b\n",
    "sqrt4pi = par.Cparameters(\"REAL\",thismodule,\"sqrt4pi\",\"sqrt(4.0*M_PI)\")\n",
    "GRFFE.compute_smallb4U(gammaDD,betaU,alpha, GRHD.u4U_ito_ValenciavU, BU, sqrt4pi)\n",
    "GRFFE.compute_smallbsquared(gammaDD, betaU, alpha, GRFFE.smallb4U)\n",
    "# Electromagnetic stress-energy tensor\n",
    "GRFFE.compute_TEM4UU(gammaDD,betaU,alpha, GRFFE.smallb4U, GRFFE.smallbsquared,GRHD.u4U_ito_ValenciavU)\n",
    "\n",
    "# Add the source term to the RHS\n",
    "Stilde_rhsD = ixp.zerorank1(DIM=3)\n",
    "for i in range(3):\n",
    "    for mu in range(4):\n",
    "        for nu in range(4):\n",
    "            # \\frac{1}{2} \\alpha \\sqrt{\\gamma} T^{\\mu \\nu}_{\\rm EM} \\partial_i g_{\\mu \\nu}\n",
    "            Stilde_rhsD[i] += sp.Rational(1,2) * alpha * GRHD.sqrtgammaDET * \\\n",
    "                              GRFFE.TEM4UU[mu][nu] * GRHD.g4DD_zerotimederiv_dD[mu][nu][i+1]\n"
   ]
  },
  {
   "cell_type": "markdown",
   "metadata": {},
   "source": [
    "Next, we will handle the $\\partial_t A_i$ gauge term, $-\\partial_i (\\alpha \\Phi - \\beta^j A_j).$ Carrying through this differentiation analytically, we see that we will need to code \n",
    "$$\n",
    "-\\alpha_{,i} \\Phi - \\alpha \\Phi_{,i} + \\beta^j_{,i} A_j + \\beta^j A_{j,i}\n",
    "$$"
   ]
  },
  {
   "cell_type": "code",
   "execution_count": 6,
   "metadata": {
    "execution": {
     "iopub.execute_input": "2020-12-17T02:17:31.563747Z",
     "iopub.status.busy": "2020-12-17T02:17:31.543423Z",
     "iopub.status.idle": "2020-12-17T02:17:31.638063Z",
     "shell.execute_reply": "2020-12-17T02:17:31.637558Z"
    }
   },
   "outputs": [],
   "source": [
    "Phi_dD = ixp.zerorank1()\n",
    "for i in range(3):\n",
    "    Phi_dD[i] = sp.diff(psi6Phi/GRHD.sqrtgammaDET,rfm.xx_to_Cart[i])\n",
    "AD_dD = ixp.zerorank2()\n",
    "for i in range(3):\n",
    "    for j in range(3):\n",
    "        AD_dD[i][j] = sp.diff(AD[i],rfm.xx_to_Cart[j])\n",
    "\n",
    "A_rhsD = ixp.zerorank1()\n",
    "for i in range(3):\n",
    "    A_rhsD[i] += -alpha_dD[i]*psi6Phi/GRHD.sqrtgammaDET - alpha*Phi_dD[i]\n",
    "\n",
    "for i in range(3):\n",
    "    for j in range(3):\n",
    "        A_rhsD[i] += betaU_dD[j][i]*AD[j] + betaU[j]*AD_dD[j][i]\n"
   ]
  },
  {
   "cell_type": "markdown",
   "metadata": {},
   "source": [
    "And finally, we will code the equation \n",
    "\\begin{align}\n",
    "\\partial_t [\\sqrt{\\gamma} \\Phi] &= -\\partial_j (\\alpha\\sqrt{\\gamma}A^j - \\beta^j [\\sqrt{\\gamma} \\Phi]) - \\xi \\alpha [\\sqrt{\\gamma} \\Phi] \\\\\n",
    "&= -\\alpha_{,j} \\sqrt{\\gamma} A^j - \\alpha (\\sqrt{\\gamma})_{,j} A^j - \\alpha \\sqrt{\\gamma} A^j_{,j} + \\beta^j_{,j} [\\sqrt{\\gamma} \\Phi] + \\beta^j [\\sqrt{\\gamma} \\Phi]_{,j} - \\xi \\alpha [\\sqrt{\\gamma} \\Phi]\n",
    "\\end{align}"
   ]
  },
  {
   "cell_type": "code",
   "execution_count": 7,
   "metadata": {
    "execution": {
     "iopub.execute_input": "2020-12-17T02:17:31.680839Z",
     "iopub.status.busy": "2020-12-17T02:17:31.660256Z",
     "iopub.status.idle": "2020-12-17T02:17:31.982857Z",
     "shell.execute_reply": "2020-12-17T02:17:31.982362Z"
    }
   },
   "outputs": [],
   "source": [
    "psi6Phi_dD = ixp.zerorank1()\n",
    "for i in range(3):\n",
    "    psi6Phi_dD[i] = sp.diff(psi6Phi,rfm.xx_to_Cart[i])\n",
    "\n",
    "gammaUU,unusedgammadet = ixp.symm_matrix_inverter3x3(gammaDD)\n",
    "AU = ixp.zerorank1()\n",
    "for i in range(3):\n",
    "    for j in range(3):\n",
    "        AU[i] += gammaUU[i][j]*AD[j]\n",
    "AU_dD = ixp.zerorank2()\n",
    "for i in range(3):\n",
    "    for j in range(3):\n",
    "        AU_dD[i][j] = sp.diff(AU[i],rfm.xx_to_Cart[j])\n",
    "\n",
    "xi_damping = par.Cparameters(\"REAL\",thismodule,\"xi_damping\",0.1)\n",
    "psi6Phi_rhs = -xi_damping*alpha*psi6Phi\n",
    "for j in range(3):\n",
    "    psi6Phi_rhs += -alpha_dD[j]*GRHD.sqrtgammaDET*AU[j] \\\n",
    "                   -alpha*sp.diff(GRHD.sqrtgammaDET,rfm.xx_to_Cart[j])*AU[j] \\\n",
    "                   -alpha*GRHD.sqrtgammaDET*AU_dD[j][j] \\\n",
    "                   + betaU_dD[j][j]*psi6Phi + betaU[j]*psi6Phi_dD[j]"
   ]
  },
  {
   "cell_type": "markdown",
   "metadata": {},
   "source": [
    "With these expressions coded, we can finally generate the C function to write this data for a comparison. We will do this using `outCfunction()`."
   ]
  },
  {
   "cell_type": "code",
   "execution_count": 8,
   "metadata": {
    "execution": {
     "iopub.execute_input": "2020-12-17T02:17:32.005177Z",
     "iopub.status.busy": "2020-12-17T02:17:31.994993Z",
     "iopub.status.idle": "2020-12-17T02:17:53.984002Z",
     "shell.execute_reply": "2020-12-17T02:17:53.983521Z"
    }
   },
   "outputs": [
    {
     "name": "stdout",
     "output_type": "stream",
     "text": [
      "Output C function calculate_analytic_RHSs() to file Validation/calculate_analytic_RHSs.h\n"
     ]
    }
   ],
   "source": [
    "StildeD = ixp.register_gridfunctions_for_single_rank1(\"EVOL\",\"StildeD\")\n",
    "\n",
    "RHSs_to_print = [\n",
    "                 lhrh(lhs=gri.gfaccess(\"rhs_gfs\",\"StildeD0\"),rhs=Stilde_rhsD[0]),\n",
    "                 lhrh(lhs=gri.gfaccess(\"rhs_gfs\",\"StildeD1\"),rhs=Stilde_rhsD[1]),\n",
    "                 lhrh(lhs=gri.gfaccess(\"rhs_gfs\",\"StildeD2\"),rhs=Stilde_rhsD[2]),\n",
    "                 lhrh(lhs=gri.gfaccess(\"rhs_gfs\",\"AD0\"),rhs=A_rhsD[0]),\n",
    "                 lhrh(lhs=gri.gfaccess(\"rhs_gfs\",\"AD1\"),rhs=A_rhsD[1]),\n",
    "                 lhrh(lhs=gri.gfaccess(\"rhs_gfs\",\"AD2\"),rhs=A_rhsD[2]),\n",
    "                 lhrh(lhs=gri.gfaccess(\"rhs_gfs\",\"psi6Phi\"),rhs=psi6Phi_rhs),\n",
    "                ]\n",
    "\n",
    "desc = \"Calculate analytic RHSs for comparison\"\n",
    "name = \"calculate_analytic_RHSs\"\n",
    "outCfunction(\n",
    "    outfile  = os.path.join(out_dir,name+\".h\"), desc=desc, name=name,\n",
    "    params   =\"const paramstruct *params,REAL *xx[3],REAL *rhs_gfs\",\n",
    "    body     = fin.FD_outputC(\"returnstring\",RHSs_to_print,params=\"outCverbose=False,CSE_sorting=none\").replace(\"IDX4\",\"IDX4S\"),\n",
    "    loopopts =\"AllPoints,Read_xxs\")\n"
   ]
  },
  {
   "cell_type": "markdown",
   "metadata": {},
   "source": [
    "<a id='functions_to_test'></a>\n",
    "\n",
    "## Step 1.e: Generate C code to numerically calculate RHSs \\[Back to [top](#toc)\\]\n",
    "$$\\label{functions_to_test}$$\n",
    "\n",
    "Here, we will generate the functions that we specifically wish to test. We'll start with the source term for $\\partial_t \\tilde{S}_i$. This term involves derivatives of the metric tensor, and in `GiRaFFE`, we will be storing interpolations of the metric quantities to the cell faces of our grid. This will allow us to save some time in our simulations if we compute the finite differences in a somewhat unusual way. If we do a simple, first-order finite-difference derivative of these interpolations, we can take a derivative with the accuracy of a higher-order stencil but the computational cost of a first-order stencil. To do this, we will create arrays of NRPy+'s `Cparameter`s to pass to the function that will build the RHS, then write the lines of code by hand to compute the derivatives for them. \n",
    "\n",
    "Additionally, we will write this as three similar functions, corresponding to one for each spatial direction in which we take derivatives. "
   ]
  },
  {
   "cell_type": "code",
   "execution_count": 9,
   "metadata": {
    "execution": {
     "iopub.execute_input": "2020-12-17T02:17:53.996950Z",
     "iopub.status.busy": "2020-12-17T02:17:53.996529Z",
     "iopub.status.idle": "2020-12-17T02:17:54.625054Z",
     "shell.execute_reply": "2020-12-17T02:17:54.624497Z"
    }
   },
   "outputs": [
    {
     "name": "stdout",
     "output_type": "stream",
     "text": [
      "Output C function calculate_StildeD0_source_term() to file Validation/source_terms/calculate_StildeD0_source_term.h\n",
      "Output C function calculate_StildeD1_source_term() to file Validation/source_terms/calculate_StildeD1_source_term.h\n",
      "Output C function calculate_StildeD2_source_term() to file Validation/source_terms/calculate_StildeD2_source_term.h\n"
     ]
    }
   ],
   "source": [
    "# Reset gridfunctions to basenames:\n",
    "gammaDD = ixp.declarerank2(\"gammaDD\",\"sym01\",DIM=3)\n",
    "betaU = ixp.declarerank1(\"betaU\",DIM=3)\n",
    "alpha = sp.symbols(\"alpha\",real=True)\n",
    "ValenciavU = ixp.declarerank1(\"ValenciavU\",DIM=3)\n",
    "BU = ixp.declarerank1(\"BU\",DIM=3)\n",
    "AD = ixp.declarerank1(\"AD\",DIM=3)\n",
    "psi6Phi = sp.symbols(\"psi6Phi\",real=True)\n",
    "\n",
    "import GiRaFFE_NRPy.GiRaFFE_NRPy_Source_Terms as source\n",
    "outCparams = \"outCverbose=False,CSE_sorting=none\"\n",
    "source.write_out_functions_for_StildeD_source_term(os.path.join(out_dir,subdir),outCparams,gammaDD,betaU,alpha,\n",
    "                                                   ValenciavU,BU,sqrt4pi)"
   ]
  },
  {
   "cell_type": "markdown",
   "metadata": {},
   "source": [
    "Next, we will write the C function to compute the quantities inside the parentheses for the $A_i$ gauge term and $\\sqrt{\\gamma} \\Phi$ RHS. This needs to be done as a separate step before we compute the contributions to the RHSs themselves in order to fully leverage the automated finite-differencing for these terms. \n",
    "\n",
    "First, we will also want to add Kreiss-Oliger dissipation in order to reduce Gibbs' phenomenon near shocks."
   ]
  },
  {
   "cell_type": "code",
   "execution_count": 10,
   "metadata": {
    "execution": {
     "iopub.execute_input": "2020-12-17T02:17:54.652803Z",
     "iopub.status.busy": "2020-12-17T02:17:54.647207Z",
     "iopub.status.idle": "2020-12-17T02:17:54.727740Z",
     "shell.execute_reply": "2020-12-17T02:17:54.727198Z"
    }
   },
   "outputs": [
    {
     "name": "stdout",
     "output_type": "stream",
     "text": [
      "Output C function calculate_AD_gauge_term_psi6Phi_flux_term_for_RHSs() to file Validation/source_terms/calculate_AD_gauge_term_psi6Phi_flux_term_for_RHSs.h\n"
     ]
    }
   ],
   "source": [
    "PhievolParenU = ixp.register_gridfunctions_for_single_rank1(\"AUXEVOL\",\"PhievolParenU\",DIM=3)\n",
    "AevolParen = gri.register_gridfunctions(\"AUXEVOL\",\"AevolParen\")\n",
    "\n",
    "\n",
    "\n",
    "GRFFE.compute_AD_source_term_operand_for_FD(GRHD.sqrtgammaDET,betaU,alpha,psi6Phi,AD)\n",
    "GRFFE.compute_psi6Phi_rhs_flux_term_operand(gammaDD,GRHD.sqrtgammaDET,betaU,alpha,AD,psi6Phi)\n",
    "\n",
    "parens_to_print = [\\\n",
    "                   lhrh(lhs=gri.gfaccess(\"auxevol_gfs\",\"AevolParen\"),rhs=GRFFE.AevolParen),\\\n",
    "                   lhrh(lhs=gri.gfaccess(\"auxevol_gfs\",\"PhievolParenU0\"),rhs=GRFFE.PhievolParenU[0]),\\\n",
    "                   lhrh(lhs=gri.gfaccess(\"auxevol_gfs\",\"PhievolParenU1\"),rhs=GRFFE.PhievolParenU[1]),\\\n",
    "                   lhrh(lhs=gri.gfaccess(\"auxevol_gfs\",\"PhievolParenU2\"),rhs=GRFFE.PhievolParenU[2]),\\\n",
    "                  ]\n",
    "\n",
    "desc = \"Calculate quantities to be finite-differenced for the GRFFE RHSs\"\n",
    "name = \"calculate_AD_gauge_term_psi6Phi_flux_term_for_RHSs\"\n",
    "outCfunction(\n",
    "    outfile  = os.path.join(out_dir,subdir,name+\".h\"), desc=desc, name=name,\n",
    "    params   =\"const paramstruct *params,REAL *xx[3],const REAL *in_gfs,REAL *auxevol_gfs\",\n",
    "    body     = fin.FD_outputC(\"returnstring\",parens_to_print,params=\"outCverbose=False,CSE_sorting=none\").replace(\"IDX4\",\"IDX4S\"),\n",
    "    loopopts =\"AllPoints\",\n",
    "    rel_path_to_Cparams=os.path.join(\"../\"))\n"
   ]
  },
  {
   "cell_type": "markdown",
   "metadata": {},
   "source": [
    "With these terms computed, we can move on to generating the function that will add to the RHSs. "
   ]
  },
  {
   "cell_type": "code",
   "execution_count": 11,
   "metadata": {
    "execution": {
     "iopub.execute_input": "2020-12-17T02:17:54.755022Z",
     "iopub.status.busy": "2020-12-17T02:17:54.744814Z",
     "iopub.status.idle": "2020-12-17T02:17:54.787884Z",
     "shell.execute_reply": "2020-12-17T02:17:54.787341Z"
    }
   },
   "outputs": [
    {
     "name": "stdout",
     "output_type": "stream",
     "text": [
      "Output C function calculate_AD_gauge_psi6Phi_RHSs() to file Validation/source_terms/calculate_AD_gauge_psi6Phi_RHSs.h\n"
     ]
    }
   ],
   "source": [
    "GRFFE.compute_psi6Phi_rhs_damping_term(alpha,psi6Phi,xi_damping)\n",
    "\n",
    "AevolParen_dD = ixp.declarerank1(\"AevolParen_dD\",DIM=3)\n",
    "PhievolParenU_dD = ixp.declarerank2(\"PhievolParenU_dD\",\"nosym\",DIM=3)\n",
    "\n",
    "A_rhsD = ixp.zerorank1()\n",
    "psi6Phi_rhs = GRFFE.psi6Phi_damping\n",
    "\n",
    "for i in range(3):\n",
    "    A_rhsD[i] += -AevolParen_dD[i]\n",
    "    psi6Phi_rhs += -PhievolParenU_dD[i][i]\n",
    "\n",
    "# Add Kreiss-Oliger dissipation to the GRFFE RHSs:\n",
    "\n",
    "# psi6Phi_dKOD = ixp.declarerank1(\"psi6Phi_dKOD\")\n",
    "# AD_dKOD    = ixp.declarerank2(\"AD_dKOD\",\"nosym\")\n",
    "# for i in range(3):\n",
    "#     psi6Phi_rhs += diss_strength*psi6Phi_dKOD[i]*rfm.ReU[i] # ReU[i] = 1/scalefactor_orthog_funcform[i]\n",
    "#     for j in range(3):\n",
    "#         A_rhsD[j] += diss_strength*AD_dKOD[j][i]*rfm.ReU[i] # ReU[i] = 1/scalefactor_orthog_funcform[i]\n",
    "\n",
    "RHSs_to_print = [\\\n",
    "                 lhrh(lhs=gri.gfaccess(\"rhs_gfs\",\"AD0\"),rhs=A_rhsD[0]),\\\n",
    "                 lhrh(lhs=gri.gfaccess(\"rhs_gfs\",\"AD1\"),rhs=A_rhsD[1]),\\\n",
    "                 lhrh(lhs=gri.gfaccess(\"rhs_gfs\",\"AD2\"),rhs=A_rhsD[2]),\\\n",
    "                 lhrh(lhs=gri.gfaccess(\"rhs_gfs\",\"psi6Phi\"),rhs=psi6Phi_rhs),\\\n",
    "                ]\n",
    "\n",
    "desc = \"Calculate AD gauge term and psi6Phi RHSs\"\n",
    "name = \"calculate_AD_gauge_psi6Phi_RHSs\"\n",
    "outCfunction(\n",
    "    outfile  = os.path.join(out_dir,subdir,name+\".h\"), desc=desc, name=name,\n",
    "    params   =\"const paramstruct *params,REAL *xx[3],const REAL *in_gfs,const REAL *auxevol_gfs,REAL *rhs_gfs\",\n",
    "    body     = fin.FD_outputC(\"returnstring\",RHSs_to_print,params=\"outCverbose=False,CSE_sorting=none\").replace(\"IDX4\",\"IDX4S\"),\n",
    "    loopopts =\"InteriorPoints\",\n",
    "    rel_path_to_Cparams=os.path.join(\"../\"))\n"
   ]
  },
  {
   "cell_type": "markdown",
   "metadata": {},
   "source": [
    "<a id='free_parameters'></a>\n",
    "\n",
    "## Step 1.f: Set free parameters in the code and generate other functions \\[Back to [top](#toc)\\]\n",
    "$$\\label{free_parameters}$$\n",
    "\n",
    "We also need to create the files that interact with NRPy's C parameter interface. "
   ]
  },
  {
   "cell_type": "code",
   "execution_count": 12,
   "metadata": {
    "execution": {
     "iopub.execute_input": "2020-12-17T02:17:54.791020Z",
     "iopub.status.busy": "2020-12-17T02:17:54.790486Z",
     "iopub.status.idle": "2020-12-17T02:17:54.792926Z",
     "shell.execute_reply": "2020-12-17T02:17:54.792433Z"
    }
   },
   "outputs": [],
   "source": [
    "# Step 3.d.i: Generate declare_Cparameters_struct.h, set_Cparameters_default.h, and set_Cparameters[-SIMD].h\n",
    "# par.generate_Cparameters_Ccodes(os.path.join(out_dir))\n",
    "\n",
    "# Step 3.d.ii: Set free_parameters.h\n",
    "with open(os.path.join(out_dir,\"free_parameters.h\"),\"w\") as file:\n",
    "    file.write(\"\"\"\n",
    "// Override parameter defaults with values based on command line arguments and NGHOSTS.\n",
    "params.Nxx0 = atoi(argv[1]);\n",
    "params.Nxx1 = atoi(argv[2]);\n",
    "params.Nxx2 = atoi(argv[3]);\n",
    "params.Nxx_plus_2NGHOSTS0 = params.Nxx0 + 2*NGHOSTS;\n",
    "params.Nxx_plus_2NGHOSTS1 = params.Nxx1 + 2*NGHOSTS;\n",
    "params.Nxx_plus_2NGHOSTS2 = params.Nxx2 + 2*NGHOSTS;\n",
    "// Step 0d: Set up space and time coordinates\n",
    "// Step 0d.i: Declare \\Delta x^i=dxx{0,1,2} and invdxx{0,1,2}, as well as xxmin[3] and xxmax[3]:\n",
    "const REAL xxmin[3] = {-0.2,-0.2,-0.2};\n",
    "const REAL xxmax[3] = { 0.2, 0.2, 0.2};\n",
    "\n",
    "params.dxx0 = (xxmax[0] - xxmin[0]) / ((REAL)params.Nxx0);\n",
    "params.dxx1 = (xxmax[1] - xxmin[1]) / ((REAL)params.Nxx1);\n",
    "params.dxx2 = (xxmax[2] - xxmin[2]) / ((REAL)params.Nxx2);\n",
    "printf(\"dxx0,dxx1,dxx2 = %.5e,%.5e,%.5e\\\\n\",params.dxx0,params.dxx1,params.dxx2);\n",
    "params.invdx0 = 1.0 / params.dxx0;\n",
    "params.invdx1 = 1.0 / params.dxx1;\n",
    "params.invdx2 = 1.0 / params.dxx2;\n",
    "\\n\"\"\")\n",
    "\n",
    "# Generates declare_Cparameters_struct.h, set_Cparameters_default.h, and set_Cparameters[-SIMD].h\n",
    "par.generate_Cparameters_Ccodes(os.path.join(out_dir))"
   ]
  },
  {
   "cell_type": "markdown",
   "metadata": {},
   "source": [
    "Also, we need to run the function that will create C code to calculate the metric face values for the $\\tilde{S}_i source term."
   ]
  },
  {
   "cell_type": "code",
   "execution_count": 13,
   "metadata": {
    "execution": {
     "iopub.execute_input": "2020-12-17T02:17:54.795325Z",
     "iopub.status.busy": "2020-12-17T02:17:54.794908Z",
     "iopub.status.idle": "2020-12-17T02:17:54.796724Z",
     "shell.execute_reply": "2020-12-17T02:17:54.797136Z"
    }
   },
   "outputs": [],
   "source": [
    "import GiRaFFE_NRPy.GiRaFFE_NRPy_Metric_Face_Values as FCVAL\n",
    "FCVAL.GiRaFFE_NRPy_FCVAL(os.path.join(out_dir,subdir))"
   ]
  },
  {
   "cell_type": "markdown",
   "metadata": {},
   "source": [
    "<a id='mainc'></a>\n",
    "\n",
    "# Step 2: `Stilde_source_A_gauge_Phi_rhs_unit_test.c`: The Main C Code \\[Back to [top](#toc)\\]\n",
    "$$\\label{mainc}$$\n"
   ]
  },
  {
   "cell_type": "code",
   "execution_count": 14,
   "metadata": {
    "execution": {
     "iopub.execute_input": "2020-12-17T02:17:54.801374Z",
     "iopub.status.busy": "2020-12-17T02:17:54.800922Z",
     "iopub.status.idle": "2020-12-17T02:17:54.803475Z",
     "shell.execute_reply": "2020-12-17T02:17:54.803121Z"
    }
   },
   "outputs": [
    {
     "name": "stdout",
     "output_type": "stream",
     "text": [
      "Writing Validation//Stilde_source_A_gauge_Phi_rhs_unit_test.c\n"
     ]
    }
   ],
   "source": [
    "%%writefile $out_dir/Stilde_source_A_gauge_Phi_rhs_unit_test.c\n",
    "// These are common packages that we are likely to need.\n",
    "#include \"stdio.h\"\n",
    "#include \"stdlib.h\"\n",
    "#include \"math.h\"\n",
    "#include \"string.h\" // Needed for strncmp, etc.\n",
    "#include \"stdint.h\" // Needed for Windows GCC 6.x compatibility\n",
    "#include <time.h>   // Needed to set a random seed.\n",
    "\n",
    "#define REAL double\n",
    "#include \"declare_Cparameters_struct.h\"\n",
    "\n",
    "const int NGHOSTS = 3;\n",
    "\n",
    "REAL a,b,c,d,e,f,g,h,l,m,n,o,p,q,r,s,t,u;\n",
    "\n",
    "// Standard NRPy+ memory access:\n",
    "#define IDX4S(g,i,j,k) \\\n",
    "( (i) + Nxx_plus_2NGHOSTS0 * ( (j) + Nxx_plus_2NGHOSTS1 * ( (k) + Nxx_plus_2NGHOSTS2 * (g) ) ) )\n",
    "\n",
    "const int kronecker_delta[4][3] = { { 0,0,0 },\n",
    "                                    { 1,0,0 },\n",
    "                                    { 0,1,0 },\n",
    "                                    { 0,0,1 } };\n",
    "\n",
    "// Give gridfunctions their names:\n",
    "#define GAMMADD00GF 0\n",
    "#define GAMMADD01GF 1\n",
    "#define GAMMADD02GF 2\n",
    "#define GAMMADD11GF 3\n",
    "#define GAMMADD12GF 4\n",
    "#define GAMMADD22GF 5\n",
    "#define BETAU0GF 6\n",
    "#define BETAU1GF 7\n",
    "#define BETAU2GF 8\n",
    "#define ALPHAGF 9\n",
    "#define GAMMA_FACEDD00GF 10\n",
    "#define GAMMA_FACEDD01GF 11\n",
    "#define GAMMA_FACEDD02GF 12\n",
    "#define GAMMA_FACEDD11GF 13\n",
    "#define GAMMA_FACEDD12GF 14\n",
    "#define GAMMA_FACEDD22GF 15\n",
    "#define BETA_FACEU0GF 16\n",
    "#define BETA_FACEU1GF 17\n",
    "#define BETA_FACEU2GF 18\n",
    "#define ALPHA_FACEGF 19\n",
    "#define VALENCIAVU0GF 20\n",
    "#define VALENCIAVU1GF 21\n",
    "#define VALENCIAVU2GF 22\n",
    "#define BU0GF 23\n",
    "#define BU1GF 24\n",
    "#define BU2GF 25\n",
    "#define AEVOLPARENGF 26\n",
    "#define PHIEVOLPARENU0GF 27\n",
    "#define PHIEVOLPARENU1GF 28\n",
    "#define PHIEVOLPARENU2GF 29\n",
    "#define GAMMAUU00GF 30\n",
    "#define GAMMAUU01GF 31\n",
    "#define GAMMAUU02GF 32\n",
    "#define GAMMAUU11GF 33\n",
    "#define GAMMAUU12GF 34\n",
    "#define GAMMAUU22GF 35\n",
    "#define GAMMA_FACEUU00GF 36\n",
    "#define GAMMA_FACEUU01GF 37\n",
    "#define GAMMA_FACEUU02GF 38\n",
    "#define GAMMA_FACEUU11GF 39\n",
    "#define GAMMA_FACEUU12GF 40\n",
    "#define GAMMA_FACEUU22GF 41\n",
    "#define NUM_AUXEVOL_GFS 42\n",
    "\n",
    "#define AD0GF 0\n",
    "#define AD1GF 1\n",
    "#define AD2GF 2\n",
    "#define STILDED0GF 3\n",
    "#define STILDED1GF 4\n",
    "#define STILDED2GF 5\n",
    "#define PSI6PHIGF 6\n",
    "#define NUM_EVOL_GFS 7\n",
    "\n",
    "#include \"calculate_metric_gfs.h\"\n",
    "#include \"calculate_BU_AD_psi6Phi.h\"\n",
    "#include \"calculate_ValenciavU.h\"\n",
    "#include \"calculate_analytic_RHSs.h\"\n",
    "#include \"source_terms/interpolate_metric_gfs_to_cell_faces.h\"\n",
    "#include \"source_terms/calculate_StildeD0_source_term.h\"\n",
    "#include \"source_terms/calculate_StildeD1_source_term.h\"\n",
    "#include \"source_terms/calculate_StildeD2_source_term.h\"\n",
    "#include \"source_terms/calculate_AD_gauge_term_psi6Phi_flux_term_for_RHSs.h\"\n",
    "#include \"source_terms/calculate_AD_gauge_psi6Phi_RHSs.h\"\n",
    "\n",
    "int main(int argc, const char *argv[]) {\n",
    "    paramstruct params;\n",
    "#include \"set_Cparameters_default.h\"\n",
    "\n",
    "    // Step 0c: Set free parameters, overwriting Cparameters defaults\n",
    "    //          by hand or with command-line input, as desired.\n",
    "#include \"free_parameters.h\"\n",
    "#include \"set_Cparameters-nopointer.h\"\n",
    "\n",
    "    // Step 0e: Set up cell-centered Cartesian coordinate grids\n",
    "    REAL *xx[3];\n",
    "    xx[0] = (REAL *)malloc(sizeof(REAL)*Nxx_plus_2NGHOSTS0);\n",
    "    xx[1] = (REAL *)malloc(sizeof(REAL)*Nxx_plus_2NGHOSTS1);\n",
    "    xx[2] = (REAL *)malloc(sizeof(REAL)*Nxx_plus_2NGHOSTS2);\n",
    "    for(int j=0;j<Nxx_plus_2NGHOSTS0;j++) xx[0][j] = xxmin[0] + (j-NGHOSTS)*dxx0;\n",
    "    for(int j=0;j<Nxx_plus_2NGHOSTS1;j++) xx[1][j] = xxmin[1] + (j-NGHOSTS)*dxx1;\n",
    "    for(int j=0;j<Nxx_plus_2NGHOSTS2;j++) xx[2][j] = xxmin[2] + (j-NGHOSTS)*dxx2;\n",
    "\n",
    "    for(int i=0;i<Nxx_plus_2NGHOSTS0;i++) printf(\"xx[0][%d] = %.15e\\n\",i,xx[0][i]);\n",
    "\n",
    "    // This is the array to which we'll write the NRPy+ variables.\n",
    "    REAL *auxevol_gfs  = (REAL *)malloc(sizeof(REAL) * NUM_AUXEVOL_GFS * Nxx_plus_2NGHOSTS2 * Nxx_plus_2NGHOSTS1 * Nxx_plus_2NGHOSTS0);\n",
    "    REAL *evol_gfs  = (REAL *)malloc(sizeof(REAL) * NUM_EVOL_GFS * Nxx_plus_2NGHOSTS2 * Nxx_plus_2NGHOSTS1 * Nxx_plus_2NGHOSTS0);\n",
    "    REAL *rhs_gfs  = (REAL *)malloc(sizeof(REAL) * NUM_EVOL_GFS * Nxx_plus_2NGHOSTS2 * Nxx_plus_2NGHOSTS1 * Nxx_plus_2NGHOSTS0);\n",
    "    // And another for exact data:\n",
    "    REAL *rhs_exact_gfs  = (REAL *)malloc(sizeof(REAL) * NUM_EVOL_GFS * Nxx_plus_2NGHOSTS2 * Nxx_plus_2NGHOSTS1 * Nxx_plus_2NGHOSTS0);\n",
    "\n",
    "    // Generate some random coefficients. Leave the random seed on its default for consistency between trials.\n",
    "    a = (double)(rand()%20)/5.0;\n",
    "    f = (double)(rand()%20)/5.0;\n",
    "    m = (double)(rand()%20)/5.0;\n",
    "    b = (double)(rand()%10-5)/100.0;\n",
    "    c = (double)(rand()%10-5)/100.0;\n",
    "    d = (double)(rand()%10-5)/100.0;\n",
    "    g = (double)(rand()%10-5)/100.0;\n",
    "    h = (double)(rand()%10-5)/100.0;\n",
    "    l = (double)(rand()%10-5)/100.0;\n",
    "    n = (double)(rand()%10-5)/100.0;\n",
    "    o = (double)(rand()%10-5)/100.0;\n",
    "    p = (double)(rand()%10-5)/100.0;\n",
    "    q = (double)(rand()%10-5)/100.0;\n",
    "    r = (double)(rand()%10-5)/100.0;\n",
    "    s = (double)(rand()%10-5)/100.0;\n",
    "    t = (double)(rand()%10-5)/100.0;\n",
    "    u = (double)(rand()%10-5)/100.0;\n",
    "\n",
    "    // First, calculate the test data on our grid:\n",
    "    calculate_metric_gfs(&params,xx,auxevol_gfs);\n",
    "    calculate_BU_AD_psi6Phi(&params,xx,auxevol_gfs,evol_gfs);\n",
    "    calculate_ValenciavU(&params,xx,auxevol_gfs);\n",
    "    calculate_analytic_RHSs(&params,xx,rhs_exact_gfs);\n",
    "    // Now, run our function:\n",
    "    int flux_dirn = 0;\n",
    "    interpolate_metric_gfs_to_cell_faces(&params,auxevol_gfs,flux_dirn+1);\n",
    "    calculate_StildeD0_source_term(&params,auxevol_gfs,rhs_gfs);\n",
    "    flux_dirn = 1;\n",
    "    interpolate_metric_gfs_to_cell_faces(&params,auxevol_gfs,flux_dirn+1);\n",
    "    calculate_StildeD1_source_term(&params,auxevol_gfs,rhs_gfs);\n",
    "    flux_dirn = 2;\n",
    "    interpolate_metric_gfs_to_cell_faces(&params,auxevol_gfs,flux_dirn+1);\n",
    "    calculate_StildeD2_source_term(&params,auxevol_gfs,rhs_gfs);\n",
    "    calculate_AD_gauge_term_psi6Phi_flux_term_for_RHSs(&params,xx,evol_gfs,auxevol_gfs);\n",
    "    calculate_AD_gauge_psi6Phi_RHSs(&params,xx,evol_gfs,auxevol_gfs,rhs_gfs);\n",
    "    /*printf(\"Exact: Stilde_rhsD: %.15e,%.15e,%.15e\\n\",rhs_exact_gfs[IDX4S(STILDED0GF,4,4,4)],rhs_exact_gfs[IDX4S(STILDED1GF,4,4,4)],rhs_exact_gfs[IDX4S(STILDED2GF,4,4,4)]);\n",
    "    printf(\"Numer: Stilde_rhsD: %.15e,%.15e,%.15e\\n\",rhs_gfs[IDX4S(STILDED0GF,4,4,4)],rhs_gfs[IDX4S(STILDED1GF,4,4,4)],rhs_gfs[IDX4S(STILDED2GF,4,4,4)]);\n",
    "    printf(\"Exact: A_rhsD: %.15e,%.15e,%.15e\\n\",rhs_exact_gfs[IDX4S(AD0GF,4,4,4)],rhs_exact_gfs[IDX4S(AD1GF,4,4,4)],rhs_exact_gfs[IDX4S(AD2GF,4,4,4)]);\n",
    "    printf(\"Numer: A_rhsD: %.15e,%.15e,%.15e\\n\",rhs_gfs[IDX4S(AD0GF,4,4,4)],rhs_gfs[IDX4S(AD1GF,4,4,4)],rhs_gfs[IDX4S(AD2GF,4,4,4)]);\n",
    "    printf(\"Exact: psi6Phi_rhs: %.15e\\n\",rhs_exact_gfs[IDX4S(PSI6PHIGF,4,4,4)]);\n",
    "    printf(\"Numer: psi6Phi_rhs: %.15e\\n\",rhs_gfs[IDX4S(PSI6PHIGF,4,4,4)]);*/\n",
    "\n",
    "    char filename[100];\n",
    "    sprintf(filename,\"out%d-numer.txt\",Nxx0);\n",
    "    FILE *out2D = fopen(filename, \"w\");\n",
    "    // We print the difference between approximate and exact numbers.\n",
    "    int i0 = Nxx_plus_2NGHOSTS0/2;\n",
    "    int i1 = Nxx_plus_2NGHOSTS1/2;\n",
    "    int i2 = Nxx_plus_2NGHOSTS2/2;\n",
    "    fprintf(out2D,\"%.16e\\t%.16e\\t%.16e\\t%.16e\\t%.16e\\t%.16e\\t%.16e\\t %e %e %e\\n\",\n",
    "            rhs_exact_gfs[IDX4S(STILDED0GF,i0,i1,i2)]-rhs_gfs[IDX4S(STILDED0GF,i0,i1,i2)],\n",
    "            rhs_exact_gfs[IDX4S(STILDED1GF,i0,i1,i2)]-rhs_gfs[IDX4S(STILDED1GF,i0,i1,i2)],\n",
    "            rhs_exact_gfs[IDX4S(STILDED2GF,i0,i1,i2)]-rhs_gfs[IDX4S(STILDED2GF,i0,i1,i2)],\n",
    "            rhs_exact_gfs[IDX4S(AD0GF,i0,i1,i2)]-rhs_gfs[IDX4S(AD0GF,i0,i1,i2)],\n",
    "            rhs_exact_gfs[IDX4S(AD1GF,i0,i1,i2)]-rhs_gfs[IDX4S(AD1GF,i0,i1,i2)],\n",
    "            rhs_exact_gfs[IDX4S(AD2GF,i0,i1,i2)]-rhs_gfs[IDX4S(AD2GF,i0,i1,i2)],\n",
    "            rhs_exact_gfs[IDX4S(PSI6PHIGF,i0,i1,i2)]-rhs_gfs[IDX4S(PSI6PHIGF,i0,i1,i2)],\n",
    "            xx[0][i0],xx[1][i1],xx[2][i2]\n",
    "            );\n",
    "    fclose(out2D);\n",
    "}"
   ]
  },
  {
   "cell_type": "markdown",
   "metadata": {},
   "source": [
    "<a id='compile_run'></a>\n",
    "\n",
    "## Step 2.a: Compile and run the code \\[Back to [top](#toc)\\]\n",
    "$$\\label{compile_run}$$\n",
    "\n",
    "Now that we have our file, we can compile it and run the executable."
   ]
  },
  {
   "cell_type": "code",
   "execution_count": 15,
   "metadata": {
    "execution": {
     "iopub.execute_input": "2020-12-17T02:17:54.809579Z",
     "iopub.status.busy": "2020-12-17T02:17:54.809169Z",
     "iopub.status.idle": "2020-12-17T02:17:56.061662Z",
     "shell.execute_reply": "2020-12-17T02:17:56.062006Z"
    }
   },
   "outputs": [
    {
     "name": "stdout",
     "output_type": "stream",
     "text": [
      "Now compiling, should take ~2 seconds...\n",
      "\n",
      "Compiling executable...\n",
      "(EXEC): Executing `gcc -Ofast -fopenmp -march=native -funroll-loops Validation/Stilde_source_A_gauge_Phi_rhs_unit_test.c -o Validation/Stilde_source_A_gauge_Phi_rhs_unit_test -lm`...\n",
      "(BENCH): Finished executing in 0.8108372688293457 seconds.\n",
      "Finished compilation.\n",
      "Finished in 0.8203225135803223 seconds.\n",
      "\n",
      "\n",
      "Now running...\n",
      "\n",
      "(EXEC): Executing `taskset -c 0,1,2,3,4,5,6,7,8,9,10,11,12,13,14,15 ./Validation/Stilde_source_A_gauge_Phi_rhs_unit_test 2 2 2`...\n",
      "(BENCH): Finished executing in 0.20926523208618164 seconds.\n",
      "(EXEC): Executing `taskset -c 0,1,2,3,4,5,6,7,8,9,10,11,12,13,14,15 ./Validation/Stilde_source_A_gauge_Phi_rhs_unit_test 4 4 4`...\n",
      "(BENCH): Finished executing in 0.20845723152160645 seconds.\n",
      "Finished in 0.4311966896057129 seconds.\n",
      "\n",
      "\n"
     ]
    }
   ],
   "source": [
    "import time\n",
    "\n",
    "print(\"Now compiling, should take ~2 seconds...\\n\")\n",
    "start = time.time()\n",
    "cmd.C_compile(os.path.join(out_dir,\"Stilde_source_A_gauge_Phi_rhs_unit_test.c\"), os.path.join(out_dir,\"Stilde_source_A_gauge_Phi_rhs_unit_test\"))\n",
    "end = time.time()\n",
    "print(\"Finished in \"+str(end-start)+\" seconds.\\n\\n\")\n",
    "\n",
    "print(\"Now running...\\n\")\n",
    "start = time.time()\n",
    "cmd.Execute(os.path.join(\"Validation\",\"Stilde_source_A_gauge_Phi_rhs_unit_test\"), \"2 2 2\")\n",
    "# To do a convergence test, we'll also need a second grid with twice the resolution.\n",
    "cmd.Execute(os.path.join(\"Validation\",\"Stilde_source_A_gauge_Phi_rhs_unit_test\"), \"4 4 4\")\n",
    "end = time.time()\n",
    "print(\"Finished in \"+str(end-start)+\" seconds.\\n\\n\")\n"
   ]
  },
  {
   "cell_type": "markdown",
   "metadata": {},
   "source": [
    "<a id='convergence'></a>\n",
    "\n",
    "# Step 3: Code validation: Verify that relative error in numerical solution converges to zero at the expected order \\[Back to [top](#toc)\\]\n",
    "$$\\label{convergence}$$\n",
    "\n",
    "For testing purposes, we have only checked these algorithms on a small grid. By construction, we have only guaranteed ourselves output from the functions we are testing at a point, so we will simply print the convergence order at that point after processing our outputs below. "
   ]
  },
  {
   "cell_type": "code",
   "execution_count": 16,
   "metadata": {
    "execution": {
     "iopub.execute_input": "2020-12-17T02:17:56.069751Z",
     "iopub.status.busy": "2020-12-17T02:17:56.069184Z",
     "iopub.status.idle": "2020-12-17T02:17:56.272319Z",
     "shell.execute_reply": "2020-12-17T02:17:56.272760Z"
    }
   },
   "outputs": [
    {
     "name": "stdout",
     "output_type": "stream",
     "text": [
      "PASS: Stilde_rhsD0 has convergence order of 2.033176604710238\n",
      "PASS: Stilde_rhsD1 has convergence order of 1.7295387454228648\n",
      "PASS: Stilde_rhsD2 has convergence order of 2.2816796609029266\n",
      "PASS: A_rhsD0 has convergence order of 1.9883658746309683\n",
      "PASS: A_rhsD1 has convergence order of 1.9937273134938553\n",
      "PASS: A_rhsD2 has convergence order of 2.002283802631376\n",
      "PASS: psi6Phi_rhs has convergence order of 1.9752724953845153\n"
     ]
    }
   ],
   "source": [
    "import numpy as np\n",
    "import matplotlib.pyplot as plt\n",
    "\n",
    "Data1 = np.loadtxt(\"out2-numer.txt\")\n",
    "Data2 = np.loadtxt(\"out4-numer.txt\")\n",
    "\n",
    "\n",
    "# print(\"The following quantities converge at the listed order (should be ~2):\")\n",
    "\n",
    "conv_order_min = 1.7\n",
    "conv_order_max = 3.0\n",
    "\n",
    "def check_conv_order(description,conv_order):\n",
    "    if conv_order < conv_order_min or conv_order > conv_order_max:\n",
    "        print(\"ERROR: convergence order of \"+description+\" was too large: \"+str(conv_order))\n",
    "        sys.exit(1)\n",
    "    print(\"PASS: \"+description+\" has convergence order of \"+str(conv_order))\n",
    "\n",
    "check_conv_order(\"Stilde_rhsD0\", np.log2(np.abs((Data1[0])/(Data2[0]))))\n",
    "check_conv_order(\"Stilde_rhsD1\", np.log2(np.abs((Data1[1])/(Data2[1]))))\n",
    "check_conv_order(\"Stilde_rhsD2\", np.log2(np.abs((Data1[2])/(Data2[2]))))\n",
    "check_conv_order(\"A_rhsD0\", np.log2(np.abs((Data1[3])/(Data2[3]))))\n",
    "check_conv_order(\"A_rhsD1\", np.log2(np.abs((Data1[4])/(Data2[4]))))\n",
    "check_conv_order(\"A_rhsD2\", np.log2(np.abs((Data1[5])/(Data2[5]))))\n",
    "check_conv_order(\"psi6Phi_rhs\", np.log2(np.abs((Data1[6])/(Data2[6]))))"
   ]
  },
  {
   "cell_type": "markdown",
   "metadata": {},
   "source": [
    "<a id='latex_pdf_output'></a>\n",
    "\n",
    "# Step 4: Output this notebook to $\\LaTeX$-formatted PDF file \\[Back to [top](#toc)\\]\n",
    "$$\\label{latex_pdf_output}$$\n",
    "\n",
    "The following code cell converts this Jupyter notebook into a proper, clickable $\\LaTeX$-formatted PDF file. After the cell is successfully run, the generated PDF may be found in the root NRPy+ tutorial directory, with filename\n",
    "[Tutorial-Start_to_Finish_UnitTest-GiRaFFE_NRPy-Source_Terms.pdf](Tutorial-Start_to_Finish_UnitTest-GiRaFFE_NRPy-Source_Terms.pdf) (Note that clicking on this link may not work; you may need to open the PDF file through another means.)"
   ]
  },
  {
   "cell_type": "code",
   "execution_count": 17,
   "metadata": {
    "execution": {
     "iopub.execute_input": "2020-12-17T02:17:56.275527Z",
     "iopub.status.busy": "2020-12-17T02:17:56.275001Z",
     "iopub.status.idle": "2020-12-17T02:17:59.335706Z",
     "shell.execute_reply": "2020-12-17T02:17:59.336141Z"
    }
   },
   "outputs": [
    {
     "name": "stdout",
     "output_type": "stream",
     "text": [
      "Created Tutorial-Start_to_Finish_UnitTest-GiRaFFE_NRPy-Source_Terms.tex,\n",
      "    and compiled LaTeX file to PDF file Tutorial-Start_to_Finish_UnitTest-\n",
      "    GiRaFFE_NRPy-Source_Terms.pdf\n"
     ]
    }
   ],
   "source": [
    "import cmdline_helper as cmd    # NRPy+: Multi-platform Python command-line interface\n",
    "cmd.output_Jupyter_notebook_to_LaTeXed_PDF(\"Tutorial-Start_to_Finish_UnitTest-GiRaFFE_NRPy-Source_Terms\",location_of_template_file=os.path.join(\"..\"))"
   ]
  }
 ],
 "metadata": {
  "kernelspec": {
   "display_name": "Python 3",
   "language": "python",
   "name": "python3"
  },
  "language_info": {
   "codemirror_mode": {
    "name": "ipython",
    "version": 3
   },
   "file_extension": ".py",
   "mimetype": "text/x-python",
   "name": "python",
   "nbconvert_exporter": "python",
   "pygments_lexer": "ipython3",
   "version": "3.9.1"
  }
 },
 "nbformat": 4,
 "nbformat_minor": 2
}
