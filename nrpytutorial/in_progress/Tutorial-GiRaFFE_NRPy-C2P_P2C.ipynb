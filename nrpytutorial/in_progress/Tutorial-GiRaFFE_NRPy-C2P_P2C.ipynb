{
 "cells": [
  {
   "cell_type": "markdown",
   "metadata": {},
   "source": [
    "<script async src=\"https://www.googletagmanager.com/gtag/js?id=UA-59152712-8\"></script>\n",
    "<script>\n",
    "  window.dataLayer = window.dataLayer || [];\n",
    "  function gtag(){dataLayer.push(arguments);}\n",
    "  gtag('js', new Date());\n",
    "\n",
    "  gtag('config', 'UA-59152712-8');\n",
    "</script>\n",
    "\n",
    "# `GiRaFFE_NRPy` C code library: Conservative-to-Primitive and Primitive-to-Conservative Solvers\n",
    "\n",
    "## Author: Patrick Nelson\n",
    "\n",
    "<a id='intro'></a>\n",
    "\n",
    "**Notebook Status:** <font color=Green><b> Validated </b></font>\n",
    "\n",
    "**Validation Notes:** These functions have been validated to round-off precision against the coresponding functions in the original `GiRaFFE`.\n",
    "\n",
    "### NRPy+ Source Code for this module: \n",
    "* [GiRaFFE_NRPy/GiRaFFE_NRPy_C2P_P2C.py](../../edit/in_progress/GiRaFFE_NRPy/GiRaFFE_NRPy_C2P_P2C.py)\n",
    "\n",
    "## Introduction:\n",
    "This writes and documents the C code that `GiRaFFE_NRPy` uses in order to update the Valencia 3-velocity at each timestep. It also computes corrections to the densitized Poynting flux in order to keep the physical quantities from violating the GRFFE constraints. \n",
    "\n",
    "These algorithms are adapted from the original `GiRaFFE` code (see [arxiv:1704.00599v2](https://arxiv.org/abs/1704.00599v2)), based on the description in [arXiv:1310.3274v2](https://arxiv.org/abs/1310.3274v2). They have been fully NRPyfied and modified to use the Valencia 3-velocity instead of the drift velocity.\n",
    "\n",
    "The algorithm to do this is as follows:\n",
    "1. Apply fixes to ${\\tilde S}_i$\n",
    "    1. Enforce the orthogonality of ${\\tilde S}_i$ and $B^i$\n",
    "        1. ${\\tilde S}_i \\rightarrow {\\tilde S}_i - ({\\tilde S}_j {\\tilde B}^j) {\\tilde B}_i/{\\tilde B}^2$\n",
    "    1. Rescale ${\\tilde S}_i$ to limit the Lorentz factor and enforce the velocity cap\n",
    "        1. $f = \\sqrt{(1-\\gamma_{\\max}^{-2}){\\tilde B}^4/(16 \\pi^2 \\gamma {\\tilde S}^2)}$ \n",
    "        1. ${\\tilde S}_i \\rightarrow {\\tilde S}_i \\min(1,f)$\n",
    "    1. Recompute the velocities at the new timestep\n",
    "        1. $v^i = 4 \\pi \\gamma^{ij} {\\tilde S}_j \\gamma^{-1/2} B^{-2}$\n",
    "1. Enforce the Current Sheet prescription\n",
    "    1. Zero the velocity normal to the sheet\n",
    "        1. ${\\tilde n}_i v^i = 0$\n",
    "    1. Recompute the Poynting flux to be consistent.\n",
    "    \n",
    "Each of these steps can be toggled on/off by changing the following NRPy+ parameters, specified in the python module:\n",
    "```python\n",
    "par.initialize_param(par.glb_param(type=\"bool\", module=thismodule, parname=\"enforce_orthogonality_StildeD_BtildeU\", defaultval=True))\n",
    "par.initialize_param(par.glb_param(type=\"bool\", module=thismodule, parname=\"enforce_speed_limit_StildeD\", defaultval=True))\n",
    "par.initialize_param(par.glb_param(type=\"bool\", module=thismodule, parname=\"enforce_current_sheet_prescription\", defaultval=True))\n",
    "```"
   ]
  },
  {
   "cell_type": "markdown",
   "metadata": {},
   "source": [
    "<a id='toc'></a>\n",
    "\n",
    "# Table of Contents\n",
    "$$\\label{toc}$$\n",
    "\n",
    "This notebook is organized as follows\n",
    "\n",
    "1. [Step 1](#c2p): The conservative-to-primitive solver\n",
    "    1. [Step 1.a](#ortho_s_b): Enforce the orthogonality of $\\tilde{S}_i$ and $B^i$\n",
    "    1. [Step 1.b](#vel_cap): Rescale ${\\tilde S}_i$ to limit the Lorentz factor and enforce the velocity cap\n",
    "    1. [Step 1.c](#update_vel): Recompute the velocities at the new timestep\n",
    "    1. [Step 1.d](#current_sheet): Enforce the Current Sheet prescription\n",
    "1. [Step 2](#p2c): The primitive-to-conservative solver\n",
    "1. [Step 3](#code_validation): Code Validation against \n",
    "1. [Step 4](#latex_pdf_output): Output this notebook to $\\LaTeX$-formatted PDF file"
   ]
  },
  {
   "cell_type": "code",
   "execution_count": 1,
   "metadata": {},
   "outputs": [],
   "source": [
    "# Step 0: Add NRPy's directory to the path\n",
    "# https://stackoverflow.com/questions/16780014/import-file-from-parent-directory\n",
    "import os,sys\n",
    "nrpy_dir_path = os.path.join(\"..\")\n",
    "if nrpy_dir_path not in sys.path:\n",
    "    sys.path.append(nrpy_dir_path)\n",
    "\n",
    "import os\n",
    "import cmdline_helper as cmd\n",
    "outdir = \"GiRaFFE_NRPy/GiRaFFE_Ccode_validation/\"\n",
    "cmd.mkdir(outdir)"
   ]
  },
  {
   "cell_type": "markdown",
   "metadata": {},
   "source": [
    "<a id='c2p'></a>\n",
    "\n",
    "# Step 1: The conservative-to-primitive solver \\[Back to [top](#toc)\\]\n",
    "$$\\label{c2p}$$\n",
    "\n",
    "We start with the Conservative-to-Primitive solver. This function is called after the vector potential and Poynting vector have been evolved at a timestep and updates the velocities. The algorithm will be as follows: \n",
    "\n",
    "1. Apply fixes to ${\\tilde S}_i$\n",
    "    1. Enforce the orthogonality of ${\\tilde S}_i$ and $B^i$\n",
    "        1. ${\\tilde S}_i \\rightarrow {\\tilde S}_i - ({\\tilde S}_j {\\tilde B}^j) {\\tilde B}_i/{\\tilde B}^2$\n",
    "    1. Rescale ${\\tilde S}_i$ to limit the Lorentz factor and enforce the velocity cap\n",
    "        1. $f = \\sqrt{(1-\\gamma_{\\max}^{-2}){\\tilde B}^4/(16 \\pi^2 \\gamma {\\tilde S}^2)}$ \n",
    "        1. ${\\tilde S}_i \\rightarrow {\\tilde S}_i \\min(1,f)$\n",
    "    1. Recompute the velocities at the new timestep\n",
    "        1. $v^i = 4 \\pi \\gamma^{ij} {\\tilde S}_j \\gamma^{-1/2} B^{-2}$\n",
    "1. Enforce the Current Sheet prescription\n",
    "    1. ${\\tilde n}_i v^i = 0$"
   ]
  },
  {
   "cell_type": "code",
   "execution_count": 2,
   "metadata": {},
   "outputs": [],
   "source": [
    "from outputC import nrpyAbs      # NRPy+: Core C code output module\n",
    "import sympy as sp               # SymPy: The Python computer algebra package upon which NRPy+ depends\n",
    "import NRPy_param_funcs as par   # NRPy+: Parameter interface\n",
    "import grid as gri               # NRPy+: Functions having to do with numerical grids\n",
    "import indexedexp as ixp         # NRPy+: Symbolic indexed expression (e.g., tensors, vectors, etc.) support\n",
    "import reference_metric as rfm   # NRPy+: Reference metric support\n",
    "import GRHD.equations as GRHD    # NRPy+: Generate general relativistic hydrodynamics equations\n",
    "import GRFFE.equations as GRFFE  # NRPy+: Generate general relativisitic force-free electrodynamics equations\n",
    "import GiRaFFE_NRPy.GiRaFFE_NRPy_C2P_P2C as C2P_P2C\n",
    "\n",
    "thismodule = \"GiRaFFE_NRPy-C2P_P2C\"\n",
    "\n",
    "# There are several C parameters that we will need in this module:\n",
    "M_PI  = par.Cparameters(\"#define\",thismodule,[\"M_PI\"], \"\")\n",
    "GAMMA_SPEED_LIMIT = par.Cparameters(\"REAL\",thismodule,\"GAMMA_SPEED_LIMIT\",10.0) # Default value based on\n",
    "                                                                                # IllinoisGRMHD.\n",
    "                                                                                # GiRaFFE default = 2000.0\n",
    "\n",
    "gammaDD = ixp.declarerank2(\"gammaDD\",\"sym01\")\n",
    "betaU = ixp.declarerank1(\"betaU\")\n",
    "StildeD = ixp.declarerank1(\"StildeD\")\n",
    "BU = ixp.declarerank1(\"BU\")\n",
    "alpha = sp.symbols('alpha',real=True)\n",
    "sqrt4pi = sp.symbols('sqrt4pi', real=True)\n",
    "ValenciavU = ixp.declarerank1(\"ValenciavU\")\n",
    "\n",
    "GRHD.compute_sqrtgammaDET(gammaDD)\n",
    "gammaUU,unusedgammadet = ixp.symm_matrix_inverter3x3(gammaDD)"
   ]
  },
  {
   "cell_type": "markdown",
   "metadata": {},
   "source": [
    "<a id='ortho_s_b'></a>\n",
    "\n",
    "## Step 1.a: Enforce the orthogonality of $\\tilde{S}_i$ and $B^i$ \\[Back to [top](#toc)\\]\n",
    "$$\\label{ortho_s_b}$$\n",
    "\n",
    "Now, we will enforce the orthogonality of the magnetic field and densitized poynting flux using Eq. 22 of [arxiv:1704.00599v2](https://arxiv.org/abs/1704.00599v2): \n",
    "$${\\tilde S}_i \\rightarrow {\\tilde S}_i - ({\\tilde S}_j {\\tilde B}^j) {\\tilde B}_i/{\\tilde B}^2$$\n",
    "First, we compute the inner products ${\\tilde S}_j {\\tilde B}^j$ and ${\\tilde B}^2 = \\gamma_{ij} {\\tilde B}^i {\\tilde B}^j,$ where $\\tilde{B}^i = B^i \\sqrt{\\gamma}$. Then, we subtract $({\\tilde S}_j {\\tilde B}^j) {\\tilde B}_i/{\\tilde B}^2$ from ${\\tilde S}_i$. We thus guarantee that ${\\tilde S}_i B^i=0$.\n",
    "\n",
    "\n",
    "Having fixed ${\\tilde S}_i$, we will also compute the related quantities ${\\tilde S}^i = \\gamma^{ij} {\\tilde S}_j$ and ${\\tilde S}^2 = {\\tilde S}_i {\\tilde S}^i$.\n"
   ]
  },
  {
   "cell_type": "code",
   "execution_count": 3,
   "metadata": {},
   "outputs": [],
   "source": [
    "# First, we need to obtain the index-lowered form of Btilde^i and (Btilde^i)^2\n",
    "# Recall that Btilde^i = sqrtgamma*B^i\n",
    "BtildeU = ixp.zerorank1()\n",
    "for i in range(3):\n",
    "    # \\tilde{B}^i = B^i \\sqrt{\\gamma}\n",
    "    BtildeU[i] = GRHD.sqrtgammaDET*BU[i]\n",
    "\n",
    "BtildeD = ixp.zerorank1()\n",
    "for i in range(3):\n",
    "    for j in range(3):\n",
    "        BtildeD[j] += gammaDD[i][j]*BtildeU[i]\n",
    "\n",
    "Btilde2 = sp.sympify(0)\n",
    "for i in range(3):\n",
    "    Btilde2 += BtildeU[i]*BtildeD[i]\n",
    "\n",
    "# Then, enforce the orthogonality:\n",
    "if par.parval_from_str(\"enforce_orthogonality_StildeD_BtildeU\"):\n",
    "    StimesB = sp.sympify(0)\n",
    "    for i in range(3):\n",
    "        StimesB += StildeD[i]*BtildeU[i]\n",
    "\n",
    "    for i in range(3):\n",
    "        # {\\tilde S}_i = {\\tilde S}_i - ({\\tilde S}_j {\\tilde B}^j) {\\tilde B}_i/{\\tilde B}^2\n",
    "        StildeD[i] -= StimesB*BtildeD[i]/Btilde2\n"
   ]
  },
  {
   "cell_type": "markdown",
   "metadata": {},
   "source": [
    "<a id='vel_cap'></a>\n",
    "\n",
    "## Step 1.b: Rescale ${\\tilde S}_i$ to limit the Lorentz factor and enforce the velocity cap \\[Back to [top](#toc)\\]\n",
    "$$\\label{vel_cap}$$\n",
    "\n",
    "The next fix that we will apply limits the Lorentz factor using Eqs. 92 and 93 of [arXiv:1310.3274v2](https://arxiv.org/abs/1310.3274v2). That is, we define the factor $f$ as \n",
    "$$f = \\sqrt{(1-\\Gamma_{\\max}^{-2}){\\tilde B}^4/(16 \\pi^2 \\gamma {\\tilde S}^2)}.$$\n",
    "\n",
    "If $f<1$, we rescale the components of ${\\tilde S}_i$ by $f$. That is, we must set\n",
    "$${\\tilde S}_i \\rightarrow {\\tilde S}_i \\min(1,f).$$\n",
    "\n",
    "Here, we will use a formulation of the `min()` function that does not use `if`:\n",
    "\\begin{equation}\n",
    "\\min(a,b) = \\frac{1}{2} \\left( a+b - \\lvert a-b \\rvert \\right),\n",
    "\\end{equation}\n",
    "or, in code,\n",
    "```\n",
    "min_noif(a,b) = sp.Rational(1,2)*(a+b-nrpyAbs(a-b))\n",
    "```"
   ]
  },
  {
   "cell_type": "code",
   "execution_count": 4,
   "metadata": {},
   "outputs": [],
   "source": [
    "# Calculate \\tilde{S}^2:\n",
    "Stilde2 = sp.sympify(0)\n",
    "for i in range(3):\n",
    "    for j in range(3):\n",
    "        Stilde2 += gammaUU[i][j]*StildeD[i]*StildeD[j]\n",
    "\n",
    "# First we need to compute the factor f:\n",
    "# f = \\sqrt{(1-\\Gamma_{\\max}^{-2}){\\tilde B}^4/(16 \\pi^2 \\gamma {\\tilde S}^2)}\n",
    "speed_limit_factor = sp.sqrt((sp.sympify(1)-GAMMA_SPEED_LIMIT**(-2.0))*Btilde2*Btilde2*sp.Rational(1,16)/\\\n",
    "                             (M_PI*M_PI*GRHD.sqrtgammaDET*GRHD.sqrtgammaDET*Stilde2))\n",
    "\n",
    "import Min_Max_and_Piecewise_Expressions as noif\n",
    "\n",
    "# Calculate B^2\n",
    "B2 = sp.sympify(0)\n",
    "for i in range(3):\n",
    "    for j in range(3):\n",
    "        B2 += gammaDD[i][j]*BU[i]*BU[j]\n",
    "\n",
    "# Enforce the speed limit on StildeD:\n",
    "if par.parval_from_str(\"enforce_speed_limit_StildeD\"):\n",
    "    for i in range(3):\n",
    "        StildeD[i] *= noif.min_noif(sp.sympify(1),speed_limit_factor)\n"
   ]
  },
  {
   "cell_type": "markdown",
   "metadata": {},
   "source": [
    "<a id='update_vel'></a>\n",
    "\n",
    "## Step 1.c: Recompute the velocities at the new timestep \\[Back to [top](#toc)\\]\n",
    "$$\\label{update_vel}$$\n",
    "\n",
    "Finally, we can calculate the velocities. In [arxiv:1704.00599v2](https://arxiv.org/abs/1704.00599v2), Eq. 16 gives the drift velocity as \n",
    "$$v^i = 4 \\pi \\alpha \\gamma^{ij} {\\tilde S}_j \\gamma^{-1/2} B^{-2} - \\beta^i.$$\n",
    "However, we wish to use the Valencia velocity instead. Since the Valencia velocity $\\bar{v}^i = \\frac{1}{\\alpha} \\left( v^i + \\beta^i \\right)$, we will code \n",
    "$$\\bar{v}^i = 4 \\pi \\frac{\\gamma^{ij} {\\tilde S}_j}{\\sqrt{\\gamma} B^2}.$$\n"
   ]
  },
  {
   "cell_type": "code",
   "execution_count": 5,
   "metadata": {},
   "outputs": [],
   "source": [
    "ValenciavU = ixp.zerorank1()\n",
    "# Recompute 3-velocity:\n",
    "for i in range(3):\n",
    "    for j in range(3):\n",
    "        # \\bar{v}^i = 4 \\pi \\gamma^{ij} {\\tilde S}_j / (\\sqrt{\\gamma} B^2)\n",
    "        ValenciavU[i] += sp.sympify(4)*M_PI*gammaUU[i][j]*StildeD[j]/(GRHD.sqrtgammaDET*B2)\n"
   ]
  },
  {
   "cell_type": "markdown",
   "metadata": {},
   "source": [
    "<a id='current_sheet'></a>\n",
    "\n",
    "## Step 1.d: Enforce the Current Sheet prescription \\[Back to [top](#toc)\\]\n",
    "$$\\label{current_sheet}$$\n",
    "\n",
    "Now, we seek to handle any current sheets (a physically important phenomenon) that might form. This algorithm, given as Eq. 23 in [arxiv:1704.00599v2](https://arxiv.org/abs/1704.00599v2), will preserve current sheets that form in the xy-plane by preventing our numerical scheme from dissipating them. After fixing the z-component of the velocity, we recompute the conservative variables $\\tilde{S}_i$ to be consistent with the new velocities.\n",
    "\n",
    "Thus, if we are within four gridpoints of $z=0$, we set the component of the velocity perpendicular to the current sheet to zero by $n_i v^i = 0$, where $n_i = \\gamma_{ij} n^j$ is a unit normal to the current sheet and $n^j = \\delta^{jz} = (0\\ 0\\ 1)$. For drift velocity, this means we just set \n",
    "$$\n",
    "v^z = -\\frac{\\gamma_{xz} v^x + \\gamma_{yz} v^y}{\\gamma_{zz}}.\n",
    "$$\n",
    "This reduces to $v^z = 0$ in flat space, as one would expect. We then express the Valencia velocity in terms of the drift velocity as $\\bar{v}^i = \\frac{1}{\\alpha} \\left( v^i + \\beta^i \\right)$. "
   ]
  },
  {
   "cell_type": "code",
   "execution_count": 6,
   "metadata": {},
   "outputs": [],
   "source": [
    "# This number determines how far away (in grid points) we will apply the fix.\n",
    "grid_points_from_z_plane = par.Cparameters(\"REAL\",thismodule,\"grid_points_from_z_plane\",4.0)\n",
    "\n",
    "if par.parval_from_str(\"enforce_current_sheet_prescription\"):\n",
    "    # Calculate the drift velocity\n",
    "    driftvU = ixp.zerorank1()\n",
    "    for i in range(3):\n",
    "        driftvU[i] = alpha*ValenciavU[i] - betaU[i]\n",
    "\n",
    "    # The direct approach, used by the original GiRaFFE:\n",
    "    # v^z = -(\\gamma_{xz} v^x + \\gamma_{yz} v^y) / \\gamma_{zz}\n",
    "    newdriftvU2 = -(gammaDD[0][2]*driftvU[0] + gammaDD[1][2]*driftvU[1])/gammaDD[2][2]\n",
    "    # Now that we have the z component, it's time to substitute its Valencia form in.\n",
    "    # Remember, we only do this if abs(z) < (k+0.01)*dz. Note that we add 0.01; this helps\n",
    "    # avoid floating point errors and division by zero. This is the same as abs(z) - (k+0.01)*dz<0\n",
    "    coord = nrpyAbs(rfm.xx[2])\n",
    "    bound =(grid_points_from_z_plane+sp.Rational(1,100))*gri.dxx[2]\n",
    "    ValenciavU[2] = noif.coord_leq_bound(coord,bound)*(newdriftvU2+betaU[2])/alpha \\\n",
    "                  + noif.coord_greater_bound(coord,bound)*ValenciavU[2]\n"
   ]
  },
  {
   "cell_type": "markdown",
   "metadata": {},
   "source": [
    "Below is an experiment in coding this more abstractly. While it works, it's a bit harder to follow than the direct approach, which is what is coded above\n",
    "```python\n",
    "# Set the Cartesian normal vector. This can be expanded later to arbitrary sheets and coordinate systems.\n",
    "nU = ixp.zerorank1()\n",
    "nU[2] = 1\n",
    "# Lower the index, as usual:\n",
    "nD = ixp.zerorank1()\n",
    "for i in range(3):\n",
    "    for j in range(3):\n",
    "        nD[i] = gammaDD[i][j]*nU[j]\n",
    "\n",
    "if par.parval_from_str(\"enforce_current_sheet_prescription\"):\n",
    "    # Calculate the drift velocity\n",
    "    driftvU = ixp.declarerank1(\"driftvU\")\n",
    "    \n",
    "    inner_product = sp.sympify(0)\n",
    "    for i in range(3):\n",
    "        inner_product += driftvU[i]*nD[i] # This is the portion of the drift velocity normal to the z plane\n",
    "                                          # In flat space, this is just v^z\n",
    "    # We'll use a sympy utility to solve for v^z. This should make it easier to generalize later\n",
    "    newdriftvU2 = sp.solve(inner_product,driftvU[2]) # This outputs a list with a single element. \n",
    "                                                     # Take the 0th element so .subs() works right.\n",
    "    newdriftvU2 = newdriftvU2[0] # In flat space this reduces to v^z=0\n",
    "    for i in range(3):\n",
    "        # Now, we substitute drift velocity in terms of our preferred Valencia velocity\n",
    "        newdriftvU2 = newdriftvU2.subs(driftvU[i],alpha*ValenciavU[i]-betaU[i])\n",
    "\n",
    "    # Now that we have the z component, it's time to substitute its Valencia form in.\n",
    "    # Remember, we only do this if abs(z) < (k+0.01)*dz. Note that we add 0.01; this helps\n",
    "    # avoid floating point errors and division by zero. This is the same as abs(z) - (k+0.01)*dz<0\n",
    "    boundary = nrpyAbs(rfm.xx[2]) - (grid_points_from_z_plane+sp.Rational(1,100))*gri.dxx[2]\n",
    "    ValenciavU[2] = min_normal0(boundary)*(newdriftvU2+betaU[2])/alpha \\\n",
    "                  + max_normal0(boundary)*ValenciavU[2]\n",
    "```"
   ]
  },
  {
   "cell_type": "markdown",
   "metadata": {},
   "source": [
    "<a id='p2c'></a>\n",
    "\n",
    "# Step 2: The primitive-to-conservative solver \\[Back to [top](#toc)\\]\n",
    "$$\\label{p2c}$$\n",
    "\n",
    "This function is used to recompute the conservatives $\\tilde{S}_i$ after the 3-velocity is changed as part of the current sheet prescription using Eq. 21 of [arxiv:1704.00599v2](https://arxiv.org/abs/1704.00599v2). It implements the same equation used to compute the initial Poynting flux from the initial velocity: $$\\tilde{S}_i = \\gamma_{ij} \\frac{\\bar{v}^j \\sqrt{\\gamma}B^2}{4 \\pi}$$ in terms of the Valencia 3-velocity. In the implementation here, we first calculate $B^2 = \\gamma_{ij} B^i B^j$, then $v_i = \\gamma_{ij} v^j$ before we calculate the equivalent expression $$\\tilde{S}_i = \\frac{\\bar{v}_i \\sqrt{\\gamma}B^2}{4 \\pi}.$$\n",
    "\n",
    "Here, we will simply let the NRPy+ `GRFFE` module handle this part, since that is already validated."
   ]
  },
  {
   "cell_type": "code",
   "execution_count": 7,
   "metadata": {},
   "outputs": [],
   "source": [
    "def GiRaFFE_NRPy_P2C(gammaDD,betaU,alpha,  ValenciavU,BU, sqrt4pi):\n",
    "    # After recalculating the 3-velocity, we need to update the poynting flux:\n",
    "    # We'll reset the Valencia velocity, since this will be part of a second call to outCfunction.\n",
    "\n",
    "    # First compute stress-energy tensor T4UU and T4UD:\n",
    "\n",
    "    GRHD.compute_sqrtgammaDET(gammaDD)\n",
    "    GRHD.u4U_in_terms_of_ValenciavU__rescale_ValenciavU_by_applying_speed_limit(alpha, betaU, gammaDD, ValenciavU)\n",
    "    GRFFE.compute_smallb4U_with_driftvU_for_FFE(gammaDD, betaU, alpha, GRHD.u4U_ito_ValenciavU, BU, sqrt4pi)\n",
    "    GRFFE.compute_smallbsquared(gammaDD, betaU, alpha, GRFFE.smallb4_with_driftv_for_FFE_U)\n",
    "\n",
    "    GRFFE.compute_TEM4UU(gammaDD, betaU, alpha, GRFFE.smallb4_with_driftv_for_FFE_U, GRFFE.smallbsquared, GRHD.u4U_ito_ValenciavU)\n",
    "    GRFFE.compute_TEM4UD(gammaDD, betaU, alpha, GRFFE.TEM4UU)\n",
    "\n",
    "    # Compute conservative variables in terms of primitive variables\n",
    "    GRHD.compute_S_tildeD(alpha, GRHD.sqrtgammaDET, GRFFE.TEM4UD)\n",
    "\n",
    "    global StildeD\n",
    "    StildeD = GRHD.S_tildeD\n"
   ]
  },
  {
   "cell_type": "markdown",
   "metadata": {},
   "source": [
    "<a id='code_validation'></a>\n",
    "\n",
    "# Step 3: Code Validation \\[Back to [top](#toc)\\]\n",
    "$$\\label{code_validation}$$\n",
    "\n",
    "As a code validation check, we will verify agreement in the SymPy expressions between\n",
    "1. this tutorial and \n",
    "2. the NRPy+ [GiRaFFE_NRPy/GiRaFFE_NRPy_C2P_P2C.py](../../edit/in_progress/GiRaFFE_NRPy/GiRaFFE_NRPy_C2P_P2C.py) module.\n",
    "\n",
    "We will test the C2P algorithms first."
   ]
  },
  {
   "cell_type": "code",
   "execution_count": 8,
   "metadata": {},
   "outputs": [
    {
     "name": "stdout",
     "output_type": "stream",
     "text": [
      "ALL TESTS PASSED!\n"
     ]
    }
   ],
   "source": [
    "all_passed=True\n",
    "def comp_func(expr1,expr2,basename,prefixname2=\"C2P_P2C.\"):\n",
    "    global all_passed\n",
    "    if str(expr1-expr2)!=\"0\":\n",
    "        print(basename+\" - \"+prefixname2+basename+\" = \"+ str(expr1-expr2))\n",
    "        all_passed=False\n",
    "\n",
    "def gfnm(basename,idx1,idx2=None,idx3=None):\n",
    "    if idx2 is None:\n",
    "        return basename+\"[\"+str(idx1)+\"]\"\n",
    "    if idx3 is None:\n",
    "        return basename+\"[\"+str(idx1)+\"][\"+str(idx2)+\"]\"\n",
    "    return basename+\"[\"+str(idx1)+\"][\"+str(idx2)+\"][\"+str(idx3)+\"]\"\n",
    "\n",
    "notebook_StildeD = StildeD\n",
    "StildeD = ixp.declarerank1(\"StildeD\")\n",
    "\n",
    "C2P_P2C.GiRaFFE_NRPy_C2P(StildeD,BU,gammaDD,betaU,alpha)\n",
    "\n",
    "expr_list = []\n",
    "exprcheck_list = []\n",
    "namecheck_list = []\n",
    "\n",
    "for i in range(3):\n",
    "    namecheck_list.extend([gfnm(\"StildeD\",i),gfnm(\"ValenciavU\",i)])\n",
    "    exprcheck_list.extend([C2P_P2C.outStildeD[i],C2P_P2C.ValenciavU[i]])\n",
    "    expr_list.extend([notebook_StildeD[i],ValenciavU[i]])\n",
    "\n",
    "for i in range(len(expr_list)):\n",
    "    comp_func(expr_list[i],exprcheck_list[i],namecheck_list[i])\n",
    "\n",
    "import sys\n",
    "if all_passed:\n",
    "    print(\"ALL TESTS PASSED!\")\n",
    "else:\n",
    "    print(\"ERROR: AT LEAST ONE TEST DID NOT PASS\")\n",
    "    sys.exit(1)"
   ]
  },
  {
   "cell_type": "markdown",
   "metadata": {},
   "source": [
    "Now, we will reset the variables and test the P2C function."
   ]
  },
  {
   "cell_type": "code",
   "execution_count": 9,
   "metadata": {
    "scrolled": true
   },
   "outputs": [
    {
     "name": "stdout",
     "output_type": "stream",
     "text": [
      "ALL TESTS PASSED!\n"
     ]
    }
   ],
   "source": [
    "all_passed=True\n",
    "\n",
    "gammaDD = ixp.declarerank2(\"gammaDD\",\"sym01\")\n",
    "betaU = ixp.declarerank1(\"betaU\")\n",
    "ValenciavU = ixp.declarerank1(\"ValenciavU\")\n",
    "BU = ixp.declarerank1(\"BU\")\n",
    "alpha = sp.symbols('alpha',real=True)\n",
    "sqrt4pi = sp.symbols('sqrt4pi', real=True)\n",
    "GiRaFFE_NRPy_P2C(gammaDD,betaU,alpha,  ValenciavU,BU, sqrt4pi)\n",
    "\n",
    "C2P_P2C.GiRaFFE_NRPy_P2C(gammaDD,betaU,alpha,  ValenciavU,BU, sqrt4pi)\n",
    "\n",
    "expr_list = []\n",
    "exprcheck_list = []\n",
    "namecheck_list = []\n",
    "\n",
    "for i in range(3):\n",
    "    namecheck_list.extend([gfnm(\"StildeD\",i)])\n",
    "    exprcheck_list.extend([C2P_P2C.StildeD[i]])\n",
    "    expr_list.extend([StildeD[i]])\n",
    "\n",
    "for i in range(len(expr_list)):\n",
    "    comp_func(expr_list[i],exprcheck_list[i],namecheck_list[i])\n",
    "\n",
    "import sys\n",
    "if all_passed:\n",
    "    print(\"ALL TESTS PASSED!\")\n",
    "else:\n",
    "    print(\"ERROR: AT LEAST ONE TEST DID NOT PASS\")\n",
    "    sys.exit(1)\n"
   ]
  },
  {
   "cell_type": "markdown",
   "metadata": {},
   "source": [
    "<a id='latex_pdf_output'></a>\n",
    "\n",
    "# Step 4: Output this notebook to $\\LaTeX$-formatted PDF file \\[Back to [top](#toc)\\]\n",
    "$$\\label{latex_pdf_output}$$\n",
    "\n",
    "The following code cell converts this Jupyter notebook into a proper, clickable $\\LaTeX$-formatted PDF file. After the cell is successfully run, the generated PDF may be found in the root NRPy+ tutorial directory, with filename\n",
    "[Tutorial-GiRaFFE_NRPy-C2P_P2C.pdf](Tutorial-GiRaFFE_NRPy-C2P_P2C.pdf) (Note that clicking on this link may not work; you may need to open the PDF file through another means.)"
   ]
  },
  {
   "cell_type": "code",
   "execution_count": 10,
   "metadata": {},
   "outputs": [
    {
     "name": "stdout",
     "output_type": "stream",
     "text": [
      "Created Tutorial-GiRaFFE_NRPy-C2P_P2C.tex, and compiled LaTeX file to PDF\n",
      "    file Tutorial-GiRaFFE_NRPy-C2P_P2C.pdf\n"
     ]
    }
   ],
   "source": [
    "import cmdline_helper as cmd    # NRPy+: Multi-platform Python command-line interface\n",
    "cmd.output_Jupyter_notebook_to_LaTeXed_PDF(\"Tutorial-GiRaFFE_NRPy-C2P_P2C\",location_of_template_file=os.path.join(\"..\"))"
   ]
  }
 ],
 "metadata": {
  "kernelspec": {
   "display_name": "Python 3",
   "language": "python",
   "name": "python3"
  },
  "language_info": {
   "codemirror_mode": {
    "name": "ipython",
    "version": 3
   },
   "file_extension": ".py",
   "mimetype": "text/x-python",
   "name": "python",
   "nbconvert_exporter": "python",
   "pygments_lexer": "ipython3",
   "version": "3.8.5"
  }
 },
 "nbformat": 4,
 "nbformat_minor": 2
}
