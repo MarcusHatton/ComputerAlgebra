{
 "cells": [
  {
   "cell_type": "markdown",
   "metadata": {},
   "source": [
    "<script async src=\"https://www.googletagmanager.com/gtag/js?id=UA-59152712-8\"></script>\n",
    "<script>\n",
    "  window.dataLayer = window.dataLayer || [];\n",
    "  function gtag(){dataLayer.push(arguments);}\n",
    "  gtag('js', new Date());\n",
    "\n",
    "  gtag('config', 'UA-59152712-8');\n",
    "</script>\n",
    "\n",
    "# `GiRaFFE_NRPy_staggered`: Source Terms\n",
    "\n",
    "## Author: Patrick Nelson\n",
    "\n",
    "**Notebook Status:** <font color='green'><b>Validated</b></font>\n",
    "\n",
    "**Validation Notes:** This code is a port from the old `GiRaFFE`\n",
    "\n",
    "### NRPy+ Source Code for this module:\n",
    "* [GiRaFFE_NRPy/GiRaFFE_NRPy_staggered_Source_Terms.py](../../edit/in_progress/GiRaFFE_NRPy/GiRaFFE_NRPy_staggered_Source_Terms.py)\n",
    "\n",
    "## Introduction: \n",
    "\n",
    "This notebook presents an alternate algorithm for computing the source terms in a staggered prescription. It is a direct port of the old `GiRaFFE` implementation.\n",
    "\n",
    "Our goal here will to be to add the following terms to the appropriate right hand side: \n",
    "* $\\partial_t A_i -= \\partial_i (\\alpha \\Phi - \\beta^j A_j)$\n",
    "* $\\partial_t [\\sqrt{\\gamma} \\Phi] + \\partial_j (\\alpha\\sqrt{\\gamma}A^j - \\beta^j [\\sqrt{\\gamma} \\Phi]) = - \\xi \\alpha [\\sqrt{\\gamma} \\Phi]$\n",
    "(Note, the *whole* of the $\\partial_t [\\sqrt{\\gamma} \\Phi]$ evolution equation is of interest here.)\n",
    "\n",
    "This will be done using basic second-order finite-difference derivatives; however, there is a significant wrinkle here: Not all of these quantities are sampled at cell centers! In particular, at code index `i,j,k`, the following quantities are what is actually available:\n",
    "* Centers: $B^x(i,j,k)$, $B^y(i,j,k)$, $B^z(i,j,k)$\n",
    "* Faces: $B^x(i+1/2,j,k)$, $B^y(i,j+1/2,k)$, $B^z(i,j,k+1/2)$\n",
    "* Edges: $A_x(i,j+1/2,k+1/2)$, $A_y(i+1/2,j,k+1/2)$, $A_z(i+1/2,j+1/2,k)$\n",
    "* Vertices: $[\\sqrt{\\gamma} \\Phi](i+1/2,j+1/2,k+1/2)$\n",
    "\n",
    "(Unless otherwise specified above, the quantity is available at cell centers.)\n",
    "\n",
    "To overcome this, we will make heavy use of interpolation; it is sufficient for our purposes to merely average over the nearest points. "
   ]
  },
  {
   "cell_type": "markdown",
   "metadata": {},
   "source": [
    "<a id='toc'></a>\n",
    "\n",
    "# Table of Contents\n",
    "$$\\label{toc}$$\n",
    "\n",
    "This notebook is organized as follows\n",
    "\n",
    "1. [Step 1](#prelim): Preliminaries\n",
    "1. [Step 2](#code): Write the C code\n",
    "    1. [Step 2.a](#define_constants): Function definitions and useful constants\n",
    "    1. [Step 2.b](#operands): Compute derivative operands\n",
    "        1. [Step 2.b.i](#interp): Read in quantities needed for interpolation\n",
    "\n",
    "        1. [Step 2.b.ii](#raise_a): Compute $\\alpha \\sqrt{\\gamma} A^j$\n",
    "\n",
    "        1. [Step 2.b.iii](#a_gauge_term): Compute $\\alpha \\Phi - \\beta^j A_j$\n",
    "\n",
    "    1. [Step 2.c](#finite_difference): Take the finite difference derivatives\n",
    "\n",
    "        1. [Step 2.c.i](#a_rhs): Compute the $A_i$ gauge term\n",
    "        1. [Step 2.c.ii](#phi_rhs): Compute the $[\\psi^6 \\Phi]$ gauge term\n",
    "\n",
    "    1. [Step 2.d](#interp_func): The interpolation function\n",
    "1. [Step 3](#code_validation): Code Validation\n",
    "1. [Step 4](#latex_pdf_output): Output this notebook to $\\LaTeX$-formatted PDF file"
   ]
  },
  {
   "cell_type": "markdown",
   "metadata": {},
   "source": [
    "<a id='prelim'></a>\n",
    "\n",
    "# Step 1: Preliminaries \\[Back to [top](#toc)\\]\n",
    "$$\\label{prelim}$$\n",
    "\n",
    "This first block of code just sets up a subdirectory within `GiRaFFE_standalone_Ccodes/` to which we will write the C code."
   ]
  },
  {
   "cell_type": "code",
   "execution_count": 1,
   "metadata": {},
   "outputs": [],
   "source": [
    "# Step 0: Add NRPy's directory to the path\n",
    "# https://stackoverflow.com/questions/16780014/import-file-from-parent-directory\n",
    "import os,sys\n",
    "nrpy_dir_path = os.path.join(\"..\")\n",
    "if nrpy_dir_path not in sys.path:\n",
    "    sys.path.append(nrpy_dir_path)\n",
    "\n",
    "import cmdline_helper as cmd     # NRPy+: Multi-platform Python command-line interface\n",
    "Ccodesdir = \"GiRaFFE_standalone_Ccodes/RHSs\"\n",
    "cmd.mkdir(os.path.join(Ccodesdir))"
   ]
  },
  {
   "cell_type": "markdown",
   "metadata": {},
   "source": [
    "<a id='code'></a>\n",
    "\n",
    "# Step 2: Write the C code \\[Back to [top](#toc)\\]\n",
    "$$\\label{code}$$\n",
    "\n",
    "<a id='define_constants'></a>\n",
    "\n",
    "## Step 2.a: Function definitions and useful constants \\[Back to [top](#toc)\\]\n",
    "$$\\label{define_constants}$$\n",
    "\n",
    "We will first declare the crucial function `avg()`, our interpolator; its inputs are a grid function as will as the limits over which we will loop. [It is defined below](#interp_func).\n",
    "\n",
    "We will also `#define` some constants. We will frequently need to loop *near* a given gridpoint by up to two gridpoints in any direction, so these constants will allow us to define these limits more intuitively. The rest of these provide similar heuristics to access memory within the construct `in_vars` and `INTERP_VARS` that we will use to pass data without a large mess of function inputs."
   ]
  },
  {
   "cell_type": "code",
   "execution_count": 2,
   "metadata": {},
   "outputs": [],
   "source": [
    "%%writefile $Ccodesdir/Lorenz_psi6phi_rhs__add_gauge_terms_to_A_i_rhs.h\n",
    "static inline REAL avg(const REAL f[PLUS2+1][PLUS2+1][PLUS2+1],const int imin,const int imax, const int jmin,const int jmax, const int kmin,const int kmax);\n",
    "\n",
    "#define MINUS2 0\n",
    "#define MINUS1 1\n",
    "#define PLUS0  2\n",
    "#define PLUS1  3\n",
    "#define PLUS2  4\n",
    "// The \"I\" suffix denotes interpolation. In other words, these\n",
    "//    definitions are used for interpolation ONLY. The order here\n",
    "//    matters as well!\n",
    "static const int SHIFTXI=0,SHIFTYI=1,SHIFTZI=2,GUPXXI=3,GUPXYI=4,GUPXZI=5,GUPYYI=6,GUPYZI=7,GUPZZI=8,\n",
    "  PSII=9,LAPM1I=10,A_XI=11,A_YI=12,A_ZI=13,LAPSE_PSI2I=14,LAPSE_OVER_PSI6I=15;\n",
    "#define MAXNUMINTERP 16\n",
    "// GiRaFFE_NRPy does not store the inverse metric. So, the actual inputs to the function will be\n",
    "// just the metric, which we can invert in an early step. To keep things consistent, we'll label the\n",
    "// components with the same labels as the inverse:\n",
    "static const int GXXI=3,GXYI=4,GXZI=5,GYYI=6,GYZI=7,GZZI=8;\n"
   ]
  },
  {
   "cell_type": "markdown",
   "metadata": {},
   "source": [
    "Our function includes the C parameters `params`, an array of pointers to our input variables `in_vars`, the input `psi6phi`, eight arrays for temporary variables, and the output arrays for the potential.\n",
    "\n",
    "Finally, we also declare variables from the paramstruct in the normal way with the `#include` directive. (If you're reading this code and can't figure out where a variable is set, check here!)"
   ]
  },
  {
   "cell_type": "code",
   "execution_count": 3,
   "metadata": {},
   "outputs": [],
   "source": [
    "%%writefile -a $Ccodesdir/Lorenz_psi6phi_rhs__add_gauge_terms_to_A_i_rhs.h\n",
    "\n",
    "static void Lorenz_psi6phi_rhs__add_gauge_terms_to_A_i_rhs(const paramstruct *params,REAL **in_vars,const REAL *psi6phi,\n",
    "                                                           /* TEMPS: */\n",
    "                                                           REAL *shiftx_iphjphkph,REAL *shifty_iphjphkph,REAL *shiftz_iphjphkph,\n",
    "                                                           REAL *alpha_iphjphkph,REAL *alpha_Phi_minus_betaj_A_j_iphjphkph,REAL *alpha_sqrtg_Ax_interp,\n",
    "                                                           REAL *alpha_sqrtg_Ay_interp,REAL *alpha_sqrtg_Az_interp,\n",
    "                                                           /* END TEMPS, 8 total! */\n",
    "                                                           REAL *psi6phi_rhs,REAL *Ax_rhs,REAL *Ay_rhs,REAL *Az_rhs) {\n",
    "  #include \"../set_Cparameters.h\"\n"
   ]
  },
  {
   "cell_type": "markdown",
   "metadata": {},
   "source": [
    "<a id='operands'></a>\n",
    "\n",
    "## Step 2.b: Compute derivative operands \\[Back to [top](#toc)\\]\n",
    "$$\\label{operands}$$\n",
    "\n",
    "We will first compute $ \\partial_t [\\psi^6\\Phi] = -\\partial_j ( \\alpha \\sqrt{\\gamma} A^j - \\beta^j \\psi^6\\Phi)$, taken from Eq. 13 of [this](https://arxiv.org/pdf/1110.4633.pdf) paper (the Lorentz gauge evolution). Since all input variables to this are defined at all gridpoints, we can safely start out by looping over the entire grid *except* for the outermost ghostzone in each direction. We will define the index in our data storage of the point $(i,j,k)$ for the iteration and declare storage for the values that we will use to do the interpolation."
   ]
  },
  {
   "cell_type": "code",
   "execution_count": 4,
   "metadata": {},
   "outputs": [
    {
     "name": "stdout",
     "output_type": "stream",
     "text": [
      "Appending to GiRaFFE_standalone_Ccodes/RHSs/Lorenz_psi6phi_rhs__add_gauge_terms_to_A_i_rhs.h\n"
     ]
    }
   ],
   "source": [
    "%%writefile -a $Ccodesdir/Lorenz_psi6phi_rhs__add_gauge_terms_to_A_i_rhs.h\n",
    "\n",
    "  /* Compute\n",
    "   * \\partial_t psi6phi = -\\partial_j ( \\alpha \\sqrt{\\gamma} A^j - \\beta^j psi6phi)\n",
    "   *    (Eq 13 of http://arxiv.org/pdf/1110.4633.pdf), using Lorenz gauge.\n",
    "   * Note that the RHS consists of a shift advection term on psi6phi and\n",
    "   *    a term depending on the vector potential.\n",
    "   * psi6phi is defined at (i+1/2,j+1/2,k+1/2), but instead of reconstructing\n",
    "   *    to compute the RHS of \\partial_t psi6phi, we instead use standard\n",
    "   *    interpolations.\n",
    "   */\n",
    "\n",
    "  // The stencil here is {-1,1},{-1,1},{-1,1} for x,y,z directions, respectively.\n",
    "  //     Note that ALL input variables are defined at ALL gridpoints, so no\n",
    "  //     worries about ghostzones.\n",
    "#pragma omp parallel for\n",
    "  for(int k=1;k<Nxx_plus_2NGHOSTS2-1;k++) for(int j=1;j<Nxx_plus_2NGHOSTS1-1;j++) for(int i=1;i<Nxx_plus_2NGHOSTS0-1;i++) {\n",
    "        const int index=IDX3S(i,j,k);\n",
    "        REAL INTERP_VARS[MAXNUMINTERP][PLUS2+1][PLUS2+1][PLUS2+1];\n"
   ]
  },
  {
   "cell_type": "markdown",
   "metadata": {},
   "source": [
    "<a id='interp'></a>\n",
    "\n",
    "### Step 2.b.i: Read in quantities needed for interpolation  \\[Back to [top](#toc)\\]\n",
    "$$\\label{interp}$$\n",
    "\n",
    "We will code this one term at a time, starting with $\\partial_j (\\alpha \\sqrt{\\gamma} A^j)$. To do so, we will need to find this quantity at the cell vertex $(i+1/2,j+1/2,k+1/2)$. Since $A_x$ exists at $(i,j+1/2,k+1/2)$ it makes sense to do this by finding $(\\alpha \\sqrt{\\gamma} A^x)$ at $(i,j+1/2,k+1/2)$ and $(i+1,j+1/2,k+1/2)$ and using those values to perform the finite differencing. (And so on, for the other components of $A_i$.)\n",
    "\n",
    "Note also that $\\alpha \\sqrt{\\gamma} A^j = \\alpha \\sqrt{\\gamma} \\gamma^{ij} A_i$; so, we will need to interpolate the inverse metric $\\gamma^{ij}$, the square root of the metric determinant $\\sqrt{\\gamma}$, and the lapse function $\\alpha$ to the cell edges. \n",
    "\n",
    "So, we must prepare for all these interpolations. We will read in the values of the above specified metric gridfunctions in a small cube two gridpoints in every direction and write them to `INTERP_VARS`."
   ]
  },
  {
   "cell_type": "code",
   "execution_count": 5,
   "metadata": {},
   "outputs": [
    {
     "name": "stdout",
     "output_type": "stream",
     "text": [
      "Appending to GiRaFFE_standalone_Ccodes/RHSs/Lorenz_psi6phi_rhs__add_gauge_terms_to_A_i_rhs.h\n"
     ]
    }
   ],
   "source": [
    "%%writefile -a $Ccodesdir/Lorenz_psi6phi_rhs__add_gauge_terms_to_A_i_rhs.h\n",
    "\n",
    "        // First compute \\partial_j \\alpha \\sqrt{\\gamma} A^j (RHS of \\partial_i psi6phi)\n",
    "        // FIXME: Would be much cheaper & easier to unstagger A_i, raise, then interpolate A^i.\n",
    "        //        However, we keep it this way to be completely compatible with the original\n",
    "        //        Illinois GRMHD thorn, called mhd_evolve.\n",
    "        //\n",
    "        //Step 1) j=x: Need to raise A_i, but to do that, we must have all variables at the same gridpoints:\n",
    "        // The goal is to compute \\partial_j (\\alpha \\sqrt{\\gamma} A^j) at (i+1/2,j+1/2,k+1/2)\n",
    "        //    We do this by first interpolating (RHS1x) = (\\alpha \\sqrt{\\gamma} A^x) at\n",
    "        //    (i,j+1/2,k+1/2)and (i+1,j+1/2,k+1/2), then taking \\partial_x (RHS1x) =\n",
    "        //    [ RHS1x(i+1,j+1/2,k+1/2) - RHS1x(i,j+1/2,k+1/2) ]/dX.\n",
    "        // First bring gup's, psi, and alpha to (i,j+1/2,k+1/2):\n",
    "        int num_vars_to_interp;\n",
    "        int vars_to_interpolate[MAXNUMINTERP] = {GUPXXI,GUPXYI,GUPXZI,GUPYYI,GUPYZI,GUPZZI,LAPM1I,PSII,SHIFTXI,SHIFTYI,SHIFTZI};\n",
    "        num_vars_to_interp = 11;\n",
    "        // We may set interp_limits to be more general than we need.\n",
    "        int interp_limits[6] = {-1,1,-1,1,-1,1}; SET_INDEX_ARRAYS_NRPY_3DBLOCK(interp_limits);\n",
    "        // Major change here to invert the metric on the spot!\n",
    "        // Read in variable at interp. stencil points from main memory, store in INTERP_VARS.\n",
    "        for(int kk=PLUS0;kk<=PLUS1;kk++) for(int jj=PLUS0;jj<=PLUS1;jj++) for(int ii=PLUS0;ii<=PLUS1;ii++) {\n",
    "            // First, we will read in each component of the metric, then find the determinant.\n",
    "            // We write the twelfth root to psi_bssn. Then, we invert the metric and store these values.\n",
    "            const REAL gammaDD00 = in_vars[GXXI][index_arr_3DB[kk][jj][ii]];\n",
    "            const REAL gammaDD01 = in_vars[GXYI][index_arr_3DB[kk][jj][ii]];\n",
    "            const REAL gammaDD02 = in_vars[GXZI][index_arr_3DB[kk][jj][ii]];\n",
    "            const REAL gammaDD11 = in_vars[GYYI][index_arr_3DB[kk][jj][ii]];\n",
    "            const REAL gammaDD12 = in_vars[GYZI][index_arr_3DB[kk][jj][ii]];\n",
    "            const REAL gammaDD22 = in_vars[GZZI][index_arr_3DB[kk][jj][ii]];\n",
    "            // Generated by NRPy+:\n",
    "            /*\n",
    "             * NRPy+ Finite Difference Code Generation, Step 2 of 1: Evaluate SymPy expressions and write to main memory:\n",
    "             */\n",
    "            const double FDPart3_0 = cbrt(gammaDD00*gammaDD11*gammaDD22 - gammaDD00*((gammaDD12)*(gammaDD12)) - ((gammaDD01)*(gammaDD01))*gammaDD22 + 2*gammaDD01*gammaDD02*gammaDD12 - ((gammaDD02)*(gammaDD02))*gammaDD11);\n",
    "            const double FDPart3_1 = (1.0/(FDPart3_0));\n",
    "            const REAL gamma_bssnDD00 = FDPart3_1*gammaDD00;\n",
    "            const REAL gamma_bssnDD01 = FDPart3_1*gammaDD01;\n",
    "            const REAL gamma_bssnDD02 = FDPart3_1*gammaDD02;\n",
    "            const REAL gamma_bssnDD11 = FDPart3_1*gammaDD11;\n",
    "            const REAL gamma_bssnDD12 = FDPart3_1*gammaDD12;\n",
    "            const REAL gamma_bssnDD22 = FDPart3_1*gammaDD22;\n",
    "            const double tmp_5 = gamma_bssnDD00*gamma_bssnDD11*gamma_bssnDD22 - gamma_bssnDD00*((gamma_bssnDD12)*(gamma_bssnDD12)) - ((gamma_bssnDD01)*(gamma_bssnDD01))*gamma_bssnDD22 + 2*gamma_bssnDD01*gamma_bssnDD02*gamma_bssnDD12 - ((gamma_bssnDD02)*(gamma_bssnDD02))*gamma_bssnDD11;\n",
    "            const double tmp_6 = (1.0/(tmp_5));\n",
    "            INTERP_VARS[GUPXXI][kk][jj][ii] = tmp_6*(gamma_bssnDD11*gamma_bssnDD22 - ((gamma_bssnDD12)*(gamma_bssnDD12)));\n",
    "            INTERP_VARS[GUPXYI][kk][jj][ii] = tmp_6*(-gamma_bssnDD01*gamma_bssnDD22 + gamma_bssnDD02*gamma_bssnDD12);\n",
    "            INTERP_VARS[GUPXZI][kk][jj][ii] = tmp_6*(gamma_bssnDD01*gamma_bssnDD12 - gamma_bssnDD02*gamma_bssnDD11);\n",
    "            INTERP_VARS[GUPYYI][kk][jj][ii] = tmp_6*(gamma_bssnDD00*gamma_bssnDD22 - ((gamma_bssnDD02)*(gamma_bssnDD02)));\n",
    "            INTERP_VARS[GUPYZI][kk][jj][ii] = tmp_6*(-gamma_bssnDD00*gamma_bssnDD12 + gamma_bssnDD01*gamma_bssnDD02);\n",
    "            INTERP_VARS[GUPZZI][kk][jj][ii] = tmp_6*(gamma_bssnDD00*gamma_bssnDD11 - ((gamma_bssnDD01)*(gamma_bssnDD01)));\n",
    "            INTERP_VARS[PSII][kk][jj][ii]   = pow(FDPart3_0,1.0/4.0);\n",
    "\n",
    "            // Now, we read in the lapse function.\n",
    "            int whichvar=vars_to_interpolate[6];\n",
    "            INTERP_VARS[whichvar][kk][jj][ii] = in_vars[whichvar][index_arr_3DB[kk][jj][ii]]-1.0; // Input alpha, expect alpha-1\n",
    "            // Finally, we read in the shift vector into the array.\n",
    "            for(int ww=8;ww<num_vars_to_interp;ww++) {\n",
    "                int whichvar=vars_to_interpolate[ww];\n",
    "                INTERP_VARS[whichvar][kk][jj][ii] = in_vars[whichvar][index_arr_3DB[kk][jj][ii]];\n",
    "            }\n",
    "        }\n"
   ]
  },
  {
   "cell_type": "markdown",
   "metadata": {},
   "source": [
    "While we are at it, we will also interpolate the lapse function $\\alpha$ to the cell vertices. "
   ]
  },
  {
   "cell_type": "code",
   "execution_count": 6,
   "metadata": {},
   "outputs": [
    {
     "name": "stdout",
     "output_type": "stream",
     "text": [
      "Appending to GiRaFFE_standalone_Ccodes/RHSs/Lorenz_psi6phi_rhs__add_gauge_terms_to_A_i_rhs.h\n"
     ]
    }
   ],
   "source": [
    "%%writefile -a $Ccodesdir/Lorenz_psi6phi_rhs__add_gauge_terms_to_A_i_rhs.h\n",
    "\n",
    "        // Next set \\alpha at (i+1/2,j+1/2,k+1/2). Will come in handy when computing damping term later.\n",
    "        alpha_iphjphkph[index] = avg(INTERP_VARS[LAPM1I] , PLUS0,PLUS1, PLUS0,PLUS1, PLUS0,PLUS1)+1.0;\n"
   ]
  },
  {
   "cell_type": "markdown",
   "metadata": {},
   "source": [
    "Here, we set up the interpolation stencils for the vector potential. These are defined by the maximum extents of the interpolations that we do below, where the bounds are explained more depth."
   ]
  },
  {
   "cell_type": "code",
   "execution_count": 7,
   "metadata": {},
   "outputs": [
    {
     "name": "stdout",
     "output_type": "stream",
     "text": [
      "Appending to GiRaFFE_standalone_Ccodes/RHSs/Lorenz_psi6phi_rhs__add_gauge_terms_to_A_i_rhs.h\n"
     ]
    }
   ],
   "source": [
    "%%writefile -a $Ccodesdir/Lorenz_psi6phi_rhs__add_gauge_terms_to_A_i_rhs.h\n",
    "\n",
    "        //A_x needs a stencil s.t. interp_limits={0,1,-1,1,-1,1}:\n",
    "        for(int kk=MINUS1;kk<=PLUS1;kk++) for(int jj=MINUS1;jj<=PLUS1;jj++) for(int ii=PLUS0;ii<=PLUS1;ii++) {\n",
    "              INTERP_VARS[A_XI][kk][jj][ii] = in_vars[A_XI][index_arr_3DB[kk][jj][ii]]; }\n",
    "        //A_y needs a stencil s.t. interp_limits={-1,1,0,1,-1,1}:\n",
    "        for(int kk=MINUS1;kk<=PLUS1;kk++) for(int jj=PLUS0;jj<=PLUS1;jj++) for(int ii=MINUS1;ii<=PLUS1;ii++) {\n",
    "              INTERP_VARS[A_YI][kk][jj][ii] = in_vars[A_YI][index_arr_3DB[kk][jj][ii]]; }\n",
    "        //A_z needs a stencil s.t. interp_limits={-1,1,-1,1,0,1}:\n",
    "        for(int kk=PLUS0;kk<=PLUS1;kk++) for(int jj=MINUS1;jj<=PLUS1;jj++) for(int ii=MINUS1;ii<=PLUS1;ii++) {\n",
    "              INTERP_VARS[A_ZI][kk][jj][ii] = in_vars[A_ZI][index_arr_3DB[kk][jj][ii]]; }\n"
   ]
  },
  {
   "cell_type": "markdown",
   "metadata": {},
   "source": [
    "<a id='raise_a'></a>\n",
    "\n",
    "### Step 2.b.ii: Compute $\\alpha \\sqrt{\\gamma} A^j$ \\[Back to [top](#toc)\\]\n",
    "$$\\label{raise_a}$$\n",
    "\n",
    "Since we are starting with $A_x$, we care about the edge $(i,j+1/2,k+1/2)$ right now. As was stated above, our interpolation is an average over the nearest points, which will be $(i,j,k)$, $(i,j+1,k)$, $(i,j,k+1)$, and $(i,j+1,k+1)$ for the metric gridfunctions, which are already at cell centers.\n",
    "\n",
    "We will also need $A_i$ at $(i,j+1/2,k+1/2)$. Because $A_x$ is already there, nothing needs to be done with it. We have $A_y(i+1/2,j,k+1/2)$, so we must average `i-1,j,k`, `i,j,k`, `i-1,j+1,k`, and `i,j+1,k`. We have $A_z(i+1/2,j+1/2,k)$, so we must average `i-1,j,k`, `i,j,k`, `i-1,j,k+1`, and `i,j,k+1`. \n",
    "\n",
    "Then, we are free to calculate $\\alpha \\sqrt{\\gamma} A^x = \\alpha \\sqrt{\\gamma} (\\gamma^{xx} A_x + \\gamma^{xy} A_y + \\gamma^{xz} A_z)$ at every gridpoint."
   ]
  },
  {
   "cell_type": "code",
   "execution_count": 8,
   "metadata": {},
   "outputs": [
    {
     "name": "stdout",
     "output_type": "stream",
     "text": [
      "Appending to GiRaFFE_standalone_Ccodes/RHSs/Lorenz_psi6phi_rhs__add_gauge_terms_to_A_i_rhs.h\n"
     ]
    }
   ],
   "source": [
    "%%writefile -a $Ccodesdir/Lorenz_psi6phi_rhs__add_gauge_terms_to_A_i_rhs.h\n",
    "\n",
    "        // FIRST DO A^X TERM (interpolate to (i,j+1/2,k+1/2) )\n",
    "        // \\alpha \\sqrt{\\gamma} A^x = \\alpha psi^6 A^x (RHS of \\partial_i psi6phi)\n",
    "        // Note that gupij is \\tilde{\\gamma}^{ij}, so we need to multiply by \\psi^{-4}.\n",
    "        const REAL gupxx_jphkph = avg(INTERP_VARS[GUPXXI], PLUS0,PLUS0, PLUS0,PLUS1, PLUS0,PLUS1);\n",
    "        const REAL gupxy_jphkph = avg(INTERP_VARS[GUPXYI], PLUS0,PLUS0, PLUS0,PLUS1, PLUS0,PLUS1);\n",
    "        const REAL gupxz_jphkph = avg(INTERP_VARS[GUPXZI], PLUS0,PLUS0, PLUS0,PLUS1, PLUS0,PLUS1);\n",
    "\n",
    "        for(int kk=PLUS0;kk<=PLUS1;kk++) for(int jj=PLUS0;jj<=PLUS1;jj++) for(int ii=PLUS0;ii<=PLUS1;ii++) {\n",
    "              const REAL Psi2 = INTERP_VARS[PSII][kk][jj][ii]*INTERP_VARS[PSII][kk][jj][ii];\n",
    "              const REAL alpha = INTERP_VARS[LAPM1I][kk][jj][ii]+1.0;\n",
    "              INTERP_VARS[LAPSE_PSI2I][kk][jj][ii]=alpha*Psi2;\n",
    "              INTERP_VARS[LAPSE_OVER_PSI6I][kk][jj][ii]=alpha/(Psi2*Psi2*Psi2);\n",
    "            }\n",
    "\n",
    "        const REAL lapse_Psi2_jphkph = avg(INTERP_VARS[LAPSE_PSI2I], PLUS0,PLUS0, PLUS0,PLUS1, PLUS0,PLUS1);\n",
    "\n",
    "        const REAL A_x_jphkph   = avg(INTERP_VARS[A_XI], PLUS0,PLUS0, PLUS0,PLUS0, PLUS0,PLUS0); // @ (i,j+1/2,k+1/2)\n",
    "        const REAL A_y_jphkph   = avg(INTERP_VARS[A_YI],MINUS1,PLUS0, PLUS0,PLUS1, PLUS0,PLUS0); // @ (i+1/2,j,k+1/2)\n",
    "        const REAL A_z_jphkph   = avg(INTERP_VARS[A_ZI],MINUS1,PLUS0, PLUS0,PLUS0, PLUS0,PLUS1); // @ (i+1/2,j+1/2,k)\n",
    "\n",
    "        alpha_sqrtg_Ax_interp[index] = lapse_Psi2_jphkph*\n",
    "          ( gupxx_jphkph*A_x_jphkph + gupxy_jphkph*A_y_jphkph + gupxz_jphkph*A_z_jphkph );\n",
    "\n"
   ]
  },
  {
   "cell_type": "markdown",
   "metadata": {},
   "source": [
    "As above, except we are now calculating $\\alpha \\sqrt{\\gamma} A^y = \\alpha \\sqrt{\\gamma} (\\gamma^{yx} A_x + \\gamma^{yy} A_y + \\gamma^{yz} A_z)$ at every gridpoint, making the appropriate cyclic permutations."
   ]
  },
  {
   "cell_type": "code",
   "execution_count": 9,
   "metadata": {},
   "outputs": [
    {
     "name": "stdout",
     "output_type": "stream",
     "text": [
      "Appending to GiRaFFE_standalone_Ccodes/RHSs/Lorenz_psi6phi_rhs__add_gauge_terms_to_A_i_rhs.h\n"
     ]
    }
   ],
   "source": [
    "%%writefile -a $Ccodesdir/Lorenz_psi6phi_rhs__add_gauge_terms_to_A_i_rhs.h\n",
    "\n",
    "        // DO A^Y TERM (interpolate to (i+1/2,j,k+1/2) )\n",
    "        // \\alpha \\sqrt{\\gamma} A^y = \\alpha psi^6 A^y (RHS of \\partial_i psi6phi)\n",
    "        // Note that gupij is \\tilde{\\gamma}^{ij}, so we need to multiply by \\psi^{-4}.\n",
    "        const REAL gupxy_iphkph = avg(INTERP_VARS[GUPXYI], PLUS0,PLUS1, PLUS0,PLUS0, PLUS0,PLUS1);\n",
    "        const REAL gupyy_iphkph = avg(INTERP_VARS[GUPYYI], PLUS0,PLUS1, PLUS0,PLUS0, PLUS0,PLUS1);\n",
    "        const REAL gupyz_iphkph = avg(INTERP_VARS[GUPYZI], PLUS0,PLUS1, PLUS0,PLUS0, PLUS0,PLUS1);\n",
    "\n",
    "        const REAL lapse_Psi2_iphkph = avg(INTERP_VARS[LAPSE_PSI2I], PLUS0,PLUS1, PLUS0,PLUS0, PLUS0,PLUS1);\n",
    "        //REAL lapse_iphkph = avg(INTERP_VARS[LAPM1I], PLUS0,PLUS1, PLUS0,PLUS0, PLUS0,PLUS1)+1.0;\n",
    "        //REAL psi_iphkph   = avg(INTERP_VARS[PSII  ], PLUS0,PLUS1, PLUS0,PLUS0, PLUS0,PLUS1);\n",
    "\n",
    "        const REAL A_x_iphkph   = avg(INTERP_VARS[A_XI], PLUS0,PLUS1,MINUS1,PLUS0, PLUS0,PLUS0); // @ (i,j+1/2,k+1/2)\n",
    "        const REAL A_y_iphkph   = avg(INTERP_VARS[A_YI], PLUS0,PLUS0, PLUS0,PLUS0, PLUS0,PLUS0); // @ (i+1/2,j,k+1/2)\n",
    "        const REAL A_z_iphkph   = avg(INTERP_VARS[A_ZI], PLUS0,PLUS0,MINUS1,PLUS0, PLUS0,PLUS1); // @ (i+1/2,j+1/2,k)\n",
    "\n",
    "        alpha_sqrtg_Ay_interp[index] = lapse_Psi2_iphkph*\n",
    "          ( gupxy_iphkph*A_x_iphkph + gupyy_iphkph*A_y_iphkph + gupyz_iphkph*A_z_iphkph );\n"
   ]
  },
  {
   "cell_type": "markdown",
   "metadata": {},
   "source": [
    "As above, except we are now calculating $\\alpha \\sqrt{\\gamma} A^z = \\alpha \\sqrt{\\gamma} (\\gamma^{zx} A_x + \\gamma^{zy} A_y + \\gamma^{zz} A_z)$ at every gridpoint, making the appropriate cyclic permutations."
   ]
  },
  {
   "cell_type": "code",
   "execution_count": 10,
   "metadata": {},
   "outputs": [
    {
     "name": "stdout",
     "output_type": "stream",
     "text": [
      "Appending to GiRaFFE_standalone_Ccodes/RHSs/Lorenz_psi6phi_rhs__add_gauge_terms_to_A_i_rhs.h\n"
     ]
    }
   ],
   "source": [
    "%%writefile -a $Ccodesdir/Lorenz_psi6phi_rhs__add_gauge_terms_to_A_i_rhs.h\n",
    "\n",
    "        // DO A^Z TERM (interpolate to (i+1/2,j+1/2,k) )\n",
    "        // \\alpha \\sqrt{\\gamma} A^z = \\alpha psi^6 A^z (RHS of \\partial_i psi6phi)\n",
    "        // Note that gupij is \\tilde{\\gamma}^{ij}, so we need to multiply by \\psi^{-4}.\n",
    "        const REAL gupxz_iphjph = avg(INTERP_VARS[GUPXZI], PLUS0,PLUS1, PLUS0,PLUS1, PLUS0,PLUS0);\n",
    "        const REAL gupyz_iphjph = avg(INTERP_VARS[GUPYZI], PLUS0,PLUS1, PLUS0,PLUS1, PLUS0,PLUS0);\n",
    "        const REAL gupzz_iphjph = avg(INTERP_VARS[GUPZZI], PLUS0,PLUS1, PLUS0,PLUS1, PLUS0,PLUS0);\n",
    "        //REAL lapse_iphjph = avg(INTERP_VARS[LAPM1I], PLUS0,PLUS1, PLUS0,PLUS1, PLUS0,PLUS0)+1.0;\n",
    "        //REAL psi_iphjph   = avg(INTERP_VARS[PSII  ], PLUS0,PLUS1, PLUS0,PLUS1, PLUS0,PLUS0);\n",
    "\n",
    "        const REAL lapse_Psi2_iphjph = avg(INTERP_VARS[LAPSE_PSI2I], PLUS0,PLUS1, PLUS0,PLUS1, PLUS0,PLUS0);\n",
    "\n",
    "        const REAL A_x_iphjph   = avg(INTERP_VARS[A_XI], PLUS0,PLUS1, PLUS0,PLUS0,MINUS1,PLUS0); // @ (i,j+1/2,k+1/2)\n",
    "        const REAL A_y_iphjph   = avg(INTERP_VARS[A_YI], PLUS0,PLUS0, PLUS0,PLUS1,MINUS1,PLUS0); // @ (i+1/2,j,k+1/2)\n",
    "        const REAL A_z_iphjph   = avg(INTERP_VARS[A_ZI], PLUS0,PLUS0, PLUS0,PLUS0, PLUS0,PLUS0); // @ (i+1/2,j+1/2,k)\n",
    "\n",
    "        alpha_sqrtg_Az_interp[index] = lapse_Psi2_iphjph*\n",
    "          ( gupxz_iphjph*A_x_iphjph + gupyz_iphjph*A_y_iphjph + gupzz_iphjph*A_z_iphjph );\n",
    "\n"
   ]
  },
  {
   "cell_type": "markdown",
   "metadata": {},
   "source": [
    "<a id='a_gauge_term'></a>\n",
    "\n",
    "### Step 2.b.iii: Compute $\\alpha \\Phi - \\beta^j A_j$ \\[Back to [top](#toc)\\]\n",
    "$$\\label{a_gauge_term}$$\n",
    "\n",
    "Now, we will calculate $\\alpha \\Phi - \\beta^j A_j$ at every gridpoint for the $A_k$ evolution equation. This follows fairly similarly to what we did above, except we must interpolate all the inputs (lapse $\\alpha$, shift $\\beta^i$, vector potential $A_i$) to the cell vertices $(i+1/2,j+1/2,k+1/2)$. While $\\psi^6\\Phi$ is already sampled at cell vertices, the equation specifically calls for only $\\Phi$; fortunately, we have precomputed $\\alpha/\\psi^6$ at cell centers.\n",
    "\n",
    "Thus, we ultimately will be interpolating \n",
    "* the shift and $\\alpha/\\psi^6$ from the cell centers to the cell vertices, using indices `i,j,k`, `i+1,j,k`, `i,j+1,k`, `i,j,k+1`, `i,j+1,k+1`, `i+1,j,k+1`, `i+1,j+1,k`, and `i+1,j+1,k+1`\n",
    "* $A_x$ from the cell edge $(i,j+1/2,k+1/2)$ using `i,j,k` and `i+1,j,k`\n",
    "* $A_y$ from the cell edge $(i+1/2,j,k+1/2)$ using `i,j,k` and `i,j+1,k`\n",
    "* $A_z$ from the cell edge $(i+1/2,j+1/2,k)$ using `i,j,k` and `i,j,k+1`"
   ]
  },
  {
   "cell_type": "code",
   "execution_count": 11,
   "metadata": {},
   "outputs": [
    {
     "name": "stdout",
     "output_type": "stream",
     "text": [
      "Appending to GiRaFFE_standalone_Ccodes/RHSs/Lorenz_psi6phi_rhs__add_gauge_terms_to_A_i_rhs.h\n"
     ]
    }
   ],
   "source": [
    "%%writefile -a $Ccodesdir/Lorenz_psi6phi_rhs__add_gauge_terms_to_A_i_rhs.h\n",
    "\n",
    "        // Next set \\alpha \\Phi - \\beta^j A_j at (i+1/2,j+1/2,k+1/2):\n",
    "        //   We add a \"L\" suffix to shifti_iphjphkph to denote \"LOCAL\", as we set\n",
    "        //      shifti_iphjphkph[] gridfunction below.\n",
    "        const REAL shiftx_iphjphkphL = avg(INTERP_VARS[SHIFTXI], PLUS0,PLUS1, PLUS0,PLUS1, PLUS0,PLUS1);\n",
    "        const REAL shifty_iphjphkphL = avg(INTERP_VARS[SHIFTYI], PLUS0,PLUS1, PLUS0,PLUS1, PLUS0,PLUS1);\n",
    "        const REAL shiftz_iphjphkphL = avg(INTERP_VARS[SHIFTZI], PLUS0,PLUS1, PLUS0,PLUS1, PLUS0,PLUS1);\n",
    "        const REAL lapse_over_Psi6_iphjphkphL = avg(INTERP_VARS[LAPSE_OVER_PSI6I], PLUS0,PLUS1, PLUS0,PLUS1, PLUS0,PLUS1);\n",
    "        //REAL psi_iphjphkph = avg(INTERP_VARS[PSII  ], PLUS0,PLUS1, PLUS0,PLUS1, PLUS0,PLUS1);\n",
    "        //REAL psi2_iphjphkph= psi_iphjphkph*psi_iphjphkph;\n",
    "        //REAL psi6_iphjphkph= psi2_iphjphkph*psi2_iphjphkph*psi2_iphjphkph;\n",
    "        const REAL A_x_iphjphkph = avg(INTERP_VARS[A_XI], PLUS0,PLUS1, PLUS0,PLUS0, PLUS0,PLUS0); // @ (i,j+1/2,k+1/2)\n",
    "        const REAL A_y_iphjphkph = avg(INTERP_VARS[A_YI], PLUS0,PLUS0, PLUS0,PLUS1, PLUS0,PLUS0); // @ (i+1/2,j,k+1/2)\n",
    "        const REAL A_z_iphjphkph = avg(INTERP_VARS[A_ZI], PLUS0,PLUS0, PLUS0,PLUS0, PLUS0,PLUS1); // @ (i+1/2,j+1/2,k)\n",
    "\n",
    "        alpha_Phi_minus_betaj_A_j_iphjphkph[index] = psi6phi[index]*lapse_over_Psi6_iphjphkphL\n",
    "          - (shiftx_iphjphkphL*A_x_iphjphkph + shifty_iphjphkphL*A_y_iphjphkph + shiftz_iphjphkphL*A_z_iphjphkph);\n"
   ]
  },
  {
   "cell_type": "markdown",
   "metadata": {},
   "source": [
    "We will also store the shift function at $(i+1/2,j+1/2,k+1/2)$ (which we have already interpolated) for $\\partial_j \\beta^j [\\psi^6 \\Phi]$, which is part of the $\\psi^6 \\Phi$ evolution equation."
   ]
  },
  {
   "cell_type": "code",
   "execution_count": 12,
   "metadata": {},
   "outputs": [
    {
     "name": "stdout",
     "output_type": "stream",
     "text": [
      "Appending to GiRaFFE_standalone_Ccodes/RHSs/Lorenz_psi6phi_rhs__add_gauge_terms_to_A_i_rhs.h\n"
     ]
    }
   ],
   "source": [
    "%%writefile -a $Ccodesdir/Lorenz_psi6phi_rhs__add_gauge_terms_to_A_i_rhs.h\n",
    "\n",
    "        // Finally, save shifti_iphjphkph, for \\partial_j \\beta^j psi6phi\n",
    "        shiftx_iphjphkph[index]=shiftx_iphjphkphL;\n",
    "        shifty_iphjphkph[index]=shifty_iphjphkphL;\n",
    "        shiftz_iphjphkph[index]=shiftz_iphjphkphL;\n",
    "      }\n"
   ]
  },
  {
   "cell_type": "markdown",
   "metadata": {},
   "source": [
    "<a id='finite_difference'></a>\n",
    "\n",
    "## Step 2.c: Take the finite difference derivatives \\[Back to [top](#toc)\\]\n",
    "$$\\label{finite_difference}$$\n",
    "\n",
    "We restate the equations we want to solve:\n",
    "* $\\partial_t A_i -= \\partial_i (\\alpha \\Phi - \\beta^j A_j)$\n",
    "* $\\partial_t [\\sqrt{\\gamma} \\Phi] + \\partial_j (\\alpha\\sqrt{\\gamma}A^j - \\beta^j [\\sqrt{\\gamma} \\Phi]) = - \\xi \\alpha [\\sqrt{\\gamma} \\Phi]$\n",
    "\n",
    "So far, we have calculated only the operands of the differentiation operator, i.e. the parts within the parentheses as they are written above, and repeated here:\n",
    "* $\\alpha \\Phi - \\beta^j A_j$\n",
    "* $\\alpha\\sqrt{\\gamma}A^j - \\beta^j [\\sqrt{\\gamma} \\Phi]$\n",
    "\n",
    "So, we must now take the derivatives using finite-difference methods. We will thus loop over the grid interior, and define the index to which we will be writing our results."
   ]
  },
  {
   "cell_type": "code",
   "execution_count": 13,
   "metadata": {},
   "outputs": [
    {
     "name": "stdout",
     "output_type": "stream",
     "text": [
      "Appending to GiRaFFE_standalone_Ccodes/RHSs/Lorenz_psi6phi_rhs__add_gauge_terms_to_A_i_rhs.h\n"
     ]
    }
   ],
   "source": [
    "%%writefile -a $Ccodesdir/Lorenz_psi6phi_rhs__add_gauge_terms_to_A_i_rhs.h\n",
    "\n",
    "  // This loop requires two additional ghostzones in every direction. Hence the following loop definition:\n",
    "#pragma omp parallel for\n",
    "  for(int k=NGHOSTS;k<Nxx_plus_2NGHOSTS2-NGHOSTS;k++) for(int j=NGHOSTS;j<Nxx_plus_2NGHOSTS1-NGHOSTS;j++) for(int i=NGHOSTS;i<Nxx_plus_2NGHOSTS0-NGHOSTS;i++) {\n",
    "        const int index = IDX3S(i,j,k);\n"
   ]
  },
  {
   "cell_type": "markdown",
   "metadata": {},
   "source": [
    "<a id='a_rhs'></a>\n",
    "\n",
    "### Step 2.c.i: Compute the $A_i$ gauge term \\[Back to [top](#toc)\\]\n",
    "$$\\label{a_rhs}$$\n",
    "\n",
    "We start with the right hand side of $\\partial_t A_i$, adding on the gauge term $-\\partial_i (\\alpha \\Phi - \\beta^j A_j)$. Recall that as we calculated the operand, we interpolated it to the cell vertices $(i+1/2,j+1/2,k+1/2)$. Thus, since $A_x$ is sampled at $(i,j+1/2,k+1/2)$, the relevant finite-difference template here is \n",
    "$$-(Q_{i,j,k} - Q_{i-1,j,k})/dx = (Q_{i-1,j,k} - Q_{i,j,k})/dx$$\n",
    "for a dummy quantity $Q$, and so on for the $y$ and $z$ directions."
   ]
  },
  {
   "cell_type": "code",
   "execution_count": 14,
   "metadata": {},
   "outputs": [
    {
     "name": "stdout",
     "output_type": "stream",
     "text": [
      "Appending to GiRaFFE_standalone_Ccodes/RHSs/Lorenz_psi6phi_rhs__add_gauge_terms_to_A_i_rhs.h\n"
     ]
    }
   ],
   "source": [
    "%%writefile -a $Ccodesdir/Lorenz_psi6phi_rhs__add_gauge_terms_to_A_i_rhs.h\n",
    "\n",
    "        // \\partial_t A_i = [reconstructed stuff] + [gauge stuff],\n",
    "        //    where [gauge stuff] = -\\partial_i (\\alpha \\Phi - \\beta^j A_j)\n",
    "        const REAL alpha_Phi_minus_betaj_A_j_iphjphkphL = alpha_Phi_minus_betaj_A_j_iphjphkph[index];\n",
    "        // - partial_i -> - (A_{i} - A_{i-1})/dX = (A_{i-1} - A_{i})/dX, for Ax\n",
    "        Ax_rhs[index] += invdx0*(alpha_Phi_minus_betaj_A_j_iphjphkph[IDX3S(i-1,j,k)] - alpha_Phi_minus_betaj_A_j_iphjphkphL);\n",
    "        Ay_rhs[index] += invdx1*(alpha_Phi_minus_betaj_A_j_iphjphkph[IDX3S(i,j-1,k)] - alpha_Phi_minus_betaj_A_j_iphjphkphL);\n",
    "        Az_rhs[index] += invdx2*(alpha_Phi_minus_betaj_A_j_iphjphkph[IDX3S(i,j,k-1)] - alpha_Phi_minus_betaj_A_j_iphjphkphL);\n"
   ]
  },
  {
   "cell_type": "markdown",
   "metadata": {},
   "source": [
    "<a id='phi_rhs'></a>\n",
    "\n",
    "### Step 2.c.ii: Compute the $[\\psi^6 \\Phi]$ gauge term \\[Back to [top](#toc)\\]\n",
    "$$\\label{phi_rhs}$$\n",
    "\n",
    "The operand of the gradient operator in the $\\partial_t [\\psi^6 \\Phi]$ equation is the sum of two terms; we will first compute the shift advection term $\\partial_j (\\beta^j \\psi^6 \\Phi)$."
   ]
  },
  {
   "cell_type": "code",
   "execution_count": 15,
   "metadata": {},
   "outputs": [
    {
     "name": "stdout",
     "output_type": "stream",
     "text": [
      "Appending to GiRaFFE_standalone_Ccodes/RHSs/Lorenz_psi6phi_rhs__add_gauge_terms_to_A_i_rhs.h\n"
     ]
    }
   ],
   "source": [
    "%%writefile -a $Ccodesdir/Lorenz_psi6phi_rhs__add_gauge_terms_to_A_i_rhs.h\n",
    "\n",
    "        // \\partial_t psi6phi = [shift advection term] + \\partial_j (\\alpha \\sqrt{\\gamma} A^j)\n",
    "        // Here we compute [shift advection term] = \\partial_j (\\beta^j psi6phi)\n",
    "        // Cache misses are likely more expensive than branch mispredictions here,\n",
    "        //       which is why we use if() statements and array lookups inside the if()'s.\n",
    "        REAL psi6phi_rhsL=0.0;\n",
    "        const REAL psi6phiL=psi6phi[index];\n",
    "        const REAL shiftx_iphjphkphL=shiftx_iphjphkph[index];\n",
    "        const REAL shifty_iphjphkphL=shifty_iphjphkph[index];\n",
    "        const REAL shiftz_iphjphkphL=shiftz_iphjphkph[index];\n",
    "\n",
    "        // \\partial_x (\\beta^x psi6phi) :\n",
    "        if(shiftx_iphjphkphL < 0.0) {\n",
    "          psi6phi_rhsL+=0.5*invdx0*(+    shiftx_iphjphkph[IDX3S(i-2,j,k)]*psi6phi[IDX3S(i-2,j,k)]\n",
    "                                  -4.0*shiftx_iphjphkph[IDX3S(i-1,j,k)]*psi6phi[IDX3S(i-1,j,k)]\n",
    "                                  +3.0*shiftx_iphjphkphL*                               psi6phiL);\n",
    "        } else {\n",
    "          psi6phi_rhsL+=0.5*invdx0*(-    shiftx_iphjphkph[IDX3S(i+2,j,k)]*psi6phi[IDX3S(i+2,j,k)]\n",
    "                                  +4.0*shiftx_iphjphkph[IDX3S(i+1,j,k)]*psi6phi[IDX3S(i+1,j,k)]\n",
    "                                  -3.0*shiftx_iphjphkphL*                               psi6phiL);\n",
    "        }\n",
    "\n",
    "        // \\partial_y (\\beta^y psi6phi) :\n",
    "        if(shifty_iphjphkphL < 0.0) {\n",
    "          psi6phi_rhsL+=0.5*invdx1*(+    shifty_iphjphkph[IDX3S(i,j-2,k)]*psi6phi[IDX3S(i,j-2,k)]\n",
    "                                  -4.0*shifty_iphjphkph[IDX3S(i,j-1,k)]*psi6phi[IDX3S(i,j-1,k)]\n",
    "                                  +3.0*shifty_iphjphkphL*                               psi6phiL);\n",
    "        } else {\n",
    "          psi6phi_rhsL+=0.5*invdx1*(-    shifty_iphjphkph[IDX3S(i,j+2,k)]*psi6phi[IDX3S(i,j+2,k)]\n",
    "                                  +4.0*shifty_iphjphkph[IDX3S(i,j+1,k)]*psi6phi[IDX3S(i,j+1,k)]\n",
    "                                  -3.0*shifty_iphjphkphL*                               psi6phiL);\n",
    "        }\n",
    "\n",
    "        // \\partial_z (\\beta^z psi6phi) :\n",
    "        if(shiftz_iphjphkphL < 0.0) {\n",
    "          psi6phi_rhsL+=0.5*invdx2*(+    shiftz_iphjphkph[IDX3S(i,j,k-2)]*psi6phi[IDX3S(i,j,k-2)]\n",
    "                                  -4.0*shiftz_iphjphkph[IDX3S(i,j,k-1)]*psi6phi[IDX3S(i,j,k-1)]\n",
    "                                  +3.0*shiftz_iphjphkphL*                               psi6phiL);\n",
    "        } else {\n",
    "          psi6phi_rhsL+=0.5*invdx2*(-    shiftz_iphjphkph[IDX3S(i,j,k+2)]*psi6phi[IDX3S(i,j,k+2)]\n",
    "                                  +4.0*shiftz_iphjphkph[IDX3S(i,j,k+1)]*psi6phi[IDX3S(i,j,k+1)]\n",
    "                                  -3.0*shiftz_iphjphkphL*                               psi6phiL);\n",
    "        }\n"
   ]
  },
  {
   "cell_type": "markdown",
   "metadata": {},
   "source": [
    "The operand of the gradient operator in the $\\partial_t [\\psi^6 \\Phi]$ equation is the sum of two terms; we will add the term $-\\partial_j (\\alpha \\sqrt{\\gamma} A^j)$. Recall that we computed $\\alpha \\sqrt{\\gamma} A^x$ at $(i,j+1/2,k+1/2)$; thus, the appropriate finite-difference template here is \n",
    "$$-(Q_{i+1,j,k} - Q_{i,j,k})/dx = (Q_{i,j,k} - Q_{i+1,j,k})/dx$$\n",
    "for a dummy quantity $Q$, and so on for the $y$ and $z$ directions.\n",
    "\n",
    "Finally, we will add the damping factor to $\\partial_t [\\psi^6 \\Phi]$, which is given as $\\xi \\alpha \\psi^6 \\Phi$, where $\\xi$ is some scalar damping parameter. Since we interpolated the lapse $\\alpha$ to cell vertices earlier, everything is exactly where we need it!"
   ]
  },
  {
   "cell_type": "code",
   "execution_count": 16,
   "metadata": {},
   "outputs": [
    {
     "name": "stdout",
     "output_type": "stream",
     "text": [
      "Appending to GiRaFFE_standalone_Ccodes/RHSs/Lorenz_psi6phi_rhs__add_gauge_terms_to_A_i_rhs.h\n"
     ]
    }
   ],
   "source": [
    "%%writefile -a $Ccodesdir/Lorenz_psi6phi_rhs__add_gauge_terms_to_A_i_rhs.h\n",
    "\n",
    "        // Next we add \\partial_j (\\alpha \\sqrt{\\gamma} A^j) to \\partial_t psi6phi:\n",
    "        psi6phi_rhsL+=invdx0*(alpha_sqrtg_Ax_interp[index] - alpha_sqrtg_Ax_interp[IDX3S(i+1,j,k)])\n",
    "          +           invdx1*(alpha_sqrtg_Ay_interp[index] - alpha_sqrtg_Ay_interp[IDX3S(i,j+1,k)])\n",
    "          +           invdx2*(alpha_sqrtg_Az_interp[index] - alpha_sqrtg_Az_interp[IDX3S(i,j,k+1)]);\n",
    "\n",
    "        // *GENERALIZED* LORENZ GAUGE:\n",
    "        // Finally, add damping factor to \\partial_t psi6phi\n",
    "        //subtract lambda * alpha psi^6 Phi\n",
    "        psi6phi_rhsL+=-xi_damping*alpha_iphjphkph[index]*psi6phiL;\n",
    "\n",
    "        psi6phi_rhs[index] = psi6phi_rhsL;\n",
    "      }\n",
    "}\n"
   ]
  },
  {
   "cell_type": "markdown",
   "metadata": {},
   "source": [
    "<a id='interp_func'></a>\n",
    "\n",
    "## Step 2.d: The interpolation function \\[Back to [top](#toc)\\]\n",
    "$$\\label{interp_func}$$\n",
    "\n",
    "Here, we give the function definition for our interpolator, `avg`. It takes the arithmetic mean of the points of the gridfunction `f` specified by `imin`, `imax`, `jmin`, `jmax`, `kmin`, and `kmax`."
   ]
  },
  {
   "cell_type": "code",
   "execution_count": 17,
   "metadata": {},
   "outputs": [
    {
     "name": "stdout",
     "output_type": "stream",
     "text": [
      "Appending to GiRaFFE_standalone_Ccodes/RHSs/Lorenz_psi6phi_rhs__add_gauge_terms_to_A_i_rhs.h\n"
     ]
    }
   ],
   "source": [
    "%%writefile -a $Ccodesdir/Lorenz_psi6phi_rhs__add_gauge_terms_to_A_i_rhs.h\n",
    "\n",
    "static inline REAL avg(const REAL f[PLUS2+1][PLUS2+1][PLUS2+1],const int imin,const int imax, const int jmin,const int jmax, const int kmin,const int kmax) {\n",
    "  REAL retval=0.0,num_in_sum=0.0;\n",
    "  for(int kk=kmin;kk<=kmax;kk++) for(int jj=jmin;jj<=jmax;jj++) for(int ii=imin;ii<=imax;ii++) {\n",
    "        retval+=f[kk][jj][ii]; num_in_sum++;\n",
    "      }\n",
    "  return retval/num_in_sum;\n",
    "}\n"
   ]
  },
  {
   "cell_type": "markdown",
   "metadata": {},
   "source": [
    "<a id='code_validation'></a>\n",
    "\n",
    "# Step 3: Code Validation \\[Back to [top](#toc)\\]\n",
    "$$\\label{code_validation}$$\n",
    "\n",
    "To validate the code in this tutorial we check for agreement between the files\n",
    "\n",
    "1. that were written in this tutorial and\n",
    "1. those that are generated by the python module\n"
   ]
  },
  {
   "cell_type": "code",
   "execution_count": 18,
   "metadata": {},
   "outputs": [
    {
     "name": "stdout",
     "output_type": "stream",
     "text": [
      "Printing difference between original C code and this code...\n",
      "Checking file Lorenz_psi6phi_rhs__add_gauge_terms_to_A_i_rhs.h\n",
      "No difference. TEST PASSED!\n"
     ]
    }
   ],
   "source": [
    "# Define the directory that we wish to validate against:\n",
    "valdir = \"GiRaFFE_NRPy/GiRaFFE_Ccode_library/RHSs/\"\n",
    "\n",
    "import GiRaFFE_NRPy.GiRaFFE_NRPy_staggered_Source_Terms as source\n",
    "source.GiRaFFE_NRPy_Source_Terms(valdir)\n",
    "\n",
    "import difflib\n",
    "import sys\n",
    "\n",
    "print(\"Printing difference between original C code and this code...\")\n",
    "# Open the files to compare\n",
    "files = [\"Lorenz_psi6phi_rhs__add_gauge_terms_to_A_i_rhs.h\"]\n",
    "\n",
    "for file in files:\n",
    "    print(\"Checking file \" + file)\n",
    "    with open(os.path.join(valdir,file)) as file1, open(os.path.join(Ccodesdir,file)) as file2:\n",
    "        # Read the lines of each file\n",
    "        file1_lines = file1.readlines()\n",
    "        file2_lines = file2.readlines()\n",
    "        num_diffs = 0\n",
    "        for line in difflib.unified_diff(file1_lines, file2_lines, fromfile=os.path.join(valdir+file), tofile=os.path.join(Ccodesdir+file)):\n",
    "            sys.stdout.writelines(line)\n",
    "            num_diffs = num_diffs + 1\n",
    "        if num_diffs == 0:\n",
    "            print(\"No difference. TEST PASSED!\")\n",
    "        else:\n",
    "            print(\"ERROR: Disagreement found with .py file. See differences above.\")\n",
    "            sys.exit(1)"
   ]
  },
  {
   "cell_type": "markdown",
   "metadata": {},
   "source": [
    "<a id='latex_pdf_output'></a>\n",
    "\n",
    "# Step 4: Output this notebook to $\\LaTeX$-formatted PDF file \\[Back to [top](#toc)\\]\n",
    "$$\\label{latex_pdf_output}$$\n",
    "\n",
    "The following code cell converts this Jupyter notebook into a proper, clickable $\\LaTeX$-formatted PDF file. After the cell is successfully run, the generated PDF may be found in the root NRPy+ tutorial directory, with filename\n",
    "[Tutorial-GiRaFFE_NRPy_staggered-Source_Terms.pdf](Tutorial-GiRaFFE_NRPy_staggered-Source_Terms.pdf) (Note that clicking on this link may not work; you may need to open the PDF file through another means.)"
   ]
  },
  {
   "cell_type": "code",
   "execution_count": 19,
   "metadata": {},
   "outputs": [
    {
     "name": "stdout",
     "output_type": "stream",
     "text": [
      "Created Tutorial-GiRaFFE_NRPy_staggered-Source_Terms.tex, and compiled\n",
      "    LaTeX file to PDF file Tutorial-GiRaFFE_NRPy_staggered-Source_Terms.pdf\n"
     ]
    }
   ],
   "source": [
    "import cmdline_helper as cmd    # NRPy+: Multi-platform Python command-line interface\n",
    "cmd.output_Jupyter_notebook_to_LaTeXed_PDF(\"Tutorial-GiRaFFE_NRPy_staggered-Source_Terms\",location_of_template_file=os.path.join(\"..\"))"
   ]
  }
 ],
 "metadata": {
  "kernelspec": {
   "display_name": "Python 3",
   "language": "python",
   "name": "python3"
  },
  "language_info": {
   "codemirror_mode": {
    "name": "ipython",
    "version": 3
   },
   "file_extension": ".py",
   "mimetype": "text/x-python",
   "name": "python",
   "nbconvert_exporter": "python",
   "pygments_lexer": "ipython3",
   "version": "3.8.5"
  }
 },
 "nbformat": 4,
 "nbformat_minor": 2
}
