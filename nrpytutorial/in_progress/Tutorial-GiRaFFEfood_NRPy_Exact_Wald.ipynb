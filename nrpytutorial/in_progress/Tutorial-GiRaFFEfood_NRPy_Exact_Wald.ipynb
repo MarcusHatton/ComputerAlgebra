{
 "cells": [
  {
   "cell_type": "markdown",
   "metadata": {},
   "source": [
    "<script async src=\"https://www.googletagmanager.com/gtag/js?id=UA-59152712-8\"></script>\n",
    "<script>\n",
    "  window.dataLayer = window.dataLayer || [];\n",
    "  function gtag(){dataLayer.push(arguments);}\n",
    "  gtag('js', new Date());\n",
    "\n",
    "  gtag('config', 'UA-59152712-8');\n",
    "</script>\n",
    "\n",
    "# Exact Wald `GiRaFFEfood` Initial Data for `GiRaFFE`\n",
    "\n",
    "## Author: Zach Etienne & Patrick Nelson\n",
    "### Formatting improvements courtesy Brandon Clark\n",
    "\n",
    "[comment]: <> (Abstract: TODO)\n",
    "\n",
    "### NRPy+ Source Code for this module: [GiRaFFEfood_NRPy/GiRaFFEfood_NRPy_Exact_Wald.py](../../edit/in_progress/GiRaFFEfood_NRPy/GiRaFFEfood_NRPy_Exact_Wald.py)\n",
    "\n",
    "**Notebook Status:** <font color='green'><b> Validated </b></font>\n",
    "\n",
    "**Validation Notes:** This tutorial notebook has been confirmed to be self-consistent with its corresponding NRPy+ module, as documented [below](#code_validation1). The initial data has validated against the original `GiRaFFE`, as documented [here](Tutorial-Start_to_Finish_UnitTest-GiRaFFEfood_NRPy.ipynb).\n",
    "\n",
    "## Introduction: \n",
    "With the `GiRaFFE` evolution thorn constructed, we now need to \"feed\" our giraffe with initial data to evolve. There are several different choices of initial data we can use here; here, we will only be implementing the \"Exact Wald\" initial data, given by Table 3 in [the original paper](https://arxiv.org/pdf/1704.00599.pdf):\n",
    "\\begin{align}\n",
    "A_{\\phi} &= \\frac{C_0}{2} r^2 \\sin^2 \\theta \\\\\n",
    "E_{\\phi} &= 2 M C_0 \\left( 1+ \\frac {2M}{r} \\right)^{-1/2} \\sin^2 \\theta \\\\\n",
    "\\end{align}\n",
    "(the unspecified components are set to 0). Here, $C_0$ is a constant that we will set to $1$ in our simulations. Now, to use this initial data scheme, we need to transform the above into the quantities actually tracked by `GiRaFFE` and HydroBase: $A_i$, $B^i$, $\\tilde{S}_i$, $v^i$, and $\\Phi$. Of these quantities, `GiRaFFEfood` will only set $A_i$, $v^i$, and $\\Phi=0$, then call a separate function to calculate  $\\tilde{S}_i$; `GiRaFFE` itself will call a function to set $B^i$ before the time-evolution begins. This can be done with eqs. 16 and 18, here given in that same order:\n",
    "\\begin{align}\n",
    "v^i &= \\alpha \\frac{\\epsilon^{ijk} E_j B_k}{B^2} -\\beta^i \\\\\n",
    "B^i &= \\frac{[ijk]}{\\sqrt{\\gamma}} \\partial_j A_k \\\\\n",
    "\\end{align}\n",
    "In the simulations, $B^i$ will be calculated numerically from $A_i$; however, it will be useful to analytically calculate $B^i$ to use calculating the initial $v^i$.\n",
    "\n",
    "This module requires the use of the NRPy+ [Shifted Kerr-Schild initial data module](../Tutorial-ADM_Initial_Data-ShiftedKerrSchild.ipynb)"
   ]
  },
  {
   "cell_type": "markdown",
   "metadata": {},
   "source": [
    "<a id='toc'></a>\n",
    "\n",
    "# Table of Contents:\n",
    "$$\\label{toc}$$\n",
    "\n",
    "This notebook is organized as follows\n",
    "\n",
    "1. [Step 1](#initializenrpy): Import core NRPy+ modules and set NRPy+ parameters\n",
    "1. [Step 2](#set_a_i): Set the vector $A_i$\n",
    "1. [Step 3](#set_vi): Calculate $v^i$ from $A_i$ and $E_i$\n",
    "1. [Step 4](#code_validation1): Code Validation against `GiRaFFEfood_NRPy.GiRaFFEfood_NRPy` NRPy+ Module\n",
    "1. [Step 5](#latex_pdf_output): Output this notebook to $\\LaTeX$-formatted PDF file"
   ]
  },
  {
   "cell_type": "markdown",
   "metadata": {},
   "source": [
    "<a id='initializenrpy'></a>\n",
    "\n",
    "# Step 1: Import core NRPy+ modules and set NRPy+ parameters \\[Back to [top](#toc)\\]\n",
    "$$\\label{initializenrpy}$$\n",
    "\n",
    "Here, we will import the NRPy+ core modules, set the reference metric to Cartesian, and set commonly used NRPy+ parameters. We will also set up a parameter to determine what initial data is set up, although it won't do much yet.\n",
    "\n"
   ]
  },
  {
   "cell_type": "code",
   "execution_count": 1,
   "metadata": {},
   "outputs": [],
   "source": [
    "# Step 0: Add NRPy's directory to the path\n",
    "# https://stackoverflow.com/questions/16780014/import-file-from-parent-directory\n",
    "import os,sys\n",
    "nrpy_dir_path = os.path.join(\"..\")\n",
    "if nrpy_dir_path not in sys.path:\n",
    "    sys.path.append(nrpy_dir_path)\n",
    "\n",
    "# Step 0.a: Import the NRPy+ core modules and set the reference metric to Cartesian\n",
    "import sympy as sp               # SymPy: The Python computer algebra package upon which NRPy+ depends\n",
    "import NRPy_param_funcs as par   # NRPy+: Parameter interface\n",
    "import indexedexp as ixp         # NRPy+: Symbolic indexed expression (e.g., tensors, vectors, etc.) support\n",
    "import GiRaFFEfood_NRPy.GiRaFFEfood_NRPy_Common_Functions as gfcf # Some useful functions for GiRaFFE initial data.\n",
    "\n",
    "import reference_metric as rfm\n",
    "par.set_parval_from_str(\"reference_metric::CoordSystem\",\"Cartesian\")\n",
    "rfm.reference_metric()\n",
    "\n",
    "# Step 1a: Set commonly used parameters.\n",
    "thismodule = \"GiRaFFEfood_NRPy\""
   ]
  },
  {
   "cell_type": "markdown",
   "metadata": {},
   "source": [
    "<a id='set_a_i'></a>\n",
    "\n",
    "# Step 2: Set the vector $A_i$ \\[Back to [top](#toc)\\]\n",
    "$$\\label{set_a_i}$$\n",
    "\n",
    "We will first build the fundamental vectors $A_i$ and $E_i$ in spherical coordinates (see [Table 3](https://arxiv.org/pdf/1704.00599.pdf)). Note that we use reference_metric.py to set $r$ and $\\theta$ in terms of Cartesian coordinates; this will save us a step later when we convert to Cartesian coordinates. Since $C_0 = 1$,\n",
    "$$A_{\\phi} = \\frac{1}{2} r^2 \\sin^2 \\theta.$$"
   ]
  },
  {
   "cell_type": "code",
   "execution_count": 2,
   "metadata": {},
   "outputs": [],
   "source": [
    "# Step 2: Set the vectors A and E in Spherical coordinates\n",
    "def Ar_EW(r,theta,phi, **params):\n",
    "    return sp.sympify(0)\n",
    "\n",
    "def Ath_EW(r,theta,phi, **params):\n",
    "    return sp.sympify(0)\n",
    "\n",
    "def Aph_EW(r,theta,phi, **params):\n",
    "    # 1/2 r^2 \\sin^2 \\theta\n",
    "    return (r * r * sp.sin(theta)**2)/2"
   ]
  },
  {
   "cell_type": "markdown",
   "metadata": {},
   "source": [
    "<a id='set_vi'></a>\n",
    "\n",
    "# Step 3: Calculate $v^i$ from $A_i$ and $E_i$ \\[Back to [top](#toc)\\]\n",
    "$$\\label{set_vi}$$\n",
    "\n",
    "Next, we will code up the Valencia velocity, which will require us to first code the electric and magnetic fields. The magnetic field is simply $$B^i = \\frac{[ijk]}{\\sqrt{\\gamma}} \\partial_j A_k.$$\n",
    "\n",
    "The electric field is\n",
    "$$E_{\\phi} = 2 M \\left( 1+ \\frac {2M}{r} \\right)^{-1/2} \\sin^2 \\theta,$$\\\n",
    "Where the other components are $0$.\n",
    "\n",
    "We can then calculate the the velocity as $$v_{(n)}^i = \\frac{\\epsilon^{ijk} E_j B_k}{B^2}.$$"
   ]
  },
  {
   "cell_type": "code",
   "execution_count": 3,
   "metadata": {},
   "outputs": [],
   "source": [
    "#Step 3: Compute v^i from A_i and E_i\n",
    "def ValenciavU_func_EW(**params):\n",
    "    M = params[\"M\"]\n",
    "    gammaDD = params[\"gammaDD\"] # Note that this must use a Cartesian basis!\n",
    "    sqrtgammaDET = params[\"sqrtgammaDET\"]\n",
    "    KerrSchild_radial_shift = params[\"KerrSchild_radial_shift\"]\n",
    "    r     = rfm.xxSph[0] + KerrSchild_radial_shift # We are setting the data up in Shifted Kerr-Schild coordinates\n",
    "    theta = rfm.xxSph[1]\n",
    "\n",
    "    LeviCivitaTensorUUU = ixp.LeviCivitaTensorUUU_dim3_rank3(sqrtgammaDET)\n",
    "\n",
    "    AD = gfcf.Axyz_func_spherical(Ar_EW,Ath_EW,Aph_EW,False,**params)\n",
    "    # For the initial data, we can analytically take the derivatives of A_i\n",
    "    ADdD = ixp.zerorank2()\n",
    "    for i in range(3):\n",
    "        for j in range(3):\n",
    "            ADdD[i][j] = sp.simplify(sp.diff(AD[i],rfm.xx_to_Cart[j]))\n",
    "\n",
    "    BU = ixp.zerorank1()\n",
    "    for i in range(3):\n",
    "        for j in range(3):\n",
    "            for k in range(3):\n",
    "                BU[i] += LeviCivitaTensorUUU[i][j][k] * ADdD[k][j]\n",
    "\n",
    "    EsphD = ixp.zerorank1()\n",
    "    # 2 M ( 1+ 2M/r )^{-1/2} \\sin^2 \\theta\n",
    "    EsphD[2] = 2 * M * sp.sin(theta)**2 / sp.sqrt(1+2*M/r)\n",
    "\n",
    "    ED = gfcf.change_basis_spherical_to_Cartesian_D(EsphD)\n",
    "\n",
    "    return gfcf.compute_ValenciavU_from_ED_and_BU(ED, BU, gammaDD)"
   ]
  },
  {
   "cell_type": "markdown",
   "metadata": {},
   "source": [
    "<a id='code_validation1'></a>\n",
    "\n",
    "# Step 4: Code Validation against `GiRaFFEfood_NRPy.GiRaFFEfood_NRPy` NRPy+ module  \\[Back to [top](#toc)\\]\n",
    "$$\\label{code_validation1}$$\n",
    "\n",
    "Here, as a code validation check, we verify agreement in the SymPy expressions for the `GiRaFFE` Exact Wald initial data equations  we intend to use between\n",
    "1. this tutorial and \n",
    "2. the NRPy+ [GiRaFFEfood_NRPy.GiRaFFEfood_NRPy_Exact_Wald](../edit/GiRaFFEfood_NRPy/GiRaFFEfood_NRPy_Exact_Wald.py) module.\n"
   ]
  },
  {
   "cell_type": "code",
   "execution_count": 4,
   "metadata": {},
   "outputs": [
    {
     "name": "stdout",
     "output_type": "stream",
     "text": [
      "gammaDD00*r0**2*xx0**2*xx2**2*(r0*sqrt(xx0**2 + xx1**2 + xx2**2) + xx0**2 + xx1**2 + xx2**2)**2/((xx0**2 + xx1**2 + xx2**2)*(gammaDD00*gammaDD11*gammaDD22 - gammaDD00*gammaDD12**2 - gammaDD01**2*gammaDD22 + 2*gammaDD01*gammaDD02*gammaDD12 - gammaDD02**2*gammaDD11)*(xx0**4 + 2*xx0**2*xx1**2 + 2*xx0**2*xx2**2 + xx1**4 + 2*xx1**2*xx2**2 + xx2**4)**2) + 2*gammaDD01*r0**2*xx0*xx1*xx2**2*(r0*sqrt(xx0**2 + xx1**2 + xx2**2) + xx0**2 + xx1**2 + xx2**2)**2/((xx0**2 + xx1**2 + xx2**2)*(gammaDD00*gammaDD11*gammaDD22 - gammaDD00*gammaDD12**2 - gammaDD01**2*gammaDD22 + 2*gammaDD01*gammaDD02*gammaDD12 - gammaDD02**2*gammaDD11)*(xx0**4 + 2*xx0**2*xx1**2 + 2*xx0**2*xx2**2 + xx1**4 + 2*xx1**2*xx2**2 + xx2**4)**2) + 2*gammaDD02*r0*xx0*xx2*((r0 + sqrt(xx0**2 + xx1**2 + xx2**2))*(2*xx0**2*xx2**2*(r0 + sqrt(xx0**2 + xx1**2 + xx2**2))*(xx0**2 + xx1**2 + xx2**2)**(7/2) - 2*xx0**2*(r0 + sqrt(xx0**2 + xx1**2 + xx2**2))*(xx0**2 + xx1**2 + xx2**2)**(9/2) + 2*xx0**2*(xx0**2 + xx1**2)*(xx0**2 + xx1**2 + xx2**2)**4 + (r0 + sqrt(xx0**2 + xx1**2 + xx2**2))*(xx0**2 + xx1**2)*(xx0**2 + xx1**2 + xx2**2)**(9/2))/(2*(xx0**2 + xx1**2)*(xx0**2 + xx1**2 + xx2**2)**(11/2)*sqrt(gammaDD00*gammaDD11*gammaDD22 - gammaDD00*gammaDD12**2 - gammaDD01**2*gammaDD22 + 2*gammaDD01*gammaDD02*gammaDD12 - gammaDD02**2*gammaDD11)) - (r0 + sqrt(xx0**2 + xx1**2 + xx2**2))*(-2*xx1**2*xx2**2*(r0 + sqrt(xx0**2 + xx1**2 + xx2**2))*(xx0**2 + xx1**2 + xx2**2)**(7/2) + 2*xx1**2*(r0 + sqrt(xx0**2 + xx1**2 + xx2**2))*(xx0**2 + xx1**2 + xx2**2)**(9/2) - 2*xx1**2*(xx0**2 + xx1**2)*(xx0**2 + xx1**2 + xx2**2)**4 - (r0 + sqrt(xx0**2 + xx1**2 + xx2**2))*(xx0**2 + xx1**2)*(xx0**2 + xx1**2 + xx2**2)**(9/2))/(2*(xx0**2 + xx1**2)*(xx0**2 + xx1**2 + xx2**2)**(11/2)*sqrt(gammaDD00*gammaDD11*gammaDD22 - gammaDD00*gammaDD12**2 - gammaDD01**2*gammaDD22 + 2*gammaDD01*gammaDD02*gammaDD12 - gammaDD02**2*gammaDD11)))*(r0*sqrt(xx0**2 + xx1**2 + xx2**2) + xx0**2 + xx1**2 + xx2**2)/(sqrt(xx0**2 + xx1**2 + xx2**2)*sqrt(gammaDD00*gammaDD11*gammaDD22 - gammaDD00*gammaDD12**2 - gammaDD01**2*gammaDD22 + 2*gammaDD01*gammaDD02*gammaDD12 - gammaDD02**2*gammaDD11)*(xx0**4 + 2*xx0**2*xx1**2 + 2*xx0**2*xx2**2 + xx1**4 + 2*xx1**2*xx2**2 + xx2**4)) + gammaDD11*r0**2*xx1**2*xx2**2*(r0*sqrt(xx0**2 + xx1**2 + xx2**2) + xx0**2 + xx1**2 + xx2**2)**2/((xx0**2 + xx1**2 + xx2**2)*(gammaDD00*gammaDD11*gammaDD22 - gammaDD00*gammaDD12**2 - gammaDD01**2*gammaDD22 + 2*gammaDD01*gammaDD02*gammaDD12 - gammaDD02**2*gammaDD11)*(xx0**4 + 2*xx0**2*xx1**2 + 2*xx0**2*xx2**2 + xx1**4 + 2*xx1**2*xx2**2 + xx2**4)**2) + 2*gammaDD12*r0*xx1*xx2*((r0 + sqrt(xx0**2 + xx1**2 + xx2**2))*(2*xx0**2*xx2**2*(r0 + sqrt(xx0**2 + xx1**2 + xx2**2))*(xx0**2 + xx1**2 + xx2**2)**(7/2) - 2*xx0**2*(r0 + sqrt(xx0**2 + xx1**2 + xx2**2))*(xx0**2 + xx1**2 + xx2**2)**(9/2) + 2*xx0**2*(xx0**2 + xx1**2)*(xx0**2 + xx1**2 + xx2**2)**4 + (r0 + sqrt(xx0**2 + xx1**2 + xx2**2))*(xx0**2 + xx1**2)*(xx0**2 + xx1**2 + xx2**2)**(9/2))/(2*(xx0**2 + xx1**2)*(xx0**2 + xx1**2 + xx2**2)**(11/2)*sqrt(gammaDD00*gammaDD11*gammaDD22 - gammaDD00*gammaDD12**2 - gammaDD01**2*gammaDD22 + 2*gammaDD01*gammaDD02*gammaDD12 - gammaDD02**2*gammaDD11)) - (r0 + sqrt(xx0**2 + xx1**2 + xx2**2))*(-2*xx1**2*xx2**2*(r0 + sqrt(xx0**2 + xx1**2 + xx2**2))*(xx0**2 + xx1**2 + xx2**2)**(7/2) + 2*xx1**2*(r0 + sqrt(xx0**2 + xx1**2 + xx2**2))*(xx0**2 + xx1**2 + xx2**2)**(9/2) - 2*xx1**2*(xx0**2 + xx1**2)*(xx0**2 + xx1**2 + xx2**2)**4 - (r0 + sqrt(xx0**2 + xx1**2 + xx2**2))*(xx0**2 + xx1**2)*(xx0**2 + xx1**2 + xx2**2)**(9/2))/(2*(xx0**2 + xx1**2)*(xx0**2 + xx1**2 + xx2**2)**(11/2)*sqrt(gammaDD00*gammaDD11*gammaDD22 - gammaDD00*gammaDD12**2 - gammaDD01**2*gammaDD22 + 2*gammaDD01*gammaDD02*gammaDD12 - gammaDD02**2*gammaDD11)))*(r0*sqrt(xx0**2 + xx1**2 + xx2**2) + xx0**2 + xx1**2 + xx2**2)/(sqrt(xx0**2 + xx1**2 + xx2**2)*sqrt(gammaDD00*gammaDD11*gammaDD22 - gammaDD00*gammaDD12**2 - gammaDD01**2*gammaDD22 + 2*gammaDD01*gammaDD02*gammaDD12 - gammaDD02**2*gammaDD11)*(xx0**4 + 2*xx0**2*xx1**2 + 2*xx0**2*xx2**2 + xx1**4 + 2*xx1**2*xx2**2 + xx2**4)) + gammaDD22*((r0 + sqrt(xx0**2 + xx1**2 + xx2**2))*(2*xx0**2*xx2**2*(r0 + sqrt(xx0**2 + xx1**2 + xx2**2))*(xx0**2 + xx1**2 + xx2**2)**(7/2) - 2*xx0**2*(r0 + sqrt(xx0**2 + xx1**2 + xx2**2))*(xx0**2 + xx1**2 + xx2**2)**(9/2) + 2*xx0**2*(xx0**2 + xx1**2)*(xx0**2 + xx1**2 + xx2**2)**4 + (r0 + sqrt(xx0**2 + xx1**2 + xx2**2))*(xx0**2 + xx1**2)*(xx0**2 + xx1**2 + xx2**2)**(9/2))/(2*(xx0**2 + xx1**2)*(xx0**2 + xx1**2 + xx2**2)**(11/2)*sqrt(gammaDD00*gammaDD11*gammaDD22 - gammaDD00*gammaDD12**2 - gammaDD01**2*gammaDD22 + 2*gammaDD01*gammaDD02*gammaDD12 - gammaDD02**2*gammaDD11)) - (r0 + sqrt(xx0**2 + xx1**2 + xx2**2))*(-2*xx1**2*xx2**2*(r0 + sqrt(xx0**2 + xx1**2 + xx2**2))*(xx0**2 + xx1**2 + xx2**2)**(7/2) + 2*xx1**2*(r0 + sqrt(xx0**2 + xx1**2 + xx2**2))*(xx0**2 + xx1**2 + xx2**2)**(9/2) - 2*xx1**2*(xx0**2 + xx1**2)*(xx0**2 + xx1**2 + xx2**2)**4 - (r0 + sqrt(xx0**2 + xx1**2 + xx2**2))*(xx0**2 + xx1**2)*(xx0**2 + xx1**2 + xx2**2)**(9/2))/(2*(xx0**2 + xx1**2)*(xx0**2 + xx1**2 + xx2**2)**(11/2)*sqrt(gammaDD00*gammaDD11*gammaDD22 - gammaDD00*gammaDD12**2 - gammaDD01**2*gammaDD22 + 2*gammaDD01*gammaDD02*gammaDD12 - gammaDD02**2*gammaDD11)))**2\n",
      "gammaDD00*r0**2*xx0**2*xx2**2*(r0*sqrt(xx0**2 + xx1**2 + xx2**2) + xx0**2 + xx1**2 + xx2**2)**2/((xx0**2 + xx1**2 + xx2**2)*(gammaDD00*gammaDD11*gammaDD22 - gammaDD00*gammaDD12**2 - gammaDD01**2*gammaDD22 + 2*gammaDD01*gammaDD02*gammaDD12 - gammaDD02**2*gammaDD11)*(xx0**4 + 2*xx0**2*xx1**2 + 2*xx0**2*xx2**2 + xx1**4 + 2*xx1**2*xx2**2 + xx2**4)**2) + 2*gammaDD01*r0**2*xx0*xx1*xx2**2*(r0*sqrt(xx0**2 + xx1**2 + xx2**2) + xx0**2 + xx1**2 + xx2**2)**2/((xx0**2 + xx1**2 + xx2**2)*(gammaDD00*gammaDD11*gammaDD22 - gammaDD00*gammaDD12**2 - gammaDD01**2*gammaDD22 + 2*gammaDD01*gammaDD02*gammaDD12 - gammaDD02**2*gammaDD11)*(xx0**4 + 2*xx0**2*xx1**2 + 2*xx0**2*xx2**2 + xx1**4 + 2*xx1**2*xx2**2 + xx2**4)**2) + 2*gammaDD02*r0*xx0*xx2*((r0 + sqrt(xx0**2 + xx1**2 + xx2**2))*(2*xx0**2*xx2**2*(r0 + sqrt(xx0**2 + xx1**2 + xx2**2))*(xx0**2 + xx1**2 + xx2**2)**(7/2) - 2*xx0**2*(r0 + sqrt(xx0**2 + xx1**2 + xx2**2))*(xx0**2 + xx1**2 + xx2**2)**(9/2) + 2*xx0**2*(xx0**2 + xx1**2)*(xx0**2 + xx1**2 + xx2**2)**4 + (r0 + sqrt(xx0**2 + xx1**2 + xx2**2))*(xx0**2 + xx1**2)*(xx0**2 + xx1**2 + xx2**2)**(9/2))/(2*(xx0**2 + xx1**2)*(xx0**2 + xx1**2 + xx2**2)**(11/2)*sqrt(gammaDD00*gammaDD11*gammaDD22 - gammaDD00*gammaDD12**2 - gammaDD01**2*gammaDD22 + 2*gammaDD01*gammaDD02*gammaDD12 - gammaDD02**2*gammaDD11)) - (r0 + sqrt(xx0**2 + xx1**2 + xx2**2))*(-2*xx1**2*xx2**2*(r0 + sqrt(xx0**2 + xx1**2 + xx2**2))*(xx0**2 + xx1**2 + xx2**2)**(7/2) + 2*xx1**2*(r0 + sqrt(xx0**2 + xx1**2 + xx2**2))*(xx0**2 + xx1**2 + xx2**2)**(9/2) - 2*xx1**2*(xx0**2 + xx1**2)*(xx0**2 + xx1**2 + xx2**2)**4 - (r0 + sqrt(xx0**2 + xx1**2 + xx2**2))*(xx0**2 + xx1**2)*(xx0**2 + xx1**2 + xx2**2)**(9/2))/(2*(xx0**2 + xx1**2)*(xx0**2 + xx1**2 + xx2**2)**(11/2)*sqrt(gammaDD00*gammaDD11*gammaDD22 - gammaDD00*gammaDD12**2 - gammaDD01**2*gammaDD22 + 2*gammaDD01*gammaDD02*gammaDD12 - gammaDD02**2*gammaDD11)))*(r0*sqrt(xx0**2 + xx1**2 + xx2**2) + xx0**2 + xx1**2 + xx2**2)/(sqrt(xx0**2 + xx1**2 + xx2**2)*sqrt(gammaDD00*gammaDD11*gammaDD22 - gammaDD00*gammaDD12**2 - gammaDD01**2*gammaDD22 + 2*gammaDD01*gammaDD02*gammaDD12 - gammaDD02**2*gammaDD11)*(xx0**4 + 2*xx0**2*xx1**2 + 2*xx0**2*xx2**2 + xx1**4 + 2*xx1**2*xx2**2 + xx2**4)) + gammaDD11*r0**2*xx1**2*xx2**2*(r0*sqrt(xx0**2 + xx1**2 + xx2**2) + xx0**2 + xx1**2 + xx2**2)**2/((xx0**2 + xx1**2 + xx2**2)*(gammaDD00*gammaDD11*gammaDD22 - gammaDD00*gammaDD12**2 - gammaDD01**2*gammaDD22 + 2*gammaDD01*gammaDD02*gammaDD12 - gammaDD02**2*gammaDD11)*(xx0**4 + 2*xx0**2*xx1**2 + 2*xx0**2*xx2**2 + xx1**4 + 2*xx1**2*xx2**2 + xx2**4)**2) + 2*gammaDD12*r0*xx1*xx2*((r0 + sqrt(xx0**2 + xx1**2 + xx2**2))*(2*xx0**2*xx2**2*(r0 + sqrt(xx0**2 + xx1**2 + xx2**2))*(xx0**2 + xx1**2 + xx2**2)**(7/2) - 2*xx0**2*(r0 + sqrt(xx0**2 + xx1**2 + xx2**2))*(xx0**2 + xx1**2 + xx2**2)**(9/2) + 2*xx0**2*(xx0**2 + xx1**2)*(xx0**2 + xx1**2 + xx2**2)**4 + (r0 + sqrt(xx0**2 + xx1**2 + xx2**2))*(xx0**2 + xx1**2)*(xx0**2 + xx1**2 + xx2**2)**(9/2))/(2*(xx0**2 + xx1**2)*(xx0**2 + xx1**2 + xx2**2)**(11/2)*sqrt(gammaDD00*gammaDD11*gammaDD22 - gammaDD00*gammaDD12**2 - gammaDD01**2*gammaDD22 + 2*gammaDD01*gammaDD02*gammaDD12 - gammaDD02**2*gammaDD11)) - (r0 + sqrt(xx0**2 + xx1**2 + xx2**2))*(-2*xx1**2*xx2**2*(r0 + sqrt(xx0**2 + xx1**2 + xx2**2))*(xx0**2 + xx1**2 + xx2**2)**(7/2) + 2*xx1**2*(r0 + sqrt(xx0**2 + xx1**2 + xx2**2))*(xx0**2 + xx1**2 + xx2**2)**(9/2) - 2*xx1**2*(xx0**2 + xx1**2)*(xx0**2 + xx1**2 + xx2**2)**4 - (r0 + sqrt(xx0**2 + xx1**2 + xx2**2))*(xx0**2 + xx1**2)*(xx0**2 + xx1**2 + xx2**2)**(9/2))/(2*(xx0**2 + xx1**2)*(xx0**2 + xx1**2 + xx2**2)**(11/2)*sqrt(gammaDD00*gammaDD11*gammaDD22 - gammaDD00*gammaDD12**2 - gammaDD01**2*gammaDD22 + 2*gammaDD01*gammaDD02*gammaDD12 - gammaDD02**2*gammaDD11)))*(r0*sqrt(xx0**2 + xx1**2 + xx2**2) + xx0**2 + xx1**2 + xx2**2)/(sqrt(xx0**2 + xx1**2 + xx2**2)*sqrt(gammaDD00*gammaDD11*gammaDD22 - gammaDD00*gammaDD12**2 - gammaDD01**2*gammaDD22 + 2*gammaDD01*gammaDD02*gammaDD12 - gammaDD02**2*gammaDD11)*(xx0**4 + 2*xx0**2*xx1**2 + 2*xx0**2*xx2**2 + xx1**4 + 2*xx1**2*xx2**2 + xx2**4)) + gammaDD22*((r0 + sqrt(xx0**2 + xx1**2 + xx2**2))*(2*xx0**2*xx2**2*(r0 + sqrt(xx0**2 + xx1**2 + xx2**2))*(xx0**2 + xx1**2 + xx2**2)**(7/2) - 2*xx0**2*(r0 + sqrt(xx0**2 + xx1**2 + xx2**2))*(xx0**2 + xx1**2 + xx2**2)**(9/2) + 2*xx0**2*(xx0**2 + xx1**2)*(xx0**2 + xx1**2 + xx2**2)**4 + (r0 + sqrt(xx0**2 + xx1**2 + xx2**2))*(xx0**2 + xx1**2)*(xx0**2 + xx1**2 + xx2**2)**(9/2))/(2*(xx0**2 + xx1**2)*(xx0**2 + xx1**2 + xx2**2)**(11/2)*sqrt(gammaDD00*gammaDD11*gammaDD22 - gammaDD00*gammaDD12**2 - gammaDD01**2*gammaDD22 + 2*gammaDD01*gammaDD02*gammaDD12 - gammaDD02**2*gammaDD11)) - (r0 + sqrt(xx0**2 + xx1**2 + xx2**2))*(-2*xx1**2*xx2**2*(r0 + sqrt(xx0**2 + xx1**2 + xx2**2))*(xx0**2 + xx1**2 + xx2**2)**(7/2) + 2*xx1**2*(r0 + sqrt(xx0**2 + xx1**2 + xx2**2))*(xx0**2 + xx1**2 + xx2**2)**(9/2) - 2*xx1**2*(xx0**2 + xx1**2)*(xx0**2 + xx1**2 + xx2**2)**4 - (r0 + sqrt(xx0**2 + xx1**2 + xx2**2))*(xx0**2 + xx1**2)*(xx0**2 + xx1**2 + xx2**2)**(9/2))/(2*(xx0**2 + xx1**2)*(xx0**2 + xx1**2 + xx2**2)**(11/2)*sqrt(gammaDD00*gammaDD11*gammaDD22 - gammaDD00*gammaDD12**2 - gammaDD01**2*gammaDD22 + 2*gammaDD01*gammaDD02*gammaDD12 - gammaDD02**2*gammaDD11)))**2\n",
      "gammaDD00*r0**2*xx0**2*xx2**2*(r0*sqrt(xx0**2 + xx1**2 + xx2**2) + xx0**2 + xx1**2 + xx2**2)**2/((xx0**2 + xx1**2 + xx2**2)*(gammaDD00*gammaDD11*gammaDD22 - gammaDD00*gammaDD12**2 - gammaDD01**2*gammaDD22 + 2*gammaDD01*gammaDD02*gammaDD12 - gammaDD02**2*gammaDD11)*(xx0**4 + 2*xx0**2*xx1**2 + 2*xx0**2*xx2**2 + xx1**4 + 2*xx1**2*xx2**2 + xx2**4)**2) + 2*gammaDD01*r0**2*xx0*xx1*xx2**2*(r0*sqrt(xx0**2 + xx1**2 + xx2**2) + xx0**2 + xx1**2 + xx2**2)**2/((xx0**2 + xx1**2 + xx2**2)*(gammaDD00*gammaDD11*gammaDD22 - gammaDD00*gammaDD12**2 - gammaDD01**2*gammaDD22 + 2*gammaDD01*gammaDD02*gammaDD12 - gammaDD02**2*gammaDD11)*(xx0**4 + 2*xx0**2*xx1**2 + 2*xx0**2*xx2**2 + xx1**4 + 2*xx1**2*xx2**2 + xx2**4)**2) + 2*gammaDD02*r0*xx0*xx2*((r0 + sqrt(xx0**2 + xx1**2 + xx2**2))*(2*xx0**2*xx2**2*(r0 + sqrt(xx0**2 + xx1**2 + xx2**2))*(xx0**2 + xx1**2 + xx2**2)**(7/2) - 2*xx0**2*(r0 + sqrt(xx0**2 + xx1**2 + xx2**2))*(xx0**2 + xx1**2 + xx2**2)**(9/2) + 2*xx0**2*(xx0**2 + xx1**2)*(xx0**2 + xx1**2 + xx2**2)**4 + (r0 + sqrt(xx0**2 + xx1**2 + xx2**2))*(xx0**2 + xx1**2)*(xx0**2 + xx1**2 + xx2**2)**(9/2))/(2*(xx0**2 + xx1**2)*(xx0**2 + xx1**2 + xx2**2)**(11/2)*sqrt(gammaDD00*gammaDD11*gammaDD22 - gammaDD00*gammaDD12**2 - gammaDD01**2*gammaDD22 + 2*gammaDD01*gammaDD02*gammaDD12 - gammaDD02**2*gammaDD11)) - (r0 + sqrt(xx0**2 + xx1**2 + xx2**2))*(-2*xx1**2*xx2**2*(r0 + sqrt(xx0**2 + xx1**2 + xx2**2))*(xx0**2 + xx1**2 + xx2**2)**(7/2) + 2*xx1**2*(r0 + sqrt(xx0**2 + xx1**2 + xx2**2))*(xx0**2 + xx1**2 + xx2**2)**(9/2) - 2*xx1**2*(xx0**2 + xx1**2)*(xx0**2 + xx1**2 + xx2**2)**4 - (r0 + sqrt(xx0**2 + xx1**2 + xx2**2))*(xx0**2 + xx1**2)*(xx0**2 + xx1**2 + xx2**2)**(9/2))/(2*(xx0**2 + xx1**2)*(xx0**2 + xx1**2 + xx2**2)**(11/2)*sqrt(gammaDD00*gammaDD11*gammaDD22 - gammaDD00*gammaDD12**2 - gammaDD01**2*gammaDD22 + 2*gammaDD01*gammaDD02*gammaDD12 - gammaDD02**2*gammaDD11)))*(r0*sqrt(xx0**2 + xx1**2 + xx2**2) + xx0**2 + xx1**2 + xx2**2)/(sqrt(xx0**2 + xx1**2 + xx2**2)*sqrt(gammaDD00*gammaDD11*gammaDD22 - gammaDD00*gammaDD12**2 - gammaDD01**2*gammaDD22 + 2*gammaDD01*gammaDD02*gammaDD12 - gammaDD02**2*gammaDD11)*(xx0**4 + 2*xx0**2*xx1**2 + 2*xx0**2*xx2**2 + xx1**4 + 2*xx1**2*xx2**2 + xx2**4)) + gammaDD11*r0**2*xx1**2*xx2**2*(r0*sqrt(xx0**2 + xx1**2 + xx2**2) + xx0**2 + xx1**2 + xx2**2)**2/((xx0**2 + xx1**2 + xx2**2)*(gammaDD00*gammaDD11*gammaDD22 - gammaDD00*gammaDD12**2 - gammaDD01**2*gammaDD22 + 2*gammaDD01*gammaDD02*gammaDD12 - gammaDD02**2*gammaDD11)*(xx0**4 + 2*xx0**2*xx1**2 + 2*xx0**2*xx2**2 + xx1**4 + 2*xx1**2*xx2**2 + xx2**4)**2) + 2*gammaDD12*r0*xx1*xx2*((r0 + sqrt(xx0**2 + xx1**2 + xx2**2))*(2*xx0**2*xx2**2*(r0 + sqrt(xx0**2 + xx1**2 + xx2**2))*(xx0**2 + xx1**2 + xx2**2)**(7/2) - 2*xx0**2*(r0 + sqrt(xx0**2 + xx1**2 + xx2**2))*(xx0**2 + xx1**2 + xx2**2)**(9/2) + 2*xx0**2*(xx0**2 + xx1**2)*(xx0**2 + xx1**2 + xx2**2)**4 + (r0 + sqrt(xx0**2 + xx1**2 + xx2**2))*(xx0**2 + xx1**2)*(xx0**2 + xx1**2 + xx2**2)**(9/2))/(2*(xx0**2 + xx1**2)*(xx0**2 + xx1**2 + xx2**2)**(11/2)*sqrt(gammaDD00*gammaDD11*gammaDD22 - gammaDD00*gammaDD12**2 - gammaDD01**2*gammaDD22 + 2*gammaDD01*gammaDD02*gammaDD12 - gammaDD02**2*gammaDD11)) - (r0 + sqrt(xx0**2 + xx1**2 + xx2**2))*(-2*xx1**2*xx2**2*(r0 + sqrt(xx0**2 + xx1**2 + xx2**2))*(xx0**2 + xx1**2 + xx2**2)**(7/2) + 2*xx1**2*(r0 + sqrt(xx0**2 + xx1**2 + xx2**2))*(xx0**2 + xx1**2 + xx2**2)**(9/2) - 2*xx1**2*(xx0**2 + xx1**2)*(xx0**2 + xx1**2 + xx2**2)**4 - (r0 + sqrt(xx0**2 + xx1**2 + xx2**2))*(xx0**2 + xx1**2)*(xx0**2 + xx1**2 + xx2**2)**(9/2))/(2*(xx0**2 + xx1**2)*(xx0**2 + xx1**2 + xx2**2)**(11/2)*sqrt(gammaDD00*gammaDD11*gammaDD22 - gammaDD00*gammaDD12**2 - gammaDD01**2*gammaDD22 + 2*gammaDD01*gammaDD02*gammaDD12 - gammaDD02**2*gammaDD11)))*(r0*sqrt(xx0**2 + xx1**2 + xx2**2) + xx0**2 + xx1**2 + xx2**2)/(sqrt(xx0**2 + xx1**2 + xx2**2)*sqrt(gammaDD00*gammaDD11*gammaDD22 - gammaDD00*gammaDD12**2 - gammaDD01**2*gammaDD22 + 2*gammaDD01*gammaDD02*gammaDD12 - gammaDD02**2*gammaDD11)*(xx0**4 + 2*xx0**2*xx1**2 + 2*xx0**2*xx2**2 + xx1**4 + 2*xx1**2*xx2**2 + xx2**4)) + gammaDD22*((r0 + sqrt(xx0**2 + xx1**2 + xx2**2))*(2*xx0**2*xx2**2*(r0 + sqrt(xx0**2 + xx1**2 + xx2**2))*(xx0**2 + xx1**2 + xx2**2)**(7/2) - 2*xx0**2*(r0 + sqrt(xx0**2 + xx1**2 + xx2**2))*(xx0**2 + xx1**2 + xx2**2)**(9/2) + 2*xx0**2*(xx0**2 + xx1**2)*(xx0**2 + xx1**2 + xx2**2)**4 + (r0 + sqrt(xx0**2 + xx1**2 + xx2**2))*(xx0**2 + xx1**2)*(xx0**2 + xx1**2 + xx2**2)**(9/2))/(2*(xx0**2 + xx1**2)*(xx0**2 + xx1**2 + xx2**2)**(11/2)*sqrt(gammaDD00*gammaDD11*gammaDD22 - gammaDD00*gammaDD12**2 - gammaDD01**2*gammaDD22 + 2*gammaDD01*gammaDD02*gammaDD12 - gammaDD02**2*gammaDD11)) - (r0 + sqrt(xx0**2 + xx1**2 + xx2**2))*(-2*xx1**2*xx2**2*(r0 + sqrt(xx0**2 + xx1**2 + xx2**2))*(xx0**2 + xx1**2 + xx2**2)**(7/2) + 2*xx1**2*(r0 + sqrt(xx0**2 + xx1**2 + xx2**2))*(xx0**2 + xx1**2 + xx2**2)**(9/2) - 2*xx1**2*(xx0**2 + xx1**2)*(xx0**2 + xx1**2 + xx2**2)**4 - (r0 + sqrt(xx0**2 + xx1**2 + xx2**2))*(xx0**2 + xx1**2)*(xx0**2 + xx1**2 + xx2**2)**(9/2))/(2*(xx0**2 + xx1**2)*(xx0**2 + xx1**2 + xx2**2)**(11/2)*sqrt(gammaDD00*gammaDD11*gammaDD22 - gammaDD00*gammaDD12**2 - gammaDD01**2*gammaDD22 + 2*gammaDD01*gammaDD02*gammaDD12 - gammaDD02**2*gammaDD11)))**2\n",
      "Consistency check between GiRaFFEfood_NRPy tutorial and NRPy+ module:\n"
     ]
    },
    {
     "ename": "AttributeError",
     "evalue": "module 'GiRaFFEfood_NRPy.GiRaFFEfood_NRPy' has no attribute 'ValenciavU'",
     "output_type": "error",
     "traceback": [
      "\u001b[0;31m---------------------------------------------------------------------------\u001b[0m",
      "\u001b[0;31mAttributeError\u001b[0m                            Traceback (most recent call last)",
      "\u001b[0;32m<ipython-input-4-d624ab5f010a>\u001b[0m in \u001b[0;36m<module>\u001b[0;34m\u001b[0m\n\u001b[1;32m     40\u001b[0m \u001b[0;34m\u001b[0m\u001b[0m\n\u001b[1;32m     41\u001b[0m \u001b[0;32mfor\u001b[0m \u001b[0mi\u001b[0m \u001b[0;32min\u001b[0m \u001b[0mrange\u001b[0m\u001b[0;34m(\u001b[0m\u001b[0;36m3\u001b[0m\u001b[0;34m)\u001b[0m\u001b[0;34m:\u001b[0m\u001b[0;34m\u001b[0m\u001b[0;34m\u001b[0m\u001b[0m\n\u001b[0;32m---> 42\u001b[0;31m     \u001b[0mconsistency_check\u001b[0m\u001b[0;34m(\u001b[0m\u001b[0mValenciav_ewD\u001b[0m\u001b[0;34m[\u001b[0m\u001b[0mi\u001b[0m\u001b[0;34m]\u001b[0m\u001b[0;34m,\u001b[0m\u001b[0mgf\u001b[0m\u001b[0;34m.\u001b[0m\u001b[0mValenciavU\u001b[0m\u001b[0;34m[\u001b[0m\u001b[0mi\u001b[0m\u001b[0;34m]\u001b[0m\u001b[0;34m,\u001b[0m\u001b[0;34m\"ValenciavU\"\u001b[0m\u001b[0;34m+\u001b[0m\u001b[0mstr\u001b[0m\u001b[0;34m(\u001b[0m\u001b[0mi\u001b[0m\u001b[0;34m)\u001b[0m\u001b[0;34m)\u001b[0m\u001b[0;34m\u001b[0m\u001b[0;34m\u001b[0m\u001b[0m\n\u001b[0m\u001b[1;32m     43\u001b[0m     \u001b[0mconsistency_check\u001b[0m\u001b[0;34m(\u001b[0m\u001b[0mA_ewD\u001b[0m\u001b[0;34m[\u001b[0m\u001b[0mi\u001b[0m\u001b[0;34m]\u001b[0m\u001b[0;34m,\u001b[0m\u001b[0mgf\u001b[0m\u001b[0;34m.\u001b[0m\u001b[0mAD\u001b[0m\u001b[0;34m[\u001b[0m\u001b[0mi\u001b[0m\u001b[0;34m]\u001b[0m\u001b[0;34m,\u001b[0m\u001b[0;34m\"AD\"\u001b[0m\u001b[0;34m+\u001b[0m\u001b[0mstr\u001b[0m\u001b[0;34m(\u001b[0m\u001b[0mi\u001b[0m\u001b[0;34m)\u001b[0m\u001b[0;34m)\u001b[0m\u001b[0;34m\u001b[0m\u001b[0;34m\u001b[0m\u001b[0m\n",
      "\u001b[0;31mAttributeError\u001b[0m: module 'GiRaFFEfood_NRPy.GiRaFFEfood_NRPy' has no attribute 'ValenciavU'"
     ]
    }
   ],
   "source": [
    "import GiRaFFEfood_NRPy.GiRaFFEfood_NRPy as gf\n",
    "import BSSN.ShiftedKerrSchild as sks\n",
    "sks.ShiftedKerrSchild(True)\n",
    "import reference_metric as rfm   # NRPy+: Reference metric support\n",
    "par.set_parval_from_str(\"reference_metric::CoordSystem\",\"Cartesian\")\n",
    "rfm.reference_metric()\n",
    "\n",
    "# Use the Jacobian matrix to transform the vectors to Cartesian coordinates.\n",
    "drrefmetric__dx_0UDmatrix = sp.Matrix([[sp.diff(rfm.xxSph[0],rfm.xx[0]), sp.diff(rfm.xxSph[0],rfm.xx[1]), sp.diff(rfm.xxSph[0],rfm.xx[2])],\n",
    "                                       [sp.diff(rfm.xxSph[1],rfm.xx[0]), sp.diff(rfm.xxSph[1],rfm.xx[1]), sp.diff(rfm.xxSph[1],rfm.xx[2])],\n",
    "                                       [sp.diff(rfm.xxSph[2],rfm.xx[0]), sp.diff(rfm.xxSph[2],rfm.xx[1]), sp.diff(rfm.xxSph[2],rfm.xx[2])]])\n",
    "dx__drrefmetric_0UDmatrix = drrefmetric__dx_0UDmatrix.inv()\n",
    "gammaSphDD = ixp.zerorank2()\n",
    "for i in range(3):\n",
    "    for j in range(3):\n",
    "        gammaSphDD[i][j] += sks.gammaSphDD[i][j].subs(sks.r,rfm.xxSph[0]).subs(sks.th,rfm.xxSph[1])\n",
    "\n",
    "# gammaDD = ixp.zerorank2()\n",
    "# for i in range(3):\n",
    "#     for j in range(3):\n",
    "#         for k in range(3):\n",
    "#             for l in range(3):\n",
    "#                 gammaDD[i][j] += drrefmetric__dx_0UDmatrix[(k,i)]*drrefmetric__dx_0UDmatrix[(l,j)]*gammaSphDD[k][l]\n",
    "gammaDD = ixp.declarerank2(\"gammaDD\",\"sym01\")\n",
    "unused_gammaUU,gammaDET = ixp.symm_matrix_inverter3x3(gammaDD)\n",
    "sqrtgammaDET = sp.sqrt(gammaDET)\n",
    "\n",
    "A_ewD = gfcf.Axyz_func_spherical(Ar_EW,Ath_EW,Aph_EW,stagger_enable = True,KerrSchild_radial_shift=sks.r0)\n",
    "Valenciav_ewD = ValenciavU_func_EW(M=sks.M,KerrSchild_radial_shift=sks.r0,gammaDD=gammaDD,sqrtgammaDET=sqrtgammaDET)\n",
    "# gf.GiRaFFEfood_NRPy_generate_initial_data(ID_type = \"ExactWald\", stagger_enable = True,M=sks.M,KerrSchild_radial_shift=sks.r0,gammaDD=gammaDD,sqrtgammaDET=sqrtgammaDET)\n",
    "\n",
    "print(\"Consistency check between GiRaFFEfood_NRPy tutorial and NRPy+ module:\")\n",
    "\n",
    "def consistency_check(quantity1,quantity2,string):\n",
    "    if quantity1-quantity2==0:\n",
    "        print(string+\" is in agreement!\")\n",
    "    else:\n",
    "        print(string+\" does not agree!\")\n",
    "        sys.exit(1)\n",
    "\n",
    "for i in range(3):\n",
    "    consistency_check(Valenciav_ewD[i],gf.ValenciavU[i],\"ValenciavU\"+str(i))\n",
    "    consistency_check(A_ewD[i],gf.AD[i],\"AD\"+str(i))"
   ]
  },
  {
   "cell_type": "raw",
   "metadata": {},
   "source": [
    "gammaDD00*r0**2*xx0**2*xx2**2*(r0*sqrt(xx0**2 + xx1**2 + xx2**2) + xx0**2 + xx1**2 + xx2**2)**2/((xx0**2 + xx1**2 + xx2**2)*(gammaDD00*gammaDD11*gammaDD22 - gammaDD00*gammaDD12**2 - gammaDD01**2*gammaDD22 + 2*gammaDD01*gammaDD02*gammaDD12 - gammaDD02**2*gammaDD11)*(xx0**4 + 2*xx0**2*xx1**2 + 2*xx0**2*xx2**2 + xx1**4 + 2*xx1**2*xx2**2 + xx2**4)**2) + 2*gammaDD01*r0**2*xx0*xx1*xx2**2*(r0*sqrt(xx0**2 + xx1**2 + xx2**2) + xx0**2 + xx1**2 + xx2**2)**2/((xx0**2 + xx1**2 + xx2**2)*(gammaDD00*gammaDD11*gammaDD22 - gammaDD00*gammaDD12**2 - gammaDD01**2*gammaDD22 + 2*gammaDD01*gammaDD02*gammaDD12 - gammaDD02**2*gammaDD11)*(xx0**4 + 2*xx0**2*xx1**2 + 2*xx0**2*xx2**2 + xx1**4 + 2*xx1**2*xx2**2 + xx2**4)**2) + 2*gammaDD02*r0*xx0*xx2*((r0 + sqrt(xx0**2 + xx1**2 + xx2**2))*(2*xx0**2*xx2**2*(r0 + sqrt(xx0**2 + xx1**2 + xx2**2))*(xx0**2 + xx1**2 + xx2**2)**(7/2) - 2*xx0**2*(r0 + sqrt(xx0**2 + xx1**2 + xx2**2))*(xx0**2 + xx1**2 + xx2**2)**(9/2) + 2*xx0**2*(xx0**2 + xx1**2)*(xx0**2 + xx1**2 + xx2**2)**4 + (r0 + sqrt(xx0**2 + xx1**2 + xx2**2))*(xx0**2 + xx1**2)*(xx0**2 + xx1**2 + xx2**2)**(9/2))/(2*(xx0**2 + xx1**2)*(xx0**2 + xx1**2 + xx2**2)**(11/2)*sqrt(gammaDD00*gammaDD11*gammaDD22 - gammaDD00*gammaDD12**2 - gammaDD01**2*gammaDD22 + 2*gammaDD01*gammaDD02*gammaDD12 - gammaDD02**2*gammaDD11)) - (r0 + sqrt(xx0**2 + xx1**2 + xx2**2))*(-2*xx1**2*xx2**2*(r0 + sqrt(xx0**2 + xx1**2 + xx2**2))*(xx0**2 + xx1**2 + xx2**2)**(7/2) + 2*xx1**2*(r0 + sqrt(xx0**2 + xx1**2 + xx2**2))*(xx0**2 + xx1**2 + xx2**2)**(9/2) - 2*xx1**2*(xx0**2 + xx1**2)*(xx0**2 + xx1**2 + xx2**2)**4 - (r0 + sqrt(xx0**2 + xx1**2 + xx2**2))*(xx0**2 + xx1**2)*(xx0**2 + xx1**2 + xx2**2)**(9/2))/(2*(xx0**2 + xx1**2)*(xx0**2 + xx1**2 + xx2**2)**(11/2)*sqrt(gammaDD00*gammaDD11*gammaDD22 - gammaDD00*gammaDD12**2 - gammaDD01**2*gammaDD22 + 2*gammaDD01*gammaDD02*gammaDD12 - gammaDD02**2*gammaDD11)))*(r0*sqrt(xx0**2 + xx1**2 + xx2**2) + xx0**2 + xx1**2 + xx2**2)/(sqrt(xx0**2 + xx1**2 + xx2**2)*sqrt(gammaDD00*gammaDD11*gammaDD22 - gammaDD00*gammaDD12**2 - gammaDD01**2*gammaDD22 + 2*gammaDD01*gammaDD02*gammaDD12 - gammaDD02**2*gammaDD11)*(xx0**4 + 2*xx0**2*xx1**2 + 2*xx0**2*xx2**2 + xx1**4 + 2*xx1**2*xx2**2 + xx2**4)) + gammaDD11*r0**2*xx1**2*xx2**2*(r0*sqrt(xx0**2 + xx1**2 + xx2**2) + xx0**2 + xx1**2 + xx2**2)**2/((xx0**2 + xx1**2 + xx2**2)*(gammaDD00*gammaDD11*gammaDD22 - gammaDD00*gammaDD12**2 - gammaDD01**2*gammaDD22 + 2*gammaDD01*gammaDD02*gammaDD12 - gammaDD02**2*gammaDD11)*(xx0**4 + 2*xx0**2*xx1**2 + 2*xx0**2*xx2**2 + xx1**4 + 2*xx1**2*xx2**2 + xx2**4)**2) + 2*gammaDD12*r0*xx1*xx2*((r0 + sqrt(xx0**2 + xx1**2 + xx2**2))*(2*xx0**2*xx2**2*(r0 + sqrt(xx0**2 + xx1**2 + xx2**2))*(xx0**2 + xx1**2 + xx2**2)**(7/2) - 2*xx0**2*(r0 + sqrt(xx0**2 + xx1**2 + xx2**2))*(xx0**2 + xx1**2 + xx2**2)**(9/2) + 2*xx0**2*(xx0**2 + xx1**2)*(xx0**2 + xx1**2 + xx2**2)**4 + (r0 + sqrt(xx0**2 + xx1**2 + xx2**2))*(xx0**2 + xx1**2)*(xx0**2 + xx1**2 + xx2**2)**(9/2))/(2*(xx0**2 + xx1**2)*(xx0**2 + xx1**2 + xx2**2)**(11/2)*sqrt(gammaDD00*gammaDD11*gammaDD22 - gammaDD00*gammaDD12**2 - gammaDD01**2*gammaDD22 + 2*gammaDD01*gammaDD02*gammaDD12 - gammaDD02**2*gammaDD11)) - (r0 + sqrt(xx0**2 + xx1**2 + xx2**2))*(-2*xx1**2*xx2**2*(r0 + sqrt(xx0**2 + xx1**2 + xx2**2))*(xx0**2 + xx1**2 + xx2**2)**(7/2) + 2*xx1**2*(r0 + sqrt(xx0**2 + xx1**2 + xx2**2))*(xx0**2 + xx1**2 + xx2**2)**(9/2) - 2*xx1**2*(xx0**2 + xx1**2)*(xx0**2 + xx1**2 + xx2**2)**4 - (r0 + sqrt(xx0**2 + xx1**2 + xx2**2))*(xx0**2 + xx1**2)*(xx0**2 + xx1**2 + xx2**2)**(9/2))/(2*(xx0**2 + xx1**2)*(xx0**2 + xx1**2 + xx2**2)**(11/2)*sqrt(gammaDD00*gammaDD11*gammaDD22 - gammaDD00*gammaDD12**2 - gammaDD01**2*gammaDD22 + 2*gammaDD01*gammaDD02*gammaDD12 - gammaDD02**2*gammaDD11)))*(r0*sqrt(xx0**2 + xx1**2 + xx2**2) + xx0**2 + xx1**2 + xx2**2)/(sqrt(xx0**2 + xx1**2 + xx2**2)*sqrt(gammaDD00*gammaDD11*gammaDD22 - gammaDD00*gammaDD12**2 - gammaDD01**2*gammaDD22 + 2*gammaDD01*gammaDD02*gammaDD12 - gammaDD02**2*gammaDD11)*(xx0**4 + 2*xx0**2*xx1**2 + 2*xx0**2*xx2**2 + xx1**4 + 2*xx1**2*xx2**2 + xx2**4)) + gammaDD22*((r0 + sqrt(xx0**2 + xx1**2 + xx2**2))*(2*xx0**2*xx2**2*(r0 + sqrt(xx0**2 + xx1**2 + xx2**2))*(xx0**2 + xx1**2 + xx2**2)**(7/2) - 2*xx0**2*(r0 + sqrt(xx0**2 + xx1**2 + xx2**2))*(xx0**2 + xx1**2 + xx2**2)**(9/2) + 2*xx0**2*(xx0**2 + xx1**2)*(xx0**2 + xx1**2 + xx2**2)**4 + (r0 + sqrt(xx0**2 + xx1**2 + xx2**2))*(xx0**2 + xx1**2)*(xx0**2 + xx1**2 + xx2**2)**(9/2))/(2*(xx0**2 + xx1**2)*(xx0**2 + xx1**2 + xx2**2)**(11/2)*sqrt(gammaDD00*gammaDD11*gammaDD22 - gammaDD00*gammaDD12**2 - gammaDD01**2*gammaDD22 + 2*gammaDD01*gammaDD02*gammaDD12 - gammaDD02**2*gammaDD11)) - (r0 + sqrt(xx0**2 + xx1**2 + xx2**2))*(-2*xx1**2*xx2**2*(r0 + sqrt(xx0**2 + xx1**2 + xx2**2))*(xx0**2 + xx1**2 + xx2**2)**(7/2) + 2*xx1**2*(r0 + sqrt(xx0**2 + xx1**2 + xx2**2))*(xx0**2 + xx1**2 + xx2**2)**(9/2) - 2*xx1**2*(xx0**2 + xx1**2)*(xx0**2 + xx1**2 + xx2**2)**4 - (r0 + sqrt(xx0**2 + xx1**2 + xx2**2))*(xx0**2 + xx1**2)*(xx0**2 + xx1**2 + xx2**2)**(9/2))/(2*(xx0**2 + xx1**2)*(xx0**2 + xx1**2 + xx2**2)**(11/2)*sqrt(gammaDD00*gammaDD11*gammaDD22 - gammaDD00*gammaDD12**2 - gammaDD01**2*gammaDD22 + 2*gammaDD01*gammaDD02*gammaDD12 - gammaDD02**2*gammaDD11)))**2"
   ]
  },
  {
   "cell_type": "raw",
   "metadata": {},
   "source": [
    "r0**2*gammaDD00*xx0**2*xx2**2*(r0*sqrt(xx0**2 + xx1**2 + xx2**2) + xx0**2 + xx1**2 + xx2**2)**2/((xx0**2 + xx1**2 + xx2**2)*(gammaDD00*gammaDD11*gammaDD22 - gammaDD00*gammaDD12**2 - gammaDD01**2*gammaDD22 + 2*gammaDD01*gammaDD02*gammaDD12 - gammaDD02**2*gammaDD11)*(xx0**4 + 2*xx0**2*xx1**2 + 2*xx0**2*xx2**2 + xx1**4 + 2*xx1**2*xx2**2 + xx2**4)**2) + 2*r0**2*gammaDD01*xx0*xx1*xx2**2*(r0*sqrt(xx0**2 + xx1**2 + xx2**2) + xx0**2 + xx1**2 + xx2**2)**2/((xx0**2 + xx1**2 + xx2**2)*(gammaDD00*gammaDD11*gammaDD22 - gammaDD00*gammaDD12**2 - gammaDD01**2*gammaDD22 + 2*gammaDD01*gammaDD02*gammaDD12 - gammaDD02**2*gammaDD11)*(xx0**4 + 2*xx0**2*xx1**2 + 2*xx0**2*xx2**2 + xx1**4 + 2*xx1**2*xx2**2 + xx2**4)**2) + r0**2*gammaDD11*xx1**2*xx2**2*(r0*sqrt(xx0**2 + xx1**2 + xx2**2) + xx0**2 + xx1**2 + xx2**2)**2/((xx0**2 + xx1**2 + xx2**2)*(gammaDD00*gammaDD11*gammaDD22 - gammaDD00*gammaDD12**2 - gammaDD01**2*gammaDD22 + 2*gammaDD01*gammaDD02*gammaDD12 - gammaDD02**2*gammaDD11)*(xx0**4 + 2*xx0**2*xx1**2 + 2*xx0**2*xx2**2 + xx1**4 + 2*xx1**2*xx2**2 + xx2**4)**2) + 2*r0*gammaDD02*xx0*xx2*((r0 + sqrt(xx0**2 + xx1**2 + xx2**2))*(2*xx0**2*xx2**2*(r0 + sqrt(xx0**2 + xx1**2 + xx2**2))*(xx0**2 + xx1**2 + xx2**2)**(7/2) - 2*xx0**2*(r0 + sqrt(xx0**2 + xx1**2 + xx2**2))*(xx0**2 + xx1**2 + xx2**2)**(9/2) + 2*xx0**2*(xx0**2 + xx1**2)*(xx0**2 + xx1**2 + xx2**2)**4 + (r0 + sqrt(xx0**2 + xx1**2 + xx2**2))*(xx0**2 + xx1**2)*(xx0**2 + xx1**2 + xx2**2)**(9/2))/(2*(xx0**2 + xx1**2)*(xx0**2 + xx1**2 + xx2**2)**(11/2)*sqrt(gammaDD00*gammaDD11*gammaDD22 - gammaDD00*gammaDD12**2 - gammaDD01**2*gammaDD22 + 2*gammaDD01*gammaDD02*gammaDD12 - gammaDD02**2*gammaDD11)) - (r0 + sqrt(xx0**2 + xx1**2 + xx2**2))*(-2*xx1**2*xx2**2*(r0 + sqrt(xx0**2 + xx1**2 + xx2**2))*(xx0**2 + xx1**2 + xx2**2)**(7/2) + 2*xx1**2*(r0 + sqrt(xx0**2 + xx1**2 + xx2**2))*(xx0**2 + xx1**2 + xx2**2)**(9/2) - 2*xx1**2*(xx0**2 + xx1**2)*(xx0**2 + xx1**2 + xx2**2)**4 - (r0 + sqrt(xx0**2 + xx1**2 + xx2**2))*(xx0**2 + xx1**2)*(xx0**2 + xx1**2 + xx2**2)**(9/2))/(2*(xx0**2 + xx1**2)*(xx0**2 + xx1**2 + xx2**2)**(11/2)*sqrt(gammaDD00*gammaDD11*gammaDD22 - gammaDD00*gammaDD12**2 - gammaDD01**2*gammaDD22 + 2*gammaDD01*gammaDD02*gammaDD12 - gammaDD02**2*gammaDD11)))*(r0*sqrt(xx0**2 + xx1**2 + xx2**2) + xx0**2 + xx1**2 + xx2**2)/(sqrt(xx0**2 + xx1**2 + xx2**2)*sqrt(gammaDD00*gammaDD11*gammaDD22 - gammaDD00*gammaDD12**2 - gammaDD01**2*gammaDD22 + 2*gammaDD01*gammaDD02*gammaDD12 - gammaDD02**2*gammaDD11)*(xx0**4 + 2*xx0**2*xx1**2 + 2*xx0**2*xx2**2 + xx1**4 + 2*xx1**2*xx2**2 + xx2**4)) + 2*r0*gammaDD12*xx1*xx2*((r0 + sqrt(xx0**2 + xx1**2 + xx2**2))*(2*xx0**2*xx2**2*(r0 + sqrt(xx0**2 + xx1**2 + xx2**2))*(xx0**2 + xx1**2 + xx2**2)**(7/2) - 2*xx0**2*(r0 + sqrt(xx0**2 + xx1**2 + xx2**2))*(xx0**2 + xx1**2 + xx2**2)**(9/2) + 2*xx0**2*(xx0**2 + xx1**2)*(xx0**2 + xx1**2 + xx2**2)**4 + (r0 + sqrt(xx0**2 + xx1**2 + xx2**2))*(xx0**2 + xx1**2)*(xx0**2 + xx1**2 + xx2**2)**(9/2))/(2*(xx0**2 + xx1**2)*(xx0**2 + xx1**2 + xx2**2)**(11/2)*sqrt(gammaDD00*gammaDD11*gammaDD22 - gammaDD00*gammaDD12**2 - gammaDD01**2*gammaDD22 + 2*gammaDD01*gammaDD02*gammaDD12 - gammaDD02**2*gammaDD11)) - (r0 + sqrt(xx0**2 + xx1**2 + xx2**2))*(-2*xx1**2*xx2**2*(r0 + sqrt(xx0**2 + xx1**2 + xx2**2))*(xx0**2 + xx1**2 + xx2**2)**(7/2) + 2*xx1**2*(r0 + sqrt(xx0**2 + xx1**2 + xx2**2))*(xx0**2 + xx1**2 + xx2**2)**(9/2) - 2*xx1**2*(xx0**2 + xx1**2)*(xx0**2 + xx1**2 + xx2**2)**4 - (r0 + sqrt(xx0**2 + xx1**2 + xx2**2))*(xx0**2 + xx1**2)*(xx0**2 + xx1**2 + xx2**2)**(9/2))/(2*(xx0**2 + xx1**2)*(xx0**2 + xx1**2 + xx2**2)**(11/2)*sqrt(gammaDD00*gammaDD11*gammaDD22 - gammaDD00*gammaDD12**2 - gammaDD01**2*gammaDD22 + 2*gammaDD01*gammaDD02*gammaDD12 - gammaDD02**2*gammaDD11)))*(r0*sqrt(xx0**2 + xx1**2 + xx2**2) + xx0**2 + xx1**2 + xx2**2)/(sqrt(xx0**2 + xx1**2 + xx2**2)*sqrt(gammaDD00*gammaDD11*gammaDD22 - gammaDD00*gammaDD12**2 - gammaDD01**2*gammaDD22 + 2*gammaDD01*gammaDD02*gammaDD12 - gammaDD02**2*gammaDD11)*(xx0**4 + 2*xx0**2*xx1**2 + 2*xx0**2*xx2**2 + xx1**4 + 2*xx1**2*xx2**2 + xx2**4)) + gammaDD22*((r0 + sqrt(xx0**2 + xx1**2 + xx2**2))*(2*xx0**2*xx2**2*(r0 + sqrt(xx0**2 + xx1**2 + xx2**2))*(xx0**2 + xx1**2 + xx2**2)**(7/2) - 2*xx0**2*(r0 + sqrt(xx0**2 + xx1**2 + xx2**2))*(xx0**2 + xx1**2 + xx2**2)**(9/2) + 2*xx0**2*(xx0**2 + xx1**2)*(xx0**2 + xx1**2 + xx2**2)**4 + (r0 + sqrt(xx0**2 + xx1**2 + xx2**2))*(xx0**2 + xx1**2)*(xx0**2 + xx1**2 + xx2**2)**(9/2))/(2*(xx0**2 + xx1**2)*(xx0**2 + xx1**2 + xx2**2)**(11/2)*sqrt(gammaDD00*gammaDD11*gammaDD22 - gammaDD00*gammaDD12**2 - gammaDD01**2*gammaDD22 + 2*gammaDD01*gammaDD02*gammaDD12 - gammaDD02**2*gammaDD11)) - (r0 + sqrt(xx0**2 + xx1**2 + xx2**2))*(-2*xx1**2*xx2**2*(r0 + sqrt(xx0**2 + xx1**2 + xx2**2))*(xx0**2 + xx1**2 + xx2**2)**(7/2) + 2*xx1**2*(r0 + sqrt(xx0**2 + xx1**2 + xx2**2))*(xx0**2 + xx1**2 + xx2**2)**(9/2) - 2*xx1**2*(xx0**2 + xx1**2)*(xx0**2 + xx1**2 + xx2**2)**4 - (r0 + sqrt(xx0**2 + xx1**2 + xx2**2))*(xx0**2 + xx1**2)*(xx0**2 + xx1**2 + xx2**2)**(9/2))/(2*(xx0**2 + xx1**2)*(xx0**2 + xx1**2 + xx2**2)**(11/2)*sqrt(gammaDD00*gammaDD11*gammaDD22 - gammaDD00*gammaDD12**2 - gammaDD01**2*gammaDD22 + 2*gammaDD01*gammaDD02*gammaDD12 - gammaDD02**2*gammaDD11)))**2"
   ]
  },
  {
   "cell_type": "code",
   "execution_count": 5,
   "metadata": {},
   "outputs": [
    {
     "name": "stdout",
     "output_type": "stream",
     "text": [
      "0\n"
     ]
    }
   ],
   "source": [
    "old = sp.sympify(\"gammaDD00*r0**2*xx0**2*xx2**2*(r0*sqrt(xx0**2 + xx1**2 + xx2**2) + xx0**2 + xx1**2 + xx2**2)**2/((xx0**2 + xx1**2 + xx2**2)*(gammaDD00*gammaDD11*gammaDD22 - gammaDD00*gammaDD12**2 - gammaDD01**2*gammaDD22 + 2*gammaDD01*gammaDD02*gammaDD12 - gammaDD02**2*gammaDD11)*(xx0**4 + 2*xx0**2*xx1**2 + 2*xx0**2*xx2**2 + xx1**4 + 2*xx1**2*xx2**2 + xx2**4)**2) + 2*gammaDD01*r0**2*xx0*xx1*xx2**2*(r0*sqrt(xx0**2 + xx1**2 + xx2**2) + xx0**2 + xx1**2 + xx2**2)**2/((xx0**2 + xx1**2 + xx2**2)*(gammaDD00*gammaDD11*gammaDD22 - gammaDD00*gammaDD12**2 - gammaDD01**2*gammaDD22 + 2*gammaDD01*gammaDD02*gammaDD12 - gammaDD02**2*gammaDD11)*(xx0**4 + 2*xx0**2*xx1**2 + 2*xx0**2*xx2**2 + xx1**4 + 2*xx1**2*xx2**2 + xx2**4)**2) + 2*gammaDD02*r0*xx0*xx2*((r0 + sqrt(xx0**2 + xx1**2 + xx2**2))*(2*xx0**2*xx2**2*(r0 + sqrt(xx0**2 + xx1**2 + xx2**2))*(xx0**2 + xx1**2 + xx2**2)**(7/2) - 2*xx0**2*(r0 + sqrt(xx0**2 + xx1**2 + xx2**2))*(xx0**2 + xx1**2 + xx2**2)**(9/2) + 2*xx0**2*(xx0**2 + xx1**2)*(xx0**2 + xx1**2 + xx2**2)**4 + (r0 + sqrt(xx0**2 + xx1**2 + xx2**2))*(xx0**2 + xx1**2)*(xx0**2 + xx1**2 + xx2**2)**(9/2))/(2*(xx0**2 + xx1**2)*(xx0**2 + xx1**2 + xx2**2)**(11/2)*sqrt(gammaDD00*gammaDD11*gammaDD22 - gammaDD00*gammaDD12**2 - gammaDD01**2*gammaDD22 + 2*gammaDD01*gammaDD02*gammaDD12 - gammaDD02**2*gammaDD11)) - (r0 + sqrt(xx0**2 + xx1**2 + xx2**2))*(-2*xx1**2*xx2**2*(r0 + sqrt(xx0**2 + xx1**2 + xx2**2))*(xx0**2 + xx1**2 + xx2**2)**(7/2) + 2*xx1**2*(r0 + sqrt(xx0**2 + xx1**2 + xx2**2))*(xx0**2 + xx1**2 + xx2**2)**(9/2) - 2*xx1**2*(xx0**2 + xx1**2)*(xx0**2 + xx1**2 + xx2**2)**4 - (r0 + sqrt(xx0**2 + xx1**2 + xx2**2))*(xx0**2 + xx1**2)*(xx0**2 + xx1**2 + xx2**2)**(9/2))/(2*(xx0**2 + xx1**2)*(xx0**2 + xx1**2 + xx2**2)**(11/2)*sqrt(gammaDD00*gammaDD11*gammaDD22 - gammaDD00*gammaDD12**2 - gammaDD01**2*gammaDD22 + 2*gammaDD01*gammaDD02*gammaDD12 - gammaDD02**2*gammaDD11)))*(r0*sqrt(xx0**2 + xx1**2 + xx2**2) + xx0**2 + xx1**2 + xx2**2)/(sqrt(xx0**2 + xx1**2 + xx2**2)*sqrt(gammaDD00*gammaDD11*gammaDD22 - gammaDD00*gammaDD12**2 - gammaDD01**2*gammaDD22 + 2*gammaDD01*gammaDD02*gammaDD12 - gammaDD02**2*gammaDD11)*(xx0**4 + 2*xx0**2*xx1**2 + 2*xx0**2*xx2**2 + xx1**4 + 2*xx1**2*xx2**2 + xx2**4)) + gammaDD11*r0**2*xx1**2*xx2**2*(r0*sqrt(xx0**2 + xx1**2 + xx2**2) + xx0**2 + xx1**2 + xx2**2)**2/((xx0**2 + xx1**2 + xx2**2)*(gammaDD00*gammaDD11*gammaDD22 - gammaDD00*gammaDD12**2 - gammaDD01**2*gammaDD22 + 2*gammaDD01*gammaDD02*gammaDD12 - gammaDD02**2*gammaDD11)*(xx0**4 + 2*xx0**2*xx1**2 + 2*xx0**2*xx2**2 + xx1**4 + 2*xx1**2*xx2**2 + xx2**4)**2) + 2*gammaDD12*r0*xx1*xx2*((r0 + sqrt(xx0**2 + xx1**2 + xx2**2))*(2*xx0**2*xx2**2*(r0 + sqrt(xx0**2 + xx1**2 + xx2**2))*(xx0**2 + xx1**2 + xx2**2)**(7/2) - 2*xx0**2*(r0 + sqrt(xx0**2 + xx1**2 + xx2**2))*(xx0**2 + xx1**2 + xx2**2)**(9/2) + 2*xx0**2*(xx0**2 + xx1**2)*(xx0**2 + xx1**2 + xx2**2)**4 + (r0 + sqrt(xx0**2 + xx1**2 + xx2**2))*(xx0**2 + xx1**2)*(xx0**2 + xx1**2 + xx2**2)**(9/2))/(2*(xx0**2 + xx1**2)*(xx0**2 + xx1**2 + xx2**2)**(11/2)*sqrt(gammaDD00*gammaDD11*gammaDD22 - gammaDD00*gammaDD12**2 - gammaDD01**2*gammaDD22 + 2*gammaDD01*gammaDD02*gammaDD12 - gammaDD02**2*gammaDD11)) - (r0 + sqrt(xx0**2 + xx1**2 + xx2**2))*(-2*xx1**2*xx2**2*(r0 + sqrt(xx0**2 + xx1**2 + xx2**2))*(xx0**2 + xx1**2 + xx2**2)**(7/2) + 2*xx1**2*(r0 + sqrt(xx0**2 + xx1**2 + xx2**2))*(xx0**2 + xx1**2 + xx2**2)**(9/2) - 2*xx1**2*(xx0**2 + xx1**2)*(xx0**2 + xx1**2 + xx2**2)**4 - (r0 + sqrt(xx0**2 + xx1**2 + xx2**2))*(xx0**2 + xx1**2)*(xx0**2 + xx1**2 + xx2**2)**(9/2))/(2*(xx0**2 + xx1**2)*(xx0**2 + xx1**2 + xx2**2)**(11/2)*sqrt(gammaDD00*gammaDD11*gammaDD22 - gammaDD00*gammaDD12**2 - gammaDD01**2*gammaDD22 + 2*gammaDD01*gammaDD02*gammaDD12 - gammaDD02**2*gammaDD11)))*(r0*sqrt(xx0**2 + xx1**2 + xx2**2) + xx0**2 + xx1**2 + xx2**2)/(sqrt(xx0**2 + xx1**2 + xx2**2)*sqrt(gammaDD00*gammaDD11*gammaDD22 - gammaDD00*gammaDD12**2 - gammaDD01**2*gammaDD22 + 2*gammaDD01*gammaDD02*gammaDD12 - gammaDD02**2*gammaDD11)*(xx0**4 + 2*xx0**2*xx1**2 + 2*xx0**2*xx2**2 + xx1**4 + 2*xx1**2*xx2**2 + xx2**4)) + gammaDD22*((r0 + sqrt(xx0**2 + xx1**2 + xx2**2))*(2*xx0**2*xx2**2*(r0 + sqrt(xx0**2 + xx1**2 + xx2**2))*(xx0**2 + xx1**2 + xx2**2)**(7/2) - 2*xx0**2*(r0 + sqrt(xx0**2 + xx1**2 + xx2**2))*(xx0**2 + xx1**2 + xx2**2)**(9/2) + 2*xx0**2*(xx0**2 + xx1**2)*(xx0**2 + xx1**2 + xx2**2)**4 + (r0 + sqrt(xx0**2 + xx1**2 + xx2**2))*(xx0**2 + xx1**2)*(xx0**2 + xx1**2 + xx2**2)**(9/2))/(2*(xx0**2 + xx1**2)*(xx0**2 + xx1**2 + xx2**2)**(11/2)*sqrt(gammaDD00*gammaDD11*gammaDD22 - gammaDD00*gammaDD12**2 - gammaDD01**2*gammaDD22 + 2*gammaDD01*gammaDD02*gammaDD12 - gammaDD02**2*gammaDD11)) - (r0 + sqrt(xx0**2 + xx1**2 + xx2**2))*(-2*xx1**2*xx2**2*(r0 + sqrt(xx0**2 + xx1**2 + xx2**2))*(xx0**2 + xx1**2 + xx2**2)**(7/2) + 2*xx1**2*(r0 + sqrt(xx0**2 + xx1**2 + xx2**2))*(xx0**2 + xx1**2 + xx2**2)**(9/2) - 2*xx1**2*(xx0**2 + xx1**2)*(xx0**2 + xx1**2 + xx2**2)**4 - (r0 + sqrt(xx0**2 + xx1**2 + xx2**2))*(xx0**2 + xx1**2)*(xx0**2 + xx1**2 + xx2**2)**(9/2))/(2*(xx0**2 + xx1**2)*(xx0**2 + xx1**2 + xx2**2)**(11/2)*sqrt(gammaDD00*gammaDD11*gammaDD22 - gammaDD00*gammaDD12**2 - gammaDD01**2*gammaDD22 + 2*gammaDD01*gammaDD02*gammaDD12 - gammaDD02**2*gammaDD11)))**2\")\n",
    "new = sp.sympify(\"r0**2*gammaDD00*xx0**2*xx2**2*(r0*sqrt(xx0**2 + xx1**2 + xx2**2) + xx0**2 + xx1**2 + xx2**2)**2/((xx0**2 + xx1**2 + xx2**2)*(gammaDD00*gammaDD11*gammaDD22 - gammaDD00*gammaDD12**2 - gammaDD01**2*gammaDD22 + 2*gammaDD01*gammaDD02*gammaDD12 - gammaDD02**2*gammaDD11)*(xx0**4 + 2*xx0**2*xx1**2 + 2*xx0**2*xx2**2 + xx1**4 + 2*xx1**2*xx2**2 + xx2**4)**2) + 2*r0**2*gammaDD01*xx0*xx1*xx2**2*(r0*sqrt(xx0**2 + xx1**2 + xx2**2) + xx0**2 + xx1**2 + xx2**2)**2/((xx0**2 + xx1**2 + xx2**2)*(gammaDD00*gammaDD11*gammaDD22 - gammaDD00*gammaDD12**2 - gammaDD01**2*gammaDD22 + 2*gammaDD01*gammaDD02*gammaDD12 - gammaDD02**2*gammaDD11)*(xx0**4 + 2*xx0**2*xx1**2 + 2*xx0**2*xx2**2 + xx1**4 + 2*xx1**2*xx2**2 + xx2**4)**2) + r0**2*gammaDD11*xx1**2*xx2**2*(r0*sqrt(xx0**2 + xx1**2 + xx2**2) + xx0**2 + xx1**2 + xx2**2)**2/((xx0**2 + xx1**2 + xx2**2)*(gammaDD00*gammaDD11*gammaDD22 - gammaDD00*gammaDD12**2 - gammaDD01**2*gammaDD22 + 2*gammaDD01*gammaDD02*gammaDD12 - gammaDD02**2*gammaDD11)*(xx0**4 + 2*xx0**2*xx1**2 + 2*xx0**2*xx2**2 + xx1**4 + 2*xx1**2*xx2**2 + xx2**4)**2) + 2*r0*gammaDD02*xx0*xx2*((r0 + sqrt(xx0**2 + xx1**2 + xx2**2))*(2*xx0**2*xx2**2*(r0 + sqrt(xx0**2 + xx1**2 + xx2**2))*(xx0**2 + xx1**2 + xx2**2)**(7/2) - 2*xx0**2*(r0 + sqrt(xx0**2 + xx1**2 + xx2**2))*(xx0**2 + xx1**2 + xx2**2)**(9/2) + 2*xx0**2*(xx0**2 + xx1**2)*(xx0**2 + xx1**2 + xx2**2)**4 + (r0 + sqrt(xx0**2 + xx1**2 + xx2**2))*(xx0**2 + xx1**2)*(xx0**2 + xx1**2 + xx2**2)**(9/2))/(2*(xx0**2 + xx1**2)*(xx0**2 + xx1**2 + xx2**2)**(11/2)*sqrt(gammaDD00*gammaDD11*gammaDD22 - gammaDD00*gammaDD12**2 - gammaDD01**2*gammaDD22 + 2*gammaDD01*gammaDD02*gammaDD12 - gammaDD02**2*gammaDD11)) - (r0 + sqrt(xx0**2 + xx1**2 + xx2**2))*(-2*xx1**2*xx2**2*(r0 + sqrt(xx0**2 + xx1**2 + xx2**2))*(xx0**2 + xx1**2 + xx2**2)**(7/2) + 2*xx1**2*(r0 + sqrt(xx0**2 + xx1**2 + xx2**2))*(xx0**2 + xx1**2 + xx2**2)**(9/2) - 2*xx1**2*(xx0**2 + xx1**2)*(xx0**2 + xx1**2 + xx2**2)**4 - (r0 + sqrt(xx0**2 + xx1**2 + xx2**2))*(xx0**2 + xx1**2)*(xx0**2 + xx1**2 + xx2**2)**(9/2))/(2*(xx0**2 + xx1**2)*(xx0**2 + xx1**2 + xx2**2)**(11/2)*sqrt(gammaDD00*gammaDD11*gammaDD22 - gammaDD00*gammaDD12**2 - gammaDD01**2*gammaDD22 + 2*gammaDD01*gammaDD02*gammaDD12 - gammaDD02**2*gammaDD11)))*(r0*sqrt(xx0**2 + xx1**2 + xx2**2) + xx0**2 + xx1**2 + xx2**2)/(sqrt(xx0**2 + xx1**2 + xx2**2)*sqrt(gammaDD00*gammaDD11*gammaDD22 - gammaDD00*gammaDD12**2 - gammaDD01**2*gammaDD22 + 2*gammaDD01*gammaDD02*gammaDD12 - gammaDD02**2*gammaDD11)*(xx0**4 + 2*xx0**2*xx1**2 + 2*xx0**2*xx2**2 + xx1**4 + 2*xx1**2*xx2**2 + xx2**4)) + 2*r0*gammaDD12*xx1*xx2*((r0 + sqrt(xx0**2 + xx1**2 + xx2**2))*(2*xx0**2*xx2**2*(r0 + sqrt(xx0**2 + xx1**2 + xx2**2))*(xx0**2 + xx1**2 + xx2**2)**(7/2) - 2*xx0**2*(r0 + sqrt(xx0**2 + xx1**2 + xx2**2))*(xx0**2 + xx1**2 + xx2**2)**(9/2) + 2*xx0**2*(xx0**2 + xx1**2)*(xx0**2 + xx1**2 + xx2**2)**4 + (r0 + sqrt(xx0**2 + xx1**2 + xx2**2))*(xx0**2 + xx1**2)*(xx0**2 + xx1**2 + xx2**2)**(9/2))/(2*(xx0**2 + xx1**2)*(xx0**2 + xx1**2 + xx2**2)**(11/2)*sqrt(gammaDD00*gammaDD11*gammaDD22 - gammaDD00*gammaDD12**2 - gammaDD01**2*gammaDD22 + 2*gammaDD01*gammaDD02*gammaDD12 - gammaDD02**2*gammaDD11)) - (r0 + sqrt(xx0**2 + xx1**2 + xx2**2))*(-2*xx1**2*xx2**2*(r0 + sqrt(xx0**2 + xx1**2 + xx2**2))*(xx0**2 + xx1**2 + xx2**2)**(7/2) + 2*xx1**2*(r0 + sqrt(xx0**2 + xx1**2 + xx2**2))*(xx0**2 + xx1**2 + xx2**2)**(9/2) - 2*xx1**2*(xx0**2 + xx1**2)*(xx0**2 + xx1**2 + xx2**2)**4 - (r0 + sqrt(xx0**2 + xx1**2 + xx2**2))*(xx0**2 + xx1**2)*(xx0**2 + xx1**2 + xx2**2)**(9/2))/(2*(xx0**2 + xx1**2)*(xx0**2 + xx1**2 + xx2**2)**(11/2)*sqrt(gammaDD00*gammaDD11*gammaDD22 - gammaDD00*gammaDD12**2 - gammaDD01**2*gammaDD22 + 2*gammaDD01*gammaDD02*gammaDD12 - gammaDD02**2*gammaDD11)))*(r0*sqrt(xx0**2 + xx1**2 + xx2**2) + xx0**2 + xx1**2 + xx2**2)/(sqrt(xx0**2 + xx1**2 + xx2**2)*sqrt(gammaDD00*gammaDD11*gammaDD22 - gammaDD00*gammaDD12**2 - gammaDD01**2*gammaDD22 + 2*gammaDD01*gammaDD02*gammaDD12 - gammaDD02**2*gammaDD11)*(xx0**4 + 2*xx0**2*xx1**2 + 2*xx0**2*xx2**2 + xx1**4 + 2*xx1**2*xx2**2 + xx2**4)) + gammaDD22*((r0 + sqrt(xx0**2 + xx1**2 + xx2**2))*(2*xx0**2*xx2**2*(r0 + sqrt(xx0**2 + xx1**2 + xx2**2))*(xx0**2 + xx1**2 + xx2**2)**(7/2) - 2*xx0**2*(r0 + sqrt(xx0**2 + xx1**2 + xx2**2))*(xx0**2 + xx1**2 + xx2**2)**(9/2) + 2*xx0**2*(xx0**2 + xx1**2)*(xx0**2 + xx1**2 + xx2**2)**4 + (r0 + sqrt(xx0**2 + xx1**2 + xx2**2))*(xx0**2 + xx1**2)*(xx0**2 + xx1**2 + xx2**2)**(9/2))/(2*(xx0**2 + xx1**2)*(xx0**2 + xx1**2 + xx2**2)**(11/2)*sqrt(gammaDD00*gammaDD11*gammaDD22 - gammaDD00*gammaDD12**2 - gammaDD01**2*gammaDD22 + 2*gammaDD01*gammaDD02*gammaDD12 - gammaDD02**2*gammaDD11)) - (r0 + sqrt(xx0**2 + xx1**2 + xx2**2))*(-2*xx1**2*xx2**2*(r0 + sqrt(xx0**2 + xx1**2 + xx2**2))*(xx0**2 + xx1**2 + xx2**2)**(7/2) + 2*xx1**2*(r0 + sqrt(xx0**2 + xx1**2 + xx2**2))*(xx0**2 + xx1**2 + xx2**2)**(9/2) - 2*xx1**2*(xx0**2 + xx1**2)*(xx0**2 + xx1**2 + xx2**2)**4 - (r0 + sqrt(xx0**2 + xx1**2 + xx2**2))*(xx0**2 + xx1**2)*(xx0**2 + xx1**2 + xx2**2)**(9/2))/(2*(xx0**2 + xx1**2)*(xx0**2 + xx1**2 + xx2**2)**(11/2)*sqrt(gammaDD00*gammaDD11*gammaDD22 - gammaDD00*gammaDD12**2 - gammaDD01**2*gammaDD22 + 2*gammaDD01*gammaDD02*gammaDD12 - gammaDD02**2*gammaDD11)))**2\")\n",
    "print(sp.simplify(old-new))"
   ]
  },
  {
   "cell_type": "markdown",
   "metadata": {},
   "source": [
    "<a id='latex_pdf_output'></a>\n",
    "\n",
    "# Step 5: Output this notebook to $\\LaTeX$-formatted PDF file \\[Back to [top](#toc)\\]\n",
    "$$\\label{latex_pdf_output}$$\n",
    "\n",
    "The following code cell converts this Jupyter notebook into a proper, clickable $\\LaTeX$-formatted PDF file. After the cell is successfully run, the generated PDF may be found in the root NRPy+ tutorial directory, with filename\n",
    "[Tutorial-GiRaFFEfood_NRPy.pdf](Tutorial-GiRaFFEfood_NRPy.pdf) (Note that clicking on this link may not work; you may need to open the PDF file through another means.)"
   ]
  },
  {
   "cell_type": "code",
   "execution_count": null,
   "metadata": {},
   "outputs": [],
   "source": [
    "import cmdline_helper as cmd    # NRPy+: Multi-platform Python command-line interface\n",
    "cmd.output_Jupyter_notebook_to_LaTeXed_PDF(\"Tutorial-GiRaFFEfood_NRPy_Exact_Wald\",location_of_template_file=os.path.join(\"..\"))"
   ]
  }
 ],
 "metadata": {
  "kernelspec": {
   "display_name": "Python 3",
   "language": "python",
   "name": "python3"
  },
  "language_info": {
   "codemirror_mode": {
    "name": "ipython",
    "version": 3
   },
   "file_extension": ".py",
   "mimetype": "text/x-python",
   "name": "python",
   "nbconvert_exporter": "python",
   "pygments_lexer": "ipython3",
   "version": "3.8.10"
  }
 },
 "nbformat": 4,
 "nbformat_minor": 2
}
