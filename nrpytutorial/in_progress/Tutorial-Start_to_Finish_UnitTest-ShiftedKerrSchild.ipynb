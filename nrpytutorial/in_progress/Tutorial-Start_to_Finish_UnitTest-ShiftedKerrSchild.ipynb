{
 "cells": [
  {
   "cell_type": "markdown",
   "metadata": {},
   "source": [
    "<script async src=\"https://www.googletagmanager.com/gtag/js?id=UA-59152712-8\"></script>\n",
    "<script>\n",
    "  window.dataLayer = window.dataLayer || [];\n",
    "  function gtag(){dataLayer.push(arguments);}\n",
    "  gtag('js', new Date());\n",
    "\n",
    "  gtag('config', 'UA-59152712-8');\n",
    "</script>\n",
    "\n",
    "# Start-to-Finish Example: Validating Shifted Kerr-Schild initial data against ETK version: \n",
    "\n",
    "## Author: Patrick Nelson\n",
    "\n",
    "**Notebook Status:** <font color='green'><b>Validated</b></font>\n",
    "\n",
    "**Validation Notes:** This module validates all expressions used to set up initial data in \n",
    "* [Tutorial-ADM_Initial_Data-ShiftedKerrSchild](../Tutorial-ADM_Initial_Data-ShiftedKerrSchild.ipynb)\n",
    "\n",
    "against the C-code implementation of these expressions found in the original (trusted) [`GiRaFFEfood` Einstein Toolkit thorn](link), and confirms roundoff-level agreement.\n",
    "\n",
    "### NRPy+ Source Code for this module: \n",
    "* [BSSN/ShiftedKerrSchild.py](../../edit/BSSN/ShiftedKerrSchild.py) [\\[**tutorial**\\]](../Tutorial-ADM_Initial_Data-ShiftedKerrSchild.ipynb) Generates Exact Wald initial data\n",
    "\n",
    "## Introduction:\n",
    "\n",
    "This notebook validates the initial data routines that set up the Shifted Kerr-Schild initial spacetime data against the ETK implementation of the same equations.\n",
    "\n",
    "When this notebook is run, the significant digits of agreement between the old ETK and new NRPy+ versions of the algorithm will be evaluated. If the agreement falls below a thresold, the point, quantity, and level of agreement are reported [here](#compile_run)."
   ]
  },
  {
   "cell_type": "markdown",
   "metadata": {},
   "source": [
    "<a id='toc'></a>\n",
    "\n",
    "# Table of Contents\n",
    "$$\\label{toc}$$\n",
    "\n",
    "This notebook is organized as follows\n",
    "\n",
    "1. [Step 1](#setup): Set up core functions and parameters for unit testing the initial data algorithms\n",
    "    1. [Step 1.a](#spacetime) Generate the spacetime metric\n",
    "    1. [Step 1.b](#download) Download original ETK files\n",
    "    1. [Step 1.c](#free_params) Output C codes needed for declaring and setting Cparameters; also set `free_parameters.h`\n",
    "    1. [Step 1.d](#interface) Create dummy files for the CCTK version of the code\n",
    "1. [Step 2](#mainc): `ShiftedKerrSchild_unit_test.c`: The Main C Code\n",
    "    1. [Step 2.a](#compile_run): Compile and run the code to validate the output\n",
    "1. [Step 3](#drift_notes): Output this notebook to $\\LaTeX$-formatted PDF file\n",
    "1. [Step 4](#latex_pdf_output): Output this notebook to $\\LaTeX$-formatted PDF file"
   ]
  },
  {
   "cell_type": "markdown",
   "metadata": {},
   "source": [
    "<a id='setup'></a>\n",
    "\n",
    "# Step 1: Set up core functions and parameters for unit testing the initial data algorithms\" \\[Back to [top](#toc)\\]\n",
    "\n",
    "$$\\label{setup}$$\n",
    "\n",
    "We'll start by appending the relevant paths to `sys.path` so that we can access sympy modules in other places. Then, we'll import NRPy+ core functionality and set up a directory in which to carry out our test. We will also declare the gridfunctions that are needed for this portion of the code."
   ]
  },
  {
   "cell_type": "code",
   "execution_count": 1,
   "metadata": {
    "execution": {
     "iopub.execute_input": "2020-12-17T02:18:16.748305Z",
     "iopub.status.busy": "2020-12-17T02:18:16.747824Z",
     "iopub.status.idle": "2020-12-17T02:18:16.936127Z",
     "shell.execute_reply": "2020-12-17T02:18:16.935521Z"
    }
   },
   "outputs": [],
   "source": [
    "import os, sys           # Standard Python modules for multiplatform OS-level functions\n",
    "# First, we'll add the parent directory to the list of directories Python will check for modules.\n",
    "nrpy_dir_path = os.path.join(\"..\")\n",
    "if nrpy_dir_path not in sys.path:\n",
    "    sys.path.append(nrpy_dir_path)\n",
    "nrpy_dir_path = os.path.join(\"..\",\"..\")\n",
    "if nrpy_dir_path not in sys.path:\n",
    "    sys.path.append(nrpy_dir_path)\n",
    "\n",
    "from outputC import outCfunction, lhrh # NRPy+: Core C code output module\n",
    "import sympy as sp               # SymPy: The Python computer algebra package upon which NRPy+ depends\n",
    "import finite_difference as fin  # NRPy+: Finite difference C code generation module\n",
    "import NRPy_param_funcs as par   # NRPy+: Parameter interface\n",
    "import grid as gri               # NRPy+: Functions having to do with numerical grids\n",
    "import indexedexp as ixp         # NRPy+: Symbolic indexed expression (e.g., tensors, vectors, etc.) support\n",
    "import reference_metric as rfm   # NRPy+: Reference metric support\n",
    "import cmdline_helper as cmd     # NRPy+: Multi-platform Python command-line interface\n",
    "\n",
    "out_dir = \"Validation/\"\n",
    "cmd.mkdir(out_dir)\n",
    "\n",
    "thismodule = \"Start_to_Finish_UnitTest-GiRaFFEfood_NRPy\"\n",
    "\n",
    "# Register the gridfunctions we need for this function\n",
    "gammaDD = ixp.register_gridfunctions_for_single_rank2(\"AUXEVOL\",\"gammaDD\",\"sym01\")\n",
    "betaU = ixp.register_gridfunctions_for_single_rank1(\"AUXEVOL\",\"betaU\")\n",
    "alpha = gri.register_gridfunctions(\"AUXEVOL\",\"alpha\")"
   ]
  },
  {
   "cell_type": "markdown",
   "metadata": {},
   "source": [
    "<a id='spacetime'></a>\n",
    "\n",
    "## Step 1.a: Generate the spacetime metric \\[Back to [top](#toc)\\]\n",
    "$$\\label{spacetime}$$\n",
    "\n",
    "While many of the initial data we will use assume a flat background spacetime, some will require a specific metric. We will set those up as needed here."
   ]
  },
  {
   "cell_type": "code",
   "execution_count": 2,
   "metadata": {
    "execution": {
     "iopub.execute_input": "2020-12-17T02:18:16.944810Z",
     "iopub.status.busy": "2020-12-17T02:18:16.944376Z",
     "iopub.status.idle": "2020-12-17T02:18:17.740917Z",
     "shell.execute_reply": "2020-12-17T02:18:17.740439Z"
    }
   },
   "outputs": [
    {
     "name": "stdout",
     "output_type": "stream",
     "text": [
      "Output C function Shifted_Kerr_Schild_initial_metric() to file Validation/Shifted_Kerr_Schild_initial_metric.h\n"
     ]
    }
   ],
   "source": [
    "# Exact Wald is more complicated. We'll need the Shifted Kerr Schild metric in Cartesian coordinates.\n",
    "import BSSN.ShiftedKerrSchild as sks\n",
    "sks.ShiftedKerrSchild(True)\n",
    "import reference_metric as rfm\n",
    "par.set_parval_from_str(\"reference_metric::CoordSystem\",\"Cartesian\")\n",
    "rfm.reference_metric()\n",
    "# Use the Jacobian matrix to transform the vectors to Cartesian coordinates.\n",
    "drrefmetric__dx_0UDmatrix = sp.Matrix([[sp.diff(rfm.xxSph[0],rfm.xx[0]), sp.diff(rfm.xxSph[0],rfm.xx[1]), sp.diff(rfm.xxSph[0],rfm.xx[2])],\n",
    "                                       [sp.diff(rfm.xxSph[1],rfm.xx[0]), sp.diff(rfm.xxSph[1],rfm.xx[1]), sp.diff(rfm.xxSph[1],rfm.xx[2])],\n",
    "                                       [sp.diff(rfm.xxSph[2],rfm.xx[0]), sp.diff(rfm.xxSph[2],rfm.xx[1]), sp.diff(rfm.xxSph[2],rfm.xx[2])]])\n",
    "dx__drrefmetric_0UDmatrix = drrefmetric__dx_0UDmatrix.inv()\n",
    "gammaDD = ixp.zerorank2()\n",
    "for i in range(3):\n",
    "    for j in range(3):\n",
    "        for k in range(3):\n",
    "            for l in range(3):\n",
    "                gammaDD[i][j] += drrefmetric__dx_0UDmatrix[(k,i)]*drrefmetric__dx_0UDmatrix[(l,j)]*sks.gammaSphDD[k][l].subs(sks.r,rfm.xxSph[0]).subs(sks.th,rfm.xxSph[1])\n",
    "betaU = ixp.zerorank1()\n",
    "for i in range(3):\n",
    "    for j in range(3):\n",
    "        betaU[i] += dx__drrefmetric_0UDmatrix[(i,j)]*sks.betaSphU[j].subs(sks.r,rfm.xxSph[0]).subs(sks.th,rfm.xxSph[1])\n",
    "\n",
    "# We only need to set alpha and betaU in C for the original Exact Wald\n",
    "name = \"Shifted_Kerr_Schild_initial_metric\"\n",
    "desc = \"Generate a spinning black hole with Shifted Kerr Schild metric.\"\n",
    "values_to_print = [\n",
    "                   lhrh(lhs=gri.gfaccess(\"auxevol_gfs\",\"gammaDD00\"),rhs=gammaDD[0][0]),\n",
    "                   lhrh(lhs=gri.gfaccess(\"auxevol_gfs\",\"gammaDD01\"),rhs=gammaDD[0][1]),\n",
    "                   lhrh(lhs=gri.gfaccess(\"auxevol_gfs\",\"gammaDD02\"),rhs=gammaDD[0][2]),\n",
    "                   lhrh(lhs=gri.gfaccess(\"auxevol_gfs\",\"gammaDD11\"),rhs=gammaDD[1][1]),\n",
    "                   lhrh(lhs=gri.gfaccess(\"auxevol_gfs\",\"gammaDD12\"),rhs=gammaDD[1][2]),\n",
    "                   lhrh(lhs=gri.gfaccess(\"auxevol_gfs\",\"gammaDD22\"),rhs=gammaDD[2][2]),\n",
    "                   lhrh(lhs=gri.gfaccess(\"auxevol_gfs\",\"betaU0\"),rhs=betaU[0]),\n",
    "                   lhrh(lhs=gri.gfaccess(\"auxevol_gfs\",\"betaU1\"),rhs=betaU[1]),\n",
    "                   lhrh(lhs=gri.gfaccess(\"auxevol_gfs\",\"betaU2\"),rhs=betaU[2]),\n",
    "                   lhrh(lhs=gri.gfaccess(\"auxevol_gfs\",\"alpha\"),rhs=sks.alphaSph.subs(sks.r,rfm.xxSph[0]).subs(sks.th,rfm.xxSph[1]))\n",
    "                  ]\n",
    "\n",
    "outCfunction(\n",
    "    outfile  = os.path.join(out_dir,name+\".h\"), desc=desc, name=name,\n",
    "    params   =\"const paramstruct *params,REAL *xx[3],REAL *auxevol_gfs\",\n",
    "    body     = fin.FD_outputC(\"returnstring\",values_to_print,params=\"outCverbose=False\").replace(\"IDX4\",\"IDX4S\"),\n",
    "    loopopts =\"AllPoints,Read_xxs\")\n"
   ]
  },
  {
   "cell_type": "markdown",
   "metadata": {},
   "source": [
    "<a id='download'></a>\n",
    "\n",
    "## Step 1.b: Download original ETK files \\[Back to [top](#toc)\\]\n",
    "\n",
    "$$\\label{download}$$\n",
    "\n",
    "Here, we download the relevant portion of the original `GiRaFFE` code from Bitbucket. "
   ]
  },
  {
   "cell_type": "code",
   "execution_count": 3,
   "metadata": {
    "execution": {
     "iopub.execute_input": "2020-12-17T02:18:17.745197Z",
     "iopub.status.busy": "2020-12-17T02:18:17.744651Z",
     "iopub.status.idle": "2020-12-17T02:18:17.896873Z",
     "shell.execute_reply": "2020-12-17T02:18:17.896414Z"
    }
   },
   "outputs": [],
   "source": [
    "# First download the original GiRaFFE source code\n",
    "import urllib\n",
    "\n",
    "original_file_url  = [\n",
    "                      \"https://bitbucket.org/zach_etienne/wvuthorns/raw/0a82c822748baf754c153db484d8bd2d0b7e39cb/ShiftedKerrSchild/src/ShiftedKerrSchild.c\",\n",
    "                     ]\n",
    "original_file_name = [\n",
    "                      \"ShiftedKerrSchild.c\",\n",
    "                     ]\n",
    "\n",
    "for i in range(len(original_file_url)):\n",
    "    original_file_path = os.path.join(out_dir,original_file_name[i])\n",
    "\n",
    "    # Then download the original GiRaFFE source code\n",
    "    # We try it here in a couple of ways in an attempt to keep\n",
    "    # the code more portable\n",
    "    try:\n",
    "        original_file_code = urllib.request.urlopen(original_file_url[i]).read().decode('utf-8')\n",
    "    except:\n",
    "        original_file_code = urllib.urlopen(original_file_url[i]).read().decode('utf-8')\n",
    "\n",
    "    # Write down the file the original GiRaFFE source code\n",
    "    with open(original_file_path,\"w\") as file:\n",
    "        file.write(original_file_code)\n"
   ]
  },
  {
   "cell_type": "markdown",
   "metadata": {},
   "source": [
    "<a id='free_params'></a>\n",
    "\n",
    "## Step 1.c: Output C codes needed for declaring and setting Cparameters; also set `free_parameters.h` \\[Back to [top](#toc)\\]\n",
    "\n",
    "$$\\label{free_params}$$\n",
    "\n",
    "Based on declared NRPy+ Cparameters, first we generate `declare_Cparameters_struct.h`, `set_Cparameters_default.h`, and `set_Cparameters[-SIMD].h`.\n",
    "\n",
    "Then we output `free_parameters.h`, which sets some basic grid parameters as well as the speed limit parameter we need for this function."
   ]
  },
  {
   "cell_type": "code",
   "execution_count": 4,
   "metadata": {
    "execution": {
     "iopub.execute_input": "2020-12-17T02:18:17.901421Z",
     "iopub.status.busy": "2020-12-17T02:18:17.900879Z",
     "iopub.status.idle": "2020-12-17T02:18:17.903897Z",
     "shell.execute_reply": "2020-12-17T02:18:17.903350Z"
    }
   },
   "outputs": [],
   "source": [
    "# Step 3.d\n",
    "# Step 3.d.ii: Set free_parameters.h\n",
    "with open(os.path.join(out_dir,\"free_parameters.h\"),\"w\") as file:\n",
    "    file.write(\"\"\"\n",
    "// Set free-parameter values.\n",
    "\n",
    "const int NGHOSTS = 3;\n",
    "\n",
    "// Set free-parameter values for the initial data.\n",
    "// Override parameter defaults with values based on command line arguments and NGHOSTS.\n",
    "const int Nx0x1x2 = 5;\n",
    "params.Nxx0 = Nx0x1x2;\n",
    "params.Nxx1 = Nx0x1x2;\n",
    "params.Nxx2 = Nx0x1x2;\n",
    "params.Nxx_plus_2NGHOSTS0 = params.Nxx0 + 2*NGHOSTS;\n",
    "params.Nxx_plus_2NGHOSTS1 = params.Nxx1 + 2*NGHOSTS;\n",
    "params.Nxx_plus_2NGHOSTS2 = params.Nxx2 + 2*NGHOSTS;\n",
    "// Step 0d: Set up space and time coordinates\n",
    "// Step 0d.i: Declare \\Delta x^i=dxx{0,1,2} and invdxx{0,1,2}, as well as xxmin[3] and xxmax[3]:\n",
    "const REAL xxmin[3] = {-1.5,-1.5,-1.5};\n",
    "const REAL xxmax[3] = { 1.5, 1.5, 1.5};\n",
    "\n",
    "params.dxx0 = (xxmax[0] - xxmin[0]) / ((REAL)params.Nxx0);\n",
    "params.dxx1 = (xxmax[1] - xxmin[1]) / ((REAL)params.Nxx1);\n",
    "params.dxx2 = (xxmax[2] - xxmin[2]) / ((REAL)params.Nxx2);\n",
    "params.invdx0 = 1.0 / params.dxx0;\n",
    "params.invdx1 = 1.0 / params.dxx1;\n",
    "params.invdx2 = 1.0 / params.dxx2;\n",
    "params.r0 = 0.4;\n",
    "params.a = 0.0;\n",
    "\\n\"\"\")\n",
    "\n",
    "# Generates declare_Cparameters_struct.h, set_Cparameters_default.h, and set_Cparameters[-SIMD].h\n",
    "par.generate_Cparameters_Ccodes(os.path.join(out_dir))"
   ]
  },
  {
   "cell_type": "markdown",
   "metadata": {},
   "source": [
    "<a id='interface'></a>\n",
    "\n",
    "## Step 1.d: Create dummy files for the CCTK version of the code \\[Back to [top](#toc)\\]\n",
    "\n",
    "$$\\label{interface}$$\n",
    "\n",
    "The original `GiRaFFE` code depends on some functionalities of the CCTK. Since we only care about this one small function, we can get around this by creating some nearly-empty, non-functional files that can be included to satisfy the pre-processor without changing functionality. We will later replace what little functionality we need with some basic global variables and macros."
   ]
  },
  {
   "cell_type": "code",
   "execution_count": 5,
   "metadata": {
    "execution": {
     "iopub.execute_input": "2020-12-17T02:18:17.907788Z",
     "iopub.status.busy": "2020-12-17T02:18:17.907364Z",
     "iopub.status.idle": "2020-12-17T02:18:17.909797Z",
     "shell.execute_reply": "2020-12-17T02:18:17.909364Z"
    }
   },
   "outputs": [],
   "source": [
    "#include \"cctk.h\"\n",
    "#include \"cctk_Arguments.h\"\n",
    "#include \"cctk_Parameters.h\"\n",
    "with open(os.path.join(out_dir,\"cctk.h\"),\"w\") as file:\n",
    "    file.write(\"\"\"//\"\"\")\n",
    "\n",
    "with open(os.path.join(out_dir,\"cctk_Arguments.h\"),\"w\") as file:\n",
    "    file.write(\"\"\"#define DECLARE_CCTK_ARGUMENTS //\n",
    "#define CCTK_ARGUMENTS void\n",
    "\"\"\")\n",
    "\n",
    "with open(os.path.join(out_dir,\"cctk_Parameters.h\"),\"w\") as file:\n",
    "    file.write(\"\"\"#define DECLARE_CCTK_PARAMETERS //\n",
    "\"\"\")"
   ]
  },
  {
   "cell_type": "markdown",
   "metadata": {},
   "source": [
    "<a id='mainc'></a>\n",
    "\n",
    "# Step 2: `ShiftedKerrSchild_unit_test.C`: The Main C Code \\[Back to [top](#toc)\\]\n",
    "\n",
    "$$\\label{mainc}$$\n",
    "\n",
    "Now that we have our vector potential and analytic magnetic field to compare against, we will start writing our unit test. We'll also import common C functionality, define `REAL`, the number of ghost zones, and the faces, and set the standard macros for NRPy+ style memory access."
   ]
  },
  {
   "cell_type": "code",
   "execution_count": 6,
   "metadata": {
    "execution": {
     "iopub.execute_input": "2020-12-17T02:18:17.914077Z",
     "iopub.status.busy": "2020-12-17T02:18:17.913627Z",
     "iopub.status.idle": "2020-12-17T02:18:17.916218Z",
     "shell.execute_reply": "2020-12-17T02:18:17.915841Z"
    }
   },
   "outputs": [
    {
     "name": "stdout",
     "output_type": "stream",
     "text": [
      "Overwriting Validation//ShiftedKerrSchild_unit_test.C\n"
     ]
    }
   ],
   "source": [
    "%%writefile $out_dir/ShiftedKerrSchild_unit_test.C\n",
    "// These are common packages that we are likely to need.\n",
    "#include \"stdio.h\"\n",
    "#include \"stdlib.h\"\n",
    "#include \"math.h\"\n",
    "#include \"stdint.h\" // Needed for Windows GCC 6.x compatibility\n",
    "\n",
    "#define REAL double\n",
    "#include \"declare_Cparameters_struct.h\"\n",
    "\n",
    "// Standard NRPy+ memory access:\n",
    "#define IDX4S(g,i,j,k) \\\n",
    "( (i) + Nxx_plus_2NGHOSTS0 * ( (j) + Nxx_plus_2NGHOSTS1 * ( (k) + Nxx_plus_2NGHOSTS2 * (g) ) ) )\n",
    "\n",
    "// Standard formula to calculate significant digits of agreement:\n",
    "#define SDA(a,b) 1.0-log10(2.0*fabs(a-b)/(fabs(a)+fabs(b)))\n",
    "\n",
    "// Memory access definitions for NRPy+\n",
    "#define GAMMADD00GF 0\n",
    "#define GAMMADD01GF 1\n",
    "#define GAMMADD02GF 2\n",
    "#define GAMMADD11GF 3\n",
    "#define GAMMADD12GF 4\n",
    "#define GAMMADD22GF 5\n",
    "#define BETAU0GF 6\n",
    "#define BETAU1GF 7\n",
    "#define BETAU2GF 8\n",
    "#define ALPHAGF 9\n",
    "#define KDD00GF 10\n",
    "#define KDD01GF 11\n",
    "#define KDD02GF 12\n",
    "#define KDD11GF 13\n",
    "#define KDD12GF 14\n",
    "#define KDD22GF 15\n",
    "#define NUM_AUXEVOL_GFS 16\n",
    "\n",
    "// Include the functions that we want to test:\n",
    "#include \"Shifted_Kerr_Schild_initial_metric.h\"\n",
    "\n",
    "// Define CCTK macros\n",
    "#define CCTK_REAL double\n",
    "#define CCTK_INT int\n",
    "#define CCTK_VPARAMWARN(...) //\n",
    "#define CCTK_EQUALS(a,b) 1\n",
    "struct cGH{};\n",
    "const cGH* cctkGH;\n",
    "\n",
    "// More definitions to interface with ETK code:\n",
    "const int cctk_lsh[3] = {11,11,11};\n",
    "const int grid_size = cctk_lsh[0]*cctk_lsh[1]*cctk_lsh[2];"
   ]
  },
  {
   "cell_type": "code",
   "execution_count": 7,
   "metadata": {
    "execution": {
     "iopub.execute_input": "2020-12-17T02:18:17.914077Z",
     "iopub.status.busy": "2020-12-17T02:18:17.913627Z",
     "iopub.status.idle": "2020-12-17T02:18:17.916218Z",
     "shell.execute_reply": "2020-12-17T02:18:17.915841Z"
    }
   },
   "outputs": [],
   "source": [
    "import os\n",
    "gfs_list = ['x','y','z','r','SKSgrr','SKSgrth','SKSgrph','SKSgthth','SKSgthph','SKSgphph','SKSbetar','SKSbetath','SKSbetaph']\n",
    "with open(os.path.join(out_dir,\"ShiftedKerrSchild_unit_test.C\"), 'a') as file:\n",
    "    for gf in gfs_list:\n",
    "        file.write(\"CCTK_REAL *\"+gf+\" = (CCTK_REAL *)malloc(sizeof(CCTK_REAL)*grid_size);\\n\")"
   ]
  },
  {
   "cell_type": "code",
   "execution_count": 8,
   "metadata": {
    "execution": {
     "iopub.execute_input": "2020-12-17T02:18:17.914077Z",
     "iopub.status.busy": "2020-12-17T02:18:17.913627Z",
     "iopub.status.idle": "2020-12-17T02:18:17.916218Z",
     "shell.execute_reply": "2020-12-17T02:18:17.915841Z"
    }
   },
   "outputs": [
    {
     "name": "stdout",
     "output_type": "stream",
     "text": [
      "Appending to Validation//ShiftedKerrSchild_unit_test.C\n"
     ]
    }
   ],
   "source": [
    "%%writefile -a $out_dir/ShiftedKerrSchild_unit_test.C\n",
    "CCTK_REAL *alp;\n",
    "CCTK_REAL *betax;\n",
    "CCTK_REAL *betay;\n",
    "CCTK_REAL *betaz;\n",
    "CCTK_REAL *gxx;\n",
    "CCTK_REAL *gxy;\n",
    "CCTK_REAL *gxz;\n",
    "CCTK_REAL *gyy;\n",
    "CCTK_REAL *gyz;\n",
    "CCTK_REAL *gzz;\n",
    "CCTK_REAL *kxx;\n",
    "CCTK_REAL *kxy;\n",
    "CCTK_REAL *kxz;\n",
    "CCTK_REAL *kyy;\n",
    "CCTK_REAL *kyz;\n",
    "CCTK_REAL *kzz;\n",
    "\n",
    "CCTK_REAL KerrSchild_radial_shift;\n",
    "CCTK_REAL BH_mass;\n",
    "CCTK_REAL BH_spin;\n",
    "\n",
    "\n",
    "// Dummy ETK function:\n",
    "#define CCTK_GFINDEX3D(cctkGH,i,j,k) (i) + cctk_lsh[0] * ( (j) + cctk_lsh[1] * (k) )\n",
    "\n",
    "#include \"ShiftedKerrSchild.c\"\n",
    "\n",
    "int main() {\n",
    "    paramstruct params;\n",
    "#include \"set_Cparameters_default.h\"\n",
    "\n",
    "    // Step 0c: Set free parameters, overwriting Cparameters defaults\n",
    "    //          by hand or with command-line input, as desired.\n",
    "#include \"free_parameters.h\"\n",
    "#include \"set_Cparameters-nopointer.h\"\n",
    "\n",
    "    // Set CCTK parameters to match NRPy+ parameters\n",
    "    KerrSchild_radial_shift = r0;\n",
    "    BH_mass = M;\n",
    "    BH_spin = a;\n",
    "\n",
    "    // Step 0d.ii: Set up uniform coordinate grids\n",
    "    REAL *xx[3];\n",
    "    xx[0] = (REAL *)malloc(sizeof(REAL)*Nxx_plus_2NGHOSTS0);\n",
    "    xx[1] = (REAL *)malloc(sizeof(REAL)*Nxx_plus_2NGHOSTS1);\n",
    "    xx[2] = (REAL *)malloc(sizeof(REAL)*Nxx_plus_2NGHOSTS2);\n",
    "    for(int j=0;j<Nxx_plus_2NGHOSTS0;j++) xx[0][j] = xxmin[0] + (j-NGHOSTS)*dxx0;\n",
    "    for(int j=0;j<Nxx_plus_2NGHOSTS1;j++) xx[1][j] = xxmin[1] + (j-NGHOSTS)*dxx1;\n",
    "    for(int j=0;j<Nxx_plus_2NGHOSTS2;j++) xx[2][j] = xxmin[2] + (j-NGHOSTS)*dxx2;\n",
    "\n",
    "    for(int k=0;k<Nxx_plus_2NGHOSTS2;k++)\n",
    "        for(int j=0;j<Nxx_plus_2NGHOSTS1;j++)\n",
    "            for(int i=0;i<Nxx_plus_2NGHOSTS0;i++) {\n",
    "                int index = CCTK_GFINDEX3D(cctkGH,i,j,k);\n",
    "                x[index] = xx[0][i];\n",
    "                y[index] = xx[1][j];\n",
    "                z[index] = xx[2][k];\n",
    "                r[index] = sqrt(x[index]*x[index] + y[index]*y[index] + z[index]*z[index]);\n",
    "    }\n",
    "\n",
    "    //for(int j=0;j<Nxx_plus_2NGHOSTS0;j++) printf(\"x[%d] = %.5e\\n\",j,xx[0][j]);\n",
    "\n",
    "    // This is the array to which we'll write the NRPy+ variables.\n",
    "    REAL *auxevol_gfs  = (REAL *)malloc(sizeof(REAL) * NUM_AUXEVOL_GFS * Nxx_plus_2NGHOSTS2 * Nxx_plus_2NGHOSTS1 * Nxx_plus_2NGHOSTS0);\n",
    "    REAL *auxevol_ETK_gfs  = (REAL *)malloc(sizeof(REAL) * NUM_AUXEVOL_GFS * Nxx_plus_2NGHOSTS2 * Nxx_plus_2NGHOSTS1 * Nxx_plus_2NGHOSTS0);\n",
    "\n",
    "    // Memory access for metric gridfunctions for Exact Wald:\n",
    "    gxx = auxevol_ETK_gfs + (grid_size*GAMMADD00GF);\n",
    "    gxy = auxevol_ETK_gfs + (grid_size*GAMMADD01GF);\n",
    "    gxz = auxevol_ETK_gfs + (grid_size*GAMMADD02GF);\n",
    "    gyy = auxevol_ETK_gfs + (grid_size*GAMMADD11GF);\n",
    "    gyz = auxevol_ETK_gfs + (grid_size*GAMMADD12GF);\n",
    "    gzz = auxevol_ETK_gfs + (grid_size*GAMMADD22GF);\n",
    "    alp = auxevol_ETK_gfs + (grid_size*ALPHAGF);\n",
    "    betax = auxevol_ETK_gfs + (grid_size*BETAU0GF);\n",
    "    betay = auxevol_ETK_gfs + (grid_size*BETAU1GF);\n",
    "    betaz = auxevol_ETK_gfs + (grid_size*BETAU2GF);\n",
    "    kxx = auxevol_ETK_gfs + (grid_size*KDD00GF);\n",
    "    kxy = auxevol_ETK_gfs + (grid_size*KDD01GF);\n",
    "    kxz = auxevol_ETK_gfs + (grid_size*KDD02GF);\n",
    "    kyy = auxevol_ETK_gfs + (grid_size*KDD11GF);\n",
    "    kyz = auxevol_ETK_gfs + (grid_size*KDD12GF);\n",
    "    kzz = auxevol_ETK_gfs + (grid_size*KDD22GF);\n",
    "\n",
    "    Shifted_Kerr_Schild_initial_metric(&params,xx,auxevol_gfs);\n",
    "    ShiftedKS_ID();\n",
    "\n",
    "    int all_agree = 1;\n",
    "\n",
    "    for(int i0=0;i0<Nxx_plus_2NGHOSTS0;i0++){\n",
    "        for(int i1=0;i1<Nxx_plus_2NGHOSTS1;i1++){\n",
    "            for(int i2=0;i2<Nxx_plus_2NGHOSTS2;i2++){\n",
    "                if(SDA(auxevol_gfs[IDX4S(BETAU0GF, i0,i1,i2)],betax[CCTK_GFINDEX3D(cctkGH,i0,i1,i2)])<10.0){\n",
    "                    printf(\"Quantity betaU0 only agrees with the original GiRaFFE to %.2f digits at i0,i1,i2=%d,%d,%d!\\n\",\n",
    "                           SDA(auxevol_gfs[IDX4S(BETAU0GF, i0,i1,i2)],betax[CCTK_GFINDEX3D(cctkGH,i0,i1,i2)]),i0,i1,i2);\n",
    "                    all_agree=0;\n",
    "                }\n",
    "                if(SDA(auxevol_gfs[IDX4S(BETAU1GF, i0,i1,i2)],betay[CCTK_GFINDEX3D(cctkGH,i0,i1,i2)])<10.0){\n",
    "                    printf(\"Quantity betaU1 only agrees with the original GiRaFFE to %.2f digits at i0,i1,i2=%d,%d,%d!\\n\",\n",
    "                           SDA(auxevol_gfs[IDX4S(BETAU1GF, i0,i1,i2)],betay[CCTK_GFINDEX3D(cctkGH,i0,i1,i2)]),i0,i1,i2);\n",
    "                    all_agree=0;\n",
    "                }\n",
    "                if(SDA(auxevol_gfs[IDX4S(BETAU2GF, i0,i1,i2)],betaz[CCTK_GFINDEX3D(cctkGH,i0,i1,i2)])<10.0){\n",
    "                    printf(\"Quantity betaU2 only agrees with the original GiRaFFE to %.2f digits at i0,i1,i2=%d,%d,%d!\\n\",\n",
    "                           SDA(auxevol_gfs[IDX4S(BETAU2GF, i0,i1,i2)],betaz[CCTK_GFINDEX3D(cctkGH,i0,i1,i2)]),i0,i1,i2);\n",
    "                    all_agree=0;\n",
    "                }\n",
    "                if(SDA(auxevol_gfs[IDX4S(GAMMADD00GF, i0,i1,i2)],gxx[CCTK_GFINDEX3D(cctkGH,i0,i1,i2)])<10.0){\n",
    "                    printf(\"Quantity betaU0 only agrees with the original GiRaFFE to %.2f digits at i0,i1,i2=%d,%d,%d!\\n\",\n",
    "                           SDA(auxevol_gfs[IDX4S(GAMMADD00GF, i0,i1,i2)],gxx[CCTK_GFINDEX3D(cctkGH,i0,i1,i2)]),i0,i1,i2);\n",
    "                    all_agree=0;\n",
    "                }\n",
    "                if(SDA(auxevol_gfs[IDX4S(GAMMADD11GF, i0,i1,i2)],gyy[CCTK_GFINDEX3D(cctkGH,i0,i1,i2)])<10.0){\n",
    "                    printf(\"Quantity betaU1 only agrees with the original GiRaFFE to %.2f digits at i0,i1,i2=%d,%d,%d!\\n\",\n",
    "                           SDA(auxevol_gfs[IDX4S(GAMMADD11GF, i0,i1,i2)],gyy[CCTK_GFINDEX3D(cctkGH,i0,i1,i2)]),i0,i1,i2);\n",
    "                    all_agree=0;\n",
    "                }\n",
    "                if(SDA(auxevol_gfs[IDX4S(GAMMADD22GF, i0,i1,i2)],gzz[CCTK_GFINDEX3D(cctkGH,i0,i1,i2)])<10.0){\n",
    "                    printf(\"Quantity betaU2 only agrees with the original GiRaFFE to %.2f digits at i0,i1,i2=%d,%d,%d!\\n\",\n",
    "                           SDA(auxevol_gfs[IDX4S(GAMMADD22GF, i0,i1,i2)],gzz[CCTK_GFINDEX3D(cctkGH,i0,i1,i2)]),i0,i1,i2);\n",
    "                    all_agree=0;\n",
    "                }\n",
    "                //printf(\"NRPy: %.15e,%.15e,%.15e\\n\",auxevol_gfs[IDX4S(BETAU0GF, i0,i1,i2)],auxevol_gfs[IDX4S(BETAU1GF, i0,i1,i2)],auxevol_gfs[IDX4S(BETAU2GF, i0,i1,i2)]);\n",
    "                //printf(\"CCTK: %.15e,%.15e,%.15e\\n\",betax[CCTK_GFINDEX3D(cctkGH,i0,i1,i2)],betay[CCTK_GFINDEX3D(cctkGH,i0,i1,i2)],betaz[CCTK_GFINDEX3D(cctkGH,i0,i1,i2)]);\n",
    "                //printf(\"NRPy: %.15e,%.15e,%.15e\\n\",auxevol_gfs[IDX4S(GAMMADD01GF, i0,i1,i2)],auxevol_gfs[IDX4S(GAMMADD02GF, i0,i1,i2)],auxevol_gfs[IDX4S(GAMMADD12GF, i0,i1,i2)]);\n",
    "                //printf(\"CCTK: %.15e,%.15e,%.15e\\n\",gxy[CCTK_GFINDEX3D(cctkGH,i0,i1,i2)],gxz[CCTK_GFINDEX3D(cctkGH,i0,i1,i2)],gyz[CCTK_GFINDEX3D(cctkGH,i0,i1,i2)]);\n",
    "            }\n",
    "        }\n",
    "    }\n",
    "\n",
    "    if(all_agree) printf(\"All quantities agree at all points!\\n\");"
   ]
  },
  {
   "cell_type": "code",
   "execution_count": 9,
   "metadata": {},
   "outputs": [],
   "source": [
    "with open(os.path.join(out_dir,\"ShiftedKerrSchild_unit_test.C\"), 'a') as file:\n",
    "    for gf in gfs_list:\n",
    "        file.write(\"    free(\"+gf+\");\\n\")"
   ]
  },
  {
   "cell_type": "code",
   "execution_count": 10,
   "metadata": {
    "execution": {
     "iopub.execute_input": "2020-12-17T02:18:17.914077Z",
     "iopub.status.busy": "2020-12-17T02:18:17.913627Z",
     "iopub.status.idle": "2020-12-17T02:18:17.916218Z",
     "shell.execute_reply": "2020-12-17T02:18:17.915841Z"
    }
   },
   "outputs": [
    {
     "name": "stdout",
     "output_type": "stream",
     "text": [
      "Appending to Validation//ShiftedKerrSchild_unit_test.C\n"
     ]
    }
   ],
   "source": [
    "%%writefile -a $out_dir/ShiftedKerrSchild_unit_test.C\n",
    "    free(auxevol_gfs);\n",
    "    free(auxevol_ETK_gfs);\n",
    "}"
   ]
  },
  {
   "cell_type": "markdown",
   "metadata": {},
   "source": [
    "<a id='compile_run'></a>\n",
    "\n",
    "## Step 2.a: Compile and run the code to validate the output \\[Back to [top](#toc)\\]\n",
    "\n",
    "$$\\label{compile_run}$$\n",
    "\n",
    "Finally, we can compile and run the code we have written. Once run, this code will output the level of agreement between the two codes and some information to help interpret those numbers."
   ]
  },
  {
   "cell_type": "code",
   "execution_count": 11,
   "metadata": {
    "execution": {
     "iopub.execute_input": "2020-12-17T02:18:17.923286Z",
     "iopub.status.busy": "2020-12-17T02:18:17.920957Z",
     "iopub.status.idle": "2020-12-17T02:18:18.440122Z",
     "shell.execute_reply": "2020-12-17T02:18:18.440546Z"
    },
    "scrolled": true
   },
   "outputs": [
    {
     "name": "stdout",
     "output_type": "stream",
     "text": [
      "Now compiling, should take ~2 seconds...\n",
      "\n",
      "Finished in 0.3594996929168701 seconds.\n",
      "\n",
      "\n",
      "(EXEC): Executing `taskset -c 0,1,2,3,4,5,6,7 ./ShiftedKerrSchild_unit_test `...\n",
      "(BENCH): Finished executing in 0.2101430892944336 seconds.\n"
     ]
    }
   ],
   "source": [
    "import time\n",
    "\n",
    "print(\"Now compiling, should take ~2 seconds...\\n\")\n",
    "start = time.time()\n",
    "# cmd.C_compile(os.path.join(out_dir,\"ShiftedKerrSchild_unit_test.c\"), os.path.join(out_dir,\"ShiftedKerrSchild_unit_test\"))\n",
    "!g++ -Ofast -fopenmp -march=native -funroll-loops Validation/ShiftedKerrSchild_unit_test.C -o Validation/ShiftedKerrSchild_unit_test -lstdc++\n",
    "end = time.time()\n",
    "print(\"Finished in \"+str(end-start)+\" seconds.\\n\\n\")\n",
    "\n",
    "results_file = \"out_ShiftedKerrSchild_test.txt\"\n",
    "\n",
    "# os.chdir(out_dir)\n",
    "os.chdir(out_dir)\n",
    "# cmd.Execute(os.path.join(\"GiRaFFEfood_NRPy_unit_test\"))\n",
    "cmd.Execute(\"ShiftedKerrSchild_unit_test\",file_to_redirect_stdout=results_file)\n",
    "os.chdir(os.path.join(\"../\"))"
   ]
  },
  {
   "cell_type": "markdown",
   "metadata": {},
   "source": [
    "Here, we add some emergency brakes so that if the output from the test isn't good, we throw an error to stop the notebook dead in its tracks. This way, our automatic testing infrastructure can let us know if something goes wrong. We will also print the output from the test for convenience's sake."
   ]
  },
  {
   "cell_type": "code",
   "execution_count": 12,
   "metadata": {
    "execution": {
     "iopub.execute_input": "2020-12-17T02:18:18.445140Z",
     "iopub.status.busy": "2020-12-17T02:18:18.444613Z",
     "iopub.status.idle": "2020-12-17T02:18:18.446999Z",
     "shell.execute_reply": "2020-12-17T02:18:18.447314Z"
    }
   },
   "outputs": [
    {
     "name": "stdout",
     "output_type": "stream",
     "text": [
      "All quantities agree at all points!\n",
      "\n"
     ]
    }
   ],
   "source": [
    "with open(os.path.join(out_dir,results_file),\"r\") as file:\n",
    "    output = file.readline()\n",
    "    print(output)\n",
    "    if output!=\"All quantities agree at all points!\\n\": # If this isn't the first line of this file, something went wrong!\n",
    "        sys.exit(1)"
   ]
  },
  {
   "cell_type": "markdown",
   "metadata": {},
   "source": [
    "<a id='latex_pdf_output'></a>\n",
    "\n",
    "# Step 4: Output this notebook to $\\LaTeX$-formatted PDF file \\[Back to [top](#toc)\\]\n",
    "$$\\label{latex_pdf_output}$$\n",
    "\n",
    "The following code cell converts this Jupyter notebook into a proper, clickable $\\LaTeX$-formatted PDF file. After the cell is successfully run, the generated PDF may be found in the root NRPy+ tutorial directory, with filename\n",
    "[Tutorial-Start_to_Finish_UnitTest-GiRaFFEfood_NRPy.pdf](Tutorial-Start_to_Finish_UnitTest-GiRaFFEfood_NRPy.pdf) (Note that clicking on this link may not work; you may need to open the PDF file through another means.)"
   ]
  },
  {
   "cell_type": "code",
   "execution_count": 13,
   "metadata": {
    "execution": {
     "iopub.execute_input": "2020-12-17T02:18:18.451383Z",
     "iopub.status.busy": "2020-12-17T02:18:18.449559Z",
     "iopub.status.idle": "2020-12-17T02:18:20.902068Z",
     "shell.execute_reply": "2020-12-17T02:18:20.902516Z"
    }
   },
   "outputs": [
    {
     "name": "stdout",
     "output_type": "stream",
     "text": [
      "[NbConvertApp] WARNING | pattern 'Tutorial-Start_to_Finish_UnitTest-GiRaFFEfood_NRPy.ipynb' matched no files\n",
      "Created Tutorial-Start_to_Finish_UnitTest-GiRaFFEfood_NRPy.tex, and\n",
      "    compiled LaTeX file to PDF file Tutorial-Start_to_Finish_UnitTest-\n",
      "    GiRaFFEfood_NRPy.pdf\n"
     ]
    }
   ],
   "source": [
    "import cmdline_helper as cmd    # NRPy+: Multi-platform Python command-line interface\n",
    "cmd.output_Jupyter_notebook_to_LaTeXed_PDF(\"Tutorial-Start_to_Finish_UnitTest-GiRaFFEfood_NRPy\")"
   ]
  }
 ],
 "metadata": {
  "kernelspec": {
   "display_name": "Python 3",
   "language": "python",
   "name": "python3"
  },
  "language_info": {
   "codemirror_mode": {
    "name": "ipython",
    "version": 3
   },
   "file_extension": ".py",
   "mimetype": "text/x-python",
   "name": "python",
   "nbconvert_exporter": "python",
   "pygments_lexer": "ipython3",
   "version": "3.9.1"
  }
 },
 "nbformat": 4,
 "nbformat_minor": 2
}
