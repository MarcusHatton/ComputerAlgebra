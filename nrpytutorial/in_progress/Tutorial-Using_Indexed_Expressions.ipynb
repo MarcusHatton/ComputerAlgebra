{
 "cells": [
  {
   "cell_type": "markdown",
   "metadata": {},
   "source": [
    "<script async src=\"https://www.googletagmanager.com/gtag/js?id=UA-59152712-8\"></script>\n",
    "<script>\n",
    "  window.dataLayer = window.dataLayer || [];\n",
    "  function gtag(){dataLayer.push(arguments);}\n",
    "  gtag('js', new Date());\n",
    "\n",
    "  gtag('config', 'UA-59152712-8');\n",
    "</script>\n",
    "\n",
    "# Using Indexed Expressions Efficiently: Examples and Exercises\n",
    "\n",
    "## Author: Patrick Nelson\n",
    "### Formatting improvements courtesy Brandon Clark\n",
    "\n",
    "### NRPy+ Source Code for this module: \n",
    "* TODO?\n",
    "\n",
    "## Introduction:\n",
    "NRPy+ provides several methods to declare variables and lists to represent the tensors, vectors, and scalars of general relativity. Each function has its use case, but when starting out, it is not always trivial to determine which is appropriate at any given time. This is further complicated by the fact that these use cases can change depending on whether or not the notebook at hand is going to output C code or not. So, this module will provide some pedagogy to help new users with these functions. \n",
    "\n",
    "We will first explore the case in which one does not intend to immediately output C code. This is done in tutorials that solely generate symbolic expressions and their corresponding modules. For example, consider the tutorial [Tutorial-GRHD_Equations-Cartesian.ipynb](Tutorial-GRHD_Equations-Cartesian.ipynb) and the corresponding [module](../edit/GRHD/equations.py). The tutorial notebook gives in-depth, $\\latex$ documentation about the GRHD expressions interspersed with the python code that generates the corresponding sympy expressions. The module provides the same python code, but in a format that makes it easy to `import` it into other Jupyter notebooks and modules. So, the tutorial also performs a self-validation check to guarantee that the notebook and module are generating identical sympy expressions. \n",
    "\n",
    "Then, we will explore the case in which one is outputting C code. In this case, one will import the python modules described above to generate any symbolic expressions needed. These expressions can then be passed to `FD_outputC()`. But this function requires that *every* symbol in the expressions passed to it *must* be either a gridfunction or C parameter to help make sure that the resulting C code compiles correctly. \n",
    "\n",
    "This tutorial assumes that the reader has previously looked over the previous module about indexed expressions in NRPy+, available [here](Tutorial-Indexed_Expressions.ipynb). If you have not read this, please do so before continuing to ensure that you are familiar with the basic syntax for the functions provided by `indexedexp.py`. This module is focused more on *how* and *when* to use each of those functions.\n"
   ]
  },
  {
   "cell_type": "markdown",
   "metadata": {},
   "source": [
    "<a id='toc'></a>\n",
    "\n",
    "# Table of Contents\n",
    "$$\\label{toc}$$\n",
    "\n",
    "This notebook is organized as follows\n",
    "\n",
    "1. [Step 1](#no_c): Zero-rank, Declare-rank, Symbols\n",
    "    1. [Step 1.a](#no_c_ex) Exercises\n",
    "1. [Step 2](#gf_c): Gridfunctions and C parameters\n",
    "    1. [Step 2.a](#gf_c_ex) Exercises\n",
    "1. [Step 3](#applications): Applications\n",
    "1. [Step 4](#key) Solutions for Exercises in Steps 2 & 3\n"
   ]
  },
  {
   "cell_type": "markdown",
   "metadata": {},
   "source": [
    "<a id='no_c'></a>\n",
    "\n",
    "# Step 1: Zero-rank, Declare-rank, Symbols \\[Back to [top](#toc)\\]\n",
    "$$\\label{no_c}$$\n",
    "\n",
    "If we do not intend for a notebook to output C code, we only need to consider two families. In the first, we declare something symbolically; in the second, we set it to zero. For example, consider a simple index-lowering operation of a three-vector $A^i$ using the three-metric $\\gamma_{ij}$:\n",
    "$$\n",
    "A_i = \\gamma_{ij} A^j.\n",
    "$$\n",
    "We've written this in a way that suggests we will define new quantities, $A_i$, in terms of a known quantities, $A^i$ and $\\gamma_{ij}$. The known quantities must be declared; depending on the rank of the quantity in question, this will use one of the following functions:\n",
    "* `sympy.symbols()`\n",
    "* `indexedexp.declarerank1()`\n",
    "* `indexedexp.declarerank2()`\n",
    "* `indexedexp.declarerank3()`\n",
    "* `indexedexp.declarerank4()`\n",
    "\n",
    "The parameters that these take are detailed in [a previous tutorial](Tutorial-Indexed_Expressions.ipynb). The new quantities belong to the other family. These must be zeroed before we can add things to them; this is analogous to initializing a variable in C. This is done with one of the following functions, depending on the rank of the quantities:\n",
    "* `sympy.sympify(0)`\n",
    "* `indexedexp.zerorank1()`\n",
    "* `indexedexp.zerorank2()`\n",
    "* `indexedexp.zerorank3()`\n",
    "* `indexedexp.zerorank4()`\n",
    "\n",
    "These all generate either zero or lists of zero that are compatible with sympify. \n",
    "\n",
    "Let us again consider the example \n",
    "$$\n",
    "A_i = \\gamma_{ij} A^j.\n",
    "$$\n"
   ]
  },
  {
   "cell_type": "code",
   "execution_count": 3,
   "metadata": {},
   "outputs": [],
   "source": [
    "import indexedexp as ixp         # NRPy+: Symbolic indexed expression (e.g., tensors, vectors, etc.) support\n",
    "import sympy as sp\n",
    "\n",
    "# First we'll declare the knowns:\n",
    "AU = ixp.declarerank1(\"AU\",DIM=3)\n",
    "gammaDD = ixp.declarerank2(\"gammaDD\",\"sym01\",DIM=3) # The metric tensor is symmetric, so we set it as such.\n",
    "\n",
    "# Now, let's initialize the new quantity:\n",
    "AD = ixp.zerorank1()\n",
    "\n",
    "# Finally, we can loop over all the indices in the implied sum to express the new\n",
    "# quantity in terms of the knowns:\n",
    "for i in range(3):\n",
    "    for j in range(3):\n",
    "        AD[i] += gammaDD[i][j] * AU[j]"
   ]
  },
  {
   "cell_type": "markdown",
   "metadata": {},
   "source": [
    "<a id='no_c_ex'></a>\n",
    "\n",
    "## Step 1.a: Exercises \\[Back to [top](#toc)\\]\n",
    "$$\\label{no_c_ex}$$\n",
    "\n",
    "Code the following expressions, paying particular attention to the initial declarations and zeroings of tensors and scalars. \n",
    "\n",
    "$$\n",
    "a = \\gamma_{ij} A^i A^j\n",
    "$$"
   ]
  },
  {
   "cell_type": "code",
   "execution_count": null,
   "metadata": {},
   "outputs": [],
   "source": [
    "# What are we trying to compute? What known quantities is that in terms of?\n",
    "# Declare the knowns:\n",
    "\n",
    "\n",
    "# And initialize the new quantity you want to compute to zero:\n",
    "\n",
    "\n",
    "# Then loop through the indices to build the quantity:\n",
    "\n"
   ]
  },
  {
   "cell_type": "markdown",
   "metadata": {},
   "source": [
    "$$\n",
    "T^\\xi_{\\ \\ \\mu\\nu} = k L^\\xi M_\\mu N_\\nu\n",
    "$$"
   ]
  },
  {
   "cell_type": "code",
   "execution_count": null,
   "metadata": {},
   "outputs": [],
   "source": [
    "# Remember that Greek letters denote four-dimensional spacetime quantities!\n",
    "\n"
   ]
  },
  {
   "cell_type": "markdown",
   "metadata": {},
   "source": [
    "<a id='gf_c'></a>\n",
    "\n",
    "# Step 2: Gridfunctions and C parameters \\[Back to [top](#toc)\\]\n",
    "$$\\label{gf_c}$$\n",
    "\n",
    "Once we are ready to write a start-to-finish module, in which we generate, compile, and then run C code, we will also need to start registering gridfunctions and C parameters. Any expression passed to `FD_outputC()` must be entirely in terms of gridfunctions and C parameters; this requirement was put in place to help make sure that the automatically generated files cover everything that they need to do in order to minimize the amount of hand-coding in C that will need to be done. So, we will need to use the following functions:\n",
    "* NRPy_param_funcs.Cparameters()\n",
    "* grid.register_gridfunctions()\n",
    "* indexedexp.register_gridfunctions_for_single_rank1()\n",
    "* indexedexp.register_gridfunctions_for_single_rank2()\n",
    "\n",
    "The zero-rank and declare-rank functions still have uses here, though. We will use `declarerank` whenever we want to take a finite-difference derivative; by appropriately naming it, NRPy+ will automatically generate code to differentiate a specified gridfunction as detailed in [its tutorial](Tutorial-Finite_Difference_Derivatives.ipynb). The `zerorank` functions find a use for intermediate expressions and for expressions whose variable name does not match the gridfunction's name (e.g. the right-hand side of an evolution equation. We will demonstrate these points with a mock PDE. Suppose that there is some vector $J_i$ that evolves according to the following equation:\n",
    "$$\n",
    "\\partial_t J_i = \\partial_j J^j K_i - G \\Lambda_{i},\n",
    "$$\n",
    "\n",
    "where $G$ is Newton's gravitational constant and $\\Lambda_{i} = J_i K_j K^j$. Suppose that, in this simulation, the quantities we want to evolve (and thus store) are $J_i$ and $K^i$\n",
    "\n",
    "(N.B. This equation is not intended to correspond to any particular physics, merely to demonstrate many different use cases of NRPy+'s indexed expressions utilities.)"
   ]
  },
  {
   "cell_type": "code",
   "execution_count": 6,
   "metadata": {},
   "outputs": [],
   "source": [
    "import NRPy_param_funcs as par   # NRPy+: Parameter interface\n",
    "import grid as gri               # NRPy+: Functions having to do with numerical grids\n"
   ]
  },
  {
   "cell_type": "markdown",
   "metadata": {},
   "source": [
    "<a id='gf_c_ex'></a>\n",
    "\n",
    "## Step 2.a: Exercises \\[Back to [top](#toc)\\]\n",
    "$$\\label{gf_c_ex}$$\n"
   ]
  },
  {
   "cell_type": "code",
   "execution_count": null,
   "metadata": {},
   "outputs": [],
   "source": []
  },
  {
   "cell_type": "markdown",
   "metadata": {},
   "source": [
    "<a id='applications'></a>\n",
    "\n",
    "# Step 3: Applications \\[Back to [top](#toc)\\]\n",
    "$$\\label{applications}$$\n",
    "\n"
   ]
  },
  {
   "cell_type": "markdown",
   "metadata": {},
   "source": [
    "<a id='key'></a>\n",
    "\n",
    "# Step 4: Solutions for Exercises in Steps 2 & 3 \\[Back to [top](#toc)\\]\n",
    "$$\\label{key}$$\n",
    "\n",
    "$$\n",
    "a = \\gamma_{ij} A^i A^j\n",
    "$$"
   ]
  },
  {
   "cell_type": "code",
   "execution_count": 4,
   "metadata": {},
   "outputs": [],
   "source": [
    "gammaDD = ixp.declarerank2(\"gammaDD\",\"sym01\",DIM=3)\n",
    "AU = ixp.declarerank1(\"AU\",DIM=3)\n",
    "\n",
    "a = sp.sympify(0)\n",
    "\n",
    "for i in range(3):\n",
    "    for j in range(3):\n",
    "        a += gammaDD[i][j] * AU[i] * AU[j]"
   ]
  },
  {
   "cell_type": "markdown",
   "metadata": {},
   "source": [
    "$$\n",
    "T^\\xi_{\\ \\ \\mu\\nu} = k L^\\xi M_\\mu N_\\nu\n",
    "$$"
   ]
  },
  {
   "cell_type": "code",
   "execution_count": null,
   "metadata": {},
   "outputs": [],
   "source": [
    "k = sp.symbols(\"k\",real=True)\n",
    "LU = ixp.declarerank1(\"LU\",DIM=4)\n",
    "MD = ixp.declarerank1(\"MD\",DIM=4)\n",
    "ND = ixp.declarerank1(\"ND\",DIM=4)\n",
    "\n",
    "TUDD = ixp.zerorank3()\n",
    "\n",
    "for xi in range(4):\n",
    "    for mu in range(4):\n",
    "        for nu in range(4):\n",
    "            TUDD[xi][mu][nu] += k * LU[xi] * MD[mu] * ND[nu]\n"
   ]
  }
 ],
 "metadata": {
  "kernelspec": {
   "display_name": "Python 3",
   "language": "python",
   "name": "python3"
  },
  "language_info": {
   "codemirror_mode": {
    "name": "ipython",
    "version": 3
   },
   "file_extension": ".py",
   "mimetype": "text/x-python",
   "name": "python",
   "nbconvert_exporter": "python",
   "pygments_lexer": "ipython3",
   "version": "3.8.3"
  }
 },
 "nbformat": 4,
 "nbformat_minor": 2
}
