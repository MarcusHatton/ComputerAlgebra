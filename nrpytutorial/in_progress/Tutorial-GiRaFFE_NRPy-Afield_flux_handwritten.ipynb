{
 "cells": [
  {
   "cell_type": "markdown",
   "metadata": {},
   "source": [
    "<script async src=\"https://www.googletagmanager.com/gtag/js?id=UA-59152712-8\"></script>\n",
    "<script>\n",
    "  window.dataLayer = window.dataLayer || [];\n",
    "  function gtag(){dataLayer.push(arguments);}\n",
    "  gtag('js', new Date());\n",
    "\n",
    "  gtag('config', 'UA-59152712-8');\n",
    "</script>\n",
    "\n",
    "# `GiRaFFE_NRPy`: Solving the Induction Equation\n",
    "\n",
    "## Author: Patrick Nelson\n",
    "\n",
    "**Notebook Status:** <font color='green'><b>Validated</b></font>\n",
    "\n",
    "**Validation Notes:** This code has been validated by showing that it converges to the exact answer at the expected order.\n",
    "\n",
    "### NRPy+ Source Code for this module:\n",
    "* [GiRaFFE_NRPy/GiRaFFE_NRPy_Afield_flux_handwritten.py](../../edit/in_progress/GiRaFFE_NRPy/GiRaFFE_NRPy_Afield_flux_handwritten.py)\n",
    "\n",
    "## Introduction\n",
    "\n",
    "This notebook documents the function from the original `GiRaFFE` that calculates the flux for $A_i$ according to the method of Harten, Lax, von Leer, and Einfeldt (HLLE), assuming that we have calculated the values of the velocity and magnetic field on the cell faces according to the piecewise-parabolic method (PPM) of [Colella and Woodward (1984)](https://crd.lbl.gov/assets/pubs_presos/AMCS/ANAG/A141984.pdf), modified for the case of GRFFE. \n",
    "\n",
    "Our goal in this module is to write the code necessary to solve the induction equation \n",
    "$$\n",
    "\\partial_t A_i = \\underbrace{\\epsilon_{ijk} v^j B^k}_{\\rm Flux\\ terms} - \\underbrace{\\partial_i \\left(\\alpha \\Phi - \\beta^j A_j \\right)}_{\\rm Gauge\\ terms}.\n",
    "$$\n",
    "To properly handle the flux terms and avoid problems with shocks, we cannot simply take a cross product of the velocity and magnetic field at the cell centers. Instead, we must solve the Riemann problem at the cell faces using the reconstructed values of the velocity and magnetic field on either side of the cell faces. The reconstruction is done using the piecewise-parabolic method (PPM) (see [here](Tutorial-GiRaFFE_NRPy-PPM.ipynb)); in this module, we will assume that that step has already been done. Metric quantities are assumed to have been interpolated to cell faces, as is done in [this](Tutorial-GiRaFFE_NRPy-Metric_Face_Values.ipynb) tutorial. \n",
    "\n",
    "T&oacute;th's [paper](https://www.sciencedirect.com/science/article/pii/S0021999100965197?via%3Dihub), Eqs. 30 and 31, are one of the first implementations of such a scheme. The original GiRaFFE used a 2D version of the algorithm from [Del Zanna, et al. (2002)](https://arxiv.org/abs/astro-ph/0210618); but since we are not using staggered grids, we can greatly simplify this algorithm with respect to the version used in the original `GiRaFFE`. Instead, we will adapt the implementations of the algorithm used in [Mewes, et al. (2020)](https://arxiv.org/abs/2002.06225) and [Giacomazzo, et al. (2011)](https://arxiv.org/abs/1009.2468), Eqs. 3-11. \n",
    "\n",
    "We first write the flux contribution to the induction equation RHS as \n",
    "$$\n",
    "\\partial_t A_i = -E_i,\n",
    "$$\n",
    "where the electric field $E_i$ is given in ideal MHD (of which FFE is a subset) as\n",
    "$$\n",
    "-E_i = \\epsilon_{ijk} v^j B^k,\n",
    "$$\n",
    "where $v^i$ is the drift velocity,  $B^i$ is the magnetic field, and $\\epsilon_{ijk} = \\sqrt{\\gamma} [ijk]$ is the Levi-Civita tensor.\n",
    "In Cartesian coordinates, \n",
    "\\begin{align}\n",
    "-E_x &= [F^y(B^z)]_x = -[F^z(B^y)]_x \\\\\n",
    "-E_y &= [F^z(B^x)]_y = -[F^x(B^z)]_y \\\\\n",
    "-E_z &= [F^x(B^y)]_z = -[F^y(B^x)]_z, \\\\\n",
    "\\end{align}\n",
    "where \n",
    "$$\n",
    "[F^i(B^j)]_k = \\sqrt{\\gamma} (v^i B^j - v^j B^i).\n",
    "$$\n",
    "To compute the actual contribution to the RHS in some direction $i$, we average the above listed field as calculated on the $+j$, $-j$, $+k$, and $-k$ faces. That is, at some point $(i,j,k)$ on the grid,\n",
    "\\begin{align}\n",
    "-E_x(x_i,y_j,z_k) &= \\frac{1}{4} \\left( [F_{\\rm HLL}^y(B^z)]_{x(i,j+1/2,k)}+[F_{\\rm HLL}^y(B^z)]_{x(i,j-1/2,k)}-[F_{\\rm HLL}^z(B^y)]_{x(i,j,k+1/2)}-[F_{\\rm HLL}^z(B^y)]_{x(i,j,k-1/2)} \\right) \\\\\n",
    "-E_y(x_i,y_j,z_k) &= \\frac{1}{4} \\left( [F_{\\rm HLL}^z(B^x)]_{y(i,j,k+1/2)}+[F_{\\rm HLL}^z(B^x)]_{y(i,j,k-1/2)}-[F_{\\rm HLL}^x(B^z)]_{y(i+1/2,j,k)}-[F_{\\rm HLL}^x(B^z)]_{y(i-1/2,j,k)} \\right) \\\\\n",
    "-E_z(x_i,y_j,z_k) &= \\frac{1}{4} \\left( [F_{\\rm HLL}^x(B^y)]_{z(i+1/2,j,k)}+[F_{\\rm HLL}^x(B^y)]_{z(i-1/2,j,k)}-[F_{\\rm HLL}^y(B^x)]_{z(i,j+1/2,k)}-[F_{\\rm HLL}^y(B^x)]_{z(i,j-1/2,k)} \\right). \\\\\n",
    "\\end{align}\n",
    "Note the use of $F_{\\rm HLL}$ here. This change signifies that the quantity output here is from the HLLE Riemann solver. Note also the indices on the fluxes. Values of $\\pm 1/2$ indicate that these are computed on cell faces using the reconstructed values of $v^i$ and $B^i$ and the interpolated values of the metric gridfunctions. So, \n",
    "$$\n",
    "F_{\\rm HLL}^i(B^j) = \\frac{c_{\\rm min} F_{\\rm R}^i(B^j) + c_{\\rm max} F_{\\rm L}^i(B^j) - c_{\\rm min} c_{\\rm max} (B_{\\rm R}^j-B_{\\rm L}^j)}{c_{\\rm min} + c_{\\rm max}}.\n",
    "$$\n",
    "\n",
    "The speeds $c_\\min$ and $c_\\max$ are characteristic speeds that waves can travel through the plasma. In GRFFE, the expressions defining them reduce a function of only the metric quantities. $c_\\min$ is the negative of the minimum amongst the speeds $c_-$ and $0$ and $c_\\max$ is the maximum amongst the speeds $c_+$ and $0$. The speeds $c_\\pm = \\left. \\left(-b \\pm \\sqrt{b^2-4ac}\\right)\\middle/ \\left(2a\\right) \\right.$ must be calculated on both the left and right faces, where \n",
    "$$a = 1/\\alpha^2,$$ \n",
    "$$b = 2 \\beta^i / \\alpha^2$$\n",
    "and $$c = g^{ii} - (\\beta^i)^2/\\alpha^2.$$\n",
    "An outline of a general finite-volume method is as follows, with the current step in bold:\n",
    "1. The Reconstruction Step - Piecewise Parabolic Method\n",
    "    1. Within each cell, fit to a function that conserves the volume in that cell using information from the neighboring cells\n",
    "        * For PPM, we will naturally use parabolas\n",
    "    1. Use that fit to define the state at the left and right interface of each cell\n",
    "    1. Apply a slope limiter to mitigate Gibbs phenomenon\n",
    "1. Interpolate the value of the metric gridfunctions on the cell faces\n",
    "1. **Solve the Riemann Problem - Harten, Lax, von Leer, Einfeldt(This notebook, $E_i$ only)**\n",
    "    1. **Use the left and right reconstructed states to calculate the unique state at boundary**\n",
    "\n",
    "We will assume in this notebook that the reconstructed velocities and magnetic fields are available on cell faces as input. We will also assume that the metric gridfunctions have been interpolated on the cell faces. \n",
    "\n",
    "Solving the Riemann problem, then, consists of two substeps: First, we compute the flux through each face of the cell. Then, we add the average of these fluxes to the right-hand side of the evolution equation for the vector potential. "
   ]
  },
  {
   "cell_type": "markdown",
   "metadata": {},
   "source": [
    "<a id='toc'></a>\n",
    "\n",
    "# Table of Contents\n",
    "$$\\label{toc}$$\n",
    "\n",
    "This notebook is organized as follows\n",
    "\n",
    "0. [Step 1](#prelim): Preliminaries\n",
    "1. [Step 2](#code): Write the C code\n",
    "    1. [Step 2.a](#hydro_speed): GRFFE characteristic wave speeds\n",
    "    1. [Step 2.b](#fluxes): Compute the HLLE fluxes\n",
    "1. [Step 3](#code_validation): Code Validation\n",
    "1. [Step 4](#latex_pdf_output): Output this notebook to $\\LaTeX$-formatted PDF file"
   ]
  },
  {
   "cell_type": "markdown",
   "metadata": {},
   "source": [
    "<a id='prelim'></a>\n",
    "\n",
    "# Step 1: Preliminaries \\[Back to [top](#toc)\\]\n",
    "$$\\label{prelim}$$\n",
    "\n",
    "This first block of code just sets up a subdirectory within `GiRaFFE_standalone_Ccodes/` to which we will write the C code."
   ]
  },
  {
   "cell_type": "code",
   "execution_count": 1,
   "metadata": {},
   "outputs": [],
   "source": [
    "# Step 0: Add NRPy's directory to the path\n",
    "# https://stackoverflow.com/questions/16780014/import-file-from-parent-directory\n",
    "import os,sys\n",
    "nrpy_dir_path = os.path.join(\"..\")\n",
    "if nrpy_dir_path not in sys.path:\n",
    "    sys.path.append(nrpy_dir_path)\n",
    "\n",
    "import cmdline_helper as cmd     # NRPy+: Multi-platform Python command-line interface\n",
    "Ccodesdir = \"GiRaFFE_standalone_Ccodes/RHSs\"\n",
    "cmd.mkdir(os.path.join(Ccodesdir))"
   ]
  },
  {
   "cell_type": "markdown",
   "metadata": {},
   "source": [
    "<a id='code'></a>\n",
    "\n",
    "# Step 2: Write the C code \\[Back to [top](#toc)\\]\n",
    "$$\\label{code}$$\n",
    "\n",
    "Recall that there were three equations that we need to code; note also that they are all cyclic permutations of each other. Thus, we only need to code one of them, as we can simply permute the inputs into the function to calculate all three equations. We will use the $E_z$ equation:\n",
    "$$\n",
    "-E_z(x_i,y_j,z_k) = \\frac{1}{4} \\left( [F_{\\rm HLL}^x(B^y)]_{z(i+1/2,j,k)}+[F_{\\rm HLL}^x(B^y)]_{z(i-1/2,j,k)}-[F_{\\rm HLL}^y(B^x)]_{z(i,j+1/2,k)}-[F_{\\rm HLL}^y(B^x)]_{z(i,j-1/2,k)} \\right),\n",
    "$$\n",
    "where \n",
    "$$\n",
    "-E_z = [F^x(B^y)]_z = -[F^y(B^x)]_z\n",
    "$$\n",
    "and\n",
    "$$\n",
    "[F^i(B^j)]_k = \\sqrt{\\gamma} (v^i B^j - v^j B^i).\n",
    "$$\n",
    "\n",
    "<a id='hydro_speed'></a>\n",
    "\n",
    "## Step 2.a: GRFFE characteristic wave speeds \\[Back to [top](#toc)\\]\n",
    "$$\\label{hydro_speed}$$\n",
    "\n",
    "Next, we will find the speeds at which the hydrodynamics waves propagate. We start from the speed of light (since FFE deals with very diffuse plasmas), which is $c=1.0$ in our chosen units. We then find the speeds $c_+$ and $c_-$ on each face with the function `find_cp_cm`; then, we find minimum and maximum speeds possible from among those.\n",
    "\n",
    "\n",
    "\n",
    "Below is the source code for `find_cp_cm`, edited to work with the NRPy+ version of GiRaFFE. One edit we need to make in particular is to the term `psim4*gupii` in the definition of `c`; that was written assuming the use of the conformal metric $\\tilde{g}^{ii}$. Since we are not using that here, and are instead using the ADM metric, we should not multiply by $\\psi^{-4}$.\n",
    "\n",
    "```c\n",
    "static inline void find_cp_cm(REAL &cplus,REAL &cminus,const REAL v02,const REAL u0,\n",
    "                              const REAL vi,const REAL lapse,const REAL shifti,\n",
    "                              const REAL gammadet,const REAL gupii) {\n",
    "  const REAL u0_SQUARED=u0*u0;\n",
    "  const REAL ONE_OVER_LAPSE_SQUARED = 1.0/(lapse*lapse);\n",
    "  // sqrtgamma = psi6 -> psim4 = gammadet^(-1.0/3.0)\n",
    "  const REAL psim4 = pow(gammadet,-1.0/3.0);\n",
    "  //Find cplus, cminus:\n",
    "  const REAL a = u0_SQUARED * (1.0-v02) + v02*ONE_OVER_LAPSE_SQUARED;\n",
    "  const REAL b = 2.0* ( shifti*ONE_OVER_LAPSE_SQUARED * v02 - u0_SQUARED * vi * (1.0-v02) );\n",
    "  const REAL c = u0_SQUARED*vi*vi * (1.0-v02) - v02 * ( gupii -\n",
    "                                                               shifti*shifti*ONE_OVER_LAPSE_SQUARED);\n",
    "  REAL detm = b*b - 4.0*a*c;\n",
    "  //ORIGINAL LINE OF CODE:\n",
    "  //if(detm < 0.0) detm = 0.0;\n",
    "  //New line of code (without the if() statement) has the same effect:\n",
    "  detm = sqrt(0.5*(detm + fabs(detm))); /* Based on very nice suggestion from Roland Haas */\n",
    "  \n",
    "  cplus = 0.5*(detm-b)/a;\n",
    "  cminus = -0.5*(detm+b)/a;\n",
    "  if (cplus < cminus) {\n",
    "    const REAL cp = cminus;\n",
    "    cminus = cplus;\n",
    "    cplus = cp;\n",
    "  }\n",
    "}\n",
    "```\n",
    "Comments documenting this have been excised for brevity, but are reproduced in $\\LaTeX$ [below](#derive_speed).\n",
    "\n",
    "We could use this code directly, but there's substantial improvement we can make by changing the code into a NRPyfied form. Note the `if` statement; NRPy+ does not know how to handle these, so we must eliminate it if we want to leverage NRPy+'s full power. (Calls to `fabs()` are also cheaper than `if` statements.) This can be done if we rewrite this, taking inspiration from the other eliminated `if` statement documented in the above code block:\n",
    "```c\n",
    "  cp = 0.5*(detm-b)/a;\n",
    "  cm = -0.5*(detm+b)/a;\n",
    "  cplus  = 0.5*(cp+cm+fabs(cp-cm));\n",
    "  cminus = 0.5*(cp+cm-fabs(cp-cm));\n",
    "```\n",
    "This can be simplified further, by substituting `cp` and `cm` into the below equations and eliminating terms as appropriate. First note that `cp+cm = -b/a` and that `cp-cm = detm/a`. Thus,\n",
    "```c\n",
    "  cplus  = 0.5*(-b/a + fabs(detm/a));\n",
    "  cminus = 0.5*(-b/a - fabs(detm/a));\n",
    "```\n",
    "This fulfills the original purpose of the `if` statement in the original code because we have guaranteed that $c_+ \\geq c_-$.\n",
    "\n",
    "This leaves us with an expression that can be much more easily NRPyfied. So, we will rewrite the following in NRPy+, making only minimal changes to be proper Python. However, it turns out that we can make this even simpler. In GRFFE, $v_0^2$ is guaranteed to be exactly one. In GRMHD, this speed was calculated as $$v_{0}^{2} = v_{\\rm A}^{2} + c_{\\rm s}^{2}\\left(1-v_{\\rm A}^{2}\\right),$$ where the Alfv&eacute;n speed $v_{\\rm A}^{2}$ $$v_{\\rm A}^{2} = \\frac{b^{2}}{\\rho_{b}h + b^{2}}.$$ So, we can see that when the density $\\rho_b$ goes to zero, $v_{0}^{2} = v_{\\rm A}^{2} = 1$. Then \n",
    "\\begin{align}\n",
    "a &= (u^0)^2 (1-v_0^2) + v_0^2/\\alpha^2 \\\\\n",
    "&= 1/\\alpha^2 \\\\\n",
    "b &= 2 \\left(\\beta^i v_0^2 / \\alpha^2 - (u^0)^2 v^i (1-v_0^2)\\right) \\\\\n",
    "&= 2 \\beta^i / \\alpha^2 \\\\\n",
    "c &= (u^0)^2 (v^i)^2 (1-v_0^2) - v_0^2 \\left(\\gamma^{ii} - (\\beta^i)^2/\\alpha^2\\right) \\\\\n",
    "&= -\\gamma^{ii} + (\\beta^i)^2/\\alpha^2,\n",
    "\\end{align}\n",
    "are simplifications that should save us some time; we can see that $a \\geq 0$ is guaranteed. Note that we also force `detm` to be positive. Thus, `detm/a` is guaranteed to be positive itself, rendering the calls to `nrpyAbs()` superfluous. Furthermore, we eliminate any dependence on the Valencia 3-velocity and the time component of the four-velocity, $u^0$. This leaves us free to solve the quadratic in the familiar way: $$c_\\pm = \\frac{-b \\pm \\sqrt{b^2-4ac}}{2a}$$."
   ]
  },
  {
   "cell_type": "markdown",
   "metadata": {},
   "source": [
    "In flat spacetime, where $\\alpha=1$, $\\beta^i=0$, and $\\gamma^{ij} = \\delta^{ij}$, $c_+ > 0$ and $c_- < 0$. For the HLLE solver, we will need both `cmax` and `cmin` to be positive; we also want to choose the speed that is larger in magnitude because overestimating the characteristic speeds will help damp unwanted oscillations. (However, in GRFFE, we only get one $c_+$ and one $c_-$, so we only need to fix the signs here.) \n",
    "\n",
    "We will now write a function in C similar to the one used in the old `GiRaFFE`. Notice that since we eliminated the dependence on velocities, none of the input quantities are different on either side of the face. While the original `GiRaFFE` used two functions, the simplifications we've made will allow us to get away with only one without obfuscating anything, with the only downside being that it's a little less obvious how this is related to the GRMHD implementation. We use the same technique as above to replace the `if` statements inherent to the `MAX()` and `MIN()` functions.\n",
    "\n",
    "This function requires the inverse metric; the following code will easily generate all the needed expressions:\n",
    "```\n",
    "from outputC import outputC      # NRPy+: Core C code output module\n",
    "import indexedexp as ixp         # NRPy+: Symbolic indexed expression (e.g., tensors, vectors, etc.) support\n",
    "gammaDD = ixp.declarerank2(\"gammaDD\",\"sym01\",DIM=3)\n",
    "gammaUU,gammaDET = ixp.symm_matrix_inverter3x3(gammaDD)\n",
    "outputC([gammaUU[0][0],gammaUU[1][1],gammaUU[2][2]],[\"gammaUU00\",\"gammaUU11\",\"gammaUU22\"])\n",
    "```\n",
    "We modify the output slightly, by putting the final expressions for `gammaUU00`, `gammaUU11`, and `gammaUU22` in a switch statement and changing the assignment to a common variable `gammaUUii`, allowing us to only compute the value needed. "
   ]
  },
  {
   "cell_type": "code",
   "execution_count": 2,
   "metadata": {},
   "outputs": [],
   "source": [
    "from outputC import outputC # NRPy+: Core C code output module\n",
    "import sympy as sp               # SymPy: The Python computer algebra package upon which NRPy+ depends\n",
    "import indexedexp as ixp         # NRPy+: Symbolic indexed expression (e.g., tensors, vectors, etc.) support\n",
    "import GiRaFFE_NRPy.GiRaFFE_NRPy_Characteristic_Speeds as chsp\n",
    "\n",
    "gammaDD = ixp.declarerank2(\"gammaDD\",\"sym01\",DIM=3)\n",
    "betaU = ixp.declarerank1(\"betaU\",DIM=3)\n",
    "alpha = sp.sympify(\"alpha\")\n",
    "\n",
    "for flux_dirn in range(3):\n",
    "    chsp.find_cmax_cmin(flux_dirn,gammaDD,betaU,alpha)\n",
    "    Ccode_kernel = outputC([chsp.cmax,chsp.cmin],[\"cmax\",\"cmin\"],\"returnstring\",params=\"outCverbose=False,CSE_sorting=none\")\n",
    "    Ccode_kernel = Ccode_kernel.replace(\"cmax\",\"*cmax\").replace(\"cmin\",\"*cmin\")\n",
    "    Ccode_kernel = Ccode_kernel.replace(\"betaU0\",\"betaUi\").replace(\"betaU1\",\"betaUi\").replace(\"betaU2\",\"betaUi\")\n",
    "\n",
    "    with open(os.path.join(Ccodesdir,\"compute_cmax_cmin_dirn\"+str(flux_dirn)+\".h\"),\"w\") as file:\n",
    "        file.write(Ccode_kernel)"
   ]
  },
  {
   "cell_type": "code",
   "execution_count": 3,
   "metadata": {},
   "outputs": [
    {
     "name": "stdout",
     "output_type": "stream",
     "text": [
      "Overwriting GiRaFFE_standalone_Ccodes/RHSs/calculate_E_field_flat_all_in_one.h\n"
     ]
    }
   ],
   "source": [
    "%%writefile $Ccodesdir/calculate_E_field_flat_all_in_one.h\n",
    "void find_cmax_cmin(const REAL gammaDD00, const REAL gammaDD01, const REAL gammaDD02,\n",
    "                    const REAL gammaDD11, const REAL gammaDD12, const REAL gammaDD22,\n",
    "                    const REAL betaUi, const REAL alpha, const int flux_dirn,\n",
    "                    REAL *cmax, REAL *cmin) {\n",
    "    switch(flux_dirn) {\n",
    "        case 0:\n",
    "#include \"compute_cmax_cmin_dirn0.h\"\n",
    "            break;\n",
    "        case 1:\n",
    "#include \"compute_cmax_cmin_dirn1.h\"\n",
    "            break;\n",
    "        case 2:\n",
    "#include \"compute_cmax_cmin_dirn2.h\"\n",
    "            break;\n",
    "        default:\n",
    "            printf(\"Invalid parameter flux_dirn!\"); *cmax = 1.0/0.0; *cmin = 1.0/0.0;\n",
    "            break;\n",
    "    }\n",
    "}"
   ]
  },
  {
   "cell_type": "markdown",
   "metadata": {},
   "source": [
    "<a id='fluxes'></a>\n",
    "\n",
    "## Step 2.b: Compute the HLLE fluxes \\[Back to [top](#toc)\\]\n",
    "$$\\label{fluxes}$$\n",
    "\n",
    "First, we write a standard HLLE solver based on eq. 3.15 in [the HLLE paper](https://epubs.siam.org/doi/pdf/10.1137/1025002),\n",
    "$$\n",
    "F^{\\rm HLL} = \\frac{c_{\\rm min} F_{\\rm R} + c_{\\rm max} F_{\\rm L} - c_{\\rm min} c_{\\rm max} (U_{\\rm R}-U_{\\rm L})}{c_{\\rm min} + c_{\\rm max}}\n",
    "$$"
   ]
  },
  {
   "cell_type": "code",
   "execution_count": 4,
   "metadata": {},
   "outputs": [
    {
     "name": "stdout",
     "output_type": "stream",
     "text": [
      "Appending to GiRaFFE_standalone_Ccodes/RHSs/calculate_E_field_flat_all_in_one.h\n"
     ]
    }
   ],
   "source": [
    "%%writefile -a $Ccodesdir/calculate_E_field_flat_all_in_one.h\n",
    "\n",
    "REAL HLLE_solve(REAL F0B1_r, REAL F0B1_l, REAL U_r, REAL U_l, REAL cmin, REAL cmax) {\n",
    "  // Eq. 3.15 of https://epubs.siam.org/doi/abs/10.1137/1025002?journalCode=siread\n",
    "  // F_HLLE = (c_min F_R + c_max F_L - c_min c_max (U_R-U_L)) / (c_min + c_max)\n",
    "  return (cmin*F0B1_r + cmax*F0B1_l - cmin*cmax*(U_r-U_l)) / (cmin+cmax);\n",
    "}\n"
   ]
  },
  {
   "cell_type": "markdown",
   "metadata": {},
   "source": [
    "Here, we will write declare the function that will compute the fluxes and pass them to the HLLE solver, then add that result to the $A_i$ right-hand side. We pass the inputs necessary for to compute $E_z$. This includes the standard NRPy+ `params`, as well as pointers to the needed components of the Valencia three-velocity and magnetic field; note that `Br1=Brflux_dirn` and `Bl1=Blflux_dirn` must be set that way to get correct results. We also pass the output `A2_rhs` (again, this will be changed to reflect the actual component we want to calculate) and parameters `SIGN` ($\\pm 1$) and flux_dirn (`0`, `1`, or `2`, needed to compute the offsets for memory access). \n",
    "\n",
    "With the `#include`, we set our parameters as usual; if the declaration for a variable cannot be found elsewhere in the code, it was defined here."
   ]
  },
  {
   "cell_type": "code",
   "execution_count": 5,
   "metadata": {},
   "outputs": [
    {
     "name": "stdout",
     "output_type": "stream",
     "text": [
      "Appending to GiRaFFE_standalone_Ccodes/RHSs/calculate_E_field_flat_all_in_one.h\n"
     ]
    }
   ],
   "source": [
    "%%writefile -a $Ccodesdir/calculate_E_field_flat_all_in_one.h\n",
    "\n",
    "/*\n",
    "Calculate the electric flux on both faces in the input direction.\n",
    "The input count is an integer that is either 0 or 1. If it is 0, this implies\n",
    "that the components are input in order of a backwards permutation  and the final\n",
    "results will need to be multiplied by -1.0. If it is 1, then the permutation is forwards.\n",
    " */\n",
    "void calculate_E_field_flat_all_in_one(const paramstruct *params,\n",
    "                                       const REAL *Vr0,const REAL *Vr1,\n",
    "                                       const REAL *Vl0,const REAL *Vl1,\n",
    "                                       const REAL *Br0,const REAL *Br1,\n",
    "                                       const REAL *Bl0,const REAL *Bl1,\n",
    "                                       const REAL *Brflux_dirn,\n",
    "                                       const REAL *Blflux_dirn,\n",
    "                                       const REAL *gamma_faceDD00, const REAL *gamma_faceDD01, const REAL *gamma_faceDD02,\n",
    "                                       const REAL *gamma_faceDD11, const REAL *gamma_faceDD12, const REAL *gamma_faceDD22,\n",
    "                                       const REAL *beta_faceU0, const REAL *beta_faceU1, const REAL *alpha_face,\n",
    "                                       REAL *A2_rhs,const REAL SIGN,const int flux_dirn) {\n",
    "    // This function is written to be generic and compute the contribution for all three AD RHSs.\n",
    "    // However, for convenience, the notation used in the function itself is for the contribution\n",
    "    // to AD2, specifically the [F_HLL^x(B^y)]_z term, with reconstructions in the x direction. This\n",
    "    // corresponds to flux_dirn=0 and count=1 (which corresponds to SIGN=+1.0).\n",
    "    // Thus, Az(i,j,k) += 0.25 ( [F_HLL^x(B^y)]_z(i+1/2,j,k)+[F_HLL^x(B^y)]_z(i-1/2,j,k)) are solved here.\n",
    "    // The other terms are computed by cyclically permuting the indices when calling this function.\n",
    "#include \"../set_Cparameters.h\"\n"
   ]
  },
  {
   "cell_type": "markdown",
   "metadata": {},
   "source": [
    "Again, we are going to use the notation for the RHS of `A_z` (or `AD2`), specifically the $[F_{\\rm HLL}^x(B^y)]_{z(i+1/2,j,k)}+[F_{\\rm HLL}^x(B^y)]_{z(i-1/2,j,k)}$ terms, corresponding to `flux_dirn=0` and `count=1` (which itself corresponds to `SIGN=1.0`). Specifically, `flux_dirn=0,1,2` is determined by which of $i,j,k$ is offset by $\\pm 1/2$, respectively, and `SIGN` corresponds to the sign in from the $F^i(B^j)$ terms, which is determined by the permutation of $(i,j,k)$ represented by $-E_k = F^i(B^j)$.\n",
    "\n",
    "We begin a straightforward loop over the grid interior; then, we must read in all necessary input values from memory. \n",
    "Now, recall that, when reconstructing the $x$-direction, we reconstructed to the $i-1/2$ face, or $(i-1/2,j,k)$ for a memory location corresponding to `i,j,k`. So, since we must read in values corresponding to $(i-1/2,j,k)$ and $(i+1/2,j,k)$, we read from `i,j,k` and `i+1,j,k`, respectively, permuting as necessary dictated by the input value of `flux_dirn`."
   ]
  },
  {
   "cell_type": "code",
   "execution_count": 6,
   "metadata": {},
   "outputs": [
    {
     "name": "stdout",
     "output_type": "stream",
     "text": [
      "Appending to GiRaFFE_standalone_Ccodes/RHSs/calculate_E_field_flat_all_in_one.h\n"
     ]
    }
   ],
   "source": [
    "%%writefile -a $Ccodesdir/calculate_E_field_flat_all_in_one.h\n",
    "\n",
    "#pragma omp parallel for\n",
    "    for(int i2=NGHOSTS; i2<NGHOSTS+Nxx2; i2++) {\n",
    "        for(int i1=NGHOSTS; i1<NGHOSTS+Nxx1; i1++) {\n",
    "            for(int i0=NGHOSTS; i0<NGHOSTS+Nxx0; i0++) {\n",
    "                // First, we set the index from which we will read memory. indexp1 is incremented by\n",
    "                // one point in the direction of reconstruction. These correspond to the faces at at\n",
    "                // i-1/2 and i+1/2, respectively.\n",
    "\n",
    "                // Now, we read in memory. We need the x and y components of velocity and magnetic field on both\n",
    "                // the left and right sides of the interface at *both* faces.\n",
    "                // Here, the point (i0,i1,i2) corresponds to the point (i-1/2,j,k)\n",
    "                const int index           = IDX3S(i0,i1,i2);\n",
    "                const double alpha        = alpha_face[index];\n",
    "                const double betaU0       = beta_faceU0[index];\n",
    "                const double betaU1       = beta_faceU1[index];\n",
    "                const double v_rU0        = alpha*Vr0[index]-betaU0;\n",
    "                const double v_rU1        = alpha*Vr1[index]-betaU1;\n",
    "                const double B_rU0        = Br0[index];\n",
    "                const double B_rU1        = Br1[index];\n",
    "                const double B_rflux_dirn = Brflux_dirn[index];\n",
    "                const double v_lU0        = alpha*Vl0[index]-betaU0;\n",
    "                const double v_lU1        = alpha*Vl1[index]-betaU1;\n",
    "                const double B_lU0        = Bl0[index];\n",
    "                const double B_lU1        = Bl1[index];\n",
    "                const double B_lflux_dirn = Blflux_dirn[index];\n",
    "                // We will also need need the square root of the metric determinant here at this point:\n",
    "                const REAL gxx = gamma_faceDD00[index];\n",
    "                const REAL gxy = gamma_faceDD01[index];\n",
    "                const REAL gxz = gamma_faceDD02[index];\n",
    "                const REAL gyy = gamma_faceDD11[index];\n",
    "                const REAL gyz = gamma_faceDD12[index];\n",
    "                const REAL gzz = gamma_faceDD22[index];\n",
    "                const REAL sqrtgammaDET = sqrt( gxx*gyy*gzz\n",
    "                                             -  gxx*gyz*gyz\n",
    "                                             +2*gxy*gxz*gyz\n",
    "                                             -  gyy*gxz*gxz\n",
    "                                             -  gzz*gxy*gxy );\n",
    "\n",
    "                // *******************************\n",
    "                // REPEAT ABOVE, but at i+1, which corresponds to point (i+1/2,j,k)\n",
    "                //     Recall that the documentation here assumes flux_dirn==0, but the\n",
    "                //     algorithm is generalized so that any flux_dirn or velocity/magnetic\n",
    "                //     field component can be computed via permuting the inputs into this\n",
    "                //     function.\n",
    "                const int indexp1            = IDX3S(i0+(flux_dirn==0),i1+(flux_dirn==1),i2+(flux_dirn==2));\n",
    "                const double alpha_p1        = alpha_face[indexp1];\n",
    "                const double betaU0_p1       = beta_faceU0[indexp1];\n",
    "                const double betaU1_p1       = beta_faceU1[indexp1];\n",
    "                const double v_rU0_p1        = alpha_p1*Vr0[indexp1]-betaU0_p1;\n",
    "                const double v_rU1_p1        = alpha_p1*Vr1[indexp1]-betaU1_p1;\n",
    "                const double B_rU0_p1        = Br0[indexp1];\n",
    "                const double B_rU1_p1        = Br1[indexp1];\n",
    "                const double B_rflux_dirn_p1 = Brflux_dirn[indexp1];\n",
    "                const double v_lU0_p1        = alpha_p1*Vl0[indexp1]-betaU0_p1;\n",
    "                const double v_lU1_p1        = alpha_p1*Vl1[indexp1]-betaU1_p1;\n",
    "                const double B_lU0_p1        = Bl0[indexp1];\n",
    "                const double B_lU1_p1        = Bl1[indexp1];\n",
    "                const double B_lflux_dirn_p1 = Blflux_dirn[indexp1];\n",
    "                // We will also need need the square root of the metric determinant here at this point:\n",
    "                const REAL gxx_p1 = gamma_faceDD00[indexp1];\n",
    "                const REAL gxy_p1 = gamma_faceDD01[indexp1];\n",
    "                const REAL gxz_p1 = gamma_faceDD02[indexp1];\n",
    "                const REAL gyy_p1 = gamma_faceDD11[indexp1];\n",
    "                const REAL gyz_p1 = gamma_faceDD12[indexp1];\n",
    "                const REAL gzz_p1 = gamma_faceDD22[indexp1];\n",
    "                const REAL sqrtgammaDET_p1 = sqrt( gxx_p1*gyy_p1*gzz_p1\n",
    "                                                -  gxx_p1*gyz_p1*gyz_p1\n",
    "                                                +2*gxy_p1*gxz_p1*gyz_p1\n",
    "                                                -  gyy_p1*gxz_p1*gxz_p1\n",
    "                                                -  gzz_p1*gxy_p1*gxy_p1 );\n",
    "\n",
    "                // *******************************\n",
    "\n",
    "                // DEBUGGING:\n",
    "//                 if(flux_dirn==0 && SIGN>0 && i1==Nxx_plus_2NGHOSTS1/2 && i2==Nxx_plus_2NGHOSTS2/2) {\n",
    "//                     printf(\"index=%d & indexp1=%d\\n\",index,indexp1);\n",
    "//                 }\n"
   ]
  },
  {
   "cell_type": "markdown",
   "metadata": {},
   "source": [
    "Here, we we calculate the flux and state vectors for the electric field. The flux vector is here given as \n",
    "$$\n",
    "[F^i(B^j)]_k = \\sqrt{\\gamma} (v^i B^j - v^j B^i),\n",
    "$$\n",
    "or\n",
    "$$\n",
    "[F^x(B^y)]_z = \\sqrt{\\gamma} (v^x B^y - v^y B^x)\n",
    "$$\n",
    "in our specific case.\n",
    "Here, $v^i$ is the drift velocity and $B^i$ is the magnetic field.\n",
    "\n",
    "The state vector is simply the magnetic field component specified by the notation $[F^i(B^j)]_k$ (that is, $j$). Here, then, the notation $[F^x(B^y)]_z$ dictates the use of $B^y$. The way we shuffle inputs to produce the other terms we will need conveniently guarantees that by using the $B^y$ component here, we always choose the correct component in other cases."
   ]
  },
  {
   "cell_type": "code",
   "execution_count": 7,
   "metadata": {},
   "outputs": [
    {
     "name": "stdout",
     "output_type": "stream",
     "text": [
      "Appending to GiRaFFE_standalone_Ccodes/RHSs/calculate_E_field_flat_all_in_one.h\n"
     ]
    }
   ],
   "source": [
    "%%writefile -a $Ccodesdir/calculate_E_field_flat_all_in_one.h\n",
    "\n",
    "                // Since we are computing A_z, the relevant equation here is:\n",
    "                // -E_z(x_i,y_j,z_k) = 0.25 ( [F_HLL^x(B^y)]_z(i+1/2,j,k)+[F_HLL^x(B^y)]_z(i-1/2,j,k)\n",
    "                //                           -[F_HLL^y(B^x)]_z(i,j+1/2,k)-[F_HLL^y(B^x)]_z(i,j-1/2,k) )\n",
    "                // We will construct the above sum one half at a time, first with SIGN=+1, which\n",
    "                // corresponds to flux_dirn = 0, count=1, and\n",
    "                //  takes care of the terms:\n",
    "                //  [F_HLL^x(B^y)]_z(i+1/2,j,k)+[F_HLL^x(B^y)]_z(i-1/2,j,k)\n",
    "\n",
    "                // ( Note that we will repeat the above with flux_dirn = 1, count = 0, with SIGN=-1\n",
    "                //   AND with the input components switched (x->y,y->x) so that we get the term\n",
    "                // -[F_HLL^y(B^x)]_z(i,j+1/2,k)-[F_HLL^y(B^x)]_z(i,j-1/2,k)\n",
    "                // thus completing the above sum. )\n",
    "\n",
    "                // Here, [F_HLL^i(B^j)]_k = (v^i B^j - v^j B^i) in general.\n",
    "\n",
    "                // Calculate the flux vector on each face for each component of the E-field:\n",
    "                // The F(B) terms are as Eq. 6 in Giacomazzo: https://arxiv.org/pdf/1009.2468.pdf\n",
    "                // [F^i(B^j)]_k = \\sqrt{\\gamma} (v^i B^j - v^j B^i)\n",
    "                // Therefore since we want [F_HLL^x(B^y)]_z,\n",
    "                // we will code     (v^x           B^y   - v^y           B^x) on both left and right faces.\n",
    "                const REAL F0B1_r = sqrtgammaDET*(v_rU0*B_rU1 - v_rU1*B_rU0);\n",
    "                const REAL F0B1_l = sqrtgammaDET*(v_lU0*B_lU1 - v_lU1*B_lU0);\n",
    "\n",
    "                // Compute the state vector for these terms:\n",
    "                const REAL U_r = B_rflux_dirn;\n",
    "                const REAL U_l = B_lflux_dirn;\n"
   ]
  },
  {
   "cell_type": "markdown",
   "metadata": {},
   "source": [
    "Finally, we call the HLLE solver we wrote earlier."
   ]
  },
  {
   "cell_type": "code",
   "execution_count": 8,
   "metadata": {},
   "outputs": [
    {
     "name": "stdout",
     "output_type": "stream",
     "text": [
      "Appending to GiRaFFE_standalone_Ccodes/RHSs/calculate_E_field_flat_all_in_one.h\n"
     ]
    }
   ],
   "source": [
    "%%writefile -a $Ccodesdir/calculate_E_field_flat_all_in_one.h\n",
    "\n",
    "                REAL cmin,cmax;\n",
    "                // Basic HLLE solver:\n",
    "                find_cmax_cmin(gxx,gxy,gxz,\n",
    "                               gyy,gyz,gzz,\n",
    "                               betaU0,alpha,flux_dirn,\n",
    "                               &cmax, &cmin);\n",
    "                const REAL FHLL_0B1 = HLLE_solve(F0B1_r, F0B1_l, U_r, U_l, cmin, cmax);\n"
   ]
  },
  {
   "cell_type": "markdown",
   "metadata": {},
   "source": [
    "Then, we set the flux and state vectors as before and pass them to the HLLE solver, but at the point `i+1`."
   ]
  },
  {
   "cell_type": "code",
   "execution_count": 9,
   "metadata": {},
   "outputs": [
    {
     "name": "stdout",
     "output_type": "stream",
     "text": [
      "Appending to GiRaFFE_standalone_Ccodes/RHSs/calculate_E_field_flat_all_in_one.h\n"
     ]
    }
   ],
   "source": [
    "%%writefile -a $Ccodesdir/calculate_E_field_flat_all_in_one.h\n",
    "\n",
    "                // ************************************\n",
    "                // ************************************\n",
    "                // REPEAT ABOVE, but at point i+1\n",
    "                // Calculate the flux vector on each face for each component of the E-field:\n",
    "                const REAL F0B1_r_p1 = sqrtgammaDET_p1*(v_rU0_p1*B_rU1_p1 - v_rU1_p1*B_rU0_p1);\n",
    "                const REAL F0B1_l_p1 = sqrtgammaDET_p1*(v_lU0_p1*B_lU1_p1 - v_lU1_p1*B_lU0_p1);\n",
    "\n",
    "                // Compute the state vector for this flux direction\n",
    "                const REAL U_r_p1 = B_rflux_dirn_p1;\n",
    "                const REAL U_l_p1 = B_lflux_dirn_p1;\n",
    "                //const REAL U_r_p1 = B_rU1_p1;\n",
    "                //const REAL U_l_p1 = B_lU1_p1;\n",
    "                // Basic HLLE solver, but at the next point:\n",
    "                find_cmax_cmin(gxx_p1,gxy_p1,gxz_p1,\n",
    "                               gyy_p1,gyz_p1,gzz_p1,\n",
    "                               betaU0_p1,alpha_p1,flux_dirn,\n",
    "                               &cmax, &cmin);\n",
    "                const REAL FHLL_0B1p1 = HLLE_solve(F0B1_r_p1, F0B1_l_p1, U_r_p1, U_l_p1, cmin, cmax);\n",
    "                // ************************************\n",
    "                // ************************************\n",
    "\n"
   ]
  },
  {
   "cell_type": "markdown",
   "metadata": {},
   "source": [
    "With the Riemann problem solved, we add the contributions to the RHSs. Here is where we multiply by the input `SIGN`; note that we also multiply by $1/4$, because the algorithm calls for an average of the four terms. That is, our final value for $-E_z$ will be the average of that calculated at the $\\pm x$ and $\\pm y$ faces of the cell.\n",
    "\n",
    "Finally, we close out our `for` loops."
   ]
  },
  {
   "cell_type": "code",
   "execution_count": 10,
   "metadata": {},
   "outputs": [
    {
     "name": "stdout",
     "output_type": "stream",
     "text": [
      "Appending to GiRaFFE_standalone_Ccodes/RHSs/calculate_E_field_flat_all_in_one.h\n"
     ]
    }
   ],
   "source": [
    "%%writefile -a $Ccodesdir/calculate_E_field_flat_all_in_one.h\n",
    "\n",
    "                // With the Riemann problem solved, we add the contributions to the RHSs:\n",
    "                // -E_z(x_i,y_j,z_k) &= 0.25 ( [F_HLL^x(B^y)]_z(i+1/2,j,k)+[F_HLL^x(B^y)]_z(i-1/2,j,k)\n",
    "                //                            -[F_HLL^y(B^x)]_z(i,j+1/2,k)-[F_HLL^y(B^x)]_z(i,j-1/2,k) )\n",
    "                // (Eq. 11 in https://arxiv.org/pdf/1009.2468.pdf)\n",
    "                // This code, as written, solves the first two terms for flux_dirn=0. Calling this function for count=0\n",
    "                // and flux_dirn=1 flips x for y to solve the latter two, switching to SIGN=-1 as well.\n",
    "\n",
    "                // Here, we finally add together the output of the HLLE solver at i-1/2 and i+1/2\n",
    "                // We also multiply by the SIGN dictated by the order of the input vectors and divide by 4.\n",
    "                A2_rhs[index] += SIGN*0.25*(FHLL_0B1 + FHLL_0B1p1);\n",
    "                // flux dirn = 0 ===================>   i-1/2       i+1/2\n",
    "                //               Eq 11 in Giacomazzo:\n",
    "                //               -FxBy(avg over i-1/2 and i+1/2) + FyBx(avg over j-1/2 and j+1/2)\n",
    "                //               Eq 6 in Giacomazzo:\n",
    "                //               FxBy = vxBy - vyBx\n",
    "                //             ->\n",
    "                //               FHLL_0B1 = vyBx - vxBy\n",
    "\n",
    "            } // END LOOP: for(int i0=NGHOSTS; i0<NGHOSTS+Nxx0; i0++)\n",
    "        } // END LOOP: for(int i1=NGHOSTS; i1<NGHOSTS+Nxx1; i1++)\n",
    "    } // END LOOP: for(int i2=NGHOSTS; i2<NGHOSTS+Nxx2; i2++)\n",
    "}\n"
   ]
  },
  {
   "cell_type": "markdown",
   "metadata": {},
   "source": [
    "<a id='code_validation'></a>\n",
    "\n",
    "# Step 3: Code Validation \\[Back to [top](#toc)\\]\n",
    "$$\\label{code_validation}$$\n",
    "\n",
    "To validate the code in this tutorial we check for agreement between the files\n",
    "\n",
    "1. that were written in this tutorial and\n",
    "1. those that are generated by the python module\n"
   ]
  },
  {
   "cell_type": "code",
   "execution_count": 11,
   "metadata": {},
   "outputs": [
    {
     "name": "stdout",
     "output_type": "stream",
     "text": [
      "Printing difference between original C code and this code...\n",
      "Checking file calculate_E_field_flat_all_in_one.h\n",
      "No difference. TEST PASSED!\n"
     ]
    }
   ],
   "source": [
    "# Define the directory that we wish to validate against:\n",
    "valdir = \"GiRaFFE_NRPy/GiRaFFE_Ccode_library/RHSs/\"\n",
    "\n",
    "import GiRaFFE_NRPy.GiRaFFE_NRPy_Afield_flux_handwritten as Af\n",
    "Af.GiRaFFE_NRPy_Afield_flux(valdir)\n",
    "\n",
    "import difflib\n",
    "import sys\n",
    "\n",
    "print(\"Printing difference between original C code and this code...\")\n",
    "# Open the files to compare\n",
    "files = [\"calculate_E_field_flat_all_in_one.h\"]\n",
    "\n",
    "for file in files:\n",
    "    print(\"Checking file \" + file)\n",
    "    with open(os.path.join(valdir,file)) as file1, open(os.path.join(Ccodesdir,file)) as file2:\n",
    "        # Read the lines of each file\n",
    "        file1_lines = file1.readlines()\n",
    "        file2_lines = file2.readlines()\n",
    "        num_diffs = 0\n",
    "        for line in difflib.unified_diff(file1_lines, file2_lines, fromfile=os.path.join(valdir+file), tofile=os.path.join(Ccodesdir+file)):\n",
    "            sys.stdout.writelines(line)\n",
    "            num_diffs = num_diffs + 1\n",
    "        if num_diffs == 0:\n",
    "            print(\"No difference. TEST PASSED!\")\n",
    "        else:\n",
    "            print(\"ERROR: Disagreement found with .py file. See differences above.\")\n",
    "            sys.exit(1)"
   ]
  },
  {
   "cell_type": "markdown",
   "metadata": {},
   "source": [
    "<a id='latex_pdf_output'></a>\n",
    "\n",
    "# Step 4: Output this notebook to $\\LaTeX$-formatted PDF file \\[Back to [top](#toc)\\]\n",
    "$$\\label{latex_pdf_output}$$\n",
    "\n",
    "The following code cell converts this Jupyter notebook into a proper, clickable $\\LaTeX$-formatted PDF file. After the cell is successfully run, the generated PDF may be found in the root NRPy+ tutorial directory, with filename\n",
    "[Tutorial-GiRaFFE_NRPy-Afield_flux.pdf](Tutorial-GiRaFFE_NRPy-Afield_flux.pdf) (Note that clicking on this link may not work; you may need to open the PDF file through another means.)"
   ]
  },
  {
   "cell_type": "code",
   "execution_count": 12,
   "metadata": {},
   "outputs": [
    {
     "name": "stdout",
     "output_type": "stream",
     "text": [
      "pdflatex: security risk: running with elevated privileges\n",
      "pdflatex: security risk: running with elevated privileges\n",
      "pdflatex: security risk: running with elevated privileges\n",
      "Created Tutorial-GiRaFFE_NRPy-Afield_flux.tex, and compiled LaTeX file to\n",
      "    PDF file Tutorial-GiRaFFE_NRPy-Afield_flux.pdf\n"
     ]
    }
   ],
   "source": [
    "import cmdline_helper as cmd    # NRPy+: Multi-platform Python command-line interface\n",
    "cmd.output_Jupyter_notebook_to_LaTeXed_PDF(\"Tutorial-GiRaFFE_NRPy-Afield_flux\",location_of_template_file=os.path.join(\"..\"))"
   ]
  }
 ],
 "metadata": {
  "kernelspec": {
   "display_name": "Python 3",
   "language": "python",
   "name": "python3"
  },
  "language_info": {
   "codemirror_mode": {
    "name": "ipython",
    "version": 3
   },
   "file_extension": ".py",
   "mimetype": "text/x-python",
   "name": "python",
   "nbconvert_exporter": "python",
   "pygments_lexer": "ipython3",
   "version": "3.8.5"
  }
 },
 "nbformat": 4,
 "nbformat_minor": 2
}
