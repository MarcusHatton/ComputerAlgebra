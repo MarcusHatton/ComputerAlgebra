{
 "cells": [
  {
   "cell_type": "markdown",
   "metadata": {},
   "source": [
    "<script async src=\"https://www.googletagmanager.com/gtag/js?id=UA-59152712-8\"></script>\n",
    "<script>\n",
    "  window.dataLayer = window.dataLayer || [];\n",
    "  function gtag(){dataLayer.push(arguments);}\n",
    "  gtag('js', new Date());\n",
    "\n",
    "  gtag('config', 'UA-59152712-8');\n",
    "</script>\n",
    "\n",
    "# Start-to-Finish Example: Unit Testing `GiRaFFE_NRPy`: Piecewise-Parabolic Method\n",
    "\n",
    "## Author: Patrick Nelson\n",
    "\n",
    "#### Edits by Terrence Pierre Jacques\n",
    "\n",
    "## This module Validates the PPM routine for `GiRaFFE`.\n",
    "\n",
    "**Notebook Status:** <font color='green'><b>Validated</b></font>\n",
    "\n",
    "**Validation Notes:** This module validates the routines in [Tutorial-GiRaFFE_NRPy-PPM](Tutorial-GiRaFFE_NRPy-PPM.ipynb).\n",
    "\n",
    "### NRPy+ Source Code for this module: \n",
    "* [GiRaFFE_NRPy/GiRaFFE_NRPy_PPM.py](../../edit/in_progress/GiRaFFE_NRPy/GiRaFFE_NRPy_PPM.py) [\\[**tutorial**\\]](Tutorial-GiRaFFE_NRPy-PPM.ipynb) Reconstruct primitive variables at cell interfaces\n",
    "\n",
    "## Introduction:\n",
    "\n",
    "This notebook validates the PPM routine for use in `GiRaFFE_NRPy`. This code was adapted from the corresonding algorithm used in the original `GiRaFFE` to work with the NRPy+ infrastructure. So, we will test it against that code by considering an analytic form of the three-velocity and magnetic fields over a small grid. We will also repeat the test with an added sharp feature, which is an important test for this algorithm since it is specifically designed to handle them. \n",
    "\n",
    "When this notebook is run, the significant digits of agreement between the old `GiRaFFE` and new `GiRaFFE_NRPy` versions of the algorithm will be printed to the screen right after the code is run [here](#compile_run).\n"
   ]
  },
  {
   "cell_type": "markdown",
   "metadata": {},
   "source": [
    "<a id='toc'></a>\n",
    "\n",
    "# Table of Contents\n",
    "$$\\label{toc}$$\n",
    "\n",
    "This notebook is organized as follows:\n",
    "1. [Step 1](#setup): Set up core functions and parameters for unit testing the PPM algorithm\n",
    "    1. [Step 1.a](#velocity) Valencia three-velocity\n",
    "    1. [Step 1.b](#magnetic) Magnetic field\n",
    "    1. [Step 1.c](#functions) Generate C functions to write the test data\n",
    "    1. [Step 1.d](#free_parameters) Set free parameters in the code\n",
    "    1. [Step 1.e](#download) Download `GiRaFFE` files from Bitbucket\n",
    "    1. [Step 1.f](#module) Generate `GiRaFFE_NRPy` Files\n",
    "1. [Step 2](#mainc): `PPM_unit_test.C`: The Main C Code\n",
    "    1. [Step 2.a](#compile_run): Compile and run the code\n",
    "1. [Step 3](#latex_pdf_output): Output this notebook to $\\LaTeX$-formatted PDF file"
   ]
  },
  {
   "cell_type": "markdown",
   "metadata": {},
   "source": [
    "<a id='setup'></a>\n",
    "\n",
    "# Step 1: Set up core functions and parameters for unit testing the PPM algorithm \\[Back to [top](#toc)\\]\n",
    "\n",
    "$$\\label{setup}$$\n",
    "\n",
    "We'll start by appending the relevant paths to `sys.path` so that we can access sympy modules in other places. Then, we'll import NRPy+ core functionality and set up a directory in which to carry out our test. We must also set the desired finite differencing order."
   ]
  },
  {
   "cell_type": "code",
   "execution_count": 1,
   "metadata": {
    "execution": {
     "iopub.execute_input": "2020-12-17T02:17:25.485508Z",
     "iopub.status.busy": "2020-12-17T02:17:25.484884Z",
     "iopub.status.idle": "2020-12-17T02:17:25.667960Z",
     "shell.execute_reply": "2020-12-17T02:17:25.667361Z"
    }
   },
   "outputs": [],
   "source": [
    "import shutil, os, sys           # Standard Python modules for multiplatform OS-level functions\n",
    "# First, we'll add the parent directory to the list of directories Python will check for modules.\n",
    "nrpy_dir_path = os.path.join(\"..\")\n",
    "if nrpy_dir_path not in sys.path:\n",
    "    sys.path.append(nrpy_dir_path)\n",
    "nrpy_dir_path = os.path.join(\"..\",\"..\")\n",
    "if nrpy_dir_path not in sys.path:\n",
    "    sys.path.append(nrpy_dir_path)\n",
    "\n",
    "from outputC import outCfunction, lhrh, nrpyAbs # NRPy+: Core C code output module\n",
    "import sympy as sp               # SymPy: The Python computer algebra package upon which NRPy+ depends\n",
    "import finite_difference as fin  # NRPy+: Finite difference C code generation module\n",
    "import NRPy_param_funcs as par   # NRPy+: Parameter interface\n",
    "import grid as gri               # NRPy+: Functions having to do with numerical grids\n",
    "import indexedexp as ixp         # NRPy+: Symbolic indexed expression (e.g., tensors, vectors, etc.) support\n",
    "import reference_metric as rfm   # NRPy+: Reference metric support\n",
    "import cmdline_helper as cmd     # NRPy+: Multi-platform Python command-line interface\n",
    "\n",
    "Ccodesdir = \"Start-to-Finish-UnitTests/PPM_UnitTest/\"\n",
    "\n",
    "# First remove C code output directory if it exists\n",
    "# Courtesy https://stackoverflow.com/questions/303200/how-do-i-remove-delete-a-folder-that-is-not-empty\n",
    "shutil.rmtree(Ccodesdir, ignore_errors=True)\n",
    "# Then create a fresh directory\n",
    "cmd.mkdir(Ccodesdir)\n",
    "\n",
    "outdir = os.path.join(Ccodesdir,\"output/\")\n",
    "cmd.mkdir(outdir)\n",
    "\n",
    "thismodule = \"Start_to_Finish_UnitTest-GiRaFFE_NRPy-PPM\"\n",
    "\n",
    "Use_Shock_Data = True"
   ]
  },
  {
   "cell_type": "markdown",
   "metadata": {},
   "source": [
    "<a id='velocity'></a>\n",
    "\n",
    "## Step 1.a: Valencia three-velocity \\[Back to [top](#toc)\\]\n",
    "$$\\label{velocity}$$\n",
    "\n",
    "Here, we'll generate some functions for the velocity. Let's choose arctangents, since those have asymptotes that can be easily manipulated to prevent accidentally setting superluminal speeds. \n",
    "\\begin{align}\n",
    "\\bar{v}^x &= \\frac{2}{\\pi} \\arctan(ax + by + cz) \\\\\n",
    "\\bar{v}^y &= \\frac{2}{\\pi} \\arctan(bx + cy + az) \\\\\n",
    "\\bar{v}^z &= \\frac{2}{\\pi} \\arctan(cx + ay + bz) \\\\\n",
    "\\end{align}\n",
    "If we want to add a jump at the origin, we can simply add $\\max(0,x)$ to the argument of the arctangent. This will add a shock in the $x$-direction. The maximum will be described without the use of if statements as \n",
    "$$\n",
    "\\max(a,b) = \\tfrac{1}{2} \\left( a+b + \\lvert a-b \\rvert \\right). \n",
    "$$"
   ]
  },
  {
   "cell_type": "code",
   "execution_count": 2,
   "metadata": {
    "execution": {
     "iopub.execute_input": "2020-12-17T02:17:25.675174Z",
     "iopub.status.busy": "2020-12-17T02:17:25.674537Z",
     "iopub.status.idle": "2020-12-17T02:17:25.720625Z",
     "shell.execute_reply": "2020-12-17T02:17:25.720237Z"
    }
   },
   "outputs": [],
   "source": [
    "def max_noif(a,b):\n",
    "    return sp.Rational(1,2)*(a+b+nrpyAbs(a-b))\n",
    "\n",
    "a,b,c = par.Cparameters(\"REAL\",thismodule,[\"a\",\"b\",\"c\"],1e300) # Note that this default value allows us to set\n",
    "                                                               # these directly in the C code\n",
    "M_PI  = par.Cparameters(\"#define\",thismodule,[\"M_PI\"], \"\")\n",
    "\n",
    "par.set_parval_from_str(\"reference_metric::CoordSystem\",\"Cartesian\")\n",
    "rfm.reference_metric()\n",
    "x = rfm.xx_to_Cart[0]\n",
    "y = rfm.xx_to_Cart[1]\n",
    "z = rfm.xx_to_Cart[2]\n",
    "\n",
    "args = ixp.zerorank1()\n",
    "args[0] = a*x + b*y + c*z\n",
    "args[1] = b*x + c*y + a*z\n",
    "args[2] = c*x + a*y + b*z\n",
    "if Use_Shock_Data:\n",
    "    for i in range(3):\n",
    "        args[i] += max_noif(0,5*x)\n",
    "\n",
    "ValenciavU = ixp.register_gridfunctions_for_single_rank1(\"AUXEVOL\",\"ValenciavU\")\n",
    "for i in range(3):\n",
    "    ValenciavU[i] = (sp.sympify(2)/M_PI)*sp.atan(args[i])"
   ]
  },
  {
   "cell_type": "markdown",
   "metadata": {},
   "source": [
    "<a id='magnetic'></a>\n",
    "\n",
    "## Step 1.b: Magnetic field \\[Back to [top](#toc)\\]\n",
    "$$\\label{magnetic}$$\n",
    "\n",
    "We'll also need some functions for the magnetic field. Exponentials sound fun.\n",
    "\\begin{align}\n",
    "B^x &= \\exp(ey+fz) \\\\\n",
    "B^y &= \\exp(fz+dx) \\\\\n",
    "B^z &= \\exp(dx+ey) \\\\\n",
    "\\end{align}\n",
    "In this case, we'll add $\\max{(0,x)}$ to the field to add the jump."
   ]
  },
  {
   "cell_type": "code",
   "execution_count": 3,
   "metadata": {
    "execution": {
     "iopub.execute_input": "2020-12-17T02:17:25.725989Z",
     "iopub.status.busy": "2020-12-17T02:17:25.725540Z",
     "iopub.status.idle": "2020-12-17T02:17:25.730337Z",
     "shell.execute_reply": "2020-12-17T02:17:25.729882Z"
    }
   },
   "outputs": [],
   "source": [
    "d,e,f = par.Cparameters(\"REAL\",thismodule,[\"d\",\"e\",\"f\"],1e300) # Note that this default value allows us to set\n",
    "                                                               # these directly in the C code\n",
    "BU = ixp.register_gridfunctions_for_single_rank1(\"AUXEVOL\",\"BU\")\n",
    "BU[0] = sp.exp(e*y+f*z)\n",
    "BU[1] = sp.exp(f*z+d*x)\n",
    "BU[2] = sp.exp(d*x+e*y)\n",
    "if Use_Shock_Data:\n",
    "    for i in range(3):\n",
    "        BU[i] += max_noif(0,5*x)"
   ]
  },
  {
   "cell_type": "markdown",
   "metadata": {},
   "source": [
    "<a id='functions'></a>\n",
    "\n",
    "## Step 1.c: Generate C functions to write the test data \\[Back to [top](#toc)\\]\n",
    "$$\\label{functions}$$\n"
   ]
  },
  {
   "cell_type": "code",
   "execution_count": 4,
   "metadata": {
    "execution": {
     "iopub.execute_input": "2020-12-17T02:17:25.748421Z",
     "iopub.status.busy": "2020-12-17T02:17:25.747182Z",
     "iopub.status.idle": "2020-12-17T02:17:25.779987Z",
     "shell.execute_reply": "2020-12-17T02:17:25.780475Z"
    }
   },
   "outputs": [
    {
     "name": "stdout",
     "output_type": "stream",
     "text": [
      "Output C function calculate_BU() to file Start-to-Finish-UnitTests/PPM_UnitTest/calculate_BU.h\n",
      "Output C function calculate_ValenciavU() to file Start-to-Finish-UnitTests/PPM_UnitTest/calculate_ValenciavU.h\n"
     ]
    }
   ],
   "source": [
    "BU_to_print = [\\\n",
    "                lhrh(lhs=gri.gfaccess(\"out_gfs\",\"BU0\"),rhs=BU[0]),\\\n",
    "                lhrh(lhs=gri.gfaccess(\"out_gfs\",\"BU1\"),rhs=BU[1]),\\\n",
    "                lhrh(lhs=gri.gfaccess(\"out_gfs\",\"BU2\"),rhs=BU[2]),\\\n",
    "               ]\n",
    "\n",
    "desc = \"Calculate sample magnetic field data\"\n",
    "name = \"calculate_BU\"\n",
    "outCfunction(\n",
    "    outfile  = os.path.join(Ccodesdir,name+\".h\"), desc=desc, name=name,\n",
    "    params   =\"const paramstruct *params,REAL *xx[3],REAL *auxevol_gfs\",\n",
    "    body     = fin.FD_outputC(\"returnstring\",BU_to_print,params=\"outCverbose=False\").replace(\"IDX4\",\"IDX4S\"),\n",
    "    loopopts=\"AllPoints,Read_xxs\")\n",
    "\n",
    "ValenciavU_to_print = [\\\n",
    "                       lhrh(lhs=gri.gfaccess(\"out_gfs\",\"ValenciavU0\"),rhs=ValenciavU[0]),\\\n",
    "                       lhrh(lhs=gri.gfaccess(\"out_gfs\",\"ValenciavU1\"),rhs=ValenciavU[1]),\\\n",
    "                       lhrh(lhs=gri.gfaccess(\"out_gfs\",\"ValenciavU2\"),rhs=ValenciavU[2]),\\\n",
    "                      ]\n",
    "\n",
    "desc = \"Calculate sample velocity data\"\n",
    "name = \"calculate_ValenciavU\"\n",
    "outCfunction(\n",
    "    outfile  = os.path.join(Ccodesdir,name+\".h\"), desc=desc, name=name,\n",
    "    params   =\"const paramstruct *params,REAL *xx[3],REAL *auxevol_gfs\",\n",
    "    body     = fin.FD_outputC(\"returnstring\",ValenciavU_to_print,params=\"outCverbose=False\").replace(\"IDX4\",\"IDX4S\"),\n",
    "    loopopts=\"AllPoints,Read_xxs\")\n"
   ]
  },
  {
   "cell_type": "markdown",
   "metadata": {},
   "source": [
    "<a id='free_parameters'></a>\n",
    "\n",
    "## Step 1.d: Set free parameters in the code \\[Back to [top](#toc)\\]\n",
    "$$\\label{free_parameters}$$\n",
    "\n",
    "We also need to create the files that interact with NRPy's C parameter interface. "
   ]
  },
  {
   "cell_type": "code",
   "execution_count": 5,
   "metadata": {
    "execution": {
     "iopub.execute_input": "2020-12-17T02:17:25.783855Z",
     "iopub.status.busy": "2020-12-17T02:17:25.783265Z",
     "iopub.status.idle": "2020-12-17T02:17:25.785811Z",
     "shell.execute_reply": "2020-12-17T02:17:25.785268Z"
    }
   },
   "outputs": [],
   "source": [
    "# Step 3.d.i: Generate declare_Cparameters_struct.h, set_Cparameters_default.h, and set_Cparameters[-SIMD].h\n",
    "\n",
    "# Step 3.d.ii: Set free_parameters.h\n",
    "with open(os.path.join(Ccodesdir,\"free_parameters.h\"),\"w\") as file:\n",
    "    file.write(\"\"\"\n",
    "// Override parameter defaults with values based on command line arguments and NGHOSTS.\n",
    "// We'll use this grid. It has one point and one ghost zone.\n",
    "const int NGHOSTS = 3;\n",
    "params.Nxx0 = 1;\n",
    "params.Nxx1 = 1;\n",
    "params.Nxx2 = 1;\n",
    "params.Nxx_plus_2NGHOSTS0 = params.Nxx0 + 2*NGHOSTS;\n",
    "params.Nxx_plus_2NGHOSTS1 = params.Nxx1 + 2*NGHOSTS;\n",
    "params.Nxx_plus_2NGHOSTS2 = params.Nxx2 + 2*NGHOSTS;\n",
    "// Step 0d: Set up space and time coordinates\n",
    "// Step 0d.i: Declare \\Delta x^i=dxx{0,1,2} and invdxx{0,1,2}, as well as xxmin[3] and xxmax[3]:\n",
    "const REAL xxmin[3] = {-1.0,-1.0,-1.0};\n",
    "const REAL xxmax[3] = { 1.0, 1.0, 1.0};\n",
    "\n",
    "params.dxx0 = (xxmax[0] - xxmin[0]) / ((REAL)params.Nxx_plus_2NGHOSTS0-1.0);\n",
    "params.dxx1 = (xxmax[1] - xxmin[1]) / ((REAL)params.Nxx_plus_2NGHOSTS1-1.0);\n",
    "params.dxx2 = (xxmax[2] - xxmin[2]) / ((REAL)params.Nxx_plus_2NGHOSTS2-1.0);\n",
    "//printf(\"dxx0,dxx1,dxx2 = %.5e,%.5e,%.5e\\\\n\",params.dxx0,params.dxx1,params.dxx2);\n",
    "params.invdx0 = 1.0 / params.dxx0;\n",
    "params.invdx1 = 1.0 / params.dxx1;\n",
    "params.invdx2 = 1.0 / params.dxx2;\n",
    "\\n\"\"\")\n",
    "\n",
    "# Generates declare_Cparameters_struct.h, set_Cparameters_default.h, and set_Cparameters[-SIMD].h\n",
    "par.generate_Cparameters_Ccodes(os.path.join(Ccodesdir))"
   ]
  },
  {
   "cell_type": "markdown",
   "metadata": {},
   "source": [
    "<a id='download'></a>\n",
    "\n",
    "## Step 1.e: Download `GiRaFFE` files from Bitbucket \\[Back to [top](#toc)\\]\n",
    "$$\\label{download}$$\n",
    "\n",
    "Here, we download the relevant portion of the original `GiRaFFE` code from Bitbucket, which is all contained in the files `loop_defines_reconstruction.h` and `reconstruct_set_of_prims_PPM_GRFFE.C`. Normally, these files depend on things declared in GiRaFFE_headers.h, but we've already defined what we need from that file as part of getting our new version working. Some of the numbers like VX=0, etc.,are slightly different, only because we are testing the limited subset of the original's functionality that we need for the new version. "
   ]
  },
  {
   "cell_type": "code",
   "execution_count": 6,
   "metadata": {
    "execution": {
     "iopub.execute_input": "2020-12-17T02:17:25.791068Z",
     "iopub.status.busy": "2020-12-17T02:17:25.790815Z",
     "iopub.status.idle": "2020-12-17T02:17:26.119316Z",
     "shell.execute_reply": "2020-12-17T02:17:26.119750Z"
    }
   },
   "outputs": [],
   "source": [
    "# First download the original IllinoisGRMHD source code\n",
    "import urllib\n",
    "original_file_url  = [\"https://bitbucket.org/zach_etienne/wvuthorns/raw/231af720ccf3f1af50f7cce4a86b410fc8ea2e51/GiRaFFE/src/loop_defines_reconstruction.h\",\\\n",
    "                      \"https://bitbucket.org/zach_etienne/wvuthorns/raw/231af720ccf3f1af50f7cce4a86b410fc8ea2e51/GiRaFFE/src/reconstruct_set_of_prims_PPM_GRFFE.C\",\\\n",
    "                     ]\n",
    "original_file_name = [\"loop_defines_reconstruction.h\",\\\n",
    "                      \"reconstruct_set_of_prims_PPM_GRFFE.C\",\\\n",
    "                     ]\n",
    "\n",
    "for i in range(len(original_file_url)):\n",
    "    original_file_path = os.path.join(Ccodesdir,original_file_name[i])\n",
    "\n",
    "    # Then download the original IllinoisGRMHD source code\n",
    "    # We try it here in a couple of ways in an attempt to keep\n",
    "    # the code more portable\n",
    "    try:\n",
    "        original_file_code = urllib.request.urlopen(original_file_url[i]).read().decode('utf-8')\n",
    "    except:\n",
    "        original_file_code = urllib.urlopen(original_file_url[i]).read().decode('utf-8')\n",
    "\n",
    "    # Write down the file the original IllinoisGRMHD source code\n",
    "    with open(original_file_path,\"w\") as file:\n",
    "        file.write(original_file_code)\n"
   ]
  },
  {
   "cell_type": "markdown",
   "metadata": {},
   "source": [
    "<a id='module'></a>\n",
    "\n",
    "## Step 1.f: Generate `GiRaFFE_NRPy` Files \\[Back to [top](#toc)\\]\n",
    "$$\\label{module}$$\n",
    "\n",
    "Here, we generate the functions we want to test by calling the function found [here](../../edit/in_progress/GiRaFFE_NRPy/GiRaFFE_NRPy_PPM.py) and documented in [this tutorial](Tutorial-Start_to_Finish-GiRaFFE_NRPy-PPM.ipynb)."
   ]
  },
  {
   "cell_type": "code",
   "execution_count": 7,
   "metadata": {
    "execution": {
     "iopub.execute_input": "2020-12-17T02:17:26.123557Z",
     "iopub.status.busy": "2020-12-17T02:17:26.123020Z",
     "iopub.status.idle": "2020-12-17T02:17:26.125672Z",
     "shell.execute_reply": "2020-12-17T02:17:26.126091Z"
    }
   },
   "outputs": [],
   "source": [
    "import GiRaFFE_NRPy.GiRaFFE_NRPy_PPM as PPM\n",
    "PPM.GiRaFFE_NRPy_PPM(os.path.join(Ccodesdir,\"PPM\"))"
   ]
  },
  {
   "cell_type": "markdown",
   "metadata": {},
   "source": [
    "<a id='mainc'></a>\n",
    "\n",
    "# Step 2: `PPM_unit_test.C`: The Main C Code \\[Back to [top](#toc)\\]\n",
    "$$\\label{mainc}$$\n",
    "\n",
    "Now that we have our three-velocity and magnetic field to set up data, we will start writing our unit test. We'll also import common C functionality, define `REAL`, the number of ghost zones, and the faces, and set the standard macros for NRPy+ style memory access. We then compare the output between NRPy+ and ETK using the function `reconstruct_set_of_prims_PPM_GRFFE_NRPy()` and `reconstruct_set_of_prims_PPM_GRFFE()`."
   ]
  },
  {
   "cell_type": "code",
   "execution_count": 8,
   "metadata": {
    "execution": {
     "iopub.execute_input": "2020-12-17T02:17:26.131567Z",
     "iopub.status.busy": "2020-12-17T02:17:26.130705Z",
     "iopub.status.idle": "2020-12-17T02:17:26.133508Z",
     "shell.execute_reply": "2020-12-17T02:17:26.133835Z"
    }
   },
   "outputs": [
    {
     "name": "stdout",
     "output_type": "stream",
     "text": [
      "Writing Start-to-Finish-UnitTests/PPM_UnitTest//PPM_unit_test.C\n"
     ]
    }
   ],
   "source": [
    "%%writefile $Ccodesdir/PPM_unit_test.C\n",
    "// These are common packages that we are likely to need.\n",
    "#include \"stdio.h\"\n",
    "#include \"stdlib.h\"\n",
    "#include \"math.h\"\n",
    "#include \"string.h\" // Needed for strncmp, etc.\n",
    "#include \"stdint.h\" // Needed for Windows GCC 6.x compatibility\n",
    "#include <time.h>   // Needed to set a random seed.\n",
    "\n",
    "#define REAL double\n",
    "#include \"declare_Cparameters_struct.h\"\n",
    "\n",
    "REAL a,b,c,d,e,f;\n",
    "\n",
    "// Standard NRPy+ memory access:\n",
    "#define IDX3S(i,j,k) ( (i) + Nxx_plus_2NGHOSTS0 * ( (j) + Nxx_plus_2NGHOSTS1 * (k) ) )\n",
    "#define IDX4S(g,i,j,k) \\\n",
    "( (i) + Nxx_plus_2NGHOSTS0 * ( (j) + Nxx_plus_2NGHOSTS1 * ( (k) + Nxx_plus_2NGHOSTS2 * (g) ) ) )\n",
    "\n",
    "#define VALENCIAVU0GF 0\n",
    "#define VALENCIAVU1GF 1\n",
    "#define VALENCIAVU2GF 2\n",
    "#define BU0GF 3\n",
    "#define BU1GF 4\n",
    "#define BU2GF 5\n",
    "#define VALENCIAV_RU0GF 6\n",
    "#define VALENCIAV_RU1GF 7\n",
    "#define VALENCIAV_RU2GF 8\n",
    "#define B_RU0GF 9\n",
    "#define B_RU1GF 10\n",
    "#define B_RU2GF 11\n",
    "#define VALENCIAV_LU0GF 12\n",
    "#define VALENCIAV_LU1GF 13\n",
    "#define VALENCIAV_LU2GF 14\n",
    "#define B_LU0GF 15\n",
    "#define B_LU1GF 16\n",
    "#define B_LU2GF 17\n",
    "#define NUM_AUXEVOL_GFS 18\n",
    "\n",
    "// Some specific definitions needed for this file\n",
    "typedef struct __gf_and_gz_struct__ {\n",
    "  REAL *gf;\n",
    "  int gz_lo[4],gz_hi[4];\n",
    "} gf_and_gz_struct;\n",
    "\n",
    "const int VX=0,VY=1,VZ=2,BX=3,BY=4,BZ=5;\n",
    "const int NUM_RECONSTRUCT_GFS = 6;\n",
    "const int MAXNUMVARS = NUM_RECONSTRUCT_GFS; // For the CCTK version\n",
    "\n",
    "#include \"PPM/reconstruct_set_of_prims_PPM_GRFFE_NRPy.c\"\n",
    "#include \"PPM/loop_defines_reconstruction_NRPy.h\"\n",
    "\n",
    "#include \"calculate_BU.h\"\n",
    "#include \"calculate_ValenciavU.h\"\n",
    "\n",
    "// Some needed workarounds to get the ETK version of the code to work\n",
    "#define CCTK_REAL double\n",
    "#define DECLARE_CCTK_PARAMETERS //'\n",
    "#define CCTK_GFINDEX3D(thing,i,j,k) ( (i) + cctk_lsh[0] * ( (j) + cctk_lsh[1] * (k) ) )\n",
    "#define VERR_DEF_PARAMS 0\n",
    "#define CCTK_VError(dummy,string,a,b,c,d,e,f,g,h) printf(string,a,b,c,d,e,f,g,h)\n",
    "\n",
    "struct cGH{};\n",
    "const cGH *cctkGH;\n",
    "\n",
    "#include \"reconstruct_set_of_prims_PPM_GRFFE.C\"\n",
    "#include \"loop_defines_reconstruction.h\"\n",
    "\n",
    "void compare_ppm_calc(int flux_dirn){\n",
    "      paramstruct params;\n",
    "      #include \"set_Cparameters_default.h\"\n",
    "\n",
    "          // Step 0c: Set free parameters, overwriting Cparameters defaults\n",
    "          //          by hand or with command-line input, as desired.\n",
    "      #include \"free_parameters.h\"\n",
    "      #include \"set_Cparameters-nopointer.h\"\n",
    "\n",
    "    const int cctk_lsh[3] = {Nxx_plus_2NGHOSTS0,Nxx_plus_2NGHOSTS1,Nxx_plus_2NGHOSTS2};\n",
    "\n",
    "    // We'll define our grid slightly different from how we normally would. We let our outermost\n",
    "    // ghostzones coincide with xxmin and xxmax instead of the interior of the grid. This means\n",
    "    // that the ghostzone points will have identical positions so we can do convergence tests of them.    // Step 0d.ii: Set up uniform coordinate grids\n",
    "    REAL *xx[3];\n",
    "    xx[0] = (REAL *)malloc(sizeof(REAL)*Nxx_plus_2NGHOSTS0);\n",
    "    xx[1] = (REAL *)malloc(sizeof(REAL)*Nxx_plus_2NGHOSTS1);\n",
    "    xx[2] = (REAL *)malloc(sizeof(REAL)*Nxx_plus_2NGHOSTS2);\n",
    "    for(int j=0;j<Nxx_plus_2NGHOSTS0;j++) xx[0][j] = xxmin[0] + ((REAL)(j))*dxx0;\n",
    "    for(int j=0;j<Nxx_plus_2NGHOSTS1;j++) xx[1][j] = xxmin[1] + ((REAL)(j))*dxx1;\n",
    "    for(int j=0;j<Nxx_plus_2NGHOSTS2;j++) xx[2][j] = xxmin[2] + ((REAL)(j))*dxx2;\n",
    "\n",
    "    //for(int i=0;i<Nxx_plus_2NGHOSTS0;i++) printf(\"xx[0][%d] = %.15e\\n\",i,xx[0][i]);\n",
    "\n",
    "    // This is the array to which we'll write the NRPy+ variables.\n",
    "    REAL *auxevol_gfs  = (REAL *)malloc(sizeof(REAL) * NUM_AUXEVOL_GFS * Nxx_plus_2NGHOSTS2 * Nxx_plus_2NGHOSTS1 * Nxx_plus_2NGHOSTS0);\n",
    "\n",
    "    a = (double)(rand()%10-5);\n",
    "    b = (double)(rand()%10-5);\n",
    "    c = (double)(rand()%10-5);\n",
    "    d = (double)(rand()%10-5);\n",
    "    e = (double)(rand()%10-5);\n",
    "    f = (double)(rand()%10-5);\n",
    "\n",
    "    calculate_BU(&params,xx,auxevol_gfs);\n",
    "    calculate_ValenciavU(&params,xx,auxevol_gfs);\n",
    "\n",
    "    gf_and_gz_struct in_prims[NUM_RECONSTRUCT_GFS], out_prims_r[NUM_RECONSTRUCT_GFS], out_prims_l[NUM_RECONSTRUCT_GFS];\n",
    "\n",
    "    const int Nxxp2NG012 = Nxx_plus_2NGHOSTS0*Nxx_plus_2NGHOSTS1*Nxx_plus_2NGHOSTS2;\n",
    "    REAL temporary[Nxxp2NG012];\n",
    "\n",
    "    int ww=0;\n",
    "    in_prims[ww].gf      = auxevol_gfs + Nxxp2NG012*VALENCIAVU0GF;\n",
    "      out_prims_r[ww].gf = auxevol_gfs + Nxxp2NG012*VALENCIAV_RU0GF;\n",
    "      out_prims_l[ww].gf = auxevol_gfs + Nxxp2NG012*VALENCIAV_LU0GF;\n",
    "    ww++;\n",
    "    in_prims[ww].gf      = auxevol_gfs + Nxxp2NG012*VALENCIAVU1GF;\n",
    "      out_prims_r[ww].gf = auxevol_gfs + Nxxp2NG012*VALENCIAV_RU1GF;\n",
    "      out_prims_l[ww].gf = auxevol_gfs + Nxxp2NG012*VALENCIAV_LU1GF;\n",
    "    ww++;\n",
    "    in_prims[ww].gf      = auxevol_gfs + Nxxp2NG012*VALENCIAVU2GF;\n",
    "      out_prims_r[ww].gf = auxevol_gfs + Nxxp2NG012*VALENCIAV_RU2GF;\n",
    "      out_prims_l[ww].gf = auxevol_gfs + Nxxp2NG012*VALENCIAV_LU2GF;\n",
    "    ww++;\n",
    "    in_prims[ww].gf      = auxevol_gfs + Nxxp2NG012*BU0GF;\n",
    "      out_prims_r[ww].gf = auxevol_gfs + Nxxp2NG012*B_RU0GF;\n",
    "      out_prims_l[ww].gf = auxevol_gfs + Nxxp2NG012*B_LU0GF;\n",
    "    ww++;\n",
    "    in_prims[ww].gf      = auxevol_gfs + Nxxp2NG012*BU1GF;\n",
    "      out_prims_r[ww].gf = auxevol_gfs + Nxxp2NG012*B_RU1GF;\n",
    "      out_prims_l[ww].gf = auxevol_gfs + Nxxp2NG012*B_LU1GF;\n",
    "    ww++;\n",
    "    in_prims[ww].gf      = auxevol_gfs + Nxxp2NG012*BU2GF;\n",
    "      out_prims_r[ww].gf = auxevol_gfs + Nxxp2NG012*B_RU2GF;\n",
    "      out_prims_l[ww].gf = auxevol_gfs + Nxxp2NG012*B_LU2GF;\n",
    "    ww++;\n",
    "\n",
    "    // Prims are defined AT ALL GRIDPOINTS, so we set the # of ghostzones to zero:\n",
    "    for(int i=0;i<NUM_RECONSTRUCT_GFS;i++) for(int j=1;j<=3;j++) { in_prims[i].gz_lo[j]=0; in_prims[i].gz_hi[j]=0; }\n",
    "    // Left/right variables are not yet defined, yet we set the # of gz's to zero by default:\n",
    "    for(int i=0;i<NUM_RECONSTRUCT_GFS;i++) for(int j=1;j<=3;j++) { out_prims_r[i].gz_lo[j]=0; out_prims_r[i].gz_hi[j]=0; }\n",
    "    for(int i=0;i<NUM_RECONSTRUCT_GFS;i++) for(int j=1;j<=3;j++) { out_prims_l[i].gz_lo[j]=0; out_prims_l[i].gz_hi[j]=0; }\n",
    "\n",
    "    int which_prims_to_reconstruct[NUM_RECONSTRUCT_GFS] = {VX, VY, VZ, BX, BY, BZ};\n",
    "    int num_prims_to_reconstruct = NUM_RECONSTRUCT_GFS;\n",
    "\n",
    "    // Outputs to store data temporarily for comparison:\n",
    "    REAL vxrC,vxrN,vyrC,vyrN,vzrC,vzrN;\n",
    "    REAL vxlC,vxlN,vylC,vylN,vzlC,vzlN;\n",
    "    REAL BxrC,BxrN,ByrC,ByrN,BzrC,BzrN;\n",
    "    REAL BxlC,BxlN,BylC,BylN,BzlC,BzlN;\n",
    "    // There is one relevant gridpoint at which to compare: the center, or indices 3,3,3.\n",
    "    int all_agree = 1;\n",
    "\n",
    "    // This function is housed in the file: \"reconstruct_set_of_prims_PPM_GRFFE_NRPy.c\"\n",
    "    reconstruct_set_of_prims_PPM_GRFFE_NRPy(&params, auxevol_gfs, flux_dirn, num_prims_to_reconstruct,\n",
    "                                            which_prims_to_reconstruct, in_prims, out_prims_r, out_prims_l, temporary);\n",
    "    vxrN = auxevol_gfs[IDX4S(VALENCIAV_RU0GF,3,3,3)];\n",
    "    vyrN = auxevol_gfs[IDX4S(VALENCIAV_RU1GF,3,3,3)];\n",
    "    vzrN = auxevol_gfs[IDX4S(VALENCIAV_RU2GF,3,3,3)];\n",
    "    vxlN = auxevol_gfs[IDX4S(VALENCIAV_LU0GF,3,3,3)];\n",
    "    vylN = auxevol_gfs[IDX4S(VALENCIAV_LU1GF,3,3,3)];\n",
    "    vzlN = auxevol_gfs[IDX4S(VALENCIAV_LU2GF,3,3,3)];\n",
    "    BxrN = auxevol_gfs[IDX4S(B_RU0GF,3,3,3)];\n",
    "    ByrN = auxevol_gfs[IDX4S(B_RU1GF,3,3,3)];\n",
    "    BzrN = auxevol_gfs[IDX4S(B_RU2GF,3,3,3)];\n",
    "    BxlN = auxevol_gfs[IDX4S(B_LU0GF,3,3,3)];\n",
    "    BylN = auxevol_gfs[IDX4S(B_LU1GF,3,3,3)];\n",
    "    BzlN = auxevol_gfs[IDX4S(B_LU2GF,3,3,3)];\n",
    "    reconstruct_set_of_prims_PPM_GRFFE(cctkGH,cctk_lsh,flux_dirn,num_prims_to_reconstruct,which_prims_to_reconstruct,\n",
    "                                       in_prims,out_prims_r,out_prims_l,temporary);\n",
    "    vxrC = auxevol_gfs[IDX4S(VALENCIAV_RU0GF,3,3,3)];\n",
    "    vyrC = auxevol_gfs[IDX4S(VALENCIAV_RU1GF,3,3,3)];\n",
    "    vzrC = auxevol_gfs[IDX4S(VALENCIAV_RU2GF,3,3,3)];\n",
    "    vxlC = auxevol_gfs[IDX4S(VALENCIAV_LU0GF,3,3,3)];\n",
    "    vylC = auxevol_gfs[IDX4S(VALENCIAV_LU1GF,3,3,3)];\n",
    "    vzlC = auxevol_gfs[IDX4S(VALENCIAV_LU2GF,3,3,3)];\n",
    "    BxrC = auxevol_gfs[IDX4S(B_RU0GF,3,3,3)];\n",
    "    ByrC = auxevol_gfs[IDX4S(B_RU1GF,3,3,3)];\n",
    "    BzrC = auxevol_gfs[IDX4S(B_RU2GF,3,3,3)];\n",
    "    BxlC = auxevol_gfs[IDX4S(B_LU0GF,3,3,3)];\n",
    "    BylC = auxevol_gfs[IDX4S(B_LU1GF,3,3,3)];\n",
    "    BzlC = auxevol_gfs[IDX4S(B_LU2GF,3,3,3)];\n",
    "\n",
    "    printf(\"Checking results in the x-direction...\\n\");\n",
    "    if(vxrN!=vxrC) {\n",
    "        printf(\"vxr agrees to %.3e significant digits.\\n\",1-log10(2*fabs(vxrN-vxrC)/(fabs(vxrN)+fabs(vxrC))));\n",
    "        all_agree=0;\n",
    "    }\n",
    "    if(vyrN!=vyrC) {\n",
    "        printf(\"vyr agrees to %.3e significant digits.\\n\",1-log10(2*fabs(vyrN-vyrC)/(fabs(vyrN)+fabs(vyrC))));\n",
    "        all_agree=0;\n",
    "    }\n",
    "    if(vzrN!=vzrC) {\n",
    "        printf(\"vzr agrees to %.3e significant digits.\\n\",1-log10(2*fabs(vzrN-vzrC)/(fabs(vzrN)+fabs(vzrC))));\n",
    "        all_agree=0;\n",
    "    }\n",
    "    if(vxlN!=vxlC) {\n",
    "        printf(\"vxl agrees to %.3e significant digits.\\n\",1-log10(2*fabs(vxlN-vxlC)/(fabs(vxlN)+fabs(vxlC))));\n",
    "        all_agree=0;\n",
    "    }\n",
    "    if(vylN!=vylC) {\n",
    "        printf(\"vyl agrees to %.3e significant digits.\\n\",1-log10(2*fabs(vylN-vylC)/(fabs(vylN)+fabs(vylC))));\n",
    "        all_agree=0;\n",
    "    }\n",
    "    if(vzlN!=vzlC) {\n",
    "        printf(\"vzl agrees to %.3e significant digits.\\n\",1-log10(2*fabs(vzlN-vzlC)/(fabs(vzlN)+fabs(vzlC))));\n",
    "        all_agree=0;\n",
    "    }\n",
    "    if(BxrN!=BxrC) {\n",
    "        printf(\"Bxr agrees to %.3e significant digits.\\n\",1-log10(2*fabs(BxrN-BxrC)/(fabs(BxrN)+fabs(BxrC))));\n",
    "        all_agree=0;\n",
    "    }\n",
    "    if(ByrN!=ByrC) {\n",
    "        printf(\"Byr agrees to %.3e significant digits.\\n\",1-log10(2*fabs(ByrN-ByrC)/(fabs(ByrN)+fabs(ByrC))));\n",
    "        all_agree=0;\n",
    "    }\n",
    "    if(BzrN!=BzrC) {\n",
    "        printf(\"Bzr agrees to %.3e significant digits.\\n\",1-log10(2*fabs(BzrN-BzrC)/(fabs(BzrN)+fabs(BzrC))));\n",
    "        all_agree=0;\n",
    "    }\n",
    "    if(BxlN!=BxlC) {\n",
    "        printf(\"Bxl agrees to %.3e significant digits.\\n\",1-log10(2*fabs(BxlN-BxlC)/(fabs(BxlN)+fabs(BxlC))));\n",
    "        all_agree=0;\n",
    "    }\n",
    "    if(BylN!=BylC) {\n",
    "        printf(\"Byl agrees to %.3e significant digits.\\n\",1-log10(2*fabs(BylN-BylC)/(fabs(BylN)+fabs(BylC))));\n",
    "        all_agree=0;\n",
    "    }\n",
    "    if(BzlN!=BzlC) {\n",
    "        printf(\"Bzl agrees to %.3e significant digits.\\n\",1-log10(2*fabs(BzlN-BzlC)/(fabs(BzlN)+fabs(BzlC))));\n",
    "        all_agree=0;\n",
    "    }\n",
    "    if (all_agree) {printf(\"All quantities are bit-wise identical in this flux direction!\\n\");}\n",
    "    else {printf(\"All other quantities are bit-wise identical in this flux direction!\\n\");}\n",
    "}    \n",
    "\n",
    "int main() {\n",
    "    for(int flux_dirn=1; flux_dirn<4; flux_dirn++) compare_ppm_calc(flux_dirn);\n",
    "}"
   ]
  },
  {
   "cell_type": "markdown",
   "metadata": {},
   "source": [
    "<a id='compile_run'></a>\n",
    "\n",
    "## Step 2.a: Compile and run the code \\[Back to [top](#toc)\\]\n",
    "$$\\label{compile_run}$$\n",
    "\n",
    "Now that we have our file, we can compile it and run the executable."
   ]
  },
  {
   "cell_type": "code",
   "execution_count": 9,
   "metadata": {
    "execution": {
     "iopub.execute_input": "2020-12-17T02:17:26.139767Z",
     "iopub.status.busy": "2020-12-17T02:17:26.137855Z",
     "iopub.status.idle": "2020-12-17T02:17:26.781691Z",
     "shell.execute_reply": "2020-12-17T02:17:26.782025Z"
    }
   },
   "outputs": [
    {
     "name": "stdout",
     "output_type": "stream",
     "text": [
      "Now compiling, should take ~2 seconds...\n",
      "\n",
      "Compiling executable...\n",
      "(EXEC): Executing `gcc -Ofast -fopenmp -march=native -funroll-loops Start-to-Finish-UnitTests/PPM_UnitTest/PPM_unit_test.C -o Start-to-Finish-UnitTests/PPM_UnitTest/output/PPM_unit_test -lm`...\n",
      "(BENCH): Finished executing in 0.6103384494781494 seconds.\n",
      "Finished compilation.\n",
      "Finished in 0.6203911304473877 seconds.\n",
      "\n",
      "\n",
      "Now running...\n",
      "\n",
      "(EXEC): Executing `taskset -c 0,1,2,3,4,5 ./PPM_unit_test `...\n",
      "(BENCH): Finished executing in 0.21147823333740234 seconds.\n",
      "Finished in 0.22610020637512207 seconds.\n",
      "\n",
      "\n"
     ]
    }
   ],
   "source": [
    "import time\n",
    "results_file = \"out.txt\"\n",
    "\n",
    "print(\"Now compiling, should take ~2 seconds...\\n\")\n",
    "start = time.time()\n",
    "cmd.C_compile(os.path.join(Ccodesdir,\"PPM_unit_test.C\"), os.path.join(outdir,\"PPM_unit_test\"))\n",
    "end = time.time()\n",
    "print(\"Finished in \"+str(end-start)+\" seconds.\\n\\n\")\n",
    "\n",
    "# Change to output directory\n",
    "os.chdir(outdir)\n",
    "\n",
    "print(\"Now running...\\n\")\n",
    "start = time.time()\n",
    "cmd.Execute(os.path.join(\"PPM_unit_test\"),file_to_redirect_stdout=results_file)\n",
    "end = time.time()\n",
    "print(\"Finished in \"+str(end-start)+\" seconds.\\n\\n\")\n"
   ]
  },
  {
   "cell_type": "markdown",
   "metadata": {},
   "source": [
    "Here, we will check the output and make sure all the quantities agree."
   ]
  },
  {
   "cell_type": "code",
   "execution_count": 10,
   "metadata": {
    "execution": {
     "iopub.execute_input": "2020-12-17T02:17:26.786194Z",
     "iopub.status.busy": "2020-12-17T02:17:26.785774Z",
     "iopub.status.idle": "2020-12-17T02:17:26.788424Z",
     "shell.execute_reply": "2020-12-17T02:17:26.788063Z"
    }
   },
   "outputs": [
    {
     "name": "stdout",
     "output_type": "stream",
     "text": [
      "Checking results in the x-direction...\n",
      "\n",
      "All quantities are bit-wise identical in this flux direction!\n",
      "\n",
      "Checking results in the x-direction...\n",
      "\n",
      "All quantities are bit-wise identical in this flux direction!\n",
      "\n",
      "Checking results in the x-direction...\n",
      "\n",
      "All quantities are bit-wise identical in this flux direction!\n",
      "\n"
     ]
    }
   ],
   "source": [
    "with open(results_file,\"r\") as file:\n",
    "    for i in range(6):\n",
    "        output = file.readline()\n",
    "        print(output)\n",
    "        if i%2==1 and output!=\"All quantities are bit-wise identical in this flux direction!\\n\":\n",
    "            # If this isn't (0 indexed) line 1,3,5 of this file, something went wrong!\n",
    "            sys.exit(1)"
   ]
  },
  {
   "cell_type": "markdown",
   "metadata": {},
   "source": [
    "<a id='latex_pdf_output'></a>\n",
    "\n",
    "# Step 3: Output this notebook to $\\LaTeX$-formatted PDF file \\[Back to [top](#toc)\\]\n",
    "$$\\label{latex_pdf_output}$$\n",
    "\n",
    "The following code cell converts this Jupyter notebook into a proper, clickable $\\LaTeX$-formatted PDF file. After the cell is successfully run, the generated PDF may be found in the root NRPy+ tutorial directory, with filename\n",
    "[Tutorial-Start_to_Finish_UnitTest-GiRaFFE_NRPy-PPM.pdf](Tutorial-Start_to_Finish_UnitTest-GiRaFFE_NRPy-PPM.pdf) (Note that clicking on this link may not work; you may need to open the PDF file through another means.)"
   ]
  },
  {
   "cell_type": "code",
   "execution_count": 11,
   "metadata": {
    "execution": {
     "iopub.execute_input": "2020-12-17T02:17:26.791164Z",
     "iopub.status.busy": "2020-12-17T02:17:26.790744Z",
     "iopub.status.idle": "2020-12-17T02:17:29.239578Z",
     "shell.execute_reply": "2020-12-17T02:17:29.240003Z"
    }
   },
   "outputs": [
    {
     "name": "stdout",
     "output_type": "stream",
     "text": [
      "Created Tutorial-Start_to_Finish_UnitTest-GiRaFFE_NRPy-PPM.tex, and\n",
      "    compiled LaTeX file to PDF file Tutorial-Start_to_Finish_UnitTest-\n",
      "    GiRaFFE_NRPy-PPM.pdf\n"
     ]
    }
   ],
   "source": [
    "import cmdline_helper as cmd    # NRPy+: Multi-platform Python command-line interface\n",
    "\n",
    "# Change to NRPy directory\n",
    "os.chdir(\"../../../\")\n",
    "\n",
    "cmd.output_Jupyter_notebook_to_LaTeXed_PDF(\"Tutorial-Start_to_Finish_UnitTest-GiRaFFE_NRPy-PPM\",location_of_template_file=os.path.join(\"..\"))"
   ]
  }
 ],
 "metadata": {
  "kernelspec": {
   "display_name": "Python 3",
   "language": "python",
   "name": "python3"
  },
  "language_info": {
   "codemirror_mode": {
    "name": "ipython",
    "version": 3
   },
   "file_extension": ".py",
   "mimetype": "text/x-python",
   "name": "python",
   "nbconvert_exporter": "python",
   "pygments_lexer": "ipython3",
   "version": "3.8.5"
  }
 },
 "nbformat": 4,
 "nbformat_minor": 2
}
