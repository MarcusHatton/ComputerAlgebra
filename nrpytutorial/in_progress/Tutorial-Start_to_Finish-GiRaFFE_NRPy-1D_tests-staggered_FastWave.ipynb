{
 "cells": [
  {
   "cell_type": "markdown",
   "metadata": {},
   "source": [
    "<script async src=\"https://www.googletagmanager.com/gtag/js?id=UA-59152712-8\"></script>\n",
    "<script>\n",
    "  window.dataLayer = window.dataLayer || [];\n",
    "  function gtag(){dataLayer.push(arguments);}\n",
    "  gtag('js', new Date());\n",
    "\n",
    "  gtag('config', 'UA-59152712-8');\n",
    "</script>\n",
    "\n",
    "# Start-to-Finish Example: `GiRaFFE_NRPy` 1D tests\n",
    "\n",
    "### Author: Patrick Nelson\n",
    "\n",
    "### Adapted from [Start-to-Finish Example: Head-On Black Hole Collision](../Tutorial-Start_to_Finish-BSSNCurvilinear-Two_BHs_Collide.ipynb)\n",
    "\n",
    "## This module implements a basic GRFFE code to evolve one-dimensional GRFFE waves.\n",
    "\n",
    "### NRPy+ Source Code for this module: \n",
    "* [GiRaFFEfood_NRPy/GiRaFFEfood_NRPy_Exact_Wald.py](../../edit/in_progress/GiRaFFEfood_NRPy/GiRaFFEfood_NRPy_Exact_Wald.py) [\\[**tutorial**\\]](Tutorial-GiRaFFEfood_NRPy_Exact_Wald.ipynb) Generates Exact Wald initial data\n",
    "* [GiRaFFEfood_NRPy/GiRaFFEfood_NRPy_Aligned_Rotator.py](../../edit/in_progress/GiRaFFEfood_NRPy/GiRaFFEfood_NRPy_Aligned_Rotator.py) [\\[**tutorial**\\]](Tutorial-GiRaFFEfood_NRPy_Aligned_Rotator.ipynb) Generates Aligned Rotator initial data\n",
    "* [GiRaFFEfood_NRPy/GiRaFFEfood_NRPy_1D_tests.py](../../edit/in_progress/GiRaFFEfood_NRPy/GiRaFFEfood_NRPy_1D_tests.py) [\\[**tutorial**\\]](Tutorial-GiRaFFEfood_NRPy_1D_tests.ipynb) Generates Alfv&eacute;n Wave initial data.\n",
    "* [GiRaFFE_NRPy/GiRaFFE_NRPy_staggered_Afield_flux.py](../../edit/in_progress/GiRaFFE_NRPy/GiRaFFE_NRPy_staggered_Afield_flux.py) [\\[**tutorial**\\]](Tutorial-GiRaFFE_NRPy_staggered-Afield_flux.ipynb) Generates the expressions to find the flux term of the induction equation.\n",
    "* [GiRaFFE_NRPy/GiRaFFE_NRPy_staggered_A2B.py](../../edit/in_progress/GiRaFFE_NRPy/GiRaFFE_NRPy_staggered_A2B.py) [\\[**tutorial**\\]](Tutorial-GiRaFFE_NRPy_staggered-A2B.ipynb) Generates the driver to compute the magnetic field from the vector potential/\n",
    "* [GiRaFFE_NRPy/GiRaFFE_NRPy_BCs.py](../../edit/in_progress/GiRaFFE_NRPy/GiRaFFE_NRPy_BCs.py) [\\[**tutorial**\\]](Tutorial-GiRaFFE_NRPy-BCs.ipynb) Generates the code to apply boundary conditions to the vector potential, scalar potential, and three-velocity.\n",
    "* [GiRaFFE_NRPy/GiRaFFE_NRPy_C2P_P2C.py](../../edit/in_progress/GiRaFFE_NRPy/GiRaFFE_NRPy_C2P_P2C.py) [\\[**tutorial**\\]](Tutorial-GiRaFFE_NRPy-C2P_P2C.ipynb) Generates the conservative-to-primitive and primitive-to-conservative solvers.\n",
    "* [GiRaFFE_NRPy/GiRaFFE_NRPy_Metric_Face_Values.py](../../edit/in_progress/GiRaFFE_NRPy/GiRaFFE_NRPy_Metric_Face_Values.py) [\\[**tutorial**\\]](Tutorial-GiRaFFE_NRPy-Metric_Face_Values.ipynb) Generates code to interpolate metric gridfunctions to cell faces.\n",
    "* [GiRaFFE_NRPy/GiRaFFE_NRPy_PPM.py](../../edit/in_progress/GiRaFFE_NRPy/GiRaFFE_NRPy_PPM.py) [\\[**tutorial**\\]](Tutorial-GiRaFFE_NRPy-PPM.ipynb) Genearates code to reconstruct primitive variables on cell faces.\n",
    "* [GiRaFFE_NRPy/GiRaFFE_NRPy_staggered_Source_Terms.py](../../edit/in_progress/GiRaFFE_NRPy/GiRaFFE_NRPy_staggered_Source_Terms.py) [\\[**tutorial**\\]](Tutorial-GiRaFFE_NRPy_staggered-Source_Terms.ipynb) Generates the expressions to find the flux term of the Poynting flux evolution equation.\n",
    "* [GiRaFFE_NRPy/Stilde_flux.py](../../edit/in_progress/GiRaFFE_NRPy/Stilde_flux.py) [\\[**tutorial**\\]](Tutorial-GiRaFFE_NRPy-Stilde_flux.ipynb) Generates the expressions to find the flux term of the Poynting flux evolution equation.\n",
    "* [../GRFFE/equations.py](../../edit/GRFFE/equations.py) [\\[**tutorial**\\]](../Tutorial-GRFFE_Equations-Cartesian.ipynb) Generates code necessary to compute the source terms.\n",
    "* [../GRHD/equations.py](../../edit/GRHD/equations.py) [\\[**tutorial**\\]](../Tutorial-GRHD_Equations-Cartesian.ipynb) Generates code necessary to compute the source terms.\n",
    "\n",
    "Here we use NRPy+ to generate the C source code necessary to set up initial data for an Alfv&eacute;n wave (see [the original GiRaFFE paper](https://arxiv.org/pdf/1704.00599.pdf)). Then we use it to generate the RHS expressions for [Method of Lines](https://reference.wolfram.com/language/tutorial/NDSolveMethodOfLines.html) time integration based on the [explicit Runge-Kutta fourth-order scheme](https://en.wikipedia.org/wiki/Runge%E2%80%93Kutta_methods) (RK4)."
   ]
  },
  {
   "cell_type": "markdown",
   "metadata": {},
   "source": [
    "<a id='toc'></a>\n",
    "\n",
    "# Table of Contents\n",
    "$$\\label{toc}$$\n",
    "\n",
    "This notebook is organized as follows\n",
    "\n",
    "1. [Step 1](#initializenrpy): Set core NRPy+ parameters for numerical grids\n",
    "1. [Step 2](#grffe): Output C code for GRFFE evolution\n",
    "    1. [Step 2.a](#mol): Output macros for Method of Lines timestepping\n",
    "1. [Step 3](#gf_id): Import `GiRaFFEfood_NRPy` initial data modules\n",
    "1. [Step 4](#cparams): Output C codes needed for declaring and setting Cparameters; also set `free_parameters.h`\n",
    "1. [Step 5](#mainc): `GiRaFFE_NRPy_standalone.c`: The Main C Code"
   ]
  },
  {
   "cell_type": "markdown",
   "metadata": {},
   "source": [
    "<a id='setup'></a>\n",
    "\n",
    "# Step 1: Set up core functions and parameters for solving  GRFFE equations \\[Back to [top](#toc)\\]\n",
    "$$\\label{setup}$$\n"
   ]
  },
  {
   "cell_type": "code",
   "execution_count": 1,
   "metadata": {
    "execution": {
     "iopub.execute_input": "2020-12-17T02:16:18.636228Z",
     "iopub.status.busy": "2020-12-17T02:16:18.635743Z",
     "iopub.status.idle": "2020-12-17T02:16:18.864857Z",
     "shell.execute_reply": "2020-12-17T02:16:18.864334Z"
    }
   },
   "outputs": [],
   "source": [
    "import shutil, os, sys           # Standard Python modules for multiplatform OS-level functions\n",
    "# First, we'll add the parent directory to the list of directories Python will check for modules.\n",
    "nrpy_dir_path = os.path.join(\"..\")\n",
    "if nrpy_dir_path not in sys.path:\n",
    "    sys.path.append(nrpy_dir_path)\n",
    "\n",
    "# Step P1: Import needed NRPy+ core modules:\n",
    "from outputC import outCfunction, lhrh # NRPy+: Core C code output module\n",
    "import sympy as sp               # SymPy: The Python computer algebra package upon which NRPy+ depends\n",
    "import finite_difference as fin  # NRPy+: Finite difference C code generation module\n",
    "import NRPy_param_funcs as par   # NRPy+: Parameter interface\n",
    "import grid as gri               # NRPy+: Functions having to do with numerical grids\n",
    "import indexedexp as ixp         # NRPy+: Symbolic indexed expression (e.g., tensors, vectors, etc.) support\n",
    "import cmdline_helper as cmd     # NRPy+: Multi-platform Python command-line interface\n",
    "\n",
    "# Step P2: Create C code output directory:\n",
    "Ccodesdir = os.path.join(\"GiRaFFE_staggered_standalone_Ccodes/\")\n",
    "# First remove C code output directory if it exists\n",
    "# Courtesy https://stackoverflow.com/questions/303200/how-do-i-remove-delete-a-folder-that-is-not-empty\n",
    "# !rm -r ScalarWaveCurvilinear_Playground_Ccodes\n",
    "shutil.rmtree(Ccodesdir, ignore_errors=True)\n",
    "# Then create a fresh directory\n",
    "cmd.mkdir(Ccodesdir)\n",
    "\n",
    "# Step P3: Create executable output directory:\n",
    "outdir = os.path.join(Ccodesdir,\"output/\")\n",
    "cmd.mkdir(outdir)\n",
    "\n",
    "# Step P5: Set timestepping algorithm (we adopt the Method of Lines)\n",
    "REAL      = \"double\"    # Best to use double here.\n",
    "default_CFL_FACTOR= 0.5 # (GETS OVERWRITTEN WHEN EXECUTED.) In pure axisymmetry (symmetry_axes = 2 below) 1.0 works fine. Otherwise 0.5 or lower.\n",
    "\n",
    "# Step P6: Set the finite differencing order to 2.\n",
    "par.set_parval_from_str(\"finite_difference::FD_CENTDERIVS_ORDER\",4)\n",
    "\n",
    "thismodule = \"Start_to_Finish-GiRaFFE_NRPy-1D_tests\"\n",
    "TINYDOUBLE = par.Cparameters(\"REAL\", thismodule, \"TINYDOUBLE\", 1e-100)\n",
    "\n",
    "import GiRaFFE_NRPy.GiRaFFE_NRPy_Main_Driver_staggered as md\n",
    "# par.set_paramsvals_value(\"GiRaFFE_NRPy.GiRaFFE_NRPy_C2P_P2C::enforce_speed_limit_StildeD = False\")\n",
    "par.set_paramsvals_value(\"GiRaFFE_NRPy.GiRaFFE_NRPy_C2P_P2C::enforce_current_sheet_prescription = False\")"
   ]
  },
  {
   "cell_type": "markdown",
   "metadata": {},
   "source": [
    "<a id='grffe'></a>\n",
    "\n",
    "# Step 2: Output C code for GRFFE evolution \\[Back to [top](#toc)\\]\n",
    "$$\\label{grffe}$$\n",
    "\n",
    "We will first write the C codes needed for GRFFE evolution. We have already written a module to generate all these codes and call the functions in the appropriate order, so we will import that here. We will take the slightly unusual step of doing this before we generate the initial data functions because the main driver module will register all the gridfunctions we need. It will also generate functions that, in addition to their normal spot in the MoL timestepping, will need to be called during the initial data step to make sure all the variables are appropriately filled in. \n",
    "\n",
    "All of this is handled with a single call to `GiRaFFE_NRPy_Main_Driver_generate_all()`, which will register gridfunctions, write all the C code kernels, and write the C code functions to call those."
   ]
  },
  {
   "cell_type": "code",
   "execution_count": 2,
   "metadata": {
    "execution": {
     "iopub.execute_input": "2020-12-17T02:16:18.882275Z",
     "iopub.status.busy": "2020-12-17T02:16:18.877188Z",
     "iopub.status.idle": "2020-12-17T02:16:31.751393Z",
     "shell.execute_reply": "2020-12-17T02:16:31.750897Z"
    }
   },
   "outputs": [
    {
     "name": "stdout",
     "output_type": "stream",
     "text": [
      "Output C function calculate_StildeD0_source_term() to file GiRaFFE_staggered_standalone_Ccodes/RHSs/calculate_StildeD0_source_term.h\n",
      "Output C function calculate_StildeD1_source_term() to file GiRaFFE_staggered_standalone_Ccodes/RHSs/calculate_StildeD1_source_term.h\n",
      "Output C function calculate_StildeD2_source_term() to file GiRaFFE_staggered_standalone_Ccodes/RHSs/calculate_StildeD2_source_term.h\n",
      "Output C function calculate_Stilde_rhsD() to file GiRaFFE_staggered_standalone_Ccodes/RHSs/calculate_Stilde_rhsD.h\n",
      "Output C function GiRaFFE_NRPy_cons_to_prims() to file GiRaFFE_staggered_standalone_Ccodes/C2P/GiRaFFE_NRPy_cons_to_prims.h\n",
      "Output C function GiRaFFE_NRPy_prims_to_cons() to file GiRaFFE_staggered_standalone_Ccodes/C2P/GiRaFFE_NRPy_prims_to_cons.h\n",
      "Output C function Workaround_ADM_to_BSSN() to file GiRaFFE_staggered_standalone_Ccodes/Workaround_ADM_to_BSSN.h\n",
      "Output C function Workaround_BSSN_to_ADM() to file GiRaFFE_staggered_standalone_Ccodes/Workaround_BSSN_to_ADM.h\n"
     ]
    }
   ],
   "source": [
    "md.GiRaFFE_NRPy_Main_Driver_generate_all(Ccodesdir)"
   ]
  },
  {
   "cell_type": "markdown",
   "metadata": {},
   "source": [
    "<a id='mol'></a>\n",
    "\n",
    "## Step 2.a: Output macros for Method of Lines timestepping \\[Back to [top](#toc)\\]\n",
    "$$\\label{mol}$$\n",
    "\n",
    "Now, we generate the code to implement the method of lines using the fourth-order Runge-Kutta algorithm."
   ]
  },
  {
   "cell_type": "code",
   "execution_count": 3,
   "metadata": {
    "execution": {
     "iopub.execute_input": "2020-12-17T02:16:31.754980Z",
     "iopub.status.busy": "2020-12-17T02:16:31.754438Z",
     "iopub.status.idle": "2020-12-17T02:16:31.763895Z",
     "shell.execute_reply": "2020-12-17T02:16:31.764333Z"
    }
   },
   "outputs": [],
   "source": [
    "RK_method = \"RK4\"\n",
    "\n",
    "# Step 3: Generate Runge-Kutta-based (RK-based) timestepping code.\n",
    "#       As described above the Table of Contents, this is a 3-step process:\n",
    "#       3.A: Evaluate RHSs (RHS_string)\n",
    "#       3.B: Apply boundary conditions (post_RHS_string, pt 1)\n",
    "import MoLtimestepping.C_Code_Generation as MoL\n",
    "from MoLtimestepping.RK_Butcher_Table_Dictionary import Butcher_dict\n",
    "RK_order  = Butcher_dict[RK_method][1]\n",
    "cmd.mkdir(os.path.join(Ccodesdir,\"MoLtimestepping/\"))\n",
    "MoL.MoL_C_Code_Generation(RK_method,\n",
    "    RHS_string      = \"\"\"\n",
    "GiRaFFE_NRPy_RHSs(&params,auxevol_gfs,RK_INPUT_GFS,RK_OUTPUT_GFS);\"\"\",\n",
    "    post_RHS_string = \"\"\"\n",
    "GiRaFFE_NRPy_post_step(&params,xx,auxevol_gfs,RK_OUTPUT_GFS,n+1);\\n\"\"\",\n",
    "    outdir = os.path.join(Ccodesdir,\"MoLtimestepping/\"))"
   ]
  },
  {
   "cell_type": "markdown",
   "metadata": {},
   "source": [
    "<a id='gf_id'></a>\n",
    "\n",
    "# Step 3: Import `GiRaFFEfood_NRPy` initial data modules \\[Back to [top](#toc)\\]\n",
    "$$\\label{gf_id}$$\n",
    "\n",
    "With the preliminaries out of the way, we will write the C functions to set up initial data. There are two categories of initial data that must be set: the spacetime metric variables, and the GRFFE plasma variables. We will set up the spacetime first."
   ]
  },
  {
   "cell_type": "code",
   "execution_count": 4,
   "metadata": {
    "execution": {
     "iopub.execute_input": "2020-12-17T02:16:31.780765Z",
     "iopub.status.busy": "2020-12-17T02:16:31.766120Z",
     "iopub.status.idle": "2020-12-17T02:16:31.783157Z",
     "shell.execute_reply": "2020-12-17T02:16:31.782697Z"
    }
   },
   "outputs": [
    {
     "name": "stdout",
     "output_type": "stream",
     "text": [
      "Output C function set_initial_spacetime_metric_data() to file GiRaFFE_staggered_standalone_Ccodes/set_initial_spacetime_metric_data.h\n"
     ]
    }
   ],
   "source": [
    "# There are several initial data routines we need to test. We'll control which one we use with a string option\n",
    "initial_data = \"FastWave\" # Valid options: \"ExactWald\", \"AlignedRotator\", \"AlfvenWave\", \"FastWave\"\n",
    "spacetime = \"flat\" # Valid options: \"ShiftedKerrSchild\", \"flat\"\n",
    "\n",
    "if spacetime == \"ShiftedKerrSchild\":\n",
    "    # Exact Wald is more complicated. We'll need the Shifted Kerr Schild metric in Cartesian coordinates.\n",
    "    import BSSN.ShiftedKerrSchild as sks\n",
    "    sks.ShiftedKerrSchild(True)\n",
    "    import reference_metric as rfm\n",
    "    par.set_parval_from_str(\"reference_metric::CoordSystem\",\"Cartesian\")\n",
    "    rfm.reference_metric()\n",
    "    # Use the Jacobian matrix to transform the vectors to Cartesian coordinates.\n",
    "    drrefmetric__dx_0UDmatrix = sp.Matrix([[sp.diff(rfm.xxSph[0],rfm.xx[0]), sp.diff(rfm.xxSph[0],rfm.xx[1]), sp.diff(rfm.xxSph[0],rfm.xx[2])],\n",
    "                                           [sp.diff(rfm.xxSph[1],rfm.xx[0]), sp.diff(rfm.xxSph[1],rfm.xx[1]), sp.diff(rfm.xxSph[1],rfm.xx[2])],\n",
    "                                           [sp.diff(rfm.xxSph[2],rfm.xx[0]), sp.diff(rfm.xxSph[2],rfm.xx[1]), sp.diff(rfm.xxSph[2],rfm.xx[2])]])\n",
    "    dx__drrefmetric_0UDmatrix = drrefmetric__dx_0UDmatrix.inv()\n",
    "    gammaDD = ixp.zerorank2()\n",
    "    for i in range(3):\n",
    "        for j in range(3):\n",
    "            for k in range(3):\n",
    "                for l in range(3):\n",
    "                    gammaDD[i][j] += drrefmetric__dx_0UDmatrix[(k,i)]*drrefmetric__dx_0UDmatrix[(l,j)]*sks.gammaSphDD[k][l].subs(sks.r,rfm.xxSph[0]).subs(sks.th,rfm.xxSph[1])\n",
    "    betaU = ixp.zerorank1()\n",
    "    for i in range(3):\n",
    "        for j in range(3):\n",
    "            betaU[i] += dx__drrefmetric_0UDmatrix[(i,j)]*sks.betaSphU[j].subs(sks.r,rfm.xxSph[0]).subs(sks.th,rfm.xxSph[1])\n",
    "    alpha = sks.alphaSph.subs(sks.r,rfm.xxSph[0]).subs(sks.th,rfm.xxSph[1])\n",
    "\n",
    "    # Description and options for this initial data\n",
    "    desc = \"Generate a spinning black hole with Shifted Kerr Schild metric.\"\n",
    "    loopopts_id =\"AllPoints,Read_xxs\"\n",
    "\n",
    "elif spacetime == \"flat\":\n",
    "    gammaDD = ixp.zerorank2(DIM=3)\n",
    "    for i in range(3):\n",
    "        for j in range(3):\n",
    "            if i==j:\n",
    "                gammaDD[i][j] = sp.sympify(1) # else: leave as zero\n",
    "    betaU = ixp.zerorank1() # All should be 0\n",
    "    alpha = sp.sympify(1)\n",
    "\n",
    "    # Description and options for this initial data\n",
    "    desc = \"Generate a flat spacetime metric.\"\n",
    "    loopopts_id =\"AllPoints\" # we don't need to read coordinates for flat spacetime.\n",
    "\n",
    "# For testing: Also set inverse metric:\n",
    "gammaUU, unused_gammaDET = ixp.symm_matrix_inverter3x3(gammaDD)\n",
    "\n",
    "\n",
    "name = \"set_initial_spacetime_metric_data\"\n",
    "values_to_print = [\n",
    "                   lhrh(lhs=gri.gfaccess(\"auxevol_gfs\",\"gammaDD00\"),rhs=gammaDD[0][0]),\n",
    "                   lhrh(lhs=gri.gfaccess(\"auxevol_gfs\",\"gammaDD01\"),rhs=gammaDD[0][1]),\n",
    "                   lhrh(lhs=gri.gfaccess(\"auxevol_gfs\",\"gammaDD02\"),rhs=gammaDD[0][2]),\n",
    "                   lhrh(lhs=gri.gfaccess(\"auxevol_gfs\",\"gammaDD11\"),rhs=gammaDD[1][1]),\n",
    "                   lhrh(lhs=gri.gfaccess(\"auxevol_gfs\",\"gammaDD12\"),rhs=gammaDD[1][2]),\n",
    "                   lhrh(lhs=gri.gfaccess(\"auxevol_gfs\",\"gammaDD22\"),rhs=gammaDD[2][2]),\n",
    "                   lhrh(lhs=gri.gfaccess(\"auxevol_gfs\",\"betaU0\"),rhs=betaU[0]),\n",
    "                   lhrh(lhs=gri.gfaccess(\"auxevol_gfs\",\"betaU1\"),rhs=betaU[1]),\n",
    "                   lhrh(lhs=gri.gfaccess(\"auxevol_gfs\",\"betaU2\"),rhs=betaU[2]),\n",
    "                   lhrh(lhs=gri.gfaccess(\"auxevol_gfs\",\"alpha\"),rhs=alpha),\n",
    "                   lhrh(lhs=gri.gfaccess(\"auxevol_gfs\",\"gammaUU00\"),rhs=gammaUU[0][0]),\n",
    "                   lhrh(lhs=gri.gfaccess(\"auxevol_gfs\",\"gammaUU01\"),rhs=gammaUU[0][1]),\n",
    "                   lhrh(lhs=gri.gfaccess(\"auxevol_gfs\",\"gammaUU02\"),rhs=gammaUU[0][2]),\n",
    "                   lhrh(lhs=gri.gfaccess(\"auxevol_gfs\",\"gammaUU11\"),rhs=gammaUU[1][1]),\n",
    "                   lhrh(lhs=gri.gfaccess(\"auxevol_gfs\",\"gammaUU12\"),rhs=gammaUU[1][2]),\n",
    "                   lhrh(lhs=gri.gfaccess(\"auxevol_gfs\",\"gammaUU22\"),rhs=gammaUU[2][2])\n",
    "                  ]\n",
    "\n",
    "outCfunction(\n",
    "    outfile  = os.path.join(Ccodesdir,name+\".h\"), desc=desc, name=name,\n",
    "    params   =\"const paramstruct *params,REAL *xx[3],REAL *auxevol_gfs\",\n",
    "    body     = fin.FD_outputC(\"returnstring\",values_to_print,params=\"outCverbose=False\").replace(\"IDX4\",\"IDX4S\"),\n",
    "    loopopts = loopopts_id)\n"
   ]
  },
  {
   "cell_type": "markdown",
   "metadata": {},
   "source": [
    "Now, we will write out the initial data function for the GRFFE variables."
   ]
  },
  {
   "cell_type": "code",
   "execution_count": 5,
   "metadata": {
    "execution": {
     "iopub.execute_input": "2020-12-17T02:16:31.788778Z",
     "iopub.status.busy": "2020-12-17T02:16:31.788338Z",
     "iopub.status.idle": "2020-12-17T02:16:31.933819Z",
     "shell.execute_reply": "2020-12-17T02:16:31.933356Z"
    }
   },
   "outputs": [
    {
     "name": "stdout",
     "output_type": "stream",
     "text": [
      "Output C function initial_data() to file GiRaFFE_staggered_standalone_Ccodes/initial_data.h\n"
     ]
    }
   ],
   "source": [
    "if initial_data==\"AlfvenWave\":\n",
    "    import GiRaFFEfood_NRPy.GiRaFFEfood_NRPy_1D_tests as gid\n",
    "    gid.GiRaFFEfood_NRPy_1D_tests(stagger = True)\n",
    "    desc = \"Generate Alfven wave 1D initial test data for GiRaFFEfood_NRPy.\"\n",
    "elif initial_data==\"FastWave\":\n",
    "    import GiRaFFEfood_NRPy.GiRaFFEfood_NRPy_1D_tests_fast_wave as gid\n",
    "    gid.GiRaFFEfood_NRPy_1D_tests_fast_wave()\n",
    "    desc = \"Generate fast wave 1D initial test data for GiRaFFEfood_NRPy.\"\n",
    "elif initial_data==\"AlignedRotator\":\n",
    "    import GiRaFFEfood_NRPy.GiRaFFEfood_NRPy_Aligned_Rotator as gid\n",
    "    gid.GiRaFFEfood_NRPy_Aligned_Rotator()\n",
    "    desc = \"Generate aligned rotator initial test data for GiRaFFEfood_NRPy.\"\n",
    "elif initial_data==\"ExactWald\":\n",
    "    import GiRaFFEfood_NRPy.GiRaFFEfood_NRPy_Exact_Wald as gid\n",
    "    M,r0 = sp.symbols(\"M r0\")\n",
    "    gid.GiRaFFEfood_NRPy_Exact_Wald(gammaDD,M,r0)\n",
    "    desc = \"Generate exact Wald initial test data for GiRaFFEfood_NRPy.\"\n",
    "else:\n",
    "    print(\"Unsupported Initial Data string \"+initial_data+\"! Supported ID: AlfvenWave, FastWave, AlignedRotator, or ExactWald\")\n",
    "\n",
    "name = \"initial_data\"\n",
    "\n",
    "values_to_print = [\\\n",
    "                   lhrh(lhs=gri.gfaccess(\"out_gfs\",\"AD0\"),rhs=gid.AD[0]),\\\n",
    "                   lhrh(lhs=gri.gfaccess(\"out_gfs\",\"AD1\"),rhs=gid.AD[1]),\\\n",
    "                   lhrh(lhs=gri.gfaccess(\"out_gfs\",\"AD2\"),rhs=gid.AD[2]),\\\n",
    "                   lhrh(lhs=gri.gfaccess(\"auxevol_gfs\",\"ValenciavU0\"),rhs=gid.ValenciavU[0]),\\\n",
    "                   lhrh(lhs=gri.gfaccess(\"auxevol_gfs\",\"ValenciavU1\"),rhs=gid.ValenciavU[1]),\\\n",
    "                   lhrh(lhs=gri.gfaccess(\"auxevol_gfs\",\"ValenciavU2\"),rhs=gid.ValenciavU[2]),\\\n",
    "                   lhrh(lhs=gri.gfaccess(\"auxevol_gfs\",\"BU0\"),rhs=gid.BU[0]),\\\n",
    "                   lhrh(lhs=gri.gfaccess(\"auxevol_gfs\",\"BU1\"),rhs=gid.BU[1]),\\\n",
    "                   lhrh(lhs=gri.gfaccess(\"auxevol_gfs\",\"BU2\"),rhs=gid.BU[2]),\\\n",
    "                   lhrh(lhs=gri.gfaccess(\"out_gfs\",\"psi6Phi\"),rhs=sp.sympify(0))\\\n",
    "                  ]\n",
    "\n",
    "outCfunction(\n",
    "    outfile  = os.path.join(Ccodesdir,name+\".h\"), desc=desc, name=name,\n",
    "    params   =\"const paramstruct *params,REAL *xx[3],REAL *auxevol_gfs,REAL *out_gfs\",\n",
    "    body     = fin.FD_outputC(\"returnstring\",values_to_print,params=\"outCverbose=False\").replace(\"IDX4\",\"IDX4S\"),\n",
    "    loopopts =\"AllPoints,Read_xxs\")\n"
   ]
  },
  {
   "cell_type": "markdown",
   "metadata": {},
   "source": [
    "<a id='cparams'></a>\n",
    "\n",
    "# Step 4: Output C codes needed for declaring and setting Cparameters; also set `free_parameters.h` \\[Back to [top](#toc)\\]\n",
    "$$\\label{cparams}$$\n",
    "\n",
    "Based on declared NRPy+ Cparameters, first we generate `declare_Cparameters_struct.h`, `set_Cparameters_default.h`, and `set_Cparameters[-SIMD].h`.\n",
    "\n",
    "Then we output `free_parameters.h`, which sets initial data parameters, as well as grid domain & reference metric parameters, applying `domain_size` and `sinh_width`/`SymTP_bScale` (if applicable) as set above"
   ]
  },
  {
   "cell_type": "code",
   "execution_count": 6,
   "metadata": {
    "execution": {
     "iopub.execute_input": "2020-12-17T02:16:31.937209Z",
     "iopub.status.busy": "2020-12-17T02:16:31.936662Z",
     "iopub.status.idle": "2020-12-17T02:16:31.938547Z",
     "shell.execute_reply": "2020-12-17T02:16:31.938932Z"
    }
   },
   "outputs": [],
   "source": [
    "# Step 3.e: Output C codes needed for declaring and setting Cparameters; also set free_parameters.h\n",
    "# Step 3.e.i: Generate declare_Cparameters_struct.h, set_Cparameters_default.h, and set_Cparameters[-SIMD].h\n",
    "par.generate_Cparameters_Ccodes(os.path.join(Ccodesdir))\n",
    "\n",
    "# Step 3.e.ii: Set free_parameters.h\n",
    "with open(os.path.join(Ccodesdir,\"free_parameters.h\"),\"w\") as file:\n",
    "    file.write(\"\"\"// Override parameter defaults with values based on command line arguments and NGHOSTS.\n",
    "params.Nxx0 = atoi(argv[1]);\n",
    "params.Nxx1 = atoi(argv[2]);\n",
    "params.Nxx2 = atoi(argv[3]);\n",
    "params.Nxx_plus_2NGHOSTS0 = params.Nxx0 + 2*NGHOSTS;\n",
    "params.Nxx_plus_2NGHOSTS1 = params.Nxx1 + 2*NGHOSTS;\n",
    "params.Nxx_plus_2NGHOSTS2 = params.Nxx2 + 2*NGHOSTS;\n",
    "// Step 0d: Set up space and time coordinates\n",
    "// Step 0d.i: Declare \\Delta x^i=dxx{0,1,2} and invdxx{0,1,2}, as well as xxmin[3] and xxmax[3]:\n",
    "const REAL xxmin[3] = {-1.35,-0.09,-0.09};\n",
    "const REAL xxmax[3] = { 1.65, 0.11, 0.11};\n",
    "\n",
    "params.dxx0 = (xxmax[0] - xxmin[0]) / ((REAL)params.Nxx0+1);\n",
    "params.dxx1 = (xxmax[1] - xxmin[1]) / ((REAL)params.Nxx1+1);\n",
    "params.dxx2 = (xxmax[2] - xxmin[2]) / ((REAL)params.Nxx2+1);\n",
    "printf(\"dxx0,dxx1,dxx2 = %.5e,%.5e,%.5e\\\\n\",params.dxx0,params.dxx1,params.dxx2);\n",
    "params.invdx0 = 1.0 / params.dxx0;\n",
    "params.invdx1 = 1.0 / params.dxx1;\n",
    "params.invdx2 = 1.0 / params.dxx2;\n",
    "\n",
    "const int poison_grids = 0;\n",
    "// Standard GRFFE parameters:\n",
    "params.GAMMA_SPEED_LIMIT = 2000.0;\n",
    "params.diss_strength = 0.1;\n",
    "\"\"\")\n",
    "if initial_data==\"ExactWald\":\n",
    "    with open(os.path.join(out_dir,\"free_parameters.h\"),\"a\") as file:\n",
    "        file.write(\"\"\"params.r0 = 0.4;\n",
    "params.a = 0.0;\n",
    "\"\"\")\n"
   ]
  },
  {
   "cell_type": "markdown",
   "metadata": {},
   "source": [
    "<a id='bc_functs'></a>\n",
    "\n",
    "# Step 4: Set up boundary condition functions for chosen singular, curvilinear coordinate system \\[Back to [top](#toc)\\]\n",
    "$$\\label{bc_functs}$$\n",
    "\n",
    "Next apply singular, curvilinear coordinate boundary conditions [as documented in the corresponding NRPy+ tutorial notebook](Tutorial-Start_to_Finish-Curvilinear_BCs.ipynb)\n",
    "\n",
    "...But, for the moment, we're actually just using this because it writes the file `gridfunction_defines.h`."
   ]
  },
  {
   "cell_type": "code",
   "execution_count": 7,
   "metadata": {
    "execution": {
     "iopub.execute_input": "2020-12-17T02:16:31.941833Z",
     "iopub.status.busy": "2020-12-17T02:16:31.941387Z",
     "iopub.status.idle": "2020-12-17T02:16:31.973830Z",
     "shell.execute_reply": "2020-12-17T02:16:31.973411Z"
    }
   },
   "outputs": [
    {
     "name": "stdout",
     "output_type": "stream",
     "text": [
      "Wrote to file \"GiRaFFE_staggered_standalone_Ccodes/boundary_conditions/parity_conditions_symbolic_dot_products.h\"\n",
      "Evolved parity: ( AD0:1, AD1:2, AD2:3, StildeD0:1, StildeD1:2, StildeD2:3,\n",
      "    psi6Phi:0 )\n",
      "\n",
      "AuxEvol parity: ( BU0:1, BU1:2, BU2:3, B_lU0:1, B_lU1:2, B_lU2:3, B_rU0:1,\n",
      "    B_rU1:2, B_rU2:3, BstaggerU0:1, BstaggerU1:2, BstaggerU2:3,\n",
      "    Bstagger_lU0:1, Bstagger_lU1:2, Bstagger_lU2:3, Bstagger_rU0:1,\n",
      "    Bstagger_rU1:2, Bstagger_rU2:3, Stilde_flux_HLLED0:1,\n",
      "    Stilde_flux_HLLED1:2, Stilde_flux_HLLED2:3, ValenciavU0:1,\n",
      "    ValenciavU1:2, ValenciavU2:3, Valenciav_lU0:1, Valenciav_lU1:2,\n",
      "    Valenciav_lU2:3, Valenciav_llU0:1, Valenciav_llU1:2, Valenciav_llU2:3,\n",
      "    Valenciav_lrU0:1, Valenciav_lrU1:2, Valenciav_lrU2:3, Valenciav_rU0:1,\n",
      "    Valenciav_rU1:2, Valenciav_rU2:3, Valenciav_rlU0:1, Valenciav_rlU1:2,\n",
      "    Valenciav_rlU2:3, Valenciav_rrU0:1, Valenciav_rrU1:2, Valenciav_rrU2:3,\n",
      "    alpha:0, alpha_face:0, betaU0:1, betaU1:2, betaU2:3, beta_faceU0:1,\n",
      "    beta_faceU1:2, beta_faceU2:3, cmax_x:0, cmax_y:0, cmax_z:0, cmin_x:0,\n",
      "    cmin_y:0, cmin_z:0, gammaDD00:4, gammaDD01:5, gammaDD02:6, gammaDD11:7,\n",
      "    gammaDD12:8, gammaDD22:9, gammaUU00:4, gammaUU01:5, gammaUU02:6,\n",
      "    gammaUU11:7, gammaUU12:8, gammaUU22:9, gamma_faceDD00:4,\n",
      "    gamma_faceDD01:5, gamma_faceDD02:6, gamma_faceDD11:7, gamma_faceDD12:8,\n",
      "    gamma_faceDD22:9, gamma_faceUU00:4, gamma_faceUU01:5, gamma_faceUU02:6,\n",
      "    gamma_faceUU11:7, gamma_faceUU12:8, gamma_faceUU22:9, phi:0,\n",
      "    phi_face:0, psi6_temp:0, psi6center:0 )\n",
      "Wrote to file \"GiRaFFE_staggered_standalone_Ccodes/boundary_conditions/EigenCoord_Cart_to_xx.h\"\n"
     ]
    }
   ],
   "source": [
    "import CurviBoundaryConditions.CurviBoundaryConditions as cbcs\n",
    "cbcs.Set_up_CurviBoundaryConditions(os.path.join(Ccodesdir,\"boundary_conditions/\"),Cparamspath=os.path.join(\"../\"),enable_copy_of_static_Ccodes=False)"
   ]
  },
  {
   "cell_type": "markdown",
   "metadata": {},
   "source": [
    "<a id='mainc'></a>\n",
    "\n",
    "# Step 5: `GiRaFFE_NRPy_standalone.c`: The Main C Code \\[Back to [top](#toc)\\]\n",
    "$$\\label{mainc}$$"
   ]
  },
  {
   "cell_type": "code",
   "execution_count": 8,
   "metadata": {
    "execution": {
     "iopub.execute_input": "2020-12-17T02:16:31.976477Z",
     "iopub.status.busy": "2020-12-17T02:16:31.976023Z",
     "iopub.status.idle": "2020-12-17T02:16:31.977424Z",
     "shell.execute_reply": "2020-12-17T02:16:31.977775Z"
    }
   },
   "outputs": [],
   "source": [
    "# Part P0: Define REAL, set the number of ghost cells NGHOSTS (from NRPy+'s FD_CENTDERIVS_ORDER),\n",
    "#          and set the CFL_FACTOR (which can be overwritten at the command line)\n",
    "\n",
    "with open(os.path.join(Ccodesdir,\"GiRaFFE_NRPy_REAL__NGHOSTS__CFL_FACTOR.h\"), \"w\") as file:\n",
    "    file.write(\"\"\"\n",
    "// Part P0.a: Set the number of ghost cells, from NRPy+'s FD_CENTDERIVS_ORDER\n",
    "#define NGHOSTS \"\"\"+str(3)+\"\"\"\n",
    "#define NGHOSTS_A2B \"\"\"+str(2)+\"\"\"\n",
    "// Part P0.b: Set the numerical precision (REAL) to double, ensuring all floating point\n",
    "//            numbers are stored to at least ~16 significant digits\n",
    "#define REAL \"\"\"+REAL+\"\"\"\n",
    "// Part P0.c: Set the CFL Factor. Can be overwritten at command line.\n",
    "REAL CFL_FACTOR = \"\"\"+str(default_CFL_FACTOR)+\";\")"
   ]
  },
  {
   "cell_type": "code",
   "execution_count": 9,
   "metadata": {
    "execution": {
     "iopub.execute_input": "2020-12-17T02:16:31.982288Z",
     "iopub.status.busy": "2020-12-17T02:16:31.981766Z",
     "iopub.status.idle": "2020-12-17T02:16:31.983924Z",
     "shell.execute_reply": "2020-12-17T02:16:31.984320Z"
    }
   },
   "outputs": [
    {
     "name": "stdout",
     "output_type": "stream",
     "text": [
      "Writing GiRaFFE_staggered_standalone_Ccodes//GiRaFFE_NRPy_standalone.c\n"
     ]
    }
   ],
   "source": [
    "%%writefile $Ccodesdir/GiRaFFE_NRPy_standalone.c\n",
    "// Step P0: Define REAL and NGHOSTS; and declare CFL_FACTOR. This header is generated in NRPy+.\n",
    "#include \"GiRaFFE_NRPy_REAL__NGHOSTS__CFL_FACTOR.h\"\n",
    "\n",
    "#include \"declare_Cparameters_struct.h\"\n",
    "\n",
    "const int NSKIP_1D_OUTPUT = 1;\n",
    "\n",
    "// Step P1: Import needed header files\n",
    "#include \"stdio.h\"\n",
    "#include \"stdlib.h\"\n",
    "#include \"math.h\"\n",
    "#include \"time.h\"\n",
    "#include \"stdint.h\" // Needed for Windows GCC 6.x compatibility\n",
    "#ifndef M_PI\n",
    "#define M_PI 3.141592653589793238462643383279502884L\n",
    "#endif\n",
    "#ifndef M_SQRT1_2\n",
    "#define M_SQRT1_2 0.707106781186547524400844362104849039L\n",
    "#endif\n",
    "\n",
    "// Step P2: Declare the IDX4S(gf,i,j,k) macro, which enables us to store 4-dimensions of\n",
    "//           data in a 1D array. In this case, consecutive values of \"i\"\n",
    "//           (all other indices held to a fixed value) are consecutive in memory, where\n",
    "//           consecutive values of \"j\" (fixing all other indices) are separated by\n",
    "//           Nxx_plus_2NGHOSTS0 elements in memory. Similarly, consecutive values of\n",
    "//           \"k\" are separated by Nxx_plus_2NGHOSTS0*Nxx_plus_2NGHOSTS1 in memory, etc.\n",
    "#define IDX4S(g,i,j,k) \\\n",
    "( (i) + Nxx_plus_2NGHOSTS0 * ( (j) + Nxx_plus_2NGHOSTS1 * ( (k) + Nxx_plus_2NGHOSTS2 * (g) ) ) )\n",
    "#define IDX4ptS(g,idx) ( (idx) + (Nxx_plus_2NGHOSTS0*Nxx_plus_2NGHOSTS1*Nxx_plus_2NGHOSTS2) * (g) )\n",
    "#define IDX3S(i,j,k) ( (i) + Nxx_plus_2NGHOSTS0 * ( (j) + Nxx_plus_2NGHOSTS1 * ( (k) ) ) )\n",
    "#define LOOP_REGION(i0min,i0max, i1min,i1max, i2min,i2max) \\\n",
    "  for(int i2=i2min;i2<i2max;i2++) for(int i1=i1min;i1<i1max;i1++) for(int i0=i0min;i0<i0max;i0++)\n",
    "#define LOOP_ALL_GFS_GPS(ii) _Pragma(\"omp parallel for\") \\\n",
    "  for(int (ii)=0;(ii)<Nxx_plus_2NGHOSTS_tot*NUM_EVOL_GFS;(ii)++)\n",
    "\n",
    "// Step P3: Set gridfunction macros\n",
    "#include \"boundary_conditions/gridfunction_defines.h\"\n",
    "\n",
    "// Step P4: Include the RHS, BC, and primitive recovery functions\n",
    "#include \"GiRaFFE_NRPy_Main_Driver.h\"\n",
    "\n",
    "// Step P5: Include the initial data functions\n",
    "#include \"set_initial_spacetime_metric_data.h\"\n",
    "#include \"initial_data.h\"\n",
    "// main() function:\n",
    "// Step 0: Read command-line input, set up grid structure, allocate memory for gridfunctions, set up coordinates\n",
    "// Step 1: Set up scalar wave initial data\n",
    "// Step 2: Evolve scalar wave initial data forward in time using Method of Lines with RK4 algorithm,\n",
    "//         applying quadratic extrapolation outer boundary conditions.\n",
    "// Step 3: Output relative error between numerical and exact solution.\n",
    "// Step 4: Free all allocated memory\n",
    "int main(int argc, const char *argv[]) {\n",
    "    paramstruct params;\n",
    "#include \"set_Cparameters_default.h\"\n",
    "    // Step 0a: Read command-line input, error out if nonconformant\n",
    "    if(argc != 4 || atoi(argv[1]) < NGHOSTS || atoi(argv[2]) < NGHOSTS || atoi(argv[3]) < NGHOSTS) {\n",
    "      printf(\"Error: Expected three command-line arguments: ./GiRaFFE_NRPy_standalone [Nx] [Ny] [Nz],\\n\");\n",
    "      printf(\"where Nx is the number of grid points in the x direction, and so forth.\\n\");\n",
    "      printf(\"Nx,Ny,Nz MUST BE larger than NGHOSTS (= %d)\\n\",NGHOSTS);\n",
    "      exit(1);\n",
    "    }\n",
    "    // Step 0c: Set free parameters, overwriting Cparameters defaults\n",
    "    //          by hand or with command-line input, as desired.\n",
    "#include \"free_parameters.h\"\n",
    "#include \"set_Cparameters-nopointer.h\"\n",
    "\n",
    "    //          ... and then set up the numerical grid structure in time:\n",
    "    const REAL t_final = 0.5;\n",
    "    const REAL CFL_FACTOR = 0.5; // Set the CFL Factor\n",
    "\n",
    "    // Step 0c: Allocate memory for gridfunctions\n",
    "    const int Nxx_plus_2NGHOSTS_tot = Nxx_plus_2NGHOSTS0*Nxx_plus_2NGHOSTS1*Nxx_plus_2NGHOSTS2;\n",
    "    // Step 0k: Allocate memory for gridfunctions\n",
    "#include \"MoLtimestepping/RK_Allocate_Memory.h\"\n",
    "    REAL *restrict auxevol_gfs = (REAL *)malloc(sizeof(REAL) * NUM_AUXEVOL_GFS * Nxx_plus_2NGHOSTS_tot);\n",
    "    REAL *evol_gfs_exact = (REAL *)malloc(sizeof(REAL) * NUM_EVOL_GFS * Nxx_plus_2NGHOSTS_tot);\n",
    "    REAL *auxevol_gfs_exact  = (REAL *)malloc(sizeof(REAL) * NUM_AUXEVOL_GFS * Nxx_plus_2NGHOSTS_tot);\n",
    "\n",
    "    // For debugging, it can be useful to set everything to NaN initially.\n",
    "    if(poison_grids) {\n",
    "        for(int ii=0;ii<NUM_EVOL_GFS * Nxx_plus_2NGHOSTS_tot;ii++) {\n",
    "            y_n_gfs[ii] = 1.0/0.0;\n",
    "            y_nplus1_running_total_gfs[ii] = 1.0/0.0;\n",
    "            //k_odd_gfs[ii] = 1.0/0.0;\n",
    "            //k_even_gfs[ii] = 1.0/0.0;\n",
    "            diagnostic_output_gfs[ii] = 1.0/0.0;\n",
    "            evol_gfs_exact[ii] = 1.0/0.0;\n",
    "        }\n",
    "        for(int ii=0;ii<NUM_AUXEVOL_GFS * Nxx_plus_2NGHOSTS_tot;ii++) {\n",
    "            auxevol_gfs[ii] = 1.0/0.0;\n",
    "            auxevol_gfs_exact[ii] = 1.0/0.0;\n",
    "        }\n",
    "    }\n",
    "\n",
    "    // Step 0d: Set up coordinates: Set dx, and then dt based on dx_min and CFL condition\n",
    "    // This is probably already defined above, but just in case...\n",
    "    #ifndef MIN\n",
    "    #define MIN(A, B) ( ((A) < (B)) ? (A) : (B) )\n",
    "    #endif\n",
    "    REAL dt = CFL_FACTOR * MIN(dxx0,MIN(dxx1,dxx2)); // CFL condition\n",
    "    int Nt = (int)(t_final / dt + 0.5); // The number of points in time.\n",
    "                                        //Add 0.5 to account for C rounding down integers.\n",
    "\n",
    "    // Step 0e: Set up cell-centered Cartesian coordinate grids\n",
    "    REAL *xx[3];\n",
    "    xx[0] = (REAL *)malloc(sizeof(REAL)*Nxx_plus_2NGHOSTS0);\n",
    "    xx[1] = (REAL *)malloc(sizeof(REAL)*Nxx_plus_2NGHOSTS1);\n",
    "    xx[2] = (REAL *)malloc(sizeof(REAL)*Nxx_plus_2NGHOSTS2);\n",
    "    for(int j=0;j<Nxx_plus_2NGHOSTS0;j++) xx[0][j] = xxmin[0] + (j-NGHOSTS+1)*dxx0;\n",
    "    for(int j=0;j<Nxx_plus_2NGHOSTS1;j++) xx[1][j] = xxmin[1] + (j-NGHOSTS+1)*dxx1;\n",
    "    for(int j=0;j<Nxx_plus_2NGHOSTS2;j++) xx[2][j] = xxmin[2] + (j-NGHOSTS+1)*dxx2;\n",
    "\n",
    "    // Step 1: Set up initial data to be exact solution at time=0:\n",
    "    REAL time = 0.0;\n",
    "    set_initial_spacetime_metric_data(&params,xx,auxevol_gfs);\n",
    "    initial_data(&params,xx,auxevol_gfs,y_n_gfs);\n",
    "\n",
    "    /*\n",
    "    // Code to perturb the initial data:\n",
    "    for(int ii=0;ii<NUM_EVOL_GFS * Nxx_plus_2NGHOSTS_tot;ii++) {\n",
    "        y_n_gfs[ii] += 1.0e-15;\n",
    "        y_nplus1_running_total_gfs[ii] += 1.0e-15;\n",
    "        //k_odd_gfs[ii] = 1.0/0.0;\n",
    "        //k_even_gfs[ii] = 1.0/0.0;\n",
    "        diagnostic_output_gfs[ii] += 1.0e-15;\n",
    "        evol_gfs_exact[ii] += 1.0e-15;\n",
    "    }\n",
    "    for(int ii=0;ii<NUM_AUXEVOL_GFS * Nxx_plus_2NGHOSTS_tot;ii++) {\n",
    "        auxevol_gfs[ii] += 1.0e-15;\n",
    "        auxevol_gfs_exact[ii] += 1.0e-15;\n",
    "    }\n",
    "    */\n",
    "\n",
    "    // Fill in  the remaining quantities\n",
    "    GiRaFFE_compute_B_and_Bstagger_from_A(&params,\n",
    "                                          auxevol_gfs+Nxx_plus_2NGHOSTS_tot*GAMMADD00GF,\n",
    "                                          auxevol_gfs+Nxx_plus_2NGHOSTS_tot*GAMMADD01GF,\n",
    "                                          auxevol_gfs+Nxx_plus_2NGHOSTS_tot*GAMMADD02GF,\n",
    "                                          auxevol_gfs+Nxx_plus_2NGHOSTS_tot*GAMMADD11GF,\n",
    "                                          auxevol_gfs+Nxx_plus_2NGHOSTS_tot*GAMMADD12GF,\n",
    "                                          auxevol_gfs+Nxx_plus_2NGHOSTS_tot*GAMMADD22GF,\n",
    "                                          auxevol_gfs+Nxx_plus_2NGHOSTS_tot*PSI6_TEMPGF, /* Temporary storage,overwritten */\n",
    "                                          y_n_gfs+Nxx_plus_2NGHOSTS_tot*AD0GF,\n",
    "                                          y_n_gfs+Nxx_plus_2NGHOSTS_tot*AD1GF,\n",
    "                                          y_n_gfs+Nxx_plus_2NGHOSTS_tot*AD2GF,\n",
    "                                          auxevol_gfs+Nxx_plus_2NGHOSTS_tot*BU0GF,\n",
    "                                          auxevol_gfs+Nxx_plus_2NGHOSTS_tot*BU1GF,\n",
    "                                          auxevol_gfs+Nxx_plus_2NGHOSTS_tot*BU2GF,\n",
    "                                          auxevol_gfs+Nxx_plus_2NGHOSTS_tot*BSTAGGERU0GF,\n",
    "                                          auxevol_gfs+Nxx_plus_2NGHOSTS_tot*BSTAGGERU1GF,\n",
    "                                          auxevol_gfs+Nxx_plus_2NGHOSTS_tot*BSTAGGERU2GF);\n",
    "    //override_BU_with_old_GiRaFFE(&params,auxevol_gfs,0);\n",
    "    GiRaFFE_NRPy_prims_to_cons(&params,auxevol_gfs,y_n_gfs);\n",
    "    // Extra stack, useful for debugging:\n",
    "    GiRaFFE_NRPy_cons_to_prims(&params,xx,auxevol_gfs,y_n_gfs);\n",
    "    //GiRaFFE_NRPy_prims_to_cons(&params,auxevol_gfs,y_n_gfs);\n",
    "    //GiRaFFE_NRPy_cons_to_prims(&params,xx,auxevol_gfs,y_n_gfs);\n",
    "    //GiRaFFE_NRPy_prims_to_cons(&params,auxevol_gfs,y_n_gfs);\n",
    "    //GiRaFFE_NRPy_cons_to_prims(&params,xx,auxevol_gfs,y_n_gfs);\n",
    "\n",
    "    for(int n=0;n<=Nt;n++) { // Main loop to progress forward in time.\n",
    "        // Step 1a: Set current time to correct value & compute exact solution\n",
    "        time = ((REAL)n)*dt;\n",
    "\n",
    "        /* Step 2: Validation: Output relative error between numerical and exact solution, */\n",
    "        if((n)%NSKIP_1D_OUTPUT ==0) {\n",
    "            // Step 2c: Output relative error between exact & numerical at center of grid.\n",
    "            const int i0mid=Nxx_plus_2NGHOSTS0/2;\n",
    "            const int i1mid=Nxx_plus_2NGHOSTS1/2;\n",
    "            const int i2mid=Nxx_plus_2NGHOSTS2/2;\n",
    "            char filename[100];\n",
    "            sprintf(filename,\"out%d-%08d.txt\",Nxx0,n);\n",
    "            FILE *out2D = fopen(filename, \"w\");\n",
    "            for(int i0=0;i0<Nxx_plus_2NGHOSTS0;i0++) {\n",
    "                const int idx = IDX3S(i0,i1mid,i2mid);\n",
    "                fprintf(out2D,\"%.16e %.16e %.16e %.16e %.16e %.16e %.16e %.16e %.16e %.16e %.16e %.16e %.16e %.16e %.16e %.16e\\n\",\n",
    "                        xx[0][i0],\n",
    "                        auxevol_gfs[IDX4ptS(BU0GF,idx)],auxevol_gfs[IDX4ptS(BU1GF,idx)],auxevol_gfs[IDX4ptS(BU2GF,idx)],\n",
    "                        y_n_gfs[IDX4ptS(AD0GF,idx)],y_n_gfs[IDX4ptS(AD1GF,idx)],y_n_gfs[IDX4ptS(AD2GF,idx)],\n",
    "                        y_n_gfs[IDX4ptS(STILDED0GF,idx)],y_n_gfs[IDX4ptS(STILDED1GF,idx)],y_n_gfs[IDX4ptS(STILDED2GF,idx)],\n",
    "                        auxevol_gfs[IDX4ptS(VALENCIAVU0GF,idx)],auxevol_gfs[IDX4ptS(VALENCIAVU1GF,idx)],auxevol_gfs[IDX4ptS(VALENCIAVU2GF,idx)],\n",
    "                        y_n_gfs[IDX4ptS(PSI6PHIGF,idx)],\n",
    "                         xx[1][i1mid], xx[2][i2mid]);\n",
    "            }\n",
    "            fclose(out2D);\n",
    "            // For convergence testing, we'll shift the grid x -> x-1 and output initial data again, giving the exact solution.\n",
    "            LOOP_REGION(0,Nxx_plus_2NGHOSTS0,0,1,0,1) {\n",
    "                xx[0][i0] += -time;\n",
    "            }\n",
    "            set_initial_spacetime_metric_data(&params,xx,auxevol_gfs_exact);\n",
    "            initial_data(&params,xx,auxevol_gfs_exact,evol_gfs_exact);\n",
    "            // Fill in  the remaining quantities\n",
    "            //driver_A_to_B(&params,evol_gfs_exact,auxevol_gfs_exact);\n",
    "            GiRaFFE_NRPy_prims_to_cons(&params,auxevol_gfs_exact,evol_gfs_exact);\n",
    "            // And now, we'll set the grid back to rights.\n",
    "            LOOP_REGION(0,Nxx_plus_2NGHOSTS0,0,1,0,1) {\n",
    "                xx[0][i0] -= -time;\n",
    "            }\n",
    "            sprintf(filename,\"out%d-%08d_exact.txt\",Nxx0,n);\n",
    "            FILE *out2D_exact = fopen(filename, \"w\");\n",
    "            for(int i0=0;i0<Nxx_plus_2NGHOSTS0;i0++) {\n",
    "                const int idx = IDX3S(i0,i1mid,i2mid);\n",
    "                fprintf(out2D_exact,\"%.16e %.16e %.16e %.16e %.16e %.16e %.16e %.16e %.16e %.16e %.16e %.16e %.16e %.16e\\n\",\n",
    "                        xx[0][i0],\n",
    "                        auxevol_gfs_exact[IDX4ptS(BU0GF,idx)],auxevol_gfs_exact[IDX4ptS(BU1GF,idx)],auxevol_gfs_exact[IDX4ptS(BU2GF,idx)],\n",
    "                        evol_gfs_exact[IDX4ptS(AD0GF,idx)],evol_gfs_exact[IDX4ptS(AD1GF,idx)],evol_gfs_exact[IDX4ptS(AD2GF,idx)],\n",
    "                        evol_gfs_exact[IDX4ptS(STILDED0GF,idx)],evol_gfs_exact[IDX4ptS(STILDED1GF,idx)],evol_gfs_exact[IDX4ptS(STILDED2GF,idx)],\n",
    "                        auxevol_gfs_exact[IDX4ptS(VALENCIAVU0GF,idx)],auxevol_gfs_exact[IDX4ptS(VALENCIAVU1GF,idx)],auxevol_gfs_exact[IDX4ptS(VALENCIAVU2GF,idx)],\n",
    "                        evol_gfs_exact[IDX4ptS(PSI6PHIGF,idx)]);\n",
    "            }\n",
    "            fclose(out2D_exact);\n",
    "\n",
    "        }\n",
    "\n",
    "        // Step 3.b: Step forward one timestep (t -> t+dt) in time using\n",
    "        //           chosen RK-like MoL timestepping algorithm\n",
    "#include \"MoLtimestepping/RK_MoL.h\"\n",
    "    } // End main loop to progress forward in time.\n",
    "\n",
    "    // Step 4: Free all allocated memory\n",
    "#include \"MoLtimestepping/RK_Free_Memory.h\"\n",
    "    free(auxevol_gfs);\n",
    "    free(auxevol_gfs_exact);\n",
    "    free(evol_gfs_exact);\n",
    "    for(int i=0;i<3;i++) free(xx[i]);\n",
    "    return 0;\n",
    "}"
   ]
  },
  {
   "cell_type": "code",
   "execution_count": 10,
   "metadata": {
    "execution": {
     "iopub.execute_input": "2020-12-17T02:16:31.989385Z",
     "iopub.status.busy": "2020-12-17T02:16:31.987380Z",
     "iopub.status.idle": "2020-12-17T02:16:34.645284Z",
     "shell.execute_reply": "2020-12-17T02:16:34.644813Z"
    }
   },
   "outputs": [
    {
     "name": "stdout",
     "output_type": "stream",
     "text": [
      "Compiling executable...\n",
      "(EXEC): Executing `gcc -O2 -g -fopenmp GiRaFFE_staggered_standalone_Ccodes/GiRaFFE_NRPy_standalone.c -o GiRaFFE_staggered_standalone_Ccodes/output/GiRaFFE_NRPy_standalone -lm`...\n",
      "(BENCH): Finished executing in 2.8143463134765625 seconds.\n",
      "Finished compilation.\n",
      "(EXEC): Executing `taskset -c 0,1,2,3,4,5 ./GiRaFFE_NRPy_standalone 149 9 9`...\n",
      "(BENCH): Finished executing in 6.624955415725708 seconds.\n"
     ]
    }
   ],
   "source": [
    "cmd.C_compile(os.path.join(Ccodesdir,\"GiRaFFE_NRPy_standalone.c\"),\n",
    "              os.path.join(Ccodesdir,\"output\",\"GiRaFFE_NRPy_standalone\"),compile_mode=\"safe\")\n",
    "# !gcc -g -O2 -fopenmp GiRaFFE_standalone_Ccodes/GiRaFFE_NRPy_standalone.c -o GiRaFFE_NRPy_standalone -lm\n",
    "\n",
    "# Change to output directory\n",
    "os.chdir(outdir)\n",
    "# Clean up existing output files\n",
    "cmd.delete_existing_files(\"out*.txt\")\n",
    "cmd.delete_existing_files(\"out*.png\")\n",
    "# cmd.Execute(os.path.join(Ccodesdir,\"output\",\"GiRaFFE_NRPy_standalone\"), \"640 16 16\", os.path.join(outdir,\"out640.txt\"))\n",
    "# !taskset -c 0-7 ./GiRaFFE_NRPy_standalone 119 7 7\n",
    "cmd.Execute(\"GiRaFFE_NRPy_standalone\", \"149 9 9\",\"out150.txt\")\n",
    "# cmd.Execute(\"GiRaFFE_NRPy_standalone\", \"1280, 32, 32\",\"out119.txt\")\n",
    "# cmd.Execute(\"GiRaFFE_NRPy_standalone\", \"119 119 119\",\"out119.txt\")\n",
    "# cmd.Execute(\"GiRaFFE_NRPy_standalone\", \"239 15 15\",\"out239.txt\")\n",
    "# !OMP_NUM_THREADS=1 valgrind --track-origins=yes -v ./GiRaFFE_NRPy_standalone 1280 32 32\n",
    "# Return to root directory\n",
    "os.chdir(os.path.join(\"../../\"))"
   ]
  },
  {
   "cell_type": "markdown",
   "metadata": {},
   "source": [
    "Now, we will load the data generated by the simulation and plot it in order to test for convergence. "
   ]
  },
  {
   "cell_type": "code",
   "execution_count": 11,
   "metadata": {
    "execution": {
     "iopub.execute_input": "2020-12-17T02:16:34.651753Z",
     "iopub.status.busy": "2020-12-17T02:16:34.651199Z",
     "iopub.status.idle": "2020-12-17T02:16:34.946103Z",
     "shell.execute_reply": "2020-12-17T02:16:34.945822Z"
    }
   },
   "outputs": [
    {
     "data": {
      "image/png": "[encoded data removed]",
      "text/plain": [
       "<Figure size 432x288 with 1 Axes>"
      ]
     },
     "metadata": {
      "needs_background": "light"
     },
     "output_type": "display_data"
    },
    {
     "data": {
      "image/png": "[encoded data removed]",
      "text/plain": [
       "<Figure size 432x288 with 1 Axes>"
      ]
     },
     "metadata": {
      "needs_background": "light"
     },
     "output_type": "display_data"
    }
   ],
   "source": [
    "import numpy as np\n",
    "import matplotlib.pyplot as plt\n",
    "\n",
    "#          0   1     2     3     4     5     6     7          8          9          10            11            12             13          14\n",
    "labels = [\"x\",\"BU0\",\"BU1\",\"BU2\",\"AD0\",\"AD1\",\"AD2\",\"StildeD0\",\"StildeD1\",\"StildeD2\",\"ValenciavU0\",\"ValenciavU1\",\"ValenciavU2\", \"psi6Phi\", \"time\"]\n",
    "Data_numer = np.loadtxt(os.path.join(Ccodesdir,\"output\",\"out149-00000000.txt\"))\n",
    "Data_exact = np.loadtxt(os.path.join(Ccodesdir,\"output\",\"out149-00000000_exact.txt\"))\n",
    "\n",
    "column = 8\n",
    "plt.figure()\n",
    "# # plt.plot(Data_exact[2:-2,0],np.log2(np.absolute((Data_numer[2:-2,column]-Data_exact[2:-2,column])/\\\n",
    "# #                                     (Data_num_2[2:-2:2,column]-Data_exa_2[2:-2:2,column]))),'.')\n",
    "plt.plot(Data_exact[:,0],Data_exact[:,column],'k-',label=\"Exact\")\n",
    "plt.scatter(Data_numer[:,0],Data_numer[:,column],s=4,label=\"Approximate\")\n",
    "# plt.xlim(-0.0,1.0)\n",
    "# # plt.ylim(-1.0,5.0)\n",
    "# # plt.ylim(-0.0005,0.0005)\n",
    "plt.xlabel(labels[0])\n",
    "plt.ylabel(labels[column])\n",
    "plt.title('NRPy+ GiRaFFE')\n",
    "plt.legend()\n",
    "plt.show()\n",
    "\n",
    "plt.plot(Data_exact[:,0],np.log10(np.abs((Data_exact[:,column]-Data_numer[:,column])/(Data_exact[:,column]))))\n",
    "plt.xlabel('x')\n",
    "plt.ylabel('Relative Error')\n",
    "plt.title('NRPy+ GiRaFFE')\n",
    "plt.show()\n",
    "# print(Data_numer[:,-2])"
   ]
  },
  {
   "cell_type": "code",
   "execution_count": 12,
   "metadata": {},
   "outputs": [
    {
     "data": {
      "image/png": "[encoded data removed]",
      "text/plain": [
       "<Figure size 432x288 with 1 Axes>"
      ]
     },
     "metadata": {
      "needs_background": "light"
     },
     "output_type": "display_data"
    },
    {
     "data": {
      "image/png": "[encoded data removed]",
      "text/plain": [
       "<Figure size 432x288 with 1 Axes>"
      ]
     },
     "metadata": {
      "needs_background": "light"
     },
     "output_type": "display_data"
    }
   ],
   "source": [
    "# ETK_data = np.loadtxt('/home/terrence/Projects/ETK/ET_2021_01/Cactus/exe/ABE-GiRaFFEfood_1D_FastWave-GFood/giraffe-grmhd_conservatives.x.asc')\n",
    "# # ETK_data = np.loadtxt('/home/terrence/Projects/ETK/ET_2021_01/Cactus/exe/ABE-GiRaFFEfood_1D_FastWave-GFood/giraffe-em_az.x.asc')\n",
    "# n = 0\n",
    "# start = n*155\n",
    "# stop = (n+1)*155\n",
    "# x = ETK_data[start:stop, 9]\n",
    "# y = ETK_data[start:stop, 13]\n",
    "\n",
    "# plt.scatter(x, y, s=1, label='ETK')\n",
    "# plt.scatter(Data_numer[:,0],Data_numer[:,column],s=1, label='NRPy')\n",
    "# plt.ylabel(labels[column])\n",
    "# plt.xlabel('x')\n",
    "# plt.title('NRPy+ vs ETK')\n",
    "# plt.legend()\n",
    "# plt.show()\n",
    "\n",
    "# E_rel_diff = np.log10(np.abs(0.5*(y-Data_numer[:,column])/(y+Data_numer[:,column])))\n",
    "# plt.plot(x,E_rel_diff)\n",
    "# plt.title(\"Relative Difference\")\n",
    "# plt.xlabel('x')\n",
    "# plt.ylabel('E_rel')\n",
    "# plt.show()"
   ]
  },
  {
   "cell_type": "code",
   "execution_count": 13,
   "metadata": {},
   "outputs": [
    {
     "data": {
      "image/png": "[encoded data removed]",
      "text/plain": [
       "<Figure size 432x288 with 1 Axes>"
      ]
     },
     "metadata": {
      "needs_background": "light"
     },
     "output_type": "display_data"
    },
    {
     "name": "stderr",
     "output_type": "stream",
     "text": [
      "<ipython-input-13-a45d00572e1d>:17: RuntimeWarning: divide by zero encountered in log10\n",
      "  E_rel_diff = np.log10(np.abs((y-Data_exact[:,column])/(Data_exact[:,column])))\n"
     ]
    },
    {
     "data": {
      "image/png": "[encoded data removed]",
      "text/plain": [
       "<Figure size 432x288 with 1 Axes>"
      ]
     },
     "metadata": {
      "needs_background": "light"
     },
     "output_type": "display_data"
    }
   ],
   "source": [
    "# ETK_data = np.loadtxt('/home/terrence/Projects/ETK/ET_2021_01/Cactus/exe/ABE-GiRaFFEfood_1D_FastWave-GFood/giraffe-grmhd_conservatives.x.asc')\n",
    "# # ETK_data = np.loadtxt('/home/terrence/Projects/ETK/ET_2021_01/Cactus/exe/ABE-GiRaFFEfood_1D_FastWave-GFood/giraffe-em_az.x.asc')\n",
    "# n = 0\n",
    "# start = n*155\n",
    "# stop = (n+1)*155\n",
    "# x = ETK_data[start:stop, 9]\n",
    "# y = ETK_data[start:stop, 13]\n",
    "\n",
    "# plt.scatter(x, y, s=1, label='ETK')\n",
    "# plt.plot(Data_exact[:,0],Data_exact[:,column],'k-', label='NRPy-Exact')\n",
    "# plt.ylabel(labels[column])\n",
    "# plt.xlabel('x')\n",
    "# plt.title('ETK vs NRPy-Exact')\n",
    "# plt.legend()\n",
    "# plt.show()\n",
    "\n",
    "# E_rel_diff = np.log10(np.abs((y-Data_exact[:,column])/(Data_exact[:,column])))\n",
    "# plt.plot(x,E_rel_diff)\n",
    "# plt.title(\"Relative Error\")\n",
    "# plt.xlabel('x')\n",
    "# plt.ylabel('E_rel')\n",
    "# plt.show()"
   ]
  },
  {
   "cell_type": "code",
   "execution_count": 14,
   "metadata": {},
   "outputs": [],
   "source": [
    "# for i in range(81):\n",
    "#     start = i*133\n",
    "#     stop = (i+1)*133\n",
    "#     x = ETK_data[start:stop, 9]\n",
    "#     y = ETK_data[start:stop, 13]\n",
    "#     plt.scatter(x,y, s=1)\n",
    "#     plt.show()"
   ]
  },
  {
   "cell_type": "code",
   "execution_count": 15,
   "metadata": {},
   "outputs": [
    {
     "name": "stderr",
     "output_type": "stream",
     "text": [
      "<ipython-input-15-3f75a13e81eb>:1: RuntimeWarning: divide by zero encountered in log10\n",
      "  plt.plot(ETK_data[-155:,9],np.log10(np.abs(ETK_data[-155:,9] - Data_numer[:,0])))\n"
     ]
    },
    {
     "data": {
      "image/png": "[encoded data removed]",
      "text/plain": [
       "<Figure size 432x288 with 1 Axes>"
      ]
     },
     "metadata": {
      "needs_background": "light"
     },
     "output_type": "display_data"
    }
   ],
   "source": [
    "# plt.plot(ETK_data[-155:,9],np.log10(np.abs(ETK_data[-155:,9] - Data_numer[:,0])))\n",
    "# plt.title('Difference between NRPy and ETK grids')\n",
    "# plt.xlabel('x')\n",
    "# plt.ylabel('Difference')\n",
    "# plt.show()"
   ]
  },
  {
   "cell_type": "markdown",
   "metadata": {},
   "source": [
    "This code will create an animation of the wave over time."
   ]
  },
  {
   "cell_type": "code",
   "execution_count": null,
   "metadata": {
    "execution": {
     "iopub.execute_input": "2020-12-17T02:16:34.959194Z",
     "iopub.status.busy": "2020-12-17T02:16:34.958929Z",
     "iopub.status.idle": "2020-12-17T02:16:38.462641Z",
     "shell.execute_reply": "2020-12-17T02:16:38.462137Z"
    }
   },
   "outputs": [],
   "source": [
    "# import matplotlib.pyplot as plt\n",
    "from matplotlib.pyplot import savefig\n",
    "from IPython.display import HTML\n",
    "import matplotlib.image as mgimg\n",
    "\n",
    "import glob\n",
    "import sys\n",
    "from matplotlib import animation\n",
    "\n",
    "cmd.delete_existing_files(\"out149-00*.png\")\n",
    "globby = glob.glob(os.path.join(Ccodesdir,'output','out149-00*.txt'))\n",
    "file_list = []\n",
    "for x in sorted(globby):\n",
    "    file_list.append(x)\n",
    "\n",
    "number_of_files = int(len(file_list)/2)\n",
    "\n",
    "for timestep in range(number_of_files):\n",
    "    fig = plt.figure()\n",
    "    numer_filename = file_list[2*timestep]\n",
    "    exact_filename = file_list[2*timestep+1]\n",
    "    Numer = np.loadtxt(numer_filename)\n",
    "    Exact = np.loadtxt(exact_filename)\n",
    "\n",
    "    plt.title(\"Fast Wave\")\n",
    "    plt.xlabel(\"x\")\n",
    "    plt.ylabel(labels[column])\n",
    "#     plt.xlim(-0.5,0.5)\n",
    "#     plt.ylim(1.0,1.7)\n",
    "\n",
    "    plt.scatter(Numer[3:-3,0],Numer[3:-3,column],s=1,label=\"Numerical\")\n",
    "    plt.plot(Exact[3:-3,0],Exact[3:-3,column],'k-',label=\"Exact\")\n",
    "    plt.legend()\n",
    "    savefig(numer_filename+\".png\",dpi=150)\n",
    "    plt.close(fig)\n",
    "    sys.stdout.write(\"%c[2K\" % 27)\n",
    "    sys.stdout.write(\"Processing file \"+numer_filename+\"\\r\")\n",
    "    sys.stdout.flush()"
   ]
  },
  {
   "cell_type": "code",
   "execution_count": null,
   "metadata": {
    "execution": {
     "iopub.execute_input": "2020-12-17T02:16:38.469644Z",
     "iopub.status.busy": "2020-12-17T02:16:38.469028Z",
     "iopub.status.idle": "2020-12-17T02:16:40.982852Z",
     "shell.execute_reply": "2020-12-17T02:16:40.982447Z"
    }
   },
   "outputs": [],
   "source": [
    "## VISUALIZATION ANIMATION, PART 2: Combine PNGs to generate movie ##\n",
    "# https://stackoverflow.com/questions/14908576/how-to-remove-frame-from-matplotlib-pyplot-figure-vs-matplotlib-figure-frame\n",
    "# https://stackoverflow.com/questions/23176161/animating-pngs-in-matplotlib-using-artistanimation\n",
    "# !rm -f GiRaFFE_NRPy-1D_tests.mp4\n",
    "cmd.delete_existing_files(\"GiRaFFE_NRPy-1D_tests.mp4\")\n",
    "\n",
    "fig = plt.figure(frameon=False)\n",
    "ax = fig.add_axes([0, 0, 1, 1])\n",
    "ax.axis('off')\n",
    "\n",
    "myimages = []\n",
    "\n",
    "for i in range(number_of_files):\n",
    "    img = mgimg.imread(file_list[2*i]+\".png\")\n",
    "    imgplot = plt.imshow(img)\n",
    "    myimages.append([imgplot])\n",
    "\n",
    "ani = animation.ArtistAnimation(fig, myimages, interval=100,  repeat_delay=1000)\n",
    "plt.close()\n",
    "ani.save('GiRaFFE_NRPy-1D_tests.mp4', fps=5,dpi=150)"
   ]
  },
  {
   "cell_type": "code",
   "execution_count": null,
   "metadata": {
    "execution": {
     "iopub.execute_input": "2020-12-17T02:16:40.987450Z",
     "iopub.status.busy": "2020-12-17T02:16:40.986855Z",
     "iopub.status.idle": "2020-12-17T02:16:40.988992Z",
     "shell.execute_reply": "2020-12-17T02:16:40.989419Z"
    }
   },
   "outputs": [],
   "source": [
    "%%HTML\n",
    "<video width=\"480\" height=\"360\" controls>\n",
    "  <source src=\"GiRaFFE_NRPy-1D_tests.mp4\" type=\"video/mp4\">\n",
    "</video>"
   ]
  },
  {
   "cell_type": "code",
   "execution_count": 17,
   "metadata": {
    "execution": {
     "iopub.execute_input": "2020-12-17T02:16:40.992437Z",
     "iopub.status.busy": "2020-12-17T02:16:40.991903Z",
     "iopub.status.idle": "2020-12-17T02:16:44.098639Z",
     "shell.execute_reply": "2020-12-17T02:16:44.098104Z"
    }
   },
   "outputs": [
    {
     "name": "stdout",
     "output_type": "stream",
     "text": [
      "Created Tutorial-Start_to_Finish-GiRaFFE_NRPy-1D_tests-\n",
      "    staggered_FastWave.tex, and compiled LaTeX file to PDF file Tutorial-\n",
      "    Start_to_Finish-GiRaFFE_NRPy-1D_tests-staggered_FastWave.pdf\n"
     ]
    }
   ],
   "source": [
    "import cmdline_helper as cmd    # NRPy+: Multi-platform Python command-line interface\n",
    "cmd.output_Jupyter_notebook_to_LaTeXed_PDF(\"Tutorial-Start_to_Finish-GiRaFFE_NRPy-1D_tests-staggered_FastWave\",location_of_template_file=os.path.join(\"..\"))"
   ]
  }
 ],
 "metadata": {
  "kernelspec": {
   "display_name": "Python 3",
   "language": "python",
   "name": "python3"
  },
  "language_info": {
   "codemirror_mode": {
    "name": "ipython",
    "version": 3
   },
   "file_extension": ".py",
   "mimetype": "text/x-python",
   "name": "python",
   "nbconvert_exporter": "python",
   "pygments_lexer": "ipython3",
   "version": "3.8.5"
  }
 },
 "nbformat": 4,
 "nbformat_minor": 2
}
