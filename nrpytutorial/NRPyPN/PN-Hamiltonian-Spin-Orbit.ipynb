{
 "cells": [
  {
   "cell_type": "markdown",
   "metadata": {},
   "source": [
    "<script async src=\"https://www.googletagmanager.com/gtag/js?id=UA-59152712-8\"></script>\n",
    "<script>\n",
    "  window.dataLayer = window.dataLayer || [];\n",
    "  function gtag(){dataLayer.push(arguments);}\n",
    "  gtag('js', new Date());\n",
    "\n",
    "  gtag('config', 'UA-59152712-8');\n",
    "</script>\n",
    "\n",
    "# $H_{\\rm SO}$, up to and including 3.5 post-Newtonian order\n",
    "\n",
    "## This notebook constructs the spin-orbit coupling terms in the Hamiltonian up to 3.5 post-Newtonian order\n",
    "\n",
    "\n",
    "**Notebook Status:** <font color='green'><b> Validated </b></font>\n",
    "\n",
    "**Validation Notes:** All expressions in this notebook were transcribed twice by hand on separate occasions, and expressions were corrected as needed to ensure consistency with published PN expressions. In addition, this tutorial notebook has been confirmed to be self-consistent with its corresponding NRPy+ module, as documented [below](#code_validation). **Additional validation tests may have been performed, but are as yet, undocumented.**\n",
    "\n",
    "## Author: Zach Etienne\n",
    "\n",
    "### This notebook exists as the following Python module:\n",
    "1. [PN_Hamiltonian_SO.py](../../edit/NRPyPN/PN_Hamiltonian_SO.py)\n",
    "\n",
    "### This notebook & corresponding Python module depend on the following NRPy+/NRPyPN Python modules:\n",
    "1. [indexedexp.py](../../edit/indexedexp.py): [**documentation+tutorial**](../Tutorial-Indexed_Expressions.ipynb)\n",
    "1. [NRPyPN_shortcuts.py](../../edit/NRPyPN/NRPyPN_shortcuts.py): [**documentation**](NRPyPN_shortcuts.ipynb)"
   ]
  },
  {
   "cell_type": "markdown",
   "metadata": {},
   "source": [
    "<a id='toc'></a>\n",
    "\n",
    "# Table of Contents\n",
    "$$\\label{toc}$$\n",
    "\n",
    "1. Part 1: [$H_{\\rm SO, 1.5PN}$](#onept5pn), as summarized in [Damour, Jaranowski, and Sch&#228;fer (2008)](https://arxiv.org/abs/0711.1048) (see references therein for sources)\n",
    "1. Part 2: [$H_{\\rm SO, 2.5PN}$](#twopt5pn), as derived by [Damour, Jaranowski, and Sch&#228;fer (2008)](https://arxiv.org/abs/0711.1048)\n",
    "1. Part 3: [$H_{\\rm SO, 3.5PN}$](#threept5pn), as derived in [Hartung and Steinhoff (2011)](https://arxiv.org/abs/1104.3079)\n",
    "1. Part 4: [Validation against second transcription and corresponding Python module](#code_validation)\n",
    "1. Part 5: [LaTeX PDF output](#latex_pdf_output): $\\LaTeX$ PDF Output"
   ]
  },
  {
   "cell_type": "markdown",
   "metadata": {},
   "source": [
    "<a id='onept5pn'></a>\n",
    "\n",
    "# Part 1: $H_{\\rm SO, 1.5PN}$, as summarized in [Damour, Jaranowski, and Sch&#228;fer (2008)](https://arxiv.org/abs/0711.1048) (see references therein for sources) \\[Back to [top](#toc)\\]\n",
    "$$\\label{onept5pn}$$ \n",
    "\n",
    "As described in the [nonspinning Hamiltonian notebook](PN-Hamiltonian-Nonspinning.ipynb), the basic physical system assumes two point particles of mass $m_1$ and $m_2$ with corresponding momentum vectors $\\mathbf{P}_1$ and $\\mathbf{P}_2$, and displacement vectors $\\mathbf{X}_1$ and $\\mathbf{X}_2$ with respect to the center of mass. Here we also consider the spin vectors of each point mass $\\mathbf{S}_1$ and $\\mathbf{S}_2$, respectively.\n",
    "\n",
    "[Damour, Jaranowski, and Sch&#228;fer (2008)](https://arxiv.org/abs/0711.1048) adopt the notation\n",
    "\n",
    "\\begin{align}\n",
    "\\mathbf{r}_{12} &= (\\mathbf{X}_1-\\mathbf{X}_2)\\\\\n",
    "r_{12} = r_{21} &= |\\mathbf{r}_{12}|\\\\\n",
    "\\mathbf{n}_{12} &= \\frac{\\mathbf{r}_{12}}{r_{12}},\n",
    "\\end{align}\n",
    "and when the numbers in subscripts are flipped, the particles are interchanged.\n",
    "\n",
    "The spin-orbit terms of the Hamiltonian up to and including 3.5 PN order are generally given by:\n",
    "\n",
    "$$\n",
    "H_{\\rm SO} = \\mathbf{\\Omega}_1 S^i_1 + \\mathbf{\\Omega}_2 S^i_2,\n",
    "$$\n",
    "where we need only define $\\mathbf{\\Omega}_1$ within a function, as $\\mathbf{\\Omega}_2$ is defined simply by interchanging $1\\leftrightarrow 2$ in the $\\mathbf{\\Omega}_1$ expression.\n",
    "\n",
    "At 1.5PN order (as summarized in [Damour, Jaranowski, and Sch&#228;fer (2008)](https://arxiv.org/abs/0711.1048), Eq 4.11a), we have\n",
    "\n",
    "$$\n",
    "\\mathbf{\\Omega}_{1,SO,1.5PN} = \\frac{1}{r_{12}^2}\\bigg( \\frac{3m_2}{2m_1}{\\mathbf{n}}_{12}\\times{\\mathbf{p}}_1 - 2 {\\mathbf{n}}_{12}\\times{\\mathbf{p}}_2 \\bigg),\n",
    "$$"
   ]
  },
  {
   "cell_type": "code",
   "execution_count": 1,
   "metadata": {
    "execution": {
     "iopub.execute_input": "2021-03-07T17:35:27.877647Z",
     "iopub.status.busy": "2021-03-07T17:35:27.876940Z",
     "iopub.status.idle": "2021-03-07T17:35:28.201809Z",
     "shell.execute_reply": "2021-03-07T17:35:28.202347Z"
    }
   },
   "outputs": [],
   "source": [
    "# Step 0: Add NRPy's directory to the path\n",
    "# https://stackoverflow.com/questions/16780014/import-file-from-parent-directory\n",
    "import os, sys  # Standard Python modules for multiplatform OS-level functions\n",
    "import indexedexpNRPyPN as ixp                    # NRPy+: Symbolic indexed expression (e.g., tensors, vectors, etc.) support\n",
    "from NRPyPN_shortcuts import div,dot,cross  # NRPyPN: shortcuts for e.g., vector operations\n",
    "\n",
    "# 1.5PN spin-orbit coupling term, from Eq. 4.11a of\n",
    "#    Damour, Jaranowski, and Schäfer (2008)\n",
    "#      https://arxiv.org/abs/0711.1048\n",
    "def f_H_SO_1p5PN(m1,m2, n12U,n21U, S1U, S2U, p1U,p2U, r12):\n",
    "    def f_Omega1(m1,m2, n12U, p1U,p2U, r12):\n",
    "        Omega1 = ixp.zerorank1()\n",
    "        for i in range(3):\n",
    "            Omega1[i] = (div(3,2)*m2/m1 * cross(n12U,p1U)[i] - 2*cross(n12U,p2U)[i])/r12**2\n",
    "        return Omega1\n",
    "    global H_SO_1p5PN\n",
    "    Omega1 = f_Omega1(m1,m2, n12U, p1U,p2U, r12)\n",
    "    Omega2 = f_Omega1(m2,m1, n21U, p2U,p1U, r12)\n",
    "    H_SO_1p5PN = dot(Omega1,S1U) + dot(Omega2,S2U)"
   ]
  },
  {
   "cell_type": "code",
   "execution_count": 2,
   "metadata": {
    "execution": {
     "iopub.execute_input": "2021-03-07T17:35:28.209857Z",
     "iopub.status.busy": "2021-03-07T17:35:28.209199Z",
     "iopub.status.idle": "2021-03-07T17:35:28.211324Z",
     "shell.execute_reply": "2021-03-07T17:35:28.211808Z"
    }
   },
   "outputs": [],
   "source": [
    "# Second version, used for validation purposes only.\n",
    "def f_H_SO_1p5PNv2(m1,m2, n12U,n21U, S1U, S2U, p1U,p2U, r12):\n",
    "    def f_Omega_SO_1p5PN(m1,m2, n12U, p1U,p2U, r12):\n",
    "        Omega1U = ixp.zerorank1()\n",
    "        for i in range(3):\n",
    "            Omega1U[i] = (div(3,2)*m2/m1 * cross(n12U,p1U)[i] - 2*cross(n12U,p2U)[i])/r12**2\n",
    "        return Omega1U\n",
    "\n",
    "    Omega1_1p5PNU = f_Omega_SO_1p5PN(m1,m2, n12U, p1U,p2U, r12)\n",
    "    Omega2_1p5PNU = f_Omega_SO_1p5PN(m2,m1, n21U, p2U,p1U, r12)\n",
    "    global H_SO_1p5PNv2\n",
    "    H_SO_1p5PNv2 = dot(Omega1_1p5PNU,S1U) + dot(Omega2_1p5PNU,S2U)"
   ]
  },
  {
   "cell_type": "markdown",
   "metadata": {},
   "source": [
    "<a id='twopt5pn'></a>\n",
    "\n",
    "# Part 2: $H_{\\rm SO, 2.5PN}$, as derived by [Damour, Jaranowski, and Sch&#228;fer (2008)](https://arxiv.org/abs/0711.1048) \\[Back to [top](#toc)\\]\n",
    "$$\\label{twopt5pn}$$ \n",
    "\n",
    "To reduce possibility of copying error, equations are taken directly from the arXiv LaTeX source code of Eq 4.11b in [Damour, Jaranowski, and Sch&#228;fer (2008)](https://arxiv.org/abs/0711.1048), and only mildly formatted to (1) improve presentation in Jupyter notebooks and (2) to ensure some degree of consistency in notation across different terms in other Hamiltonian notebooks:\n",
    "\n",
    "\\begin{align}\n",
    "\\mathbf{\\Omega}^{\\rm NLO}_{1} &= \\frac{G^2}{c^4r_{12}^3} \\Bigg(\n",
    "\\bigg(-\\frac{11}{2}m_2-5\\frac{m_2^2}{m_1}\\bigg){\\mathbf{n}}_{12}\\times{\\mathbf{p}}_1\n",
    "+ \\bigg(6m_1+\\frac{15}{2}m_2\\bigg){\\mathbf{n}}_{12}\\times{\\mathbf{p}}_2 \\Bigg)\\\\\n",
    "&\\quad\n",
    "+ \\frac{G}{c^4r_{12}^2} \\Bigg( \\bigg(\n",
    "- \\frac{5m_2{\\bf p}_1^2}{8m_1^3} - \\frac{3({\\mathbf{p}}_1\\cdot{\\mathbf{p}}_2)}{4m_1^2}\n",
    "+ \\frac{3{\\bf p}_2^2}{4m_1m_2}\n",
    "- \\frac{3(\\mathbf{n}_{12}\\cdot\\mathbf{p}_1)(\\mathbf{n}_{12}\\cdot\\mathbf{p}_2)}{4m_1^2} - \\frac{3(\\mathbf{n}_{12}\\cdot\\mathbf{p}_2)^2}{2m_1m_2} \\bigg){\\mathbf{n}}_{12}\\times{\\mathbf{p}}_1\n",
    "\\\\\n",
    "&\\quad\\quad\\quad\\quad + \\bigg(\\frac{({\\mathbf{p}}_1\\cdot{\\mathbf{p}}_2)}{m_1m_2}+\\frac{3(\\mathbf{n}_{12}\\cdot\\mathbf{p}_1)(\\mathbf{n}_{12}\\cdot\\mathbf{p}_2)}{m_1m_2}\\bigg){\\mathbf{n}}_{12}\\times{\\mathbf{p}}_2\n",
    "+ \\bigg( \\frac{3(\\mathbf{n}_{12}\\cdot\\mathbf{p}_1)}{4m_1^2} - \\frac{2(\\mathbf{n}_{12}\\cdot\\mathbf{p}_2)}{m_1m_2} \\bigg){\\mathbf{p}}_1\\times{\\mathbf{p}}_2\n",
    "\\Bigg).\n",
    "\\end{align}"
   ]
  },
  {
   "cell_type": "code",
   "execution_count": 3,
   "metadata": {
    "execution": {
     "iopub.execute_input": "2021-03-07T17:35:28.223098Z",
     "iopub.status.busy": "2021-03-07T17:35:28.222486Z",
     "iopub.status.idle": "2021-03-07T17:35:28.224568Z",
     "shell.execute_reply": "2021-03-07T17:35:28.225029Z"
    }
   },
   "outputs": [],
   "source": [
    "# 2.5PN spin-orbit coupling term, from Eq. 4.11b of\n",
    "#    Damour, Jaranowski, and Schäfer (2008)\n",
    "#      https://arxiv.org/abs/0711.1048\n",
    "def f_H_SO_2p5PN(m1,m2, n12U,n21U, S1U, S2U, p1U,p2U, r12):\n",
    "    def f_Omega_SO_2p5PN(m1,m2, n12U, p1U,p2U, r12):\n",
    "        Omega1 = ixp.zerorank1()\n",
    "        for i in range(3):\n",
    "            Omega1[i] = (+(+(-div(11,2)*m2-5*m2**2/m1)*cross(n12U,p1U)[i]\n",
    "                           +(6*m1 + div(15,2)*m2)     *cross(n12U,p2U)[i])/r12**3\n",
    "                         +(+(-div(5,8)*m2*dot(p1U,p1U)/m1**3\n",
    "                             -div(3,4)*dot(p1U,p2U)/m1**2\n",
    "                             +div(3,4)*dot(p2U,p2U)/(m1*m2)\n",
    "                             -div(3,4)*dot(n12U,p1U)*dot(n12U,p2U)/m1**2\n",
    "                             -div(3,2)*dot(n12U,p2U)**2/(m1*m2))*cross(n12U,p1U)[i]\n",
    "                           +(dot(p1U,p2U)/(m1*m2) + 3*dot(n12U,p1U)*dot(n12U,p2U)/(m1*m2))*cross(n12U,p2U)[i]\n",
    "                           +(div(3,4)*dot(n12U,p1U)/m1**2 - 2*dot(n12U,p2U)/(m1*m2))*cross(p1U,p2U)[i])/r12**2)\n",
    "        return Omega1\n",
    "\n",
    "    Omega1_2p5PNU = f_Omega_SO_2p5PN(m1,m2, n12U, p1U,p2U, r12)\n",
    "    Omega2_2p5PNU = f_Omega_SO_2p5PN(m2,m1, n21U, p2U,p1U, r12)\n",
    "\n",
    "    global H_SO_2p5PN\n",
    "    H_SO_2p5PN = dot(Omega1_2p5PNU,S1U) + dot(Omega2_2p5PNU,S2U)"
   ]
  },
  {
   "cell_type": "code",
   "execution_count": 4,
   "metadata": {
    "execution": {
     "iopub.execute_input": "2021-03-07T17:35:28.236577Z",
     "iopub.status.busy": "2021-03-07T17:35:28.235772Z",
     "iopub.status.idle": "2021-03-07T17:35:28.238750Z",
     "shell.execute_reply": "2021-03-07T17:35:28.238119Z"
    }
   },
   "outputs": [],
   "source": [
    "# Second version, used for validation purposes only.\n",
    "def f_H_SO_2p5PNv2(m1,m2, n12U,n21U, S1U, S2U, p1U,p2U, r12):\n",
    "    def f_Omega_SO_2p5PNv2(m1,m2, n12U, p1U,p2U, r12):\n",
    "        Omega1 = ixp.zerorank1()\n",
    "        n12_cross_p1 = cross(n12U,p1U)\n",
    "        n12_cross_p2 = cross(n12U,p2U)\n",
    "        for i in range(3):\n",
    "            Omega1[i] = ( (-div(11,2)*m2 - 5*m2**2/m1)*n12_cross_p1[i] +         # line 1\n",
    "                          (6*m1 + div(15,2)*m2)       *n12_cross_p2[i] ) / r12**3  # line 1\n",
    "            Omega1[i]+= (( -div(5,8)*m2*dot(p1U,p1U)/m1**3                          # line 2\n",
    "                           -div(3,4)*dot(p1U,p2U)/m1**2                             # line 2\n",
    "                           +div(3,4)*dot(p2U,p2U)/(m1*m2)                           # line 2\n",
    "                           -div(3,4)*dot(n12U,p1U)*dot(n12U,p2U)/m1**2              # line 2\n",
    "                           -div(3,2)*dot(n12U,p2U)**2/(m1*m2) )*n12_cross_p1[i] +   # line 2\n",
    "                          ( dot(p1U,p2U)/(m1*m2) + 3*dot(n12U,p1U)*dot(n12U,p2U)/(m1*m2) )*n12_cross_p2[i] +  # line 3\n",
    "                          (+div(3,4)*dot(n12U,p1U)/m1**2 - 2*dot(n12U,p2U)/(m1*m2) )*cross(p1U,p2U)[i] )/r12**2 # line 3\n",
    "        return Omega1\n",
    "\n",
    "\n",
    "    Omega1_2p5PNU = f_Omega_SO_2p5PNv2(m1,m2, n12U, p1U,p2U, r12)\n",
    "    Omega2_2p5PNU = f_Omega_SO_2p5PNv2(m2,m1, n21U, p2U,p1U, r12)\n",
    "    global H_SO_2p5PNv2\n",
    "    H_SO_2p5PNv2 = dot(Omega1_2p5PNU,S1U) + dot(Omega2_2p5PNU,S2U)"
   ]
  },
  {
   "cell_type": "markdown",
   "metadata": {},
   "source": [
    "<a id='threept5pn'></a>\n",
    "\n",
    "# Part 3: $H_{\\rm SO, 3.5PN}$, as derived in [Hartung and Steinhoff (2011)](https://arxiv.org/abs/1104.3079) \\[Back to [top](#toc)\\]\n",
    "$$\\label{threept5pn}$$ \n",
    "\n",
    "To reduce possibility of copying error, equations are taken directly from the arXiv LaTeX source code of Eq 5 in [Hartung and Steinhoff (2011)](https://arxiv.org/abs/1104.3079), and only mildly formatted to (1) improve presentation in Jupyter notebooks and (2) to ensure some degree of consistency in notation across different terms in other Hamiltonian notebooks:\n",
    "\n",
    "\\begin{align}\n",
    " H^{\\text{NNLO}}_{\\text{SO}} & = \\frac{1}{r_{12}^2} \\biggl[\n",
    "\t\\biggl(\n",
    "\t\t\\frac{7 m_2 (\\mathbf{P}_1^2)^2}{16 m_1^5} \n",
    "\t\t+ \\frac{9 (\\mathbf{n}_{12}\\cdot\\mathbf{P}_1)(\\mathbf{n}_{12}\\cdot\\mathbf{P}_2)\\mathbf{P}_1^2}{16 m_1^4} \n",
    "\t\t+ \\frac{3 \\mathbf{P}_1^2 (\\mathbf{n}_{12}\\cdot\\mathbf{P}_2)^2}{4 m_1^3 m_2}\\nonumber\\\\\n",
    "&\\quad\\quad\\quad\t\t+ \\frac{45 (\\mathbf{n}_{12}\\cdot\\mathbf{P}_1)(\\mathbf{n}_{12}\\cdot\\mathbf{P}_2)^3}{16 m_1^2 m_2^2}\n",
    "\t\t+ \\frac{9 \\mathbf{P}_1^2 (\\mathbf{P}_1\\cdot\\mathbf{P}_2)}{16 m_1^4}\n",
    "\t\t- \\frac{3 (\\mathbf{n}_{12}\\cdot\\mathbf{P}_2)^2 (\\mathbf{P}_1\\cdot\\mathbf{P}_2)}{16 m_1^2 m_2^2}\\nonumber\\\\\n",
    "&\\quad\\quad\\quad\t\t- \\frac{3 (\\mathbf{P}_1^2) (\\mathbf{P}_2^2)}{16 m_1^3 m_2}\n",
    "\t\t- \\frac{15 (\\mathbf{n}_{12}\\cdot\\mathbf{P}_1)(\\mathbf{n}_{12}\\cdot\\mathbf{P}_2) \\mathbf{P}_2^2}{16 m_1^2 m_2^2}\n",
    "\t\t+ \\frac{3 (\\mathbf{n}_{12}\\cdot\\mathbf{P}_2)^2 \\mathbf{P}_2^2}{4 m_1 m_2^3}\\nonumber\\\\\n",
    "&\\quad\\quad\\quad\t\t- \\frac{3 (\\mathbf{P}_1\\cdot\\mathbf{P}_2) \\mathbf{P}_2^2}{16 m_1^2 m_2^2}\n",
    "\t\t- \\frac{3 (\\mathbf{P}_2^2)^2}{16 m_1 m_2^3}\n",
    "\t\\biggr)((\\mathbf{n}_{12} \\times \\mathbf{P}_1)\\mathbf{S}_1)\\\\\n",
    "&\\quad\\quad\\quad\t+\\biggl(\n",
    "\t\t- \\frac{3 (\\mathbf{n}_{12}\\cdot\\mathbf{P}_1)(\\mathbf{n}_{12}\\cdot\\mathbf{P}_2)\\mathbf{P}_1^2}{2 m_1^3 m_2}\\nonumber\\\\\n",
    "&\\quad\\quad\\quad\t\t- \\frac{15 (\\mathbf{n}_{12}\\cdot\\mathbf{P}_1)^2(\\mathbf{n}_{12}\\cdot\\mathbf{P}_2)^2}{4 m_1^2 m_2^2}\n",
    "\t\t+ \\frac{3 \\mathbf{P}_1^2 (\\mathbf{n}_{12}\\cdot\\mathbf{P}_2)^2}{4 m_1^2 m_2^2}\n",
    "\t\t- \\frac{\\mathbf{P}_1^2 (\\mathbf{P}_1\\cdot\\mathbf{P}_2)}{2 m_1^3 m_2}\n",
    "\t\t+ \\frac{(\\mathbf{P}_1\\cdot\\mathbf{P}_2)^2}{2 m_1^2 m_2^2}\\nonumber\\\\\n",
    "&\\quad\\quad\\quad\t\t+ \\frac{3 (\\mathbf{n}_{12}\\cdot\\mathbf{P}_1)^2 \\mathbf{P}_2^2}{4 m_1^2 m_2^2}\n",
    "\t\t- \\frac{(\\mathbf{P}_1^2) (\\mathbf{P}_2^2)}{4 m_1^2 m_2^2}\n",
    "\t\t- \\frac{3 (\\mathbf{n}_{12}\\cdot\\mathbf{P}_1)(\\mathbf{n}_{12}\\cdot\\mathbf{P}_2)\\mathbf{P}_2^2}{2 m_1 m_2^3}\\nonumber\\\\\n",
    "&\\quad\\quad\\quad\t\t- \\frac{(\\mathbf{P}_1\\cdot\\mathbf{P}_2) \\mathbf{P}_2^2}{2 m_1 m_2^3}\n",
    "\t\\biggr)((\\mathbf{n}_{12} \\times \\mathbf{P}_2)\\mathbf{S}_1)\\\\\n",
    "&\\quad\\quad\\quad\t+\\biggl(\n",
    "\t\t- \\frac{9 (\\mathbf{n}_{12}\\cdot\\mathbf{P}_1) \\mathbf{P}_1^2}{16 m_1^4}\n",
    "\t\t+ \\frac{\\mathbf{P}_1^2 (\\mathbf{n}_{12}\\cdot\\mathbf{P}_2)}{m_1^3 m_2}\\nonumber\\\\\n",
    "&\\quad\\quad\\quad\t\t+ \\frac{27 (\\mathbf{n}_{12}\\cdot\\mathbf{P}_1)(\\mathbf{n}_{12}\\cdot\\mathbf{P}_2)^2}{16 m_1^2 m_2^2}\n",
    "\t\t- \\frac{(\\mathbf{n}_{12}\\cdot\\mathbf{P}_2)(\\mathbf{P}_1\\cdot\\mathbf{P}_2)}{8 m_1^2 m_2^2}\n",
    "\t\t-\\frac{5 (\\mathbf{n}_{12}\\cdot\\mathbf{P}_1) \\mathbf{P}_2^2}{16 m_1^2 m_2^2}\\nonumber\\\\\n",
    "&\\quad\\quad\\quad\t\t+ \\frac{(\\mathbf{n}_{12}\\cdot\\mathbf{P}_2)\\mathbf{P}_2^2}{m_1 m_2^3}\n",
    "\t\\biggr)((\\mathbf{P}_1 \\times \\mathbf{P}_2)\\mathbf{S}_1)\n",
    "\\biggr] \\nonumber\\\\\n",
    "&+ \\frac{1}{r_{12}^3} \\biggl[\n",
    "\t\\biggl(\n",
    "\t\t-\\frac{3 m_2 (\\mathbf{n}_{12}\\cdot\\mathbf{P}_1)^2}{2 m_1^2}\n",
    "\t\t+\\left(\n",
    "\t\t\t-\\frac{3 m_2}{2 m_1^2}\n",
    "\t\t\t+\\frac{27 m_2^2}{8 m_1^3}\n",
    "\t\t\\right) \\mathbf{P}_1^2\n",
    "\t\t+\\left(\n",
    "\t\t\t\\frac{177}{16 m_1}\n",
    "\t\t\t+\\frac{11}{m_2}\n",
    "\t\t\\right) (\\mathbf{n}_{12}\\cdot\\mathbf{P}_2)^2\\nonumber\\\\\n",
    "&\\quad\\quad\\quad\t\t+\\left(\n",
    "\t\t\t\\frac{11}{2 m_1}\n",
    "\t\t\t+\\frac{9 m_2}{2 m_1^2}\n",
    "\t\t\\right) (\\mathbf{n}_{12}\\cdot\\mathbf{P}_1) (\\mathbf{n}_{12}\\cdot\\mathbf{P}_2)\n",
    "\t\t+\\left(\n",
    "\t\t\t\\frac{23}{4 m_1}\n",
    "\t\t\t+\\frac{9 m_2}{2 m_1^2}\n",
    "\t\t\\right) (\\mathbf{P}_1\\cdot\\mathbf{P}_2)\\nonumber\\\\\n",
    "&\\quad\\quad\\quad\t\t-\\left(\n",
    "\t\t\t\\frac{159}{16 m_1}\n",
    "\t\t\t+\\frac{37}{8 m_2}\n",
    "\t\t\\right) \\mathbf{P}_2^2\n",
    "\t\\biggr)((\\mathbf{n}_{12} \\times \\mathbf{P}_1)\\mathbf{S}_1)\n",
    "\t+\\biggl(\n",
    "\t\t\\frac{4 (\\mathbf{n}_{12}\\cdot\\mathbf{P}_1)^2}{m_1}\n",
    "\t\t+\\frac{13 \\mathbf{P}_1^2}{2 m_1}\\nonumber\\\\\n",
    "&\\quad\\quad\\quad\t\t+\\frac{5 (\\mathbf{n}_{12}\\cdot\\mathbf{P}_2)^2}{m_2}\n",
    "\t\t+\\frac{53 \\mathbf{P}_2^2}{8 m_2}\n",
    "\t\t- \\left(\n",
    "\t\t\t\\frac{211}{8 m_1}\n",
    "\t\t\t+\\frac{22}{m_2}\n",
    "\t\t\\right) (\\mathbf{n}_{12}\\cdot\\mathbf{P}_1) (\\mathbf{n}_{12}\\cdot\\mathbf{P}_2)\\nonumber\\\\\n",
    "&\\quad\\quad\\quad\t\t-\\left(\n",
    "\t\t\t\\frac{47}{8 m_1}\n",
    "\t\t\t+\\frac{5}{m_2}\n",
    "\t\t\\right)(\\mathbf{P}_1\\cdot\\mathbf{P}_2)\n",
    "\t\\biggr)((\\mathbf{n}_{12} \\times \\mathbf{P}_2)\\mathbf{S}_1)\n",
    "\t+\\biggl(\n",
    "\t\t-\\left(\n",
    "\t\t\t\\frac{8}{m_1}\n",
    "\t\t\t+\\frac{9 m_2}{2 m_1^2}\n",
    "\t\t\\right)(\\mathbf{n}_{12}\\cdot\\mathbf{P}_1)\\nonumber\\\\\n",
    "&\\quad\\quad\\quad\t\t+\\left(\n",
    "\t\t\t\\frac{59}{4 m_1}\n",
    "\t\t\t+\\frac{27}{2 m_2}\n",
    "\t\t\\right)(\\mathbf{n}_{12}\\cdot\\mathbf{P}_2)\n",
    "\t\\biggr)((\\mathbf{P}_1 \\times \\mathbf{P}_2)\\mathbf{S}_1)\n",
    "\\biggr]\\nonumber\\\\\n",
    "&+\\frac{1}{r_{12}^4} \\biggl[\n",
    "\t\\left(\n",
    "\t\t\\frac{181 m_1 m_2}{16}\n",
    "\t\t+ \\frac{95 m_2^2}{4}\n",
    "\t\t+ \\frac{75 m_2^3}{8 m_1}\n",
    "\t\\right) ((\\mathbf{n}_{12} \\times \\mathbf{P}_1)\\mathbf{S}_1)\\nonumber\\\\\n",
    "&\\quad\\quad\\quad\t- \\left(\n",
    "\t\t\\frac{21 m_1^2}{2}\n",
    "\t\t+ \\frac{473 m_1 m_2}{16}\n",
    "\t\t+ \\frac{63 m_2^2}{4}\n",
    "\t\\right)((\\mathbf{n}_{12} \\times \\mathbf{P}_2)\\mathbf{S}_1)\n",
    "\\biggr]\n",
    " + (1\\leftrightarrow2)\\,.\n",
    "\\end{align}"
   ]
  },
  {
   "cell_type": "markdown",
   "metadata": {},
   "source": [
    "Let's split the above into more bite-sized pieces. First:\n",
    "\n",
    "\\begin{align}\n",
    "H^a_{SO,2.5PN} &= \\frac{1}{r_{12}^2} \\biggl[\n",
    "\t\\biggl(\n",
    "\t\t\\frac{7 m_2 (\\mathbf{P}_1^2)^2}{16 m_1^5} \n",
    "\t\t+ \\frac{9 (\\mathbf{n}_{12}\\cdot\\mathbf{P}_1)(\\mathbf{n}_{12}\\cdot\\mathbf{P}_2)\\mathbf{P}_1^2}{16 m_1^4} \n",
    "\t\t+ \\frac{3 \\mathbf{P}_1^2 (\\mathbf{n}_{12}\\cdot\\mathbf{P}_2)^2}{4 m_1^3 m_2}\\nonumber\\\\\n",
    "&\\quad\\quad\\quad\t\t+ \\frac{45 (\\mathbf{n}_{12}\\cdot\\mathbf{P}_1)(\\mathbf{n}_{12}\\cdot\\mathbf{P}_2)^3}{16 m_1^2 m_2^2}\n",
    "\t\t+ \\frac{9 \\mathbf{P}_1^2 (\\mathbf{P}_1\\cdot\\mathbf{P}_2)}{16 m_1^4}\n",
    "\t\t- \\frac{3 (\\mathbf{n}_{12}\\cdot\\mathbf{P}_2)^2 (\\mathbf{P}_1\\cdot\\mathbf{P}_2)}{16 m_1^2 m_2^2}\\nonumber\\\\\n",
    "&\\quad\\quad\\quad\t\t- \\frac{3 (\\mathbf{P}_1^2) (\\mathbf{P}_2^2)}{16 m_1^3 m_2}\n",
    "\t\t- \\frac{15 (\\mathbf{n}_{12}\\cdot\\mathbf{P}_1)(\\mathbf{n}_{12}\\cdot\\mathbf{P}_2) \\mathbf{P}_2^2}{16 m_1^2 m_2^2}\n",
    "\t\t+ \\frac{3 (\\mathbf{n}_{12}\\cdot\\mathbf{P}_2)^2 \\mathbf{P}_2^2}{4 m_1 m_2^3}\\nonumber\\\\\n",
    "&\\quad\\quad\\quad\t\t- \\frac{3 (\\mathbf{P}_1\\cdot\\mathbf{P}_2) \\mathbf{P}_2^2}{16 m_1^2 m_2^2}\n",
    "\t\t- \\frac{3 (\\mathbf{P}_2^2)^2}{16 m_1 m_2^3}\n",
    "\t\\biggr)((\\mathbf{n}_{12} \\times \\mathbf{P}_1)\\mathbf{S}_1)\\biggr]\n",
    "\\end{align}"
   ]
  },
  {
   "cell_type": "code",
   "execution_count": 5,
   "metadata": {
    "execution": {
     "iopub.execute_input": "2021-03-07T17:35:28.249793Z",
     "iopub.status.busy": "2021-03-07T17:35:28.248963Z",
     "iopub.status.idle": "2021-03-07T17:35:28.250885Z",
     "shell.execute_reply": "2021-03-07T17:35:28.251398Z"
    }
   },
   "outputs": [],
   "source": [
    "# 3.5PN spin-orbit coupling term, from Eq. 5 of\n",
    "#    Hartung and Steinhoff (2011)\n",
    "#   https://arxiv.org/abs/1104.3079\n",
    "\n",
    "# 3.5PN H_SO:  Omega_1, part 1:\n",
    "def HS2011_Omega_SO_3p5PN_pt1(m1,m2, n12U, p1U,p2U, r12):\n",
    "    Omega1 = ixp.zerorank1()\n",
    "    for i in range(3):\n",
    "        Omega1[i] = ((+7*m2*dot(p1U,p1U)**2/(16*m1**5)\n",
    "                      +9*dot(n12U,p1U)*dot(n12U,p2U)*dot(p1U,p1U)/(16*m1**4)\n",
    "                      +3*dot(p1U,p1U)*dot(n12U,p2U)**2/(4*m1**3*m2)\n",
    "                      +45*dot(n12U,p1U)*dot(n12U,p2U)**3/(16*m1**2*m2**2)\n",
    "                      +9*dot(p1U,p1U)*dot(p1U,p2U)/(16*m1**4)\n",
    "                      -3*dot(n12U,p2U)**2*dot(p1U,p2U)/(16*m1**2*m2**2)\n",
    "                      -3*dot(p1U,p1U)*dot(p2U,p2U)/(16*m1**3*m2)\n",
    "                      -15*dot(n12U,p1U)*dot(n12U,p2U)*dot(p2U,p2U)/(16*m1**2*m2**2)\n",
    "                      +3*dot(n12U,p2U)**2*dot(p2U,p2U)/(4*m1*m2**3)\n",
    "                      -3*dot(p1U,p2U)*dot(p2U,p2U)/(16*m1**2*m2**2)\n",
    "                      -3*dot(p2U,p2U)**2/(16*m1*m2**3))*cross(n12U,p1U)[i])/r12**2\n",
    "    return Omega1"
   ]
  },
  {
   "cell_type": "code",
   "execution_count": 6,
   "metadata": {
    "execution": {
     "iopub.execute_input": "2021-03-07T17:35:28.261965Z",
     "iopub.status.busy": "2021-03-07T17:35:28.261369Z",
     "iopub.status.idle": "2021-03-07T17:35:28.263635Z",
     "shell.execute_reply": "2021-03-07T17:35:28.264109Z"
    }
   },
   "outputs": [],
   "source": [
    "# Second version, used for validation purposes only.\n",
    "def HS2011_Omega_SO_3p5PN_pt1v2(m1,m2, n12U, p1U,p2U, q):\n",
    "    Omega1 = ixp.zerorank1()\n",
    "    for i in range(3):\n",
    "        Omega1[i] = ( (+div(7,16)*m2*dot(p1U,p1U)**2/m1**5\n",
    "                       +div(9,16)*dot(n12U,p1U)*dot(n12U,p2U)*dot(p1U,p1U)/m1**4\n",
    "                       +div(3,4) *dot(p1U,p1U)*dot(n12U,p2U)**2/(m1**3*m2)\n",
    "                       +div(45,16)*dot(n12U,p1U)*dot(n12U,p2U)**3/(m1**2*m2**2)\n",
    "                       +div(9,16)*dot(p1U,p1U)*dot(p1U,p2U)/m1**4\n",
    "                       -div(3,16)*dot(n12U,p2U)**2*dot(p1U,p2U)/(m1**2*m2**2)\n",
    "                       -div(3,16)*dot(p1U,p1U)*dot(p2U,p2U)/(m1**3*m2)\n",
    "                       -div(15,16)*dot(n12U,p1U)*dot(n12U,p2U)*dot(p2U,p2U)/(m1**2*m2**2)\n",
    "                       +div(3,4)*dot(n12U,p2U)**2*dot(p2U,p2U)/(m1*m2**3)\n",
    "                       -div(3,16)*dot(p1U,p2U)*dot(p2U,p2U)/(m1**2*m2**2)\n",
    "                       -div(3,16)*dot(p2U,p2U)**2/(m1*m2**3)) * cross(n12U,p1U)[i] )/q**2\n",
    "    return Omega1"
   ]
  },
  {
   "cell_type": "markdown",
   "metadata": {},
   "source": [
    "Next,\n",
    "\n",
    "\\begin{align}\n",
    "H^b_{SO,2.5PN} &= \\frac{1}{r_{12}^2} \\biggl[\n",
    "+\\biggl(\n",
    "- \\frac{3 (\\mathbf{n}_{12}\\cdot\\mathbf{P}_1)(\\mathbf{n}_{12}\\cdot\\mathbf{P}_2)\\mathbf{P}_1^2}{2 m_1^3 m_2}\\nonumber\\\\\n",
    "&\\quad\\quad\\quad\t\t- \\frac{15 (\\mathbf{n}_{12}\\cdot\\mathbf{P}_1)^2(\\mathbf{n}_{12}\\cdot\\mathbf{P}_2)^2}{4 m_1^2 m_2^2}\n",
    "+ \\frac{3 \\mathbf{P}_1^2 (\\mathbf{n}_{12}\\cdot\\mathbf{P}_2)^2}{4 m_1^2 m_2^2}\n",
    "- \\frac{\\mathbf{P}_1^2 (\\mathbf{P}_1\\cdot\\mathbf{P}_2)}{2 m_1^3 m_2}\n",
    "+ \\frac{(\\mathbf{P}_1\\cdot\\mathbf{P}_2)^2}{2 m_1^2 m_2^2}\\nonumber\\\\\n",
    "&\\quad\\quad\\quad\t\t+ \\frac{3 (\\mathbf{n}_{12}\\cdot\\mathbf{P}_1)^2 \\mathbf{P}_2^2}{4 m_1^2 m_2^2}\n",
    "- \\frac{(\\mathbf{P}_1^2) (\\mathbf{P}_2^2)}{4 m_1^2 m_2^2}\n",
    "- \\frac{3 (\\mathbf{n}_{12}\\cdot\\mathbf{P}_1)(\\mathbf{n}_{12}\\cdot\\mathbf{P}_2)\\mathbf{P}_2^2}{2 m_1 m_2^3}\\nonumber\\\\\n",
    "&\\quad\\quad\\quad\t\t- \\frac{(\\mathbf{P}_1\\cdot\\mathbf{P}_2) \\mathbf{P}_2^2}{2 m_1 m_2^3}\n",
    "\\biggr)((\\mathbf{n}_{12} \\times \\mathbf{P}_2)\\mathbf{S}_1)\n",
    "\\biggr]\n",
    "\\end{align}"
   ]
  },
  {
   "cell_type": "code",
   "execution_count": 7,
   "metadata": {
    "execution": {
     "iopub.execute_input": "2021-03-07T17:35:28.273523Z",
     "iopub.status.busy": "2021-03-07T17:35:28.272804Z",
     "iopub.status.idle": "2021-03-07T17:35:28.274987Z",
     "shell.execute_reply": "2021-03-07T17:35:28.275465Z"
    }
   },
   "outputs": [],
   "source": [
    "# 3.5PN H_SO:  Omega_1, part 2:\n",
    "def HS2011_Omega_SO_3p5PN_pt2(m1,m2, n12U, p1U,p2U, r12):\n",
    "    Omega1 = ixp.zerorank1()\n",
    "    for i in range(3):\n",
    "        Omega1[i] = (+(-3*dot(n12U,p1U)*dot(n12U,p2U)*dot(p1U,p1U)/(2*m1**3*m2)\n",
    "                       -15*dot(n12U,p1U)**2*dot(n12U,p2U)**2/(4*m1**2*m2**2)\n",
    "                       +3*dot(p1U,p1U)*dot(n12U,p2U)**2/(4*m1**2*m2**2)\n",
    "                       -dot(p1U,p1U)*dot(p1U,p2U)/(2*m1**3*m2)\n",
    "                       +dot(p1U,p2U)**2/(2*m1**2*m2**2)\n",
    "                       +3*dot(n12U,p1U)**2*dot(p2U,p2U)/(4*m1**2*m2**2)\n",
    "                       -dot(p1U,p1U)*dot(p2U,p2U)/(4*m1**2*m2**2)\n",
    "                       -3*dot(n12U,p1U)*dot(n12U,p2U)*dot(p2U,p2U)/(2*m1*m2**3)\n",
    "                       -dot(p1U,p2U)*dot(p2U,p2U)/(2*m1*m2**3))*cross(n12U,p2U)[i])/r12**2\n",
    "    return Omega1"
   ]
  },
  {
   "cell_type": "code",
   "execution_count": 8,
   "metadata": {
    "execution": {
     "iopub.execute_input": "2021-03-07T17:35:28.286808Z",
     "iopub.status.busy": "2021-03-07T17:35:28.285797Z",
     "iopub.status.idle": "2021-03-07T17:35:28.288713Z",
     "shell.execute_reply": "2021-03-07T17:35:28.288158Z"
    }
   },
   "outputs": [],
   "source": [
    "# Second version, used for validation purposes only.\n",
    "def HS2011_Omega_SO_3p5PN_pt2v2(m1,m2, n12U, p1U,p2U, q):\n",
    "    Omega1 = ixp.zerorank1()\n",
    "    for i in range(3):\n",
    "        Omega1[i] = ( (-div(3,2)*dot(n12U,p1U)*dot(n12U,p2U)*dot(p1U,p1U)/(m1**3*m2)\n",
    "                       -div(15,4)*dot(n12U,p1U)**2*dot(n12U,p2U)**2/(m1**2*m2**2)\n",
    "                       +div(3,4)*dot(p1U,p1U)*dot(n12U,p2U)**2/(m1**2*m2**2)\n",
    "                       -div(1,2)*dot(p1U,p1U)*dot(p1U,p2U)/(m1**3*m2)\n",
    "                       +div(1,2)*dot(p1U,p2U)**2/(m1**2*m2**2)\n",
    "                       +div(3,4)*dot(n12U,p1U)**2*dot(p2U,p2U)/(m1**2*m2**2)\n",
    "                       -div(1,4)*dot(p1U,p1U)*dot(p2U,p2U)/(m1**2*m2**2)\n",
    "                       -div(3,2)*dot(n12U,p1U)*dot(n12U,p2U)*dot(p2U,p2U)/(m1*m2**3)\n",
    "                       -div(1,2)*dot(p1U,p2U)*dot(p2U,p2U)/(m1*m2**3))*cross(n12U,p2U)[i] )/q**2\n",
    "    return Omega1"
   ]
  },
  {
   "cell_type": "markdown",
   "metadata": {},
   "source": [
    "Part 3:\n",
    "\n",
    "\\begin{align}\n",
    "H^c_{SO,2.5PN} &= \\frac{1}{r_{12}^2} \\biggl[\n",
    "+\\biggl(\n",
    "\t\t- \\frac{9 (\\mathbf{n}_{12}\\cdot\\mathbf{P}_1) \\mathbf{P}_1^2}{16 m_1^4}\n",
    "\t\t+ \\frac{\\mathbf{P}_1^2 (\\mathbf{n}_{12}\\cdot\\mathbf{P}_2)}{m_1^3 m_2}\\nonumber\\\\\n",
    "&\\quad\\quad\\quad\t\t+ \\frac{27 (\\mathbf{n}_{12}\\cdot\\mathbf{P}_1)(\\mathbf{n}_{12}\\cdot\\mathbf{P}_2)^2}{16 m_1^2 m_2^2}\n",
    "\t\t- \\frac{(\\mathbf{n}_{12}\\cdot\\mathbf{P}_2)(\\mathbf{P}_1\\cdot\\mathbf{P}_2)}{8 m_1^2 m_2^2}\n",
    "\t\t-\\frac{5 (\\mathbf{n}_{12}\\cdot\\mathbf{P}_1) \\mathbf{P}_2^2}{16 m_1^2 m_2^2}\\nonumber\\\\\n",
    "&\\quad\\quad\\quad\t\t+ \\frac{(\\mathbf{n}_{12}\\cdot\\mathbf{P}_2)\\mathbf{P}_2^2}{m_1 m_2^3}\n",
    "\t\\biggr)((\\mathbf{P}_1 \\times \\mathbf{P}_2)\\mathbf{S}_1)\n",
    "\\biggr]\n",
    "\\end{align}"
   ]
  },
  {
   "cell_type": "code",
   "execution_count": 9,
   "metadata": {
    "execution": {
     "iopub.execute_input": "2021-03-07T17:35:28.296590Z",
     "iopub.status.busy": "2021-03-07T17:35:28.295735Z",
     "iopub.status.idle": "2021-03-07T17:35:28.298391Z",
     "shell.execute_reply": "2021-03-07T17:35:28.297882Z"
    }
   },
   "outputs": [],
   "source": [
    "# 3.5PN H_SO:  Omega_1, part 3:\n",
    "def HS2011_Omega_SO_3p5PN_pt3(m1,m2, n12U, p1U,p2U, r12):\n",
    "    Omega1 = ixp.zerorank1()\n",
    "    for i in range(3):\n",
    "        Omega1[i] = (+(-9*dot(n12U,p1U)*dot(p1U,p1U)/(16*m1**4)\n",
    "                       +dot(p1U,p1U)*dot(n12U,p2U)/(m1**3*m2)\n",
    "                       +27*dot(n12U,p1U)*dot(n12U,p2U)**2/(16*m1**2*m2**2)\n",
    "                       -dot(n12U,p2U)*dot(p1U,p2U)/(8*m1**2*m2**2)\n",
    "                       -5*dot(n12U,p1U)*dot(p2U,p2U)/(16*m1**2*m2**2))*cross(p1U,p2U)[i])/r12**2\n",
    "    return Omega1"
   ]
  },
  {
   "cell_type": "code",
   "execution_count": 10,
   "metadata": {
    "execution": {
     "iopub.execute_input": "2021-03-07T17:35:28.306389Z",
     "iopub.status.busy": "2021-03-07T17:35:28.305739Z",
     "iopub.status.idle": "2021-03-07T17:35:28.307909Z",
     "shell.execute_reply": "2021-03-07T17:35:28.308385Z"
    }
   },
   "outputs": [],
   "source": [
    "# Second version, used for validation purposes only.\n",
    "def HS2011_Omega_SO_3p5PN_pt3v2(m1,m2, n12U, p1U,p2U, q):\n",
    "    Omega1 = ixp.zerorank1()\n",
    "    for i in range(3):\n",
    "        Omega1[i] = ( (-div(9,16)*dot(n12U,p1U)*dot(p1U,p1U)/m1**4\n",
    "                       +          dot(p1U,p1U)*dot(n12U,p2U)/(m1**3*m2)\n",
    "                       +div(27,16)*dot(n12U,p1U)*dot(n12U,p2U)**2/(m1**2*m2**2)\n",
    "                       -div(1,8)*dot(n12U,p2U)*dot(p1U,p2U)/(m1**2*m2**2)\n",
    "                       -div(5,16)*dot(n12U,p1U)*dot(p2U,p2U)/(m1**2*m2**2)\n",
    "                       +          dot(n12U,p2U)*dot(p2U,p2U)/(m1*m2**3))*cross(p1U,p2U)[i] )/q**2\n",
    "    return Omega1"
   ]
  },
  {
   "cell_type": "markdown",
   "metadata": {},
   "source": [
    "Part 4, the first $1/r_{12}^3$ term:\n",
    "\n",
    "\\begin{align}\n",
    "H^d_{SO,2.5PN} &= \\frac{1}{r_{12}^3} \\biggl[\n",
    "\t\\biggl(\n",
    "\t\t-\\frac{3 m_2 (\\mathbf{n}_{12}\\cdot\\mathbf{P}_1)^2}{2 m_1^2}\n",
    "\t\t+\\left(\n",
    "\t\t\t-\\frac{3 m_2}{2 m_1^2}\n",
    "\t\t\t+\\frac{27 m_2^2}{8 m_1^3}\n",
    "\t\t\\right) \\mathbf{P}_1^2\n",
    "\t\t+\\left(\n",
    "\t\t\t\\frac{177}{16 m_1}\n",
    "\t\t\t+\\frac{11}{m_2}\n",
    "\t\t\\right) (\\mathbf{n}_{12}\\cdot\\mathbf{P}_2)^2\\nonumber\\\\\n",
    "&\\quad\\quad\\quad\t\t+\\left(\n",
    "\t\t\t\\frac{11}{2 m_1}\n",
    "\t\t\t+\\frac{9 m_2}{2 m_1^2}\n",
    "\t\t\\right) (\\mathbf{n}_{12}\\cdot\\mathbf{P}_1) (\\mathbf{n}_{12}\\cdot\\mathbf{P}_2)\n",
    "\t\t+\\left(\n",
    "\t\t\t\\frac{23}{4 m_1}\n",
    "\t\t\t+\\frac{9 m_2}{2 m_1^2}\n",
    "\t\t\\right) (\\mathbf{P}_1\\cdot\\mathbf{P}_2)\\nonumber\\\\\n",
    "&\\quad\\quad\\quad\t\t-\\left(\n",
    "\t\t\t\\frac{159}{16 m_1}\n",
    "\t\t\t+\\frac{37}{8 m_2}\n",
    "\t\t\\right) \\mathbf{P}_2^2\n",
    "\t\\biggr)((\\mathbf{n}_{12} \\times \\mathbf{P}_1)\\mathbf{S}_1)\n",
    "\\biggr]\n",
    "\\end{align}"
   ]
  },
  {
   "cell_type": "code",
   "execution_count": 11,
   "metadata": {
    "execution": {
     "iopub.execute_input": "2021-03-07T17:35:28.317125Z",
     "iopub.status.busy": "2021-03-07T17:35:28.316446Z",
     "iopub.status.idle": "2021-03-07T17:35:28.318558Z",
     "shell.execute_reply": "2021-03-07T17:35:28.319049Z"
    }
   },
   "outputs": [],
   "source": [
    "# 3.5PN H_SO:  Omega_1, part 4:\n",
    "def HS2011_Omega_SO_3p5PN_pt4(m1,m2, n12U, p1U,p2U, r12):\n",
    "    Omega1 = ixp.zerorank1()\n",
    "    for i in range(3):\n",
    "        Omega1[i] = (+(-3*m2*dot(n12U,p1U)**2/(2*m1**2)\n",
    "                       +((-3*m2)/(2*m1**2) + 27*m2**2/(8*m1**3))*dot(p1U,p1U)\n",
    "                       +(177/(16*m1) + 11/m2)*dot(n12U,p2U)**2\n",
    "                       +(11/(2*m1) + 9*m2/(2*m1**2))*dot(n12U,p1U)*dot(n12U,p2U)\n",
    "                       +(23/(4*m1) + 9*m2/(2*m1**2))*dot(p1U,p2U)\n",
    "                       -(159/(16*m1) + 37/(8*m2))*dot(p2U,p2U))*cross(n12U,p1U)[i])/r12**3\n",
    "    return Omega1"
   ]
  },
  {
   "cell_type": "code",
   "execution_count": 12,
   "metadata": {
    "execution": {
     "iopub.execute_input": "2021-03-07T17:35:28.327378Z",
     "iopub.status.busy": "2021-03-07T17:35:28.326717Z",
     "iopub.status.idle": "2021-03-07T17:35:28.329306Z",
     "shell.execute_reply": "2021-03-07T17:35:28.328825Z"
    }
   },
   "outputs": [],
   "source": [
    "# Second version, used for validation purposes only.\n",
    "def HS2011_Omega_SO_3p5PN_pt4v2(m1,m2, n12U, p1U,p2U, q):\n",
    "    Omega1 = ixp.zerorank1()\n",
    "    for i in range(3):\n",
    "        Omega1[i] = ( (-div(3,2)*m2*dot(n12U,p1U)**2/m1**2\n",
    "                       +(-div(3,2)*m2/m1**2 + div(27,8)*m2**2/m1**3)*dot(p1U,p1U)\n",
    "                       +(+div(177,16)/m1 + 11/m2)*dot(n12U,p2U)**2\n",
    "                       +(+div(11,2)/m1 + div(9,2)*m2/m1**2)*dot(n12U,p1U)*dot(n12U,p2U)\n",
    "                       +(+div(23,4)/m1 + div(9,2)*m2/m1**2)*dot(p1U,p2U)\n",
    "                       -(+div(159,16)/m1 + div(37,8)/m2)*dot(p2U,p2U) )*cross(n12U,p1U)[i] )/q**3\n",
    "    return Omega1"
   ]
  },
  {
   "cell_type": "markdown",
   "metadata": {},
   "source": [
    "Part 5, the second $1/r_{12}^3$ term:\n",
    "\n",
    "\\begin{align}\n",
    "H^e_{SO,2.5PN} &= \\frac{1}{r_{12}^3} \\biggl[\n",
    "\t+\\biggl(\n",
    "\t\t\\frac{4 (\\mathbf{n}_{12}\\cdot\\mathbf{P}_1)^2}{m_1}\n",
    "\t\t+\\frac{13 \\mathbf{P}_1^2}{2 m_1}\\nonumber\\\\\n",
    "&\\quad\\quad\\quad\t\t+\\frac{5 (\\mathbf{n}_{12}\\cdot\\mathbf{P}_2)^2}{m_2}\n",
    "\t\t+\\frac{53 \\mathbf{P}_2^2}{8 m_2}\n",
    "\t\t- \\left(\n",
    "\t\t\t\\frac{211}{8 m_1}\n",
    "\t\t\t+\\frac{22}{m_2}\n",
    "\t\t\\right) (\\mathbf{n}_{12}\\cdot\\mathbf{P}_1) (\\mathbf{n}_{12}\\cdot\\mathbf{P}_2)\\nonumber\\\\\n",
    "&\\quad\\quad\\quad\t\t-\\left(\n",
    "\t\t\t\\frac{47}{8 m_1}\n",
    "\t\t\t+\\frac{5}{m_2}\n",
    "\t\t\\right)(\\mathbf{P}_1\\cdot\\mathbf{P}_2)\n",
    "\t\\biggr)((\\mathbf{n}_{12} \\times \\mathbf{P}_2)\\mathbf{S}_1)\n",
    "\\biggr]\n",
    "\\end{align}"
   ]
  },
  {
   "cell_type": "code",
   "execution_count": 13,
   "metadata": {
    "execution": {
     "iopub.execute_input": "2021-03-07T17:35:28.336899Z",
     "iopub.status.busy": "2021-03-07T17:35:28.336118Z",
     "iopub.status.idle": "2021-03-07T17:35:28.338127Z",
     "shell.execute_reply": "2021-03-07T17:35:28.338595Z"
    }
   },
   "outputs": [],
   "source": [
    "# 3.5PN H_SO:  Omega_1, part 5:\n",
    "def HS2011_Omega_SO_3p5PN_pt5(m1,m2, n12U, p1U,p2U, r12):\n",
    "    Omega1 = ixp.zerorank1()\n",
    "    for i in range(3):\n",
    "        Omega1[i] = (+(+4*dot(n12U,p1U)**2/m1\n",
    "                       +13*dot(p1U,p1U)/(2*m1)\n",
    "                       +5*dot(n12U,p2U)**2/m2\n",
    "                       +53*dot(p2U,p2U)/(8*m2)\n",
    "                       -(211/(8*m1) + 22/m2)*dot(n12U,p1U)*dot(n12U,p2U)\n",
    "                       -(47/(8*m1) + 5/m2)*dot(p1U,p2U))*cross(n12U,p2U)[i])/r12**3\n",
    "    return Omega1"
   ]
  },
  {
   "cell_type": "code",
   "execution_count": 14,
   "metadata": {
    "execution": {
     "iopub.execute_input": "2021-03-07T17:35:28.345721Z",
     "iopub.status.busy": "2021-03-07T17:35:28.345124Z",
     "iopub.status.idle": "2021-03-07T17:35:28.347321Z",
     "shell.execute_reply": "2021-03-07T17:35:28.347780Z"
    }
   },
   "outputs": [],
   "source": [
    "# Second version, used for validation purposes only.\n",
    "def HS2011_Omega_SO_3p5PN_pt5v2(m1,m2, n12U, p1U,p2U, q):\n",
    "    Omega1 = ixp.zerorank1()\n",
    "    for i in range(3):\n",
    "        Omega1[i] = ( (+4*dot(n12U,p1U)**2/m1\n",
    "                       +div(13,2)*dot(p1U,p1U)/m1\n",
    "                       +5*dot(n12U,p2U)**2/m2\n",
    "                       +div(53,8)*dot(p2U,p2U)/m2\n",
    "                       -(div(211,8)/m1+22/m2)*dot(n12U,p1U)*dot(n12U,p2U)\n",
    "                       -(div(47,8)/m1+5/m2)*dot(p1U,p2U)) * cross(n12U,p2U)[i] )/q**3\n",
    "    return Omega1"
   ]
  },
  {
   "cell_type": "markdown",
   "metadata": {},
   "source": [
    "Part 6, the third $1/r_{12}^3$ term:\n",
    "\n",
    "\\begin{align}\n",
    "H^f_{SO,2.5PN} &= \\frac{1}{r_{12}^3} \\biggl[\n",
    "\t+\\biggl(\n",
    "\t\t-\\left(\n",
    "\t\t\t\\frac{8}{m_1}\n",
    "\t\t\t+\\frac{9 m_2}{2 m_1^2}\n",
    "\t\t\\right)(\\mathbf{n}_{12}\\cdot\\mathbf{P}_1)\\nonumber\\\\\n",
    "&\\quad\\quad\\quad\t\t+\\left(\n",
    "\t\t\t\\frac{59}{4 m_1}\n",
    "\t\t\t+\\frac{27}{2 m_2}\n",
    "\t\t\\right)(\\mathbf{n}_{12}\\cdot\\mathbf{P}_2)\n",
    "\t\\biggr)((\\mathbf{P}_1 \\times \\mathbf{P}_2)\\mathbf{S}_1)\n",
    "\\biggr]\n",
    "\\end{align}"
   ]
  },
  {
   "cell_type": "code",
   "execution_count": 15,
   "metadata": {
    "execution": {
     "iopub.execute_input": "2021-03-07T17:35:28.353904Z",
     "iopub.status.busy": "2021-03-07T17:35:28.353139Z",
     "iopub.status.idle": "2021-03-07T17:35:28.355297Z",
     "shell.execute_reply": "2021-03-07T17:35:28.355903Z"
    }
   },
   "outputs": [],
   "source": [
    "# 3.5PN H_SO:  Omega_1, part 6:\n",
    "def HS2011_Omega_SO_3p5PN_pt6(m1,m2, n12U, p1U,p2U, r12):\n",
    "    Omega1 = ixp.zerorank1()\n",
    "    for i in range(3):\n",
    "        Omega1[i] = (+(-(8/m1 + 9*m2/(2*m1**2))*dot(n12U,p1U)\n",
    "                       +(59/(4*m1) + 27/(2*m2))*dot(n12U,p2U))*cross(p1U,p2U)[i])/r12**3\n",
    "    return Omega1"
   ]
  },
  {
   "cell_type": "code",
   "execution_count": 16,
   "metadata": {
    "execution": {
     "iopub.execute_input": "2021-03-07T17:35:28.362152Z",
     "iopub.status.busy": "2021-03-07T17:35:28.361489Z",
     "iopub.status.idle": "2021-03-07T17:35:28.363574Z",
     "shell.execute_reply": "2021-03-07T17:35:28.364127Z"
    }
   },
   "outputs": [],
   "source": [
    "# Second version, used for validation purposes only.\n",
    "def HS2011_Omega_SO_3p5PN_pt6v2(m1,m2, n12U, p1U,p2U, q):\n",
    "    Omega1 = ixp.zerorank1()\n",
    "    for i in range(3):\n",
    "        Omega1[i] = ( (-(        8/m1 + div(9,2)*m2/m1**2)*dot(n12U,p1U)\n",
    "                       +(div(59,4)/m1 + div(27,2)/m2)     *dot(n12U,p2U))*cross(p1U,p2U)[i] )/q**3\n",
    "    return Omega1"
   ]
  },
  {
   "cell_type": "markdown",
   "metadata": {},
   "source": [
    "Finally part 7, the $1/r_{12}^4$ term:\n",
    "\n",
    "\\begin{align}\n",
    "H^f_{SO,2.5PN} &= \\frac{1}{r_{12}^4} \\biggl[\n",
    "\t\\left(\n",
    "\t\t\\frac{181 m_1 m_2}{16}\n",
    "\t\t+ \\frac{95 m_2^2}{4}\n",
    "\t\t+ \\frac{75 m_2^3}{8 m_1}\n",
    "\t\\right) ((\\mathbf{n}_{12} \\times \\mathbf{P}_1)\\mathbf{S}_1)\\nonumber\\\\\n",
    "&\\quad\\quad\\quad\t- \\left(\n",
    "\t\t\\frac{21 m_1^2}{2}\n",
    "\t\t+ \\frac{473 m_1 m_2}{16}\n",
    "\t\t+ \\frac{63 m_2^2}{4}\n",
    "\t\\right)((\\mathbf{n}_{12} \\times \\mathbf{P}_2)\\mathbf{S}_1)\n",
    "\\biggr]\n",
    "\\end{align}"
   ]
  },
  {
   "cell_type": "code",
   "execution_count": 17,
   "metadata": {
    "execution": {
     "iopub.execute_input": "2021-03-07T17:35:28.370639Z",
     "iopub.status.busy": "2021-03-07T17:35:28.369988Z",
     "iopub.status.idle": "2021-03-07T17:35:28.371996Z",
     "shell.execute_reply": "2021-03-07T17:35:28.372488Z"
    }
   },
   "outputs": [],
   "source": [
    "# 3.5PN H_SO:  Omega_1, part 7:\n",
    "def HS2011_Omega_SO_3p5PN_pt7(m1,m2, n12U, p1U,p2U, r12):\n",
    "    Omega1 = ixp.zerorank1()\n",
    "    for i in range(3):\n",
    "        Omega1[i] = (+(181*m1*m2/16 + 95*m2**2/4 + 75*m2**3/(8*m1))*cross(n12U,p1U)[i]\n",
    "                     -(21*m1**2/2 + 473*m1*m2/16 + 63*m2**2/4)*cross(n12U,p2U)[i])/r12**4\n",
    "    return Omega1"
   ]
  },
  {
   "cell_type": "code",
   "execution_count": 18,
   "metadata": {
    "execution": {
     "iopub.execute_input": "2021-03-07T17:35:28.378860Z",
     "iopub.status.busy": "2021-03-07T17:35:28.378185Z",
     "iopub.status.idle": "2021-03-07T17:35:28.380252Z",
     "shell.execute_reply": "2021-03-07T17:35:28.380765Z"
    }
   },
   "outputs": [],
   "source": [
    "# Second version, used for validation purposes only.\n",
    "def HS2011_Omega_SO_3p5PN_pt7v2(m1,m2, n12U, p1U,p2U, q):\n",
    "    Omega1 = ixp.zerorank1()\n",
    "    for i in range(3):\n",
    "        Omega1[i] = ( +(div(181,16)*m1*m2 + div(95,4)*m2**2   + div(75,8)*m2**3/m1)*cross(n12U,p1U)[i]\n",
    "                      -(div(21,2)*m1**2   + div(473,16)*m1*m2 + div(63,4)*m2**2   )*cross(n12U,p2U)[i] )/q**4\n",
    "    return Omega1"
   ]
  },
  {
   "cell_type": "markdown",
   "metadata": {},
   "source": [
    "Now we put all the $\\Omega$ terms together:"
   ]
  },
  {
   "cell_type": "code",
   "execution_count": 19,
   "metadata": {
    "execution": {
     "iopub.execute_input": "2021-03-07T17:35:28.392058Z",
     "iopub.status.busy": "2021-03-07T17:35:28.391335Z",
     "iopub.status.idle": "2021-03-07T17:35:28.393496Z",
     "shell.execute_reply": "2021-03-07T17:35:28.393999Z"
    }
   },
   "outputs": [],
   "source": [
    "def f_H_SO_3p5PN(m1,m2, n12U,n21U, S1U, S2U, p1U,p2U, r12):\n",
    "    Omega1_3p5PNU = ixp.zerorank1()\n",
    "    Omega2_3p5PNU = ixp.zerorank1()\n",
    "    for i in range(3):\n",
    "        Omega1_3p5PNU[i] = HS2011_Omega_SO_3p5PN_pt1(m1,m2, n12U, p1U,p2U, r12)[i]\n",
    "        Omega1_3p5PNU[i]+= HS2011_Omega_SO_3p5PN_pt2(m1,m2, n12U, p1U,p2U, r12)[i]\n",
    "        Omega1_3p5PNU[i]+= HS2011_Omega_SO_3p5PN_pt3(m1,m2, n12U, p1U,p2U, r12)[i]\n",
    "        Omega1_3p5PNU[i]+= HS2011_Omega_SO_3p5PN_pt4(m1,m2, n12U, p1U,p2U, r12)[i]\n",
    "        Omega1_3p5PNU[i]+= HS2011_Omega_SO_3p5PN_pt5(m1,m2, n12U, p1U,p2U, r12)[i]\n",
    "        Omega1_3p5PNU[i]+= HS2011_Omega_SO_3p5PN_pt6(m1,m2, n12U, p1U,p2U, r12)[i]\n",
    "        Omega1_3p5PNU[i]+= HS2011_Omega_SO_3p5PN_pt7(m1,m2, n12U, p1U,p2U, r12)[i]\n",
    "\n",
    "        Omega2_3p5PNU[i] = HS2011_Omega_SO_3p5PN_pt1(m2,m1, n21U, p2U,p1U, r12)[i]\n",
    "        Omega2_3p5PNU[i]+= HS2011_Omega_SO_3p5PN_pt2(m2,m1, n21U, p2U,p1U, r12)[i]\n",
    "        Omega2_3p5PNU[i]+= HS2011_Omega_SO_3p5PN_pt3(m2,m1, n21U, p2U,p1U, r12)[i]\n",
    "        Omega2_3p5PNU[i]+= HS2011_Omega_SO_3p5PN_pt4(m2,m1, n21U, p2U,p1U, r12)[i]\n",
    "        Omega2_3p5PNU[i]+= HS2011_Omega_SO_3p5PN_pt5(m2,m1, n21U, p2U,p1U, r12)[i]\n",
    "        Omega2_3p5PNU[i]+= HS2011_Omega_SO_3p5PN_pt6(m2,m1, n21U, p2U,p1U, r12)[i]\n",
    "        Omega2_3p5PNU[i]+= HS2011_Omega_SO_3p5PN_pt7(m2,m1, n21U, p2U,p1U, r12)[i]\n",
    "\n",
    "    global H_SO_3p5PN\n",
    "    H_SO_3p5PN = dot(Omega1_3p5PNU,S1U) + dot(Omega2_3p5PNU,S2U)"
   ]
  },
  {
   "cell_type": "code",
   "execution_count": 20,
   "metadata": {
    "execution": {
     "iopub.execute_input": "2021-03-07T17:35:28.405145Z",
     "iopub.status.busy": "2021-03-07T17:35:28.404438Z",
     "iopub.status.idle": "2021-03-07T17:35:28.406514Z",
     "shell.execute_reply": "2021-03-07T17:35:28.407012Z"
    }
   },
   "outputs": [],
   "source": [
    "# For validation purposes only:\n",
    "def f_H_SO_3p5PNv2(m1,m2, n12U,n21U, S1U, S2U, p1U,p2U, r12):\n",
    "    Omega1_3p5PNU = ixp.zerorank1()\n",
    "    Omega2_3p5PNU = ixp.zerorank1()\n",
    "    for i in range(3):\n",
    "        Omega1_3p5PNU[i] = HS2011_Omega_SO_3p5PN_pt1v2(m1,m2, n12U, p1U,p2U, r12)[i]\n",
    "        Omega1_3p5PNU[i]+= HS2011_Omega_SO_3p5PN_pt2v2(m1,m2, n12U, p1U,p2U, r12)[i]\n",
    "        Omega1_3p5PNU[i]+= HS2011_Omega_SO_3p5PN_pt3v2(m1,m2, n12U, p1U,p2U, r12)[i]\n",
    "        Omega1_3p5PNU[i]+= HS2011_Omega_SO_3p5PN_pt4v2(m1,m2, n12U, p1U,p2U, r12)[i]\n",
    "        Omega1_3p5PNU[i]+= HS2011_Omega_SO_3p5PN_pt5v2(m1,m2, n12U, p1U,p2U, r12)[i]\n",
    "        Omega1_3p5PNU[i]+= HS2011_Omega_SO_3p5PN_pt6v2(m1,m2, n12U, p1U,p2U, r12)[i]\n",
    "        Omega1_3p5PNU[i]+= HS2011_Omega_SO_3p5PN_pt7v2(m1,m2, n12U, p1U,p2U, r12)[i]\n",
    "\n",
    "        Omega2_3p5PNU[i] = HS2011_Omega_SO_3p5PN_pt1v2(m2,m1, n21U, p2U,p1U, r12)[i]\n",
    "        Omega2_3p5PNU[i]+= HS2011_Omega_SO_3p5PN_pt2v2(m2,m1, n21U, p2U,p1U, r12)[i]\n",
    "        Omega2_3p5PNU[i]+= HS2011_Omega_SO_3p5PN_pt3v2(m2,m1, n21U, p2U,p1U, r12)[i]\n",
    "        Omega2_3p5PNU[i]+= HS2011_Omega_SO_3p5PN_pt4v2(m2,m1, n21U, p2U,p1U, r12)[i]\n",
    "        Omega2_3p5PNU[i]+= HS2011_Omega_SO_3p5PN_pt5v2(m2,m1, n21U, p2U,p1U, r12)[i]\n",
    "        Omega2_3p5PNU[i]+= HS2011_Omega_SO_3p5PN_pt6v2(m2,m1, n21U, p2U,p1U, r12)[i]\n",
    "        Omega2_3p5PNU[i]+= HS2011_Omega_SO_3p5PN_pt7v2(m2,m1, n21U, p2U,p1U, r12)[i]\n",
    "\n",
    "    global H_SO_3p5PNv2\n",
    "    H_SO_3p5PNv2 = dot(Omega1_3p5PNU,S1U) + dot(Omega2_3p5PNU,S2U)"
   ]
  },
  {
   "cell_type": "markdown",
   "metadata": {},
   "source": [
    "<a id='code_validation'></a>\n",
    "\n",
    "# Part 4: Validation against second transcription and corresponding Python module \\[Back to [top](#toc)\\]\n",
    "$$\\label{code_validation}$$ \n",
    "\n",
    "As a code validation check, we verify agreement between \n",
    "* the SymPy expressions transcribed from the cited published work on two separate occasions, and\n",
    "* the SymPy expressions generated in this notebook, and the corresponding Python module."
   ]
  },
  {
   "cell_type": "code",
   "execution_count": 21,
   "metadata": {
    "execution": {
     "iopub.execute_input": "2021-03-07T17:35:28.421280Z",
     "iopub.status.busy": "2021-03-07T17:35:28.420519Z",
     "iopub.status.idle": "2021-03-07T17:35:31.770719Z",
     "shell.execute_reply": "2021-03-07T17:35:31.770047Z"
    }
   },
   "outputs": [
    {
     "name": "stdout",
     "output_type": "stream",
     "text": [
      "ALL TESTS PASS\n"
     ]
    }
   ],
   "source": [
    "from NRPyPN_shortcuts import m1,m2, n12U,n21U, S1U, S2U, p1U,p2U, q # Import needed input variables\n",
    "import sympy as sp              # SymPy: The Python computer algebra package upon which NRPy+ depends\n",
    "\n",
    "f_H_SO_1p5PN(m1,m2, n12U,n21U, S1U, S2U, p1U,p2U, q)\n",
    "f_H_SO_2p5PN(m1,m2, n12U,n21U, S1U, S2U, p1U,p2U, q)\n",
    "f_H_SO_3p5PN(m1,m2, n12U,n21U, S1U, S2U, p1U,p2U, q)\n",
    "\n",
    "def error(varname):\n",
    "    print(\"ERROR: When comparing Python module & notebook, \"+varname+\" was found not to match.\")\n",
    "    sys.exit(1)\n",
    "\n",
    "# Validation against second transcription of the expressions:\n",
    "f_H_SO_1p5PNv2(m1,m2, n12U,n21U, S1U, S2U, p1U,p2U, q)\n",
    "f_H_SO_2p5PNv2(m1,m2, n12U,n21U, S1U, S2U, p1U,p2U, q)\n",
    "f_H_SO_3p5PNv2(m1,m2, n12U,n21U, S1U, S2U, p1U,p2U, q)\n",
    "if sp.simplify(H_SO_1p5PN   - H_SO_1p5PNv2)   != 0: error(\"H_SO_1p5PNv2\")\n",
    "if sp.simplify(H_SO_2p5PN   - H_SO_2p5PNv2)   != 0: error(\"H_SO_2p5PNv2\")\n",
    "if sp.simplify(H_SO_3p5PN   - H_SO_3p5PNv2)   != 0: error(\"H_SO_3p5PNv2\")\n",
    "\n",
    "# Validation against corresponding Python module:\n",
    "import PN_Hamiltonian_SO as HSO\n",
    "HSO.f_H_SO_1p5PN(m1,m2, n12U,n21U, S1U, S2U, p1U,p2U, q)\n",
    "HSO.f_H_SO_2p5PN(m1,m2, n12U,n21U, S1U, S2U, p1U,p2U, q)\n",
    "HSO.f_H_SO_3p5PN(m1,m2, n12U,n21U, S1U, S2U, p1U,p2U, q)\n",
    "\n",
    "if sp.simplify(H_SO_1p5PN - HSO.H_SO_1p5PN)   != 0: error(\"H_SO_1p5PN\")\n",
    "if sp.simplify(H_SO_2p5PN - HSO.H_SO_2p5PN)   != 0: error(\"H_SO_2p5PN\")\n",
    "if sp.simplify(H_SO_3p5PN - HSO.H_SO_3p5PN)   != 0: error(\"H_SO_3p5PN\")\n",
    "print(\"ALL TESTS PASS\")"
   ]
  },
  {
   "cell_type": "markdown",
   "metadata": {},
   "source": [
    "<a id='latex_pdf_output'></a>\n",
    "\n",
    "# Part 5: Output this notebook to $\\LaTeX$-formatted PDF file \\[Back to [top](#toc)\\]\n",
    "$$\\label{latex_pdf_output}$$\n",
    "\n",
    "The following code cell converts this Jupyter notebook into a proper, clickable $\\LaTeX$-formatted PDF file. After the cell is successfully run, the generated PDF may be found in the root NRPy+ tutorial directory, with filename\n",
    "[PN-Hamiltonian-Spin-Orbit.pdf](PN-Hamiltonian-Spin-Orbit.pdf) (Note that clicking on this link may not work; you may need to open the PDF file through another means.)"
   ]
  },
  {
   "cell_type": "code",
   "execution_count": 22,
   "metadata": {
    "execution": {
     "iopub.execute_input": "2021-03-07T17:35:31.775275Z",
     "iopub.status.busy": "2021-03-07T17:35:31.774528Z",
     "iopub.status.idle": "2021-03-07T17:35:36.071576Z",
     "shell.execute_reply": "2021-03-07T17:35:36.070540Z"
    }
   },
   "outputs": [
    {
     "name": "stdout",
     "output_type": "stream",
     "text": [
      "Created PN-Hamiltonian-Spin-Orbit.tex, and compiled LaTeX file to PDF file\n",
      "    PN-Hamiltonian-Spin-Orbit.pdf\n"
     ]
    }
   ],
   "source": [
    "import cmdline_helperNRPyPN as cmd    # NRPy+: Multi-platform Python command-line interface\n",
    "cmd.output_Jupyter_notebook_to_LaTeXed_PDF(\"PN-Hamiltonian-Spin-Orbit\",location_of_template_file=os.path.join(\"..\"))"
   ]
  }
 ],
 "metadata": {
  "kernelspec": {
   "display_name": "Python 3",
   "language": "python",
   "name": "python3"
  },
  "language_info": {
   "codemirror_mode": {
    "name": "ipython",
    "version": 3
   },
   "file_extension": ".py",
   "mimetype": "text/x-python",
   "name": "python",
   "nbconvert_exporter": "python",
   "pygments_lexer": "ipython3",
   "version": "3.8.2"
  }
 },
 "nbformat": 4,
 "nbformat_minor": 4
}
