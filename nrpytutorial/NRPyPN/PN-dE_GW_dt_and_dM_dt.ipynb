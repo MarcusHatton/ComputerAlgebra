{
 "cells": [
  {
   "cell_type": "markdown",
   "metadata": {},
   "source": [
    "<script async src=\"https://www.googletagmanager.com/gtag/js?id=UA-59152712-8\"></script>\n",
    "<script>\n",
    "  window.dataLayer = window.dataLayer || [];\n",
    "  function gtag(){dataLayer.push(arguments);}\n",
    "  gtag('js', new Date());\n",
    "\n",
    "  gtag('config', 'UA-59152712-8');\n",
    "</script>\n",
    "\n",
    "# $\\frac{dE_{\\rm GW}}{dt}$, the gravitational wave flux, and $\\frac{dM}{dt}$, the tidal energy injected into the black holes\n",
    "\n",
    "## This notebook constructs $\\frac{dE_{\\rm GW}}{dt}$, the post-Newtonian gravitational wave flux with all known terms up to 4PN order, and $\\frac{dM}{dt}$, the tidal energy injected into the black holes at 2.5PN\n",
    "\n",
    "The status of various terms in the PN expression for $\\frac{dE_{\\rm GW}}{dt}$ is discussed in [Ajith *et al* (2007)](https://arxiv.org/abs/0709.0093). [Ossokine *et al* (2015)](https://arxiv.org/abs/1502.01747) is the primary reference for this notebook, and their expression was corrected and extended using [Blanchet (2014)](https://link.springer.com/content/pdf/10.12942/lrr-2014-2.pdf) and [Ajith *et al* (2007)](https://arxiv.org/abs/0709.0093), respectively.\n",
    "\n",
    "**Notebook Status:** <font color='green'><b> Validated </b></font>\n",
    "\n",
    "**Validation Notes:** All expressions in this notebook were transcribed twice by hand on separate occasions, and expressions were corrected as needed to ensure consistency with published work. Published work was cross-validated and typo(s) in published work were corrected. In addition, this tutorial notebook has been confirmed to be self-consistent with its corresponding NRPy+ module, as documented [below](#code_validation). **Additional validation tests may have been performed, but are as yet, undocumented.**\n",
    "\n",
    "## Author: Zach Etienne\n",
    "\n",
    "### This notebook exists as the following Python module:\n",
    "1. [PN_dE_GW_dt_and_dM_dt.py](../../edit/NRPyPN/PN_dE_GW_dt_and_dM_dt.py)\n",
    "\n",
    "### This notebook & corresponding Python module depend on the following NRPy+/NRPyPN Python modules:\n",
    "1. [indexedexp.py](../../edit/indexedexp.py): [**documentation+tutorial**](../Tutorial-Indexed_Expressions.ipynb)\n",
    "1. [NRPyPN_shortcuts.py](../../edit/NRPyPN/NRPyPN_shortcuts.py): [**documentation**](NRPyPN_shortcuts.ipynb)"
   ]
  },
  {
   "cell_type": "markdown",
   "metadata": {},
   "source": [
    "<a id='toc'></a>\n",
    "\n",
    "# Table of Contents\n",
    "$$\\label{toc}$$\n",
    "\n",
    "1. Part 0: [Import needed Python modules](#imports)\n",
    "1. Part 1: [Define constants appearing within $\\frac{dE_{\\rm GW}}{dt}$ and $\\frac{dM}{dt}$ expressions](#constants)\n",
    "1. Part 2: [Construct $\\frac{dE_{\\rm GW}}{dt}$ and $\\frac{dM}{dt}$ expressions](#expressions)\n",
    "1. Part 3: [Validation against corresponding Python module](#code_validation)\n",
    "1. Part 4: [LaTeX PDF output](#latex_pdf_output): $\\LaTeX$ PDF Output"
   ]
  },
  {
   "cell_type": "markdown",
   "metadata": {},
   "source": [
    "<a id='imports'></a>\n",
    "\n",
    "# Part 0: Import needed Python modules \\[Back to [top](#toc)\\]\n",
    "$$\\label{imports}$$ "
   ]
  },
  {
   "cell_type": "code",
   "execution_count": 1,
   "metadata": {
    "execution": {
     "iopub.execute_input": "2021-03-07T17:35:10.569663Z",
     "iopub.status.busy": "2021-03-07T17:35:10.568682Z",
     "iopub.status.idle": "2021-03-07T17:35:10.895081Z",
     "shell.execute_reply": "2021-03-07T17:35:10.895580Z"
    }
   },
   "outputs": [],
   "source": [
    "# Step 0: Add NRPy's directory to the path\n",
    "# https://stackoverflow.com/questions/16780014/import-file-from-parent-directory\n",
    "import sympy as sp               # SymPy: The Python computer algebra package upon which NRPy+ depends\n",
    "import indexedexpNRPyPN as ixp         # NRPy+: Symbolic indexed expression (e.g., tensors, vectors, etc.) support\n",
    "from NRPyPN_shortcuts import div,dot,gamma_EulerMascheroni  # NRPyPN: shortcuts for e.g., vector operations"
   ]
  },
  {
   "cell_type": "markdown",
   "metadata": {},
   "source": [
    "<a id='constants'></a>\n",
    "\n",
    "# Part 1: Define constants appearing within $\\frac{dE_{\\rm GW}}{dt}$ expression \\[Back to [top](#toc)\\]\n",
    "$$\\label{constants}$$ \n",
    "\n",
    "This notebook uses three sources for the terms in $\\frac{dE_{\\rm GW}}{dt}$:\n",
    "* [Blanchet (2014)](https://link.springer.com/content/pdf/10.12942/lrr-2014-2.pdf), for the nonspinning terms\n",
    "* [Ossokine *et al* (2015)](https://arxiv.org/abs/1502.01747), including precessing spin terms\n",
    "* [Ajith *et al* (2007)](https://arxiv.org/abs/0709.0093), including tidal-heating injected energy into the black holes [Alvi (2001)](https://arxiv.org/abs/gr-qc/0107080)\n",
    "\n",
    "Constants appearing within $\\frac{dE_{\\rm GW}}{dt}$ expression in the above sources are as follows. Note that to reduce possibility of copying error, these equations are taken directly from Eqs A1-A13 of the LaTeX source code of [Ossokine *et al* (2015)](https://arxiv.org/abs/1502.01747), and only mildly formatted to (1) improve presentation in Jupyter notebooks and (2) to ensure some degree of consistency in notation across different NRPyPN notebooks:\n",
    "\n",
    "\\begin{equation}\n",
    "\\begin{split}\n",
    "m &= m_{1}+m_{2},\\\\\n",
    "\\nu &= \\frac{m_{1}m_{2}}{m^{2}},\\\\\n",
    "\\delta &= \\frac{m_{1}-m_{2}}{m},\\\\\n",
    "\\mathbf{S} &= \\mathbf{S}_{1}+\\mathbf{S}_{2},\\\\\n",
    "s_{l} &= \\frac{\\mathbf{S}\\cdot\\hat\\ell}{m^{2}},\\\\\n",
    "s_{n} &= \\frac{\\mathbf{S}\\cdot\\hat n}{m^{2}},\\\\\n",
    "\\mathbf{\\Sigma} &= \\frac{m}{m_2}\\mathbf{S}_{2} - \\frac{m}{m_1}\\mathbf{S}_{1},\n",
    "\\end{split}\n",
    "\\quad\\quad\\quad\n",
    "\\begin{split}\n",
    "\\sigma_{l} &=\\frac{\\mathbf\\Sigma\\cdot\\hat\\ell}{m^{2}}, \\\\\n",
    "\\sigma_{n} &= \\frac{\\mathbf\\Sigma\\cdot\\hat n}{m^{2}}, \\\\\n",
    "\\mathbf{\\chi}_{s} &= \\frac{1}{2}\\left(\\mathbf{\\chi}_{1}+\\mathbf{\\chi}_{2}\\right),\\\\\n",
    "\\mathbf{\\chi}_{a} &= \\frac{1}{2}\\left(\\mathbf{\\chi}_{1}-\\mathbf{\\chi}_{2}\\right),\\\\\n",
    "\\mathbf{S}_0 & = \\frac{m}{m_1}\\mathbf{S}_{1}+\\frac{m}{m_2}\\mathbf{S}_{2},\\\\\n",
    "\\mathbf{s}_0 & = \\frac{\\mathbf{S}_0}{m^2},\n",
    "\\end{split}\n",
    "\\end{equation}\n",
    "where $\\mathbf{\\ell}$ is the unit normal to the instantaneous orbital plane. Since the instantaneous orbital plane here is assumed to be the $xy$ plane, below we set $\\mathbf{\\ell}=\\{0,0,1 \\}$.\n",
    "\n",
    "In addition the [Euler-Mascheroni constant](https://en.wikipedia.org/wiki/Euler%E2%80%93Mascheroni_constant) $\\gamma_{E}$ is used in the expression for $\\frac{dE_{\\rm GW}}{dt}$."
   ]
  },
  {
   "cell_type": "code",
   "execution_count": 2,
   "metadata": {
    "execution": {
     "iopub.execute_input": "2021-03-07T17:35:10.906142Z",
     "iopub.status.busy": "2021-03-07T17:35:10.905407Z",
     "iopub.status.idle": "2021-03-07T17:35:10.907581Z",
     "shell.execute_reply": "2021-03-07T17:35:10.908087Z"
    }
   },
   "outputs": [],
   "source": [
    "# Constants given in Eqs A1-13 of https://arxiv.org/abs/1502.01747\n",
    "def dE_GW_dt_OBKPSS2015_consts(m1,m2, n12U, S1U,S2U):\n",
    "    # define scalars:\n",
    "    m  = (m1+m2)\n",
    "    nu = m1*m2/m**2\n",
    "    delta = (m1-m2)/m\n",
    "    # define vectors:\n",
    "    Stot = ixp.zerorank1()\n",
    "    Sigma= ixp.zerorank1()\n",
    "    l    = ixp.zerorank1()\n",
    "    l[2] = sp.sympify(1)\n",
    "    chi1U = ixp.zerorank1()\n",
    "    chi2U = ixp.zerorank1()\n",
    "    chi_s = ixp.zerorank1()\n",
    "    chi_a = ixp.zerorank1()\n",
    "    for i in range(3):\n",
    "        Stot[i] = S1U[i] + S2U[i]\n",
    "        Sigma[i] = (m1+m2)/m2*S2U[i] - (m1+m2)/m1*S1U[i]\n",
    "        chi1U[i] = S1U[i]/m1**2\n",
    "        chi2U[i] = S2U[i]/m2**2\n",
    "        chi_s[i] = div(1,2) * (chi1U[i] + chi2U[i])\n",
    "        chi_a[i] = div(1,2) * (chi1U[i] - chi2U[i])\n",
    "    # define scalars that depend on vectors\n",
    "    s_l = dot(Stot,l)   /m**2\n",
    "    s_n = dot(Stot,n12U)/m**2\n",
    "    sigma_l = dot(Sigma,l)/m**2\n",
    "    sigma_n = dot(Sigma,n12U)/m**2\n",
    "    return nu,delta,  l,chi_a,chi_s,  s_l,s_n,sigma_l,sigma_n"
   ]
  },
  {
   "cell_type": "markdown",
   "metadata": {},
   "source": [
    "<a id='expressions'></a>\n",
    "\n",
    "# Part 2: Construct $\\frac{dE_{\\rm GW}}{dt}$ and $\\frac{dM}{dt}$ expressions \\[Back to [top](#toc)\\]\n",
    "$$\\label{expressions}$$ \n",
    "\n",
    "As described in [Ossokine *et al* (2015)](https://arxiv.org/abs/1502.01747), the gravitational wave flux is given by\n",
    "\n",
    "$$\n",
    "  \\frac{dE}{dt} = -\\mathcal{F},\n",
    "$$\n",
    "where\n",
    "\n",
    "$$\n",
    "\\mathcal{F}(x) = \\frac{32}{5}\\nu^{2}x^{5}\\left(1+\\sum_{k=2} b_{k}x^{k/2}\\right),\n",
    "$$\n",
    "and (taking the following equations directly from Eqs A22-A28 of the LaTeX source code of [Ossokine *et al* (2015)](https://arxiv.org/abs/1502.01747), and only mildly formatted to (1) improve presentation in Jupyter notebooks and (2) to ensure some degree of consistency in notation across different NRPyPN notebooks):\n",
    "\n",
    "\\begin{eqnarray}\n",
    "b_{2} &=& -\\frac{1247}{336}-\\frac{35}{12}\\nu, \\\\\n",
    "b_{3} &=& 4\\pi - 4s_l - \\frac{5}{4}\\delta\\sigma_{l}, \\\\\n",
    "b_{4} &=& -\\frac{44711}{9072} + \\frac{9271}{504}\\nu + \\frac{65}{18}\\nu^{2}  + \\left(\\frac{287}{96}+\\frac{\\nu}{24}\\right)(\\mathbf{\\chi}_{s}\\cdot\\mathbf{\\ell})^{2}\\nonumber\\\\\n",
    "&&- \\left(\\frac{89}{96}+\\frac{7\\nu}{24}\\right)\\mathbf{\\chi}_{s}^{2} + \\left(\\frac{287}{96}-12\\nu\\right)(\\mathbf{\\chi}_{a}\\cdot\\mathbf{\\ell})^{2} + \\left(-\\frac{89}{96}+4\\nu\\right)\\mathbf{\\chi}_{a}^{2} + \\frac{287}{48}\\delta(\\mathbf{\\chi}_{s}\\cdot\\mathbf{\\ell})(\\mathbf{\\chi}_{a}\\cdot\\mathbf{\\ell}) - \\frac{89}{48}\\delta(\\mathbf{\\chi}_{s}\\cdot\\mathbf{\\chi}_{a}),\n",
    "\\\\\n",
    "b_{5} &=& -\\frac{8191}{672}\\pi - \\frac{9}{2}s_{l} - \\frac{13}{16}\\delta\\sigma_{l} + \\nu\\left[-\\frac{583}{24}\\pi + \\frac{272}{9}s_{l} + \\frac{43}{4}\\delta\\sigma_{l}\\right],\\\\\n",
    "b_{6} &=& \\frac{6643739519}{69854400} + \\frac{16}{3}\\pi^{2} - \\frac{1712}{105}\\gamma_{E} - \\frac{856}{105}\\log(16x)+\n",
    " \\left(\\frac{-134543}{7776}+\\frac{41}{48}\\pi^{2}\\right)\\nu -\n",
    " \\frac{94403}{3024}\\nu^{2}-\\frac{775}{324}\\nu^{3} \\nonumber\\\\\n",
    " && - 16\\pi s_{l} - \\frac{31\\pi}{6}\\delta\\sigma_{l},\\\\\n",
    " b_{7}&=& \\left(\\frac{476645}{6804} + \\frac{6172}{189}\\nu -\n",
    "   \\frac{2810}{27}\\nu^{2}\\right)s_{l} +\n",
    " \\left(\\frac{9535}{336}+\\frac{1849}{126}\\nu -\n",
    "   \\frac{1501}{36}\\nu^{2}\\right)\\delta\\sigma_{l} \\nonumber\\\\\n",
    "&&+  \\left(-\\frac{16285}{504} \\boxed{+} \\frac{214745}{1728}\\nu +\\frac{193385}{3024}\\nu^{2}\\right)\\pi,\\\\\n",
    " b_{8} &=& \\left(-\\frac{3485\\pi}{96} + \\frac{13879\\pi}{72}\\nu\\right)s_{l} + \\left(-\\frac{7163\\pi}{672} + \\frac{130583\\pi}{2016}\\nu\\right)\\delta\\sigma_l;\n",
    "\\end{eqnarray}\n",
    "notice the boxed term above, which contains a missing plus sign, as confirmed by comparing nonspinning terms to those found in [Blanchet (2014)](https://link.springer.com/content/pdf/10.12942/lrr-2014-2.pdf). Finally,\n",
    "\n",
    "$$\n",
    "x = (m\\Omega)^{2/3}.\n",
    "$$\n",
    "Finally, from Eq A.14 of [Ajith *et al* (2007)](https://arxiv.org/abs/0709.0093), we may include the time-changing mass of the black holes $\\frac{dM}{dt}$ due to injected energy from tidal heating [Alvi (2001)](https://arxiv.org/abs/gr-qc/0107080):\n",
    "\n",
    "$$\n",
    "b_{5,\\rm Mdot} = \\left\\{\n",
    "      -\\frac{1}{4}\\, \\Big[ (1 - 3\\nu) \\chi_{s} (1 + 3\\chi_{s}^{2}\n",
    "      + 9\\chi_{a}^{2}) + (1 - \\nu) \\delta \\chi_{a} (1 + 3\\chi_{a}^{2}\n",
    "      + 9\\chi_{s}^{2}) \\Big] \\right\\}~,\n",
    "$$\n",
    "where $\\chi_{s}=\\mathbf{\\chi_s}\\cdot\\mathbf{\\ell}$ and $\\chi_{a}=\\mathbf{\\chi_a}\\cdot\\mathbf{\\ell}$ (i.e., the components aligned with the orbital angular momentum)."
   ]
  },
  {
   "cell_type": "code",
   "execution_count": 3,
   "metadata": {
    "execution": {
     "iopub.execute_input": "2021-03-07T17:35:10.930407Z",
     "iopub.status.busy": "2021-03-07T17:35:10.929711Z",
     "iopub.status.idle": "2021-03-07T17:35:10.931948Z",
     "shell.execute_reply": "2021-03-07T17:35:10.932496Z"
    }
   },
   "outputs": [],
   "source": [
    "# Based on Eqs A22-28 of https://arxiv.org/abs/1502.01747, with\n",
    "#       Eq A.14 of https://arxiv.org/abs/0709.0093 for Mdot\n",
    "#       and correction on b[7] term by comparison with\n",
    "#  https://link.springer.com/content/pdf/10.12942/lrr-2014-2.pdf\n",
    "def f_dE_GW_dt_and_dM_dt(mOmega, m1,m2, n12U, S1U,S2U):\n",
    "    def f_compute_quantities(mOmega, m1,m2, n12U, S1U,S2U, which_quantity):\n",
    "        if not (which_quantity == \"dM_dt\" or\n",
    "                which_quantity == \"dE_GW_dt\" or\n",
    "                which_quantity == \"dE_GW_dt_plus_dM_dt\"):\n",
    "            print(\"which_quantity == \"+str(which_quantity)+\" not supported!\")\n",
    "            sys.exit(1)\n",
    "\n",
    "        nu,delta,  l,chi_a,chi_s,  s_l,s_n,sigma_l,sigma_n = dE_GW_dt_OBKPSS2015_consts(m1,m2, n12U, S1U,S2U)\n",
    "        x = (mOmega)**div(2,3)\n",
    "\n",
    "        # Compute b_5_Mdot:\n",
    "        b_5_Mdot = (-div(1,4)*(+(1-3*nu)*dot(chi_s,l)*(1+3*dot(chi_s,l)**2+9*dot(chi_a,l)**2)\n",
    "                            +(1-  nu)*delta*dot(chi_a,l)*(1+3*dot(chi_a,l)**2+9*dot(chi_s,l)**2)))\n",
    "        if which_quantity == \"dM_dt\":\n",
    "            return div(32,5)*nu**2*x**5*b_5_Mdot*x**div(5,2)\n",
    "\n",
    "        b = ixp.zerorank1(DIM=10)\n",
    "        b[2] = -div(1247,336) - div(35,12)*nu\n",
    "        b[3] = +4*sp.pi - 4*s_l - div(5,4)*delta*sigma_l\n",
    "        b[4] =(-div(44711,9072) + div(9271,504)*nu + div(65,18)*nu**2\n",
    "               +(+div(287,96) + div( 1,24)*nu)*dot(chi_s,l)**2\n",
    "               -(+div( 89,96) + div( 7,24)*nu)*dot(chi_s,chi_s)\n",
    "               +(+div(287,96) -         12*nu)*dot(chi_a,l)**2\n",
    "               +(-div( 89,96) +          4*nu)*dot(chi_a,chi_a)\n",
    "               +div(287,48)*delta*dot(chi_s,l)*dot(chi_a,l) - div(89,48)*delta*dot(chi_s,chi_a))\n",
    "        b[5] =(-div(8191,672)*sp.pi - div(9,2)*s_l - div(13,16)*delta*sigma_l\n",
    "               +nu*(-div(583,24)*sp.pi + div(272,9)*s_l + div(43,4)*delta*sigma_l))\n",
    "        if which_quantity == \"dE_GW_dt_plus_dM_dt\":\n",
    "            b[5]+= b_5_Mdot\n",
    "        b[6] =(+div(6643739519,69854400) + div(16,3)*sp.pi**2 - div(1712,105)*gamma_EulerMascheroni\n",
    "               -div(856,105)*sp.log(16*x) + (-div(134543,7776) + div(41,48)*sp.pi**2)*nu\n",
    "               -div(94403,3024)*nu**2 - div(775,324)*nu**3 - 16*sp.pi*s_l - div(31,6)*sp.pi*delta*sigma_l)\n",
    "        b[7] =(+(+div(476645,6804) + div(6172,189)*nu - div(2810,27)*nu**2)*s_l\n",
    "               +(+div(9535,336) + div(1849,126)*nu - div(1501,36)*nu**2)*delta*sigma_l\n",
    "               +(-div(16285,504) + div(214745,1728)*nu + div(193385,3024)*nu**2)*sp.pi)\n",
    "        b[8] =(+(-div(3485,96)*sp.pi + div(13879,72)*sp.pi*nu)*s_l\n",
    "               +(-div(7163,672)*sp.pi + div(130583,2016)*sp.pi*nu)*delta*sigma_l)\n",
    "        b_sum = sp.sympify(1)\n",
    "        for k in range(9):\n",
    "            b_sum += b[k]*x**div(k,2)\n",
    "        return div(32,5)*nu**2*x**5*b_sum\n",
    "\n",
    "    global dE_GW_dt_plus_dM_dt, dE_GW_dt, dM_dt\n",
    "    dE_GW_dt_plus_dM_dt = \\\n",
    "               f_compute_quantities(mOmega, m1,m2, n12U, S1U,S2U, \"dE_GW_dt_plus_dM_dt\")\n",
    "    dE_GW_dt = f_compute_quantities(mOmega, m1,m2, n12U, S1U,S2U, \"dE_GW_dt\")\n",
    "    dM_dt    = f_compute_quantities(mOmega, m1,m2, n12U, S1U,S2U, \"dM_dt\")"
   ]
  },
  {
   "cell_type": "markdown",
   "metadata": {},
   "source": [
    "## Part 2.b: Validation against another version transcribed on a separate occasion "
   ]
  },
  {
   "cell_type": "code",
   "execution_count": 4,
   "metadata": {
    "execution": {
     "iopub.execute_input": "2021-03-07T17:35:10.986299Z",
     "iopub.status.busy": "2021-03-07T17:35:10.985665Z",
     "iopub.status.idle": "2021-03-07T17:35:10.987948Z",
     "shell.execute_reply": "2021-03-07T17:35:10.988424Z"
    }
   },
   "outputs": [],
   "source": [
    "# Second version, used for validation purposes only.\n",
    "#   Eq A15 of https://arxiv.org/pdf/1502.01747.pdf\n",
    "#   Eq A.14 of https://arxiv.org/pdf/0709.0093.pdf for Mdot\n",
    "def f_dE_GW_dt_plus_dM_dt_v2(Omega, m1,m2, n12U, S1U,S2U):\n",
    "    m  = (m1+m2)\n",
    "    nu = m1*m2/m**2\n",
    "    delta = (m1-m2)/m\n",
    "    Stot = ixp.zerorank1()\n",
    "    Sigma= ixp.zerorank1()\n",
    "    l    = ixp.zerorank1()\n",
    "    l[2] = sp.sympify(1)\n",
    "    chi1U = ixp.zerorank1()\n",
    "    chi2U = ixp.zerorank1()\n",
    "    chi_s = ixp.zerorank1()\n",
    "    chi_a = ixp.zerorank1()\n",
    "    for i in range(3):\n",
    "        Stot[i] = S1U[i] + S2U[i]\n",
    "        Sigma[i] = (m1+m2)/m2*S2U[i] - (m1+m2)/m1*S1U[i]\n",
    "        chi1U[i] = S1U[i]/m1**2\n",
    "        chi2U[i] = S2U[i]/m2**2\n",
    "        chi_s[i] = div(1,2) * (chi1U[i] + chi2U[i])\n",
    "        chi_a[i] = div(1,2) * (chi1U[i] - chi2U[i])\n",
    "    s_l = dot(Stot,l)   /m**2\n",
    "    s_n = dot(Stot,n12U)/m**2\n",
    "    b_2 = -div(1247,336)-div(35,12)*nu\n",
    "    sigma_l = dot(Sigma,l)/m**2\n",
    "    sigma_n = dot(Sigma,n12U)/m**2\n",
    "\n",
    "    # We already multiply Omega by m=m1+m2\n",
    "    x = (Omega)**div(2,3)\n",
    "\n",
    "    b_0 = sp.sympify(1)\n",
    "    b_2 = -div(1247,336) - div(35,12)*nu\n",
    "    b_3 = 4*sp.pi - 4*s_l - div(5,4)*delta*sigma_l\n",
    "    b_4 = (-div(44711,9072) + div(9271,504)*nu + div(65,18)*nu**2\n",
    "           + (div(287,96) + nu/24)*dot(chi_s,l)**2\n",
    "           -(div(89,96)+7*nu/24)*dot(chi_s,chi_s) + (div(287,96)-12*nu)*dot(chi_a,l)**2\n",
    "           +(-div(89,96)+4*nu)*dot(chi_a,chi_a) + div(287,48)*delta*dot(chi_s,l)*dot(chi_a,l)\n",
    "           -div(89,48)*delta*dot(chi_s,chi_a))\n",
    "    b_5 = (-div(8191,672)*sp.pi - div(9,2)*s_l - div(13,16)*delta*sigma_l\n",
    "           +nu*(-div(583,24)*sp.pi + div(272,9)*s_l + div(43,4)*delta*sigma_l))\n",
    "    b_6 = (+div(6643739519,69854400) + div(16,3)*sp.pi**2 - div(1712,105)*gamma_EulerMascheroni\n",
    "           -div(856,105)*sp.log(16*x) + (-div(134543,7776)+div(41,48)*sp.pi**2)*nu\n",
    "           -div(94403,3024)*nu**2 - div(775,324)*nu**3 - 16*sp.pi*s_l - div(31,6)*sp.pi*delta*sigma_l)\n",
    "    b_7 = (+(+div(476645,6804)+div(6172,189)*nu-div(2810,27)*nu**2)*s_l\n",
    "           +(+div(9535,336)  + div(1849,126)   *nu - div(1501,36)    *nu**2)*delta*sigma_l\n",
    "           +(-div(16285,504) + div(214745,1728)*nu + div(193385,3024)*nu**2)*sp.pi)\n",
    "    b_8 = (+(-div(3485,96)*sp.pi + div(13879,72)*sp.pi*nu)*s_l\n",
    "           +(-div(7163,672)*sp.pi + div(130583,2016)*sp.pi*nu)*delta*sigma_l)\n",
    "\n",
    "    # Eq A.14 of https://arxiv.org/pdf/0709.0093.pdf for Mdot.\n",
    "    #   note that this expression only considers spin-aligned cases,\n",
    "    #   so we dot the chi's with the zhat direction.\n",
    "    b_5_Mdot = -div(1,4)*(+(1-3*nu)*dot(chi_s,l)*(1+3*dot(chi_s,l)**2+9*dot(chi_a,l)**2)\n",
    "                          +(1-  nu)*delta*dot(chi_a,l)*(1+3*dot(chi_a,l)**2+9*dot(chi_s,l)**2))\n",
    "    global dE_GW_dt_plus_dM_dtv2\n",
    "    dE_GW_dt_plus_dM_dtv2 = div(32,5)*nu**2*x**5*(+b_0\n",
    "                                                  +b_2*x**div(2,2)\n",
    "                                                  +b_3*x**div(3,2)\n",
    "                                                  +b_4*x**div(4,2)\n",
    "                                                  +(b_5+b_5_Mdot)*x**div(5,2)\n",
    "                                                  +b_6*x**div(6,2)\n",
    "                                                  +b_7*x**div(7,2)\n",
    "                                                  +b_8*x**div(8,2))"
   ]
  },
  {
   "cell_type": "markdown",
   "metadata": {},
   "source": [
    "<a id='code_validation'></a>\n",
    "\n",
    "# Part 3: Validation against corresponding Python module \\[Back to [top](#toc)\\]\n",
    "$$\\label{code_validation}$$ \n",
    "\n",
    "As a code validation check, we verify agreement between the SymPy expressions generated in this notebook, and the corresponding Python module."
   ]
  },
  {
   "cell_type": "code",
   "execution_count": 5,
   "metadata": {
    "execution": {
     "iopub.execute_input": "2021-03-07T17:35:10.996593Z",
     "iopub.status.busy": "2021-03-07T17:35:10.995962Z",
     "iopub.status.idle": "2021-03-07T17:35:13.929254Z",
     "shell.execute_reply": "2021-03-07T17:35:13.929787Z"
    }
   },
   "outputs": [
    {
     "name": "stdout",
     "output_type": "stream",
     "text": [
      "ALL TESTS PASS\n"
     ]
    }
   ],
   "source": [
    "from NRPyPN_shortcuts import m1,m2,n12U,S1U,S2U # NRPyPN: import needed input variables.\n",
    "\n",
    "Omega = sp.symbols('Omega',real=True)\n",
    "f_dE_GW_dt_and_dM_dt(Omega, m1,m2, n12U, S1U,S2U)\n",
    "\n",
    "def error(varname):\n",
    "    print(\"ERROR: When comparing Python module & notebook, \"+varname+\" was found not to match.\")\n",
    "    sys.exit(1)\n",
    "\n",
    "# Validation against second transcription of the expressions:\n",
    "f_dE_GW_dt_plus_dM_dt_v2(Omega, m1,m2, n12U, S1U,S2U)\n",
    "f_dE_GW_dt_and_dM_dt(Omega, m1,m2, n12U, S1U,S2U)\n",
    "\n",
    "if sp.simplify(dE_GW_dt_plus_dM_dt - dE_GW_dt_plus_dM_dtv2) != 0: error(\"dE_GW_dt_plus_dM_dtv2\")\n",
    "\n",
    "# Validation against corresponding Python module:\n",
    "import PN_dE_GW_dt_and_dM_dt as dEdt\n",
    "dEdt.f_dE_GW_dt_and_dM_dt(Omega, m1,m2, n12U, S1U,S2U)\n",
    "\n",
    "if sp.simplify(dE_GW_dt_plus_dM_dt - dEdt.dE_GW_dt_plus_dM_dt) != 0: error(\"dE_GW_dt_plus_dM_dt\")\n",
    "if sp.simplify(dE_GW_dt            - dEdt.dE_GW_dt)            != 0: error(\"dE_GW_dt\")\n",
    "if sp.simplify(dM_dt               - dEdt.dM_dt)               != 0: error(\"dM_dt\")\n",
    "\n",
    "# Finally, confirm that dE_GW_dt_plus_dM_dt = dE_GW_dt + dM_dt\n",
    "if sp.simplify(dE_GW_dt_plus_dM_dt - (dE_GW_dt + dM_dt)) != 0: error(\"dE_GW_dt + dM_dt\")\n",
    "\n",
    "print(\"ALL TESTS PASS\")"
   ]
  },
  {
   "cell_type": "markdown",
   "metadata": {},
   "source": [
    "<a id='latex_pdf_output'></a>\n",
    "\n",
    "# Part 4: Output this notebook to $\\LaTeX$-formatted PDF file \\[Back to [top](#toc)\\]\n",
    "$$\\label{latex_pdf_output}$$\n",
    "\n",
    "The following code cell converts this Jupyter notebook into a proper, clickable $\\LaTeX$-formatted PDF file. After the cell is successfully run, the generated PDF may be found in the root NRPy+ tutorial directory, with filename\n",
    "[PN-dE_GW_dt_and_dM_dt.pdf](PN-dE_GW_dt_and_dM_dt.pdf) (Note that clicking on this link may not work; you may need to open the PDF file through another means.)"
   ]
  },
  {
   "cell_type": "code",
   "execution_count": 6,
   "metadata": {
    "execution": {
     "iopub.execute_input": "2021-03-07T17:35:13.934884Z",
     "iopub.status.busy": "2021-03-07T17:35:13.934158Z",
     "iopub.status.idle": "2021-03-07T17:35:17.426590Z",
     "shell.execute_reply": "2021-03-07T17:35:17.425949Z"
    }
   },
   "outputs": [
    {
     "name": "stdout",
     "output_type": "stream",
     "text": [
      "Created PN-dE_GW_dt_and_dM_dt.tex, and compiled LaTeX file to PDF file PN-\n",
      "    dE_GW_dt_and_dM_dt.pdf\n"
     ]
    }
   ],
   "source": [
    "import os,sys                    # Standard Python modules for multiplatform OS-level functions\n",
    "import cmdline_helperNRPyPN as cmd    # NRPy+: Multi-platform Python command-line interface\n",
    "cmd.output_Jupyter_notebook_to_LaTeXed_PDF(\"PN-dE_GW_dt_and_dM_dt\",location_of_template_file=os.path.join(\"..\"))"
   ]
  }
 ],
 "metadata": {
  "kernelspec": {
   "display_name": "Python 3",
   "language": "python",
   "name": "python3"
  },
  "language_info": {
   "codemirror_mode": {
    "name": "ipython",
    "version": 3
   },
   "file_extension": ".py",
   "mimetype": "text/x-python",
   "name": "python",
   "nbconvert_exporter": "python",
   "pygments_lexer": "ipython3",
   "version": "3.8.2"
  }
 },
 "nbformat": 4,
 "nbformat_minor": 4
}
