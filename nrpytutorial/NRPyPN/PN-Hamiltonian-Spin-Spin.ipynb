{
 "cells": [
  {
   "cell_type": "markdown",
   "metadata": {},
   "source": [
    "<script async src=\"https://www.googletagmanager.com/gtag/js?id=UA-59152712-8\"></script>\n",
    "<script>\n",
    "  window.dataLayer = window.dataLayer || [];\n",
    "  function gtag(){dataLayer.push(arguments);}\n",
    "  gtag('js', new Date());\n",
    "\n",
    "  gtag('config', 'UA-59152712-8');\n",
    "</script>\n",
    "\n",
    "# $H_{\\rm SS}$, up to and including third post-Newtonian order\n",
    "\n",
    "## This notebook constructs the spin-spin coupling terms in the Hamiltonian up to 3 post-Newtonian order\n",
    "\n",
    "**Notebook Status:** <font color='green'><b> Validated </b></font>\n",
    "\n",
    "**Validation Notes:** All expressions in this notebook were transcribed twice by hand on separate occasions, and expressions were corrected as needed to ensure consistency with published PN expressions. In addition, this tutorial notebook has been confirmed to be self-consistent with its corresponding NRPy+ module, as documented [below](#code_validation). **Additional validation tests may have been performed, but are as yet, undocumented.**\n",
    "\n",
    "## Author: Zach Etienne\n",
    "\n",
    "### This notebook exists as the following Python module:\n",
    "1. [PN_Hamiltonian_SS.py](../../edit/NRPyPN/PN_Hamiltonian_SS.py)\n",
    "\n",
    "### This notebook & corresponding Python module depend on the following NRPy+/NRPyPN Python modules:\n",
    "1. [indexedexp.py](../../edit/indexedexp.py): [**documentation+tutorial**](../Tutorial-Indexed_Expressions.ipynb)\n",
    "1. [NRPyPN_shortcuts.py](../../edit/NRPyPN/NRPyPN_shortcuts.py): [**documentation**](NRPyPN_shortcuts.ipynb)"
   ]
  },
  {
   "cell_type": "markdown",
   "metadata": {},
   "source": [
    "<a id='toc'></a>\n",
    "\n",
    "# Table of Contents\n",
    "$$\\label{toc}$$\n",
    "\n",
    "1. Part 1: [$H_{S_1,S_2,{\\rm 2PN}}+H_{S_1^2,{\\rm 2PN}}+H_{S_2^2,{\\rm 2PN}}$](#twopn), as summarized in [Buonanno, Chen, and Damour (2006)](https://arxiv.org/abs/gr-qc/0508067) (see references therein for sources)\n",
    "1. Part 2: [$H_{S_1,S_2,{\\rm 3PN}}$](#s1s2threepn), as derived by [Steinhoff, Hergt, and Sch&#228;fer (2008a)](https://arxiv.org/abs/0712.1716)\n",
    "1. Part 3: [$H_{S_1^2,{\\rm 3PN}}+H_{S_2^2,{\\rm 3PN}}$](#s1squaredthreepn), as derived in [Steinhoff, Hergt, and Sch&#228;fer (2008b)](https://arxiv.org/abs/0809.2200)\n",
    "1. Part 4: [Validation against second transcription and corresponding Python module](#code_validation)\n",
    "1. Part 5: [LaTeX PDF output](#latex_pdf_output): $\\LaTeX$ PDF Output"
   ]
  },
  {
   "cell_type": "markdown",
   "metadata": {},
   "source": [
    "<a id='twopn'></a>\n",
    "\n",
    "# Part 1: $H_{\\rm SS, 2PN}$, as summarized in [Buonanno, Chen, and Damour (2006)](https://arxiv.org/abs/gr-qc/0508067) (see references therein for sources) \\[Back to [top](#toc)\\]\n",
    "$$\\label{twopn}$$ \n",
    "\n",
    "As described in the [nonspinning Hamiltonian notebook](PN-Hamiltonian-Nonspinning.ipynb), the basic physical system assumes two point particles of mass $m_1$ and $m_2$ with corresponding momentum vectors $\\mathbf{P}_1$ and $\\mathbf{P}_2$, and displacement vectors $\\mathbf{X}_1$ and $\\mathbf{X}_2$ with respect to the center of mass. Here we also consider the spin vectors of each point mass $\\mathbf{S}_1$ and $\\mathbf{S}_2$, respectively.\n",
    "\n",
    "[Steinhoff, Hergt, and Sch&#228;fer (2008a)](https://arxiv.org/abs/0712.1716) and [Steinhoff, Hergt, and Sch&#228;fer (2008b)](https://arxiv.org/abs/0809.2200) adopt the additional notation\n",
    "\n",
    "\\begin{align}\n",
    "\\mathbf{r}_{12} &= (\\mathbf{X}_1-\\mathbf{X}_2)\\\\\n",
    "r_{12} = r_{21} &= |\\mathbf{r}_{12}|\\\\\n",
    "\\mathbf{n}_{12} &= \\frac{\\mathbf{r}_{12}}{r_{12}},\n",
    "\\end{align}\n",
    "and when the numbers in subscripts are flipped, the particles are interchanged.\n",
    "\n",
    "The complete $H_{\\rm SO, 1.5PN}$ expression is constructed in Eqs. 2.18 and 2.19 [Buonanno, Chen, and Damour (2006)](https://arxiv.org/abs/gr-qc/0508067):\n",
    "\n",
    "\\begin{align}\n",
    "\\mu &= \\frac{m_1 m_2}{m_1+m_2}\\\\\n",
    "\\mathbf{S_0} &= \\left(1+\\frac{m_2}{m_1}\\right) \\mathbf{S_1} + \\left(1+\\frac{m_1}{m_2}\\right) \\mathbf{S_2}\\\\\n",
    "H_{SS,\\rm 2PN} = H_{S_1,S_2,{\\rm 2PN}}+H_{S_1^2,{\\rm 2PN}}+H_{S_2^2,{\\rm 2PN}} &= \\frac{1}{2 q^3} \\frac{\\mu}{M} \\left[3(\\mathbf{S_0}\\cdot\\mathbf{n})^2-\\mathbf{S_0}^2\\right]\\\\\n",
    "\\end{align}"
   ]
  },
  {
   "cell_type": "code",
   "execution_count": 1,
   "metadata": {
    "execution": {
     "iopub.execute_input": "2021-03-07T17:35:38.476680Z",
     "iopub.status.busy": "2021-03-07T17:35:38.475963Z",
     "iopub.status.idle": "2021-03-07T17:35:38.798363Z",
     "shell.execute_reply": "2021-03-07T17:35:38.798808Z"
    }
   },
   "outputs": [],
   "source": [
    "# Step 0: Add NRPy's directory to the path\n",
    "# https://stackoverflow.com/questions/16780014/import-file-from-parent-directory\n",
    "import indexedexpNRPyPN as ixp                   # NRPy+: Symbolic indexed expression (e.g., tensors, vectors, etc.) support\n",
    "from NRPyPN_shortcuts import div,dot,cross # NRPyPN: shortcuts for e.g., vector operations\n",
    "\n",
    "# 2PN spin-spin term, from Eqs. 2.18 and 2.19 of\n",
    "#      Buonanno, Chen, and Damour (2006):\n",
    "#     https://arxiv.org/abs/gr-qc/0508067\n",
    "def f_H_SS_2PN(m1,m2, S1U,S2U, nU, q):\n",
    "    S0U = ixp.zerorank1()\n",
    "    for i in range(3):\n",
    "        S0U[i] = (1 + m2/m1)*S1U[i] + (1 + m1/m2)*S2U[i]\n",
    "    global H_SS_2PN\n",
    "    mu = m1*m2 / (m1 + m2)\n",
    "    H_SS_2PN = mu/(m1 + m2) * (3*dot(S0U,nU)**2 - dot(S0U,S0U)) / (2*q**3)"
   ]
  },
  {
   "cell_type": "code",
   "execution_count": 2,
   "metadata": {
    "execution": {
     "iopub.execute_input": "2021-03-07T17:35:38.805446Z",
     "iopub.status.busy": "2021-03-07T17:35:38.804714Z",
     "iopub.status.idle": "2021-03-07T17:35:38.807016Z",
     "shell.execute_reply": "2021-03-07T17:35:38.807506Z"
    }
   },
   "outputs": [],
   "source": [
    "# Second version, for validation purposes only.\n",
    "def f_H_SS_2PNv2(m1,m2, S1U,S2U, nU, q):\n",
    "    S_0U = ixp.zerorank1()\n",
    "    for i in range(3):\n",
    "        S_0U[i] = (1 + m2/m1)*S1U[i] + (1 + m1/m2)*S2U[i]\n",
    "    mu = m1*m2 / (m1+m2)\n",
    "    global H_SS_2PNv2\n",
    "    H_SS_2PNv2 = div(1,2)*mu/(m1+m2)*( 3*dot(S_0U,nU)**2 - dot(S_0U,S_0U) )/q**3"
   ]
  },
  {
   "cell_type": "markdown",
   "metadata": {},
   "source": [
    "<a id='s1s2threepn'></a>\n",
    "\n",
    "# Part 2: $H_{S_1,S_2,{\\rm 3PN}}$, as derived by [Steinhoff, Hergt, and Sch&#228;fer (2008a)](https://arxiv.org/abs/0712.1716) \\[Back to [top](#toc)\\]\n",
    "$$\\label{s1s2threepn}$$ \n",
    "\n",
    "To reduce possibility of copying error, equations are taken directly from the arXiv LaTeX source code of Eq 2.11 in [Steinhoff, Hergt, and Sch&#228;fer (2008a)](https://arxiv.org/abs/0712.1716), and only mildly formatted to (1) improve presentation in Jupyter notebooks and (2) to ensure some degree of consistency in notation across different terms in other Hamiltonian notebooks:\n",
    "\n",
    "\\begin{align}\n",
    "\tH_{S_1,S_2, 3PN} &=\n",
    "\t\t\\frac{1}{2 m_1 m_2 r_{1 2}^3} [\n",
    "\t\t\t\\tfrac{3}{2} ((\\mathbf{p}_1 \\times \\mathbf{S}_1) \\cdot \\mathbf{n}_{1 2}) ((\\mathbf{p}_2 \\times \\mathbf{S}_2) \\cdot \\mathbf{n}_{1 2})\n",
    "\t\t\t+ 6 ((\\mathbf{p}_2 \\times \\mathbf{S}_1) \\cdot \\mathbf{n}_{1 2}) ((\\mathbf{p}_1 \\times \\mathbf{S}_2) \\cdot \\mathbf{n}_{1 2}) \\\\\n",
    "&\t\t\t- 15 (\\mathbf{S}_1 \\cdot \\mathbf{n}_{1 2}) (\\mathbf{S}_2 \\cdot \\mathbf{n}_{1 2}) (\\mathbf{p}_1 \\cdot \\mathbf{n}_{1 2}) (\\mathbf{p}_2 \\cdot \\mathbf{n}_{1 2})\n",
    "\t\t\t- 3 (\\mathbf{S}_1 \\cdot \\mathbf{n}_{1 2}) (\\mathbf{S}_2 \\cdot \\mathbf{n}_{1 2}) (\\mathbf{p}_1 \\cdot \\mathbf{p}_2) \\\\\n",
    "&           + 3 (\\mathbf{S}_1 \\cdot \\mathbf{p}_2) (\\mathbf{S}_2 \\cdot \\mathbf{n}_{1 2}) (\\mathbf{p}_1 \\cdot \\mathbf{n}_{1 2})\n",
    "\t\t\t+ 3 (\\mathbf{S}_2 \\cdot \\mathbf{p}_1) (\\mathbf{S}_1 \\cdot \\mathbf{n}_{1 2}) (\\mathbf{p}_2 \\cdot \\mathbf{n}_{1 2}) + 3 (\\mathbf{S}_1 \\cdot \\mathbf{p}_1) (\\mathbf{S}_2 \\cdot \\mathbf{n}_{1 2}) (\\mathbf{p}_2 \\cdot \\mathbf{n}_{1 2}) \\\\\n",
    "&\t\t\t+ 3 (\\mathbf{S}_2 \\cdot \\mathbf{p}_2) (\\mathbf{S}_1 \\cdot \\mathbf{n}_{1 2}) (\\mathbf{p}_1 \\cdot \\mathbf{n}_{1 2}) - \\tfrac{1}{2} (\\mathbf{S}_1 \\cdot \\mathbf{p}_2) (\\mathbf{S}_2 \\cdot \\mathbf{p}_1)\n",
    "\t\t\t+ (\\mathbf{S}_1 \\cdot \\mathbf{p}_1) (\\mathbf{S}_2 \\cdot \\mathbf{p}_2) \\\\\n",
    "&            - 3 (\\mathbf{S}_1 \\cdot \\mathbf{S}_2) (\\mathbf{p}_1 \\cdot \\mathbf{n}_{1 2}) (\\mathbf{p}_2 \\cdot \\mathbf{n}_{1 2}) + \\tfrac{1}{2} (\\mathbf{S}_1 \\cdot \\mathbf{S}_2) (\\mathbf{p}_1 \\cdot \\mathbf{p}_2)\n",
    "\t\t] \\\\\n",
    "&\t\t+ \\frac{3}{2 m_1^2 r_{1 2}^3} [\n",
    "\t\t\t- ((\\mathbf{p}_1 \\times \\mathbf{S}_1) \\cdot \\mathbf{n}_{1 2}) ((\\mathbf{p}_1 \\times \\mathbf{S}_2) \\cdot \\mathbf{n}_{1 2})\n",
    "\t\t\t+ (\\mathbf{S}_1 \\cdot \\mathbf{S}_2) (\\mathbf{p}_1 \\cdot \\mathbf{n}_{1 2})^2 - (\\mathbf{S}_1 \\cdot \\mathbf{n}_{1 2}) (\\mathbf{S}_2 \\cdot \\mathbf{p}_1) (\\mathbf{p}_1 \\cdot \\mathbf{n}_{1 2})\n",
    "\t\t] \\\\\n",
    "&\t\t+ \\frac{3}{2 m_2^2 r_{1 2}^3} [\n",
    "\t\t\t- ((\\mathbf{p}_2 \\times \\mathbf{S}_2) \\cdot \\mathbf{n}_{1 2}) ((\\mathbf{p}_2 \\times \\mathbf{S}_1) \\cdot \\mathbf{n}_{1 2})\n",
    "\t\t\t+ (\\mathbf{S}_1 \\cdot \\mathbf{S}_2) (\\mathbf{p}_2 \\cdot \\mathbf{n}_{1 2})^2 - (\\mathbf{S}_2 \\cdot \\mathbf{n}_{1 2}) (\\mathbf{S}_1 \\cdot \\mathbf{p}_2) (\\mathbf{p}_2 \\cdot \\mathbf{n}_{1 2})\n",
    "\t\t] \\\\\n",
    "&\t\t+ \\frac{6 ( m_1 + m_2 )}{r_{1 2}^4} [ (\\mathbf{S}_1 \\cdot \\mathbf{S}_2) - 2 (\\mathbf{S}_1 \\cdot \\mathbf{n}_{1 2}) (\\mathbf{S}_2 \\cdot \\mathbf{n}_{1 2}) ] \\,,\n",
    "\\end{align}"
   ]
  },
  {
   "cell_type": "code",
   "execution_count": 3,
   "metadata": {
    "execution": {
     "iopub.execute_input": "2021-03-07T17:35:38.821745Z",
     "iopub.status.busy": "2021-03-07T17:35:38.821123Z",
     "iopub.status.idle": "2021-03-07T17:35:38.823448Z",
     "shell.execute_reply": "2021-03-07T17:35:38.823923Z"
    }
   },
   "outputs": [],
   "source": [
    "# 3PN spin-spin S_1,S_2 coupling term, from Eq. 2.11 of\n",
    "#       Steinhoff, Hergt, and Schäfer (2008a)\n",
    "#         https://arxiv.org/abs/0712.1716\n",
    "def f_H_SS_S1S2_3PN(m1,m2, n12U, S1U,S2U, p1U,p2U, r12):\n",
    "    global H_SS_S1S2_3PN\n",
    "    H_SS_S1S2_3PN = (+div(3,2)*(dot(cross(p1U,S1U),n12U)*dot(cross(p2U,S2U),n12U))\n",
    "                     +       6*(dot(cross(p2U,S1U),n12U)*dot(cross(p1U,S2U),n12U))\n",
    "                     -15*dot(S1U,n12U)*dot(S2U,n12U)*dot(p1U,n12U)*dot(p2U,n12U)\n",
    "                     -3*dot(S1U,n12U)*dot(S2U,n12U)*dot(p1U,p2U)\n",
    "                     +3*dot(S1U,p2U)*dot(S2U,n12U)*dot(p1U,n12U)\n",
    "                     +3*dot(S2U,p1U)*dot(S1U,n12U)*dot(p2U,n12U)\n",
    "                     +3*dot(S1U,p1U)*dot(S2U,n12U)*dot(p2U,n12U)\n",
    "                     +3*dot(S2U,p2U)*dot(S1U,n12U)*dot(p1U,n12U)\n",
    "                     -div(1,2)*dot(S1U,p2U)*dot(S2U,p1U)\n",
    "                     +dot(S1U,p1U)*dot(S2U,p2U)\n",
    "                     -3*dot(S1U,S2U)*dot(p1U,n12U)*dot(p2U,n12U)\n",
    "                     +div(1,2)*dot(S1U,S2U)*dot(p1U,p2U))/(2*m1*m2*r12**3)\n",
    "    H_SS_S1S2_3PN+= (-dot(cross(p1U,S1U),n12U)*dot(cross(p1U,S2U),n12U)\n",
    "                     +dot(S1U,S2U)*dot(p1U,n12U)**2\n",
    "                     -dot(S1U,n12U)*dot(S2U,p1U)*dot(p1U,n12U))*3/(2*m1**2*r12**3)\n",
    "    H_SS_S1S2_3PN+= (-dot(cross(p2U,S2U),n12U)*dot(cross(p2U,S1U),n12U)\n",
    "                     +dot(S1U,S2U)*dot(p2U,n12U)**2\n",
    "                     -dot(S2U,n12U)*dot(S1U,p1U)*dot(p2U,n12U))*3/(2*m2**2*r12**3)\n",
    "    H_SS_S1S2_3PN+= (+dot(S1U,S2U)-2*dot(S1U,n12U)*dot(S2U,n12U))*6*(m1+m2)/r12**4"
   ]
  },
  {
   "cell_type": "code",
   "execution_count": 4,
   "metadata": {
    "execution": {
     "iopub.execute_input": "2021-03-07T17:35:38.841647Z",
     "iopub.status.busy": "2021-03-07T17:35:38.840632Z",
     "iopub.status.idle": "2021-03-07T17:35:38.843694Z",
     "shell.execute_reply": "2021-03-07T17:35:38.843129Z"
    }
   },
   "outputs": [],
   "source": [
    "# Second version, for validation purposes only.\n",
    "def f_H_SS_S1S2_3PNv2(m1,m2, n12U, S1U,S2U, p1U,p2U, q):\n",
    "    def SHS2008a_HS1S2_3PNv2_pt1(m1,m2, n12U, S1U,S2U, p1U,p2U, q):\n",
    "        Hpt1 = ( +div(3,2)*(dot(cross(p1U,S1U),n12U)*dot(cross(p2U,S2U),n12U)) # line 1\n",
    "                 +6 *dot(cross(p2U,S1U),n12U)*dot(cross(p1U,S2U),n12U)         # line 1\n",
    "                 -15*dot(S1U,n12U)*dot(S2U,n12U)*dot(p1U,n12U)*dot(p2U,n12U)   # line 2\n",
    "                 -3*dot(S1U,n12U)*dot(S2U,n12U)*dot(p1U,p2U)                   # line 2\n",
    "                 +3*dot(S1U,p2U)*dot(S2U,n12U)*dot(p1U,n12U) # line 3\n",
    "                 +3*dot(S2U,p1U)*dot(S1U,n12U)*dot(p2U,n12U) # line 3\n",
    "                 +3*dot(S1U,p1U)*dot(S2U,n12U)*dot(p2U,n12U) # line 3\n",
    "                 +3*dot(S2U,p2U)*dot(S1U,n12U)*dot(p1U,n12U) # line 4\n",
    "                 -div(1,2)*dot(S1U,p2U)*dot(S2U,p1U)         # line 4\n",
    "                 +dot(S1U,p1U)*dot(S2U,p2U)                  # line 4\n",
    "                 -3*dot(S1U,S2U)*dot(p1U,n12U)*dot(p2U,n12U)            # line 5\n",
    "                 +div(1,2)*dot(S1U,S2U)*dot(p1U,p2U) )/(2*m1*m2*q**3)   # line 5\n",
    "        return Hpt1\n",
    "    def SHS2008a_HS1S2_3PNv2_pt2(m1,m2, n12U, S1U,S2U, p1U,p2U, q):\n",
    "        Hpt2 = ( -dot(cross(p1U,S1U),n12U)*dot(cross(p1U,S2U),n12U)                # line 6\n",
    "                 +dot(S1U,S2U)*dot(p1U,n12U)**2                                    # line 6\n",
    "                 -dot(S1U,n12U)*dot(S2U,p1U)*dot(p1U,n12U) )*div(3,2)/(m1**2*q**3) # line 6\n",
    "        return Hpt2\n",
    "    def SHS2008a_HS1S2_3PNv2_pt3(m1,m2, n12U, S1U,S2U, p1U,p2U, q):\n",
    "        Hpt3 = ( -dot(cross(p2U,S2U),n12U)*dot(cross(p2U,S1U),n12U)                # line 7\n",
    "                 +dot(S1U,S2U)*dot(p2U,n12U)**2                                    # line 7\n",
    "                 -dot(S2U,n12U)*dot(S1U,p1U)*dot(p2U,n12U) )*div(3,2)/(m2**2*q**3) # line 7\n",
    "        return Hpt3\n",
    "    def SHS2008a_HS1S2_3PNv2_pt4(m1,m2, n12U, S1U,S2U, p1U,p2U, q):\n",
    "        Hpt4 = ( dot(S1U,S2U) - 2*dot(S1U,n12U)*dot(S2U,n12U) ) * 6*(m1+m2)/q**4   # line 8\n",
    "        return Hpt4\n",
    "    global H_SS_S1S2_3PNv2\n",
    "    H_SS_S1S2_3PNv2 = ( +SHS2008a_HS1S2_3PNv2_pt1(m1,m2, n12U, S1U,S2U, p1U,p2U, q)\n",
    "                        +SHS2008a_HS1S2_3PNv2_pt2(m1,m2, n12U, S1U,S2U, p1U,p2U, q)\n",
    "                        +SHS2008a_HS1S2_3PNv2_pt3(m1,m2, n12U, S1U,S2U, p1U,p2U, q)\n",
    "                        +SHS2008a_HS1S2_3PNv2_pt4(m1,m2, n12U, S1U,S2U, p1U,p2U, q) )"
   ]
  },
  {
   "cell_type": "markdown",
   "metadata": {},
   "source": [
    "<a id='s1squaredthreepn'></a>\n",
    "\n",
    "\n",
    "# Part 3: $H_{S_1^2,{\\rm 3PN}}+H_{S_2^2,{\\rm 3PN}}$, as derived in [Steinhoff, Hergt, and Sch&#228;fer (2008b)](https://arxiv.org/abs/0809.2200) \\[Back to [top](#toc)\\]\n",
    "$$\\label{s1squaredthreepn}$$ \n",
    "\n",
    "To reduce possibility of copying error, equations are taken directly from the arXiv LaTeX source code of Eq 9 in [Steinhoff, Hergt, and Sch&#228;fer (2008b)](https://arxiv.org/abs/0809.2200), and only mildly formatted to (1) improve presentation in Jupyter notebooks and (2) to ensure some degree of consistency in notation across different terms in other Hamiltonian notebooks:\n",
    "\n",
    "\\begin{align}\n",
    "H_{S_1^2,{\\rm 3PN}}+H_{S_2^2,{\\rm 3PN}}&=\n",
    "\\frac{1}{r_{12}^3}\\bigg[\n",
    "\t\\frac{m_{2}}{4m_{1}^3}\\left(\\mathbf{P}_{1}\\cdot\\mathbf{S}_{1}\\right)^2\n",
    "\t+\\frac{3m_{2}}{8m_{1}^3}\\left(\\mathbf{P}_{1}\\cdot\\mathbf{n}_{12}\\right)^{2}\\mathbf{S}_{1}^{2}\n",
    "\t-\\frac{3m_{2}}{8m_{1}^3}\\mathbf{P}_{1}^{2}\\left(\\mathbf{S}_{1}\\cdot\\mathbf{n}_{12}\\right)^2 \\\\\n",
    "&    -\\frac{3m_{2}}{4m_{1}^3}\\left(\\mathbf{P}_{1}\\cdot\\mathbf{n}_{12}\\right)\\left(\\mathbf{S}_{1}\\cdot\\mathbf{n}_{12}\\right)\\left(\\mathbf{P}_{1}\\cdot\\mathbf{S}_{1}\\right)\n",
    "\t-\\frac{3}{4m_{1}m_{2}}\\mathbf{P}_{2}^{2}\\mathbf{S}_{1}^{2}\\\\\n",
    "&\t+\\frac{9}{4m_{1}m_{2}}\\mathbf{P}_{2}^{2}\\left(\\mathbf{S}_{1}\\cdot\\mathbf{n}_{12}\\right)^2\n",
    "\t+\\frac{3}{4m_{1}^2}\\left(\\mathbf{P}_{1}\\cdot\\mathbf{P}_{2}\\right)\\mathbf{S}_{1}^2\n",
    "\t-\\frac{9}{4m_{1}^2}\\left(\\mathbf{P}_{1}\\cdot\\mathbf{P}_{2}\\right)\\left(\\mathbf{S}_{1}\\cdot\\mathbf{n}_{12}\\right)^2 \\\\\n",
    "&\t-\\frac{3}{2m_{1}^2}\\left(\\mathbf{P}_{1}\\cdot\\mathbf{n}_{12}\\right)\\left(\\mathbf{P}_{2}\\cdot\\mathbf{S}_{1}\\right)\\left(\\mathbf{S}_{1}\\cdot\\mathbf{n}_{12}\\right)\n",
    "\t+\\frac{3}{m_{1}^2}\\left(\\mathbf{P}_{2}\\cdot\\mathbf{n}_{12}\\right)\\left(\\mathbf{P}_{1}\\cdot\\mathbf{S}_{1}\\right)\\left(\\mathbf{S}_{1}\\cdot\\mathbf{n}_{12}\\right) \\\\\n",
    "&\t+\\frac{3}{4m_{1}^2}\\left(\\mathbf{P}_{1}\\cdot\\mathbf{n}_{12}\\right)\\left(\\mathbf{P}_{2}\\cdot\\mathbf{n}_{12}\\right)\\mathbf{S}_{1}^2\n",
    "\t-\\frac{15}{4m_{1}^2}\\left(\\mathbf{P}_{1}\\cdot\\mathbf{n}_{12}\\right)\\left(\\mathbf{P}_{2}\\cdot\\mathbf{n}_{12}\\right)\\left(\\mathbf{S}_{1}\\cdot\\mathbf{n}_{12}\\right)^2\\bigg] \\\\\n",
    "& - \\frac{G^2 m_2}{r_{12}^4} \\bigg[\n",
    "\t\\frac{9}{2} (\\mathbf{S}_1 \\cdot \\mathbf{n}_{12})^2 - \\frac{5}{2} \\mathbf{S}_1^2\n",
    "\t+ \\frac{7 m_2}{m_1} (\\mathbf{S}_1 \\cdot \\mathbf{n}_{12})^2\n",
    "\t- \\frac{3 m_2}{m_1} \\mathbf{S}_1^2 \\bigg]\n",
    " + (1\\leftrightarrow2)\\,.\n",
    "\\end{align}"
   ]
  },
  {
   "cell_type": "code",
   "execution_count": 5,
   "metadata": {
    "execution": {
     "iopub.execute_input": "2021-03-07T17:35:38.857848Z",
     "iopub.status.busy": "2021-03-07T17:35:38.857166Z",
     "iopub.status.idle": "2021-03-07T17:35:38.860032Z",
     "shell.execute_reply": "2021-03-07T17:35:38.859455Z"
    }
   },
   "outputs": [],
   "source": [
    "# 3PN spin-orbit coupling term, from Eq. 9 of\n",
    "#    Steinhoff, Hergt, and Schäfer (2008b)\n",
    "#       https://arxiv.org/abs/0809.2200\n",
    "def f_H_SS_S1sq_S2sq_3PN(m1,m2, n12U,n21U, S1U,S2U, p1U,p2U, r12):\n",
    "    def f_H_SS_particle(m1,m2, n12U, S1U,S2U, p1U,p2U, r12):\n",
    "        H_SS_S1sq_S2sq_3PN_particle = (\n",
    "            +  m2/(4*m1**3)*dot(p1U,S1U)**2\n",
    "            +3*m2/(8*m1**3)*dot(p1U,n12U)**2*dot(S1U,S1U)\n",
    "            -3*m2/(8*m1**3)*dot(p1U,p1U)*dot(S1U,n12U)**2\n",
    "            -3*m2/(4*m1**3)*dot(p1U,n12U)*dot(S1U,n12U)*dot(p1U,S1U)\n",
    "            -3/(4*m1*m2)*dot(p2U,p2U)*dot(S1U,S1U)\n",
    "            +9/(4*m1*m2)*dot(p2U,p2U)*dot(S1U,n12U)**2\n",
    "            +3/(4*m1**2)*dot(p1U,p2U)*dot(S1U,S1U)\n",
    "            -9/(4*m1**2)*dot(p1U,p2U)*dot(S1U,n12U)**2\n",
    "            -3/(2*m1**2)*dot(p1U,n12U)*dot(p2U,S1U)*dot(S1U,n12U)\n",
    "            +3/(m1**2)  *dot(p2U,n12U)*dot(p1U,S1U)*dot(S1U,n12U)\n",
    "            +3/(4*m1**2)*dot(p1U,n12U)*dot(p2U,n12U)*dot(S1U,S1U)\n",
    "            -15/(4*m1**2)*dot(p1U,n12U)*dot(p2U,n12U)*dot(S1U,n12U)**2)/r12**3\n",
    "        H_SS_S1sq_S2sq_3PN_particle+= -(+div(9,2)*dot(S1U,n12U)**2\n",
    "                                         -div(5,2)*dot(S1U,S1U)\n",
    "                                         +7*m2/m1*dot(S1U,n12U)**2\n",
    "                                         -3*m2/m1*dot(S1U,S1U))*m2/r12**4\n",
    "        return H_SS_S1sq_S2sq_3PN_particle\n",
    "    global H_SS_S1sq_S2sq_3PN\n",
    "    H_SS_S1sq_S2sq_3PN = (+f_H_SS_particle(m1,m2, n12U, S1U,S2U, p1U,p2U, r12)\n",
    "                          +f_H_SS_particle(m2,m1, n21U, S2U,S1U, p2U,p1U, r12))"
   ]
  },
  {
   "cell_type": "code",
   "execution_count": 6,
   "metadata": {
    "execution": {
     "iopub.execute_input": "2021-03-07T17:35:38.873954Z",
     "iopub.status.busy": "2021-03-07T17:35:38.873150Z",
     "iopub.status.idle": "2021-03-07T17:35:38.875866Z",
     "shell.execute_reply": "2021-03-07T17:35:38.875313Z"
    }
   },
   "outputs": [],
   "source": [
    "# Second version, transcribed on a separate occasion. For validation purposes only.\n",
    "def f_H_SS_S1sq_S2sq_3PNv2(m1,m2, n12U,n21U, S1U,S2U, p1U,p2U, q):\n",
    "    def SHS2008b_HSsq_3PNv2_pt(m1,m2, n12U, S1U, p1U,p2U, q):\n",
    "        H = ( +div(1,4)*m2/m1**3*dot(p1U,S1U)**2\n",
    "              +div(3,8)*m2/m1**3*dot(p1U,n12U)**2*dot(S1U,S1U) # line 1\n",
    "              -div(3,8)*m2/m1**3*dot(p1U,p1U)*dot(S1U,n12U)**2                                     # line 1\n",
    "              -div(3,4)*m2/m1**3*dot(p1U,n12U)*dot(S1U,n12U)*dot(p1U,S1U) # line 2\n",
    "              -div(3,4)/(m1*m2) *dot(p2U,p2U)*dot(S1U,S1U)                # line 2\n",
    "              +div(9,4)/(m1*m2) *dot(p2U,p2U)*dot(S1U,n12U)**2 # line 3\n",
    "              +div(3,4)/m1**2   *dot(p1U,p2U)*dot(S1U,S1U)     # line 3\n",
    "              -div(9,4)/m1**2   *dot(p1U,p2U)*dot(S1U,n12U)**2 # line 3\n",
    "              -div(3,2)/m1**2   *dot(p1U,n12U)*dot(p2U,S1U)*dot(S1U,n12U) # line 4\n",
    "              +       3/m1**2   *dot(p2U,n12U)*dot(p1U,S1U)*dot(S1U,n12U) # line 4\n",
    "              +div(3,4)/m1**2   *dot(p1U,n12U)*dot(p2U,n12U)*dot(S1U,S1U)            # line 5\n",
    "              -div(15,4)/m1**2  *dot(p1U,n12U)*dot(p2U,n12U)*dot(S1U,n12U)**2 )/q**3 \\\n",
    "            -( +div(9,2)*dot(S1U,n12U)**2          # line 6\n",
    "               -div(5,2)*dot(S1U,S1U)              # line 6\n",
    "               +       7*m2/m1*dot(S1U,n12U)**2    # line 6\n",
    "               -       3*m2/m1*dot(S1U,S1U) )*m2/q**4 # line 6\n",
    "        return H\n",
    "\n",
    "    global H_SS_S1sq_S2sq_3PNv2\n",
    "    H_SS_S1sq_S2sq_3PNv2 = ( +SHS2008b_HSsq_3PNv2_pt(m1,m2, n12U, S1U, p1U,p2U, q)   # S_1^2 term\n",
    "                             +SHS2008b_HSsq_3PNv2_pt(m2,m1, n21U, S2U, p2U,p1U, q) ) # S_2^2 term"
   ]
  },
  {
   "cell_type": "markdown",
   "metadata": {},
   "source": [
    "<a id='code_validation'></a>\n",
    "\n",
    "# Part 4: Validation against second transcription and corresponding Python module \\[Back to [top](#toc)\\]\n",
    "$$\\label{code_validation}$$ \n",
    "\n",
    "As a code validation check, we verify agreement between \n",
    "* the SymPy expressions transcribed from the cited published work on two separate occasions, and\n",
    "* the SymPy expressions generated in this notebook, and the corresponding Python module."
   ]
  },
  {
   "cell_type": "code",
   "execution_count": 7,
   "metadata": {
    "execution": {
     "iopub.execute_input": "2021-03-07T17:35:38.887611Z",
     "iopub.status.busy": "2021-03-07T17:35:38.886836Z",
     "iopub.status.idle": "2021-03-07T17:35:39.952007Z",
     "shell.execute_reply": "2021-03-07T17:35:39.952519Z"
    }
   },
   "outputs": [
    {
     "name": "stdout",
     "output_type": "stream",
     "text": [
      "ALL TESTS PASS\n"
     ]
    }
   ],
   "source": [
    "import sympy as sp               # SymPy: The Python computer algebra package upon which NRPy+ depends\n",
    "from NRPyPN_shortcuts import m1,m2, nU,n12U,n21U, S1U,S2U, p1U,p2U, q # NRPyPN: Import needed input variables\n",
    "\n",
    "f_H_SS_2PN(m1,m2, S1U,S2U, nU, q)\n",
    "f_H_SS_S1S2_3PN(     m1,m2, n12U,      S1U,S2U, p1U,p2U, q)\n",
    "f_H_SS_S1sq_S2sq_3PN(m1,m2, n12U,n21U, S1U,S2U, p1U,p2U, q)\n",
    "\n",
    "def error(varname):\n",
    "    print(\"ERROR: When comparing Python module & notebook, \"+varname+\" was found not to match.\")\n",
    "    sys.exit(1)\n",
    "\n",
    "# Validation against second transcription of the expressions:\n",
    "f_H_SS_2PNv2(m1,m2, S1U,S2U, nU, q)\n",
    "f_H_SS_S1S2_3PNv2(     m1,m2, n12U,      S1U,S2U, p1U,p2U, q)\n",
    "f_H_SS_S1sq_S2sq_3PNv2(m1,m2, n12U,n21U, S1U,S2U, p1U,p2U, q)\n",
    "\n",
    "if sp.simplify(H_SS_2PN           - H_SS_2PNv2)           != 0: error(\"H_SS_2PNv2\")\n",
    "if sp.simplify(H_SS_S1S2_3PN      - H_SS_S1S2_3PNv2)      != 0: error(\"H_SS_S1S2_3PNv2\")\n",
    "if sp.simplify(H_SS_S1sq_S2sq_3PN - H_SS_S1sq_S2sq_3PNv2) != 0: error(\"H_SS_S1sq_S2sq_3PNv2\")\n",
    "\n",
    "# Validation against corresponding Python module:\n",
    "import PN_Hamiltonian_SS as HSS\n",
    "HSS.f_H_SS_2PN(m1,m2, S1U,S2U, nU, q)\n",
    "HSS.f_H_SS_S1S2_3PN(     m1,m2, n12U,      S1U,S2U, p1U,p2U, q)\n",
    "HSS.f_H_SS_S1sq_S2sq_3PN(m1,m2, n12U,n21U, S1U,S2U, p1U,p2U, q)\n",
    "\n",
    "if sp.simplify(H_SS_2PN           - HSS.H_SS_2PN)           != 0: error(\"H_SS_2PN\")\n",
    "if sp.simplify(H_SS_S1S2_3PN      - HSS.H_SS_S1S2_3PN)      != 0: error(\"H_SS_S1S2_3PN\")\n",
    "if sp.simplify(H_SS_S1sq_S2sq_3PN - HSS.H_SS_S1sq_S2sq_3PN) != 0: error(\"H_SS_S1sq_S2sq_3PN\")\n",
    "print(\"ALL TESTS PASS\")"
   ]
  },
  {
   "cell_type": "markdown",
   "metadata": {},
   "source": [
    "<a id='latex_pdf_output'></a>\n",
    "\n",
    "# Part 5: Output this notebook to $\\LaTeX$-formatted PDF file \\[Back to [top](#toc)\\]\n",
    "$$\\label{latex_pdf_output}$$\n",
    "\n",
    "The following code cell converts this Jupyter notebook into a proper, clickable $\\LaTeX$-formatted PDF file. After the cell is successfully run, the generated PDF may be found in the root NRPy+ tutorial directory, with filename\n",
    "[PN-Hamiltonian-Spin-Spin.pdf](PN-Hamiltonian-Spin-Spin.pdf) (Note that clicking on this link may not work; you may need to open the PDF file through another means.)"
   ]
  },
  {
   "cell_type": "code",
   "execution_count": 8,
   "metadata": {
    "execution": {
     "iopub.execute_input": "2021-03-07T17:35:39.958027Z",
     "iopub.status.busy": "2021-03-07T17:35:39.957104Z",
     "iopub.status.idle": "2021-03-07T17:35:43.448442Z",
     "shell.execute_reply": "2021-03-07T17:35:43.449135Z"
    }
   },
   "outputs": [
    {
     "name": "stdout",
     "output_type": "stream",
     "text": [
      "Created PN-Hamiltonian-Spin-Spin.tex, and compiled LaTeX file to PDF file\n",
      "    PN-Hamiltonian-Spin-Spin.pdf\n"
     ]
    }
   ],
   "source": [
    "import os,sys                    # Standard Python modules for multiplatform OS-level functions\n",
    "import cmdline_helperNRPyPN as cmd    # NRPy+: Multi-platform Python command-line interface\n",
    "cmd.output_Jupyter_notebook_to_LaTeXed_PDF(\"PN-Hamiltonian-Spin-Spin\",location_of_template_file=os.path.join(\"..\"))"
   ]
  }
 ],
 "metadata": {
  "kernelspec": {
   "display_name": "Python 3",
   "language": "python",
   "name": "python3"
  },
  "language_info": {
   "codemirror_mode": {
    "name": "ipython",
    "version": 3
   },
   "file_extension": ".py",
   "mimetype": "text/x-python",
   "name": "python",
   "nbconvert_exporter": "python",
   "pygments_lexer": "ipython3",
   "version": "3.8.2"
  }
 },
 "nbformat": 4,
 "nbformat_minor": 4
}
