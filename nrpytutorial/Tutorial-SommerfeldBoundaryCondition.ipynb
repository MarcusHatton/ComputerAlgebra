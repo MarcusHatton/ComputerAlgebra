{
 "cells": [
  {
   "cell_type": "markdown",
   "metadata": {},
   "source": [
    "<script async src=\"https://www.googletagmanager.com/gtag/js?id=UA-59152712-8\"></script>\n",
    "<script>\n",
    "  window.dataLayer = window.dataLayer || [];\n",
    "  function gtag(){dataLayer.push(arguments);}\n",
    "  gtag('js', new Date());\n",
    "\n",
    "  gtag('config', 'UA-59152712-8');\n",
    "</script>\n",
    "\n",
    "# Sommerfeld Boundary Conditions\n",
    "\n",
    "<font color='green'><b> Validated for all coordinate systems available in NRPy+ </b></font>\n",
    "\n",
    "## Authors: Terrence Pierre Jacques & Zach Etienne\n",
    "\n",
    "## Abstract\n",
    "\n",
    "The aim of this notebook is to describe the mathematical motivation behind the Sommerfeld boundary condition, document how it is implemented within the NRPy+ infrastructure in Cartesian coordinates, and record ongoing validation tests against the [Einstein Toolkit's NewRad boundary condition driver](https://www.einsteintoolkit.org/thornguide/EinsteinEvolve/NewRad/documentation.html#XEinsteinEvolve_NewRad_Alcubierre:2002kk).\n",
    "\n",
    "**Notebook Status:** <font color='green'><b> Validated against the Einstein Toolkit </b></font>\n",
    "\n",
    "**Validation Notes:** The Sommerfeld boundary condition as implemented in NRPy+ has been validated against [Einstein Toolkit's NewRad boundary condition driver](https://www.einsteintoolkit.org/thornguide/EinsteinEvolve/NewRad/documentation.html#XEinsteinEvolve_NewRad_Alcubierre:2002kk)(ETK) for the case of a scalar wave propagating across a 3D Cartesian grid. We have agreement to roundoff error with the Einstein Toolkit. Specifically, we have achieved:\n",
    "\n",
    "1. Roundoff level agreement for the wave propagating toward each of the individual faces\n",
    "\n",
    "1. Roundoff level agreement using any combination of input parameters available in the [Einstein Toolkit's NewRad boundary condition driver](https://www.einsteintoolkit.org/thornguide/EinsteinEvolve/NewRad/documentation.html#XEinsteinEvolve_NewRad_Alcubierre:2002kk) (variable value at infinity, radial power, and wave speed)\n",
    "\n",
    "[comment]: <> (Introduction: TODO)"
   ]
  },
  {
   "cell_type": "markdown",
   "metadata": {},
   "source": [
    "<a id='toc'></a>\n",
    "\n",
    "# Table of Contents\n",
    "$$\\label{toc}$$\n",
    "\n",
    "This notebook is organized as follows\n",
    "\n",
    "1. [Step 1](#initializenrpy): Set core NRPy+ parameters for numerical grids \n",
    "1. [Step 2](#sbc): Definition and mathematical motivation\n",
    "    1. [Step 2.a](#intro): Introduction & background mathematics\n",
    "    1. [Step 2.b](#sbc_prelims): Preliminaries - The scalar wave equation in curvilinear coordinates\n",
    "    1. [Step 2.c](#sbc_ansatz): Sommerfeld boundary condition ansatz\n",
    "    1. [Step 2.d](#sbc_ansatz_dtf): Applying the ansatz to $\\partial_t f$\n",
    "    1. [Step 2.e](#curvicoords): Implementation in generic curvilinear coordinates\n",
    "        1. [Step 2.e.i](#cartcoords_byhand): Sommerfeld boundary conditions implementation in Cartesian coordinates, derived by hand\n",
    "        1. [Step 2.e.ii](#cartcoords_bynrpysympy): Sommerfeld boundary conditions implementation in Cartesian coordinates, derived by NRPy+/SymPy\n",
    "1. [Step 3](#numalg): Numerical algorithm overview\n",
    "    1. [Step 3.a](#class): Sommerfeld python class and parameters\n",
    "    1. [Step 3.b](#partial_rf): Calculate $\\partial_r f$\n",
    "    1. [Step 3.c](#cfunc): `apply_bcs_sommerfeld()` C function\n",
    "    1. [Step 3.d](#k): Solving for the subdominant radial falloff proportionality constant $k$\n",
    "    1. [Step 3.e](#innerbcs): Inner Boundary Conditions\n",
    "1. [Step 4](#py_validate): Python file validation\n",
    "1. [Step 5](#interface): NRPy+ Interface for Applying Sommerfeld Boundary Conditions\n",
    "1. [Step 6](#etk_validation): Validation against the [Einstein Toolkit's NewRad boundary condition driver](https://www.einsteintoolkit.org/thornguide/EinsteinEvolve/NewRad/documentation.html#XEinsteinEvolve_NewRad_Alcubierre:2002kk)\n",
    "1. [Latex Output](#latex_pdf_output): Output this notebook to $\\LaTeX$-formatted PDF file"
   ]
  },
  {
   "cell_type": "markdown",
   "metadata": {},
   "source": [
    "<a id='initializenrpy'></a>\n",
    "\n",
    "# Step 1: Set core NRPy+ parameters for numerical grids \\[Back to [top](#toc)\\]\n",
    "$$\\label{initializenrpy}$$\n",
    "\n",
    "Import needed NRPy+ core modules and set working directories."
   ]
  },
  {
   "cell_type": "code",
   "execution_count": 1,
   "metadata": {
    "execution": {
     "iopub.execute_input": "2021-03-07T17:25:09.949014Z",
     "iopub.status.busy": "2021-03-07T17:25:09.947862Z",
     "iopub.status.idle": "2021-03-07T17:25:10.277928Z",
     "shell.execute_reply": "2021-03-07T17:25:10.277354Z"
    }
   },
   "outputs": [],
   "source": [
    "# Step P1: Import needed NRPy+ core modules:\n",
    "import NRPy_param_funcs as par   # NRPy+: Parameter interface\n",
    "import reference_metric as rfm  # NRPy+: Reference metric support\n",
    "import grid as gri               # NRPy+: Functions having to do with numerical grids\n",
    "import cmdline_helper as cmd     # NRPy+: Multi-platform Python command-line interface\n",
    "import shutil, os, sys           # Standard Python modules for multiplatform OS-level functions\n",
    "\n",
    "# Create C code output directory:\n",
    "Ccodesdir = os.path.join(\"SommerfeldBoundaryCondition_Validate\")\n",
    "# First remove C code output directory if it exists\n",
    "# Courtesy https://stackoverflow.com/questions/303200/how-do-i-remove-delete-a-folder-that-is-not-empty\n",
    "shutil.rmtree(Ccodesdir, ignore_errors=True)\n",
    "# Then create a fresh directory\n",
    "cmd.mkdir(Ccodesdir)\n",
    "\n",
    "par.set_parval_from_str(\"grid::DIM\",3)\n",
    "DIM = par.parval_from_str(\"grid::DIM\")"
   ]
  },
  {
   "cell_type": "markdown",
   "metadata": {},
   "source": [
    "<a id='sbc'></a>\n",
    "\n",
    "# Step 2: Sommerfeld Boundary Conditions \\[Back to [top](#toc)\\]\n",
    "$$\\label{sbc}$$\n",
    "\n",
    "<a id='intro'></a>\n",
    "\n",
    "## Step 2.a: Introduction & background mathematics \\[Back to [top](#toc)\\]\n",
    "$$\\label{intro}$$\n",
    "\n",
    "\n",
    "When we numerically solve an initial value problem, appropriate initial data must be provided, coupled to a technique for evolving the initial data forward in time (to construct the solution at $t>0$), and we must impose boundary conditions. \n",
    "\n",
    "The subject of this notebook is implementation of Sommerfeld boundary conditions, which are often used when solving hyperbolic systems of partial differential equations (PDEs). Sommerfeld boundary conditions are also referred to as a radiation or transparent boundary conditions. \n",
    "\n",
    "The essential idea of a transparent boundary is creating a boundary in which wave fronts can pass through with minimal reflections. In other words, the boundary condition acts to map our numerical solution to outside our numerical domain in a smooth fashion. Because this mapping is assumed to be linear, this treatment occurs at the same time-level as calculations within our numerical domain. This point will be revisited later.\n",
    "\n",
    "Suppose we have a dynamical variable $f$; i.e., a variable in our hyperbolic system of PDEs that satisfies the equation\n",
    "\n",
    "$$\n",
    "\\partial_t f = \\text{something},\n",
    "$$\n",
    "where generally we refer to \"something\" as the \"right-hand side\" or \"RHS\" of the hyperbolic PDE, where we formulate the PDE such that the RHS contains no explicit time derivatives, but generally does contain spatial derivatives (typically computed in NRPy+ using finite differencing, though may in general be computed using other, e.g., pseudospectral techniques).\n",
    "\n",
    "To construct the solution at times after the initial data, we adopt the [Method of Lines (MoL)](Tutorial-ScalarWave.ipynb) approach, which integrates the equations forward *in time* using standard explicit techniques typically used when solving *ordinary* differential equations. In doing so, MoL evaluates the RHS of the PDE at all points in our numerical domain (typically using finite difference derivatives), except the ghost zones (i.e., the gridpoints neighboring the precise point needed to evaluate a derivative using e.g., a finite difference derivative).\n",
    "\n",
    "After each RHS evaluation we must fill in the data on the boundaries (i.e., the ghost zones), so that data exist at all gridpoints (including the boundaries) at the next MoL substep. In doing so, we have two options:\n",
    "\n",
    "1. Perform an MoL substep to push the *interior* solution $f$ forward in time one substep, and then update the boundary values of $f$.\n",
    "1. During the MoL substep, immediately after evaluating the RHS of the $\\partial t f$ equation, update the boundary values of the RHS of the $\\partial t f$ equation. Then push the solution $f$ forward in time *at all gridpoints, including ghost zones* by one substep.\n",
    "\n",
    "Our implementation of the Sommerfeld boundary condition implements the second option, filling in the data for $\\partial_t f$ (cf., our [extrapolation boundary condition implementation](Tutorial-Start_to_Finish-Curvilinear_BCs.ipynb)) on the boundaries (i.e., ghost zones)."
   ]
  },
  {
   "cell_type": "markdown",
   "metadata": {},
   "source": [
    "<a id='sbc_prelims'></a>\n",
    "\n",
    "## Step 2.b: Preliminaries - The scalar wave equation in curvilinear coordinates \\[Back to [top](#toc)\\]\n",
    "$$\\label{sbc_prelims}$$\n",
    "\n",
    "Our Sommerfeld boundary condition implementation assumes $f$ behaves as a spherically symmetric, outgoing wave at the boundaries. Under these assumptions, the waves satisfy the wave equation in spherical coordinates with angular parts set to zero. I.e., under these assumptions the wavefunction $u(r,t)$ will satisfy:\n",
    "\n",
    "\\begin{align}\n",
    "0 = \\Box\\, u &= \\hat{D}^{\\nu} \\hat{D}_{\\nu} u \\\\\n",
    "&= \\hat{g}^{\\mu\\nu} \\hat{D}_{\\mu} \\hat{D}_{\\nu} u \\\\\n",
    "&= \\hat{g}^{\\mu\\nu} \\hat{D}_{\\mu} \\partial_{\\nu} u \\\\\n",
    "&= \\hat{g}^{\\mu\\nu} \\left[\\partial_{\\mu} (\\partial_{\\nu} u) - \\hat{\\Gamma}^\\alpha_{\\mu\\nu} (\\partial_{\\alpha} u) \\right],\n",
    "\\end{align}\n",
    "here the hatted metric is defined as $\\hat{g}^{tt} = -1/v^2$ (where $v$ is the wavespeed), $\\hat{g}^{rr}=1$, $\\hat{g}^{\\theta\\theta}=1/r^2$, and $\\hat{g}^{\\phi\\phi}=1/(r^2\\sin^2\\theta)$ are the only nonzero metric terms for the spherical (contravariant) metric. However, the fact that $u=u(r,t)$ does not depend on the angular pieces greatly simplifies the expression:\n",
    "\n",
    "\\begin{align}\n",
    "\\Box\\, u\n",
    "&= \\hat{g}^{\\mu\\nu} \\left[\\partial_{\\mu} (\\partial_{\\nu} u) - \\hat{\\Gamma}^\\alpha_{\\mu\\nu} (\\partial_{\\alpha} u) \\right] \\\\\n",
    "&= \\left(-\\frac{1}{v^2}\\partial_t^2 + \\partial_r^2\\right)u - \\hat{\\Gamma}^\\alpha_{\\mu\\nu} (\\partial_{\\alpha} u) \\\\\n",
    "&= \\left(-\\frac{1}{v^2}\\partial_t^2 + \\partial_r^2\\right)u - \\hat{g}^{\\mu\\nu} \\left[\\hat{\\Gamma}^t_{\\mu\\nu} \\partial_{t} + \\hat{\\Gamma}^r_{\\mu\\nu} \\partial_{r}\\right]u.\n",
    "\\end{align}\n",
    "\n",
    "We will now refer the reader to the [scalar wave in curvilinear coordinates notebook](Tutorial-ScalarWaveCurvilinear.ipynb) for the remainder of the derivation. The bottom line is, after removing terms implying angular variation in $u$, one obtains the wave equation for spherically symmetric waves:\n",
    "\n",
    "$$\n",
    "\\frac{1}{v^2} \\partial_t^2 u = \\partial_r^2 u + \\frac{2}{r} \\partial_r u,\n",
    "$$\n",
    "which has the general solution\n",
    "\n",
    "$$\n",
    "u(r,t) = A \\frac{u(r + vt)}{r} + B \\frac{u(r - vt)}{r},\n",
    "$$\n",
    "where the (left) right term represents an (ingoing) outgoing wave. "
   ]
  },
  {
   "cell_type": "markdown",
   "metadata": {},
   "source": [
    "<a id='sbc_ansatz'></a>\n",
    "\n",
    "## Step 2.c: Sommerfeld boundary condition ansatz \\[Back to [top](#toc)\\]\n",
    "$$\\label{sbc_ansatz}$$\n",
    "\n",
    "Inspired by the solution to the scalar wave equation, our Sommerfeld boundary condition will assume the solution $f(r,t)$ acts as an *outgoing* spherical wave ($A=0$), with an asymptotic value $f_0$ at $r\\to\\infty$ and a correction term for incoming waves or transient non-wavelike behavior at the boundaries, with $r^n$ falloff (ignoring higher-order radial falloffs):\n",
    "\n",
    "$$\n",
    "f = f_0 + \\frac{u(r-vt)}{r} + \\frac{c}{r^n},\n",
    "$$\n",
    "where $c$ is a constant."
   ]
  },
  {
   "cell_type": "markdown",
   "metadata": {},
   "source": [
    "<a id='sbc_ansatz_dtf'></a>\n",
    "\n",
    "## Step 2.d: Applying the ansatz to $\\partial_t f$ \\[Back to [top](#toc)\\]\n",
    "$$\\label{sbc_ansatz_dtf}$$\n",
    "\n",
    "As described in the above section, we will not apply Sommerfeld boundary conditions to $f$ but $\\partial_t f$ instead:\n",
    "\n",
    "$$\n",
    "\\partial_t f = -v \\frac{u'(r-vt)}{r}.\n",
    "$$\n",
    "\n",
    "To get a better understanding of the $u'(r-vt)$ term, let's compute the radial partial derivative as well:\n",
    "\n",
    "\\begin{align}\n",
    "\\partial_r f &= \\frac{u'(r-vt)}{r} - \\frac{u(r-vt)}{r^2} - n \\frac{c}{r^{n+1}} \\\\\n",
    "\\implies \\frac{u'(r-vt)}{r} &= \\partial_r f + \\frac{u(r-vt)}{r^2} + n \\frac{c}{r^{n+1}}\n",
    "\\end{align}\n",
    "\n",
    "Thus we get\n",
    "\n",
    "\\begin{align}\n",
    "\\partial_t f &= -v \\frac{u'(r-vt)}{r} \\\\\n",
    "&= -v \\left[\\partial_r f + \\frac{u(r-vt)}{r^2} + n \\frac{c}{r^{n+1}} \\right]\n",
    "\\end{align}\n",
    "\n",
    "To take care of the (as-yet) unknown $\\frac{u(r-vt)}{r^2}$ term, notice our ansatz\n",
    "\n",
    "$$\n",
    "f = f_0 + \\frac{u(r-vt)}{r} + \\frac{c}{r^n}\n",
    "$$\n",
    "implies that\n",
    "\n",
    "\\begin{align}\n",
    "\\frac{f - f_0}{r} &= \\frac{u(r-vt)}{r^2} + \\frac{c}{r^{n+1}} \\\\\n",
    "\\implies \\frac{u(r-vt)}{r^2} &= \\frac{f - f_0}{r} - \\frac{c}{r^{n+1}}\n",
    "\\end{align}\n",
    "\n",
    "so we have\n",
    "\n",
    "\\begin{align}\n",
    "\\partial_t f &= -v \\left[\\partial_r f + \\frac{u(r-vt)}{r^2} + n \\frac{c}{r^{n+1}} \\right]\\\\\n",
    "&= -v \\left[\\partial_r f + \\frac{f - f_0}{r} - \\frac{c}{r^{n+1}} + n \\frac{c}{r^{n+1}} \\right] \\\\\n",
    "&= -v \\left[\\partial_r f + \\frac{f - f_0}{r}\\right] + \\frac{k}{r^{n+1}},\n",
    "\\end{align}\n",
    "where $k=-v c(n-1)$ is just another constant.\n",
    "\n",
    "Thus we have derived our boundary condition:\n",
    "\n",
    "$$\n",
    "\\boxed{\n",
    "\\partial_t f = -\\frac{v}{r} \\left[r \\partial_r f + (f - f_0)\\right] + \\frac{k}{r^{n+1}}.\n",
    "}\n",
    "$$"
   ]
  },
  {
   "cell_type": "markdown",
   "metadata": {},
   "source": [
    "<a id='curvicoords'></a>\n",
    "\n",
    "## Step 2.e: Implementation in generic curvilinear coordinates \\[Back to [top](#toc)\\]\n",
    "$$\\label{curvicoords}$$\n",
    "\n",
    "The core equation\n",
    "$$\n",
    "\\boxed{\n",
    "\\partial_t f = -\\frac{v}{r} \\left[r \\partial_r f + (f - f_0)\\right] + \\frac{k}{r^{n+1}}.\n",
    "}\n",
    "$$\n",
    "\n",
    "is implemented in NRPy+ using its `reference_metric.py` module ([Tutorial notebook](Tutorial-Reference_Metric.ipynb)), as this module requires *all* coordinate systems to define the spherical coordinate $r$ in terms of input quantities `(xx0,xx1,xx2)`. Thus we need only rewrite the above equation in terms of `(xx0,xx1,xx2)`. Defining $x^i$=`(xx0,xx1,xx2)`, we have, using the chain rule:\n",
    "\n",
    "\\begin{align}\n",
    "\\partial_t f &= -\\frac{v}{r} \\left[r \\partial_r f + (f - f_0)\\right] + \\frac{k}{r^{n+1}} \\\\\n",
    "&= -\\frac{v}{r(x^i)} \\left[r \\frac{\\partial x^i}{\\partial r} \\partial_i f + (f - f_0)\\right] + \\frac{k}{r^{n+1}}.\n",
    "\\end{align}\n",
    "\n",
    "$\\frac{\\partial x^i}{\\partial r}$ can be impossible to compute directly, as we are given $r(x^i)$ but not necessarily $x^i(r)$. The key here is to note that we are actually given $x^j_{\\rm Sph} = (r(x^i),\\theta(x^i),\\phi(x^i))$ for all coordinate systems, so we can define the Jacobian\n",
    "\n",
    "$$\\frac{\\partial x^j_{\\rm Sph}(x^i)}{\\partial x^i},$$\n",
    "\n",
    "and NRPy+ can invert this matrix to give us\n",
    "\n",
    "$$\\frac{\\partial x^i}{\\partial x^j_{\\rm Sph}},$$\n",
    "\n",
    "In summary, the implementation of Sommerfeld boundary conditions in arbitrary curvilinear coordinates $x^i=$`(xx0,xx1,xx2)` is given by\n",
    "$$\n",
    "\\boxed{\n",
    "\\partial_t f = -\\frac{v}{r(x^i)} \\left[r(x^i) \\frac{\\partial x^i}{\\partial r} \\partial_i f + (f - f_0)\\right] + \\frac{k}{r^{n+1}}.\n",
    "}\n",
    "$$\n",
    "\n",
    "In the next subsections, we'll work through implementation of this general equation in the special case of Cartesian coordinates, first by hand, and then *automatically*, for Cartesian *or other curvilinear coordinate systems supported by NRPy+* using `reference_metric.py`."
   ]
  },
  {
   "cell_type": "markdown",
   "metadata": {},
   "source": [
    "<a id='cartcoords_byhand'></a>\n",
    "\n",
    "### Step 2.e.i: Sommerfeld boundary conditions implementation in Cartesian coordinates, derived by hand \\[Back to [top](#toc)\\]\n",
    "$$\\label{cartcoords_byhand}$$\n",
    "\n",
    "Let's now work this out for Cartesian coordinates in NRPy+, first by hand, and then using `reference_metric.py`:\n",
    "\n",
    "In Cartesian coordinates $\\frac{\\partial f}{\\partial r}$ may be expanded as\n",
    "\n",
    "$$\n",
    "\\frac{\\partial f}{\\partial r} = \\frac{\\partial x}{\\partial r} \\partial_x f + \\frac{\\partial y}{\\partial r}\\partial_y f + \\frac{\\partial z}{\\partial r}\\partial_z f.\n",
    "$$\n",
    "\n",
    "Defining $x^i$ to be the $i$th component of the Cartesian reference metric, we have\n",
    "\n",
    "\\begin{align}\n",
    "x^0 = x &= r\\sin\\theta \\cos\\phi \\implies \\frac{\\partial x}{\\partial r}=\\frac{x}{r}, \\\\\n",
    "x^1 = y &= r\\sin\\theta \\sin\\phi \\implies \\frac{\\partial y}{\\partial r}=\\frac{y}{r}, \\\\\n",
    "x^2 = z &= r\\cos\\theta \\implies \\frac{\\partial z}{\\partial r}=\\frac{z}{r}.\n",
    "\\end{align}\n",
    "\n",
    "Based on this, we can rewrite the above as\n",
    "\n",
    "\\begin{align}\n",
    "\\frac{\\partial f}{\\partial r} \n",
    "&= \\frac{x}{r} \\partial_x f +\\frac{y}{r} \\partial_y f +\\frac{z}{r} \\partial_z f \\\\\n",
    "&= \\frac{x^0}{r} \\partial_0 f +\\frac{x^1}{r} \\partial_1 f +\\frac{x^2}{r} \\partial_2 f \\\\\n",
    "&= \\frac{x^i}{r} \\partial_i f,\n",
    "\\end{align}\n",
    "\n",
    "yielding the Sommerfeld boundary condition in *Cartesian coordinates*\n",
    "\n",
    "$$\n",
    "\\partial_t f = -\\frac{v}{r} \\left[x^i \\partial_i f + \\left( f - f_0 \\right) \\right] + \\frac{k}{r^{n+1}}.\n",
    "$$\n",
    "\n",
    "<a id='cartcoords_bynrpysympy'></a>\n",
    "\n",
    "### Step 2.e.ii: Sommerfeld boundary conditions implementation in Cartesian coordinates, derived automatically by NRPy+/SymPy \\[Back to [top](#toc)\\]\n",
    "$$\\label{cartcoords_bynrpysympy}$$\n",
    "\n",
    "Now let's use NRPy+'s `reference_metric.py` to obtain the same expression for $\\frac{\\partial f}{\\partial r}$ in Cartesian coordinates; i.e.,\n",
    "\n",
    "$$\n",
    "\\frac{\\partial f}{\\partial r} = \\frac{x^i}{r} \\partial_i f,\n",
    "$$\n",
    "but using the generic coordinate system interface (`CoordSystem=Cartesian`; feel free to change it to another coordinate system of your choice). Note in the above that me we must also know the functional form of $r(x^i)$, so we use NRPy's `outputC` module to output the C code to calculate $r(x^i)$ and $\\frac{\\partial x^i}{\\partial r} \\partial_i f$, as shown below."
   ]
  },
  {
   "cell_type": "markdown",
   "metadata": {},
   "source": [
    "<a id='numalg'></a>\n",
    "\n",
    "# Step 3: Numerical algorithm overview \\[Back to [top](#toc)\\]\n",
    "$$\\label{numalg}$$\n",
    "\n",
    "To implement the above Sommerfeld boundary condition, we must specify for each dynamical variable:\n",
    "\n",
    "* its wave speed at the boundary, \n",
    "* its asymptotic value at infinity, and \n",
    "* its $r^{n+1}$ power that must be applied for the non-wavelike behavior at the boundary. \n",
    "\n",
    "Note in our ansatz \n",
    "\n",
    "$$\n",
    "f = f_0 + \\frac{u(r-vt)}{r} + \\frac{c}{r^n},\n",
    "$$\n",
    "\n",
    "in this expansion it would be natural to have $n = 2$, but in the boundary condition we have\n",
    "\n",
    "$$\n",
    "\\partial_t f = -\\frac{v}{r(x^i)} \\left[r(x^i) \\frac{\\partial x^i}{\\partial r} \\partial_i f + (f - f_0)\\right] + \\frac{k}{r^{n+1}}.\n",
    "$$\n",
    "\n",
    "Thus, the exponent in the $k$ term should be 3. And indeed, in our own implementations we have found that $n=2$ exhibits the best results for minimal reflections. The [Einstein Toolkit's NewRad boundary condition driver](https://www.einsteintoolkit.org/thornguide/EinsteinEvolve/NewRad/documentation.html#XEinsteinEvolve_NewRad_Alcubierre:2002kk) documentation page also states similar results, writing \"empirically, we have found that taking (exponent $ = 3$) almost completely eliminates the bad transient caused by the radiative boundary condition on its own\". The following set of code cells implement the above equation, excluding the $\\frac{k}{r^{n+1}}$ term, for a Cartesian grid.\n",
    "\n",
    "Our procedure in implementing this boundary condition is as follows:\n",
    "\n",
    "0) Define data for $f$ at **all** points in our numerical domain\n",
    "\n",
    "1) Evaluate $\\frac{df}{dt}$ at points in the **interior** only, using the       prescribed equations to evaluate the RHS and ghost zones for the finite         differences at the outer boundaries\n",
    "\n",
    "2) For points in the ghost zones, apply the Sommerfeld condition to obtain      $\\frac{df}{dt}$ in the ghost zones, assuming advection and radial fall off behavior. When evaluating the spatial derivatives, use forward or backward finite differences for directions perpendicular to the outer boundary face being considered, and centered derivatives for the directions which lie in the plane of the outer boundary face. Furthermore, to minimize error we loop through inner boundary points and work outwards, so that the forward or backward stencils never include untreated points.\n",
    "\n",
    "3) Account for non-wavelike evolution of our numerical solution at the boundary\n",
    "\n",
    "4) Perform RK-update for all points (interior + ghost zones). Since the mapping to outside our numerical domain is linear, treatment of points in the interior and points on the boundary must be at the same time level."
   ]
  },
  {
   "cell_type": "markdown",
   "metadata": {},
   "source": [
    "<a id='class'></a>\n",
    "\n",
    "## Step 3.a: Sommerfeld python class and parameters \\[Back to [top](#toc)\\]\n",
    "$$\\label{class}$$\n",
    "\n",
    "First we define the python class __sommerfeld_boundary_condition_class__, where we store all variables and functions related to the our implementation of the Sommerfeld boundary condition. When calling the class, users can set default values for each dynamical variable's value at infinity, radial fall-off power, and wave speed at the boundary.\n",
    "\n",
    "Next we define the function _sommerfeld_params_ which writes these parameters to lists in C, which will be used by the main C code."
   ]
  },
  {
   "cell_type": "code",
   "execution_count": 2,
   "metadata": {
    "execution": {
     "iopub.execute_input": "2021-03-07T17:25:10.284762Z",
     "iopub.status.busy": "2021-03-07T17:25:10.284031Z",
     "iopub.status.idle": "2021-03-07T17:25:10.289064Z",
     "shell.execute_reply": "2021-03-07T17:25:10.289560Z"
    }
   },
   "outputs": [
    {
     "name": "stdout",
     "output_type": "stream",
     "text": [
      "Writing SommerfeldBoundaryCondition_Validate/Sommerfeld.py\n"
     ]
    }
   ],
   "source": [
    "%%writefile $Ccodesdir/Sommerfeld.py\n",
    "class sommerfeld_boundary_condition_class():\n",
    "    \"\"\"\n",
    "    Class for generating C code to apply Sommerfeld boundary conditions\n",
    "    \"\"\"\n",
    "    # class variables should be the resulting dicts\n",
    "    # Set class variable default values\n",
    "    # radial falloff power n = 3 has been found to yield the best results\n",
    "    #  - see Tutorial-SommerfeldBoundaryCondition.ipynb Step 2 for details\n",
    "    def __init__(self, fd_order=2, vars_at_inf_default = 0., vars_radial_falloff_power_default = 3., vars_speed_default = 1.):\n",
    "        evolved_variables_list, _, _ = gri.gridfunction_lists()\n",
    "\n",
    "        # set class finite differencing order\n",
    "        self.fd_order = fd_order\n",
    "\n",
    "        NRPy_FD_order = par.parval_from_str(\"finite_difference::FD_CENTDERIVS_ORDER\")\n",
    "\n",
    "        if NRPy_FD_order < fd_order:\n",
    "            print(\"ERROR: The global central finite differencing order within NRPy+ must be greater than or equal to the Sommerfeld boundary condition's finite differencing order\")\n",
    "            sys.exit(1)\n",
    "\n",
    "        # Define class dictionaries to store sommerfeld parameters for each EVOL gridfunction\n",
    "\n",
    "        # EVOL gridfunction asymptotic value at infinity\n",
    "        self.vars_at_infinity = {}\n",
    "\n",
    "        # EVOL gridfunction wave speed at outer boundaries\n",
    "        self.vars_speed = {}\n",
    "\n",
    "        # EVOL gridfunction radial falloff power\n",
    "        self.vars_radial_falloff_power = {}\n",
    "\n",
    "        # Set default values for each specific EVOL gridfunction\n",
    "        for gf in evolved_variables_list:\n",
    "            self.vars_at_infinity[gf.upper() + 'GF'] = vars_at_inf_default\n",
    "            self.vars_radial_falloff_power[gf.upper() + 'GF'] = vars_radial_falloff_power_default\n",
    "            self.vars_speed[gf.upper() + 'GF'] = vars_speed_default\n",
    "\n",
    "    def sommerfeld_params(self):\n",
    "        # Write parameters to C file\n",
    "\n",
    "        # Creating array for EVOL gridfunction values at infinity\n",
    "        var_at_inf_string = \"{\"\n",
    "        for _gf,val in self.vars_at_infinity.items():\n",
    "            var_at_inf_string += str(val) + \", \"\n",
    "        var_at_inf_string = var_at_inf_string[:-2] + \"};\"\n",
    "\n",
    "        # Creating array for EVOL gridfunction values of radial falloff power\n",
    "        vars_radial_falloff_power_string = \"{\"\n",
    "        for _gf,val in self.vars_radial_falloff_power.items():\n",
    "            vars_radial_falloff_power_string += str(val) + \", \"\n",
    "        vars_radial_falloff_power_string = vars_radial_falloff_power_string[:-2] + \"};\"\n",
    "\n",
    "        # Creating array for EVOL gridfunction values of wave speed at outer boundaries\n",
    "        var_speed_string = \"{\"\n",
    "        for _gf,val in self.vars_speed.items():\n",
    "            var_speed_string += str(val) + \", \"\n",
    "        var_speed_string = var_speed_string[:-2] + \"};\"\n",
    "\n",
    "        # Writing to values to sommerfeld_params.h file\n",
    "        out_str = \"\"\"\n",
    "// Sommerfeld EVOL grid function parameters\n",
    "const REAL evolgf_at_inf[NUM_EVOL_GFS] = \"\"\"+var_at_inf_string+\"\"\"\n",
    "const REAL evolgf_radial_falloff_power[NUM_EVOL_GFS] = \"\"\"+vars_radial_falloff_power_string+\"\"\"\n",
    "const REAL evolgf_speed[NUM_EVOL_GFS] = \"\"\"+var_speed_string+\"\"\"\n",
    "\"\"\"\n",
    "        return out_str"
   ]
  },
  {
   "cell_type": "markdown",
   "metadata": {},
   "source": [
    "<a id='partial_rf'></a>\n",
    "\n",
    "## Step 3.b: Calculate $\\partial_r f$ \\[Back to [top](#toc)\\]\n",
    "$$\\label{partial_rf}$$\n",
    "\n",
    "Next we generate the C code for calculating $\\partial_r f$ for each dynamical variable $f$ in our coordinate system of choice."
   ]
  },
  {
   "cell_type": "code",
   "execution_count": 3,
   "metadata": {
    "execution": {
     "iopub.execute_input": "2021-03-07T17:25:10.295161Z",
     "iopub.status.busy": "2021-03-07T17:25:10.294396Z",
     "iopub.status.idle": "2021-03-07T17:25:10.297949Z",
     "shell.execute_reply": "2021-03-07T17:25:10.297442Z"
    }
   },
   "outputs": [
    {
     "name": "stdout",
     "output_type": "stream",
     "text": [
      "Appending to SommerfeldBoundaryCondition_Validate/Sommerfeld.py\n"
     ]
    }
   ],
   "source": [
    "%%writefile -a $Ccodesdir/Sommerfeld.py\n",
    "\n",
    "    @staticmethod\n",
    "    def dfdr_function(fd_order):\n",
    "        # function to write c code to calculate dfdr term in Sommerfeld boundary condition\n",
    "\n",
    "        # Read what # of dimensions being used\n",
    "        DIM = par.parval_from_str(\"grid::DIM\")\n",
    "\n",
    "        # Set up the chosen reference metric from chosen coordinate system, set within NRPy+\n",
    "        CoordSystem = par.parval_from_str(\"reference_metric::CoordSystem\")\n",
    "        rfm.reference_metric()\n",
    "\n",
    "        # Simplifying the results make them easier to interpret.\n",
    "        do_simplify = True\n",
    "        if \"Sinh\" in CoordSystem:\n",
    "            # Simplification takes too long on Sinh* coordinate systems\n",
    "            do_simplify = False\n",
    "\n",
    "        # Construct Jacobian matrix, output Jac_dUSph_dDrfmUD[i][j] = \\partial x_{Sph}^i / \\partial x^j:\n",
    "        Jac_dUSph_dDrfmUD = ixp.zerorank2()\n",
    "        for i in range(3):\n",
    "            for j in range(3):\n",
    "                Jac_dUSph_dDrfmUD[i][j] = sp.diff(rfm.xxSph[i],rfm.xx[j])\n",
    "\n",
    "        # Invert Jacobian matrix, output to Jac_dUrfm_dDSphUD.\n",
    "        Jac_dUrfm_dDSphUD, dummyDET = ixp.generic_matrix_inverter3x3(Jac_dUSph_dDrfmUD)\n",
    "\n",
    "        # Jac_dUrfm_dDSphUD[i][0] stores \\partial x^i / \\partial r\n",
    "        if do_simplify:\n",
    "            for i in range(3):\n",
    "                Jac_dUrfm_dDSphUD[i][0] = sp.simplify(Jac_dUrfm_dDSphUD[i][0])\n",
    "\n",
    "        # Declare \\partial_i f, which is actually computed later on\n",
    "        fdD = ixp.declarerank1(\"fdD\") # = [fdD0, fdD1, fdD2]\n",
    "        contraction = sp.sympify(0)\n",
    "        for i in range(3):\n",
    "            contraction += fdD[i]*Jac_dUrfm_dDSphUD[i][0]\n",
    "\n",
    "        if do_simplify:\n",
    "            contraction = sp.simplify(contraction)\n",
    "\n",
    "        r_str_and_contraction_str = outputC([rfm.xxSph[0],contraction],\n",
    "                 [\"*_r\",\"*_partial_i_f\"],filename=\"returnstring\",params=\"includebraces=False\")"
   ]
  },
  {
   "cell_type": "markdown",
   "metadata": {},
   "source": [
    "Here we generate the C code used to calculate all relevant spatial derivatives $\\partial_i f$, using second order accurate finite differences. Specifically, if our ghost zone point lies on one of the faces, on an edge or corner, we use forward or backward differences depending on the specific direction, and centered differences otherwise. Note that all derivatives along the normal of the boundary faces are forward or backward, to minimize using non-updated points in the derivative calculations.\n",
    "\n",
    "For example, consider some point with Cartesian coordinates $(i,j,k)$ on our grid, the derivative of $f$ along the $x$ direction will be the forward (backward with change of signs on coefficients)\n",
    "\n",
    "$$\n",
    "\\frac{\\partial f_{ijk}}{\\partial x} \\approx \\frac{1}{2\\Delta x} \\left( -3f_{i,j,k} + 4f_{i+1,j,k} - f_{i+2,j,k} \\right),\n",
    "$$\n",
    "\n",
    "or the centered difference approximation\n",
    "\n",
    "$$\n",
    "\\frac{\\partial f_{ijk}}{\\partial x} \\approx \\frac{1}{2\\Delta x} \\left( f_{i+1,j,k} - f_{i-1,j,k} \\right).\n",
    "$$\n",
    "\n",
    "We determine the signs of the coefficients (corresponding to using either a forward or backward difference) by determining what face the point lies within. The above is applied for all three Cartesian directions. Note the use if the `SHIFTSTENCIL` variable, which helps determine when to use forward/backward difference to take derivatives along normals to boundary faces, or when to use central differences to either take derivatives parallel to the faces or at points on edges and corners."
   ]
  },
  {
   "cell_type": "code",
   "execution_count": 4,
   "metadata": {
    "execution": {
     "iopub.execute_input": "2021-03-07T17:25:10.304732Z",
     "iopub.status.busy": "2021-03-07T17:25:10.303727Z",
     "iopub.status.idle": "2021-03-07T17:25:10.307027Z",
     "shell.execute_reply": "2021-03-07T17:25:10.307580Z"
    }
   },
   "outputs": [
    {
     "name": "stdout",
     "output_type": "stream",
     "text": [
      "Appending to SommerfeldBoundaryCondition_Validate/Sommerfeld.py\n"
     ]
    }
   ],
   "source": [
    "%%writefile -a $Ccodesdir/Sommerfeld.py\n",
    "\n",
    "\n",
    "        def gen_central_2oFD_stencil_str(intdirn):\n",
    "            if intdirn == 0:\n",
    "                return \"(gfs[IDX4S(which_gf,i0+1,i1,i2)]-gfs[IDX4S(which_gf,i0-1,i1,i2)])*0.5\"  # Does not include the 1/dx multiplication\n",
    "            if intdirn == 1:\n",
    "                return \"(gfs[IDX4S(which_gf,i0,i1+1,i2)]-gfs[IDX4S(which_gf,i0,i1-1,i2)])*0.5\"  # Does not include the 1/dy multiplication\n",
    "            return \"(gfs[IDX4S(which_gf,i0,i1,i2+1)]-gfs[IDX4S(which_gf,i0,i1,i2-1)])*0.5\"  # Does not include the 1/dz multiplication\n",
    "\n",
    "        def gen_central_4oFD_stencil_str(intdirn):\n",
    "            if intdirn == 0:\n",
    "                return \"\"\"(-c2*gfs[IDX4S(which_gf,i0+2,i1,i2)]\n",
    "                         +c1*gfs[IDX4S(which_gf,i0+1,i1,i2)]\n",
    "                         -c1*gfs[IDX4S(which_gf,i0-1,i1,i2)]\n",
    "                         +c2*gfs[IDX4S(which_gf,i0-2,i1,i2)])\"\"\"  # Does not include the 1/dx multiplication\n",
    "            if intdirn == 1:\n",
    "                return \"\"\"(-c2*gfs[IDX4S(which_gf,i0,i1+2,i2)]\n",
    "                         +c1*gfs[IDX4S(which_gf,i0,i1+1,i2)]\n",
    "                         -c1*gfs[IDX4S(which_gf,i0,i1-1,i2)]\n",
    "                         +c2*gfs[IDX4S(which_gf,i0,i1-2,i2)])\"\"\"  # Does not include the 1/dy multiplication\n",
    "            return \"\"\"(-c2*gfs[IDX4S(which_gf,i0,i1,i2+2)]\n",
    "                         +c1*gfs[IDX4S(which_gf,i0,i1,i2+1)]\n",
    "                         -c1*gfs[IDX4S(which_gf,i0,i1,i2-1)]\n",
    "                         +c2*gfs[IDX4S(which_gf,i0,i1,i2-2)])\"\"\"  # Does not include the 1/dz multiplication\n",
    "\n",
    "        def gen_central_6oFD_stencil_str(intdirn):\n",
    "            if intdirn == 0:\n",
    "                return \"\"\"( c3*gfs[IDX4S(which_gf,i0+3,i1,i2)]\n",
    "                         -c2*gfs[IDX4S(which_gf,i0+2,i1,i2)]\n",
    "                         +c1*gfs[IDX4S(which_gf,i0+1,i1,i2)]\n",
    "                         -c1*gfs[IDX4S(which_gf,i0-1,i1,i2)]\n",
    "                         +c2*gfs[IDX4S(which_gf,i0-2,i1,i2)]\n",
    "                         -c3*gfs[IDX4S(which_gf,i0-3,i1,i2)])\"\"\"  # Does not include the 1/dx multiplication\n",
    "\n",
    "            if intdirn == 1:\n",
    "                return \"\"\"( c3*gfs[IDX4S(which_gf,i0,i1+3,i2)]\n",
    "                         -c2*gfs[IDX4S(which_gf,i0,i1+2,i2)]\n",
    "                         +c1*gfs[IDX4S(which_gf,i0,i1+1,i2)]\n",
    "                         -c1*gfs[IDX4S(which_gf,i0,i1-1,i2)]\n",
    "                         +c2*gfs[IDX4S(which_gf,i0,i1-2,i2)]\n",
    "                         -c3*gfs[IDX4S(which_gf,i0,i1-3,i2)])\"\"\"  # Does not include the 1/dy multiplication\n",
    "\n",
    "            return \"\"\"( c3*gfs[IDX4S(which_gf,i0,i1,i2+3)]\n",
    "                         -c2*gfs[IDX4S(which_gf,i0,i1,i2+2)]\n",
    "                         +c1*gfs[IDX4S(which_gf,i0,i1,i2+1)]\n",
    "                         -c1*gfs[IDX4S(which_gf,i0,i1,i2-1)]\n",
    "                         +c2*gfs[IDX4S(which_gf,i0,i1,i2-2)]\n",
    "                         -c3*gfs[IDX4S(which_gf,i0,i1,i2-3)])\"\"\"  # Does not include the 1/dz multiplication\n",
    "\n",
    "        def gen_central_fd_stencil_str(intdirn, fd_order):\n",
    "            if fd_order==2:\n",
    "                return gen_central_2oFD_stencil_str(intdirn)\n",
    "            if fd_order==4:\n",
    "                return gen_central_4oFD_stencil_str(intdirn)\n",
    "            return gen_central_6oFD_stencil_str(intdirn)\n",
    "\n",
    "        def output_dfdx(intdirn, fd_order):\n",
    "            dirn = str(intdirn)\n",
    "            dirnp1 = str((intdirn+1)%3)  # if dirn='0', then we want this to be '1'; '1' then '2'; and '2' then '0'\n",
    "            dirnp2 = str((intdirn+2)%3)  # if dirn='0', then we want this to be '2'; '1' then '0'; and '2' then '1'\n",
    "\n",
    "            preface = \"\"\"\n",
    "// On a +x\"\"\"+dirn+\"\"\" or -x\"\"\"+dirn+\"\"\" face, do up/down winding as appropriate:\n",
    "if(abs(FACEXi[\"\"\"+dirn+\"\"\"])==1 || i\"\"\"+dirn+\"\"\"+NGHOSTS >= Nxx_plus_2NGHOSTS\"\"\"+dirn+\"\"\" || i\"\"\"+dirn+\"\"\"-NGHOSTS <= 0) {\n",
    "    int8_t SHIFTSTENCIL\"\"\"+dirn+\"\"\" = FACEXi[\"\"\"+dirn+\"\"\"];\n",
    "    if(i\"\"\"+dirn+\"\"\"+NGHOSTS >= Nxx_plus_2NGHOSTS\"\"\"+dirn+\"\"\") SHIFTSTENCIL\"\"\"+dirn+\"\"\" = -1;\n",
    "    if(i\"\"\"+dirn+\"\"\"-NGHOSTS <= 0)                  SHIFTSTENCIL\"\"\"+dirn+\"\"\" = +1;\n",
    "    SHIFTSTENCIL\"\"\"+dirnp1+\"\"\" = 0;\n",
    "    SHIFTSTENCIL\"\"\"+dirnp2+\"\"\" = 0;\n",
    "\"\"\"\n",
    "            if fd_order == 2:\n",
    "                return preface + \"\"\"\n",
    "\n",
    "    fdD\"\"\"+dirn+\"\"\"\n",
    "        = SHIFTSTENCIL\"\"\"+dirn+\"\"\"*(-1.5*gfs[IDX4S(which_gf,i0+0*SHIFTSTENCIL0,i1+0*SHIFTSTENCIL1,i2+0*SHIFTSTENCIL2)]\n",
    "                         +2.*gfs[IDX4S(which_gf,i0+1*SHIFTSTENCIL0,i1+1*SHIFTSTENCIL1,i2+1*SHIFTSTENCIL2)]\n",
    "                         -0.5*gfs[IDX4S(which_gf,i0+2*SHIFTSTENCIL0,i1+2*SHIFTSTENCIL1,i2+2*SHIFTSTENCIL2)]\n",
    "                        )*invdx\"\"\"+dirn+\"\"\";\n",
    "\n",
    "// Not on a +x\"\"\"+dirn+\"\"\" or -x\"\"\"+dirn+\"\"\" face, using centered difference:\n",
    "} else {\n",
    "    fdD\"\"\"+dirn+\"\"\" = \"\"\"+gen_central_fd_stencil_str(intdirn, 2)+\"\"\"*invdx\"\"\"+dirn+\"\"\";\n",
    "}\n",
    "\"\"\"\n",
    "            if fd_order == 4:\n",
    "                return preface + \"\"\"\n",
    "\n",
    "    fdD\"\"\"+dirn+\"\"\"\n",
    "        = SHIFTSTENCIL\"\"\"+dirn+\"\"\"*(u0*gfs[IDX4S(which_gf,i0+0*SHIFTSTENCIL0,i1+0*SHIFTSTENCIL1,i2+0*SHIFTSTENCIL2)]\n",
    "                         +u1*gfs[IDX4S(which_gf,i0+1*SHIFTSTENCIL0,i1+1*SHIFTSTENCIL1,i2+1*SHIFTSTENCIL2)]\n",
    "                         +u2*gfs[IDX4S(which_gf,i0+2*SHIFTSTENCIL0,i1+2*SHIFTSTENCIL1,i2+2*SHIFTSTENCIL2)]\n",
    "                         +u3*gfs[IDX4S(which_gf,i0+3*SHIFTSTENCIL0,i1+3*SHIFTSTENCIL1,i2+3*SHIFTSTENCIL2)]\n",
    "                         +u4*gfs[IDX4S(which_gf,i0+4*SHIFTSTENCIL0,i1+4*SHIFTSTENCIL1,i2+4*SHIFTSTENCIL2)]\n",
    "                        )*invdx\"\"\"+dirn+\"\"\";\n",
    "\n",
    "// Not on a +x\"\"\"+dirn+\"\"\" or -x\"\"\"+dirn+\"\"\" face, using centered difference:\n",
    "} else {\n",
    "    fdD\"\"\"+dirn+\"\"\" = \"\"\"+gen_central_fd_stencil_str(intdirn, 4)+\"\"\"*invdx\"\"\"+dirn+\"\"\";\n",
    "}\n",
    "\"\"\"\n",
    "            if fd_order == 6:\n",
    "                return preface + \"\"\"\n",
    "\n",
    "    fdD\"\"\"+dirn+\"\"\"\n",
    "        = SHIFTSTENCIL\"\"\"+dirn+\"\"\"*(u0*gfs[IDX4S(which_gf,i0+0*SHIFTSTENCIL0,i1+0*SHIFTSTENCIL1,i2+0*SHIFTSTENCIL2)]\n",
    "                         +u1*gfs[IDX4S(which_gf,i0+1*SHIFTSTENCIL0,i1+1*SHIFTSTENCIL1,i2+1*SHIFTSTENCIL2)]\n",
    "                         +u2*gfs[IDX4S(which_gf,i0+2*SHIFTSTENCIL0,i1+2*SHIFTSTENCIL1,i2+2*SHIFTSTENCIL2)]\n",
    "                         +u3*gfs[IDX4S(which_gf,i0+3*SHIFTSTENCIL0,i1+3*SHIFTSTENCIL1,i2+3*SHIFTSTENCIL2)]\n",
    "                         +u4*gfs[IDX4S(which_gf,i0+4*SHIFTSTENCIL0,i1+4*SHIFTSTENCIL1,i2+4*SHIFTSTENCIL2)]\n",
    "                         +u5*gfs[IDX4S(which_gf,i0+5*SHIFTSTENCIL0,i1+5*SHIFTSTENCIL1,i2+5*SHIFTSTENCIL2)]\n",
    "                         +u6*gfs[IDX4S(which_gf,i0+6*SHIFTSTENCIL0,i1+6*SHIFTSTENCIL1,i2+6*SHIFTSTENCIL2)]\n",
    "                        )*invdx\"\"\"+dirn+\"\"\";\n",
    "\n",
    "// Not on a +x\"\"\"+dirn+\"\"\" or -x\"\"\"+dirn+\"\"\" face, using centered difference:\n",
    "} else {\n",
    "    fdD\"\"\"+dirn+\"\"\" = \"\"\"+gen_central_fd_stencil_str(intdirn, 6)+\"\"\"*invdx\"\"\"+dirn+\"\"\";\n",
    "}\n",
    "\"\"\"\n",
    "\n",
    "            print(\"Error: fd_order = \"+str(fd_order)+\" currently unsupported.\")\n",
    "            sys.exit(1)\n",
    "\n",
    "        contraction_term_func = \"\"\"\n",
    "\n",
    "// Function to calculate the radial derivative of a grid function\n",
    "void contraction_term(const paramstruct *restrict params, const int which_gf, const REAL *restrict gfs, REAL *restrict xx[3],\n",
    "           const int8_t FACEXi[3], const int i0, const int i1, const int i2, REAL *restrict _r, REAL *restrict _partial_i_f) {\n",
    "\n",
    "#include \"RELATIVE_PATH__set_Cparameters.h\" /* Header file containing correct #include for set_Cparameters.h;\n",
    "                                             * accounting for the relative path */\n",
    "\n",
    "// Initialize derivatives to crazy values, to ensure that\n",
    "//   we will notice in case they aren't set properly.\n",
    "REAL fdD0=1e100;\n",
    "REAL fdD1=1e100;\n",
    "REAL fdD2=1e100;\n",
    "\n",
    "REAL xx0 = xx[0][i0];\n",
    "REAL xx1 = xx[1][i1];\n",
    "REAL xx2 = xx[2][i2];\n",
    "\n",
    "int8_t SHIFTSTENCIL0;\n",
    "int8_t SHIFTSTENCIL1;\n",
    "int8_t SHIFTSTENCIL2;\n",
    "\n",
    "\"\"\"\n",
    "        if fd_order == 4:\n",
    "            contraction_term_func +=\"\"\"\n",
    "// forward/backward finite difference coefficients\n",
    "const REAL u0 =-25./12.;\n",
    "const REAL u1 = 4.;\n",
    "const REAL u2 = -3.;\n",
    "const REAL u3 = 4./3.;\n",
    "const REAL u4 = -1./4.;\n",
    "\n",
    "// central finite difference coefficients\n",
    "const REAL c1 = 2./3.;\n",
    "const REAL c2 = 1./12.;\n",
    "\n",
    "\"\"\"\n",
    "        if fd_order == 6:\n",
    "            contraction_term_func +=\"\"\"\n",
    "// forward/backward finite difference coefficients\n",
    "const REAL u0 = -49./20.;\n",
    "const REAL u1 =  6.;\n",
    "const REAL u2 = -15./2.;\n",
    "const REAL u3 =  20./3.;\n",
    "const REAL u4 = -15./4.;\n",
    "const REAL u5 =  6./5.;\n",
    "const REAL u6 = -1./6.;\n",
    "\n",
    "// central finite difference coefficients\n",
    "const REAL c1 = 3./4.;\n",
    "const REAL c2 = 3./20.;\n",
    "const REAL c3 = 1./60;\n",
    "\n",
    "\"\"\"\n",
    "        for i in range(DIM):\n",
    "            if \"fdD\"+str(i) in r_str_and_contraction_str:\n",
    "                contraction_term_func += output_dfdx(i, fd_order)\n",
    "\n",
    "        contraction_term_func += \"\\n\" + r_str_and_contraction_str\n",
    "\n",
    "        contraction_term_func +=\"\"\"\n",
    "} // END contraction_term function\n",
    "\"\"\"\n",
    "        return contraction_term_func"
   ]
  },
  {
   "cell_type": "markdown",
   "metadata": {},
   "source": [
    "<a id='cfunc'></a>\n",
    "\n",
    "## Step 3.c: `apply_bcs_sommerfeld()` C function \\[Back to [top](#toc)\\]\n",
    "$$\\label{cfunc}$$\n",
    "\n",
    "Here, we build up the main C code and define the function `apply_bcs_sommerfeld()` to be used by NRPy's MoL time stepping algorithm.\n"
   ]
  },
  {
   "cell_type": "code",
   "execution_count": 5,
   "metadata": {
    "execution": {
     "iopub.execute_input": "2021-03-07T17:25:10.314413Z",
     "iopub.status.busy": "2021-03-07T17:25:10.313339Z",
     "iopub.status.idle": "2021-03-07T17:25:10.316912Z",
     "shell.execute_reply": "2021-03-07T17:25:10.317539Z"
    }
   },
   "outputs": [
    {
     "name": "stdout",
     "output_type": "stream",
     "text": [
      "Appending to SommerfeldBoundaryCondition_Validate/Sommerfeld.py\n"
     ]
    }
   ],
   "source": [
    "%%writefile -a $Ccodesdir/Sommerfeld.py\n",
    "\n",
    "    def write_sommerfeld_main_Ccode(self, Ccodesdir):\n",
    "        main_Ccode = \"\"\"\n",
    "// Boundary condition driver routine: Apply BCs to all\n",
    "// boundary faces of the 3D numerical domain, filling in the\n",
    "// outer boundary ghost zone layers, starting with the innermost\n",
    "// layer and working outward.\n",
    "\"\"\"\n",
    "        main_Ccode += self.sommerfeld_params()\n",
    "        main_Ccode += self.dfdr_function(self.fd_order)\n",
    "\n",
    "        main_Ccode += \"\"\"\n",
    "void apply_bcs_sommerfeld(const paramstruct *restrict params, REAL *restrict xx[3],\n",
    "                          const bc_struct *restrict bcstruct, const int NUM_GFS,\n",
    "                          const int8_t *restrict gfs_parity, REAL *restrict gfs,\n",
    "                          REAL *restrict rhs_gfs) {\n",
    "\n",
    "    #pragma omp parallel for\n",
    "        for(int which_gf=0;which_gf<NUM_GFS;which_gf++) {\n",
    "          const REAL char_speed             = evolgf_speed[which_gf];\n",
    "          const REAL var_at_infinity        = evolgf_at_inf[which_gf];\n",
    "          const REAL radial_falloff_power = evolgf_radial_falloff_power[which_gf];\n",
    "\n",
    "\n",
    "          #include \"RELATIVE_PATH__set_Cparameters.h\" /* Header file containing correct #include for set_Cparameters.h;\n",
    "                                                       * accounting for the relative path */\n",
    "\n",
    "\n",
    "            for(int which_gz = 0; which_gz < NGHOSTS; which_gz++) {\n",
    "                for(int pt=0;pt<bcstruct->num_ob_gz_pts[which_gz];pt++) {\n",
    "                    const int i0 = bcstruct->outer[which_gz][pt].outer_bc_dest_pt.i0;\n",
    "                    const int i1 = bcstruct->outer[which_gz][pt].outer_bc_dest_pt.i1;\n",
    "                    const int i2 = bcstruct->outer[which_gz][pt].outer_bc_dest_pt.i2;\n",
    "                    const int8_t FACEX0 = bcstruct->outer[which_gz][pt].FACEi0;\n",
    "                    const int8_t FACEX1 = bcstruct->outer[which_gz][pt].FACEi1;\n",
    "                    const int8_t FACEX2 = bcstruct->outer[which_gz][pt].FACEi2;\n",
    "\n",
    "                    const int8_t FACEXi[3] = {FACEX0, FACEX1, FACEX2};\n",
    "\n",
    "                    // Initialize derivatives to crazy values, to ensure that\n",
    "                    //   we will notice in case they aren't set properly.\n",
    "                    REAL r = 1e100;\n",
    "                    REAL partial_i_f = 1e100;"
   ]
  },
  {
   "cell_type": "markdown",
   "metadata": {},
   "source": [
    "Finally, we calculate $\\frac{df}{dt}$ without the $\\frac{k}{r^{n+1}}$ term;\n",
    "\n",
    "$$\n",
    "\\frac{\\partial f}{\\partial t} = -\\frac{v}{r(x^i)} \\left[r(x^i) \\frac{\\partial x^i}{\\partial r} \\partial_i f + (f - f_0)\\right].\n",
    "$$"
   ]
  },
  {
   "cell_type": "code",
   "execution_count": 6,
   "metadata": {
    "execution": {
     "iopub.execute_input": "2021-03-07T17:25:10.323755Z",
     "iopub.status.busy": "2021-03-07T17:25:10.322733Z",
     "iopub.status.idle": "2021-03-07T17:25:10.326029Z",
     "shell.execute_reply": "2021-03-07T17:25:10.326596Z"
    }
   },
   "outputs": [
    {
     "name": "stdout",
     "output_type": "stream",
     "text": [
      "Appending to SommerfeldBoundaryCondition_Validate/Sommerfeld.py\n"
     ]
    }
   ],
   "source": [
    "%%writefile -a $Ccodesdir/Sommerfeld.py\n",
    "\n",
    "                    contraction_term(params, which_gf, gfs, xx, FACEXi, i0, i1, i2, &r, &partial_i_f);\n",
    "\n",
    "                    const REAL invr = 1./r;\n",
    "\n",
    "                    const REAL source_rhs = -char_speed*(partial_i_f + invr*(gfs[IDX4S(which_gf,i0,i1,i2)] - var_at_infinity));\n",
    "                    rhs_gfs[IDX4S(which_gf,i0,i1,i2)] = source_rhs;"
   ]
  },
  {
   "cell_type": "markdown",
   "metadata": {},
   "source": [
    "<a id='k'></a>\n",
    "\n",
    "## Step 3.d: Solving for $k$ \\[Back to [top](#toc)\\]\n",
    "$$\\label{k}$$\n",
    "\n",
    " Here we formulate a way to approximate $k$. If our solution satisfies the advection equation both at the ghost zones and at interior points close to the boundaries, then we may find $k$ by determining the portion of $f$ that is not accounted for by the equation\n",
    "\n",
    "$$\n",
    "\\frac{\\partial f}{\\partial t} = \\left[\\frac{\\partial f}{\\partial t} \\right]_{adv} = -\\frac{v}{r(x^i)} \\left[r(x^i) \\frac{\\partial x^i}{\\partial r} \\partial_i f + (f - f_0)\\right].\n",
    "$$\n",
    "\n",
    "The above is the advection equation we arrive at assuming $f$ behaves purely as an outgoing spherical wave. For an interior point directly adjacent to a ghost zone point, $f$ must satisfy **both** the time evolution equation for prescribed points within the interior, $\\left[\\frac{\\partial f}{\\partial t} \\right]_{evol}$, and the advection equation $\\left[\\frac{\\partial f}{\\partial t} \\right]_{adv}$. We then find the difference as\n",
    "\n",
    "$$\n",
    "\\delta = \\left[\\frac{\\partial f}{\\partial t} \\right]_{evol} - \\left[\\frac{\\partial f}{\\partial t} \\right]_{adv} = \\frac{k}{r^{n+1}},\n",
    "$$\n",
    "\n",
    "i.e. $\\delta$ represents the numerical departure from the expected purely wave-like behavior at that point. We solve for $\\delta$ at this interior point and express $k$ as \n",
    "\n",
    "$$\n",
    "k = \\delta r^{n+1}_{int}.\n",
    "$$\n",
    "\n",
    "Thus, the $\\frac{k}{r^{n+1}}$ term for the associated ghost zone point may be expressed as\n",
    "\n",
    "$$\n",
    "\\frac{k}{r^{n+1}_{gz}} = \\delta \\left( \\frac{r_{int}}{r_{gz}} \\right) ^{n+1}.\n",
    "$$\n",
    "\n",
    "We approximate $k$ in this fashion using the code below. Note that we activate this term only when *radial_falloff_power* > 0, which set to 3 by default."
   ]
  },
  {
   "cell_type": "code",
   "execution_count": 7,
   "metadata": {
    "execution": {
     "iopub.execute_input": "2021-03-07T17:25:10.332420Z",
     "iopub.status.busy": "2021-03-07T17:25:10.331555Z",
     "iopub.status.idle": "2021-03-07T17:25:10.335484Z",
     "shell.execute_reply": "2021-03-07T17:25:10.336108Z"
    }
   },
   "outputs": [
    {
     "name": "stdout",
     "output_type": "stream",
     "text": [
      "Appending to SommerfeldBoundaryCondition_Validate/Sommerfeld.py\n"
     ]
    }
   ],
   "source": [
    "%%writefile -a $Ccodesdir/Sommerfeld.py\n",
    "\n",
    "                    /************* For radial falloff and the extrapolated k term *************/\n",
    "                    if (radial_falloff_power > 0) {\n",
    "\n",
    "                      // Move one point away from gz point to compare pure advection to df/dt|interior\n",
    "\n",
    "                      const int i0_offset = i0+FACEX0;\n",
    "                      const int i1_offset = i1+FACEX1;\n",
    "                      const int i2_offset = i2+FACEX2;\n",
    "\n",
    "                      // Initialize derivatives to crazy values, to ensure that\n",
    "                      //   we will notice in case they aren't set properly.\n",
    "                      REAL r_offset = 1e100;\n",
    "                      REAL partial_i_f_offset = 1e100;\n",
    "\n",
    "                      contraction_term(params, which_gf, gfs, xx, FACEXi, i0_offset, i1_offset, i2_offset, &r_offset, &partial_i_f_offset);\n",
    "\n",
    "                      const REAL invr_offset = 1./r_offset;\n",
    "\n",
    "                      // Pure advection: [FIXME: Add equation (appearing in Jupyter notebook documentation)]\n",
    "                      const REAL extrap_rhs = char_speed*(partial_i_f_offset + invr_offset*(gfs[IDX4S(which_gf,i0_offset,i1_offset,i2_offset)] - var_at_infinity));\n",
    "\n",
    "                      // Take difference between pure advection and df/dt|interior\n",
    "                      const REAL diff_between_advection_and_f_rhs =\n",
    "                          rhs_gfs[IDX4S(which_gf,i0_offset,i1_offset,i2_offset)] + extrap_rhs;\n",
    "\n",
    "                      // Solve for k/(r_gz)^n+1 term\n",
    "                      rhs_gfs[IDX4S(which_gf,i0,i1,i2)] += diff_between_advection_and_f_rhs*pow(r_offset*invr,radial_falloff_power);\n",
    "\n",
    "                  }\n",
    "                } // END for(int pt=0;pt<num_ob_gz_pts[which_gz];pt++)"
   ]
  },
  {
   "cell_type": "markdown",
   "metadata": {},
   "source": [
    "<a id='innerbcs'></a>\n",
    "\n",
    "## Step 3.e: Inner Boundary Conditions \\[Back to [top](#toc)\\]\n",
    "$$\\label{innerbcs}$$\n",
    "\n",
    "Finally, we apply parity conditions for inner boundary conditions. Since the Sommerfeld boundary condition treats the right hand sides, these data are thus copied over to the right hand sides of points in the inner boundaries, according to appropriate parity conditions. For a detailed discussion on inner boundaries and parity conditions, see [Tutorial-Start_to_Finish-Curvilinear_BCs](Tutorial-Start_to_Finish-Curvilinear_BCs.ipynb)."
   ]
  },
  {
   "cell_type": "code",
   "execution_count": 8,
   "metadata": {
    "execution": {
     "iopub.execute_input": "2021-03-07T17:25:10.343105Z",
     "iopub.status.busy": "2021-03-07T17:25:10.342062Z",
     "iopub.status.idle": "2021-03-07T17:25:10.346030Z",
     "shell.execute_reply": "2021-03-07T17:25:10.346740Z"
    }
   },
   "outputs": [
    {
     "name": "stdout",
     "output_type": "stream",
     "text": [
      "Appending to SommerfeldBoundaryCondition_Validate/Sommerfeld.py\n"
     ]
    }
   ],
   "source": [
    "%%writefile -a $Ccodesdir/Sommerfeld.py\n",
    "\n",
    "            // Apply INNER (parity) boundary conditions:\n",
    "                for(int pt=0;pt<bcstruct->num_ib_gz_pts[which_gz];pt++) {\n",
    "                    const int i0dest = bcstruct->inner[which_gz][pt].inner_bc_dest_pt.i0;\n",
    "                    const int i1dest = bcstruct->inner[which_gz][pt].inner_bc_dest_pt.i1;\n",
    "                    const int i2dest = bcstruct->inner[which_gz][pt].inner_bc_dest_pt.i2;\n",
    "                    const int i0src  = bcstruct->inner[which_gz][pt].inner_bc_src_pt.i0;\n",
    "                    const int i1src  = bcstruct->inner[which_gz][pt].inner_bc_src_pt.i1;\n",
    "                    const int i2src  = bcstruct->inner[which_gz][pt].inner_bc_src_pt.i2;\n",
    "\n",
    "                    rhs_gfs[IDX4S(which_gf,i0dest,i1dest,i2dest)] =\n",
    "                            bcstruct->inner[which_gz][pt].parity[gfs_parity[which_gf]] * rhs_gfs[IDX4S(which_gf, i0src,i1src,i2src)];\n",
    "            } // END for(int pt=0;pt<num_ib_gz_pts[which_gz];pt++)\n",
    "        } // END for(int which_gz = 0; which_gz < NGHOSTS; which_gz++)\n",
    "    } // END for(int which_gf=0;which_gf<NUM_GFS;which_gf++)\n",
    "} // END function\n",
    "\"\"\""
   ]
  },
  {
   "cell_type": "markdown",
   "metadata": {},
   "source": [
    "Here we write the entire function to a C file."
   ]
  },
  {
   "cell_type": "code",
   "execution_count": 9,
   "metadata": {
    "execution": {
     "iopub.execute_input": "2021-03-07T17:25:10.354038Z",
     "iopub.status.busy": "2021-03-07T17:25:10.352880Z",
     "iopub.status.idle": "2021-03-07T17:25:10.356542Z",
     "shell.execute_reply": "2021-03-07T17:25:10.357109Z"
    }
   },
   "outputs": [
    {
     "name": "stdout",
     "output_type": "stream",
     "text": [
      "Appending to SommerfeldBoundaryCondition_Validate/Sommerfeld.py\n"
     ]
    }
   ],
   "source": [
    "%%writefile -a $Ccodesdir/Sommerfeld.py\n",
    "        with open(os.path.join(Ccodesdir,\"boundary_conditions/apply_bcs_sommerfeld.h\"),\"w\") as file:\n",
    "            file.write(main_Ccode)\n",
    "\n",
    "    def write_sommerfeld_file(self, Ccodesdir):\n",
    "        self.write_sommerfeld_main_Ccode(Ccodesdir)\n",
    "        print(\"\"\"\\nSuccessfully generated Sommerfeld boundary condition C code\"\"\")\n"
   ]
  },
  {
   "cell_type": "markdown",
   "metadata": {},
   "source": [
    "<a id='py_validate'></a>\n",
    "\n",
    "# Step 4: Python file validation \\[Back to [top](#toc)\\]\n",
    "$$\\label{py_validate}$$\n",
    "\n",
    "Here we validate the python code generated by this notebook, [SommerfeldBoundaryCondition_Validate/Sommerfeld.py](../edit/SommerfeldBoundaryCondition_Validate/Sommerfeld.py), against the trusted code in [CurviBoundaryConditions/CurviBoundaryConditions.py](../edit/CurviBoundaryConditions/CurviBoundaryConditions.py) line by line. Passing corresponds to complete agreement between the files.\n",
    "\n",
    "Note that there is more content [CurviBoundaryConditions/CurviBoundaryConditions.py](../edit/CurviBoundaryConditions/CurviBoundaryConditions.py) relating to more than just the Sommerfeld boundary condition, so we start the comparison where the Sommerfeld code begins."
   ]
  },
  {
   "cell_type": "code",
   "execution_count": 10,
   "metadata": {
    "execution": {
     "iopub.execute_input": "2021-03-07T17:25:10.367825Z",
     "iopub.status.busy": "2021-03-07T17:25:10.366870Z",
     "iopub.status.idle": "2021-03-07T17:25:10.372301Z",
     "shell.execute_reply": "2021-03-07T17:25:10.371763Z"
    }
   },
   "outputs": [
    {
     "name": "stdout",
     "output_type": "stream",
     "text": [
      "PASSED: SommerfeldBoundaryCondition_Validate/Sommerfeld.py matches trusted version\n"
     ]
    }
   ],
   "source": [
    "# Then compare all files generated by this notebook\n",
    "#      (output moved in previous code cell to validate/)\n",
    "#      and the separate Python module (output to Baikal\n",
    "#      and BaikalVacuum).\n",
    "import difflib\n",
    "\n",
    "def compare_two_files(filepath1,filepath2, file1_idx1=None):\n",
    "\n",
    "    with open(filepath1) as file1, open(filepath2) as file2:\n",
    "        # Read the lines of each file\n",
    "        file1_lines = file1.readlines()\n",
    "        file2_lines = file2.readlines()\n",
    "\n",
    "        if file1_idx1!=None:\n",
    "            file1_lines = file1_lines[file1_idx1:]\n",
    "#         print(file1_lines)\n",
    "\n",
    "        num_diffs = 0\n",
    "        file1_lines_noleadingwhitespace = []\n",
    "        for line in file1_lines:\n",
    "            if line.strip() == \"\": # If the line contains only whitespace, remove all leading whitespace\n",
    "                file1_lines_noleadingwhitespace.append(line.lstrip())\n",
    "            else:\n",
    "                file1_lines_noleadingwhitespace.append(line)\n",
    "        file2_lines_noleadingwhitespace = []\n",
    "        for line in file2_lines:\n",
    "            if line.strip() == \"\": # If the line contains only whitespace, remove all leading whitespace\n",
    "                file2_lines_noleadingwhitespace.append(line.lstrip())\n",
    "            else:\n",
    "                file2_lines_noleadingwhitespace.append(line)\n",
    "        for line in difflib.unified_diff(file1_lines_noleadingwhitespace, file2_lines_noleadingwhitespace,\n",
    "                                         fromfile=filepath1,\n",
    "                                         tofile  =filepath2):\n",
    "            sys.stdout.writelines(line)\n",
    "            num_diffs = num_diffs + 1\n",
    "        if num_diffs == 0:\n",
    "            print(\"PASSED: \"+filepath2+\" matches trusted version\")\n",
    "        else:\n",
    "            print(\"FAILED (see diff above): \"+filepath2+\" does NOT match trusted version\")\n",
    "\n",
    "import os\n",
    "\n",
    "notebook_cfile = 'SommerfeldBoundaryCondition_Validate/Sommerfeld.py'\n",
    "nrpy_cfile = 'CurviBoundaryConditions/CurviBoundaryConditions.py'\n",
    "\n",
    "idx1=258\n",
    "compare_two_files(nrpy_cfile, notebook_cfile, idx1)\n"
   ]
  },
  {
   "cell_type": "markdown",
   "metadata": {},
   "source": [
    "<a id='interface'></a>\n",
    "\n",
    "# Step 5: NRPy+ Interface for Applying Sommerfeld Boundary Conditions \\[Back to [top](#toc)\\]\n",
    "$$\\label{interface}$$\n",
    "\n",
    "To apply the Sommerfeld boundary condition to any given grid function, its wave speed at the boundaries, asymptotic value at infinity, and radial exponent of the k term (*radial_falloff_power*) must be specified. In general, a (*radial_falloff_power*) of 3 has been found to yield the best results, i.e. minimal initial transients and reflections. \n",
    "\n",
    "Here we showcase the features of the NRPy+ interface for implementing this boundary condition and defining these values. The interface is a python class structure that allows the user to specify default values for each grid function, which may then be changed. This may be useful when the user wants to define the default values for several grid functions but wishes to specifically alter few others.\n",
    "\n",
    "To begin, we define our global NRPy finite differencing order and our coordinate system of choice. Our Sommerfeld boundary condition driver check that the finite differencing chosen for the driver is less than or equal to the global finite differencing order.\n"
   ]
  },
  {
   "cell_type": "code",
   "execution_count": 11,
   "metadata": {
    "execution": {
     "iopub.execute_input": "2021-03-07T17:25:10.377114Z",
     "iopub.status.busy": "2021-03-07T17:25:10.376412Z",
     "iopub.status.idle": "2021-03-07T17:25:10.380509Z",
     "shell.execute_reply": "2021-03-07T17:25:10.381039Z"
    }
   },
   "outputs": [],
   "source": [
    "import finite_difference as fin       # NRPy+: Finite difference C code generation module\n",
    "FD_order = 6\n",
    "par.set_parval_from_str(\"finite_difference::FD_CENTDERIVS_ORDER\",FD_order)\n",
    "\n",
    "# Set the coordinate system for the numerical grid\n",
    "# Choices are: Spherical, SinhSpherical, SinhSphericalv2, Cylindrical, SinhCylindrical,\n",
    "#              SymTP, SinhSymTP\n",
    "CoordSystem     = \"Spherical\"\n",
    "par.set_parval_from_str(\"reference_metric::CoordSystem\",CoordSystem)"
   ]
  },
  {
   "cell_type": "markdown",
   "metadata": {},
   "source": [
    "Next, let's define a few grid functions. Note that the boundary condition should be used only for variables defined in three spatial dimensions."
   ]
  },
  {
   "cell_type": "code",
   "execution_count": 12,
   "metadata": {
    "execution": {
     "iopub.execute_input": "2021-03-07T17:25:10.386405Z",
     "iopub.status.busy": "2021-03-07T17:25:10.385749Z",
     "iopub.status.idle": "2021-03-07T17:25:10.388161Z",
     "shell.execute_reply": "2021-03-07T17:25:10.388804Z"
    }
   },
   "outputs": [],
   "source": [
    "# Step P3: Defining a couple of grid functions\n",
    "uu, vv, ww, xx, yy, zz, = gri.register_gridfunctions(\"EVOL\",[\"uu\",\"vv\",\"ww\",\"xx\",\"yy\",\"zz\"])\n"
   ]
  },
  {
   "cell_type": "markdown",
   "metadata": {},
   "source": [
    "NRPy+ can now access these grid function names, and will store default values for the boundary condition. First we import `CurviBoundaryConditions.CurviBoundaryConditions`, and define a class instance _bcs_ using `sommerfeld_boundary_condition_class`.\n"
   ]
  },
  {
   "cell_type": "code",
   "execution_count": 13,
   "metadata": {
    "execution": {
     "iopub.execute_input": "2021-03-07T17:25:10.395853Z",
     "iopub.status.busy": "2021-03-07T17:25:10.395072Z",
     "iopub.status.idle": "2021-03-07T17:25:11.047145Z",
     "shell.execute_reply": "2021-03-07T17:25:11.047650Z"
    }
   },
   "outputs": [
    {
     "name": "stdout",
     "output_type": "stream",
     "text": [
      "Wrote to file \"SommerfeldBoundaryCondition_Validate/boundary_conditions/parity_conditions_symbolic_dot_products.h\"\n",
      "Evolved parity: ( uu:0, vv:0, ww:0, xx:0, yy:0, zz:0 )\n",
      "\n",
      "\n",
      "Wrote to file \"SommerfeldBoundaryCondition_Validate/boundary_conditions/EigenCoord_Cart_to_xx.h\"\n",
      "\n",
      "Successfully generated Sommerfeld boundary condition C code\n"
     ]
    }
   ],
   "source": [
    "import CurviBoundaryConditions.CurviBoundaryConditions as cbcs\n",
    "cbcs.Set_up_CurviBoundaryConditions(os.path.join(Ccodesdir,\"boundary_conditions/\"),\n",
    "                    Cparamspath=os.path.join(\"../\"), BoundaryCondition='Sommerfeld')\n",
    "\n",
    "bcs = cbcs.sommerfeld_boundary_condition_class(fd_order=4,\n",
    "                                             vars_radial_falloff_power_default=3,\n",
    "                                             vars_speed_default=1.,\n",
    "                                             vars_at_inf_default=1.)\n",
    "# bcs.vars_radpower.items()\n",
    "bcs.vars_at_infinity['VVGF'] = 0.0\n",
    "bcs.write_sommerfeld_file(Ccodesdir)"
   ]
  },
  {
   "cell_type": "markdown",
   "metadata": {},
   "source": [
    "Using the instance _bcs_ we may change these default values using the grid function names, since NRPy+ stores these values in python dictionaries. We then print out the contents of the dictionaries."
   ]
  },
  {
   "cell_type": "code",
   "execution_count": 14,
   "metadata": {
    "execution": {
     "iopub.execute_input": "2021-03-07T17:25:11.054428Z",
     "iopub.status.busy": "2021-03-07T17:25:11.053352Z",
     "iopub.status.idle": "2021-03-07T17:25:11.057147Z",
     "shell.execute_reply": "2021-03-07T17:25:11.057760Z"
    }
   },
   "outputs": [
    {
     "name": "stdout",
     "output_type": "stream",
     "text": [
      "GF values at infinity = dict_items([('UUGF', 5.0), ('VVGF', 0.0), ('WWGF', 1.0), ('XXGF', 1.0), ('YYGF', 1.0), ('ZZGF', 4.0)])\n",
      "GF speeds =  dict_items([('UUGF', 0.5), ('VVGF', 1.0), ('WWGF', 1.0), ('XXGF', 1.0), ('YYGF', 1.0), ('ZZGF', 1.4142135623730951)])\n",
      "GF radial powers =  dict_items([('UUGF', 3), ('VVGF', 3), ('WWGF', 3), ('XXGF', 3), ('YYGF', 3), ('ZZGF', 3)])\n"
     ]
    }
   ],
   "source": [
    "# Changing values for uu\n",
    "bcs.vars_at_infinity['UUGF'] = 5.\n",
    "bcs.vars_speed['UUGF']       = 0.5\n",
    "\n",
    "# Changing values for zz\n",
    "bcs.vars_at_infinity['ZZGF'] = 4.\n",
    "bcs.vars_speed['ZZGF']       = 2.**0.5\n",
    "\n",
    "print('GF values at infinity =', bcs.vars_at_infinity.items())\n",
    "print('GF speeds = ', bcs.vars_speed.items())\n",
    "print('GF radial powers = ' ,bcs.vars_radial_falloff_power.items())"
   ]
  },
  {
   "cell_type": "markdown",
   "metadata": {},
   "source": [
    "Finally, we write these values into the `sommerfeld_params.h` file, and generate the `radial_derivative.h` file, which defines the function used to calculate the $\\partial_r f$ term, which our C code may read from later, using the function write_sommerfeld_files(), which takes the C codes directory path and finite differencing order as inputs. __Only second and fourth order finite differences are supported at this time.__"
   ]
  },
  {
   "cell_type": "markdown",
   "metadata": {},
   "source": [
    "<a id='etk_validation'></a>\n",
    "\n",
    "# Step 6: Validation against the [Einstein Toolkit's NewRad boundary condition driver](https://www.einsteintoolkit.org/EinsteinEvolve/thornguide/NewRad/documentation.html#XEinsteinEvolve_NewRad_Alcubierre:2002kk) \\[Back to [top](#toc)\\]\n",
    "$$\\label{etk_validation}$$\n",
    "\n",
    "Here we showcase some validation results of our Sommerfeld boundary condition as implemented in NRPy+ against [ETK's NewRad boundary condition driver](https://www.einsteintoolkit.org/thornguide/EinsteinEvolve/NewRad/documentation.html#XEinsteinEvolve_NewRad_Alcubierre:2002kk), storing the ETK data and subsequent plots in the [SommerfeldBoundaryCondition folder](SommerfeldBoundaryCondition). Specifically, we do so by\n",
    "\n",
    "1. Generating plane wave initial data for ETK using the [ETK_thorn-IDScalarWaveNRPy notebook](Tutorial-ETK_thorn-IDScalarWaveNRPy.ipynb), with the NRPy+ code generation documented [here](Tutorial-ScalarWave.ipynb)\n",
    "\n",
    "2. Generating the ETK evolution C codes using the [ETK_thorn-WaveToyNRPy notebook](Tutorial-ETK_thorn-WaveToyNRPy.ipynb), with the NRPy+ code generation generation also documented [here](Tutorial-ScalarWave.ipynb)\n",
    "\n",
    "3. Compare results to [Tutorial-Start_to_Finish-ScalarWaveCurvilinear](Tutorial-Start_to_Finish-ScalarWaveCurvilinear.ipynb), adding 1e-16 to the log$_{10}$(relative error) plots to avoid taking the log$_{10}$ of zero where we have perfect agreement. $t$=0.3 represents 6 time steps into the systems\n",
    "\n",
    "For both the evolution thorn and NRPy+ code we define the gridfunctions __UUGF__ and __VVGF__, use RK4 time stepping, and fourth order finite differencing. For the boundary condition parameters, we set uu_at_infinity = 2.0, vv_at_infinity = 0.0, and char_speed = 1.0, and var_radial_falloff_power = 3.0 for both evolution variables.\n",
    "\n",
    "First we show validation results for the case of a scalar wave propagating in the +x direction (initial data, documented [here](Tutorial-ScalarWave.ipynb), with kk0 = 1, kk1 = kk2 = 0), overlaying $u\\left(x, y=0,z=0,t=0.3\\right)$ from the ETK thorn and from NRPy+, and plotting the relative difference between the two.\n"
   ]
  },
  {
   "cell_type": "code",
   "execution_count": 15,
   "metadata": {
    "execution": {
     "iopub.execute_input": "2021-03-07T17:25:11.071725Z",
     "iopub.status.busy": "2021-03-07T17:25:11.063677Z",
     "iopub.status.idle": "2021-03-07T17:25:11.078345Z",
     "shell.execute_reply": "2021-03-07T17:25:11.078846Z"
    }
   },
   "outputs": [
    {
     "data": {
      "image/png": "[encoded data removed]",
      "text/plain": [
       "<IPython.core.display.Image object>"
      ]
     },
     "metadata": {
      "image/png": {
       "height": 400,
       "width": 400
      }
     },
     "output_type": "display_data"
    },
    {
     "data": {
      "image/png": "[encoded data removed]",
      "text/plain": [
       "<IPython.core.display.Image object>"
      ]
     },
     "metadata": {
      "image/png": {
       "height": 400,
       "width": 400
      }
     },
     "output_type": "display_data"
    }
   ],
   "source": [
    "from IPython.display import Image\n",
    "from IPython.display import display\n",
    "\n",
    "x_axis_plot = Image(\"SommerfeldBoundaryCondition/NRPy_vs_ETK_x-axis.png\", width=400, height=400)\n",
    "E_relx_axis_plot = Image(\"SommerfeldBoundaryCondition/E_rel_x-axis.png\", width=400, height=400)\n",
    "display(x_axis_plot,E_relx_axis_plot)"
   ]
  },
  {
   "cell_type": "markdown",
   "metadata": {},
   "source": [
    "Lastly we show validation results for the case of a scalar wave propagating along the -x, -y, +z diagonal, and taking a slice along the y-axis at x=z=0 (initial data, documented [here](Tutorial-ScalarWave.ipynb), with kk0 = -1, kk1 = -1, kk2 = 1), overlaying $u\\left(x=0, y,z=0,t=0.3\\right)$ from the ETK thorn and from NRPy+, and plotting the relative difference between the two.\n"
   ]
  },
  {
   "cell_type": "code",
   "execution_count": 16,
   "metadata": {
    "execution": {
     "iopub.execute_input": "2021-03-07T17:25:11.084152Z",
     "iopub.status.busy": "2021-03-07T17:25:11.083224Z",
     "iopub.status.idle": "2021-03-07T17:25:11.090284Z",
     "shell.execute_reply": "2021-03-07T17:25:11.090784Z"
    }
   },
   "outputs": [
    {
     "data": {
      "image/png": "[encoded data removed]",
      "text/plain": [
       "<IPython.core.display.Image object>"
      ]
     },
     "metadata": {
      "image/png": {
       "height": 400,
       "width": 400
      }
     },
     "output_type": "display_data"
    },
    {
     "data": {
      "image/png": "[encoded data removed]",
      "text/plain": [
       "<IPython.core.display.Image object>"
      ]
     },
     "metadata": {
      "image/png": {
       "height": 400,
       "width": 400
      }
     },
     "output_type": "display_data"
    }
   ],
   "source": [
    "diagonal = Image(\"SommerfeldBoundaryCondition/NRPy_vs_ETK_diagonal.png\", width=400, height=400)\n",
    "E_rel_diagonal = Image(\"SommerfeldBoundaryCondition/E_rel_diagonal.png\", width=400, height=400)\n",
    "display(diagonal, E_rel_diagonal)"
   ]
  },
  {
   "cell_type": "markdown",
   "metadata": {},
   "source": [
    "<a id='latex_pdf_output'></a>\n",
    "\n",
    "# Step 7: Output this notebook to $\\LaTeX$-formatted PDF file \\[Back to [top](#toc)\\]\n",
    "$$\\label{latex_pdf_output}$$\n",
    "\n",
    "The following code cell converts this Jupyter notebook into a proper, clickable $\\LaTeX$-formatted PDF file. After the cell is successfully run, the generated PDF may be found in the root NRPy+ tutorial directory, with filename\n",
    "[Tutorial-SommerfeldBoundaryCondition.pdf](Tutorial-SommerfeldBoundaryCondition.pdf) (Note that clicking on this link may not work; you may need to open the PDF file through another means.)"
   ]
  },
  {
   "cell_type": "code",
   "execution_count": 17,
   "metadata": {
    "execution": {
     "iopub.execute_input": "2021-03-07T17:25:11.097517Z",
     "iopub.status.busy": "2021-03-07T17:25:11.094736Z",
     "iopub.status.idle": "2021-03-07T17:25:16.392759Z",
     "shell.execute_reply": "2021-03-07T17:25:16.391877Z"
    }
   },
   "outputs": [
    {
     "name": "stdout",
     "output_type": "stream",
     "text": [
      "Created Tutorial-SommerfeldBoundaryCondition.tex, and compiled LaTeX file\n",
      "    to PDF file Tutorial-SommerfeldBoundaryCondition.pdf\n"
     ]
    }
   ],
   "source": [
    "cmd.output_Jupyter_notebook_to_LaTeXed_PDF(\"Tutorial-SommerfeldBoundaryCondition\")"
   ]
  }
 ],
 "metadata": {
  "kernelspec": {
   "display_name": "Python 3",
   "language": "python",
   "name": "python3"
  },
  "language_info": {
   "codemirror_mode": {
    "name": "ipython",
    "version": 3
   },
   "file_extension": ".py",
   "mimetype": "text/x-python",
   "name": "python",
   "nbconvert_exporter": "python",
   "pygments_lexer": "ipython3",
   "version": "3.8.5"
  }
 },
 "nbformat": 4,
 "nbformat_minor": 2
}
